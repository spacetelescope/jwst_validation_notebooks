{
 "cells": [
  {
   "cell_type": "markdown",
   "metadata": {},
   "source": [
    "# JWST Pipeline Validation Testing Notebook: MIRI LRS Slitless spectroscopy"
   ]
  },
  {
   "cell_type": "markdown",
   "metadata": {},
   "source": [
    "# Step: flat_field() in Spec2Pipeline"
   ]
  },
  {
   "cell_type": "markdown",
   "metadata": {},
   "source": [
    "**Instruments Affected**: MIRI"
   ]
  },
  {
   "cell_type": "markdown",
   "metadata": {},
   "source": [
    "# Table of Contents"
   ]
  },
  {
   "cell_type": "markdown",
   "metadata": {},
   "source": [
    " - Imports\n",
    " - Introduction\n",
    " - Run Pipeline\n",
    " - Flat Field Step Check"
   ]
  },
  {
   "cell_type": "markdown",
   "metadata": {},
   "source": [
    "# Imports"
   ]
  },
  {
   "cell_type": "markdown",
   "metadata": {},
   "source": [
    " - os for simple operating system functions\n",
    " - gwcs.wcstools for bounding box operations\n",
    " - astropy.io for opening fits files\n",
    " - inspect to get the docstring of our objects.\n",
    " - IPython.display for printing markdown output\n",
    " - jwst.datamodels for building model for JWST Pipeline\n",
    " - jwst.module.PipelineStep is the pipeline step being tested\n",
    " - matplotlib.pyplot to generate plot\n",
    " - matplotlib.patches to plot shapes\n",
    " - crds for retrieving a reference file\n",
    " - astropy.utils for Box access to data\n",
    " - glob for file searching operations"
   ]
  },
  {
   "cell_type": "code",
   "execution_count": null,
   "metadata": {},
   "outputs": [],
   "source": [
    "from astropy.io import fits\n",
    "import matplotlib.pyplot as plt\n",
    "import statistics as stat\n",
    "import numpy as np\n",
    "from jwst.pipeline import Detector1Pipeline, Spec2Pipeline, collect_pipeline_cfgs\n",
    "from jwst.pipeline import Spec2Pipeline\n",
    "from jwst.background import BackgroundStep\n",
    "from jwst.assign_wcs import AssignWcsStep\n",
    "from jwst.extract_2d import Extract2dStep\n",
    "from jwst.flatfield import FlatFieldStep\n",
    "from astropy.utils.data import download_file\n",
    "from jwst.datamodels import ImageModel, CubeModel, RampModel\n",
    "import crds\n",
    "import os\n",
    "import glob\n",
    "from jwst import datamodels"
   ]
  },
  {
   "cell_type": "markdown",
   "metadata": {},
   "source": [
    "# Introduction\n",
    "For this test we are using the flat fielding step for MIRI LRS slitless (TSO) data. For more information on the pipeline step visit the links below.\n",
    "  \n",
    "Step description: https://jwst-pipeline.readthedocs.io/en/latest/jwst/flatfield/main.html#imaging-and-non-nirspec-spectroscopic-data\n",
    "  \n",
    "Pipeline code: https://github.com/spacetelescope/jwst/tree/master/jwst/flat_field\n",
    "  \n",
    "## Defining Terms\n",
    "\n",
    " - JWST: James Webb Space Telescope \n",
    " - MIRI: Mid-Infrared Instrument \n",
    " - LRS: Low Resolution Spectrometer"
   ]
  },
  {
   "cell_type": "markdown",
   "metadata": {},
   "source": [
    "## Retrieving data\n",
    "\n",
    "The simulated data are stored in Box and can be retrieved from there programmatically. The simulated data were generated with MIRISim v2.3.0. The observation consists of an observation of a stellar source in the slitless view. In this scenario, one exposures is executed at the center of the field of view."
   ]
  },
  {
   "cell_type": "code",
   "execution_count": null,
   "metadata": {},
   "outputs": [],
   "source": [
    "mainurl =\"https://data.science.stsci.edu/redirect/JWST/TSO/pipeline_testing_miri_LRS_tso/\"\n",
    "fname = 'pipetest_miri_lrs_tso_100G10I.fits'\n",
    "fdld = download_file(mainurl+fname)\n",
    "hdu = fits.open(fdld)\n",
    "hdu.info()\n",
    "sci_mod = RampModel(hdu)"
   ]
  },
  {
   "cell_type": "markdown",
   "metadata": {},
   "source": [
    "# Run Pipeline\n",
    "The simulated data were generated with MIRISim v2.3.0. The observation consists of an observation of a stellar source in the slitless subarray. In this scenario, one exposure is executed at the nominal pointing location.\n",
    "In the first steps we run the Detector1 pipeline, and the Spec2 pipeline steps before flat fielding.\n",
    "  \n",
    "**TO DO: data to be placed into a central location such as artifactory.**"
   ]
  },
  {
   "cell_type": "code",
   "execution_count": null,
   "metadata": {},
   "outputs": [],
   "source": [
    "if not os.path.exists('../cfg_files/'):\n",
    "    os.mkdir('../cfg_files/')\n",
    "    cfgs = collect_pipeline_cfgs.collect_pipeline_cfgs(dst='../cfg_files/')"
   ]
  },
  {
   "cell_type": "code",
   "execution_count": null,
   "metadata": {},
   "outputs": [],
   "source": [
    "# KM file location\n",
    "#det1 = Detector1Pipeline.call('slitless_sim/det_images/det_image_seq1_MIRIMAGE_P750Lexp1.fits', config_file='../cfg_files/calwebb_detector1.cfg', save_results=True)\n",
    "\n",
    "# Box file location:\n",
    "det1 = Detector1Pipeline.call(sci_mod, config_file='../cfg_files/calwebb_detector1.cfg', save_results=True)"
   ]
  },
  {
   "cell_type": "markdown",
   "metadata": {},
   "source": [
    "The ``det1`` output corresponds to the \\_rate.fits file, which has the integrations co-added. For time series observations, we proceed with the \\_rateints.fits file, in which integrations are not co-added. So we find that file and load it in for further processing."
   ]
  },
  {
   "cell_type": "code",
   "execution_count": null,
   "metadata": {},
   "outputs": [],
   "source": [
    "rifile = glob.glob('*_rateints.fits')\n",
    "print(rifile)\n",
    "\n",
    "det1_ints = datamodels.open(rifile[0])\n"
   ]
  },
  {
   "cell_type": "markdown",
   "metadata": {},
   "source": [
    "Now we run the assign_wcs(), extract2d() steps with this model. "
   ]
  },
  {
   "cell_type": "code",
   "execution_count": null,
   "metadata": {},
   "outputs": [],
   "source": [
    "awcs = AssignWcsStep.call(det1_ints, config_file='../cfg_files/assign_wcs.cfg', save_results=True)\n"
   ]
  },
  {
   "cell_type": "code",
   "execution_count": null,
   "metadata": {},
   "outputs": [],
   "source": [
    "ff = FlatFieldStep.call(awcs, config_file='../cfg_files/flat_field.cfg', save_results='True')"
   ]
  },
  {
   "cell_type": "markdown",
   "metadata": {},
   "source": [
    "# Flat Field Step Check\n",
    "Now that we have the output from the flat fielding step, we will download the reference file from crds and perform an independent check that the step is correctly executed. We'll look at 2 different integrations (not all 10), for a sanity check. These should look qualitatively the same (but different noise so won't be identical)."
   ]
  },
  {
   "cell_type": "code",
   "execution_count": null,
   "metadata": {},
   "outputs": [],
   "source": [
    "fig, ax = plt.subplots(ncols=2, nrows=1, figsize=[12,10])\n",
    "im0 = ax[0].imshow(ff.data[0,:,:], origin='lower', interpolation='None')\n",
    "ax[0].set_title('Flat fielded (INT 0)')\n",
    "\n",
    "im1 = ax[1].imshow(ff.data[4,:,:], origin='lower', interpolation='None')\n",
    "ax[1].set_title('Flat fielded (INT 5)')\n",
    "\n",
    "cbar = fig.colorbar(im1, ax=ax.ravel().tolist())\n"
   ]
  },
  {
   "cell_type": "code",
   "execution_count": null,
   "metadata": {},
   "outputs": [],
   "source": [
    "# plot the reference flat field as well as its DQ extension\n",
    "flat_reffile = ff.meta.ref_file.flat.name\n",
    "basename = crds.core.config.pop_crds_uri(flat_reffile)\n",
    "filepath = crds.locate_file(basename, \"jwst\")\n",
    "reffile =  datamodels.open(filepath)\n",
    "fig, ax = plt.subplots(nrows=1, ncols=2, figsize=[10,10])\n",
    "ax[0].imshow(reffile.dq, origin='lower', interpolation='None')\n",
    "ax[0].set_title('Flat field - DQ flags')\n",
    "ax[1].imshow(reffile.data, origin='lower', interpolation='None')\n",
    "ax[1].set_title('Flat field - SCI')\n"
   ]
  },
  {
   "cell_type": "markdown",
   "metadata": {},
   "source": [
    "The plots show some cruddy pixels at the left hand edge, but these are flagged to not be used for science. \n",
    "\n",
    "Next verify the shapes of the reference file against that of the science data to ensure they match."
   ]
  },
  {
   "cell_type": "code",
   "execution_count": null,
   "metadata": {},
   "outputs": [],
   "source": [
    "print(ff.data[0].shape)\n",
    "print(ff.data[4].shape)\n",
    "print(reffile.shape)\n",
    "\n",
    "assert ff.data[0].shape == reffile.shape and ff.data[4].shape == reffile.shape, \"Reference file shape does not match data shape\""
   ]
  },
  {
   "cell_type": "code",
   "execution_count": null,
   "metadata": {},
   "outputs": [],
   "source": [
    "manflat1 = awcs.data[0] / reffile.data\n",
    "manflat2 = awcs.data[4] / reffile.data\n"
   ]
  },
  {
   "cell_type": "code",
   "execution_count": null,
   "metadata": {},
   "outputs": [],
   "source": [
    "# flag the pixels in the flat field ref files that are \"do not use\"\n",
    "bad = reffile.dq != 0\n",
    "\n",
    "# perform a numeric check. Ignoring NaNs for now as these do not fully match:\n",
    "for i in range(np.shape(ff.data)[0]):\n",
    "    assert np.allclose(ff.data[i,:,:][~bad], (awcs.data[i,:,:]/reffile.data)[~bad], equal_nan=True), \"Pipeline calibrated file doesn't match the manual check to within tolerances\""
   ]
  },
  {
   "cell_type": "markdown",
   "metadata": {},
   "source": [
    "If all assert statements in this notebook PASS, then the test is successful.\n",
    "  \n",
    "## END\n",
    "  \n",
    "Authors: K. Murray (kmurray@stsci.edu), S. Kendrew (sarah.kendrew@esa.int) -- MIRI branch\n",
    "Date: 31 August 2020"
   ]
  },
  {
   "cell_type": "code",
   "execution_count": null,
   "metadata": {},
   "outputs": [],
   "source": []
  }
 ],
 "metadata": {
  "kernelspec": {
   "display_name": "Python 3",
   "language": "python",
   "name": "python3"
  },
  "language_info": {
   "codemirror_mode": {
    "name": "ipython",
    "version": 3
   },
   "file_extension": ".py",
   "mimetype": "text/x-python",
   "name": "python",
   "nbconvert_exporter": "python",
   "pygments_lexer": "ipython3",
   "version": "3.8.3"
  }
 },
 "nbformat": 4,
 "nbformat_minor": 4
}
