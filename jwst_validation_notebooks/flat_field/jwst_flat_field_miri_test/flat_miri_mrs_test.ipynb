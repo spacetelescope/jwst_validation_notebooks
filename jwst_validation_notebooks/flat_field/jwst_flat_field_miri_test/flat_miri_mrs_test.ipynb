{
 "cells": [
  {
   "cell_type": "markdown",
   "metadata": {},
   "source": [
    "<a id=“title_ID”></a>\n",
    "# JWST Pipeline Validation Testing Notebook: Spec2, flat_field, MIRI\n",
    "Instruments Affected: MIRI"
   ]
  },
  {
   "cell_type": "markdown",
   "metadata": {
    "toc": true
   },
   "source": [
    "<h1>Table of Contents<span class=\"tocSkip\"></span></h1>\n",
    "<div class=\"toc\"><ul class=\"toc-item\"><li><span><a href=\"#JWST-Pipeline-Validation-Testing-Notebook:-Spec2,-flat_field,-MIRI\" data-toc-modified-id=\"JWST-Pipeline-Validation-Testing-Notebook:-Spec2,-flat_field,-MIRI-1\"><span class=\"toc-item-num\">1&nbsp;&nbsp;</span>JWST Pipeline Validation Testing Notebook: Spec2, flat_field, MIRI</a></span><ul class=\"toc-item\"><li><span><a href=\"#Introduction-and-summary-of-test-being-run\" data-toc-modified-id=\"Introduction-and-summary-of-test-being-run-1.1\"><span class=\"toc-item-num\">1.1&nbsp;&nbsp;</span>Introduction and summary of test being run</a></span></li><li><span><a href=\"#Documentation\" data-toc-modified-id=\"Documentation-1.2\"><span class=\"toc-item-num\">1.2&nbsp;&nbsp;</span>Documentation</a></span></li><li><span><a href=\"#Data-used\" data-toc-modified-id=\"Data-used-1.3\"><span class=\"toc-item-num\">1.3&nbsp;&nbsp;</span>Data used</a></span><ul class=\"toc-item\"><li><span><a href=\"#Create-temporary-directory\" data-toc-modified-id=\"Create-temporary-directory-1.3.1\"><span class=\"toc-item-num\">1.3.1&nbsp;&nbsp;</span>Create temporary directory</a></span></li><li><span><a href=\"#Set-up-import-statements\" data-toc-modified-id=\"Set-up-import-statements-1.3.2\"><span class=\"toc-item-num\">1.3.2&nbsp;&nbsp;</span>Set up import statements</a></span></li><li><span><a href=\"#Print-pipeline-version-number\" data-toc-modified-id=\"Print-pipeline-version-number-1.3.3\"><span class=\"toc-item-num\">1.3.3&nbsp;&nbsp;</span>Print pipeline version number</a></span></li><li><span><a href=\"#Read-in-data-from-artifactory\" data-toc-modified-id=\"Read-in-data-from-artifactory-1.3.4\"><span class=\"toc-item-num\">1.3.4&nbsp;&nbsp;</span>Read in data from artifactory</a></span></li><li><span><a href=\"#Read-in-input-image-as-JWST-data-model\" data-toc-modified-id=\"Read-in-input-image-as-JWST-data-model-1.3.5\"><span class=\"toc-item-num\">1.3.5&nbsp;&nbsp;</span>Read in input image as JWST data model</a></span></li><li><span><a href=\"#Run-output-of-calwebb_detector1-through-calwebb_spec2\" data-toc-modified-id=\"Run-output-of-calwebb_detector1-through-calwebb_spec2-1.3.6\"><span class=\"toc-item-num\">1.3.6&nbsp;&nbsp;</span>Run output of calwebb_detector1 through calwebb_spec2</a></span></li><li><span><a href=\"#Create-image-models-of-rate-and-cal-files\" data-toc-modified-id=\"Create-image-models-of-rate-and-cal-files-1.3.7\"><span class=\"toc-item-num\">1.3.7&nbsp;&nbsp;</span>Create image models of rate and cal files</a></span></li><li><span><a href=\"#Get-flat_field-reference-file\" data-toc-modified-id=\"Get-flat_field-reference-file-1.3.8\"><span class=\"toc-item-num\">1.3.8&nbsp;&nbsp;</span>Get flat_field reference file</a></span></li><li><span><a href=\"#Create-image-lists-for-looping\" data-toc-modified-id=\"Create-image-lists-for-looping-1.3.9\"><span class=\"toc-item-num\">1.3.9&nbsp;&nbsp;</span>Create image lists for looping</a></span></li><li><span><a href=\"#Check-DQ-flagging\" data-toc-modified-id=\"Check-DQ-flagging-1.3.10\"><span class=\"toc-item-num\">1.3.10&nbsp;&nbsp;</span>Check DQ flagging</a></span></li><li><span><a href=\"#Calculate-the-rate/cal-image-ratio\" data-toc-modified-id=\"Calculate-the-rate/cal-image-ratio-1.3.11\"><span class=\"toc-item-num\">1.3.11&nbsp;&nbsp;</span>Calculate the rate/cal image ratio</a></span></li><li><span><a href=\"#Compare-flat-field-reference-file-with-the-rate/cal-image-ratio-and-check-that-they-are-equal\" data-toc-modified-id=\"Compare-flat-field-reference-file-with-the-rate/cal-image-ratio-and-check-that-they-are-equal-1.3.12\"><span class=\"toc-item-num\">1.3.12&nbsp;&nbsp;</span>Compare flat field reference file with the rate/cal image ratio and check that they are equal</a></span></li></ul></li><li><span><a href=\"#About-this-Notebook\" data-toc-modified-id=\"About-this-Notebook-1.4\"><span class=\"toc-item-num\">1.4&nbsp;&nbsp;</span>About this Notebook</a></span></li></ul></li></ul></div>"
   ]
  },
  {
   "cell_type": "markdown",
   "metadata": {},
   "source": [
    "## Introduction and summary of test being run\n",
    "\n",
    "This notebook processes an image through calwebb_spec2 and examines the output of the flat_field step. The steps are as follow:\n",
    "\n",
    "1) Set up data path and directory and image file names.\n",
    "\n",
    "2) Run output of calwebb_detector1 through the flat_field step in calwebb_spec2.\n",
    "\n",
    "3) Get flat field reference file from CRDS. \n",
    "\n",
    "4) Compare the flat field reference file with the rate/cal image ratio and check that they are the same.\n",
    "\n",
    "## Documentation\n",
    "\n",
    "The pipeline documentation can be found here: https://jwst-pipeline.readthedocs.io/en/latest/\n",
    "\n",
    "The pipeline code is available on GitHub: https://github.com/spacetelescope/jwst\n",
    "\n",
    "## Data used \n",
    "\n",
    "The data used in this test is a simulated MIRI image created using MIRISim. The documentation for MIRISim can be found here: https://wiki.miricle.org/bin/view/Public/MIRISim_Public?\n",
    "\n",
    "Author: Mike Engesser (Adapted from Tea Temim's calwebb-image1 notebook)"
   ]
  },
  {
   "cell_type": "markdown",
   "metadata": {},
   "source": [
    "### Create temporary directory"
   ]
  },
  {
   "cell_type": "code",
   "execution_count": null,
   "metadata": {},
   "outputs": [],
   "source": [
    "# Create a temporary directory to hold notebook output, and change the working directory to that directory.\n",
    "from tempfile import TemporaryDirectory\n",
    "import os\n",
    "data_dir = TemporaryDirectory()\n",
    "os.chdir(data_dir.name)\n",
    "print(data_dir)"
   ]
  },
  {
   "cell_type": "code",
   "execution_count": null,
   "metadata": {},
   "outputs": [],
   "source": [
    "import os\n",
    "if 'CRDS_CACHE_TYPE' in os.environ:\n",
    "    if os.environ['CRDS_CACHE_TYPE'] == 'local':\n",
    "        os.environ['CRDS_PATH'] = os.path.join(os.environ['HOME'], 'crds', 'cache')\n",
    "    elif os.path.isdir(os.environ['CRDS_CACHE_TYPE']):\n",
    "        os.environ['CRDS_PATH'] = os.environ['CRDS_CACHE_TYPE']\n",
    "print('CRDS cache location: {}'.format(os.environ['CRDS_PATH']))"
   ]
  },
  {
   "cell_type": "markdown",
   "metadata": {},
   "source": [
    "### Set up import statements"
   ]
  },
  {
   "cell_type": "code",
   "execution_count": null,
   "metadata": {},
   "outputs": [],
   "source": [
    "from astropy.io import fits, ascii\n",
    "import pytest\n",
    "import numpy as np\n",
    "import numpy.ma as ma\n",
    "\n",
    "import jwst\n",
    "from jwst.pipeline import Detector1Pipeline, Image2Pipeline\n",
    "from jwst.datamodels import RampModel, ImageModel, dqflags\n",
    "from jwst.pipeline import calwebb_image2\n",
    "from jwst.pipeline import calwebb_spec2\n",
    "\n",
    "from ci_watson.artifactory_helpers import get_bigdata\n",
    "import crds\n",
    "import os"
   ]
  },
  {
   "cell_type": "code",
   "execution_count": null,
   "metadata": {},
   "outputs": [],
   "source": [
    "# Specify CRDS locations and pmap\n",
    "os.environ['CRDS_SERVER_URL'] = 'https://jwst-crds.stsci.edu'\n",
    "os.environ['TEST_BIGDATA']='https://bytesalad.stsci.edu/artifactory/'"
   ]
  },
  {
   "cell_type": "markdown",
   "metadata": {},
   "source": [
    "### Print pipeline version number"
   ]
  },
  {
   "cell_type": "code",
   "execution_count": null,
   "metadata": {},
   "outputs": [],
   "source": [
    "jwst.__version__ "
   ]
  },
  {
   "cell_type": "markdown",
   "metadata": {},
   "source": [
    "### Read in data from artifactory"
   ]
  },
  {
   "cell_type": "code",
   "execution_count": null,
   "metadata": {},
   "outputs": [],
   "source": [
    "file1 = get_bigdata('jwst_validation_notebooks',\n",
    "                      'validation_data',\n",
    "                      'calwebb_spec2',\n",
    "                      'spec2_miri_test',\n",
    "                      'det_image_seq1_MIRIFUSHORT_12LONGexp1_rate.fits')\n",
    "file2 = get_bigdata('jwst_validation_notebooks',\n",
    "                      'validation_data',\n",
    "                      'calwebb_spec2',\n",
    "                      'spec2_miri_test',\n",
    "                      'det_image_seq1_MIRIFUSHORT_12MEDIUMexp1_rate.fits')\n",
    "file3 = get_bigdata('jwst_validation_notebooks',\n",
    "                      'validation_data',\n",
    "                      'calwebb_spec2',\n",
    "                      'spec2_miri_test',\n",
    "                      'det_image_seq1_MIRIFUSHORT_12SHORTexp1_rate.fits')\n",
    "file4 = get_bigdata('jwst_validation_notebooks',\n",
    "                      'validation_data',\n",
    "                      'calwebb_spec2',\n",
    "                      'spec2_miri_test',\n",
    "                      'det_image_seq1_MIRIFULONG_34LONGexp1_rate.fits')\n",
    "file5 = get_bigdata('jwst_validation_notebooks',\n",
    "                      'validation_data',\n",
    "                      'calwebb_spec2',\n",
    "                      'spec2_miri_test',\n",
    "                      'det_image_seq1_MIRIFULONG_34MEDIUMexp1_rate.fits')\n",
    "file6 = get_bigdata('jwst_validation_notebooks',\n",
    "                      'validation_data',\n",
    "                      'calwebb_spec2',\n",
    "                      'spec2_miri_test',\n",
    "                      'det_image_seq1_MIRIFULONG_34SHORTexp1_rate.fits')\n"
   ]
  },
  {
   "cell_type": "markdown",
   "metadata": {},
   "source": [
    "### Read in input image as JWST data model"
   ]
  },
  {
   "cell_type": "code",
   "execution_count": null,
   "metadata": {},
   "outputs": [],
   "source": [
    "im1 = ImageModel(file1)\n",
    "im2 = ImageModel(file2)\n",
    "im3 = ImageModel(file3)\n",
    "im4 = ImageModel(file4)\n",
    "im5 = ImageModel(file5)\n",
    "im6 = ImageModel(file6)"
   ]
  },
  {
   "cell_type": "markdown",
   "metadata": {},
   "source": [
    "### Run output of calwebb_detector1 through calwebb_spec2"
   ]
  },
  {
   "cell_type": "code",
   "execution_count": null,
   "metadata": {},
   "outputs": [],
   "source": [
    "def run_spec2(im):\n",
    "    \"\"\"Creates and runs an instance of the JWST spec2 pipeline. \"\"\"\n",
    "    \n",
    "    spec2 = calwebb_spec2.Spec2Pipeline()\n",
    "    spec2.bkg_subtract.skip = True\n",
    "    spec2.assign_wcs.skip = False\n",
    "    spec2.imprint_subtract.skip = True\n",
    "    spec2.msa_flagging.skip = True\n",
    "    spec2.extract_2d.skip = True\n",
    "    spec2.wavecorr.skip = True\n",
    "    spec2.srctype.skip = True\n",
    "    spec2.straylight.skip = True\n",
    "    spec2.fringe.skip = True\n",
    "    spec2.pathloss.skip = True\n",
    "    spec2.barshadow.skip = True\n",
    "    spec2.photom.skip = True\n",
    "    spec2.resample_spec.skip = True\n",
    "    spec2.cube_build.skip = True\n",
    "    spec2.extract_1d.skip = True\n",
    "    spec2.flat_field.skip = False\n",
    "    spec2.save_results = True\n",
    "    \n",
    "    spec2.run(im)"
   ]
  },
  {
   "cell_type": "code",
   "execution_count": null,
   "metadata": {},
   "outputs": [],
   "source": [
    "run_spec2(im1)\n",
    "run_spec2(im2)\n",
    "run_spec2(im3)\n",
    "run_spec2(im4)\n",
    "run_spec2(im5)\n",
    "run_spec2(im6)"
   ]
  },
  {
   "cell_type": "markdown",
   "metadata": {},
   "source": [
    "### Create image models of rate and cal files"
   ]
  },
  {
   "cell_type": "code",
   "execution_count": null,
   "metadata": {},
   "outputs": [],
   "source": [
    "# Get names of cal files\n",
    "input_file1 = file1.replace('rate.fits', 'cal.fits')\n",
    "input_file2 = file2.replace('rate.fits', 'cal.fits')\n",
    "input_file3 = file3.replace('rate.fits', 'cal.fits')\n",
    "input_file4 = file4.replace('rate.fits', 'cal.fits')\n",
    "input_file5 = file5.replace('rate.fits', 'cal.fits')\n",
    "input_file6 = file6.replace('rate.fits', 'cal.fits')"
   ]
  },
  {
   "cell_type": "code",
   "execution_count": null,
   "metadata": {},
   "outputs": [],
   "source": [
    "# create image models of rate and cal files\n",
    "im_cal1 = ImageModel(input_file1)\n",
    "im_cal2 = ImageModel(input_file2)\n",
    "im_cal3 = ImageModel(input_file3)\n",
    "im_cal4 = ImageModel(input_file4)\n",
    "im_cal5 = ImageModel(input_file5)\n",
    "im_cal6 = ImageModel(input_file6)\n",
    "\n",
    "im_rate1 = ImageModel(file1)\n",
    "im_rate2 = ImageModel(file2)\n",
    "im_rate3 = ImageModel(file3)\n",
    "im_rate4 = ImageModel(file4)\n",
    "im_rate5 = ImageModel(file5)\n",
    "im_rate6 = ImageModel(file6)"
   ]
  },
  {
   "cell_type": "markdown",
   "metadata": {},
   "source": [
    "### Get flat_field reference file"
   ]
  },
  {
   "cell_type": "code",
   "execution_count": null,
   "metadata": {},
   "outputs": [],
   "source": [
    "flatreffile1 = im_cal1.meta.ref_file.flat.name\n",
    "flatreffile2 = im_cal2.meta.ref_file.flat.name\n",
    "flatreffile3 = im_cal3.meta.ref_file.flat.name\n",
    "flatreffile4 = im_cal4.meta.ref_file.flat.name\n",
    "flatreffile5 = im_cal5.meta.ref_file.flat.name\n",
    "flatreffile6 = im_cal6.meta.ref_file.flat.name\n",
    "\n",
    "print('Flat reference file', flatreffile1)\n",
    "print('Flat reference file', flatreffile2)\n",
    "print('Flat reference file', flatreffile3)\n",
    "print('Flat reference file', flatreffile4)\n",
    "print('Flat reference file', flatreffile5)\n",
    "print('Flat reference file', flatreffile6)\n",
    "# find location of file\n",
    "basename1 = crds.core.config.pop_crds_uri(flatreffile1)\n",
    "basename2 = crds.core.config.pop_crds_uri(flatreffile2)\n",
    "basename3 = crds.core.config.pop_crds_uri(flatreffile3)\n",
    "basename4 = crds.core.config.pop_crds_uri(flatreffile4)\n",
    "basename5 = crds.core.config.pop_crds_uri(flatreffile5)\n",
    "basename6 = crds.core.config.pop_crds_uri(flatreffile6)\n",
    "\n",
    "path1 = crds.locate_file(basename1, \"jwst\")\n",
    "path2 = crds.locate_file(basename2, \"jwst\")\n",
    "path3 = crds.locate_file(basename3, \"jwst\")\n",
    "path4 = crds.locate_file(basename4, \"jwst\")\n",
    "path5 = crds.locate_file(basename5, \"jwst\")\n",
    "path6 = crds.locate_file(basename6, \"jwst\")\n",
    "# open reference file\n",
    "flat_im1 = ImageModel(path1)\n",
    "flat_im2 = ImageModel(path2)\n",
    "flat_im3 = ImageModel(path3)\n",
    "flat_im4 = ImageModel(path4)\n",
    "flat_im5 = ImageModel(path5)\n",
    "flat_im6 = ImageModel(path6)"
   ]
  },
  {
   "cell_type": "markdown",
   "metadata": {},
   "source": [
    "### Create image lists for looping"
   ]
  },
  {
   "cell_type": "code",
   "execution_count": null,
   "metadata": {},
   "outputs": [],
   "source": [
    "file_list = [file1, file2, file3, file4, file5, file6]\n",
    "im_list = [im_cal1, im_cal2, im_cal3, im_cal4, im_cal5, im_cal6]\n",
    "rate_list = [im_rate1, im_rate2, im_rate3, im_rate4, im_rate5, im_rate6]\n",
    "flat_list = [flat_im1, flat_im2, flat_im3, flat_im4, flat_im5, flat_im6]"
   ]
  },
  {
   "cell_type": "markdown",
   "metadata": {},
   "source": [
    "### Check DQ flagging \n",
    "Any pixel flagged as NON_SCIENCE should also be flagged as DO_NOT_USE. Check if this is in place in both the input reference file and for the output science file of the calwebb_image2 pipeline. If there are no assert errors, the test below passes."
   ]
  },
  {
   "cell_type": "code",
   "execution_count": null,
   "metadata": {},
   "outputs": [],
   "source": [
    "# Check if the output cal file is flagged properly\n",
    "# return DQ arrays for masking\n",
    "def check_dq_flags(im_cal, flat_im):\n",
    "    # Test that all pixels flagged with NON_SCIENCE are also flagged as DO_NOT_USE\n",
    "    nonsciencearray = (im_cal.dq & dqflags.pixel['NON_SCIENCE'] > 0)\n",
    "    badarray = (im_cal.dq & dqflags.pixel['DO_NOT_USE'] > 0)\n",
    "    try:\n",
    "        assert nonsciencearray.all() == badarray.all()\n",
    "    except:\n",
    "        print(\"AssertionError: NON_SCIENCE array not equal to DO_NOT_USE array in science data.\")\n",
    "\n",
    "    # Test if the input reference file had the flags all set the same way\n",
    "    nonsciencearray = (flat_im.dq & dqflags.pixel['NON_SCIENCE'] > 0)\n",
    "    badarray = (flat_im.dq & dqflags.pixel['DO_NOT_USE'] > 0)\n",
    "    try:\n",
    "        assert nonsciencearray.all() == badarray.all()\n",
    "    except:\n",
    "        print(\"AssertionError: NON_SCIENCE array not equal to DO_NOT_USE array in reference data.\")\n",
    "    \n",
    "    return badarray\n",
    "\n",
    "badarrays = [check_dq_flags(im, flat) for im,flat in zip(im_list, flat_list)]"
   ]
  },
  {
   "cell_type": "markdown",
   "metadata": {},
   "source": [
    "### Calculate the rate/cal image ratio"
   ]
  },
  {
   "cell_type": "code",
   "execution_count": null,
   "metadata": {},
   "outputs": [],
   "source": [
    "def get_ratios(im, rate, mask):\n",
    "    # compute and return the ratio of the rate and cal images\n",
    "    rate_mask = ma.masked_array(rate.data, mask=mask)\n",
    "    ratio = im.data/rate_mask\n",
    "    \n",
    "    return ratio\n",
    "\n",
    "ratios = [get_ratios(cal_im, rate_im, badarray) for cal_im, rate_im, badarray in zip(im_list, rate_list, badarrays)]"
   ]
  },
  {
   "cell_type": "markdown",
   "metadata": {},
   "source": [
    "### Compare flat field reference file with the rate/cal image ratio and check that they are equal\n",
    "\n",
    "The minimum and maximum values should be 1.0, implying all values are 1, and the images are equal."
   ]
  },
  {
   "cell_type": "code",
   "execution_count": null,
   "metadata": {},
   "outputs": [],
   "source": [
    "def check_flat(ratio_im, flat_im):\n",
    "    return ratio_im/flat_im.data\n",
    "\n",
    "check_flats = [check_flat(ratio, flat) for ratio, flat in zip(ratios, flat_list)]"
   ]
  },
  {
   "cell_type": "code",
   "execution_count": null,
   "metadata": {},
   "outputs": [],
   "source": [
    "def check_min_max(check_flat_im, im_name):\n",
    "    print('Minimum and maximum values for {} image are: {} and {}'.format(im_name, np.nanmin(check_flat_im), np.nanmax(check_flat_im)))\n",
    "    #assert np.nanmin(check_flat_im) == 1.0 and np.nanmax(check_flat_im) == 1.0\n",
    "\n",
    "for im, name in zip(check_flats, file_list):\n",
    "    im_name = name.split('/')[-1]\n",
    "    check_min_max(im, im_name)"
   ]
  },
  {
   "cell_type": "markdown",
   "metadata": {
    "ExecuteTime": {
     "end_time": "2021-06-22T16:26:04.244187Z",
     "start_time": "2021-06-22T16:26:04.241088Z"
    }
   },
   "source": [
    "<a id=\"about_ID\"></a>\n",
    "## About this Notebook\n",
    "**Author:** Mike Engesser, Science Support Analyst I, INS\n",
    "<br>**Updated On:** 06/22/2021"
   ]
  }
 ],
 "metadata": {
  "language_info": {
   "name": "python"
  }
 },
 "nbformat": 4,
 "nbformat_minor": 4
}
