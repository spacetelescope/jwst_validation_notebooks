{
 "cells": [
  {
   "cell_type": "markdown",
   "metadata": {},
   "source": [
    "# JWST Pipeline Validation Testing notebook: flat_field step with MIRI Imaging\n",
    "\n",
    "Instruments Affected: NIRCam, NIRSpec, NIRISS, MIRI, FGS"
   ]
  },
  {
   "cell_type": "markdown",
   "metadata": {},
   "source": [
    "## Introduction \n",
    "\n",
    "This test is designed to test the flat_field step in the calwebb_image2 pipeline. This step retrieves the correct flat field reference file and divides the data by the reference file. The SCI extension of the reference file is divided into the SCI array of the science image. The DQ plane of the reference file is combined with the DQ plane of the science file. \n",
    "\n",
    "Error calculation: \n",
    "The VAR_POISSON and VAR_RNOISE variance arrays of the science exposure are divided by the square of the flat-field value for each pixel. A flat-field variance array, VAR_FLAT, is created from the science exposure and flat-field reference file data using the following formula:\n",
    "\n",
    "var_flat = SCI array ^ 2 / flat SCI array ^ 2 * flat err array ^2\n",
    "\n",
    "The total ERR array in the science exposure is updated as the square root of the quadratic sum of VAR_POISSON, VAR_RNOISE, and VAR_FLAT.\n",
    "\n",
    "Description of the steps applied: \n",
    "\n",
    "- If the science data have been taken using a subarray and the flat-field reference file is a full-frame image, extract the corresponding subarray region from the flat-field data.\n",
    "\n",
    "- Find pixels that have a value of NaN or zero in the FLAT reference file SCI array and set their DQ values to “NO_FLAT_FIELD.”\n",
    "\n",
    "- Reset the values of pixels in the flat that have DQ=”NO_FLAT_FIELD” to 1.0, so that they have no effect when applied to the science data.\n",
    "\n",
    "- Apply the flat by dividing it into the science exposure SCI array.\n",
    "\n",
    "- Propagate the FLAT reference file DQ values into the science exposure DQ array using a bitwise OR operation.\n",
    "\n",
    "#### Documentation\n",
    "For more information on the pipeline step visit the links below. \n",
    "\n",
    "The pipeline documentation can be found here: https://jwst-pipeline.readthedocs.io/en/latest/\n",
    "\n",
    "The pipeline code is available on GitHub: https://github.com/spacetelescope/jwst\n",
    "\n",
    "\n",
    "## Test Description\n",
    "\n",
    "This notebook processes an image through calwebb_image2 (calwebb_detector1 is optional) and examines the output of the flat_field step. The steps are as follow:\n",
    "\n",
    "1) Retrieve data.\n",
    "\n",
    "2) Run output of calwebb_detector1 through the flat_field step in calwebb_image2. Visualize the sci arrays of the data before and after the flat_field step is applied. \n",
    "\n",
    "3) Get flat field reference file. Look at the sci array of the flat_field reference file.\n",
    "\n",
    "4) Compare the flat field reference file with the rate/cal image ratio and check that they are the same.\n",
    "\n",
    "5) Look at the ERR arrays of the science data before and after the step is run, and compare to the flat_field reference file ERR array to be sure there is no unexpected pattern seen. Check that a new extension (var_flat) has been added to the output data.\n",
    "\n",
    "6) Check that the DQ flags were applied as expected. \n",
    "\n",
    "## Data used \n",
    "\n",
    "The data used in this test is a simulated MIRI image created using MIRISim. The documentation for MIRISim can be found here: https://wiki.miricle.org/bin/view/Public/MIRISim_Public\n"
   ]
  },
  {
   "cell_type": "code",
   "execution_count": null,
   "metadata": {},
   "outputs": [],
   "source": [
    "# Create a temporary directory to hold notebook output, and change the working directory to that directory.\n",
    "from tempfile import TemporaryDirectory\n",
    "import os\n",
    "data_dir = TemporaryDirectory()\n",
    "os.chdir(data_dir.name)\n",
    "print(data_dir)"
   ]
  },
  {
   "cell_type": "code",
   "execution_count": null,
   "metadata": {},
   "outputs": [],
   "source": [
    "import os\n",
    "if 'CRDS_CACHE_TYPE' in os.environ:\n",
    "    if os.environ['CRDS_CACHE_TYPE'] == 'local':\n",
    "        os.environ['CRDS_PATH'] = os.path.join(os.environ['HOME'], 'crds', 'cache')\n",
    "    elif os.path.isdir(os.environ['CRDS_CACHE_TYPE']):\n",
    "        os.environ['CRDS_PATH'] = os.environ['CRDS_CACHE_TYPE']\n",
    "print('CRDS cache location: {}'.format(os.environ['CRDS_PATH']))"
   ]
  },
  {
   "cell_type": "markdown",
   "metadata": {},
   "source": [
    "### Set up import statements\n",
    "\n",
    "Software imports:\n",
    "\n",
    "- astropy allows various data formats to be read in and written out as well as visualization tools for plotting\n",
    "- numpy provides the framework to work with arrays and standard calculations\n",
    "- matplotlib is a set of plotting software\n",
    "- jwst is all of the jwst calibration pipeline software being tested\n",
    "- download_file, move and get_bigdata are used in downloading the data to be used."
   ]
  },
  {
   "cell_type": "code",
   "execution_count": null,
   "metadata": {},
   "outputs": [],
   "source": [
    "from astropy.io import fits, ascii\n",
    "from astropy.utils.data import download_file\n",
    "from astropy.visualization import SqrtStretch\n",
    "from astropy.visualization.mpl_normalize import ImageNormalize\n",
    "\n",
    "import numpy as np\n",
    "import matplotlib\n",
    "import matplotlib.pyplot as plt\n",
    "from shutil import move\n",
    "\n",
    "import jwst\n",
    "from jwst.pipeline import Detector1Pipeline, Image2Pipeline\n",
    "from jwst.flatfield import FlatFieldStep\n",
    "from jwst.datamodels import RampModel, ImageModel, dqflags\n",
    "from jwst.pipeline import calwebb_image2\n",
    "\n",
    "from ci_watson.artifactory_helpers import get_bigdata\n",
    "import crds\n",
    "import os"
   ]
  },
  {
   "cell_type": "markdown",
   "metadata": {},
   "source": [
    "### Print pipeline version number"
   ]
  },
  {
   "cell_type": "code",
   "execution_count": null,
   "metadata": {},
   "outputs": [],
   "source": [
    "jwst.__version__ "
   ]
  },
  {
   "cell_type": "markdown",
   "metadata": {},
   "source": [
    "### Read in data from artifactory (or Box)"
   ]
  },
  {
   "cell_type": "code",
   "execution_count": null,
   "metadata": {},
   "outputs": [],
   "source": [
    "#input_file = get_bigdata('jwst_validation_notebooks',\n",
    "#                     'validation_data',\n",
    "#                     'flat_field',\n",
    "#                     'flat_field_miri_test', \n",
    "#                     'car007_seq1_MIRIMAGE_F770Wexp1_b771_rate.fits')"
   ]
  },
  {
   "cell_type": "code",
   "execution_count": null,
   "metadata": {},
   "outputs": [],
   "source": [
    "from astropy.utils.data import download_file\n",
    "from pathlib import Path\n",
    "from shutil import move\n",
    "from os.path import splitext\n",
    "\n",
    "def get_box_files(file_list):\n",
    "    for box_url,file_name in file_list:\n",
    "        if 'https' not in box_url:\n",
    "            box_url = 'https://stsci.box.com/shared/static/' + box_url\n",
    "        downloaded_file = download_file(box_url, timeout=600)\n",
    "        if Path(file_name).suffix == '':\n",
    "            ext = splitext(box_url)[1]\n",
    "            file_name += ext\n",
    "        move(downloaded_file, file_name)\n",
    "        #print(file_name)\n",
    "\n",
    "\n",
    "file_list=[('https://stsci.box.com/shared/static/kzef4nvyzzpfy4x4o108x344qg5epaf0.fits',\n",
    "            'car007_seq1_MIRIMAGE_F770Wexp1_b771_rate.fits')]\n",
    "\n",
    "get_box_files(file_list)\n",
    "filename = file_list[0][1]\n",
    "print(filename)"
   ]
  },
  {
   "cell_type": "code",
   "execution_count": null,
   "metadata": {},
   "outputs": [],
   "source": [
    "# Read in data from Box\n",
    " \n",
    "#file_url = 'https://stsci.box.com/shared/static/kzef4nvyzzpfy4x4o108x344qg5epaf0.fits'\n",
    "#filename = 'car007_seq1_MIRIMAGE_F770Wexp1_b771_rate.fits' \n",
    "\n",
    "#input_file = download_file(file_url)\n",
    "#print(input_file)\n",
    " \n",
    "#ext = os.path.splitext(file_url)[1]\n",
    "#new_input_file = input_file + ext\n",
    " \n",
    "#move(input_file, new_input_file)\n",
    "    "
   ]
  },
  {
   "cell_type": "markdown",
   "metadata": {},
   "source": [
    "### Read in input image as JWST data model"
   ]
  },
  {
   "cell_type": "code",
   "execution_count": null,
   "metadata": {},
   "outputs": [],
   "source": [
    "#im = ImageModel(new_input_file)  \n",
    "#im.save(filename)"
   ]
  },
  {
   "cell_type": "code",
   "execution_count": null,
   "metadata": {},
   "outputs": [],
   "source": [
    "im = ImageModel(filename)"
   ]
  },
  {
   "cell_type": "code",
   "execution_count": null,
   "metadata": {},
   "outputs": [],
   "source": [
    "im.info() # Make sure image was read into the model correctly and has the expected extensions"
   ]
  },
  {
   "cell_type": "markdown",
   "metadata": {},
   "source": [
    "### Display the rate (slope) file that is output of calwebb_detector1"
   ]
  },
  {
   "cell_type": "code",
   "execution_count": null,
   "metadata": {},
   "outputs": [],
   "source": [
    "plt.figure(figsize=(20,20))\n",
    "plt.imshow(im.data, cmap='Greys', origin='lower', vmin=-2,vmax=10)\n",
    "plt.colorbar()\n",
    "plt.show()"
   ]
  },
  {
   "cell_type": "markdown",
   "metadata": {},
   "source": [
    "### Run output of calwebb_detector1 through the flat field step"
   ]
  },
  {
   "cell_type": "code",
   "execution_count": null,
   "metadata": {},
   "outputs": [],
   "source": [
    "im2 = FlatFieldStep()\n",
    "im2.save_results = True\n",
    "flatfile = im2.run(im)"
   ]
  },
  {
   "cell_type": "code",
   "execution_count": null,
   "metadata": {},
   "outputs": [],
   "source": [
    "# Read output of calwebb_image2 into a data model\n",
    "\n",
    "im_cal = ImageModel(flatfile)\n",
    "print(im_cal.meta.filename)"
   ]
  },
  {
   "cell_type": "markdown",
   "metadata": {},
   "source": [
    "### Display the calibrated data that is output of calwebb_image2"
   ]
  },
  {
   "cell_type": "code",
   "execution_count": null,
   "metadata": {},
   "outputs": [],
   "source": [
    "plt.figure(figsize=(20,20))\n",
    "plt.imshow(im_cal.data, cmap='Greys', origin='lower', vmin=-2,vmax=10)#, norm=norm)\n",
    "plt.colorbar()\n",
    "plt.show()"
   ]
  },
  {
   "cell_type": "markdown",
   "metadata": {},
   "source": [
    "### Calculate the rate/cal image ratio"
   ]
  },
  {
   "cell_type": "code",
   "execution_count": null,
   "metadata": {},
   "outputs": [],
   "source": [
    "ratio_im = im.data / im_cal.data\n",
    "\n",
    "print('Minimum and maximum values in the ratio image are:', np.nanmin(ratio_im), 'and', np.nanmax(ratio_im))"
   ]
  },
  {
   "cell_type": "markdown",
   "metadata": {},
   "source": [
    "### Display ratio image\n",
    "\n",
    "The ratio of the images calculated above should be comparable to the flat field reference file science extension."
   ]
  },
  {
   "cell_type": "code",
   "execution_count": null,
   "metadata": {},
   "outputs": [],
   "source": [
    "plt.figure(figsize=(20,20))\n",
    "\n",
    "# mask out DO_NOT_USE values of 1\n",
    "masked_ratio = np.ma.masked_where((im_cal.dq & dqflags.pixel['DO_NOT_USE'] > 0), ratio_im)\n",
    "\n",
    "cmap = matplotlib.cm.get_cmap(\"Greys\").copy()  # Can be any colormap that you want after the cm\n",
    "cmap.set_bad(color='white') # color to mark all DO_NOT_USE pixels\n",
    "\n",
    "plt.imshow(masked_ratio, cmap=cmap, origin='lower', vmin=0,vmax=1.5)\n",
    "plt.colorbar()\n",
    "plt.show()"
   ]
  },
  {
   "cell_type": "markdown",
   "metadata": {},
   "source": [
    "### Get flat_field reference file"
   ]
  },
  {
   "cell_type": "code",
   "execution_count": null,
   "metadata": {},
   "outputs": [],
   "source": [
    "flatreffile = im_cal.meta.ref_file.flat.name\n",
    "print('Flat reference file', flatreffile)\n",
    "# find location of file\n",
    "basename = crds.core.config.pop_crds_uri(flatreffile)\n",
    "path = crds.locate_file(basename, \"jwst\")\n",
    "\n",
    "# open reference file\n",
    "flat_im = ImageModel(path)\n",
    "print(flat_im.meta.filename)\n",
    "\n",
    "print('Minimum and maximum values in the ratio image are:', np.nanmin(flat_im.data), 'and', np.nanmax(flat_im.data))"
   ]
  },
  {
   "cell_type": "markdown",
   "metadata": {},
   "source": [
    "### Display flat field reference file data"
   ]
  },
  {
   "cell_type": "code",
   "execution_count": null,
   "metadata": {},
   "outputs": [],
   "source": [
    "plt.figure(figsize=(20,20))\n",
    "plt.imshow(flat_im.data, cmap='Greys', origin='lower', vmin=0,vmax=1.5)\n",
    "plt.colorbar()\n",
    "plt.show()"
   ]
  },
  {
   "cell_type": "markdown",
   "metadata": {},
   "source": [
    "### Compare flat field reference file with the rate/cal image ratio and check that they are equal\n",
    "\n",
    "Since the step sets any flat field values to 1 where the DQ array lists the pixel as DO_NOT_USE, only a masked version of the images should be compared to the flat. Find regions where dq values are not marked as DO_NOT_USE and compare the good regions."
   ]
  },
  {
   "cell_type": "code",
   "execution_count": null,
   "metadata": {},
   "outputs": [],
   "source": [
    "# Do a check on any specific pixel in the imager. The rate file divided by the flat file should equal the value \n",
    "# in the flat_fielded output file.\n",
    "\n",
    "xval = 600\n",
    "yval = 600\n",
    "\n",
    "print('Rate image pixel value', im.data[yval, xval])\n",
    "print('Cal image pixel value', im_cal.data[yval, xval])\n",
    "print('Flat pixel value', flat_im.data[yval, xval])\n",
    "print('DQ value for flat file:', flat_im.dq[yval, xval])\n",
    "\n",
    "div_val = im.data[yval, xval] / flat_im.data[yval, xval]\n",
    "print('The rate file pixel divided by the flat file pixel is: ', div_val)\n",
    "\n",
    "try:\n",
    "    assert im_cal.data[yval,xval] == im.data[yval, xval] / flat_im.data[yval, xval]\n",
    "except:\n",
    "    print('Cal pixel does not equal rate divided by flat. There is a problem here.')"
   ]
  },
  {
   "cell_type": "code",
   "execution_count": null,
   "metadata": {},
   "outputs": [],
   "source": [
    "# mask out bad pixels, i.e. pixels marked as DO_NOT_USE in the reference file dq array\n",
    "\n",
    "badpixels = np.where(flat_im.dq & dqflags.pixel['DO_NOT_USE'] > 0)\n",
    "\n",
    "# Set bad pixels in images to nan so they are not part of calculations\n",
    "good_im = im.data\n",
    "good_im[badpixels] = np.nan\n",
    "\n",
    "good_cal = im_cal.data\n",
    "good_cal[badpixels] = np.nan\n",
    "\n",
    "good_flat = flat_im.data\n",
    "good_flat[badpixels] = np.nan\n",
    "\n",
    "# Get the ratio of the masked images, and then divide by the masked flat image\n",
    "test_ratio = good_im / good_cal\n",
    "\n",
    "check_flat = test_ratio / good_flat\n",
    "\n",
    "print('Minimum and maximum values in the ratio image are:', np.nanmin(test_ratio), 'and', np.nanmax(test_ratio))"
   ]
  },
  {
   "cell_type": "markdown",
   "metadata": {},
   "source": [
    "### View the ratio image divided by the flat field ((rate / flat_fielded image) / flat field reference file)\n",
    "\n",
    "The values of this image should be around 1.0. The flat fielded science image results from dividing the rate image by the flat field reference file image. So the ratio of the rate image divided by the flat_fielded image should equal the flat field reference file, meaning that ratio should equal 1.0."
   ]
  },
  {
   "cell_type": "code",
   "execution_count": null,
   "metadata": {},
   "outputs": [],
   "source": [
    "plt.figure(figsize=(20,20))\n",
    "plt.imshow(check_flat, cmap='Greys', origin='lower', vmin=0.5,vmax=1.5)\n",
    "plt.colorbar()\n",
    "plt.show()"
   ]
  },
  {
   "cell_type": "markdown",
   "metadata": {},
   "source": [
    "### Check that min and max values of ratio image divided by the flat are 1.0"
   ]
  },
  {
   "cell_type": "code",
   "execution_count": null,
   "metadata": {},
   "outputs": [],
   "source": [
    "print('**************** Passing criteria check: Be sure that both of these values are near 1.0 *******')\n",
    "print('Minimum and maximum values in the check_flat image are:', np.nanmin(check_flat), 'and', np.nanmax(check_flat))\n",
    "\n",
    "try: \n",
    "    np.testing.assert_allclose(np.nanmin(check_flat), 1.0, rtol = 0.05)\n",
    "except AssertionError: \n",
    "    print(\"AssertionError: The minimum value is not within 5% of 1.0\")\n",
    "\n",
    "try: \n",
    "    np.testing.assert_allclose(np.nanmax(check_flat), 1.0, rtol = 0.05)\n",
    "except AssertionError: \n",
    "    print(\"AssertionError: The maximum value is not within 5% of 1.0\")\n"
   ]
  },
  {
   "cell_type": "markdown",
   "metadata": {},
   "source": [
    "## Check ERR arrays\n",
    "There should be a new ERR array (var_flat) attached. \n"
   ]
  },
  {
   "cell_type": "markdown",
   "metadata": {},
   "source": [
    "### Check that var_flat extension was added to data after flat field step was run"
   ]
  },
  {
   "cell_type": "code",
   "execution_count": null,
   "metadata": {},
   "outputs": [],
   "source": [
    "# Look at extensions of the rate file \n",
    "uncal_filename = str(im.meta.filename)\n",
    "hdu = fits.open(uncal_filename)\n",
    "hdu.info()\n",
    "hdu.close()"
   ]
  },
  {
   "cell_type": "code",
   "execution_count": null,
   "metadata": {},
   "outputs": [],
   "source": [
    "# Look at the extensions of cal file and check that a new extension 'var_flat' was added \n",
    "filename = str(im_cal.meta.filename)\n",
    "hdu = fits.open(filename)\n",
    "hdu.info()\n",
    "hdu.close()\n",
    "\n",
    "try:\n",
    "    assert(im_cal.var_flat.shape == im_cal.data.shape)\n",
    "except AssertionError:\n",
    "    print('AssertionError: var_flat array is not the same shape as the data array')"
   ]
  },
  {
   "cell_type": "markdown",
   "metadata": {},
   "source": [
    "### Look at error arrays before and after flat field step to see if there are any unexplained changes"
   ]
  },
  {
   "cell_type": "code",
   "execution_count": null,
   "metadata": {},
   "outputs": [],
   "source": [
    "# ERR array of rate image\n",
    "\n",
    "print('Min val: ', np.nanmin(im.err), '   Max val: ', np.nanmax(im.err))\n",
    "plt.figure(figsize=(20,20))\n",
    "plt.imshow(im.err, cmap='Greys', origin='lower', vmin=0,vmax=.5)\n",
    "plt.colorbar()\n",
    "plt.show()"
   ]
  },
  {
   "cell_type": "code",
   "execution_count": null,
   "metadata": {},
   "outputs": [],
   "source": [
    "# ERR array of flat_fielded image\n",
    "\n",
    "print('Min val: ', np.nanmin(im_cal.err), '   Max val: ', np.nanmax(im_cal.err))\n",
    "plt.figure(figsize=(20,20))\n",
    "plt.imshow(im_cal.err, cmap='Greys', origin='lower', vmin=0,vmax=.5)\n",
    "plt.colorbar()\n",
    "plt.show()"
   ]
  },
  {
   "cell_type": "code",
   "execution_count": null,
   "metadata": {},
   "outputs": [],
   "source": [
    "# ERR array of flat reference file image\n",
    "\n",
    "print('Min val: ', np.nanmin(im.err), '   Max val: ', np.nanmax(im.err))\n",
    "plt.figure(figsize=(20,20))\n",
    "plt.imshow(flat_im.err, cmap='Greys', origin='lower', vmin=0,vmax=.002)\n",
    "plt.colorbar()\n",
    "plt.show()"
   ]
  },
  {
   "cell_type": "markdown",
   "metadata": {},
   "source": [
    "### Check DQ flagging \n",
    "Any pixel flagged as NON_SCIENCE should also be flagged as DO_NOT_USE. Check if this is in place in both the input reference file and for the output science file of the calwebb_image2 pipeline. If there are no assert errors, the test below passes."
   ]
  },
  {
   "cell_type": "code",
   "execution_count": null,
   "metadata": {},
   "outputs": [],
   "source": [
    "# Check if the output cal file is flagged properly\n",
    "\n",
    "# Test that all pixels flagged with NON_SCIENCE are also flagged as DO_NOT_USE\n",
    "nonsciencearray = (im_cal.dq & dqflags.pixel['NON_SCIENCE'] > 0)\n",
    "badarray = (im_cal.dq & dqflags.pixel['DO_NOT_USE'] > 0)\n",
    "\n",
    "try:\n",
    "    assert nonsciencearray.all() == badarray.all()\n",
    "except AssertionError:\n",
    "    print('AssertionError: The NON_SCIENCE pixels are not equal to the DO_NOT_USE pixels in the flat_fielded file.')\n",
    "\n",
    "# Test if the input reference file had the flags all set the same way\n",
    "\n",
    "nonsciencearray = (flat_im.dq & dqflags.pixel['NON_SCIENCE'] > 0)\n",
    "badarray = (flat_im.dq & dqflags.pixel['DO_NOT_USE'] > 0)\n",
    "\n",
    "try:\n",
    "    assert nonsciencearray.all() == badarray.all()\n",
    "except AssertionError:\n",
    "    print('AssertionError: The NON_SCIENCE pixels are not equal to the DO_NOT_USE pixels in the input file.')\n",
    "   "
   ]
  },
  {
   "cell_type": "code",
   "execution_count": null,
   "metadata": {},
   "outputs": [],
   "source": [
    "# Look at DQ planes of rate and cal files and make sure flat field reference file was added to the rate file.\n",
    "\n",
    "rate_dq = im.dq\n",
    "cal_dq = im_cal.dq\n",
    "flat_dq = flat_im.dq\n",
    "\n",
    "try:\n",
    "    assert cal_dq.all() == rate_dq.all() & flat_dq.all()\n",
    "except AssertionError:\n",
    "    print('AssertionError: The dq plane of the reference file was not added to the input dq plane properly.')\n",
    "    "
   ]
  },
  {
   "cell_type": "code",
   "execution_count": null,
   "metadata": {},
   "outputs": [],
   "source": [
    "# Make sure any pixels marked 'NO_FLAT_FIELD' in the dq of the reference file are flagged 'DO_NOT_USE' in output image\n",
    "noflatarray = (flat_im.dq & dqflags.pixel['NO_FLAT_FIELD'] > 0)\n",
    "badarray = (im_cal.dq & dqflags.pixel['DO_NOT_USE'] > 0)\n",
    "\n",
    "try:\n",
    "    assert noflatarray.all() == badarray.all()\n",
    "except AssertionError:\n",
    "    print('AssertionError: The NO_FLAT_FIELD pixels are not equal to the DO_NOT_USE pixels in the flat_fielded file.')\n"
   ]
  },
  {
   "cell_type": "markdown",
   "metadata": {},
   "source": [
    "### Look at the dq planes to see how they change.\n",
    "\n",
    "The dq planes shown below show the rate file before the flat field step, the reference file dq plane, and the dq plane after the flat field step is applied.\n",
    "\n",
    "The regions marked with white have been set as 'DO_NOT_USE' in the dq plane. The images below should show that the 4QPM regions are marked as DO_NOT_USE by the flat field step. The rate image dq plane does not remove the 4QPM, but the flat field dq plane and the cal dq plane should both have the 4QPM regions marked as DO_NOT_USE."
   ]
  },
  {
   "cell_type": "code",
   "execution_count": null,
   "metadata": {},
   "outputs": [],
   "source": [
    "# Look at the dq plane of the rate image\n",
    "\n",
    "plt.figure(figsize=(20,20))\n",
    "\n",
    "# call out DO_NOT_USE values of 1\n",
    "masked_array = np.ma.masked_where((rate_dq & dqflags.pixel['DO_NOT_USE'] > 0), rate_dq)\n",
    "\n",
    "cmap = matplotlib.cm.get_cmap(\"rainbow\").copy()  # Can be any colormap that you want after the cm\n",
    "cmap.set_bad(color='white')\n",
    "\n",
    "plt.imshow(masked_array, cmap=cmap, origin='lower', vmin=0,vmax=200)\n",
    "plt.colorbar()\n",
    "plt.show()"
   ]
  },
  {
   "cell_type": "markdown",
   "metadata": {},
   "source": [
    "### Take a look at the dq plane of the flat field reference file.\n",
    "\n",
    "The dq definitions in the flat field file are as follows (from the dq_def extention)\n",
    "\n",
    "        Value    DQ Name\n",
    "            1  DO_NOT_USE\n",
    "            2  NON_SCIENCE\n",
    "            4  UNRELIABLE_FLAT\n",
    "            8  CDP_PARTIAL_DATA\n",
    "           16  CDP_LOW_QUAL\n",
    "           32  CDP_UNRELIABLE_ERROR\n",
    "           64  NO_FLAT_FIELD\n",
    "          128  DIFF_PATTERN\n",
    "          \n",
    "If the pixel has an odd numbered value, it has been combined with the value 'DO_NOT_USE', and is not applied in the division of the science data by the flat. These 'bad' pixels are flagged in the following image by being shown in white. The purple pixels have values of zero, which indicate they are good science pixels.          "
   ]
  },
  {
   "cell_type": "code",
   "execution_count": null,
   "metadata": {},
   "outputs": [],
   "source": [
    "# Look at the dq plane of the flat_field image\n",
    "\n",
    "plt.figure(figsize=(20,20))\n",
    "\n",
    "# call out DO_NOT_USE values of 1\n",
    "masked_flat = np.ma.masked_where((flat_dq & dqflags.pixel['DO_NOT_USE'] > 0), flat_dq)\n",
    "\n",
    "cmap = matplotlib.cm.get_cmap(\"rainbow\").copy()  # Can be any colormap that you want after the cm\n",
    "cmap.set_bad(color='white')\n",
    "\n",
    "plt.imshow(masked_flat, cmap=cmap, origin='lower', vmin=0,vmax=5)\n",
    "plt.colorbar()\n",
    "plt.show()"
   ]
  },
  {
   "cell_type": "code",
   "execution_count": null,
   "metadata": {},
   "outputs": [],
   "source": [
    "# Look at the dq plane of the cal image\n",
    "\n",
    "plt.figure(figsize=(20,20))\n",
    "\n",
    "# call out DO_NOT_USE values of 1\n",
    "masked_cal = np.ma.masked_where((cal_dq & dqflags.pixel['DO_NOT_USE'] > 0), cal_dq)\n",
    "\n",
    "cmap = matplotlib.cm.get_cmap(\"rainbow\").copy() # Can be any colormap that you want after the cm\n",
    "cmap.set_bad(color='white')\n",
    "\n",
    "plt.imshow(masked_cal, cmap=cmap, origin='lower', vmin=0,vmax=200)\n",
    "plt.colorbar()\n",
    "plt.show()"
   ]
  },
  {
   "cell_type": "markdown",
   "metadata": {},
   "source": [
    "### Take a look at what portion of the flat fielded image will be masked out in combined (image3 pipeline) data\n",
    "\n",
    "Take the masked NaN region shown above and apply it to the flat fielded image to see what portion of the image will be masked out once calwebb_image3 is run and the DO_NOT_USE pixels are masked out."
   ]
  },
  {
   "cell_type": "code",
   "execution_count": null,
   "metadata": {},
   "outputs": [],
   "source": [
    "# Look at the dq plane of the cal image\n",
    "\n",
    "plt.figure(figsize=(20,20))\n",
    "\n",
    "# call out DO_NOT_USE values of 1\n",
    "masked_cal = np.ma.masked_where((cal_dq & dqflags.pixel['DO_NOT_USE'] > 0), im_cal.data)\n",
    "\n",
    "cmap = matplotlib.cm.get_cmap(\"Greys\").copy()  # Can be any colormap that you want after the cm\n",
    "cmap.set_bad(color='blue')  # Mark the DO_NOT_USE pixel color that will be masked out\n",
    "\n",
    "plt.imshow(masked_cal, cmap=cmap, origin='lower', vmin=-2,vmax=10)\n",
    "plt.colorbar()\n",
    "plt.show()"
   ]
  },
  {
   "cell_type": "markdown",
   "metadata": {},
   "source": [
    "### Passing criteria\n",
    "\n",
    "If none of the assert messages or error messages print throughout the notebook and the sci ratio comparison gives values near 1.0, this test passes. The images are mostly for quick checks that nothing looks unusual or out of place."
   ]
  },
  {
   "cell_type": "markdown",
   "metadata": {},
   "source": [
    "<a id=\"about_ID\"></a>\n",
    "## About this Notebook\n",
    "**Author:** T. Temim and M. Cracraft, INS/MIRI\n",
    "<br>**Updated On:** 05/11/2021 "
   ]
  },
  {
   "cell_type": "code",
   "execution_count": null,
   "metadata": {},
   "outputs": [],
   "source": []
  }
 ],
 "metadata": {
  "language_info": {
   "name": "python"
  }
 },
 "nbformat": 4,
 "nbformat_minor": 4
}
