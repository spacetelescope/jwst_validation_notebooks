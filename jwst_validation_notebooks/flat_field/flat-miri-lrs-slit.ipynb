{
 "cells": [
  {
   "cell_type": "code",
   "execution_count": 20,
   "metadata": {},
   "outputs": [],
   "source": [
    "from astropy.io import fits\n",
    "import matplotlib.pyplot as plt\n",
    "import statistics as stat\n",
    "import numpy as np\n",
    "from jwst.pipeline import Detector1Pipeline\n",
    "from jwst.pipeline import Spec2Pipeline\n",
    "from jwst.background import BackgroundStep\n",
    "from jwst.assign_wcs import AssignWcsStep\n",
    "from jwst.extract_2d import Extract2dStep\n",
    "from jwst.flatfield import FlatFieldStep\n",
    "import crds\n",
    "from jwst import datamodels"
   ]
  },
  {
   "cell_type": "markdown",
   "metadata": {},
   "source": [
    "# Run Pipeline"
   ]
  },
  {
   "cell_type": "code",
   "execution_count": 6,
   "metadata": {},
   "outputs": [
    {
     "name": "stderr",
     "output_type": "stream",
     "text": [
      "2020-08-12 14:00:34,326 - CRDS - ERROR -  Error determining best reference for 'pars-groupscalestep'  =   Unknown reference type 'pars-groupscalestep'\n",
      "2020-08-12 14:00:34,332 - CRDS - ERROR -  Error determining best reference for 'pars-dqinitstep'  =   Unknown reference type 'pars-dqinitstep'\n",
      "2020-08-12 14:00:34,339 - CRDS - ERROR -  Error determining best reference for 'pars-saturationstep'  =   Unknown reference type 'pars-saturationstep'\n",
      "2020-08-12 14:00:34,344 - CRDS - ERROR -  Error determining best reference for 'pars-ipcstep'  =   Unknown reference type 'pars-ipcstep'\n",
      "2020-08-12 14:00:34,350 - CRDS - ERROR -  Error determining best reference for 'pars-superbiasstep'  =   Unknown reference type 'pars-superbiasstep'\n",
      "2020-08-12 14:00:34,356 - CRDS - ERROR -  Error determining best reference for 'pars-refpixstep'  =   Unknown reference type 'pars-refpixstep'\n",
      "2020-08-12 14:00:34,364 - CRDS - ERROR -  Error determining best reference for 'pars-rscd_step'  =   Unknown reference type 'pars-rscd_step'\n",
      "2020-08-12 14:00:34,370 - CRDS - ERROR -  Error determining best reference for 'pars-firstframestep'  =   Unknown reference type 'pars-firstframestep'\n",
      "2020-08-12 14:00:34,377 - CRDS - ERROR -  Error determining best reference for 'pars-lastframestep'  =   Unknown reference type 'pars-lastframestep'\n",
      "2020-08-12 14:00:34,382 - CRDS - ERROR -  Error determining best reference for 'pars-linearitystep'  =   Unknown reference type 'pars-linearitystep'\n",
      "2020-08-12 14:00:34,390 - CRDS - ERROR -  Error determining best reference for 'pars-darkcurrentstep'  =   Unknown reference type 'pars-darkcurrentstep'\n",
      "2020-08-12 14:00:34,396 - CRDS - ERROR -  Error determining best reference for 'pars-persistencestep'  =   Unknown reference type 'pars-persistencestep'\n",
      "2020-08-12 14:00:34,403 - CRDS - ERROR -  Error determining best reference for 'pars-jumpstep'  =   Unknown reference type 'pars-jumpstep'\n",
      "2020-08-12 14:00:34,410 - CRDS - ERROR -  Error determining best reference for 'pars-rampfitstep'  =   Unknown reference type 'pars-rampfitstep'\n",
      "2020-08-12 14:00:34,415 - CRDS - ERROR -  Error determining best reference for 'pars-gainscalestep'  =   Unknown reference type 'pars-gainscalestep'\n",
      "2020-08-12 14:00:34,419 - CRDS - ERROR -  Error determining best reference for 'pars-detector1pipeline'  =   Unknown reference type 'pars-detector1pipeline'\n",
      "2020-08-12 14:00:34,449 - stpipe.Detector1Pipeline - INFO - Detector1Pipeline instance created.\n",
      "2020-08-12 14:00:34,450 - stpipe.Detector1Pipeline.group_scale - INFO - GroupScaleStep instance created.\n",
      "2020-08-12 14:00:34,451 - stpipe.Detector1Pipeline.dq_init - INFO - DQInitStep instance created.\n",
      "2020-08-12 14:00:34,453 - stpipe.Detector1Pipeline.saturation - INFO - SaturationStep instance created.\n",
      "2020-08-12 14:00:34,454 - stpipe.Detector1Pipeline.ipc - INFO - IPCStep instance created.\n",
      "2020-08-12 14:00:34,455 - stpipe.Detector1Pipeline.superbias - INFO - SuperBiasStep instance created.\n",
      "2020-08-12 14:00:34,456 - stpipe.Detector1Pipeline.refpix - INFO - RefPixStep instance created.\n",
      "2020-08-12 14:00:34,458 - stpipe.Detector1Pipeline.rscd - INFO - RSCD_Step instance created.\n",
      "2020-08-12 14:00:34,460 - stpipe.Detector1Pipeline.firstframe - INFO - FirstFrameStep instance created.\n",
      "2020-08-12 14:00:34,461 - stpipe.Detector1Pipeline.lastframe - INFO - LastFrameStep instance created.\n",
      "2020-08-12 14:00:34,463 - stpipe.Detector1Pipeline.linearity - INFO - LinearityStep instance created.\n",
      "2020-08-12 14:00:34,464 - stpipe.Detector1Pipeline.dark_current - INFO - DarkCurrentStep instance created.\n",
      "2020-08-12 14:00:34,466 - stpipe.Detector1Pipeline.persistence - INFO - PersistenceStep instance created.\n",
      "2020-08-12 14:00:34,468 - stpipe.Detector1Pipeline.jump - INFO - JumpStep instance created.\n",
      "2020-08-12 14:00:34,470 - stpipe.Detector1Pipeline.ramp_fit - INFO - RampFitStep instance created.\n",
      "2020-08-12 14:00:34,472 - stpipe.Detector1Pipeline.gain_scale - INFO - GainScaleStep instance created.\n",
      "2020-08-12 14:00:34,719 - stpipe.Detector1Pipeline - INFO - Step Detector1Pipeline running with args ('mirisimv2.3sim/mirisimoutput/det_images/det_image_seq1_MIRIMAGE_P750Lexp1.fits',).\n",
      "2020-08-12 14:00:34,730 - stpipe.Detector1Pipeline - INFO - Step Detector1Pipeline parameters are: {'pre_hooks': [], 'post_hooks': [], 'output_file': None, 'output_dir': 'mirisimv2.3sim/detector1/', 'output_ext': '.fits', 'output_use_model': False, 'output_use_index': True, 'save_results': False, 'skip': False, 'suffix': None, 'search_output_file': True, 'input_dir': '', 'save_calibrated_ramp': False, 'steps': {'group_scale': {'pre_hooks': [], 'post_hooks': [], 'output_file': None, 'output_dir': None, 'output_ext': '.fits', 'output_use_model': False, 'output_use_index': True, 'save_results': False, 'skip': False, 'suffix': None, 'search_output_file': True, 'input_dir': ''}, 'dq_init': {'pre_hooks': [], 'post_hooks': [], 'output_file': None, 'output_dir': None, 'output_ext': '.fits', 'output_use_model': False, 'output_use_index': True, 'save_results': False, 'skip': False, 'suffix': None, 'search_output_file': True, 'input_dir': ''}, 'saturation': {'pre_hooks': [], 'post_hooks': [], 'output_file': None, 'output_dir': None, 'output_ext': '.fits', 'output_use_model': False, 'output_use_index': True, 'save_results': False, 'skip': False, 'suffix': None, 'search_output_file': True, 'input_dir': ''}, 'ipc': {'pre_hooks': [], 'post_hooks': [], 'output_file': None, 'output_dir': None, 'output_ext': '.fits', 'output_use_model': False, 'output_use_index': True, 'save_results': False, 'skip': True, 'suffix': None, 'search_output_file': True, 'input_dir': ''}, 'superbias': {'pre_hooks': [], 'post_hooks': [], 'output_file': None, 'output_dir': None, 'output_ext': '.fits', 'output_use_model': False, 'output_use_index': True, 'save_results': False, 'skip': False, 'suffix': None, 'search_output_file': True, 'input_dir': ''}, 'refpix': {'pre_hooks': [], 'post_hooks': [], 'output_file': None, 'output_dir': None, 'output_ext': '.fits', 'output_use_model': False, 'output_use_index': True, 'save_results': False, 'skip': False, 'suffix': None, 'search_output_file': True, 'input_dir': '', 'odd_even_columns': True, 'use_side_ref_pixels': True, 'side_smoothing_length': 11, 'side_gain': 1.0, 'odd_even_rows': True}, 'rscd': {'pre_hooks': [], 'post_hooks': [], 'output_file': None, 'output_dir': None, 'output_ext': '.fits', 'output_use_model': False, 'output_use_index': True, 'save_results': False, 'skip': False, 'suffix': None, 'search_output_file': True, 'input_dir': '', 'type': 'baseline'}, 'firstframe': {'pre_hooks': [], 'post_hooks': [], 'output_file': None, 'output_dir': None, 'output_ext': '.fits', 'output_use_model': False, 'output_use_index': True, 'save_results': False, 'skip': False, 'suffix': None, 'search_output_file': True, 'input_dir': ''}, 'lastframe': {'pre_hooks': [], 'post_hooks': [], 'output_file': None, 'output_dir': None, 'output_ext': '.fits', 'output_use_model': False, 'output_use_index': True, 'save_results': False, 'skip': False, 'suffix': None, 'search_output_file': True, 'input_dir': ''}, 'linearity': {'pre_hooks': [], 'post_hooks': [], 'output_file': None, 'output_dir': None, 'output_ext': '.fits', 'output_use_model': False, 'output_use_index': True, 'save_results': False, 'skip': False, 'suffix': None, 'search_output_file': True, 'input_dir': ''}, 'dark_current': {'pre_hooks': [], 'post_hooks': [], 'output_file': None, 'output_dir': None, 'output_ext': '.fits', 'output_use_model': False, 'output_use_index': True, 'save_results': False, 'skip': False, 'suffix': None, 'search_output_file': True, 'input_dir': '', 'dark_output': None}, 'persistence': {'pre_hooks': [], 'post_hooks': [], 'output_file': None, 'output_dir': None, 'output_ext': '.fits', 'output_use_model': False, 'output_use_index': True, 'save_results': False, 'skip': False, 'suffix': None, 'search_output_file': True, 'input_dir': '', 'input_trapsfilled': '', 'flag_pers_cutoff': 40.0, 'save_persistence': False, 'save_trapsfilled': True}, 'jump': {'pre_hooks': [], 'post_hooks': [], 'output_file': None, 'output_dir': None, 'output_ext': '.fits', 'output_use_model': False, 'output_use_index': True, 'save_results': False, 'skip': False, 'suffix': None, 'search_output_file': True, 'input_dir': '', 'rejection_threshold': 4.0, 'maximum_cores': 'none', 'flag_4_neighbors': True, 'max_jump_to_flag_neighbors': 200.0, 'min_jump_to_flag_neighbors': 10.0}, 'ramp_fit': {'pre_hooks': [], 'post_hooks': [], 'output_file': None, 'output_dir': None, 'output_ext': '.fits', 'output_use_model': False, 'output_use_index': True, 'save_results': False, 'skip': False, 'suffix': None, 'search_output_file': True, 'input_dir': '', 'int_name': '', 'save_opt': False, 'opt_name': '', 'maximum_cores': 'none'}, 'gain_scale': {'pre_hooks': [], 'post_hooks': [], 'output_file': None, 'output_dir': None, 'output_ext': '.fits', 'output_use_model': False, 'output_use_index': True, 'save_results': False, 'skip': False, 'suffix': None, 'search_output_file': True, 'input_dir': ''}}}\n"
     ]
    },
    {
     "name": "stderr",
     "output_type": "stream",
     "text": [
      "2020-08-12 14:00:34,892 - stpipe.Detector1Pipeline - INFO - Prefetching reference files for dataset: 'det_image_seq1_MIRIMAGE_P750Lexp1.fits' reftypes = ['dark', 'gain', 'linearity', 'mask', 'persat', 'readnoise', 'refpix', 'rscd', 'saturation', 'superbias', 'trapdensity', 'trappars']\n",
      "2020-08-12 14:00:35,543 - stpipe.Detector1Pipeline - INFO - Prefetch for DARK reference file is '/grp/crds/cache/references/jwst/jwst_miri_dark_0058.fits'.\n",
      "2020-08-12 14:00:35,582 - stpipe.Detector1Pipeline - INFO - Prefetch for GAIN reference file is '/grp/crds/cache/references/jwst/jwst_miri_gain_0008.fits'.\n",
      "2020-08-12 14:00:35,617 - stpipe.Detector1Pipeline - INFO - Prefetch for LINEARITY reference file is '/grp/crds/cache/references/jwst/jwst_miri_linearity_0024.fits'.\n",
      "2020-08-12 14:00:35,655 - stpipe.Detector1Pipeline - INFO - Prefetch for MASK reference file is '/grp/crds/cache/references/jwst/jwst_miri_mask_0023.fits'.\n",
      "2020-08-12 14:00:35,695 - stpipe.Detector1Pipeline - INFO - Prefetch for PERSAT reference file is 'N/A'.\n",
      "2020-08-12 14:00:35,695 - stpipe.Detector1Pipeline - INFO - Prefetch for READNOISE reference file is '/grp/crds/cache/references/jwst/jwst_miri_readnoise_0057.fits'.\n",
      "2020-08-12 14:00:35,733 - stpipe.Detector1Pipeline - INFO - Prefetch for REFPIX reference file is 'N/A'.\n",
      "2020-08-12 14:00:35,734 - stpipe.Detector1Pipeline - INFO - Prefetch for RSCD reference file is '/grp/crds/cache/references/jwst/jwst_miri_rscd_0010.fits'.\n",
      "2020-08-12 14:00:35,788 - stpipe.Detector1Pipeline - INFO - Prefetch for SATURATION reference file is '/grp/crds/cache/references/jwst/jwst_miri_saturation_0022.fits'.\n",
      "2020-08-12 14:00:35,825 - stpipe.Detector1Pipeline - INFO - Prefetch for SUPERBIAS reference file is 'N/A'.\n",
      "2020-08-12 14:00:35,826 - stpipe.Detector1Pipeline - INFO - Prefetch for TRAPDENSITY reference file is 'N/A'.\n",
      "2020-08-12 14:00:35,826 - stpipe.Detector1Pipeline - INFO - Prefetch for TRAPPARS reference file is 'N/A'.\n",
      "2020-08-12 14:00:35,827 - stpipe.Detector1Pipeline - INFO - Starting calwebb_detector1 ...\n",
      "2020-08-12 14:00:36,136 - stpipe.Detector1Pipeline.group_scale - INFO - Step group_scale running with args (<RampModel(2, 10, 1024, 1032) from det_image_seq1_MIRIMAGE_P750Lexp1.fits>,).\n",
      "2020-08-12 14:00:36,137 - stpipe.Detector1Pipeline.group_scale - INFO - Step group_scale parameters are: {'pre_hooks': [], 'post_hooks': [], 'output_file': None, 'output_dir': None, 'output_ext': '.fits', 'output_use_model': False, 'output_use_index': True, 'save_results': False, 'skip': False, 'suffix': None, 'search_output_file': True, 'input_dir': 'mirisimv2.3sim/mirisimoutput/det_images'}\n",
      "2020-08-12 14:00:36,148 - stpipe.Detector1Pipeline.group_scale - INFO - NFRAMES=1 is a power of 2; correction not needed\n",
      "2020-08-12 14:00:36,150 - stpipe.Detector1Pipeline.group_scale - INFO - Step will be skipped\n",
      "2020-08-12 14:00:36,152 - stpipe.Detector1Pipeline.group_scale - INFO - Step group_scale done\n",
      "2020-08-12 14:00:36,250 - stpipe.Detector1Pipeline.dq_init - INFO - Step dq_init running with args (<RampModel(2, 10, 1024, 1032) from det_image_seq1_MIRIMAGE_P750Lexp1.fits>,).\n",
      "2020-08-12 14:00:36,252 - stpipe.Detector1Pipeline.dq_init - INFO - Step dq_init parameters are: {'pre_hooks': [], 'post_hooks': [], 'output_file': None, 'output_dir': None, 'output_ext': '.fits', 'output_use_model': False, 'output_use_index': True, 'save_results': False, 'skip': False, 'suffix': None, 'search_output_file': True, 'input_dir': 'mirisimv2.3sim/mirisimoutput/det_images'}\n",
      "2020-08-12 14:00:36,281 - stpipe.Detector1Pipeline.dq_init - INFO - Using MASK reference file /grp/crds/cache/references/jwst/jwst_miri_mask_0023.fits\n",
      "2020-08-12 14:00:37,587 - stpipe.Detector1Pipeline.dq_init - INFO - Step dq_init done\n",
      "2020-08-12 14:00:37,698 - stpipe.Detector1Pipeline.saturation - INFO - Step saturation running with args (<RampModel(2, 10, 1024, 1032) from det_image_seq1_MIRIMAGE_P750Lexp1.fits>,).\n",
      "2020-08-12 14:00:37,699 - stpipe.Detector1Pipeline.saturation - INFO - Step saturation parameters are: {'pre_hooks': [], 'post_hooks': [], 'output_file': None, 'output_dir': None, 'output_ext': '.fits', 'output_use_model': False, 'output_use_index': True, 'save_results': False, 'skip': False, 'suffix': None, 'search_output_file': True, 'input_dir': 'mirisimv2.3sim/mirisimoutput/det_images'}\n",
      "2020-08-12 14:00:37,731 - stpipe.Detector1Pipeline.saturation - INFO - Using SATURATION reference file /grp/crds/cache/references/jwst/jwst_miri_saturation_0022.fits\n",
      "2020-08-12 14:00:40,756 - stpipe.Detector1Pipeline.saturation - INFO - Step saturation done\n",
      "2020-08-12 14:00:40,886 - stpipe.Detector1Pipeline.ipc - INFO - Step ipc running with args (<RampModel(2, 10, 1024, 1032) from det_image_seq1_MIRIMAGE_P750Lexp1.fits>,).\n",
      "2020-08-12 14:00:40,887 - stpipe.Detector1Pipeline.ipc - INFO - Step ipc parameters are: {'pre_hooks': [], 'post_hooks': [], 'output_file': None, 'output_dir': None, 'output_ext': '.fits', 'output_use_model': False, 'output_use_index': True, 'save_results': False, 'skip': True, 'suffix': None, 'search_output_file': True, 'input_dir': 'mirisimv2.3sim/mirisimoutput/det_images'}\n",
      "2020-08-12 14:00:40,888 - stpipe.Detector1Pipeline.ipc - INFO - Step skipped.\n",
      "2020-08-12 14:00:40,889 - stpipe.Detector1Pipeline.ipc - INFO - Step ipc done\n",
      "2020-08-12 14:00:40,989 - stpipe.Detector1Pipeline.firstframe - INFO - Step firstframe running with args (<RampModel(2, 10, 1024, 1032) from det_image_seq1_MIRIMAGE_P750Lexp1.fits>,).\n",
      "2020-08-12 14:00:40,990 - stpipe.Detector1Pipeline.firstframe - INFO - Step firstframe parameters are: {'pre_hooks': [], 'post_hooks': [], 'output_file': None, 'output_dir': None, 'output_ext': '.fits', 'output_use_model': False, 'output_use_index': True, 'save_results': False, 'skip': False, 'suffix': None, 'search_output_file': True, 'input_dir': 'mirisimv2.3sim/mirisimoutput/det_images'}\n",
      "2020-08-12 14:00:41,087 - stpipe.Detector1Pipeline.firstframe - INFO - Step firstframe done\n",
      "2020-08-12 14:00:41,208 - stpipe.Detector1Pipeline.lastframe - INFO - Step lastframe running with args (<RampModel(2, 10, 1024, 1032) from det_image_seq1_MIRIMAGE_P750Lexp1.fits>,).\n",
      "2020-08-12 14:00:41,210 - stpipe.Detector1Pipeline.lastframe - INFO - Step lastframe parameters are: {'pre_hooks': [], 'post_hooks': [], 'output_file': None, 'output_dir': None, 'output_ext': '.fits', 'output_use_model': False, 'output_use_index': True, 'save_results': False, 'skip': False, 'suffix': None, 'search_output_file': True, 'input_dir': 'mirisimv2.3sim/mirisimoutput/det_images'}\n",
      "2020-08-12 14:00:41,302 - stpipe.Detector1Pipeline.lastframe - INFO - Step lastframe done\n",
      "2020-08-12 14:00:41,428 - stpipe.Detector1Pipeline.linearity - INFO - Step linearity running with args (<RampModel(2, 10, 1024, 1032) from det_image_seq1_MIRIMAGE_P750Lexp1.fits>,).\n",
      "2020-08-12 14:00:41,430 - stpipe.Detector1Pipeline.linearity - INFO - Step linearity parameters are: {'pre_hooks': [], 'post_hooks': [], 'output_file': None, 'output_dir': None, 'output_ext': '.fits', 'output_use_model': False, 'output_use_index': True, 'save_results': False, 'skip': False, 'suffix': None, 'search_output_file': True, 'input_dir': 'mirisimv2.3sim/mirisimoutput/det_images'}\n",
      "2020-08-12 14:00:41,463 - stpipe.Detector1Pipeline.linearity - INFO - Using Linearity reference file /grp/crds/cache/references/jwst/jwst_miri_linearity_0024.fits\n",
      "2020-08-12 14:00:55,290 - stpipe.Detector1Pipeline.linearity - INFO - Step linearity done\n",
      "2020-08-12 14:00:55,427 - stpipe.Detector1Pipeline.rscd - INFO - Step rscd running with args (<RampModel(2, 10, 1024, 1032) from det_image_seq1_MIRIMAGE_P750Lexp1.fits>,).\n",
      "2020-08-12 14:00:55,428 - stpipe.Detector1Pipeline.rscd - INFO - Step rscd parameters are: {'pre_hooks': [], 'post_hooks': [], 'output_file': None, 'output_dir': None, 'output_ext': '.fits', 'output_use_model': False, 'output_use_index': True, 'save_results': False, 'skip': False, 'suffix': None, 'search_output_file': True, 'input_dir': 'mirisimv2.3sim/mirisimoutput/det_images', 'type': 'baseline'}\n",
      "2020-08-12 14:00:55,463 - stpipe.Detector1Pipeline.rscd - INFO - Using RSCD reference file /grp/crds/cache/references/jwst/jwst_miri_rscd_0010.fits\n",
      "2020-08-12 14:00:55,689 - stpipe.Detector1Pipeline.rscd - INFO - Step rscd done\n"
     ]
    },
    {
     "name": "stderr",
     "output_type": "stream",
     "text": [
      "2020-08-12 14:00:55,805 - stpipe.Detector1Pipeline.dark_current - INFO - Step dark_current running with args (<RampModel(2, 10, 1024, 1032) from det_image_seq1_MIRIMAGE_P750Lexp1.fits>,).\n",
      "2020-08-12 14:00:55,807 - stpipe.Detector1Pipeline.dark_current - INFO - Step dark_current parameters are: {'pre_hooks': [], 'post_hooks': [], 'output_file': None, 'output_dir': 'mirisimv2.3sim/detector1/', 'output_ext': '.fits', 'output_use_model': False, 'output_use_index': True, 'save_results': False, 'skip': False, 'suffix': None, 'search_output_file': True, 'input_dir': 'mirisimv2.3sim/mirisimoutput/det_images', 'dark_output': None}\n",
      "2020-08-12 14:00:55,838 - stpipe.Detector1Pipeline.dark_current - INFO - Using DARK reference file /grp/crds/cache/references/jwst/jwst_miri_dark_0058.fits\n",
      "2020-08-12 14:14:46,414 - stpipe.Detector1Pipeline.dark_current - INFO - Science data nints=2, ngroups=10, nframes=1, groupgap=0\n",
      "2020-08-12 14:14:46,419 - stpipe.Detector1Pipeline.dark_current - INFO - Dark data nints=2, ngroups=200, nframes=1, groupgap=0\n",
      "2020-08-12 14:14:48,698 - stpipe.Detector1Pipeline.dark_current - INFO - Step dark_current done\n",
      "2020-08-12 14:14:48,865 - stpipe.Detector1Pipeline.refpix - INFO - Step refpix running with args (<RampModel(2, 10, 1024, 1032) from det_image_seq1_MIRIMAGE_P750Lexp1.fits>,).\n",
      "2020-08-12 14:14:48,866 - stpipe.Detector1Pipeline.refpix - INFO - Step refpix parameters are: {'pre_hooks': [], 'post_hooks': [], 'output_file': None, 'output_dir': None, 'output_ext': '.fits', 'output_use_model': False, 'output_use_index': True, 'save_results': False, 'skip': False, 'suffix': None, 'search_output_file': True, 'input_dir': 'mirisimv2.3sim/mirisimoutput/det_images', 'odd_even_columns': True, 'use_side_ref_pixels': True, 'side_smoothing_length': 11, 'side_gain': 1.0, 'odd_even_rows': True}\n",
      "2020-08-12 14:14:48,878 - stpipe.Detector1Pipeline.refpix - INFO - use_side_ref_pixels = True\n",
      "2020-08-12 14:14:48,879 - stpipe.Detector1Pipeline.refpix - INFO - odd_even_columns = True\n",
      "2020-08-12 14:14:48,879 - stpipe.Detector1Pipeline.refpix - INFO - side_smoothing_length = 11\n",
      "2020-08-12 14:14:48,880 - stpipe.Detector1Pipeline.refpix - INFO - side_gain = 1.000000\n",
      "2020-08-12 14:14:48,881 - stpipe.Detector1Pipeline.refpix - INFO - odd_even_rows = True\n",
      "2020-08-12 14:14:48,966 - stpipe.Detector1Pipeline.refpix - INFO - Subtracting initial read from each integration\n",
      "2020-08-12 14:14:49,210 - stpipe.Detector1Pipeline.refpix - INFO - Adding initial read back in\n",
      "2020-08-12 14:14:49,252 - stpipe.Detector1Pipeline.refpix - INFO - Step refpix done\n",
      "2020-08-12 14:14:49,388 - stpipe.Detector1Pipeline.jump - INFO - Step jump running with args (<RampModel(2, 10, 1024, 1032) from det_image_seq1_MIRIMAGE_P750Lexp1.fits>,).\n",
      "2020-08-12 14:14:49,390 - stpipe.Detector1Pipeline.jump - INFO - Step jump parameters are: {'pre_hooks': [], 'post_hooks': [], 'output_file': None, 'output_dir': None, 'output_ext': '.fits', 'output_use_model': False, 'output_use_index': True, 'save_results': False, 'skip': False, 'suffix': None, 'search_output_file': True, 'input_dir': 'mirisimv2.3sim/mirisimoutput/det_images', 'rejection_threshold': 4.0, 'maximum_cores': 'none', 'flag_4_neighbors': True, 'max_jump_to_flag_neighbors': 200.0, 'min_jump_to_flag_neighbors': 10.0}\n",
      "2020-08-12 14:14:49,401 - stpipe.Detector1Pipeline.jump - INFO - CR rejection threshold = 4 sigma\n",
      "2020-08-12 14:14:49,635 - stpipe.Detector1Pipeline.jump - INFO - Using GAIN reference file: /grp/crds/cache/references/jwst/jwst_miri_gain_0008.fits\n",
      "2020-08-12 14:14:50,694 - stpipe.Detector1Pipeline.jump - INFO - Using READNOISE reference file: /grp/crds/cache/references/jwst/jwst_miri_readnoise_0057.fits\n",
      "2020-08-12 14:14:51,702 - stpipe.Detector1Pipeline.jump - INFO - Found 8 possible cores to use for jump detection \n",
      "2020-08-12 14:14:51,817 - stpipe.Detector1Pipeline.jump - INFO - Executing two-point difference method\n",
      "2020-08-12 14:14:52,261 - stpipe.Detector1Pipeline.jump - INFO -  working on integration 1\n",
      "2020-08-12 14:14:52,911 - stpipe.Detector1Pipeline.jump - INFO - From highest outlier Two point found 9437 pixels with at least one CR\n",
      "2020-08-12 14:14:53,207 - stpipe.Detector1Pipeline.jump - INFO -  working on integration 2\n",
      "2020-08-12 14:14:53,706 - stpipe.Detector1Pipeline.jump - INFO - From highest outlier Two point found 11981 pixels with at least one CR\n",
      "2020-08-12 14:14:54,400 - stpipe.Detector1Pipeline.jump - INFO - Total elapsed time = 2.58265 sec\n",
      "2020-08-12 14:14:54,403 - stpipe.Detector1Pipeline.jump - INFO - The execution time in seconds: 5.001361\n",
      "2020-08-12 14:14:54,406 - stpipe.Detector1Pipeline.jump - INFO - Step jump done\n",
      "2020-08-12 14:14:54,545 - stpipe.Detector1Pipeline.ramp_fit - INFO - Step ramp_fit running with args (<RampModel(2, 10, 1024, 1032) from det_image_seq1_MIRIMAGE_P750Lexp1.fits>,).\n",
      "2020-08-12 14:14:54,547 - stpipe.Detector1Pipeline.ramp_fit - INFO - Step ramp_fit parameters are: {'pre_hooks': [], 'post_hooks': [], 'output_file': None, 'output_dir': 'mirisimv2.3sim/detector1/', 'output_ext': '.fits', 'output_use_model': False, 'output_use_index': True, 'save_results': False, 'skip': False, 'suffix': None, 'search_output_file': True, 'input_dir': 'mirisimv2.3sim/mirisimoutput/det_images', 'int_name': '', 'save_opt': False, 'opt_name': '', 'maximum_cores': 'none'}\n",
      "2020-08-12 14:14:54,602 - stpipe.Detector1Pipeline.ramp_fit - INFO - Using READNOISE reference file: /grp/crds/cache/references/jwst/jwst_miri_readnoise_0057.fits\n",
      "2020-08-12 14:14:54,660 - stpipe.Detector1Pipeline.ramp_fit - INFO - Using GAIN reference file: /grp/crds/cache/references/jwst/jwst_miri_gain_0008.fits\n",
      "2020-08-12 14:14:54,712 - stpipe.Detector1Pipeline.ramp_fit - INFO - Using algorithm = ols\n",
      "2020-08-12 14:14:54,713 - stpipe.Detector1Pipeline.ramp_fit - INFO - Using weighting = optimal\n",
      "2020-08-12 14:14:54,801 - stpipe.Detector1Pipeline.ramp_fit - INFO - Number of leading groups that are flagged as DO_NOT_USE: 1\n",
      "2020-08-12 14:14:54,803 - stpipe.Detector1Pipeline.ramp_fit - INFO - MIRI dataset has all pixels in the final group flagged as DO_NOT_USE.\n",
      "2020-08-12 14:15:16,191 - stpipe.Detector1Pipeline.ramp_fit - INFO - Number of groups per integration: 10\n",
      "2020-08-12 14:15:16,192 - stpipe.Detector1Pipeline.ramp_fit - INFO - Number of integrations: 2\n",
      "2020-08-12 14:15:16,277 - stpipe.Detector1Pipeline.ramp_fit - INFO - Step ramp_fit done\n",
      "2020-08-12 14:15:16,428 - stpipe.Detector1Pipeline.gain_scale - INFO - Step gain_scale running with args (<ImageModel(1024, 1032) from det_image_seq1_MIRIMAGE_P750Lexp1.fits>,).\n",
      "2020-08-12 14:15:16,430 - stpipe.Detector1Pipeline.gain_scale - INFO - Step gain_scale parameters are: {'pre_hooks': [], 'post_hooks': [], 'output_file': None, 'output_dir': None, 'output_ext': '.fits', 'output_use_model': False, 'output_use_index': True, 'save_results': False, 'skip': False, 'suffix': 'gain_scale', 'search_output_file': True, 'input_dir': 'mirisimv2.3sim/mirisimoutput/det_images'}\n",
      "2020-08-12 14:15:16,518 - stpipe.Detector1Pipeline.gain_scale - INFO - GAINFACT not found in gain reference file\n",
      "2020-08-12 14:15:16,519 - stpipe.Detector1Pipeline.gain_scale - INFO - Step will be skipped\n",
      "2020-08-12 14:15:16,522 - stpipe.Detector1Pipeline.gain_scale - INFO - Step gain_scale done\n",
      "2020-08-12 14:15:16,624 - stpipe.Detector1Pipeline.gain_scale - INFO - Step gain_scale running with args (<CubeModel(2, 1024, 1032) from det_image_seq1_MIRIMAGE_P750Lexp1.fits>,).\n",
      "2020-08-12 14:15:16,625 - stpipe.Detector1Pipeline.gain_scale - INFO - Step gain_scale parameters are: {'pre_hooks': [], 'post_hooks': [], 'output_file': None, 'output_dir': None, 'output_ext': '.fits', 'output_use_model': False, 'output_use_index': True, 'save_results': False, 'skip': False, 'suffix': 'gain_scaleints', 'search_output_file': True, 'input_dir': 'mirisimv2.3sim/mirisimoutput/det_images'}\n",
      "2020-08-12 14:15:16,712 - stpipe.Detector1Pipeline.gain_scale - INFO - GAINFACT not found in gain reference file\n",
      "2020-08-12 14:15:16,713 - stpipe.Detector1Pipeline.gain_scale - INFO - Step will be skipped\n",
      "2020-08-12 14:15:16,716 - stpipe.Detector1Pipeline.gain_scale - INFO - Step gain_scale done\n",
      "2020-08-12 14:15:16,775 - stpipe.Detector1Pipeline - INFO - ... ending calwebb_detector1\n"
     ]
    },
    {
     "name": "stderr",
     "output_type": "stream",
     "text": [
      "2020-08-12 14:15:16,776 - stpipe.Detector1Pipeline - INFO - Step Detector1Pipeline done\n",
      "2020-08-12 14:15:17,101 - CRDS - ERROR -  Error determining best reference for 'pars-groupscalestep'  =   Unknown reference type 'pars-groupscalestep'\n",
      "2020-08-12 14:15:17,106 - CRDS - ERROR -  Error determining best reference for 'pars-dqinitstep'  =   Unknown reference type 'pars-dqinitstep'\n",
      "2020-08-12 14:15:17,112 - CRDS - ERROR -  Error determining best reference for 'pars-saturationstep'  =   Unknown reference type 'pars-saturationstep'\n",
      "2020-08-12 14:15:17,117 - CRDS - ERROR -  Error determining best reference for 'pars-ipcstep'  =   Unknown reference type 'pars-ipcstep'\n",
      "2020-08-12 14:15:17,123 - CRDS - ERROR -  Error determining best reference for 'pars-superbiasstep'  =   Unknown reference type 'pars-superbiasstep'\n",
      "2020-08-12 14:15:17,129 - CRDS - ERROR -  Error determining best reference for 'pars-refpixstep'  =   Unknown reference type 'pars-refpixstep'\n",
      "2020-08-12 14:15:17,135 - CRDS - ERROR -  Error determining best reference for 'pars-rscd_step'  =   Unknown reference type 'pars-rscd_step'\n",
      "2020-08-12 14:15:17,142 - CRDS - ERROR -  Error determining best reference for 'pars-firstframestep'  =   Unknown reference type 'pars-firstframestep'\n",
      "2020-08-12 14:15:17,147 - CRDS - ERROR -  Error determining best reference for 'pars-lastframestep'  =   Unknown reference type 'pars-lastframestep'\n",
      "2020-08-12 14:15:17,153 - CRDS - ERROR -  Error determining best reference for 'pars-linearitystep'  =   Unknown reference type 'pars-linearitystep'\n",
      "2020-08-12 14:15:17,158 - CRDS - ERROR -  Error determining best reference for 'pars-darkcurrentstep'  =   Unknown reference type 'pars-darkcurrentstep'\n",
      "2020-08-12 14:15:17,164 - CRDS - ERROR -  Error determining best reference for 'pars-persistencestep'  =   Unknown reference type 'pars-persistencestep'\n",
      "2020-08-12 14:15:17,169 - CRDS - ERROR -  Error determining best reference for 'pars-jumpstep'  =   Unknown reference type 'pars-jumpstep'\n",
      "2020-08-12 14:15:17,174 - CRDS - ERROR -  Error determining best reference for 'pars-rampfitstep'  =   Unknown reference type 'pars-rampfitstep'\n",
      "2020-08-12 14:15:17,180 - CRDS - ERROR -  Error determining best reference for 'pars-gainscalestep'  =   Unknown reference type 'pars-gainscalestep'\n",
      "2020-08-12 14:15:17,182 - CRDS - ERROR -  Error determining best reference for 'pars-detector1pipeline'  =   Unknown reference type 'pars-detector1pipeline'\n",
      "2020-08-12 14:15:17,217 - stpipe.Detector1Pipeline - INFO - Detector1Pipeline instance created.\n",
      "2020-08-12 14:15:17,218 - stpipe.Detector1Pipeline.group_scale - INFO - GroupScaleStep instance created.\n",
      "2020-08-12 14:15:17,220 - stpipe.Detector1Pipeline.dq_init - INFO - DQInitStep instance created.\n",
      "2020-08-12 14:15:17,222 - stpipe.Detector1Pipeline.saturation - INFO - SaturationStep instance created.\n",
      "2020-08-12 14:15:17,223 - stpipe.Detector1Pipeline.ipc - INFO - IPCStep instance created.\n",
      "2020-08-12 14:15:17,225 - stpipe.Detector1Pipeline.superbias - INFO - SuperBiasStep instance created.\n",
      "2020-08-12 14:15:17,226 - stpipe.Detector1Pipeline.refpix - INFO - RefPixStep instance created.\n",
      "2020-08-12 14:15:17,228 - stpipe.Detector1Pipeline.rscd - INFO - RSCD_Step instance created.\n",
      "2020-08-12 14:15:17,229 - stpipe.Detector1Pipeline.firstframe - INFO - FirstFrameStep instance created.\n",
      "2020-08-12 14:15:17,231 - stpipe.Detector1Pipeline.lastframe - INFO - LastFrameStep instance created.\n",
      "2020-08-12 14:15:17,232 - stpipe.Detector1Pipeline.linearity - INFO - LinearityStep instance created.\n",
      "2020-08-12 14:15:17,234 - stpipe.Detector1Pipeline.dark_current - INFO - DarkCurrentStep instance created.\n",
      "2020-08-12 14:15:17,235 - stpipe.Detector1Pipeline.persistence - INFO - PersistenceStep instance created.\n",
      "2020-08-12 14:15:17,237 - stpipe.Detector1Pipeline.jump - INFO - JumpStep instance created.\n",
      "2020-08-12 14:15:17,238 - stpipe.Detector1Pipeline.ramp_fit - INFO - RampFitStep instance created.\n",
      "2020-08-12 14:15:17,240 - stpipe.Detector1Pipeline.gain_scale - INFO - GainScaleStep instance created.\n",
      "2020-08-12 14:15:17,326 - stpipe.Detector1Pipeline - INFO - Step Detector1Pipeline running with args ('mirisimv2.3sim/mirisimoutput/det_images/det_image_seq2_MIRIMAGE_P750Lexp1.fits',).\n",
      "2020-08-12 14:15:17,336 - stpipe.Detector1Pipeline - INFO - Step Detector1Pipeline parameters are: {'pre_hooks': [], 'post_hooks': [], 'output_file': None, 'output_dir': 'mirisimv2.3sim/detector1/', 'output_ext': '.fits', 'output_use_model': False, 'output_use_index': True, 'save_results': False, 'skip': False, 'suffix': None, 'search_output_file': True, 'input_dir': '', 'save_calibrated_ramp': False, 'steps': {'group_scale': {'pre_hooks': [], 'post_hooks': [], 'output_file': None, 'output_dir': None, 'output_ext': '.fits', 'output_use_model': False, 'output_use_index': True, 'save_results': False, 'skip': False, 'suffix': None, 'search_output_file': True, 'input_dir': ''}, 'dq_init': {'pre_hooks': [], 'post_hooks': [], 'output_file': None, 'output_dir': None, 'output_ext': '.fits', 'output_use_model': False, 'output_use_index': True, 'save_results': False, 'skip': False, 'suffix': None, 'search_output_file': True, 'input_dir': ''}, 'saturation': {'pre_hooks': [], 'post_hooks': [], 'output_file': None, 'output_dir': None, 'output_ext': '.fits', 'output_use_model': False, 'output_use_index': True, 'save_results': False, 'skip': False, 'suffix': None, 'search_output_file': True, 'input_dir': ''}, 'ipc': {'pre_hooks': [], 'post_hooks': [], 'output_file': None, 'output_dir': None, 'output_ext': '.fits', 'output_use_model': False, 'output_use_index': True, 'save_results': False, 'skip': True, 'suffix': None, 'search_output_file': True, 'input_dir': ''}, 'superbias': {'pre_hooks': [], 'post_hooks': [], 'output_file': None, 'output_dir': None, 'output_ext': '.fits', 'output_use_model': False, 'output_use_index': True, 'save_results': False, 'skip': False, 'suffix': None, 'search_output_file': True, 'input_dir': ''}, 'refpix': {'pre_hooks': [], 'post_hooks': [], 'output_file': None, 'output_dir': None, 'output_ext': '.fits', 'output_use_model': False, 'output_use_index': True, 'save_results': False, 'skip': False, 'suffix': None, 'search_output_file': True, 'input_dir': '', 'odd_even_columns': True, 'use_side_ref_pixels': True, 'side_smoothing_length': 11, 'side_gain': 1.0, 'odd_even_rows': True}, 'rscd': {'pre_hooks': [], 'post_hooks': [], 'output_file': None, 'output_dir': None, 'output_ext': '.fits', 'output_use_model': False, 'output_use_index': True, 'save_results': False, 'skip': False, 'suffix': None, 'search_output_file': True, 'input_dir': '', 'type': 'baseline'}, 'firstframe': {'pre_hooks': [], 'post_hooks': [], 'output_file': None, 'output_dir': None, 'output_ext': '.fits', 'output_use_model': False, 'output_use_index': True, 'save_results': False, 'skip': False, 'suffix': None, 'search_output_file': True, 'input_dir': ''}, 'lastframe': {'pre_hooks': [], 'post_hooks': [], 'output_file': None, 'output_dir': None, 'output_ext': '.fits', 'output_use_model': False, 'output_use_index': True, 'save_results': False, 'skip': False, 'suffix': None, 'search_output_file': True, 'input_dir': ''}, 'linearity': {'pre_hooks': [], 'post_hooks': [], 'output_file': None, 'output_dir': None, 'output_ext': '.fits', 'output_use_model': False, 'output_use_index': True, 'save_results': False, 'skip': False, 'suffix': None, 'search_output_file': True, 'input_dir': ''}, 'dark_current': {'pre_hooks': [], 'post_hooks': [], 'output_file': None, 'output_dir': None, 'output_ext': '.fits', 'output_use_model': False, 'output_use_index': True, 'save_results': False, 'skip': False, 'suffix': None, 'search_output_file': True, 'input_dir': '', 'dark_output': None}, 'persistence': {'pre_hooks': [], 'post_hooks': [], 'output_file': None, 'output_dir': None, 'output_ext': '.fits', 'output_use_model': False, 'output_use_index': True, 'save_results': False, 'skip': False, 'suffix': None, 'search_output_file': True, 'input_dir': '', 'input_trapsfilled': '', 'flag_pers_cutoff': 40.0, 'save_persistence': False, 'save_trapsfilled': True}, 'jump': {'pre_hooks': [], 'post_hooks': [], 'output_file': None, 'output_dir': None, 'output_ext': '.fits', 'output_use_model': False, 'output_use_index': True, 'save_results': False, 'skip': False, 'suffix': None, 'search_output_file': True, 'input_dir': '', 'rejection_threshold': 4.0, 'maximum_cores': 'none', 'flag_4_neighbors': True, 'max_jump_to_flag_neighbors': 200.0, 'min_jump_to_flag_neighbors': 10.0}, 'ramp_fit': {'pre_hooks': [], 'post_hooks': [], 'output_file': None, 'output_dir': None, 'output_ext': '.fits', 'output_use_model': False, 'output_use_index': True, 'save_results': False, 'skip': False, 'suffix': None, 'search_output_file': True, 'input_dir': '', 'int_name': '', 'save_opt': False, 'opt_name': '', 'maximum_cores': 'none'}, 'gain_scale': {'pre_hooks': [], 'post_hooks': [], 'output_file': None, 'output_dir': None, 'output_ext': '.fits', 'output_use_model': False, 'output_use_index': True, 'save_results': False, 'skip': False, 'suffix': None, 'search_output_file': True, 'input_dir': ''}}}\n"
     ]
    },
    {
     "name": "stderr",
     "output_type": "stream",
     "text": [
      "2020-08-12 14:15:17,490 - stpipe.Detector1Pipeline - INFO - Prefetching reference files for dataset: 'det_image_seq2_MIRIMAGE_P750Lexp1.fits' reftypes = ['dark', 'gain', 'linearity', 'mask', 'persat', 'readnoise', 'refpix', 'rscd', 'saturation', 'superbias', 'trapdensity', 'trappars']\n",
      "2020-08-12 14:15:17,579 - stpipe.Detector1Pipeline - INFO - Prefetch for DARK reference file is '/grp/crds/cache/references/jwst/jwst_miri_dark_0058.fits'.\n",
      "2020-08-12 14:15:17,615 - stpipe.Detector1Pipeline - INFO - Prefetch for GAIN reference file is '/grp/crds/cache/references/jwst/jwst_miri_gain_0008.fits'.\n",
      "2020-08-12 14:15:17,640 - stpipe.Detector1Pipeline - INFO - Prefetch for LINEARITY reference file is '/grp/crds/cache/references/jwst/jwst_miri_linearity_0024.fits'.\n",
      "2020-08-12 14:15:17,679 - stpipe.Detector1Pipeline - INFO - Prefetch for MASK reference file is '/grp/crds/cache/references/jwst/jwst_miri_mask_0023.fits'.\n",
      "2020-08-12 14:15:17,739 - stpipe.Detector1Pipeline - INFO - Prefetch for PERSAT reference file is 'N/A'.\n",
      "2020-08-12 14:15:17,740 - stpipe.Detector1Pipeline - INFO - Prefetch for READNOISE reference file is '/grp/crds/cache/references/jwst/jwst_miri_readnoise_0057.fits'.\n",
      "2020-08-12 14:15:17,768 - stpipe.Detector1Pipeline - INFO - Prefetch for REFPIX reference file is 'N/A'.\n",
      "2020-08-12 14:15:17,771 - stpipe.Detector1Pipeline - INFO - Prefetch for RSCD reference file is '/grp/crds/cache/references/jwst/jwst_miri_rscd_0010.fits'.\n",
      "2020-08-12 14:15:17,816 - stpipe.Detector1Pipeline - INFO - Prefetch for SATURATION reference file is '/grp/crds/cache/references/jwst/jwst_miri_saturation_0022.fits'.\n",
      "2020-08-12 14:15:17,853 - stpipe.Detector1Pipeline - INFO - Prefetch for SUPERBIAS reference file is 'N/A'.\n",
      "2020-08-12 14:15:17,854 - stpipe.Detector1Pipeline - INFO - Prefetch for TRAPDENSITY reference file is 'N/A'.\n",
      "2020-08-12 14:15:17,855 - stpipe.Detector1Pipeline - INFO - Prefetch for TRAPPARS reference file is 'N/A'.\n",
      "2020-08-12 14:15:17,856 - stpipe.Detector1Pipeline - INFO - Starting calwebb_detector1 ...\n",
      "2020-08-12 14:15:18,123 - stpipe.Detector1Pipeline.group_scale - INFO - Step group_scale running with args (<RampModel(2, 10, 1024, 1032) from det_image_seq2_MIRIMAGE_P750Lexp1.fits>,).\n",
      "2020-08-12 14:15:18,125 - stpipe.Detector1Pipeline.group_scale - INFO - Step group_scale parameters are: {'pre_hooks': [], 'post_hooks': [], 'output_file': None, 'output_dir': None, 'output_ext': '.fits', 'output_use_model': False, 'output_use_index': True, 'save_results': False, 'skip': False, 'suffix': None, 'search_output_file': True, 'input_dir': 'mirisimv2.3sim/mirisimoutput/det_images'}\n",
      "2020-08-12 14:15:18,135 - stpipe.Detector1Pipeline.group_scale - INFO - NFRAMES=1 is a power of 2; correction not needed\n",
      "2020-08-12 14:15:18,136 - stpipe.Detector1Pipeline.group_scale - INFO - Step will be skipped\n",
      "2020-08-12 14:15:18,138 - stpipe.Detector1Pipeline.group_scale - INFO - Step group_scale done\n",
      "2020-08-12 14:15:18,234 - stpipe.Detector1Pipeline.dq_init - INFO - Step dq_init running with args (<RampModel(2, 10, 1024, 1032) from det_image_seq2_MIRIMAGE_P750Lexp1.fits>,).\n",
      "2020-08-12 14:15:18,236 - stpipe.Detector1Pipeline.dq_init - INFO - Step dq_init parameters are: {'pre_hooks': [], 'post_hooks': [], 'output_file': None, 'output_dir': None, 'output_ext': '.fits', 'output_use_model': False, 'output_use_index': True, 'save_results': False, 'skip': False, 'suffix': None, 'search_output_file': True, 'input_dir': 'mirisimv2.3sim/mirisimoutput/det_images'}\n",
      "2020-08-12 14:15:18,279 - stpipe.Detector1Pipeline.dq_init - INFO - Using MASK reference file /grp/crds/cache/references/jwst/jwst_miri_mask_0023.fits\n",
      "2020-08-12 14:15:19,369 - stpipe.Detector1Pipeline.dq_init - INFO - Step dq_init done\n",
      "2020-08-12 14:15:19,482 - stpipe.Detector1Pipeline.saturation - INFO - Step saturation running with args (<RampModel(2, 10, 1024, 1032) from det_image_seq2_MIRIMAGE_P750Lexp1.fits>,).\n",
      "2020-08-12 14:15:19,483 - stpipe.Detector1Pipeline.saturation - INFO - Step saturation parameters are: {'pre_hooks': [], 'post_hooks': [], 'output_file': None, 'output_dir': None, 'output_ext': '.fits', 'output_use_model': False, 'output_use_index': True, 'save_results': False, 'skip': False, 'suffix': None, 'search_output_file': True, 'input_dir': 'mirisimv2.3sim/mirisimoutput/det_images'}\n",
      "2020-08-12 14:15:19,514 - stpipe.Detector1Pipeline.saturation - INFO - Using SATURATION reference file /grp/crds/cache/references/jwst/jwst_miri_saturation_0022.fits\n",
      "2020-08-12 14:15:21,871 - stpipe.Detector1Pipeline.saturation - INFO - Step saturation done\n",
      "2020-08-12 14:15:21,996 - stpipe.Detector1Pipeline.ipc - INFO - Step ipc running with args (<RampModel(2, 10, 1024, 1032) from det_image_seq2_MIRIMAGE_P750Lexp1.fits>,).\n",
      "2020-08-12 14:15:21,997 - stpipe.Detector1Pipeline.ipc - INFO - Step ipc parameters are: {'pre_hooks': [], 'post_hooks': [], 'output_file': None, 'output_dir': None, 'output_ext': '.fits', 'output_use_model': False, 'output_use_index': True, 'save_results': False, 'skip': True, 'suffix': None, 'search_output_file': True, 'input_dir': 'mirisimv2.3sim/mirisimoutput/det_images'}\n",
      "2020-08-12 14:15:21,998 - stpipe.Detector1Pipeline.ipc - INFO - Step skipped.\n",
      "2020-08-12 14:15:22,000 - stpipe.Detector1Pipeline.ipc - INFO - Step ipc done\n",
      "2020-08-12 14:15:22,097 - stpipe.Detector1Pipeline.firstframe - INFO - Step firstframe running with args (<RampModel(2, 10, 1024, 1032) from det_image_seq2_MIRIMAGE_P750Lexp1.fits>,).\n",
      "2020-08-12 14:15:22,099 - stpipe.Detector1Pipeline.firstframe - INFO - Step firstframe parameters are: {'pre_hooks': [], 'post_hooks': [], 'output_file': None, 'output_dir': None, 'output_ext': '.fits', 'output_use_model': False, 'output_use_index': True, 'save_results': False, 'skip': False, 'suffix': None, 'search_output_file': True, 'input_dir': 'mirisimv2.3sim/mirisimoutput/det_images'}\n",
      "2020-08-12 14:15:22,187 - stpipe.Detector1Pipeline.firstframe - INFO - Step firstframe done\n",
      "2020-08-12 14:15:22,306 - stpipe.Detector1Pipeline.lastframe - INFO - Step lastframe running with args (<RampModel(2, 10, 1024, 1032) from det_image_seq2_MIRIMAGE_P750Lexp1.fits>,).\n",
      "2020-08-12 14:15:22,308 - stpipe.Detector1Pipeline.lastframe - INFO - Step lastframe parameters are: {'pre_hooks': [], 'post_hooks': [], 'output_file': None, 'output_dir': None, 'output_ext': '.fits', 'output_use_model': False, 'output_use_index': True, 'save_results': False, 'skip': False, 'suffix': None, 'search_output_file': True, 'input_dir': 'mirisimv2.3sim/mirisimoutput/det_images'}\n",
      "2020-08-12 14:15:22,392 - stpipe.Detector1Pipeline.lastframe - INFO - Step lastframe done\n",
      "2020-08-12 14:15:22,520 - stpipe.Detector1Pipeline.linearity - INFO - Step linearity running with args (<RampModel(2, 10, 1024, 1032) from det_image_seq2_MIRIMAGE_P750Lexp1.fits>,).\n",
      "2020-08-12 14:15:22,522 - stpipe.Detector1Pipeline.linearity - INFO - Step linearity parameters are: {'pre_hooks': [], 'post_hooks': [], 'output_file': None, 'output_dir': None, 'output_ext': '.fits', 'output_use_model': False, 'output_use_index': True, 'save_results': False, 'skip': False, 'suffix': None, 'search_output_file': True, 'input_dir': 'mirisimv2.3sim/mirisimoutput/det_images'}\n",
      "2020-08-12 14:15:22,557 - stpipe.Detector1Pipeline.linearity - INFO - Using Linearity reference file /grp/crds/cache/references/jwst/jwst_miri_linearity_0024.fits\n",
      "2020-08-12 14:15:32,651 - stpipe.Detector1Pipeline.linearity - INFO - Step linearity done\n",
      "2020-08-12 14:15:32,779 - stpipe.Detector1Pipeline.rscd - INFO - Step rscd running with args (<RampModel(2, 10, 1024, 1032) from det_image_seq2_MIRIMAGE_P750Lexp1.fits>,).\n",
      "2020-08-12 14:15:32,780 - stpipe.Detector1Pipeline.rscd - INFO - Step rscd parameters are: {'pre_hooks': [], 'post_hooks': [], 'output_file': None, 'output_dir': None, 'output_ext': '.fits', 'output_use_model': False, 'output_use_index': True, 'save_results': False, 'skip': False, 'suffix': None, 'search_output_file': True, 'input_dir': 'mirisimv2.3sim/mirisimoutput/det_images', 'type': 'baseline'}\n",
      "2020-08-12 14:15:32,813 - stpipe.Detector1Pipeline.rscd - INFO - Using RSCD reference file /grp/crds/cache/references/jwst/jwst_miri_rscd_0010.fits\n",
      "2020-08-12 14:15:32,999 - stpipe.Detector1Pipeline.rscd - INFO - Step rscd done\n"
     ]
    },
    {
     "name": "stderr",
     "output_type": "stream",
     "text": [
      "2020-08-12 14:15:33,121 - stpipe.Detector1Pipeline.dark_current - INFO - Step dark_current running with args (<RampModel(2, 10, 1024, 1032) from det_image_seq2_MIRIMAGE_P750Lexp1.fits>,).\n",
      "2020-08-12 14:15:33,122 - stpipe.Detector1Pipeline.dark_current - INFO - Step dark_current parameters are: {'pre_hooks': [], 'post_hooks': [], 'output_file': None, 'output_dir': 'mirisimv2.3sim/detector1/', 'output_ext': '.fits', 'output_use_model': False, 'output_use_index': True, 'save_results': False, 'skip': False, 'suffix': None, 'search_output_file': True, 'input_dir': 'mirisimv2.3sim/mirisimoutput/det_images', 'dark_output': None}\n",
      "2020-08-12 14:15:33,156 - stpipe.Detector1Pipeline.dark_current - INFO - Using DARK reference file /grp/crds/cache/references/jwst/jwst_miri_dark_0058.fits\n",
      "2020-08-12 14:25:01,485 - stpipe.Detector1Pipeline.dark_current - INFO - Science data nints=2, ngroups=10, nframes=1, groupgap=0\n",
      "2020-08-12 14:25:01,486 - stpipe.Detector1Pipeline.dark_current - INFO - Dark data nints=2, ngroups=200, nframes=1, groupgap=0\n",
      "2020-08-12 14:25:03,589 - stpipe.Detector1Pipeline.dark_current - INFO - Step dark_current done\n",
      "2020-08-12 14:25:03,714 - stpipe.Detector1Pipeline.refpix - INFO - Step refpix running with args (<RampModel(2, 10, 1024, 1032) from det_image_seq2_MIRIMAGE_P750Lexp1.fits>,).\n",
      "2020-08-12 14:25:03,715 - stpipe.Detector1Pipeline.refpix - INFO - Step refpix parameters are: {'pre_hooks': [], 'post_hooks': [], 'output_file': None, 'output_dir': None, 'output_ext': '.fits', 'output_use_model': False, 'output_use_index': True, 'save_results': False, 'skip': False, 'suffix': None, 'search_output_file': True, 'input_dir': 'mirisimv2.3sim/mirisimoutput/det_images', 'odd_even_columns': True, 'use_side_ref_pixels': True, 'side_smoothing_length': 11, 'side_gain': 1.0, 'odd_even_rows': True}\n",
      "2020-08-12 14:25:03,727 - stpipe.Detector1Pipeline.refpix - INFO - use_side_ref_pixels = True\n",
      "2020-08-12 14:25:03,727 - stpipe.Detector1Pipeline.refpix - INFO - odd_even_columns = True\n",
      "2020-08-12 14:25:03,728 - stpipe.Detector1Pipeline.refpix - INFO - side_smoothing_length = 11\n",
      "2020-08-12 14:25:03,728 - stpipe.Detector1Pipeline.refpix - INFO - side_gain = 1.000000\n",
      "2020-08-12 14:25:03,729 - stpipe.Detector1Pipeline.refpix - INFO - odd_even_rows = True\n",
      "2020-08-12 14:25:03,815 - stpipe.Detector1Pipeline.refpix - INFO - Subtracting initial read from each integration\n",
      "2020-08-12 14:25:04,062 - stpipe.Detector1Pipeline.refpix - INFO - Adding initial read back in\n",
      "2020-08-12 14:25:04,104 - stpipe.Detector1Pipeline.refpix - INFO - Step refpix done\n",
      "2020-08-12 14:25:04,231 - stpipe.Detector1Pipeline.jump - INFO - Step jump running with args (<RampModel(2, 10, 1024, 1032) from det_image_seq2_MIRIMAGE_P750Lexp1.fits>,).\n",
      "2020-08-12 14:25:04,232 - stpipe.Detector1Pipeline.jump - INFO - Step jump parameters are: {'pre_hooks': [], 'post_hooks': [], 'output_file': None, 'output_dir': None, 'output_ext': '.fits', 'output_use_model': False, 'output_use_index': True, 'save_results': False, 'skip': False, 'suffix': None, 'search_output_file': True, 'input_dir': 'mirisimv2.3sim/mirisimoutput/det_images', 'rejection_threshold': 4.0, 'maximum_cores': 'none', 'flag_4_neighbors': True, 'max_jump_to_flag_neighbors': 200.0, 'min_jump_to_flag_neighbors': 10.0}\n",
      "2020-08-12 14:25:04,244 - stpipe.Detector1Pipeline.jump - INFO - CR rejection threshold = 4 sigma\n",
      "2020-08-12 14:25:04,446 - stpipe.Detector1Pipeline.jump - INFO - Using GAIN reference file: /grp/crds/cache/references/jwst/jwst_miri_gain_0008.fits\n",
      "2020-08-12 14:25:05,542 - stpipe.Detector1Pipeline.jump - INFO - Using READNOISE reference file: /grp/crds/cache/references/jwst/jwst_miri_readnoise_0057.fits\n",
      "2020-08-12 14:25:06,712 - stpipe.Detector1Pipeline.jump - INFO - Found 8 possible cores to use for jump detection \n",
      "2020-08-12 14:25:06,827 - stpipe.Detector1Pipeline.jump - INFO - Executing two-point difference method\n",
      "2020-08-12 14:25:07,281 - stpipe.Detector1Pipeline.jump - INFO -  working on integration 1\n",
      "2020-08-12 14:25:07,873 - stpipe.Detector1Pipeline.jump - INFO - From highest outlier Two point found 9597 pixels with at least one CR\n",
      "2020-08-12 14:25:08,178 - stpipe.Detector1Pipeline.jump - INFO -  working on integration 2\n",
      "2020-08-12 14:25:08,705 - stpipe.Detector1Pipeline.jump - INFO - From highest outlier Two point found 11996 pixels with at least one CR\n",
      "2020-08-12 14:25:09,405 - stpipe.Detector1Pipeline.jump - INFO - Total elapsed time = 2.577 sec\n",
      "2020-08-12 14:25:09,407 - stpipe.Detector1Pipeline.jump - INFO - The execution time in seconds: 5.162966\n",
      "2020-08-12 14:25:09,411 - stpipe.Detector1Pipeline.jump - INFO - Step jump done\n",
      "2020-08-12 14:25:09,535 - stpipe.Detector1Pipeline.ramp_fit - INFO - Step ramp_fit running with args (<RampModel(2, 10, 1024, 1032) from det_image_seq2_MIRIMAGE_P750Lexp1.fits>,).\n",
      "2020-08-12 14:25:09,537 - stpipe.Detector1Pipeline.ramp_fit - INFO - Step ramp_fit parameters are: {'pre_hooks': [], 'post_hooks': [], 'output_file': None, 'output_dir': 'mirisimv2.3sim/detector1/', 'output_ext': '.fits', 'output_use_model': False, 'output_use_index': True, 'save_results': False, 'skip': False, 'suffix': None, 'search_output_file': True, 'input_dir': 'mirisimv2.3sim/mirisimoutput/det_images', 'int_name': '', 'save_opt': False, 'opt_name': '', 'maximum_cores': 'none'}\n",
      "2020-08-12 14:25:09,595 - stpipe.Detector1Pipeline.ramp_fit - INFO - Using READNOISE reference file: /grp/crds/cache/references/jwst/jwst_miri_readnoise_0057.fits\n",
      "2020-08-12 14:25:09,654 - stpipe.Detector1Pipeline.ramp_fit - INFO - Using GAIN reference file: /grp/crds/cache/references/jwst/jwst_miri_gain_0008.fits\n",
      "2020-08-12 14:25:09,712 - stpipe.Detector1Pipeline.ramp_fit - INFO - Using algorithm = ols\n",
      "2020-08-12 14:25:09,713 - stpipe.Detector1Pipeline.ramp_fit - INFO - Using weighting = optimal\n",
      "2020-08-12 14:25:09,792 - stpipe.Detector1Pipeline.ramp_fit - INFO - Number of leading groups that are flagged as DO_NOT_USE: 1\n",
      "2020-08-12 14:25:09,793 - stpipe.Detector1Pipeline.ramp_fit - INFO - MIRI dataset has all pixels in the final group flagged as DO_NOT_USE.\n",
      "2020-08-12 14:25:32,265 - stpipe.Detector1Pipeline.ramp_fit - INFO - Number of groups per integration: 10\n",
      "2020-08-12 14:25:32,266 - stpipe.Detector1Pipeline.ramp_fit - INFO - Number of integrations: 2\n",
      "2020-08-12 14:25:32,351 - stpipe.Detector1Pipeline.ramp_fit - INFO - Step ramp_fit done\n",
      "2020-08-12 14:25:32,484 - stpipe.Detector1Pipeline.gain_scale - INFO - Step gain_scale running with args (<ImageModel(1024, 1032) from det_image_seq2_MIRIMAGE_P750Lexp1.fits>,).\n",
      "2020-08-12 14:25:32,486 - stpipe.Detector1Pipeline.gain_scale - INFO - Step gain_scale parameters are: {'pre_hooks': [], 'post_hooks': [], 'output_file': None, 'output_dir': None, 'output_ext': '.fits', 'output_use_model': False, 'output_use_index': True, 'save_results': False, 'skip': False, 'suffix': 'gain_scale', 'search_output_file': True, 'input_dir': 'mirisimv2.3sim/mirisimoutput/det_images'}\n",
      "2020-08-12 14:25:32,572 - stpipe.Detector1Pipeline.gain_scale - INFO - GAINFACT not found in gain reference file\n",
      "2020-08-12 14:25:32,572 - stpipe.Detector1Pipeline.gain_scale - INFO - Step will be skipped\n",
      "2020-08-12 14:25:32,575 - stpipe.Detector1Pipeline.gain_scale - INFO - Step gain_scale done\n",
      "2020-08-12 14:25:32,694 - stpipe.Detector1Pipeline.gain_scale - INFO - Step gain_scale running with args (<CubeModel(2, 1024, 1032) from det_image_seq2_MIRIMAGE_P750Lexp1.fits>,).\n",
      "2020-08-12 14:25:32,695 - stpipe.Detector1Pipeline.gain_scale - INFO - Step gain_scale parameters are: {'pre_hooks': [], 'post_hooks': [], 'output_file': None, 'output_dir': None, 'output_ext': '.fits', 'output_use_model': False, 'output_use_index': True, 'save_results': False, 'skip': False, 'suffix': 'gain_scaleints', 'search_output_file': True, 'input_dir': 'mirisimv2.3sim/mirisimoutput/det_images'}\n",
      "2020-08-12 14:25:32,788 - stpipe.Detector1Pipeline.gain_scale - INFO - GAINFACT not found in gain reference file\n",
      "2020-08-12 14:25:32,789 - stpipe.Detector1Pipeline.gain_scale - INFO - Step will be skipped\n",
      "2020-08-12 14:25:32,792 - stpipe.Detector1Pipeline.gain_scale - INFO - Step gain_scale done\n",
      "2020-08-12 14:25:32,852 - stpipe.Detector1Pipeline - INFO - ... ending calwebb_detector1\n"
     ]
    },
    {
     "name": "stderr",
     "output_type": "stream",
     "text": [
      "2020-08-12 14:25:32,854 - stpipe.Detector1Pipeline - INFO - Step Detector1Pipeline done\n"
     ]
    },
    {
     "data": {
      "text/plain": [
       "<ImageModel(1024, 1032) from det_image_seq2_MIRIMAGE_P750Lexp1.fits>"
      ]
     },
     "execution_count": 6,
     "metadata": {},
     "output_type": "execute_result"
    }
   ],
   "source": [
    "Detector1Pipeline.call('mirisimv2.3sim/mirisimoutput/det_images/det_image_seq1_MIRIMAGE_P750Lexp1.fits', config_file='configfiles/calwebb_detector1.cfg', output_dir='mirisimv2.3sim/detector1/')\n",
    "Detector1Pipeline.call('mirisimv2.3sim/mirisimoutput/det_images/det_image_seq2_MIRIMAGE_P750Lexp1.fits', config_file='configfiles/calwebb_detector1.cfg', output_dir='mirisimv2.3sim/detector1/')"
   ]
  },
  {
   "cell_type": "code",
   "execution_count": 8,
   "metadata": {},
   "outputs": [
    {
     "name": "stderr",
     "output_type": "stream",
     "text": [
      "2020-08-12 14:26:45,223 - CRDS - ERROR -  Error determining best reference for 'pars-assignwcsstep'  =   Unknown reference type 'pars-assignwcsstep'\n",
      "2020-08-12 14:26:45,230 - stpipe.assign_wcs - INFO - AssignWcsStep instance created.\n",
      "2020-08-12 14:26:45,293 - stpipe.assign_wcs - INFO - Step assign_wcs running with args ('mirisimv2.3sim/detector1/det_image_seq1_MIRIMAGE_P750Lexp1_gain_scale.fits',).\n",
      "2020-08-12 14:26:45,294 - stpipe.assign_wcs - INFO - Step assign_wcs parameters are: {'pre_hooks': [], 'post_hooks': [], 'output_file': None, 'output_dir': 'flatfield_testing', 'output_ext': '.fits', 'output_use_model': False, 'output_use_index': True, 'save_results': True, 'skip': False, 'suffix': None, 'search_output_file': True, 'input_dir': '', 'slit_y_low': -0.55, 'slit_y_high': 0.55}\n",
      "2020-08-12 14:26:47,262 - stpipe.assign_wcs - INFO - Created a MIRI mir_lrs-fixedslit pipeline with references {'distortion': '/grp/crds/cache/references/jwst/jwst_miri_distortion_0028.asdf', 'filteroffset': None, 'specwcs': '/grp/crds/cache/references/jwst/jwst_miri_specwcs_0003.fits', 'regions': None, 'wavelengthrange': None, 'camera': None, 'collimator': None, 'disperser': None, 'fore': None, 'fpa': None, 'msa': None, 'ote': None, 'ifupost': None, 'ifufore': None, 'ifuslicer': None}\n",
      "2020-08-12 14:26:47,296 - stpipe.assign_wcs - WARNING - /Users/kmurray/anaconda3/envs/pipeline7.5/lib/python3.8/site-packages/gwcs/wcs.py:131: VisibleDeprecationWarning: Creating an ndarray from ragged nested sequences (which is a list-or-tuple of lists-or-tuples-or ndarrays with different lengths or shapes) is deprecated. If you meant to do this, you must specify 'dtype=object' when creating the ndarray\n",
      "  transforms = np.array(self._pipeline[from_ind: to_ind])[:, 1].copy()\n",
      "\n",
      "2020-08-12 14:26:47,323 - stpipe.assign_wcs - INFO - Update S_REGION to POLYGON ICRS  359.999754224 -0.000174504 359.999754224 -0.000058314 0.001152116 -0.000058314 0.001152116 -0.000174504\n",
      "2020-08-12 14:26:47,323 - stpipe.assign_wcs - INFO - assign_wcs updated S_REGION to POLYGON ICRS  359.999754224 -0.000174504 359.999754224 -0.000058314 0.001152116 -0.000058314 0.001152116 -0.000174504\n",
      "2020-08-12 14:26:47,324 - stpipe.assign_wcs - INFO - COMPLETED assign_wcs\n",
      "2020-08-12 14:26:47,471 - stpipe.assign_wcs - WARNING - /Users/kmurray/anaconda3/envs/pipeline7.5/lib/python3.8/site-packages/gwcs/wcs.py:131: VisibleDeprecationWarning: Creating an ndarray from ragged nested sequences (which is a list-or-tuple of lists-or-tuples-or ndarrays with different lengths or shapes) is deprecated. If you meant to do this, you must specify 'dtype=object' when creating the ndarray\n",
      "  transforms = np.array(self._pipeline[from_ind: to_ind])[:, 1].copy()\n",
      "\n",
      "2020-08-12 14:26:47,682 - stpipe.assign_wcs - INFO - Saved model in flatfield_testing/det_image_seq1_MIRIMAGE_P750Lexp1_assign_wcs.fits\n",
      "2020-08-12 14:26:47,688 - stpipe.assign_wcs - INFO - Step assign_wcs done\n",
      "2020-08-12 14:26:47,889 - CRDS - ERROR -  Error determining best reference for 'pars-assignwcsstep'  =   Unknown reference type 'pars-assignwcsstep'\n",
      "2020-08-12 14:26:47,892 - stpipe.assign_wcs - INFO - AssignWcsStep instance created.\n",
      "2020-08-12 14:26:47,966 - stpipe.assign_wcs - INFO - Step assign_wcs running with args ('mirisimv2.3sim/detector1/det_image_seq2_MIRIMAGE_P750Lexp1_gain_scale.fits',).\n",
      "2020-08-12 14:26:47,967 - stpipe.assign_wcs - INFO - Step assign_wcs parameters are: {'pre_hooks': [], 'post_hooks': [], 'output_file': None, 'output_dir': 'flatfield_testing', 'output_ext': '.fits', 'output_use_model': False, 'output_use_index': True, 'save_results': True, 'skip': False, 'suffix': None, 'search_output_file': True, 'input_dir': '', 'slit_y_low': -0.55, 'slit_y_high': 0.55}\n",
      "2020-08-12 14:26:49,580 - stpipe.assign_wcs - INFO - Created a MIRI mir_lrs-fixedslit pipeline with references {'distortion': '/grp/crds/cache/references/jwst/jwst_miri_distortion_0028.asdf', 'filteroffset': None, 'specwcs': '/grp/crds/cache/references/jwst/jwst_miri_specwcs_0003.fits', 'regions': None, 'wavelengthrange': None, 'camera': None, 'collimator': None, 'disperser': None, 'fore': None, 'fpa': None, 'msa': None, 'ote': None, 'ifupost': None, 'ifufore': None, 'ifuslicer': None}\n",
      "2020-08-12 14:26:49,604 - stpipe.assign_wcs - WARNING - /Users/kmurray/anaconda3/envs/pipeline7.5/lib/python3.8/site-packages/gwcs/wcs.py:131: VisibleDeprecationWarning: Creating an ndarray from ragged nested sequences (which is a list-or-tuple of lists-or-tuples-or ndarrays with different lengths or shapes) is deprecated. If you meant to do this, you must specify 'dtype=object' when creating the ndarray\n",
      "  transforms = np.array(self._pipeline[from_ind: to_ind])[:, 1].copy()\n",
      "\n",
      "2020-08-12 14:26:49,631 - stpipe.assign_wcs - INFO - Update S_REGION to POLYGON ICRS  359.999228554 -0.000132362 359.999228554 -0.000016171 0.000626446 -0.000016171 0.000626446 -0.000132362\n",
      "2020-08-12 14:26:49,631 - stpipe.assign_wcs - INFO - assign_wcs updated S_REGION to POLYGON ICRS  359.999228554 -0.000132362 359.999228554 -0.000016171 0.000626446 -0.000016171 0.000626446 -0.000132362\n",
      "2020-08-12 14:26:49,632 - stpipe.assign_wcs - INFO - COMPLETED assign_wcs\n",
      "2020-08-12 14:26:49,722 - stpipe.assign_wcs - WARNING - /Users/kmurray/anaconda3/envs/pipeline7.5/lib/python3.8/site-packages/gwcs/wcs.py:131: VisibleDeprecationWarning: Creating an ndarray from ragged nested sequences (which is a list-or-tuple of lists-or-tuples-or ndarrays with different lengths or shapes) is deprecated. If you meant to do this, you must specify 'dtype=object' when creating the ndarray\n",
      "  transforms = np.array(self._pipeline[from_ind: to_ind])[:, 1].copy()\n",
      "\n",
      "2020-08-12 14:26:49,932 - stpipe.assign_wcs - INFO - Saved model in flatfield_testing/det_image_seq2_MIRIMAGE_P750Lexp1_assign_wcs.fits\n",
      "2020-08-12 14:26:49,933 - stpipe.assign_wcs - INFO - Step assign_wcs done\n"
     ]
    },
    {
     "data": {
      "text/plain": [
       "<ImageModel(1024, 1032) from det_image_seq2_MIRIMAGE_P750Lexp1_assign_wcs.fits>"
      ]
     },
     "execution_count": 8,
     "metadata": {},
     "output_type": "execute_result"
    }
   ],
   "source": [
    "AssignWcsStep.call('mirisimv2.3sim/detector1/det_image_seq1_MIRIMAGE_P750Lexp1_gain_scale.fits', config_file='configfiles/assign_wcs.cfg', output_dir = 'flatfield_testing')\n",
    "AssignWcsStep.call('mirisimv2.3sim/detector1/det_image_seq2_MIRIMAGE_P750Lexp1_gain_scale.fits', config_file='configfiles/assign_wcs.cfg', output_dir = 'flatfield_testing')"
   ]
  },
  {
   "cell_type": "code",
   "execution_count": 4,
   "metadata": {},
   "outputs": [],
   "source": [
    "bgsub_1 = ['flatfield_testing/det_image_seq2_MIRIMAGE_P750Lexp1_assign_wcs.fits']\n",
    "bgsub_2 = ['flatfield_testing/det_image_seq1_MIRIMAGE_P750Lexp1_assign_wcs.fits']"
   ]
  },
  {
   "cell_type": "code",
   "execution_count": 5,
   "metadata": {},
   "outputs": [
    {
     "name": "stderr",
     "output_type": "stream",
     "text": [
      "2020-08-05 15:43:46,466 - CRDS - ERROR -  Error determining best reference for 'pars-backgroundstep'  =   Unknown reference type 'pars-backgroundstep'\n",
      "2020-08-05 15:43:46,468 - stpipe.BackgroundStep - INFO - BackgroundStep instance created.\n",
      "2020-08-05 15:43:46,538 - stpipe.BackgroundStep - INFO - Step BackgroundStep running with args ('flatfield_testing/det_image_seq1_MIRIMAGE_P750Lexp1_assign_wcs.fits', ['flatfield_testing/det_image_seq2_MIRIMAGE_P750Lexp1_assign_wcs.fits']).\n",
      "2020-08-05 15:43:46,539 - stpipe.BackgroundStep - INFO - Step BackgroundStep parameters are: {'pre_hooks': [], 'post_hooks': [], 'output_file': None, 'output_dir': 'flatfield_testing', 'output_ext': '.fits', 'output_use_model': False, 'output_use_index': True, 'save_results': True, 'skip': False, 'suffix': None, 'search_output_file': True, 'input_dir': '', 'sigma': 3.0, 'maxiters': None}\n",
      "2020-08-05 15:43:47,490 - stpipe.BackgroundStep - WARNING - /Users/kmurray/anaconda3/envs/pipeline7.5/lib/python3.8/site-packages/gwcs/wcs.py:131: VisibleDeprecationWarning: Creating an ndarray from ragged nested sequences (which is a list-or-tuple of lists-or-tuples-or ndarrays with different lengths or shapes) is deprecated. If you meant to do this, you must specify 'dtype=object' when creating the ndarray\n",
      "  transforms = np.array(self._pipeline[from_ind: to_ind])[:, 1].copy()\n",
      "\n",
      "2020-08-05 15:43:47,641 - stpipe.BackgroundStep - WARNING - /Users/kmurray/anaconda3/envs/pipeline7.5/lib/python3.8/site-packages/gwcs/wcs.py:131: VisibleDeprecationWarning: Creating an ndarray from ragged nested sequences (which is a list-or-tuple of lists-or-tuples-or ndarrays with different lengths or shapes) is deprecated. If you meant to do this, you must specify 'dtype=object' when creating the ndarray\n",
      "  transforms = np.array(self._pipeline[from_ind: to_ind])[:, 1].copy()\n",
      "\n",
      "2020-08-05 15:43:47,965 - stpipe.BackgroundStep - INFO - Saved model in flatfield_testing/det_image_seq1_MIRIMAGE_P750Lexp1_backgroundstep.fits\n",
      "2020-08-05 15:43:47,965 - stpipe.BackgroundStep - INFO - Step BackgroundStep done\n",
      "2020-08-05 15:43:48,340 - CRDS - ERROR -  Error determining best reference for 'pars-backgroundstep'  =   Unknown reference type 'pars-backgroundstep'\n",
      "2020-08-05 15:43:48,342 - stpipe.BackgroundStep - INFO - BackgroundStep instance created.\n",
      "2020-08-05 15:43:48,417 - stpipe.BackgroundStep - INFO - Step BackgroundStep running with args ('flatfield_testing/det_image_seq2_MIRIMAGE_P750Lexp1_assign_wcs.fits', ['flatfield_testing/det_image_seq1_MIRIMAGE_P750Lexp1_assign_wcs.fits']).\n",
      "2020-08-05 15:43:48,419 - stpipe.BackgroundStep - INFO - Step BackgroundStep parameters are: {'pre_hooks': [], 'post_hooks': [], 'output_file': None, 'output_dir': 'flatfield_testing', 'output_ext': '.fits', 'output_use_model': False, 'output_use_index': True, 'save_results': True, 'skip': False, 'suffix': None, 'search_output_file': True, 'input_dir': '', 'sigma': 3.0, 'maxiters': None}\n",
      "2020-08-05 15:43:49,353 - stpipe.BackgroundStep - WARNING - /Users/kmurray/anaconda3/envs/pipeline7.5/lib/python3.8/site-packages/gwcs/wcs.py:131: VisibleDeprecationWarning: Creating an ndarray from ragged nested sequences (which is a list-or-tuple of lists-or-tuples-or ndarrays with different lengths or shapes) is deprecated. If you meant to do this, you must specify 'dtype=object' when creating the ndarray\n",
      "  transforms = np.array(self._pipeline[from_ind: to_ind])[:, 1].copy()\n",
      "\n",
      "2020-08-05 15:43:49,505 - stpipe.BackgroundStep - WARNING - /Users/kmurray/anaconda3/envs/pipeline7.5/lib/python3.8/site-packages/gwcs/wcs.py:131: VisibleDeprecationWarning: Creating an ndarray from ragged nested sequences (which is a list-or-tuple of lists-or-tuples-or ndarrays with different lengths or shapes) is deprecated. If you meant to do this, you must specify 'dtype=object' when creating the ndarray\n",
      "  transforms = np.array(self._pipeline[from_ind: to_ind])[:, 1].copy()\n",
      "\n",
      "2020-08-05 15:43:49,827 - stpipe.BackgroundStep - INFO - Saved model in flatfield_testing/det_image_seq2_MIRIMAGE_P750Lexp1_backgroundstep.fits\n",
      "2020-08-05 15:43:49,828 - stpipe.BackgroundStep - INFO - Step BackgroundStep done\n"
     ]
    },
    {
     "data": {
      "text/plain": [
       "<ImageModel(1024, 1032) from det_image_seq2_MIRIMAGE_P750Lexp1_backgroundstep.fits>"
      ]
     },
     "execution_count": 5,
     "metadata": {},
     "output_type": "execute_result"
    }
   ],
   "source": [
    "BackgroundStep.call('flatfield_testing/det_image_seq1_MIRIMAGE_P750Lexp1_assign_wcs.fits', bgsub_1, output_dir = 'flatfield_testing', save_results='True')\n",
    "BackgroundStep.call('flatfield_testing/det_image_seq2_MIRIMAGE_P750Lexp1_assign_wcs.fits', bgsub_2, output_dir = 'flatfield_testing', save_results='True')"
   ]
  },
  {
   "cell_type": "code",
   "execution_count": 6,
   "metadata": {},
   "outputs": [
    {
     "name": "stderr",
     "output_type": "stream",
     "text": [
      "2020-08-05 15:43:50,221 - CRDS - ERROR -  Error determining best reference for 'pars-extract2dstep'  =   Unknown reference type 'pars-extract2dstep'\n",
      "2020-08-05 15:43:50,225 - stpipe.extract_2d - INFO - Extract2dStep instance created.\n",
      "2020-08-05 15:43:50,300 - stpipe.extract_2d - INFO - Step extract_2d running with args ('flatfield_testing/det_image_seq1_MIRIMAGE_P750Lexp1_backgroundstep.fits',).\n",
      "2020-08-05 15:43:50,301 - stpipe.extract_2d - INFO - Step extract_2d parameters are: {'pre_hooks': [], 'post_hooks': [], 'output_file': None, 'output_dir': 'flatfield_testing', 'output_ext': '.fits', 'output_use_model': False, 'output_use_index': True, 'save_results': True, 'skip': False, 'suffix': None, 'search_output_file': True, 'input_dir': '', 'slit_name': None, 'apply_wavecorr': True, 'extract_orders': None, 'extract_height': None, 'grism_objects': None, 'mmag_extract': 99.0}\n",
      "2020-08-05 15:43:51,219 - stpipe.extract_2d - INFO - EXP_TYPE is MIR_LRS-FIXEDSLIT\n",
      "2020-08-05 15:43:51,220 - stpipe.extract_2d - INFO - 'EXP_TYPE MIR_LRS-FIXEDSLIT not supported for extract 2D\n",
      "2020-08-05 15:43:51,242 - stpipe.extract_2d - WARNING - /Users/kmurray/anaconda3/envs/pipeline7.5/lib/python3.8/site-packages/gwcs/wcs.py:131: VisibleDeprecationWarning: Creating an ndarray from ragged nested sequences (which is a list-or-tuple of lists-or-tuples-or ndarrays with different lengths or shapes) is deprecated. If you meant to do this, you must specify 'dtype=object' when creating the ndarray\n",
      "  transforms = np.array(self._pipeline[from_ind: to_ind])[:, 1].copy()\n",
      "\n",
      "2020-08-05 15:43:51,315 - stpipe.extract_2d - WARNING - /Users/kmurray/anaconda3/envs/pipeline7.5/lib/python3.8/site-packages/gwcs/wcs.py:131: VisibleDeprecationWarning: Creating an ndarray from ragged nested sequences (which is a list-or-tuple of lists-or-tuples-or ndarrays with different lengths or shapes) is deprecated. If you meant to do this, you must specify 'dtype=object' when creating the ndarray\n",
      "  transforms = np.array(self._pipeline[from_ind: to_ind])[:, 1].copy()\n",
      "\n",
      "2020-08-05 15:43:51,548 - stpipe.extract_2d - INFO - Saved model in flatfield_testing/det_image_seq1_MIRIMAGE_P750Lexp1_extract_2d.fits\n",
      "2020-08-05 15:43:51,549 - stpipe.extract_2d - INFO - Step extract_2d done\n",
      "2020-08-05 15:43:51,943 - CRDS - ERROR -  Error determining best reference for 'pars-extract2dstep'  =   Unknown reference type 'pars-extract2dstep'\n",
      "2020-08-05 15:43:51,946 - stpipe.extract_2d - INFO - Extract2dStep instance created.\n",
      "2020-08-05 15:43:52,025 - stpipe.extract_2d - INFO - Step extract_2d running with args ('flatfield_testing/det_image_seq2_MIRIMAGE_P750Lexp1_backgroundstep.fits',).\n",
      "2020-08-05 15:43:52,026 - stpipe.extract_2d - INFO - Step extract_2d parameters are: {'pre_hooks': [], 'post_hooks': [], 'output_file': None, 'output_dir': 'flatfield_testing', 'output_ext': '.fits', 'output_use_model': False, 'output_use_index': True, 'save_results': True, 'skip': False, 'suffix': None, 'search_output_file': True, 'input_dir': '', 'slit_name': None, 'apply_wavecorr': True, 'extract_orders': None, 'extract_height': None, 'grism_objects': None, 'mmag_extract': 99.0}\n",
      "2020-08-05 15:43:52,931 - stpipe.extract_2d - INFO - EXP_TYPE is MIR_LRS-FIXEDSLIT\n",
      "2020-08-05 15:43:52,932 - stpipe.extract_2d - INFO - 'EXP_TYPE MIR_LRS-FIXEDSLIT not supported for extract 2D\n",
      "2020-08-05 15:43:52,956 - stpipe.extract_2d - WARNING - /Users/kmurray/anaconda3/envs/pipeline7.5/lib/python3.8/site-packages/gwcs/wcs.py:131: VisibleDeprecationWarning: Creating an ndarray from ragged nested sequences (which is a list-or-tuple of lists-or-tuples-or ndarrays with different lengths or shapes) is deprecated. If you meant to do this, you must specify 'dtype=object' when creating the ndarray\n",
      "  transforms = np.array(self._pipeline[from_ind: to_ind])[:, 1].copy()\n",
      "\n",
      "2020-08-05 15:43:53,027 - stpipe.extract_2d - WARNING - /Users/kmurray/anaconda3/envs/pipeline7.5/lib/python3.8/site-packages/gwcs/wcs.py:131: VisibleDeprecationWarning: Creating an ndarray from ragged nested sequences (which is a list-or-tuple of lists-or-tuples-or ndarrays with different lengths or shapes) is deprecated. If you meant to do this, you must specify 'dtype=object' when creating the ndarray\n",
      "  transforms = np.array(self._pipeline[from_ind: to_ind])[:, 1].copy()\n",
      "\n",
      "2020-08-05 15:43:53,257 - stpipe.extract_2d - INFO - Saved model in flatfield_testing/det_image_seq2_MIRIMAGE_P750Lexp1_extract_2d.fits\n",
      "2020-08-05 15:43:53,258 - stpipe.extract_2d - INFO - Step extract_2d done\n"
     ]
    },
    {
     "data": {
      "text/plain": [
       "<ImageModel(1024, 1032) from det_image_seq2_MIRIMAGE_P750Lexp1_extract_2d.fits>"
      ]
     },
     "execution_count": 6,
     "metadata": {},
     "output_type": "execute_result"
    }
   ],
   "source": [
    "Extract2dStep.call('flatfield_testing/det_image_seq1_MIRIMAGE_P750Lexp1_backgroundstep.fits', config_file='configfiles/extract_2d.cfg', output_dir = 'flatfield_testing', save_results='True')\n",
    "Extract2dStep.call('flatfield_testing/det_image_seq2_MIRIMAGE_P750Lexp1_backgroundstep.fits', config_file='configfiles/extract_2d.cfg', output_dir = 'flatfield_testing', save_results='True')"
   ]
  },
  {
   "cell_type": "code",
   "execution_count": 7,
   "metadata": {},
   "outputs": [
    {
     "name": "stderr",
     "output_type": "stream",
     "text": [
      "2020-08-05 15:43:53,662 - CRDS - ERROR -  Error determining best reference for 'pars-flatfieldstep'  =   Unknown reference type 'pars-flatfieldstep'\n",
      "2020-08-05 15:43:53,665 - stpipe.flat_field - INFO - FlatFieldStep instance created.\n",
      "2020-08-05 15:43:53,739 - stpipe.flat_field - INFO - Step flat_field running with args ('flatfield_testing/det_image_seq1_MIRIMAGE_P750Lexp1_extract_2d.fits',).\n",
      "2020-08-05 15:43:53,741 - stpipe.flat_field - INFO - Step flat_field parameters are: {'pre_hooks': [], 'post_hooks': [], 'output_file': None, 'output_dir': 'flatfield_testing', 'output_ext': '.fits', 'output_use_model': False, 'output_use_index': True, 'save_results': True, 'skip': False, 'suffix': None, 'search_output_file': True, 'input_dir': '', 'save_interpolated_flat': False}\n",
      "2020-08-05 15:43:56,807 - stpipe.flat_field - WARNING - Keyword CDP_PARTIAL_DATA does not correspond to an existing DQ mnemonic, so will be ignored\n",
      "2020-08-05 15:43:56,808 - stpipe.flat_field - WARNING - Keyword CDP_LOW_QUAL does not correspond to an existing DQ mnemonic, so will be ignored\n",
      "2020-08-05 15:43:56,809 - stpipe.flat_field - WARNING - Keyword CDP_UNRELIABLE_ERROR does not correspond to an existing DQ mnemonic, so will be ignored\n",
      "2020-08-05 15:43:56,826 - stpipe.flat_field - WARNING - Keyword DIFF_PATTERN does not correspond to an existing DQ mnemonic, so will be ignored\n",
      "2020-08-05 15:43:56,895 - stpipe.flat_field - WARNING - /Users/kmurray/anaconda3/envs/pipeline7.5/lib/python3.8/site-packages/gwcs/wcs.py:131: VisibleDeprecationWarning: Creating an ndarray from ragged nested sequences (which is a list-or-tuple of lists-or-tuples-or ndarrays with different lengths or shapes) is deprecated. If you meant to do this, you must specify 'dtype=object' when creating the ndarray\n",
      "  transforms = np.array(self._pipeline[from_ind: to_ind])[:, 1].copy()\n",
      "\n",
      "2020-08-05 15:43:57,099 - stpipe.flat_field - WARNING - /Users/kmurray/anaconda3/envs/pipeline7.5/lib/python3.8/site-packages/gwcs/wcs.py:131: VisibleDeprecationWarning: Creating an ndarray from ragged nested sequences (which is a list-or-tuple of lists-or-tuples-or ndarrays with different lengths or shapes) is deprecated. If you meant to do this, you must specify 'dtype=object' when creating the ndarray\n",
      "  transforms = np.array(self._pipeline[from_ind: to_ind])[:, 1].copy()\n",
      "\n",
      "2020-08-05 15:43:57,346 - stpipe.flat_field - INFO - Saved model in flatfield_testing/det_image_seq1_MIRIMAGE_P750Lexp1_flat_field.fits\n",
      "2020-08-05 15:43:57,347 - stpipe.flat_field - INFO - Step flat_field done\n",
      "2020-08-05 15:43:57,744 - CRDS - ERROR -  Error determining best reference for 'pars-flatfieldstep'  =   Unknown reference type 'pars-flatfieldstep'\n",
      "2020-08-05 15:43:57,747 - stpipe.flat_field - INFO - FlatFieldStep instance created.\n",
      "2020-08-05 15:43:57,823 - stpipe.flat_field - INFO - Step flat_field running with args ('flatfield_testing/det_image_seq2_MIRIMAGE_P750Lexp1_extract_2d.fits',).\n",
      "2020-08-05 15:43:57,825 - stpipe.flat_field - INFO - Step flat_field parameters are: {'pre_hooks': [], 'post_hooks': [], 'output_file': None, 'output_dir': 'flatfield_testing', 'output_ext': '.fits', 'output_use_model': False, 'output_use_index': True, 'save_results': True, 'skip': False, 'suffix': None, 'search_output_file': True, 'input_dir': '', 'save_interpolated_flat': False}\n",
      "2020-08-05 15:43:58,265 - stpipe.flat_field - WARNING - Keyword CDP_PARTIAL_DATA does not correspond to an existing DQ mnemonic, so will be ignored\n",
      "2020-08-05 15:43:58,265 - stpipe.flat_field - WARNING - Keyword CDP_LOW_QUAL does not correspond to an existing DQ mnemonic, so will be ignored\n",
      "2020-08-05 15:43:58,266 - stpipe.flat_field - WARNING - Keyword CDP_UNRELIABLE_ERROR does not correspond to an existing DQ mnemonic, so will be ignored\n",
      "2020-08-05 15:43:58,285 - stpipe.flat_field - WARNING - Keyword DIFF_PATTERN does not correspond to an existing DQ mnemonic, so will be ignored\n",
      "2020-08-05 15:43:58,350 - stpipe.flat_field - WARNING - /Users/kmurray/anaconda3/envs/pipeline7.5/lib/python3.8/site-packages/gwcs/wcs.py:131: VisibleDeprecationWarning: Creating an ndarray from ragged nested sequences (which is a list-or-tuple of lists-or-tuples-or ndarrays with different lengths or shapes) is deprecated. If you meant to do this, you must specify 'dtype=object' when creating the ndarray\n",
      "  transforms = np.array(self._pipeline[from_ind: to_ind])[:, 1].copy()\n",
      "\n",
      "2020-08-05 15:43:58,549 - stpipe.flat_field - WARNING - /Users/kmurray/anaconda3/envs/pipeline7.5/lib/python3.8/site-packages/gwcs/wcs.py:131: VisibleDeprecationWarning: Creating an ndarray from ragged nested sequences (which is a list-or-tuple of lists-or-tuples-or ndarrays with different lengths or shapes) is deprecated. If you meant to do this, you must specify 'dtype=object' when creating the ndarray\n",
      "  transforms = np.array(self._pipeline[from_ind: to_ind])[:, 1].copy()\n",
      "\n",
      "2020-08-05 15:43:58,793 - stpipe.flat_field - INFO - Saved model in flatfield_testing/det_image_seq2_MIRIMAGE_P750Lexp1_flat_field.fits\n",
      "2020-08-05 15:43:58,794 - stpipe.flat_field - INFO - Step flat_field done\n"
     ]
    },
    {
     "data": {
      "text/plain": [
       "<ImageModel(1024, 1032) from det_image_seq2_MIRIMAGE_P750Lexp1_flat_field.fits>"
      ]
     },
     "execution_count": 7,
     "metadata": {},
     "output_type": "execute_result"
    }
   ],
   "source": [
    "FlatFieldStep.call('flatfield_testing/det_image_seq1_MIRIMAGE_P750Lexp1_extract_2d.fits', config_file='configfiles/flat_field.cfg', output_dir = 'flatfield_testing', save_results='True')\n",
    "FlatFieldStep.call('flatfield_testing/det_image_seq2_MIRIMAGE_P750Lexp1_extract_2d.fits', config_file='configfiles/flat_field.cfg', output_dir = 'flatfield_testing', save_results='True')"
   ]
  },
  {
   "cell_type": "markdown",
   "metadata": {},
   "source": [
    "# Flat Field Step Check"
   ]
  },
  {
   "cell_type": "markdown",
   "metadata": {},
   "source": [
    "Open up flat file for comparison"
   ]
  },
  {
   "cell_type": "code",
   "execution_count": 13,
   "metadata": {},
   "outputs": [
    {
     "name": "stderr",
     "output_type": "stream",
     "text": [
      "2020-08-13 11:47:28,171 - stpipe - WARNING - /Users/kmurray/anaconda3/envs/pipeline7.5/lib/python3.8/site-packages/astropy/io/fits/util.py:205: ResourceWarning: unclosed <ssl.SSLSocket [closed] fd=66, family=AddressFamily.AF_INET, type=SocketKind.SOCK_STREAM, proto=0>\n",
      "  for sub in itersubclasses(sub, _seen):\n",
      "\n"
     ]
    }
   ],
   "source": [
    "flat1_file = fits.open('flatfield_testing/det_image_seq1_MIRIMAGE_P750Lexp1_flat_field.fits')\n",
    "flat2_file = fits.open('flatfield_testing/det_image_seq2_MIRIMAGE_P750Lexp1_flat_field.fits')\n",
    "flat1 = flat1_file[1]\n",
    "flat2 = flat2_file[1]"
   ]
  },
  {
   "cell_type": "code",
   "execution_count": 90,
   "metadata": {},
   "outputs": [
    {
     "data": {
      "text/plain": [
       "<matplotlib.image.AxesImage at 0x138cd76a0>"
      ]
     },
     "execution_count": 90,
     "metadata": {},
     "output_type": "execute_result"
    },
    {
     "data": {
      "image/png": "[encoded data removed]",
      "text/plain": [
       "<Figure size 432x288 with 1 Axes>"
      ]
     },
     "metadata": {
      "needs_background": "light"
     },
     "output_type": "display_data"
    }
   ],
   "source": [
    "plt.imshow(flat1.data[0:430,304:346], origin='lower')"
   ]
  },
  {
   "cell_type": "code",
   "execution_count": 16,
   "metadata": {},
   "outputs": [],
   "source": [
    "background1_file = fits.open('flatfield_testing/det_image_seq1_MIRIMAGE_P750Lexp1_backgroundstep.fits')\n",
    "background1 = background1_file[1]\n",
    "backgroundcheck = background1.data[250:270,250:270]"
   ]
  },
  {
   "cell_type": "markdown",
   "metadata": {},
   "source": [
    "Get reference file from header and read in"
   ]
  },
  {
   "cell_type": "code",
   "execution_count": 74,
   "metadata": {},
   "outputs": [
    {
     "name": "stderr",
     "output_type": "stream",
     "text": [
      "2020-08-13 12:52:59,389 - stpipe - WARNING - Keyword CDP_PARTIAL_DATA does not correspond to an existing DQ mnemonic, so will be ignored\n",
      "2020-08-13 12:52:59,390 - stpipe - WARNING - Keyword CDP_LOW_QUAL does not correspond to an existing DQ mnemonic, so will be ignored\n",
      "2020-08-13 12:52:59,391 - stpipe - WARNING - Keyword CDP_UNRELIABLE_ERROR does not correspond to an existing DQ mnemonic, so will be ignored\n",
      "2020-08-13 12:52:59,408 - stpipe - WARNING - Keyword DIFF_PATTERN does not correspond to an existing DQ mnemonic, so will be ignored\n",
      "2020-08-13 12:52:59,448 - stpipe - WARNING - <ipython-input-74-779ac008f9e4>:5: ResourceWarning: unclosed file <_io.FileIO name='/grp/crds/cache/references/jwst/jwst_miri_flat_0472.fits' mode='rb' closefd=True>\n",
      "  flat = fits.open(filepath)\n",
      "\n"
     ]
    },
    {
     "name": "stdout",
     "output_type": "stream",
     "text": [
      "[[       nan        nan        nan ...        nan        nan        nan]\n",
      " [0.9958572  0.98931766 0.99252474 ... 1.0134931  0.9897802  0.9874312 ]\n",
      " [1.0016237  0.99366105 0.9933627  ... 0.99872184 1.0000159  0.99906373]\n",
      " ...\n",
      " [0.9989251  1.0000654  0.9975553  ... 1.0003941  0.9992759  0.99652886]\n",
      " [0.99758166 1.0044369  0.9954789  ... 1.0049331  1.0021932  1.0005535 ]\n",
      " [1.0038248  0.99606854 1.0006624  ... 1.0021372  1.004601   0.99970764]]\n"
     ]
    }
   ],
   "source": [
    "flatreffile = flat1_file[0].header['R_FLAT']\n",
    "basename = crds.core.config.pop_crds_uri(flatreffile)\n",
    "filepath = crds.locate_file(basename, \"jwst\")\n",
    "reffile =  datamodels.open(filepath)\n",
    "print(reffile.data[0:430,304:346])"
   ]
  },
  {
   "cell_type": "markdown",
   "metadata": {},
   "source": [
    "Pull in file from step before flat, perform manual flatfielding"
   ]
  },
  {
   "cell_type": "code",
   "execution_count": 76,
   "metadata": {},
   "outputs": [],
   "source": [
    "extract2d_file = fits.open('flatfield_testing/det_image_seq1_MIRIMAGE_P750Lexp1_extract_2d.fits')\n",
    "extract2d = extract2d_file[1].data\n",
    "#print(extract2d[250:270,250:270])"
   ]
  },
  {
   "cell_type": "code",
   "execution_count": 81,
   "metadata": {},
   "outputs": [
    {
     "name": "stdout",
     "output_type": "stream",
     "text": [
      "[[-0.49658677  1.1997564   0.07553273 ...  0.35739237  1.5606736\n",
      "  -0.02699204]\n",
      " [-0.03231895 -0.07578494 -1.0298055  ...  0.8523488   0.53322256\n",
      "   1.0129174 ]\n",
      " [-0.11533108 -0.03248338  0.28844243 ... -0.4361805   0.1224862\n",
      "  -0.08991831]\n",
      " ...\n",
      " [-0.3116292  -0.13244067  0.0461361  ... -0.09970342  0.01006156\n",
      "   0.8100981 ]\n",
      " [-0.16921817 -0.02427088 -0.16553047 ...  0.19043578 -0.4689675\n",
      "   0.0161006 ]\n",
      " [-2.3053317   0.16158465  0.4160134  ... -0.6654761  -0.00872278\n",
      "   0.03869664]]\n"
     ]
    }
   ],
   "source": [
    "manualflat = np.divide(extract2d, reffile.data)\n",
    "print(manualflat[1:430,304:346])"
   ]
  },
  {
   "cell_type": "code",
   "execution_count": 89,
   "metadata": {},
   "outputs": [
    {
     "data": {
      "text/plain": [
       "<matplotlib.image.AxesImage at 0x1340fec40>"
      ]
     },
     "execution_count": 89,
     "metadata": {},
     "output_type": "execute_result"
    },
    {
     "data": {
      "image/png": "[encoded data removed]",
      "text/plain": [
       "<Figure size 432x288 with 1 Axes>"
      ]
     },
     "metadata": {
      "needs_background": "light"
     },
     "output_type": "display_data"
    }
   ],
   "source": [
    "plt.imshow(manualflat[0:430,304:346], origin='lower')"
   ]
  },
  {
   "cell_type": "markdown",
   "metadata": {},
   "source": [
    "Compare outputs"
   ]
  },
  {
   "cell_type": "code",
   "execution_count": 88,
   "metadata": {},
   "outputs": [
    {
     "name": "stdout",
     "output_type": "stream",
     "text": [
      "[[0. 0. 0. ... 0. 0. 0.]\n",
      " [0. 0. 0. ... 0. 0. 0.]\n",
      " [0. 0. 0. ... 0. 0. 0.]\n",
      " ...\n",
      " [0. 0. 0. ... 0. 0. 0.]\n",
      " [0. 0. 0. ... 0. 0. 0.]\n",
      " [0. 0. 0. ... 0. 0. 0.]]\n",
      "0.0\n"
     ]
    }
   ],
   "source": [
    "flatcheck = (flat1.data-manualflat)\n",
    "print(flatcheck[1:430,304:346])\n",
    "printcheck = np.mean(flatcheck[2:430,304:346])\n",
    "print(printcheck)"
   ]
  }
 ],
 "metadata": {
  "kernelspec": {
   "display_name": "Python 3",
   "language": "python",
   "name": "python3"
  },
  "language_info": {
   "codemirror_mode": {
    "name": "ipython",
    "version": 3
   },
   "file_extension": ".py",
   "mimetype": "text/x-python",
   "name": "python",
   "nbconvert_exporter": "python",
   "pygments_lexer": "ipython3",
   "version": "3.8.3"
  }
 },
 "nbformat": 4,
 "nbformat_minor": 4
}
