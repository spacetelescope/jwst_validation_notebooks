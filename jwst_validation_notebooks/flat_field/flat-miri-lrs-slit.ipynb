{
 "cells": [
  {
   "cell_type": "markdown",
   "metadata": {},
   "source": [
    "<a id=\"title_ID\"></a>\n",
    "# JWST Pipeline Validation Testing Notebook: MIRI LRS Slit spectroscopy\n",
    "# Step: flat_field() in Spec2Pipeline\n",
    "\n",
    "<span style=\"color:red\"> **Instruments Affected**</span>: MIRI \n",
    "\n",
    "### Table of Contents\n",
    "<div style=\"text-align: left\"> \n",
    "\n",
    "<br> [Imports](#imports_ID) <br> [Introduction](#intro_ID) <br> [Get Documentaion String for Markdown Blocks](#markdown_from_docs) <br> [Loading Data](#data_ID) <br> [Run JWST Pipeline](#pipeline_ID) <br> [Create Figure or Print Output](#residual_ID) <br> [About This Notebook](#about_ID) <br>\n",
    "\n",
    "</div>"
   ]
  },
  {
   "cell_type": "markdown",
   "metadata": {},
   "source": [
    "<a id=\"imports_ID\"></a>\n",
    "# Imports\n",
    "List the library imports and why they are relevant to this notebook.\n",
    "\n",
    "\n",
    "* os for simple operating system functions\n",
    "* gwcs.wcstools for bounding box operations\n",
    "* astropy.io for opening fits files\n",
    "* inspect to get the docstring of our objects.\n",
    "* IPython.display for printing markdown output\n",
    "* jwst.datamodels for building model for JWST Pipeline\n",
    "* jwst.module.PipelineStep is the pipeline step being tested\n",
    "* matplotlib.pyplot to generate plot\n",
    "* matplotlib.patches to plot shapes\n",
    "* crds for retrieving a reference file\n",
    "\n",
    "\n",
    "[Top of Page](#title_ID)"
   ]
  },
  {
   "cell_type": "code",
   "execution_count": null,
   "metadata": {},
   "outputs": [],
   "source": [
    "from astropy.io import fits\n",
    "import matplotlib.pyplot as plt\n",
    "from matplotlib.patches import Rectangle\n",
    "import numpy as np\n",
    "import os\n",
    "from IPython.display import Markdown\n",
    "from jwst.pipeline import Detector1Pipeline, Spec2Pipeline, collect_pipeline_cfgs\n",
    "from jwst.background import BackgroundStep\n",
    "from jwst.assign_wcs import AssignWcsStep\n",
    "from jwst.extract_2d import Extract2dStep\n",
    "from jwst.flatfield import FlatFieldStep\n",
    "from gwcs.wcstools import grid_from_bounding_box\n",
    "import crds\n",
    "from jwst import datamodels"
   ]
  },
  {
   "cell_type": "markdown",
   "metadata": {},
   "source": [
    "<a id=\"intro_ID\"></a>\n",
    "# Introduction\n",
    "\n",
    "\n",
    "For this test we are using the flat fielding step for MIRI LRS slit data. For more information on the pipeline step visit the links below. \n",
    "\n",
    "Step description: https://jwst-pipeline.readthedocs.io/en/latest/jwst/flatfield/main.html#imaging-and-non-nirspec-spectroscopic-data\n",
    "\n",
    "Pipeline code: https://github.com/spacetelescope/jwst/tree/master/jwst/flat_field\n",
    "\n",
    "\n",
    "\n",
    "### Defining Term\n",
    "Here is where you will define terms or acronymns that may not be known a general audience (ie a new employee to the institute or an external user). For example\n",
    "\n",
    "JWST: James Webb Space Telescope\n",
    "MIRI: Mid-Infrared Instrument\n",
    "LRS: Low Resolution Spectrometer\n",
    "\n",
    "\n",
    "[Top of Page](#title_ID)"
   ]
  },
  {
   "cell_type": "markdown",
   "metadata": {},
   "source": [
    "# Run Pipeline\n",
    "\n",
    "The simulated data were generated with MIRISim v2.3.0. The observation consists of an observation of a stellar source in the slit, using the ALONG-SLIT-NOD dither pattern. In this scenario, two exposures are executed with the target at 30 and 70% along the length of the slit. These two observations are subtracted from each other for background subtraction, then co-added in the 3rd stage of the pipeline.\n",
    "\n",
    "In the first steps we run the Detector1 pipeline, and the Spec2 pipeline steps before flat fielding.\n",
    "\n",
    "**TO DO**: data to be placed into a central location such as artifactory."
   ]
  },
  {
   "cell_type": "code",
   "execution_count": null,
   "metadata": {},
   "outputs": [],
   "source": [
    "if not os.path.exists('../cfg_files/'):\n",
    "    os.mkdir('../cfg_files/')\n",
    "    cfgs = collect_pipeline_cfgs.collect_pipeline_cfgs(dst='../cfg_files/')"
   ]
  },
  {
   "cell_type": "code",
   "execution_count": null,
   "metadata": {},
   "outputs": [],
   "source": [
    "# SK's file locations:\n",
    "det1_nod1 = Detector1Pipeline.call('/Users/kendrew/miri/miri_datasims/LRS-slit-simulations/pipeline_testing/mirisimv2.3sim/det_images/det_image_seq1_MIRIMAGE_P750Lexp1.fits', config_file='../cfg_files/calwebb_detector1.cfg', save_results=True)\n",
    "det1_nod2 = Detector1Pipeline.call('/Users/kendrew/miri/miri_datasims/LRS-slit-simulations/pipeline_testing/mirisimv2.3sim/det_images/det_image_seq2_MIRIMAGE_P750Lexp1.fits', config_file='../cfg_files/calwebb_detector1.cfg', save_results=True)\n",
    "\n",
    "# KM's file locations:\n",
    "#Detector1Pipeline.call('mirisimv2.3sim_correctdither/mirisimoutput/det_images/det_image_seq1_MIRIMAGE_P750Lexp1.fits', config_file='configfiles/calwebb_detector1.cfg', output_dir='mirisimv2.3sim_correctdither/detector1/')\n",
    "#Detector1Pipeline.call('mirisimv2.3sim_correctdither/mirisimoutput/det_images/det_image_seq2_MIRIMAGE_P750Lexp1.fits', config_file='configfiles/calwebb_detector1.cfg', output_dir='mirisimv2.3sim_correctdither/detector1/')"
   ]
  },
  {
   "cell_type": "code",
   "execution_count": null,
   "metadata": {},
   "outputs": [],
   "source": [
    "awcs_nod1 = AssignWcsStep.call(det1_nod1, config_file='../cfg_files/assign_wcs.cfg', save_results=True)\n",
    "awcs_nod2 = AssignWcsStep.call(det1_nod2, config_file='../cfg_files/assign_wcs.cfg', save_results=True)"
   ]
  },
  {
   "cell_type": "markdown",
   "metadata": {},
   "source": [
    "Let's check the location of the bounding box that has been attached to the data.\n",
    "There is a dedicated notebook for this step, but top-level checks are:\n",
    "* the bounding box coordinates should be the same for both nods\n",
    "* the spectral trace should fall within the bounding box boundary"
   ]
  },
  {
   "cell_type": "code",
   "execution_count": null,
   "metadata": {},
   "outputs": [],
   "source": [
    "bbox_w_n1 = awcs_nod1.meta.wcs.bounding_box[0][1] - awcs_nod1.meta.wcs.bounding_box[0][0]\n",
    "bbox_ht_n1 = awcs_nod1.meta.wcs.bounding_box[1][1] - awcs_nod1.meta.wcs.bounding_box[1][0]\n",
    "print('Model bbox for nod 1 = {0} '.format(awcs_nod1.meta.wcs.bounding_box))\n",
    "print('Model: Height x width of bounding box for nod 1 = {0} x {1} pixels'.format(bbox_ht_n1, bbox_w_n1))\n",
    "\n",
    "bbox_w_n2 = awcs_nod2.meta.wcs.bounding_box[0][1] - awcs_nod2.meta.wcs.bounding_box[0][0]\n",
    "bbox_ht_n2 = awcs_nod2.meta.wcs.bounding_box[1][1] - awcs_nod2.meta.wcs.bounding_box[1][0]\n",
    "print('Model bbox for nod 2 = {0} '.format(awcs_nod1.meta.wcs.bounding_box))\n",
    "print('Model: Height x width of bounding box for nod 2 = {0} x {1} pixels'.format(bbox_ht_n2, bbox_w_n2))"
   ]
  },
  {
   "cell_type": "code",
   "execution_count": null,
   "metadata": {},
   "outputs": [],
   "source": [
    "fig, ax = plt.subplots(nrows=1, ncols=2, figsize=[12,10])\n",
    "bbox1 = Rectangle((awcs_nod1.meta.wcs.bounding_box[0][0],awcs_nod1.meta.wcs.bounding_box[1][0]), bbox_w_n1, bbox_ht_n1, angle=0.0, ec='r', lw=2, fc='None')\n",
    "ax[0].imshow(awcs_nod1.data, origin='lower', aspect='equal', interpolation='None')\n",
    "ax[0].set_title('Nod 1')\n",
    "ax[0].add_patch(bbox1)\n",
    "ax[0].set_xlim([200,400])\n",
    "ax[0].set_ylim([0,400])\n",
    "\n",
    "bbox2 = Rectangle((awcs_nod2.meta.wcs.bounding_box[0][0],awcs_nod2.meta.wcs.bounding_box[1][0]), bbox_w_n2, bbox_ht_n2, angle=0.0, ec='r', lw=2, fc='None')\n",
    "ax[1].imshow(awcs_nod2.data, origin='lower', aspect='equal', interpolation='None')\n",
    "ax[1].set_title('Nod 2')\n",
    "ax[1].add_patch(bbox2)\n",
    "ax[1].set_xlim([200,400])\n",
    "ax[1].set_ylim([0,400])\n",
    "\n",
    "print(awcs_nod1.meta.filename)"
   ]
  },
  {
   "cell_type": "code",
   "execution_count": null,
   "metadata": {},
   "outputs": [],
   "source": [
    "bgsub_1 = [awcs_nod2.meta.filename]\n",
    "bgsub_2 = [awcs_nod1.meta.filename]"
   ]
  },
  {
   "cell_type": "code",
   "execution_count": null,
   "metadata": {},
   "outputs": [],
   "source": [
    "bgr_nod1 = BackgroundStep.call(awcs_nod1, bgsub_1, save_results='True')\n",
    "bgr_nod2 = BackgroundStep.call(awcs_nod2, bgsub_2, save_results='True')"
   ]
  },
  {
   "cell_type": "markdown",
   "metadata": {},
   "source": [
    "Check the output of the background subtraction. We should now have in each exposure a positive and negative spectral trace, with the sides of pos-neg switched between them."
   ]
  },
  {
   "cell_type": "code",
   "execution_count": null,
   "metadata": {},
   "outputs": [],
   "source": [
    "fig, ax = plt.subplots(ncols=2, nrows=1, figsize=[12,10])\n",
    "im1 = ax[0].imshow(bgr_nod1.data, origin='lower', aspect='equal', interpolation='None')\n",
    "ax[0].set_title('Nod 1')\n",
    "ax[0].set_xlim([200,400])\n",
    "ax[0].set_ylim([0,400])\n",
    "cbar1= fig.colorbar(im1, extend='both', shrink=0.9, ax=ax[0])\n",
    "\n",
    "im2 = ax[1].imshow(bgr_nod2.data, origin='lower', aspect='equal', interpolation='None')\n",
    "ax[1].set_title('Nod 2')\n",
    "ax[1].set_xlim([200,400])\n",
    "ax[1].set_ylim([0,400])\n",
    "cbar2= fig.colorbar(im2, extend='both', shrink=0.9, ax=ax[1])\n"
   ]
  },
  {
   "cell_type": "code",
   "execution_count": null,
   "metadata": {},
   "outputs": [],
   "source": [
    "e2d_nod1 = Extract2dStep.call(bgr_nod1, config_file='../cfg_files/extract_2d.cfg', save_results='True')\n",
    "e2d_nod2 = Extract2dStep.call(bgr_nod2, config_file='../cfg_files/extract_2d.cfg', save_results='True')"
   ]
  },
  {
   "cell_type": "code",
   "execution_count": null,
   "metadata": {},
   "outputs": [],
   "source": [
    "ff_nod1 = FlatFieldStep.call(e2d_nod1, config_file='../cfg_files/flat_field.cfg', save_results='True')\n",
    "ff_nod2 = FlatFieldStep.call(e2d_nod2, config_file='../cfg_files/flat_field.cfg', save_results='True')"
   ]
  },
  {
   "cell_type": "markdown",
   "metadata": {},
   "source": [
    "# Flat Field Step Check"
   ]
  },
  {
   "cell_type": "markdown",
   "metadata": {},
   "source": [
    "OK, so we now have the output from the flat fielding step. We will download the reference file from crds and perform an independent check that the step is correctly executed. "
   ]
  },
  {
   "cell_type": "code",
   "execution_count": null,
   "metadata": {},
   "outputs": [],
   "source": [
    "#flat1_file = fits.open('flatfield_testing/det_image_seq1_MIRIMAGE_P750Lexp1_flat_field.fits')\n",
    "#flat2_file = fits.open('flatfield_testing/det_image_seq2_MIRIMAGE_P750Lexp1_flat_field.fits')\n",
    "#flat1 = flat1_file[1]\n",
    "#flat2 = flat2_file[1]"
   ]
  },
  {
   "cell_type": "markdown",
   "metadata": {},
   "source": [
    "Display flat, region chosen because all areas around the slit are nan's"
   ]
  },
  {
   "cell_type": "code",
   "execution_count": null,
   "metadata": {},
   "outputs": [],
   "source": [
    "fig = plt.figure(figsize=[12,10])\n",
    "plt.imshow(ff_nod1.data[:400, 200:400], origin='lower')\n",
    "plt.title('Nod 1 - flat fielded')\n",
    "plt.colorbar()"
   ]
  },
  {
   "cell_type": "markdown",
   "metadata": {},
   "source": [
    "Let's now do a manual check based on the flat field reference file. We can access the name of this file from the model metadata (or the file header). The flat reference file has non-NaN value only in the region where the spectrum is dispersed. We'd like to check that this region covers at least that covered by the bounding box definition to ensure that that entire region will be accurately flat fielded. "
   ]
  },
  {
   "cell_type": "code",
   "execution_count": null,
   "metadata": {},
   "outputs": [],
   "source": [
    "flat_reffile = ff_nod1.meta.ref_file.flat.name\n",
    "basename = crds.core.config.pop_crds_uri(flat_reffile)\n",
    "filepath = crds.locate_file(basename, \"jwst\")\n",
    "reffile =  datamodels.open(filepath)\n",
    "#print(reffile.data[0:430,304:346])\n",
    "bbox2 = Rectangle((awcs_nod1.meta.wcs.bounding_box[0][0],awcs_nod1.meta.wcs.bounding_box[1][0]), bbox_w_n1, bbox_ht_n1, angle=0.0, ec='r', lw=2, fc='None')\n",
    "fig, ax = plt.subplots(nrows=1, ncols=3, figsize=[12, 12])\n",
    "im0 = ax[0].imshow(reffile.data, origin='lower', interpolation='None')\n",
    "ax[0].add_patch(bbox2)\n",
    "ax[0].set_xlim([275,375])\n",
    "ax[0].set_ylim([0,400])\n",
    "cbar = fig.colorbar(im0,  extend='both', orientation='horizontal', shrink=0.9, ax=ax[0])\n",
    "\n",
    "bbox3 = Rectangle((awcs_nod1.meta.wcs.bounding_box[0][0],awcs_nod1.meta.wcs.bounding_box[1][0]), bbox_w_n1, bbox_ht_n1, angle=0.0, ec='r', lw=2, fc='None')\n",
    "ax[1].imshow(reffile.data, origin='lower', interpolation='None', aspect='auto')\n",
    "ax[1].add_patch(bbox3)\n",
    "ax[1].set_xlim([290,310])\n",
    "ax[1].set_ylim([300,400])\n",
    "ax[1].set_title('Zoom in - left edge')\n",
    "\n",
    "bbox4 = Rectangle((awcs_nod1.meta.wcs.bounding_box[0][0],awcs_nod1.meta.wcs.bounding_box[1][0]), bbox_w_n1, bbox_ht_n1, angle=0.0, ec='r', lw=2, fc='None')\n",
    "ax[2].imshow(reffile.data, origin='lower', interpolation='None')\n",
    "ax[2].add_patch(bbox4)\n",
    "ax[2].set_xlim([335,355])\n",
    "ax[2].set_ylim([300,400])\n",
    "ax[2].set_title('Zoom in - right edge')\n",
    "\n",
    "#fig.tight_layout()\n",
    "\n",
    "plt.suptitle('Slit flat field ({}) vs. Assigned bounding box'.format(flat_reffile))\n",
    "plt.savefig('slit_flatfield_boundingbox.png')"
   ]
  },
  {
   "cell_type": "code",
   "execution_count": null,
   "metadata": {},
   "outputs": [],
   "source": [
    "def flatfield_corners(arr):\n",
    "    # create a boolean array for the NaNs\n",
    "    barr = np.isnan(arr)\n",
    "    \n",
    "    # then extarct the indices where boolean array is False\n",
    "    ii = np.where(~barr)\n",
    "    \n",
    "    # then identify the corner coordinates\n",
    "    xmin, xmax = np.min(ii[1]), np.max(ii[1])\n",
    "    ymin, ymax = np.min(ii[0]), np.max(ii[0])\n",
    "    \n",
    "    return xmin, xmax, ymin, ymax"
   ]
  },
  {
   "cell_type": "markdown",
   "metadata": {},
   "source": [
    "Compare the corner coordinates of the flat field region with the corners of the bounding box. We check to ensure that the flat field region is NOT SMALLER than the bounding box region. Bigger is not a problem."
   ]
  },
  {
   "cell_type": "code",
   "execution_count": null,
   "metadata": {},
   "outputs": [],
   "source": [
    "# get the corner coordinates of the flat field region using the above function\n",
    "ff_xmin, ff_xmax, ff_ymin, ff_ymax = flatfield_corners(reffile.data)\n",
    "print(ff_xmin, ff_xmax, ff_ymin, ff_ymax)\n",
    "\n",
    "# get the boundign box coordinates\n",
    "bb_xmin, bb_xmax, bb_ymin, bb_ymax = awcs_nod1.meta.wcs.bounding_box[0][0], awcs_nod1.meta.wcs.bounding_box[0][1], awcs_nod1.meta.wcs.bounding_box[1][0], awcs_nod1.meta.wcs.bounding_box[1][1]\n",
    "print(bb_xmin, bb_xmax, bb_ymin, bb_ymax)\n",
    "\n",
    "assert(ff_xmin <= bb_xmin) and (ff_xmax >= bb_xmax), \"Flat field region SMALLER than BBox in X\"\n",
    "assert(ff_ymin <= bb_ymin) and (ff_ymax >= bb_ymax), \"Flat field region SMALLER than BBox in Y\""
   ]
  },
  {
   "cell_type": "markdown",
   "metadata": {},
   "source": [
    "Now we go back to the output of the step prior to flat fielding (extract_2d()), and perform the flat fielding manually. This should be a straightfoward division. The variables are ``e2d_nod1`` and ``e2d_nod2``."
   ]
  },
  {
   "cell_type": "code",
   "execution_count": null,
   "metadata": {},
   "outputs": [],
   "source": [
    "manflat_nod1 = e2d_nod1.data / reffile.data\n",
    "manflat_nod2 = e2d_nod2.data / reffile.data"
   ]
  },
  {
   "cell_type": "markdown",
   "metadata": {},
   "source": [
    "Compare the output to the pipeline flat field output (``ff_nod1`` and ``ff_nod2``). We use the ``np.allclose()`` function to compare two arrays element-wise. We accept the default tolerances ``atol = 1e-08`` and ``rtol = `e-05``, which means that:\n",
    "\n",
    "``abs(ff_nod1.data - manflat_nod1) <= 1e-08 + 1e-05 * manflat_nod1``"
   ]
  },
  {
   "cell_type": "code",
   "execution_count": null,
   "metadata": {},
   "outputs": [],
   "source": [
    "fcheck_nod1 = (ff_nod1.data - manflat_nod1)\n",
    "fcheck_nod2 = (ff_nod2.data - manflat_nod2)\n",
    "\n",
    "fig, ax = plt.subplots(nrows=1, ncols=2, figsize=[12,10])\n",
    "im0 = ax[0].imshow(fcheck_nod1[np.int(bb_ymin):np.int(bb_ymax), np.int(bb_xmin):np.int(bb_xmax)], origin='lower', interpolation='None')\n",
    "ax[0].set_title('Nod 1 check')\n",
    "cbar = fig.colorbar(im0, shrink=0.9, ax=ax[0])\n",
    "\n",
    "\n",
    "im1 = ax[1].imshow(fcheck_nod2[np.int(bb_ymin):np.int(bb_ymax), np.int(bb_xmin):np.int(bb_xmax)], origin='lower', interpolation='None')\n",
    "ax[1].set_title('Nod 2 check')\n",
    "cbar2 = fig.colorbar(im1, shrink=0.9, ax=ax[1])\n",
    "\n",
    "nans1 = np.isnan(fcheck_nod1)\n",
    "nans2 = np.isnan(fcheck_nod2)\n",
    "print('Min difference between manual & pipeline files, nod 1 = {0} -- Max = {1}'.format(np.min(fcheck_nod1[~nans1]), np.max(fcheck_nod1[~nans1])))\n",
    "print('Min difference between manual & pipeline files, nod 2 = {0} -- Max = {1}'.format(np.min(fcheck_nod2[~nans2]), np.max(fcheck_nod2[~nans2])))\n",
    "\n",
    "# perform a numeric check. Ignoring NaNs for now as these do not fully match:\n",
    "assert (np.allclose(ff_nod1.data[~nans1], manflat_nod1[~nans1], equal_nan=True) and np.allclose(ff_nod2.data[~nans2], manflat_nod2[~nans2], equal_nan=True)), \"Pipeline calibrated file doesn't match the manual check to within tolerances\" \n",
    "\n"
   ]
  },
  {
   "cell_type": "markdown",
   "metadata": {},
   "source": [
    "If all assert statements in this notebook PASS, then the test is successful.\n",
    "\n",
    "**END**\n",
    "\n",
    "Authors: K. Murray (kmurray@stsci.edu), S. Kendrew (sarah.kendrew@esa.int) -- MIRI branch\n"
   ]
  },
  {
   "cell_type": "code",
   "execution_count": null,
   "metadata": {},
   "outputs": [],
   "source": []
  }
 ],
 "metadata": {
  "kernelspec": {
   "display_name": "Python 3",
   "language": "python",
   "name": "python3"
  },
  "language_info": {
   "codemirror_mode": {
    "name": "ipython",
    "version": 3
   },
   "file_extension": ".py",
   "mimetype": "text/x-python",
   "name": "python",
   "nbconvert_exporter": "python",
   "pygments_lexer": "ipython3",
   "version": "3.8.3"
  }
 },
 "nbformat": 4,
 "nbformat_minor": 4
}
