{
 "cells": [
  {
   "cell_type": "markdown",
   "metadata": {},
   "source": [
    "# JWST Pipeline Validation Testing Notebook: MIRI LRS Slitless spectroscopy"
   ]
  },
  {
   "cell_type": "markdown",
   "metadata": {},
   "source": [
    "# Step: flat_field() in Spec2Pipeline"
   ]
  },
  {
   "cell_type": "markdown",
   "metadata": {},
   "source": [
    "**Instruments Affected**: MIRI"
   ]
  },
  {
   "cell_type": "markdown",
   "metadata": {},
   "source": [
    "# Table of Contents"
   ]
  },
  {
   "cell_type": "markdown",
   "metadata": {},
   "source": [
    " - Imports\n",
    " - Introduction\n",
    " - Run Pipeline\n",
    " - Flat Field Step Check"
   ]
  },
  {
   "cell_type": "markdown",
   "metadata": {},
   "source": [
    "# Imports"
   ]
  },
  {
   "cell_type": "markdown",
   "metadata": {},
   "source": [
    " - os for simple operating system functions\n",
    " - gwcs.wcstools for bounding box operations\n",
    " - astropy.io for opening fits files\n",
    " - inspect to get the docstring of our objects.\n",
    " - IPython.display for printing markdown output\n",
    " - jwst.datamodels for building model for JWST Pipeline\n",
    " - jwst.module.PipelineStep is the pipeline step being tested\n",
    " - matplotlib.pyplot to generate plot\n",
    " - matplotlib.patches to plot shapes\n",
    " - crds for retrieving a reference file\n",
    " - astropy.utils for Box access to data\n",
    " - glob for file searching operations"
   ]
  },
  {
   "cell_type": "code",
   "execution_count": 14,
   "metadata": {},
   "outputs": [],
   "source": [
    "from astropy.io import fits\n",
    "import matplotlib.pyplot as plt\n",
    "import statistics as stat\n",
    "import numpy as np\n",
    "from jwst.pipeline import Detector1Pipeline, Spec2Pipeline, collect_pipeline_cfgs\n",
    "from jwst.pipeline import Spec2Pipeline\n",
    "from jwst.background import BackgroundStep\n",
    "from jwst.assign_wcs import AssignWcsStep\n",
    "from jwst.extract_2d import Extract2dStep\n",
    "from jwst.flatfield import FlatFieldStep\n",
    "from astropy.utils.data import download_file\n",
    "from jwst.datamodels import ImageModel, CubeModel\n",
    "import crds\n",
    "import os\n",
    "import glob\n",
    "from jwst import datamodels"
   ]
  },
  {
   "cell_type": "markdown",
   "metadata": {},
   "source": [
    "# Introduction\n",
    "For this test we are using the flat fielding step for MIRI LRS slitless (TSO) data. For more information on the pipeline step visit the links below.\n",
    "  \n",
    "Step description: https://jwst-pipeline.readthedocs.io/en/latest/jwst/flatfield/main.html#imaging-and-non-nirspec-spectroscopic-data\n",
    "  \n",
    "Pipeline code: https://github.com/spacetelescope/jwst/tree/master/jwst/flat_field\n",
    "  \n",
    "## Defining Terms\n",
    "\n",
    " - JWST: James Webb Space Telescope \n",
    " - MIRI: Mid-Infrared Instrument \n",
    " - LRS: Low Resolution Spectrometer"
   ]
  },
  {
   "cell_type": "markdown",
   "metadata": {},
   "source": [
    "## Retrieving data\n",
    "\n",
    "The simulated data are stored in Box and can be retrieved from there programmatically. The simulated data were generated with MIRISim v2.3.0. The observation consists of an observation of a stellar source in the slitless view. In this scenario, one exposures is executed at the center of the field of view."
   ]
  },
  {
   "cell_type": "code",
   "execution_count": 6,
   "metadata": {},
   "outputs": [
    {
     "name": "stdout",
     "output_type": "stream",
     "text": [
      "Filename: /var/folders/lf/br5qbz194xd6951d98qqk2ym0000gn/T/astropy-download-33591-vmvtulh3\n",
      "No.    Name      Ver    Type      Cards   Dimensions   Format\n",
      "  0  PRIMARY       1 PrimaryHDU     116   ()      \n",
      "  1  SCI           1 ImageHDU        51   (72, 416, 100, 10)   float32   \n",
      "  2  PIXELDQ       1 ImageHDU        11   (72, 416)   int32 (rescales to uint32)   \n",
      "  3  REFOUT        1 ImageHDU        11   (18, 416, 100, 10)   float32   \n",
      "  4  ASDF          1 BinTableHDU     11   1R x 1C   [6008B]   \n"
     ]
    }
   ],
   "source": [
    "mainurl =\"https://data.science.stsci.edu/redirect/JWST/TSO/pipeline_testing_miri_LRS_tso/\"\n",
    "fname = 'pipetest_miri_lrs_tso_100G10I.fits'\n",
    "fdld = download_file(mainurl+fname)\n",
    "hdu = fits.open(fdld)\n",
    "hdu.info()\n",
    "sci_mod = RampModel(hdu)"
   ]
  },
  {
   "cell_type": "markdown",
   "metadata": {},
   "source": [
    "# Run Pipeline\n",
    "The simulated data were generated with MIRISim v2.3.0. The observation consists of an observation of a stellar source in the slitless subarray. In this scenario, one exposure is executed at the nominal pointing location.\n",
    "In the first steps we run the Detector1 pipeline, and the Spec2 pipeline steps before flat fielding.\n",
    "  \n",
    "**TO DO: data to be placed into a central location such as artifactory.**"
   ]
  },
  {
   "cell_type": "code",
   "execution_count": 7,
   "metadata": {},
   "outputs": [],
   "source": [
    "if not os.path.exists('../cfg_files/'):\n",
    "    os.mkdir('../cfg_files/')\n",
    "    cfgs = collect_pipeline_cfgs.collect_pipeline_cfgs(dst='../cfg_files/')"
   ]
  },
  {
   "cell_type": "code",
   "execution_count": 8,
   "metadata": {},
   "outputs": [
    {
     "name": "stderr",
     "output_type": "stream",
     "text": [
      "2020-08-27 09:53:25,954 - CRDS - ERROR -  Error determining best reference for 'pars-groupscalestep'  =   Unknown reference type 'pars-groupscalestep'\n",
      "2020-08-27 09:53:25,960 - CRDS - ERROR -  Error determining best reference for 'pars-dqinitstep'  =   Unknown reference type 'pars-dqinitstep'\n",
      "2020-08-27 09:53:25,966 - CRDS - ERROR -  Error determining best reference for 'pars-saturationstep'  =   Unknown reference type 'pars-saturationstep'\n",
      "2020-08-27 09:53:26,024 - CRDS - ERROR -  Error determining best reference for 'pars-ipcstep'  =   Unknown reference type 'pars-ipcstep'\n",
      "2020-08-27 09:53:26,031 - CRDS - ERROR -  Error determining best reference for 'pars-superbiasstep'  =   Unknown reference type 'pars-superbiasstep'\n",
      "2020-08-27 09:53:26,039 - CRDS - ERROR -  Error determining best reference for 'pars-refpixstep'  =   Unknown reference type 'pars-refpixstep'\n",
      "2020-08-27 09:53:26,045 - CRDS - ERROR -  Error determining best reference for 'pars-rscd_step'  =   Unknown reference type 'pars-rscd_step'\n",
      "2020-08-27 09:53:26,051 - CRDS - ERROR -  Error determining best reference for 'pars-firstframestep'  =   Unknown reference type 'pars-firstframestep'\n",
      "2020-08-27 09:53:26,056 - CRDS - ERROR -  Error determining best reference for 'pars-lastframestep'  =   Unknown reference type 'pars-lastframestep'\n",
      "2020-08-27 09:53:26,063 - CRDS - ERROR -  Error determining best reference for 'pars-linearitystep'  =   Unknown reference type 'pars-linearitystep'\n",
      "2020-08-27 09:53:26,068 - CRDS - ERROR -  Error determining best reference for 'pars-darkcurrentstep'  =   Unknown reference type 'pars-darkcurrentstep'\n",
      "2020-08-27 09:53:26,074 - CRDS - ERROR -  Error determining best reference for 'pars-persistencestep'  =   Unknown reference type 'pars-persistencestep'\n",
      "2020-08-27 09:53:26,081 - CRDS - ERROR -  Error determining best reference for 'pars-jumpstep'  =   Unknown reference type 'pars-jumpstep'\n",
      "2020-08-27 09:53:26,086 - CRDS - ERROR -  Error determining best reference for 'pars-rampfitstep'  =   Unknown reference type 'pars-rampfitstep'\n",
      "2020-08-27 09:53:26,091 - CRDS - ERROR -  Error determining best reference for 'pars-gainscalestep'  =   Unknown reference type 'pars-gainscalestep'\n",
      "2020-08-27 09:53:26,094 - CRDS - ERROR -  Error determining best reference for 'pars-detector1pipeline'  =   Unknown reference type 'pars-detector1pipeline'\n",
      "2020-08-27 09:53:26,121 - stpipe.Detector1Pipeline - INFO - Detector1Pipeline instance created.\n",
      "2020-08-27 09:53:26,123 - stpipe.Detector1Pipeline.group_scale - INFO - GroupScaleStep instance created.\n",
      "2020-08-27 09:53:26,124 - stpipe.Detector1Pipeline.dq_init - INFO - DQInitStep instance created.\n",
      "2020-08-27 09:53:26,125 - stpipe.Detector1Pipeline.saturation - INFO - SaturationStep instance created.\n",
      "2020-08-27 09:53:26,127 - stpipe.Detector1Pipeline.ipc - INFO - IPCStep instance created.\n",
      "2020-08-27 09:53:26,128 - stpipe.Detector1Pipeline.superbias - INFO - SuperBiasStep instance created.\n",
      "2020-08-27 09:53:26,129 - stpipe.Detector1Pipeline.refpix - INFO - RefPixStep instance created.\n",
      "2020-08-27 09:53:26,131 - stpipe.Detector1Pipeline.rscd - INFO - RSCD_Step instance created.\n",
      "2020-08-27 09:53:26,132 - stpipe.Detector1Pipeline.firstframe - INFO - FirstFrameStep instance created.\n",
      "2020-08-27 09:53:26,133 - stpipe.Detector1Pipeline.lastframe - INFO - LastFrameStep instance created.\n",
      "2020-08-27 09:53:26,134 - stpipe.Detector1Pipeline.linearity - INFO - LinearityStep instance created.\n",
      "2020-08-27 09:53:26,136 - stpipe.Detector1Pipeline.dark_current - INFO - DarkCurrentStep instance created.\n",
      "2020-08-27 09:53:26,137 - stpipe.Detector1Pipeline.persistence - INFO - PersistenceStep instance created.\n",
      "2020-08-27 09:53:26,138 - stpipe.Detector1Pipeline.jump - INFO - JumpStep instance created.\n",
      "2020-08-27 09:53:26,139 - stpipe.Detector1Pipeline.ramp_fit - INFO - RampFitStep instance created.\n",
      "2020-08-27 09:53:26,141 - stpipe.Detector1Pipeline.gain_scale - INFO - GainScaleStep instance created.\n",
      "2020-08-27 09:53:26,192 - stpipe.Detector1Pipeline - INFO - Step Detector1Pipeline running with args (<RampModel(10, 100, 416, 72) from astropy-download-33591-vmvtulh3>,).\n",
      "2020-08-27 09:53:26,204 - stpipe.Detector1Pipeline - INFO - Step Detector1Pipeline parameters are: {'pre_hooks': [], 'post_hooks': [], 'output_file': None, 'output_dir': None, 'output_ext': '.fits', 'output_use_model': False, 'output_use_index': True, 'save_results': True, 'skip': False, 'suffix': None, 'search_output_file': True, 'input_dir': '', 'save_calibrated_ramp': False, 'steps': {'group_scale': {'pre_hooks': [], 'post_hooks': [], 'output_file': None, 'output_dir': None, 'output_ext': '.fits', 'output_use_model': False, 'output_use_index': True, 'save_results': False, 'skip': False, 'suffix': None, 'search_output_file': True, 'input_dir': ''}, 'dq_init': {'pre_hooks': [], 'post_hooks': [], 'output_file': None, 'output_dir': None, 'output_ext': '.fits', 'output_use_model': False, 'output_use_index': True, 'save_results': False, 'skip': False, 'suffix': None, 'search_output_file': True, 'input_dir': ''}, 'saturation': {'pre_hooks': [], 'post_hooks': [], 'output_file': None, 'output_dir': None, 'output_ext': '.fits', 'output_use_model': False, 'output_use_index': True, 'save_results': False, 'skip': False, 'suffix': None, 'search_output_file': True, 'input_dir': ''}, 'ipc': {'pre_hooks': [], 'post_hooks': [], 'output_file': None, 'output_dir': None, 'output_ext': '.fits', 'output_use_model': False, 'output_use_index': True, 'save_results': False, 'skip': True, 'suffix': None, 'search_output_file': True, 'input_dir': ''}, 'superbias': {'pre_hooks': [], 'post_hooks': [], 'output_file': None, 'output_dir': None, 'output_ext': '.fits', 'output_use_model': False, 'output_use_index': True, 'save_results': False, 'skip': False, 'suffix': None, 'search_output_file': True, 'input_dir': ''}, 'refpix': {'pre_hooks': [], 'post_hooks': [], 'output_file': None, 'output_dir': None, 'output_ext': '.fits', 'output_use_model': False, 'output_use_index': True, 'save_results': False, 'skip': False, 'suffix': None, 'search_output_file': True, 'input_dir': '', 'odd_even_columns': True, 'use_side_ref_pixels': True, 'side_smoothing_length': 11, 'side_gain': 1.0, 'odd_even_rows': True}, 'rscd': {'pre_hooks': [], 'post_hooks': [], 'output_file': None, 'output_dir': None, 'output_ext': '.fits', 'output_use_model': False, 'output_use_index': True, 'save_results': False, 'skip': False, 'suffix': None, 'search_output_file': True, 'input_dir': '', 'type': 'baseline'}, 'firstframe': {'pre_hooks': [], 'post_hooks': [], 'output_file': None, 'output_dir': None, 'output_ext': '.fits', 'output_use_model': False, 'output_use_index': True, 'save_results': False, 'skip': False, 'suffix': None, 'search_output_file': True, 'input_dir': ''}, 'lastframe': {'pre_hooks': [], 'post_hooks': [], 'output_file': None, 'output_dir': None, 'output_ext': '.fits', 'output_use_model': False, 'output_use_index': True, 'save_results': False, 'skip': False, 'suffix': None, 'search_output_file': True, 'input_dir': ''}, 'linearity': {'pre_hooks': [], 'post_hooks': [], 'output_file': None, 'output_dir': None, 'output_ext': '.fits', 'output_use_model': False, 'output_use_index': True, 'save_results': False, 'skip': False, 'suffix': None, 'search_output_file': True, 'input_dir': ''}, 'dark_current': {'pre_hooks': [], 'post_hooks': [], 'output_file': None, 'output_dir': None, 'output_ext': '.fits', 'output_use_model': False, 'output_use_index': True, 'save_results': False, 'skip': False, 'suffix': None, 'search_output_file': True, 'input_dir': '', 'dark_output': None}, 'persistence': {'pre_hooks': [], 'post_hooks': [], 'output_file': None, 'output_dir': None, 'output_ext': '.fits', 'output_use_model': False, 'output_use_index': True, 'save_results': False, 'skip': False, 'suffix': None, 'search_output_file': True, 'input_dir': '', 'input_trapsfilled': '', 'flag_pers_cutoff': 40.0, 'save_persistence': False, 'save_trapsfilled': True}, 'jump': {'pre_hooks': [], 'post_hooks': [], 'output_file': None, 'output_dir': None, 'output_ext': '.fits', 'output_use_model': False, 'output_use_index': True, 'save_results': False, 'skip': False, 'suffix': None, 'search_output_file': True, 'input_dir': '', 'rejection_threshold': 4.0, 'maximum_cores': None, 'flag_4_neighbors': True, 'max_jump_to_flag_neighbors': 200.0, 'min_jump_to_flag_neighbors': 10.0}, 'ramp_fit': {'pre_hooks': [], 'post_hooks': [], 'output_file': None, 'output_dir': None, 'output_ext': '.fits', 'output_use_model': False, 'output_use_index': True, 'save_results': False, 'skip': False, 'suffix': None, 'search_output_file': True, 'input_dir': '', 'int_name': '', 'save_opt': False, 'opt_name': ''}, 'gain_scale': {'pre_hooks': [], 'post_hooks': [], 'output_file': None, 'output_dir': None, 'output_ext': '.fits', 'output_use_model': False, 'output_use_index': True, 'save_results': False, 'skip': False, 'suffix': None, 'search_output_file': True, 'input_dir': ''}}}\n"
     ]
    },
    {
     "name": "stderr",
     "output_type": "stream",
     "text": [
      "2020-08-27 09:53:26,217 - stpipe.Detector1Pipeline - INFO - Prefetching reference files for dataset: 'astropy-download-33591-vmvtulh3' reftypes = ['dark', 'gain', 'linearity', 'mask', 'persat', 'readnoise', 'refpix', 'rscd', 'saturation', 'superbias', 'trapdensity', 'trappars']\n",
      "2020-08-27 09:53:26,225 - stpipe.Detector1Pipeline - INFO - Prefetch for DARK reference file is '/Users/kendrew//crds_cache/references/jwst/miri/jwst_miri_dark_0048.fits'.\n",
      "2020-08-27 09:53:26,226 - stpipe.Detector1Pipeline - INFO - Prefetch for GAIN reference file is '/Users/kendrew//crds_cache/references/jwst/miri/jwst_miri_gain_0008.fits'.\n",
      "2020-08-27 09:53:26,227 - stpipe.Detector1Pipeline - INFO - Prefetch for LINEARITY reference file is '/Users/kendrew//crds_cache/references/jwst/miri/jwst_miri_linearity_0024.fits'.\n",
      "2020-08-27 09:53:26,227 - stpipe.Detector1Pipeline - INFO - Prefetch for MASK reference file is '/Users/kendrew//crds_cache/references/jwst/miri/jwst_miri_mask_0023.fits'.\n",
      "2020-08-27 09:53:26,228 - stpipe.Detector1Pipeline - INFO - Prefetch for PERSAT reference file is 'N/A'.\n",
      "2020-08-27 09:53:26,229 - stpipe.Detector1Pipeline - INFO - Prefetch for READNOISE reference file is '/Users/kendrew//crds_cache/references/jwst/miri/jwst_miri_readnoise_0070.fits'.\n",
      "2020-08-27 09:53:26,230 - stpipe.Detector1Pipeline - INFO - Prefetch for REFPIX reference file is 'N/A'.\n",
      "2020-08-27 09:53:26,230 - stpipe.Detector1Pipeline - INFO - Prefetch for RSCD reference file is '/Users/kendrew//crds_cache/references/jwst/miri/jwst_miri_rscd_0010.fits'.\n",
      "2020-08-27 09:53:26,231 - stpipe.Detector1Pipeline - INFO - Prefetch for SATURATION reference file is '/Users/kendrew//crds_cache/references/jwst/miri/jwst_miri_saturation_0022.fits'.\n",
      "2020-08-27 09:53:26,232 - stpipe.Detector1Pipeline - INFO - Prefetch for SUPERBIAS reference file is 'N/A'.\n",
      "2020-08-27 09:53:26,232 - stpipe.Detector1Pipeline - INFO - Prefetch for TRAPDENSITY reference file is 'N/A'.\n",
      "2020-08-27 09:53:26,233 - stpipe.Detector1Pipeline - INFO - Prefetch for TRAPPARS reference file is 'N/A'.\n",
      "2020-08-27 09:53:26,233 - stpipe.Detector1Pipeline - INFO - Starting calwebb_detector1 ...\n",
      "2020-08-27 09:53:26,294 - stpipe.Detector1Pipeline.group_scale - INFO - Step group_scale running with args (<RampModel(10, 100, 416, 72) from astropy-download-33591-vmvtulh3>,).\n",
      "2020-08-27 09:53:26,295 - stpipe.Detector1Pipeline.group_scale - INFO - Step group_scale parameters are: {'pre_hooks': [], 'post_hooks': [], 'output_file': None, 'output_dir': None, 'output_ext': '.fits', 'output_use_model': False, 'output_use_index': True, 'save_results': False, 'skip': False, 'suffix': None, 'search_output_file': True, 'input_dir': ''}\n",
      "2020-08-27 09:53:26,309 - stpipe.Detector1Pipeline.group_scale - INFO - NFRAMES=1 is a power of 2; correction not needed\n",
      "2020-08-27 09:53:26,310 - stpipe.Detector1Pipeline.group_scale - INFO - Step will be skipped\n",
      "2020-08-27 09:53:26,312 - stpipe.Detector1Pipeline.group_scale - INFO - Step group_scale done\n",
      "2020-08-27 09:53:26,411 - stpipe.Detector1Pipeline.dq_init - INFO - Step dq_init running with args (<RampModel(10, 100, 416, 72) from astropy-download-33591-vmvtulh3>,).\n",
      "2020-08-27 09:53:26,413 - stpipe.Detector1Pipeline.dq_init - INFO - Step dq_init parameters are: {'pre_hooks': [], 'post_hooks': [], 'output_file': None, 'output_dir': None, 'output_ext': '.fits', 'output_use_model': False, 'output_use_index': True, 'save_results': False, 'skip': False, 'suffix': None, 'search_output_file': True, 'input_dir': ''}\n",
      "2020-08-27 09:53:26,428 - stpipe.Detector1Pipeline.dq_init - INFO - Using MASK reference file /Users/kendrew//crds_cache/references/jwst/miri/jwst_miri_mask_0023.fits\n",
      "2020-08-27 09:53:26,715 - stpipe.Detector1Pipeline.dq_init - INFO - Extracting mask subarray to match science data\n",
      "2020-08-27 09:53:26,724 - stpipe.Detector1Pipeline.dq_init - INFO - Step dq_init done\n",
      "2020-08-27 09:53:26,831 - stpipe.Detector1Pipeline.saturation - INFO - Step saturation running with args (<RampModel(10, 100, 416, 72) from astropy-download-33591-vmvtulh3>,).\n",
      "2020-08-27 09:53:26,833 - stpipe.Detector1Pipeline.saturation - INFO - Step saturation parameters are: {'pre_hooks': [], 'post_hooks': [], 'output_file': None, 'output_dir': None, 'output_ext': '.fits', 'output_use_model': False, 'output_use_index': True, 'save_results': False, 'skip': False, 'suffix': None, 'search_output_file': True, 'input_dir': ''}\n",
      "2020-08-27 09:53:26,851 - stpipe.Detector1Pipeline.saturation - INFO - Using SATURATION reference file /Users/kendrew//crds_cache/references/jwst/miri/jwst_miri_saturation_0022.fits\n",
      "2020-08-27 09:53:27,091 - stpipe.Detector1Pipeline.saturation - INFO - Extracting reference file subarray to match science data\n",
      "2020-08-27 09:53:27,850 - stpipe.Detector1Pipeline.saturation - INFO - Step saturation done\n",
      "2020-08-27 09:53:27,981 - stpipe.Detector1Pipeline.ipc - INFO - Step ipc running with args (<RampModel(10, 100, 416, 72) from astropy-download-33591-vmvtulh3>,).\n",
      "2020-08-27 09:53:27,983 - stpipe.Detector1Pipeline.ipc - INFO - Step ipc parameters are: {'pre_hooks': [], 'post_hooks': [], 'output_file': None, 'output_dir': None, 'output_ext': '.fits', 'output_use_model': False, 'output_use_index': True, 'save_results': False, 'skip': True, 'suffix': None, 'search_output_file': True, 'input_dir': ''}\n",
      "2020-08-27 09:53:27,983 - stpipe.Detector1Pipeline.ipc - INFO - Step skipped.\n",
      "2020-08-27 09:53:27,986 - stpipe.Detector1Pipeline.ipc - INFO - Step ipc done\n",
      "2020-08-27 09:53:28,104 - stpipe.Detector1Pipeline.firstframe - INFO - Step firstframe running with args (<RampModel(10, 100, 416, 72) from astropy-download-33591-vmvtulh3>,).\n",
      "2020-08-27 09:53:28,106 - stpipe.Detector1Pipeline.firstframe - INFO - Step firstframe parameters are: {'pre_hooks': [], 'post_hooks': [], 'output_file': None, 'output_dir': None, 'output_ext': '.fits', 'output_use_model': False, 'output_use_index': True, 'save_results': False, 'skip': False, 'suffix': None, 'search_output_file': True, 'input_dir': ''}\n",
      "2020-08-27 09:53:28,201 - stpipe.Detector1Pipeline.firstframe - INFO - Step firstframe done\n",
      "2020-08-27 09:53:28,333 - stpipe.Detector1Pipeline.lastframe - INFO - Step lastframe running with args (<RampModel(10, 100, 416, 72) from astropy-download-33591-vmvtulh3>,).\n",
      "2020-08-27 09:53:28,334 - stpipe.Detector1Pipeline.lastframe - INFO - Step lastframe parameters are: {'pre_hooks': [], 'post_hooks': [], 'output_file': None, 'output_dir': None, 'output_ext': '.fits', 'output_use_model': False, 'output_use_index': True, 'save_results': False, 'skip': False, 'suffix': None, 'search_output_file': True, 'input_dir': ''}\n",
      "2020-08-27 09:53:28,439 - stpipe.Detector1Pipeline.lastframe - INFO - Step lastframe done\n",
      "2020-08-27 09:53:28,562 - stpipe.Detector1Pipeline.linearity - INFO - Step linearity running with args (<RampModel(10, 100, 416, 72) from astropy-download-33591-vmvtulh3>,).\n",
      "2020-08-27 09:53:28,564 - stpipe.Detector1Pipeline.linearity - INFO - Step linearity parameters are: {'pre_hooks': [], 'post_hooks': [], 'output_file': None, 'output_dir': None, 'output_ext': '.fits', 'output_use_model': False, 'output_use_index': True, 'save_results': False, 'skip': False, 'suffix': None, 'search_output_file': True, 'input_dir': ''}\n",
      "2020-08-27 09:53:28,579 - stpipe.Detector1Pipeline.linearity - INFO - Using Linearity reference file /Users/kendrew//crds_cache/references/jwst/miri/jwst_miri_linearity_0024.fits\n",
      "2020-08-27 09:53:28,732 - stpipe.Detector1Pipeline.linearity - INFO - Extracting linearity subarray to match science data\n",
      "2020-08-27 09:53:28,903 - stpipe.Detector1Pipeline.linearity - INFO - Step linearity done\n",
      "2020-08-27 09:53:29,040 - stpipe.Detector1Pipeline.rscd - INFO - Step rscd running with args (<RampModel(10, 100, 416, 72) from astropy-download-33591-vmvtulh3>,).\n",
      "2020-08-27 09:53:29,042 - stpipe.Detector1Pipeline.rscd - INFO - Step rscd parameters are: {'pre_hooks': [], 'post_hooks': [], 'output_file': None, 'output_dir': None, 'output_ext': '.fits', 'output_use_model': False, 'output_use_index': True, 'save_results': False, 'skip': False, 'suffix': None, 'search_output_file': True, 'input_dir': '', 'type': 'baseline'}\n",
      "2020-08-27 09:53:29,059 - stpipe.Detector1Pipeline.rscd - INFO - Using RSCD reference file /Users/kendrew//crds_cache/references/jwst/miri/jwst_miri_rscd_0010.fits\n"
     ]
    },
    {
     "name": "stderr",
     "output_type": "stream",
     "text": [
      "2020-08-27 09:53:29,191 - stpipe.Detector1Pipeline.rscd - INFO - Step rscd done\n",
      "2020-08-27 09:53:29,319 - stpipe.Detector1Pipeline.dark_current - INFO - Step dark_current running with args (<RampModel(10, 100, 416, 72) from astropy-download-33591-vmvtulh3>,).\n",
      "2020-08-27 09:53:29,321 - stpipe.Detector1Pipeline.dark_current - INFO - Step dark_current parameters are: {'pre_hooks': [], 'post_hooks': [], 'output_file': None, 'output_dir': None, 'output_ext': '.fits', 'output_use_model': False, 'output_use_index': True, 'save_results': False, 'skip': False, 'suffix': None, 'search_output_file': True, 'input_dir': '', 'dark_output': None}\n",
      "2020-08-27 09:53:29,336 - stpipe.Detector1Pipeline.dark_current - INFO - Using DARK reference file /Users/kendrew//crds_cache/references/jwst/miri/jwst_miri_dark_0048.fits\n",
      "2020-08-27 09:53:29,702 - stpipe.Detector1Pipeline.dark_current - INFO - Science data nints=10, ngroups=100, nframes=1, groupgap=0\n",
      "2020-08-27 09:53:29,703 - stpipe.Detector1Pipeline.dark_current - INFO - Dark data nints=2, ngroups=1000, nframes=1, groupgap=0\n",
      "2020-08-27 09:53:29,884 - stpipe.Detector1Pipeline.dark_current - INFO - Step dark_current done\n",
      "2020-08-27 09:53:30,050 - stpipe.Detector1Pipeline.refpix - INFO - Step refpix running with args (<RampModel(10, 100, 416, 72) from astropy-download-33591-vmvtulh3>,).\n",
      "2020-08-27 09:53:30,051 - stpipe.Detector1Pipeline.refpix - INFO - Step refpix parameters are: {'pre_hooks': [], 'post_hooks': [], 'output_file': None, 'output_dir': None, 'output_ext': '.fits', 'output_use_model': False, 'output_use_index': True, 'save_results': False, 'skip': False, 'suffix': None, 'search_output_file': True, 'input_dir': '', 'odd_even_columns': True, 'use_side_ref_pixels': True, 'side_smoothing_length': 11, 'side_gain': 1.0, 'odd_even_rows': True}\n",
      "2020-08-27 09:53:30,065 - stpipe.Detector1Pipeline.refpix - INFO - use_side_ref_pixels = True\n",
      "2020-08-27 09:53:30,066 - stpipe.Detector1Pipeline.refpix - INFO - odd_even_columns = True\n",
      "2020-08-27 09:53:30,067 - stpipe.Detector1Pipeline.refpix - INFO - side_smoothing_length = 11\n",
      "2020-08-27 09:53:30,068 - stpipe.Detector1Pipeline.refpix - INFO - side_gain = 1.000000\n",
      "2020-08-27 09:53:30,069 - stpipe.Detector1Pipeline.refpix - INFO - odd_even_rows = True\n",
      "2020-08-27 09:53:30,150 - stpipe.Detector1Pipeline.refpix - WARNING - Refpix correction skipped for MIRI subarrays\n",
      "2020-08-27 09:53:30,152 - stpipe.Detector1Pipeline.refpix - INFO - Step refpix done\n",
      "2020-08-27 09:53:30,284 - stpipe.Detector1Pipeline.jump - INFO - Step jump running with args (<RampModel(10, 100, 416, 72) from astropy-download-33591-vmvtulh3>,).\n",
      "2020-08-27 09:53:30,285 - stpipe.Detector1Pipeline.jump - INFO - Step jump parameters are: {'pre_hooks': [], 'post_hooks': [], 'output_file': None, 'output_dir': None, 'output_ext': '.fits', 'output_use_model': False, 'output_use_index': True, 'save_results': False, 'skip': False, 'suffix': None, 'search_output_file': True, 'input_dir': '', 'rejection_threshold': 4.0, 'maximum_cores': None, 'flag_4_neighbors': True, 'max_jump_to_flag_neighbors': 200.0, 'min_jump_to_flag_neighbors': 10.0}\n",
      "2020-08-27 09:53:30,298 - stpipe.Detector1Pipeline.jump - INFO - CR rejection threshold = 4 sigma\n",
      "2020-08-27 09:53:30,302 - stpipe.Detector1Pipeline.jump - INFO - Using GAIN reference file: /Users/kendrew//crds_cache/references/jwst/miri/jwst_miri_gain_0008.fits\n",
      "2020-08-27 09:53:30,327 - stpipe.Detector1Pipeline.jump - INFO - Using READNOISE reference file: /Users/kendrew//crds_cache/references/jwst/miri/jwst_miri_readnoise_0070.fits\n",
      "2020-08-27 09:53:30,421 - stpipe.Detector1Pipeline.jump - INFO - Extracting gain subarray to match science data\n",
      "2020-08-27 09:53:30,472 - stpipe.Detector1Pipeline.jump - INFO - Executing two-point difference method\n",
      "2020-08-27 09:53:30,817 - stpipe.Detector1Pipeline.jump - INFO -  working on integration 1\n",
      "2020-08-27 09:53:30,982 - stpipe.Detector1Pipeline.jump - INFO - From highest outlier Two point found 2458 pixels with at least one CR\n",
      "2020-08-27 09:53:31,109 - stpipe.Detector1Pipeline.jump - INFO -  working on integration 2\n",
      "2020-08-27 09:53:31,264 - stpipe.Detector1Pipeline.jump - INFO - From highest outlier Two point found 2588 pixels with at least one CR\n",
      "2020-08-27 09:53:31,395 - stpipe.Detector1Pipeline.jump - INFO -  working on integration 3\n",
      "2020-08-27 09:53:31,532 - stpipe.Detector1Pipeline.jump - INFO - From highest outlier Two point found 2596 pixels with at least one CR\n",
      "2020-08-27 09:53:31,659 - stpipe.Detector1Pipeline.jump - INFO -  working on integration 4\n",
      "2020-08-27 09:53:31,796 - stpipe.Detector1Pipeline.jump - INFO - From highest outlier Two point found 2612 pixels with at least one CR\n",
      "2020-08-27 09:53:31,928 - stpipe.Detector1Pipeline.jump - INFO -  working on integration 5\n",
      "2020-08-27 09:53:32,066 - stpipe.Detector1Pipeline.jump - INFO - From highest outlier Two point found 2570 pixels with at least one CR\n",
      "2020-08-27 09:53:32,205 - stpipe.Detector1Pipeline.jump - INFO -  working on integration 6\n",
      "2020-08-27 09:53:32,345 - stpipe.Detector1Pipeline.jump - INFO - From highest outlier Two point found 2610 pixels with at least one CR\n",
      "2020-08-27 09:53:32,523 - stpipe.Detector1Pipeline.jump - INFO -  working on integration 7\n",
      "2020-08-27 09:53:32,661 - stpipe.Detector1Pipeline.jump - INFO - From highest outlier Two point found 2557 pixels with at least one CR\n",
      "2020-08-27 09:53:32,792 - stpipe.Detector1Pipeline.jump - INFO -  working on integration 8\n",
      "2020-08-27 09:53:32,929 - stpipe.Detector1Pipeline.jump - INFO - From highest outlier Two point found 2579 pixels with at least one CR\n",
      "2020-08-27 09:53:33,061 - stpipe.Detector1Pipeline.jump - INFO -  working on integration 9\n",
      "2020-08-27 09:53:33,197 - stpipe.Detector1Pipeline.jump - INFO - From highest outlier Two point found 2584 pixels with at least one CR\n",
      "2020-08-27 09:53:33,330 - stpipe.Detector1Pipeline.jump - INFO -  working on integration 10\n",
      "2020-08-27 09:53:33,470 - stpipe.Detector1Pipeline.jump - INFO - From highest outlier Two point found 2610 pixels with at least one CR\n",
      "2020-08-27 09:53:34,229 - stpipe.Detector1Pipeline.jump - INFO - Total elapsed time = 3.75603 sec\n",
      "2020-08-27 09:53:34,234 - stpipe.Detector1Pipeline.jump - INFO - The execution time in seconds: 3.936072\n",
      "2020-08-27 09:53:34,239 - stpipe.Detector1Pipeline.jump - INFO - Step jump done\n",
      "2020-08-27 09:53:34,371 - stpipe.Detector1Pipeline.ramp_fit - INFO - Step ramp_fit running with args (<RampModel(10, 100, 416, 72) from astropy-download-33591-vmvtulh3>,).\n",
      "2020-08-27 09:53:34,372 - stpipe.Detector1Pipeline.ramp_fit - INFO - Step ramp_fit parameters are: {'pre_hooks': [], 'post_hooks': [], 'output_file': None, 'output_dir': None, 'output_ext': '.fits', 'output_use_model': False, 'output_use_index': True, 'save_results': False, 'skip': False, 'suffix': None, 'search_output_file': True, 'input_dir': '', 'int_name': '', 'save_opt': False, 'opt_name': ''}\n",
      "2020-08-27 09:53:34,391 - stpipe.Detector1Pipeline.ramp_fit - INFO - Using READNOISE reference file: /Users/kendrew//crds_cache/references/jwst/miri/jwst_miri_readnoise_0070.fits\n",
      "2020-08-27 09:53:34,410 - stpipe.Detector1Pipeline.ramp_fit - INFO - Using GAIN reference file: /Users/kendrew//crds_cache/references/jwst/miri/jwst_miri_gain_0008.fits\n",
      "2020-08-27 09:53:34,426 - stpipe.Detector1Pipeline.ramp_fit - INFO - Using algorithm = ols\n",
      "2020-08-27 09:53:34,426 - stpipe.Detector1Pipeline.ramp_fit - INFO - Using weighting = optimal\n",
      "2020-08-27 09:53:34,431 - stpipe.Detector1Pipeline.ramp_fit - INFO - Number of leading groups that are flagged as DO_NOT_USE: 1\n",
      "2020-08-27 09:53:34,433 - stpipe.Detector1Pipeline.ramp_fit - INFO - MIRI dataset has all pixels in the final group flagged as DO_NOT_USE.\n",
      "2020-08-27 09:53:34,434 - stpipe.Detector1Pipeline.ramp_fit - INFO - Effective integration time per group: 0.15904\n",
      "2020-08-27 09:53:34,472 - stpipe.Detector1Pipeline.ramp_fit - INFO - Extracting gain subarray to match science data\n",
      "2020-08-27 09:54:45,330 - stpipe.Detector1Pipeline.ramp_fit - INFO - Number of groups per integration: 100\n",
      "2020-08-27 09:54:45,331 - stpipe.Detector1Pipeline.ramp_fit - INFO - Number of integrations: 10\n",
      "2020-08-27 09:54:45,389 - stpipe.Detector1Pipeline.ramp_fit - INFO - Step ramp_fit done\n"
     ]
    },
    {
     "name": "stderr",
     "output_type": "stream",
     "text": [
      "2020-08-27 09:54:45,548 - stpipe.Detector1Pipeline.gain_scale - INFO - Step gain_scale running with args (<ImageModel(416, 72) from astropy-download-33591-vmvtulh3>,).\n",
      "2020-08-27 09:54:45,549 - stpipe.Detector1Pipeline.gain_scale - INFO - Step gain_scale parameters are: {'pre_hooks': [], 'post_hooks': [], 'output_file': None, 'output_dir': None, 'output_ext': '.fits', 'output_use_model': False, 'output_use_index': True, 'save_results': False, 'skip': False, 'suffix': 'gain_scale', 'search_output_file': True, 'input_dir': ''}\n",
      "2020-08-27 09:54:45,581 - stpipe.Detector1Pipeline.gain_scale - INFO - GAINFACT not found in gain reference file\n",
      "2020-08-27 09:54:45,582 - stpipe.Detector1Pipeline.gain_scale - INFO - Step will be skipped\n",
      "2020-08-27 09:54:45,586 - stpipe.Detector1Pipeline.gain_scale - INFO - Step gain_scale done\n",
      "2020-08-27 09:54:45,706 - stpipe.Detector1Pipeline.gain_scale - INFO - Step gain_scale running with args (<CubeModel(10, 416, 72) from astropy-download-33591-vmvtulh3>,).\n",
      "2020-08-27 09:54:45,707 - stpipe.Detector1Pipeline.gain_scale - INFO - Step gain_scale parameters are: {'pre_hooks': [], 'post_hooks': [], 'output_file': None, 'output_dir': None, 'output_ext': '.fits', 'output_use_model': False, 'output_use_index': True, 'save_results': False, 'skip': False, 'suffix': 'gain_scaleints', 'search_output_file': True, 'input_dir': ''}\n",
      "2020-08-27 09:54:45,738 - stpipe.Detector1Pipeline.gain_scale - INFO - GAINFACT not found in gain reference file\n",
      "2020-08-27 09:54:45,739 - stpipe.Detector1Pipeline.gain_scale - INFO - Step will be skipped\n",
      "2020-08-27 09:54:45,742 - stpipe.Detector1Pipeline.gain_scale - INFO - Step gain_scale done\n",
      "2020-08-27 09:54:45,891 - stpipe.Detector1Pipeline - INFO - Saved model in astropy-download-33591-vmvtulh3_rateints.fits\n",
      "2020-08-27 09:54:45,892 - stpipe.Detector1Pipeline - INFO - ... ending calwebb_detector1\n",
      "2020-08-27 09:54:45,947 - stpipe.Detector1Pipeline - INFO - Saved model in astropy-download-33591-vmvtulh3_rate.fits\n",
      "2020-08-27 09:54:45,947 - stpipe.Detector1Pipeline - INFO - Step Detector1Pipeline done\n"
     ]
    }
   ],
   "source": [
    "# KM file location\n",
    "#det1 = Detector1Pipeline.call('slitless_sim/det_images/det_image_seq1_MIRIMAGE_P750Lexp1.fits', config_file='../cfg_files/calwebb_detector1.cfg', save_results=True)\n",
    "\n",
    "# Box file location:\n",
    "det1 = Detector1Pipeline.call(sci_mod, config_file='../cfg_files/calwebb_detector1.cfg', save_results=True)"
   ]
  },
  {
   "cell_type": "markdown",
   "metadata": {},
   "source": [
    "The ``det1`` output corresponds to the \\_rate.fits file, which has the integrations co-added. For time series observations, we proceed with the \\_rateints.fits file, in which integrations are not co-added. So we find that file and load it in for further processing."
   ]
  },
  {
   "cell_type": "code",
   "execution_count": 26,
   "metadata": {},
   "outputs": [
    {
     "name": "stdout",
     "output_type": "stream",
     "text": [
      "['astropy-download-33591-vmvtulh3_rateints.fits']\n"
     ]
    }
   ],
   "source": [
    "rifile = glob.glob('*_rateints.fits')\n",
    "print(rifile)\n",
    "\n",
    "det1_ints = datamodels.open(rifile[0])\n"
   ]
  },
  {
   "cell_type": "markdown",
   "metadata": {},
   "source": [
    "Now we run the assign_wcs(), extract2d() steps with this model. Extract2d should do nothing for slitless LRS data."
   ]
  },
  {
   "cell_type": "code",
   "execution_count": 35,
   "metadata": {},
   "outputs": [
    {
     "name": "stderr",
     "output_type": "stream",
     "text": [
      "2020-08-27 10:31:48,972 - CRDS - ERROR -  Error determining best reference for 'pars-assignwcsstep'  =   Unknown reference type 'pars-assignwcsstep'\n",
      "2020-08-27 10:31:48,975 - stpipe.assign_wcs - INFO - AssignWcsStep instance created.\n",
      "2020-08-27 10:31:49,241 - stpipe.assign_wcs - INFO - Step assign_wcs running with args (<CubeModel(10, 416, 72) from astropy-download-33591-vmvtulh3_rateints.fits>,).\n",
      "2020-08-27 10:31:49,244 - stpipe.assign_wcs - INFO - Step assign_wcs parameters are: {'pre_hooks': [], 'post_hooks': [], 'output_file': None, 'output_dir': None, 'output_ext': '.fits', 'output_use_model': False, 'output_use_index': True, 'save_results': True, 'skip': False, 'suffix': None, 'search_output_file': True, 'input_dir': '', 'slit_y_low': -0.55, 'slit_y_high': 0.55}\n",
      "2020-08-27 10:31:49,744 - stpipe.assign_wcs - INFO - Created a MIRI mir_lrs-slitless pipeline with references {'distortion': '/Users/kendrew//crds_cache/references/jwst/miri/jwst_miri_distortion_0028.asdf', 'filteroffset': None, 'specwcs': '/Users/kendrew//crds_cache/references/jwst/miri/jwst_miri_specwcs_0003.fits', 'regions': None, 'wavelengthrange': None, 'camera': None, 'collimator': None, 'disperser': None, 'fore': None, 'fpa': None, 'msa': None, 'ote': None, 'ifupost': None, 'ifufore': None, 'ifuslicer': None}\n",
      "2020-08-27 10:31:49,766 - stpipe.assign_wcs - WARNING - /Users/kendrew/anaconda3/envs/jwst0.16.2/lib/python3.8/site-packages/gwcs/wcs.py:131: VisibleDeprecationWarning: Creating an ndarray from ragged nested sequences (which is a list-or-tuple of lists-or-tuples-or ndarrays with different lengths or shapes) is deprecated. If you meant to do this, you must specify 'dtype=object' when creating the ndarray\n",
      "  transforms = np.array(self._pipeline[from_ind: to_ind])[:, 1].copy()\n",
      "\n",
      "2020-08-27 10:31:49,792 - stpipe.assign_wcs - INFO - Update S_REGION to POLYGON ICRS  359.998913570 -0.000094311 359.998913570 0.000098852 0.001031253 0.000098852 0.001031253 -0.000094311\n",
      "2020-08-27 10:31:49,793 - stpipe.assign_wcs - INFO - assign_wcs updated S_REGION to POLYGON ICRS  359.998913570 -0.000094311 359.998913570 0.000098852 0.001031253 0.000098852 0.001031253 -0.000094311\n",
      "2020-08-27 10:31:49,793 - stpipe.assign_wcs - INFO - COMPLETED assign_wcs\n",
      "2020-08-27 10:31:49,875 - stpipe.assign_wcs - WARNING - /Users/kendrew/anaconda3/envs/jwst0.16.2/lib/python3.8/site-packages/gwcs/wcs.py:131: VisibleDeprecationWarning: Creating an ndarray from ragged nested sequences (which is a list-or-tuple of lists-or-tuples-or ndarrays with different lengths or shapes) is deprecated. If you meant to do this, you must specify 'dtype=object' when creating the ndarray\n",
      "  transforms = np.array(self._pipeline[from_ind: to_ind])[:, 1].copy()\n",
      "\n",
      "2020-08-27 10:31:49,991 - stpipe.assign_wcs - INFO - Saved model in astropy-download-33591-vmvtulh3_assign_wcs.fits\n",
      "2020-08-27 10:31:49,992 - stpipe.assign_wcs - INFO - Step assign_wcs done\n",
      "2020-08-27 10:31:50,275 - CRDS - ERROR -  Error determining best reference for 'pars-extract2dstep'  =   Unknown reference type 'pars-extract2dstep'\n",
      "2020-08-27 10:31:50,278 - stpipe.extract_2d - INFO - Extract2dStep instance created.\n",
      "2020-08-27 10:31:50,544 - stpipe.extract_2d - INFO - Step extract_2d running with args (<CubeModel(10, 416, 72) from astropy-download-33591-vmvtulh3_assign_wcs.fits>,).\n",
      "2020-08-27 10:31:50,546 - stpipe.extract_2d - INFO - Step extract_2d parameters are: {'pre_hooks': [], 'post_hooks': [], 'output_file': None, 'output_dir': None, 'output_ext': '.fits', 'output_use_model': False, 'output_use_index': True, 'save_results': True, 'skip': False, 'suffix': None, 'search_output_file': True, 'input_dir': '', 'slit_name': None, 'apply_wavecorr': True, 'extract_orders': None, 'extract_height': None, 'grism_objects': None, 'mmag_extract': 99.0}\n",
      "2020-08-27 10:31:50,563 - stpipe.extract_2d - INFO - EXP_TYPE is MIR_LRS-SLITLESS\n",
      "2020-08-27 10:31:50,563 - stpipe.extract_2d - INFO - 'EXP_TYPE MIR_LRS-SLITLESS not supported for extract 2D\n",
      "2020-08-27 10:31:50,595 - stpipe.extract_2d - WARNING - /Users/kendrew/anaconda3/envs/jwst0.16.2/lib/python3.8/site-packages/gwcs/wcs.py:131: VisibleDeprecationWarning: Creating an ndarray from ragged nested sequences (which is a list-or-tuple of lists-or-tuples-or ndarrays with different lengths or shapes) is deprecated. If you meant to do this, you must specify 'dtype=object' when creating the ndarray\n",
      "  transforms = np.array(self._pipeline[from_ind: to_ind])[:, 1].copy()\n",
      "\n",
      "2020-08-27 10:31:50,651 - stpipe.extract_2d - WARNING - /Users/kendrew/anaconda3/envs/jwst0.16.2/lib/python3.8/site-packages/gwcs/wcs.py:131: VisibleDeprecationWarning: Creating an ndarray from ragged nested sequences (which is a list-or-tuple of lists-or-tuples-or ndarrays with different lengths or shapes) is deprecated. If you meant to do this, you must specify 'dtype=object' when creating the ndarray\n",
      "  transforms = np.array(self._pipeline[from_ind: to_ind])[:, 1].copy()\n",
      "\n",
      "2020-08-27 10:31:50,778 - stpipe.extract_2d - INFO - Saved model in astropy-download-33591-vmvtulh3_extract_2d.fits\n",
      "2020-08-27 10:31:50,779 - stpipe.extract_2d - INFO - Step extract_2d done\n"
     ]
    }
   ],
   "source": [
    "awcs = AssignWcsStep.call(det1_ints, config_file='../cfg_files/assign_wcs.cfg', save_results=True)\n",
    "e2d = Extract2dStep.call(awcs, config_file='../cfg_files/extract_2d.cfg', save_results='True')\n"
   ]
  },
  {
   "cell_type": "code",
   "execution_count": 36,
   "metadata": {},
   "outputs": [
    {
     "name": "stderr",
     "output_type": "stream",
     "text": [
      "2020-08-27 10:31:55,832 - CRDS - ERROR -  Error determining best reference for 'pars-flatfieldstep'  =   Unknown reference type 'pars-flatfieldstep'\n",
      "2020-08-27 10:31:55,837 - stpipe.flat_field - INFO - FlatFieldStep instance created.\n",
      "2020-08-27 10:31:56,104 - stpipe.flat_field - INFO - Step flat_field running with args (<CubeModel(10, 416, 72) from astropy-download-33591-vmvtulh3_extract_2d.fits>,).\n",
      "2020-08-27 10:31:56,105 - stpipe.flat_field - INFO - Step flat_field parameters are: {'pre_hooks': [], 'post_hooks': [], 'output_file': None, 'output_dir': None, 'output_ext': '.fits', 'output_use_model': False, 'output_use_index': True, 'save_results': True, 'skip': False, 'suffix': None, 'search_output_file': True, 'input_dir': '', 'save_interpolated_flat': False}\n",
      "2020-08-27 10:31:56,168 - stpipe.flat_field - WARNING - Keyword CDP_PARTIAL_DATA does not correspond to an existing DQ mnemonic, so will be ignored\n",
      "2020-08-27 10:31:56,169 - stpipe.flat_field - WARNING - Keyword CDP_LOW_QUAL does not correspond to an existing DQ mnemonic, so will be ignored\n",
      "2020-08-27 10:31:56,170 - stpipe.flat_field - WARNING - Keyword CDP_UNRELIABLE_ERROR does not correspond to an existing DQ mnemonic, so will be ignored\n",
      "2020-08-27 10:31:56,171 - stpipe.flat_field - WARNING - Keyword DIFF_PATTERN does not correspond to an existing DQ mnemonic, so will be ignored\n",
      "2020-08-27 10:31:56,229 - stpipe.flat_field - WARNING - /Users/kendrew/anaconda3/envs/jwst0.16.2/lib/python3.8/site-packages/gwcs/wcs.py:131: VisibleDeprecationWarning: Creating an ndarray from ragged nested sequences (which is a list-or-tuple of lists-or-tuples-or ndarrays with different lengths or shapes) is deprecated. If you meant to do this, you must specify 'dtype=object' when creating the ndarray\n",
      "  transforms = np.array(self._pipeline[from_ind: to_ind])[:, 1].copy()\n",
      "\n",
      "2020-08-27 10:31:56,371 - stpipe.flat_field - WARNING - /Users/kendrew/anaconda3/envs/jwst0.16.2/lib/python3.8/site-packages/gwcs/wcs.py:131: VisibleDeprecationWarning: Creating an ndarray from ragged nested sequences (which is a list-or-tuple of lists-or-tuples-or ndarrays with different lengths or shapes) is deprecated. If you meant to do this, you must specify 'dtype=object' when creating the ndarray\n",
      "  transforms = np.array(self._pipeline[from_ind: to_ind])[:, 1].copy()\n",
      "\n",
      "2020-08-27 10:31:56,499 - stpipe.flat_field - INFO - Saved model in astropy-download-33591-vmvtulh3_flat_field.fits\n",
      "2020-08-27 10:31:56,500 - stpipe.flat_field - INFO - Step flat_field done\n"
     ]
    }
   ],
   "source": [
    "ff = FlatFieldStep.call(e2d, config_file='../cfg_files/flat_field.cfg', save_results='True')"
   ]
  },
  {
   "cell_type": "markdown",
   "metadata": {},
   "source": [
    "# Flat Field Step Check\n",
    "Now that we have the output from the flat fielding step, we will download the reference file from crds and perform an independent check that the step is correctly executed."
   ]
  },
  {
   "cell_type": "code",
   "execution_count": 37,
   "metadata": {},
   "outputs": [
    {
     "ename": "TypeError",
     "evalue": "Invalid shape (10, 416, 72) for image data",
     "output_type": "error",
     "traceback": [
      "\u001b[0;31m---------------------------------------------------------------------------\u001b[0m",
      "\u001b[0;31mTypeError\u001b[0m                                 Traceback (most recent call last)",
      "\u001b[0;32m<ipython-input-37-351afec55627>\u001b[0m in \u001b[0;36m<module>\u001b[0;34m\u001b[0m\n\u001b[1;32m      1\u001b[0m \u001b[0mfig\u001b[0m \u001b[0;34m=\u001b[0m \u001b[0mplt\u001b[0m\u001b[0;34m.\u001b[0m\u001b[0mfigure\u001b[0m\u001b[0;34m(\u001b[0m\u001b[0mfigsize\u001b[0m\u001b[0;34m=\u001b[0m\u001b[0;34m[\u001b[0m\u001b[0;36m12\u001b[0m\u001b[0;34m,\u001b[0m\u001b[0;36m10\u001b[0m\u001b[0;34m]\u001b[0m\u001b[0;34m)\u001b[0m\u001b[0;34m\u001b[0m\u001b[0;34m\u001b[0m\u001b[0m\n\u001b[0;32m----> 2\u001b[0;31m \u001b[0mplt\u001b[0m\u001b[0;34m.\u001b[0m\u001b[0mimshow\u001b[0m\u001b[0;34m(\u001b[0m\u001b[0mff\u001b[0m\u001b[0;34m.\u001b[0m\u001b[0mdata\u001b[0m\u001b[0;34m,\u001b[0m \u001b[0morigin\u001b[0m\u001b[0;34m=\u001b[0m\u001b[0;34m'lower'\u001b[0m\u001b[0;34m)\u001b[0m\u001b[0;34m\u001b[0m\u001b[0;34m\u001b[0m\u001b[0m\n\u001b[0m\u001b[1;32m      3\u001b[0m \u001b[0mplt\u001b[0m\u001b[0;34m.\u001b[0m\u001b[0mtitle\u001b[0m\u001b[0;34m(\u001b[0m\u001b[0;34m'Data - flat fielded'\u001b[0m\u001b[0;34m)\u001b[0m\u001b[0;34m\u001b[0m\u001b[0;34m\u001b[0m\u001b[0m\n\u001b[1;32m      4\u001b[0m \u001b[0mplt\u001b[0m\u001b[0;34m.\u001b[0m\u001b[0mcolorbar\u001b[0m\u001b[0;34m(\u001b[0m\u001b[0;34m)\u001b[0m\u001b[0;34m\u001b[0m\u001b[0;34m\u001b[0m\u001b[0m\n",
      "\u001b[0;32m~/anaconda3/envs/jwst0.16.2/lib/python3.8/site-packages/matplotlib/pyplot.py\u001b[0m in \u001b[0;36mimshow\u001b[0;34m(X, cmap, norm, aspect, interpolation, alpha, vmin, vmax, origin, extent, filternorm, filterrad, resample, url, data, **kwargs)\u001b[0m\n\u001b[1;32m   2705\u001b[0m         \u001b[0mfilternorm\u001b[0m\u001b[0;34m=\u001b[0m\u001b[0;32mTrue\u001b[0m\u001b[0;34m,\u001b[0m \u001b[0mfilterrad\u001b[0m\u001b[0;34m=\u001b[0m\u001b[0;36m4.0\u001b[0m\u001b[0;34m,\u001b[0m \u001b[0mresample\u001b[0m\u001b[0;34m=\u001b[0m\u001b[0;32mNone\u001b[0m\u001b[0;34m,\u001b[0m \u001b[0murl\u001b[0m\u001b[0;34m=\u001b[0m\u001b[0;32mNone\u001b[0m\u001b[0;34m,\u001b[0m\u001b[0;34m\u001b[0m\u001b[0;34m\u001b[0m\u001b[0m\n\u001b[1;32m   2706\u001b[0m         data=None, **kwargs):\n\u001b[0;32m-> 2707\u001b[0;31m     __ret = gca().imshow(\n\u001b[0m\u001b[1;32m   2708\u001b[0m         \u001b[0mX\u001b[0m\u001b[0;34m,\u001b[0m \u001b[0mcmap\u001b[0m\u001b[0;34m=\u001b[0m\u001b[0mcmap\u001b[0m\u001b[0;34m,\u001b[0m \u001b[0mnorm\u001b[0m\u001b[0;34m=\u001b[0m\u001b[0mnorm\u001b[0m\u001b[0;34m,\u001b[0m \u001b[0maspect\u001b[0m\u001b[0;34m=\u001b[0m\u001b[0maspect\u001b[0m\u001b[0;34m,\u001b[0m\u001b[0;34m\u001b[0m\u001b[0;34m\u001b[0m\u001b[0m\n\u001b[1;32m   2709\u001b[0m         \u001b[0minterpolation\u001b[0m\u001b[0;34m=\u001b[0m\u001b[0minterpolation\u001b[0m\u001b[0;34m,\u001b[0m \u001b[0malpha\u001b[0m\u001b[0;34m=\u001b[0m\u001b[0malpha\u001b[0m\u001b[0;34m,\u001b[0m \u001b[0mvmin\u001b[0m\u001b[0;34m=\u001b[0m\u001b[0mvmin\u001b[0m\u001b[0;34m,\u001b[0m\u001b[0;34m\u001b[0m\u001b[0;34m\u001b[0m\u001b[0m\n",
      "\u001b[0;32m~/anaconda3/envs/jwst0.16.2/lib/python3.8/site-packages/matplotlib/__init__.py\u001b[0m in \u001b[0;36minner\u001b[0;34m(ax, data, *args, **kwargs)\u001b[0m\n\u001b[1;32m   1429\u001b[0m     \u001b[0;32mdef\u001b[0m \u001b[0minner\u001b[0m\u001b[0;34m(\u001b[0m\u001b[0max\u001b[0m\u001b[0;34m,\u001b[0m \u001b[0;34m*\u001b[0m\u001b[0margs\u001b[0m\u001b[0;34m,\u001b[0m \u001b[0mdata\u001b[0m\u001b[0;34m=\u001b[0m\u001b[0;32mNone\u001b[0m\u001b[0;34m,\u001b[0m \u001b[0;34m**\u001b[0m\u001b[0mkwargs\u001b[0m\u001b[0;34m)\u001b[0m\u001b[0;34m:\u001b[0m\u001b[0;34m\u001b[0m\u001b[0;34m\u001b[0m\u001b[0m\n\u001b[1;32m   1430\u001b[0m         \u001b[0;32mif\u001b[0m \u001b[0mdata\u001b[0m \u001b[0;32mis\u001b[0m \u001b[0;32mNone\u001b[0m\u001b[0;34m:\u001b[0m\u001b[0;34m\u001b[0m\u001b[0;34m\u001b[0m\u001b[0m\n\u001b[0;32m-> 1431\u001b[0;31m             \u001b[0;32mreturn\u001b[0m \u001b[0mfunc\u001b[0m\u001b[0;34m(\u001b[0m\u001b[0max\u001b[0m\u001b[0;34m,\u001b[0m \u001b[0;34m*\u001b[0m\u001b[0mmap\u001b[0m\u001b[0;34m(\u001b[0m\u001b[0msanitize_sequence\u001b[0m\u001b[0;34m,\u001b[0m \u001b[0margs\u001b[0m\u001b[0;34m)\u001b[0m\u001b[0;34m,\u001b[0m \u001b[0;34m**\u001b[0m\u001b[0mkwargs\u001b[0m\u001b[0;34m)\u001b[0m\u001b[0;34m\u001b[0m\u001b[0;34m\u001b[0m\u001b[0m\n\u001b[0m\u001b[1;32m   1432\u001b[0m \u001b[0;34m\u001b[0m\u001b[0m\n\u001b[1;32m   1433\u001b[0m         \u001b[0mbound\u001b[0m \u001b[0;34m=\u001b[0m \u001b[0mnew_sig\u001b[0m\u001b[0;34m.\u001b[0m\u001b[0mbind\u001b[0m\u001b[0;34m(\u001b[0m\u001b[0max\u001b[0m\u001b[0;34m,\u001b[0m \u001b[0;34m*\u001b[0m\u001b[0margs\u001b[0m\u001b[0;34m,\u001b[0m \u001b[0;34m**\u001b[0m\u001b[0mkwargs\u001b[0m\u001b[0;34m)\u001b[0m\u001b[0;34m\u001b[0m\u001b[0;34m\u001b[0m\u001b[0m\n",
      "\u001b[0;32m~/anaconda3/envs/jwst0.16.2/lib/python3.8/site-packages/matplotlib/axes/_axes.py\u001b[0m in \u001b[0;36mimshow\u001b[0;34m(self, X, cmap, norm, aspect, interpolation, alpha, vmin, vmax, origin, extent, filternorm, filterrad, resample, url, **kwargs)\u001b[0m\n\u001b[1;32m   5517\u001b[0m                               resample=resample, **kwargs)\n\u001b[1;32m   5518\u001b[0m \u001b[0;34m\u001b[0m\u001b[0m\n\u001b[0;32m-> 5519\u001b[0;31m         \u001b[0mim\u001b[0m\u001b[0;34m.\u001b[0m\u001b[0mset_data\u001b[0m\u001b[0;34m(\u001b[0m\u001b[0mX\u001b[0m\u001b[0;34m)\u001b[0m\u001b[0;34m\u001b[0m\u001b[0;34m\u001b[0m\u001b[0m\n\u001b[0m\u001b[1;32m   5520\u001b[0m         \u001b[0mim\u001b[0m\u001b[0;34m.\u001b[0m\u001b[0mset_alpha\u001b[0m\u001b[0;34m(\u001b[0m\u001b[0malpha\u001b[0m\u001b[0;34m)\u001b[0m\u001b[0;34m\u001b[0m\u001b[0;34m\u001b[0m\u001b[0m\n\u001b[1;32m   5521\u001b[0m         \u001b[0;32mif\u001b[0m \u001b[0mim\u001b[0m\u001b[0;34m.\u001b[0m\u001b[0mget_clip_path\u001b[0m\u001b[0;34m(\u001b[0m\u001b[0;34m)\u001b[0m \u001b[0;32mis\u001b[0m \u001b[0;32mNone\u001b[0m\u001b[0;34m:\u001b[0m\u001b[0;34m\u001b[0m\u001b[0;34m\u001b[0m\u001b[0m\n",
      "\u001b[0;32m~/anaconda3/envs/jwst0.16.2/lib/python3.8/site-packages/matplotlib/image.py\u001b[0m in \u001b[0;36mset_data\u001b[0;34m(self, A)\u001b[0m\n\u001b[1;32m    704\u001b[0m         if not (self._A.ndim == 2\n\u001b[1;32m    705\u001b[0m                 or self._A.ndim == 3 and self._A.shape[-1] in [3, 4]):\n\u001b[0;32m--> 706\u001b[0;31m             raise TypeError(\"Invalid shape {} for image data\"\n\u001b[0m\u001b[1;32m    707\u001b[0m                             .format(self._A.shape))\n\u001b[1;32m    708\u001b[0m \u001b[0;34m\u001b[0m\u001b[0m\n",
      "\u001b[0;31mTypeError\u001b[0m: Invalid shape (10, 416, 72) for image data"
     ]
    },
    {
     "data": {
      "image/png": "[encoded data removed]",
      "text/plain": [
       "<Figure size 864x720 with 1 Axes>"
      ]
     },
     "metadata": {
      "needs_background": "light"
     },
     "output_type": "display_data"
    }
   ],
   "source": [
    "fig = plt.figure(figsize=[12,10])\n",
    "plt.imshow(ff.data, origin='lower')\n",
    "plt.title('Data - flat fielded')\n",
    "plt.colorbar()"
   ]
  },
  {
   "cell_type": "code",
   "execution_count": 16,
   "metadata": {},
   "outputs": [
    {
     "name": "stderr",
     "output_type": "stream",
     "text": [
      "2020-08-25 13:02:42,504 - stpipe - WARNING - Keyword CDP_PARTIAL_DATA does not correspond to an existing DQ mnemonic, so will be ignored\n",
      "2020-08-25 13:02:42,505 - stpipe - WARNING - Keyword CDP_LOW_QUAL does not correspond to an existing DQ mnemonic, so will be ignored\n",
      "2020-08-25 13:02:42,506 - stpipe - WARNING - Keyword CDP_UNRELIABLE_ERROR does not correspond to an existing DQ mnemonic, so will be ignored\n",
      "2020-08-25 13:02:42,507 - stpipe - WARNING - Keyword DIFF_PATTERN does not correspond to an existing DQ mnemonic, so will be ignored\n"
     ]
    }
   ],
   "source": [
    "flat_reffile = ff.meta.ref_file.flat.name\n",
    "basename = crds.core.config.pop_crds_uri(flat_reffile)\n",
    "filepath = crds.locate_file(basename, \"jwst\")\n",
    "reffile =  datamodels.open(filepath)"
   ]
  },
  {
   "cell_type": "code",
   "execution_count": 17,
   "metadata": {},
   "outputs": [],
   "source": [
    "manflat = e2d.data / reffile.data"
   ]
  },
  {
   "cell_type": "code",
   "execution_count": 21,
   "metadata": {},
   "outputs": [
    {
     "data": {
      "text/plain": [
       "<matplotlib.colorbar.Colorbar at 0x126f49bb0>"
      ]
     },
     "execution_count": 21,
     "metadata": {},
     "output_type": "execute_result"
    },
    {
     "data": {
      "image/png": "[encoded data removed]",
      "text/plain": [
       "<Figure size 432x288 with 2 Axes>"
      ]
     },
     "metadata": {
      "needs_background": "light"
     },
     "output_type": "display_data"
    }
   ],
   "source": [
    "fcheck = (ff.data - manflat)\n",
    "plt.imshow(fcheck)\n",
    "plt.colorbar()"
   ]
  },
  {
   "cell_type": "code",
   "execution_count": 26,
   "metadata": {},
   "outputs": [
    {
     "name": "stdout",
     "output_type": "stream",
     "text": [
      "Min difference between manual & pipeline files, nod 1 = 0.0 -- Max = 0.0\n"
     ]
    }
   ],
   "source": [
    "nans = np.isnan(fcheck)\n",
    "print('Min difference between manual & pipeline files, nod 1 = {0} -- Max = {1}'.format(np.min(fcheck[~nans]), np.max(fcheck[~nans])))\n",
    "\n",
    "# perform a numeric check. Ignoring NaNs for now as these do not fully match:\n",
    "assert np.allclose(ff.data[~nans], manflat[~nans], equal_nan=True), \"Pipeline calibrated file doesn't match the manual check to within tolerances\""
   ]
  },
  {
   "cell_type": "markdown",
   "metadata": {},
   "source": [
    "If all assert statements in this notebook PASS, then the test is successful.\n",
    "  \n",
    "## END\n",
    "  \n",
    "Authors: K. Murray (kmurray@stsci.edu), S. Kendrew (sarah.kendrew@esa.int) -- MIRI branch"
   ]
  },
  {
   "cell_type": "code",
   "execution_count": null,
   "metadata": {},
   "outputs": [],
   "source": []
  }
 ],
 "metadata": {
  "kernelspec": {
   "display_name": "Python 3",
   "language": "python",
   "name": "python3"
  },
  "language_info": {
   "codemirror_mode": {
    "name": "ipython",
    "version": 3
   },
   "file_extension": ".py",
   "mimetype": "text/x-python",
   "name": "python",
   "nbconvert_exporter": "python",
   "pygments_lexer": "ipython3",
   "version": "3.8.3"
  }
 },
 "nbformat": 4,
 "nbformat_minor": 4
}
