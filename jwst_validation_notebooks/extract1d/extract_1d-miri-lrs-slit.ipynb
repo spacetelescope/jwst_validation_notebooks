{
 "cells": [
  {
   "cell_type": "markdown",
   "metadata": {},
   "source": [
    "<a id=\"title_ID\"></a>\n",
    "# JWST Pipeline Validation Testing Notebook: MIRI LRS Slit\n",
    "\n",
    "## Spec2: Extract1d()\n",
    "<span style=\"color:red\"> **Instruments Affected**</span>: MIRI\n",
    "\n",
    "### Table of Contents\n",
    "<div style=\"text-align: left\"> \n",
    "\n",
    "<br> [Imports](#imports_ID) <br> [Introduction](#intro_ID) <br> [Get Documentaion String for Markdown Blocks](#markdown_from_docs) <br> [Loading Data](#data_ID) <br> [Run JWST Pipeline](#pipeline_ID) <br> [Create Figure or Print Output](#residual_ID) <br> [About This Notebook](#about_ID) <br>\n",
    "\n",
    "</div>"
   ]
  },
  {
   "cell_type": "markdown",
   "metadata": {},
   "source": [
    "<a id=\"imports_ID\"></a>\n",
    "# Imports\n",
    "List the library imports and why they are relevant to this notebook.\n",
    "\n",
    "* os, glob for general  OS operations\n",
    "* numpy\n",
    "* astropy.io for opening fits files\n",
    "* inspect to get the docstring of our objects.\n",
    "* IPython.display for printing markdown output\n",
    "* jwst.datamodels for building model for JWST Pipeline\n",
    "* jwst.module.PipelineStep is the pipeline step being tested\n",
    "* matplotlib.pyplot to generate plot\n",
    "* json for editing json files\n",
    "* crds for retrieving reference files as needed\n",
    "\n",
    "\n",
    "\n",
    "[Top of Page](#title_ID)"
   ]
  },
  {
   "cell_type": "code",
   "execution_count": 146,
   "metadata": {},
   "outputs": [],
   "source": [
    "import numpy as np\n",
    "from numpy.testing import assert_allclose\n",
    "import os\n",
    "from glob import glob\n",
    "import matplotlib.pyplot as plt\n",
    "from scipy.interpolate import interp1d\n",
    "\n",
    "import astropy.io.fits as fits\n",
    "import astropy.units as u\n",
    "import jwst.datamodels as datamodels\n",
    "from jwst.datamodels import RampModel, ImageModel\n",
    "from jwst.pipeline import Detector1Pipeline, Spec2Pipeline\n",
    "from jwst.extract_1d import Extract1dStep\n",
    "from gwcs.wcstools import grid_from_bounding_box\n",
    "\n",
    "\n",
    "import json\n",
    "import crds\n",
    "\n",
    "from ci_watson.artifactory_helpers import get_bigdata\n",
    "\n",
    "%matplotlib inline"
   ]
  },
  {
   "cell_type": "markdown",
   "metadata": {},
   "source": [
    "<a id=\"intro_ID\"></a>\n",
    "# Introduction\n",
    "\n",
    "\n",
    "In this notebook we will test the **extract1d()** step of Spec2Pipeline() for **LRS slit** observations.\n",
    "\n",
    "Step description: https://jwst-pipeline.readthedocs.io/en/stable/jwst/extract_1d/index.html\n",
    "\n",
    "Pipeline code: https://github.com/spacetelescope/jwst/tree/master/jwst/extract_1d\n",
    "\n",
    "\n",
    "\n",
    "[Top of Page](#title_ID)"
   ]
  },
  {
   "cell_type": "markdown",
   "metadata": {},
   "source": [
    "<a id=\"data_ID\"></a>\n",
    "# Loading Data\n",
    "\n",
    "We are using here a simulated LRS slit observation, generated with MIRISim v2.3.0 (as of Dec 2020). It is a simple along-slit-nodded observation of a point source (the input was modelled on the flux calibrator BD+60). LRS slit observations cover the full array. \n",
    "\n",
    "\n",
    "[Top of Page](#title_ID)"
   ]
  },
  {
   "cell_type": "code",
   "execution_count": 147,
   "metadata": {},
   "outputs": [],
   "source": [
    "Slitfile1 = get_bigdata('jwst_validation_notebooks',\n",
    "                                     'validation_data',\n",
    "                                     'calwebb_spec2',\n",
    "                                    'spec2_miri_test',\n",
    "                                    'miri_lrs_slit_pt_nod1_v2.3.fits')\n",
    " \n",
    "Slitfile2 = get_bigdata('jwst_validation_notebooks',\n",
    "                                     'validation_data',\n",
    "                                     'calwebb_spec2',\n",
    "                                    'spec2_miri_test',\n",
    "                                    'miri_lrs_slit_pt_nod2_v2.3.fits')\n",
    "\n",
    "#file='det_image_seq1_MIRIMAGE_P750Lexp1.fits'\n",
    "#input_file1 = get_bigdata('jwst_validation_notebooks',\n",
    "#                         'validation_data',\n",
    "#                         'extract_1d',\n",
    "#                         'extract_1d_miri_test', file)\n",
    "\n",
    "#files = [input_file1, Slitfile2]\n",
    "files = [Slitfile1, Slitfile2]\n",
    "\n"
   ]
  },
  {
   "cell_type": "markdown",
   "metadata": {},
   "source": [
    "Collect configuration files locally if they aren't yet there."
   ]
  },
  {
   "cell_type": "code",
   "execution_count": 148,
   "metadata": {},
   "outputs": [],
   "source": [
    "if not os.path.exists('../cfg_files/'):\n",
    "    os.mkdir('../cfg_files/')\n",
    "    cfgs = collect_pipeline_cfgs.collect_pipeline_cfgs(dst='../cfg_files/')"
   ]
  },
  {
   "cell_type": "markdown",
   "metadata": {},
   "source": [
    "<a id=\"pipeline_ID\"></a>\n",
    "# Run JWST Pipeline\n",
    "\n",
    "First we run the data through the Detector1() pipeline to convert the raw counts into slopes. This should use the calwebb_detector1.cfg file. The output of this stage will then be run through the Spec2Pipeline. Extract_1d is the final step of this pipeline stage, so we will just run through the whole pipeline.\n",
    "\n",
    "[Top of Page](#title_ID)"
   ]
  },
  {
   "cell_type": "markdown",
   "metadata": {},
   "source": [
    "### Detector1Pipeline"
   ]
  },
  {
   "cell_type": "code",
   "execution_count": 149,
   "metadata": {},
   "outputs": [
    {
     "name": "stderr",
     "output_type": "stream",
     "text": [
      "2020-12-14 22:28:30,433 - CRDS - ERROR -  Error determining best reference for 'pars-rscd_step'  =   Unknown reference type 'pars-rscd_step'\n",
      "2020-12-14 22:28:30,478 - stpipe.Detector1Pipeline - INFO - Detector1Pipeline instance created.\n",
      "2020-12-14 22:28:30,479 - stpipe.Detector1Pipeline.group_scale - INFO - GroupScaleStep instance created.\n",
      "2020-12-14 22:28:30,481 - stpipe.Detector1Pipeline.dq_init - INFO - DQInitStep instance created.\n",
      "2020-12-14 22:28:30,482 - stpipe.Detector1Pipeline.saturation - INFO - SaturationStep instance created.\n",
      "2020-12-14 22:28:30,483 - stpipe.Detector1Pipeline.ipc - INFO - IPCStep instance created.\n",
      "2020-12-14 22:28:30,484 - stpipe.Detector1Pipeline.superbias - INFO - SuperBiasStep instance created.\n",
      "2020-12-14 22:28:30,486 - stpipe.Detector1Pipeline.refpix - INFO - RefPixStep instance created.\n",
      "2020-12-14 22:28:30,487 - stpipe.Detector1Pipeline.rscd - INFO - RSCD_Step instance created.\n",
      "2020-12-14 22:28:30,488 - stpipe.Detector1Pipeline.firstframe - INFO - FirstFrameStep instance created.\n",
      "2020-12-14 22:28:30,490 - stpipe.Detector1Pipeline.lastframe - INFO - LastFrameStep instance created.\n",
      "2020-12-14 22:28:30,491 - stpipe.Detector1Pipeline.linearity - INFO - LinearityStep instance created.\n",
      "2020-12-14 22:28:30,492 - stpipe.Detector1Pipeline.dark_current - INFO - DarkCurrentStep instance created.\n",
      "2020-12-14 22:28:30,494 - stpipe.Detector1Pipeline.persistence - INFO - PersistenceStep instance created.\n",
      "2020-12-14 22:28:30,496 - stpipe.Detector1Pipeline.jump - INFO - JumpStep instance created.\n",
      "2020-12-14 22:28:30,497 - stpipe.Detector1Pipeline.ramp_fit - INFO - RampFitStep instance created.\n",
      "2020-12-14 22:28:30,499 - stpipe.Detector1Pipeline.gain_scale - INFO - GainScaleStep instance created.\n",
      "2020-12-14 22:28:30,825 - stpipe - WARNING - /Users/skendrew/anaconda3/envs/jwst0.16.2/lib/python3.8/site-packages/jwst/stpipe/step.py:344: ResourceWarning: unclosed file <_io.FileIO name='/Users/skendrew/jwst_pipeline/jwst_validation_notebooks/jwst_validation_notebooks/extract1d/miri_lrs_slit_pt_nod1_v2.3.fits' mode='rb' closefd=True>\n",
      "  gc.collect()\n",
      "\n",
      "2020-12-14 22:28:30,856 - stpipe.Detector1Pipeline - INFO - Step Detector1Pipeline running with args ('/Users/skendrew/jwst_pipeline/jwst_validation_notebooks/jwst_validation_notebooks/extract1d/miri_lrs_slit_pt_nod1_v2.3.fits',).\n",
      "2020-12-14 22:28:30,870 - stpipe.Detector1Pipeline - INFO - Step Detector1Pipeline parameters are: {'pre_hooks': [], 'post_hooks': [], 'output_file': None, 'output_dir': None, 'output_ext': '.fits', 'output_use_model': False, 'output_use_index': True, 'save_results': True, 'skip': False, 'suffix': None, 'search_output_file': True, 'input_dir': '', 'save_calibrated_ramp': False, 'steps': {'group_scale': {'pre_hooks': [], 'post_hooks': [], 'output_file': None, 'output_dir': None, 'output_ext': '.fits', 'output_use_model': False, 'output_use_index': True, 'save_results': False, 'skip': False, 'suffix': None, 'search_output_file': True, 'input_dir': ''}, 'dq_init': {'pre_hooks': [], 'post_hooks': [], 'output_file': None, 'output_dir': None, 'output_ext': '.fits', 'output_use_model': False, 'output_use_index': True, 'save_results': False, 'skip': False, 'suffix': None, 'search_output_file': True, 'input_dir': ''}, 'saturation': {'pre_hooks': [], 'post_hooks': [], 'output_file': None, 'output_dir': None, 'output_ext': '.fits', 'output_use_model': False, 'output_use_index': True, 'save_results': False, 'skip': False, 'suffix': None, 'search_output_file': True, 'input_dir': ''}, 'ipc': {'pre_hooks': [], 'post_hooks': [], 'output_file': None, 'output_dir': None, 'output_ext': '.fits', 'output_use_model': False, 'output_use_index': True, 'save_results': False, 'skip': True, 'suffix': None, 'search_output_file': True, 'input_dir': ''}, 'superbias': {'pre_hooks': [], 'post_hooks': [], 'output_file': None, 'output_dir': None, 'output_ext': '.fits', 'output_use_model': False, 'output_use_index': True, 'save_results': False, 'skip': False, 'suffix': None, 'search_output_file': True, 'input_dir': ''}, 'refpix': {'pre_hooks': [], 'post_hooks': [], 'output_file': None, 'output_dir': None, 'output_ext': '.fits', 'output_use_model': False, 'output_use_index': True, 'save_results': False, 'skip': False, 'suffix': None, 'search_output_file': True, 'input_dir': '', 'odd_even_columns': True, 'use_side_ref_pixels': True, 'side_smoothing_length': 11, 'side_gain': 1.0, 'odd_even_rows': True}, 'rscd': {'pre_hooks': [], 'post_hooks': [], 'output_file': None, 'output_dir': None, 'output_ext': '.fits', 'output_use_model': False, 'output_use_index': True, 'save_results': False, 'skip': False, 'suffix': None, 'search_output_file': True, 'input_dir': '', 'type': 'baseline'}, 'firstframe': {'pre_hooks': [], 'post_hooks': [], 'output_file': None, 'output_dir': None, 'output_ext': '.fits', 'output_use_model': False, 'output_use_index': True, 'save_results': False, 'skip': False, 'suffix': None, 'search_output_file': True, 'input_dir': ''}, 'lastframe': {'pre_hooks': [], 'post_hooks': [], 'output_file': None, 'output_dir': None, 'output_ext': '.fits', 'output_use_model': False, 'output_use_index': True, 'save_results': False, 'skip': False, 'suffix': None, 'search_output_file': True, 'input_dir': ''}, 'linearity': {'pre_hooks': [], 'post_hooks': [], 'output_file': None, 'output_dir': None, 'output_ext': '.fits', 'output_use_model': False, 'output_use_index': True, 'save_results': False, 'skip': False, 'suffix': None, 'search_output_file': True, 'input_dir': ''}, 'dark_current': {'pre_hooks': [], 'post_hooks': [], 'output_file': None, 'output_dir': None, 'output_ext': '.fits', 'output_use_model': False, 'output_use_index': True, 'save_results': False, 'skip': False, 'suffix': None, 'search_output_file': True, 'input_dir': '', 'dark_output': None}, 'persistence': {'pre_hooks': [], 'post_hooks': [], 'output_file': None, 'output_dir': None, 'output_ext': '.fits', 'output_use_model': False, 'output_use_index': True, 'save_results': False, 'skip': False, 'suffix': None, 'search_output_file': True, 'input_dir': '', 'input_trapsfilled': '', 'flag_pers_cutoff': 40.0, 'save_persistence': False, 'save_trapsfilled': True}, 'jump': {'pre_hooks': [], 'post_hooks': [], 'output_file': None, 'output_dir': None, 'output_ext': '.fits', 'output_use_model': False, 'output_use_index': True, 'save_results': False, 'skip': False, 'suffix': None, 'search_output_file': True, 'input_dir': '', 'rejection_threshold': 4.0, 'maximum_cores': None, 'flag_4_neighbors': True, 'max_jump_to_flag_neighbors': 200.0, 'min_jump_to_flag_neighbors': 10.0}, 'ramp_fit': {'pre_hooks': [], 'post_hooks': [], 'output_file': None, 'output_dir': None, 'output_ext': '.fits', 'output_use_model': False, 'output_use_index': True, 'save_results': False, 'skip': False, 'suffix': None, 'search_output_file': True, 'input_dir': '', 'int_name': '', 'save_opt': False, 'opt_name': ''}, 'gain_scale': {'pre_hooks': [], 'post_hooks': [], 'output_file': None, 'output_dir': None, 'output_ext': '.fits', 'output_use_model': False, 'output_use_index': True, 'save_results': False, 'skip': False, 'suffix': None, 'search_output_file': True, 'input_dir': ''}}}\n",
      "2020-12-14 22:28:31,001 - stpipe.Detector1Pipeline - INFO - Prefetching reference files for dataset: 'miri_lrs_slit_pt_nod1_v2.3.fits' reftypes = ['dark', 'gain', 'linearity', 'mask', 'persat', 'readnoise', 'refpix', 'rscd', 'saturation', 'superbias', 'trapdensity', 'trappars']\n",
      "2020-12-14 22:28:31,005 - stpipe.Detector1Pipeline - INFO - Prefetch for DARK reference file is '/Users/skendrew//crds_cache/references/jwst/miri/jwst_miri_dark_0058.fits'.\n",
      "2020-12-14 22:28:31,006 - stpipe.Detector1Pipeline - INFO - Prefetch for GAIN reference file is '/Users/skendrew//crds_cache/references/jwst/miri/jwst_miri_gain_0008.fits'.\n",
      "2020-12-14 22:28:31,007 - stpipe.Detector1Pipeline - INFO - Prefetch for LINEARITY reference file is '/Users/skendrew//crds_cache/references/jwst/miri/jwst_miri_linearity_0024.fits'.\n",
      "2020-12-14 22:28:31,007 - stpipe.Detector1Pipeline - INFO - Prefetch for MASK reference file is '/Users/skendrew//crds_cache/references/jwst/miri/jwst_miri_mask_0023.fits'.\n",
      "2020-12-14 22:28:31,008 - stpipe.Detector1Pipeline - INFO - Prefetch for PERSAT reference file is 'N/A'.\n"
     ]
    },
    {
     "name": "stderr",
     "output_type": "stream",
     "text": [
      "2020-12-14 22:28:31,008 - stpipe.Detector1Pipeline - INFO - Prefetch for READNOISE reference file is '/Users/skendrew//crds_cache/references/jwst/miri/jwst_miri_readnoise_0057.fits'.\n",
      "2020-12-14 22:28:31,009 - stpipe.Detector1Pipeline - INFO - Prefetch for REFPIX reference file is 'N/A'.\n",
      "2020-12-14 22:28:31,009 - stpipe.Detector1Pipeline - INFO - Prefetch for RSCD reference file is '/Users/skendrew//crds_cache/references/jwst/miri/jwst_miri_rscd_0010.fits'.\n",
      "2020-12-14 22:28:31,010 - stpipe.Detector1Pipeline - INFO - Prefetch for SATURATION reference file is '/Users/skendrew//crds_cache/references/jwst/miri/jwst_miri_saturation_0022.fits'.\n",
      "2020-12-14 22:28:31,010 - stpipe.Detector1Pipeline - INFO - Prefetch for SUPERBIAS reference file is 'N/A'.\n",
      "2020-12-14 22:28:31,011 - stpipe.Detector1Pipeline - INFO - Prefetch for TRAPDENSITY reference file is 'N/A'.\n",
      "2020-12-14 22:28:31,011 - stpipe.Detector1Pipeline - INFO - Prefetch for TRAPPARS reference file is 'N/A'.\n",
      "2020-12-14 22:28:31,012 - stpipe.Detector1Pipeline - INFO - Starting calwebb_detector1 ...\n",
      "2020-12-14 22:28:31,510 - stpipe.Detector1Pipeline.group_scale - INFO - Step group_scale running with args (<RampModel(2, 10, 1024, 1032) from miri_lrs_slit_pt_nod1_v2.3.fits>,).\n",
      "2020-12-14 22:28:31,513 - stpipe.Detector1Pipeline.group_scale - INFO - Step group_scale parameters are: {'pre_hooks': [], 'post_hooks': [], 'output_file': None, 'output_dir': None, 'output_ext': '.fits', 'output_use_model': False, 'output_use_index': True, 'save_results': False, 'skip': False, 'suffix': None, 'search_output_file': True, 'input_dir': '/Users/skendrew/jwst_pipeline/jwst_validation_notebooks/jwst_validation_notebooks/extract1d'}\n",
      "2020-12-14 22:28:31,524 - stpipe.Detector1Pipeline.group_scale - INFO - NFRAMES=1 is a power of 2; correction not needed\n",
      "2020-12-14 22:28:31,524 - stpipe.Detector1Pipeline.group_scale - INFO - Step will be skipped\n",
      "2020-12-14 22:28:31,525 - stpipe.Detector1Pipeline.group_scale - INFO - Step group_scale done\n",
      "2020-12-14 22:28:32,159 - stpipe.Detector1Pipeline.dq_init - INFO - Step dq_init running with args (<RampModel(2, 10, 1024, 1032) from miri_lrs_slit_pt_nod1_v2.3.fits>,).\n",
      "2020-12-14 22:28:32,162 - stpipe.Detector1Pipeline.dq_init - INFO - Step dq_init parameters are: {'pre_hooks': [], 'post_hooks': [], 'output_file': None, 'output_dir': None, 'output_ext': '.fits', 'output_use_model': False, 'output_use_index': True, 'save_results': False, 'skip': False, 'suffix': None, 'search_output_file': True, 'input_dir': '/Users/skendrew/jwst_pipeline/jwst_validation_notebooks/jwst_validation_notebooks/extract1d'}\n",
      "2020-12-14 22:28:32,181 - stpipe.Detector1Pipeline.dq_init - INFO - Using MASK reference file /Users/skendrew//crds_cache/references/jwst/miri/jwst_miri_mask_0023.fits\n",
      "2020-12-14 22:28:32,317 - stpipe.Detector1Pipeline.dq_init - INFO - Step dq_init done\n",
      "2020-12-14 22:28:32,953 - stpipe.Detector1Pipeline.saturation - INFO - Step saturation running with args (<RampModel(2, 10, 1024, 1032) from miri_lrs_slit_pt_nod1_v2.3.fits>,).\n",
      "2020-12-14 22:28:32,956 - stpipe.Detector1Pipeline.saturation - INFO - Step saturation parameters are: {'pre_hooks': [], 'post_hooks': [], 'output_file': None, 'output_dir': None, 'output_ext': '.fits', 'output_use_model': False, 'output_use_index': True, 'save_results': False, 'skip': False, 'suffix': None, 'search_output_file': True, 'input_dir': '/Users/skendrew/jwst_pipeline/jwst_validation_notebooks/jwst_validation_notebooks/extract1d'}\n",
      "2020-12-14 22:28:32,973 - stpipe.Detector1Pipeline.saturation - INFO - Using SATURATION reference file /Users/skendrew//crds_cache/references/jwst/miri/jwst_miri_saturation_0022.fits\n",
      "2020-12-14 22:28:33,261 - stpipe.Detector1Pipeline.saturation - INFO - Step saturation done\n",
      "2020-12-14 22:28:33,902 - stpipe.Detector1Pipeline.ipc - INFO - Step ipc running with args (<RampModel(2, 10, 1024, 1032) from miri_lrs_slit_pt_nod1_v2.3.fits>,).\n",
      "2020-12-14 22:28:33,904 - stpipe.Detector1Pipeline.ipc - INFO - Step ipc parameters are: {'pre_hooks': [], 'post_hooks': [], 'output_file': None, 'output_dir': None, 'output_ext': '.fits', 'output_use_model': False, 'output_use_index': True, 'save_results': False, 'skip': True, 'suffix': None, 'search_output_file': True, 'input_dir': '/Users/skendrew/jwst_pipeline/jwst_validation_notebooks/jwst_validation_notebooks/extract1d'}\n",
      "2020-12-14 22:28:33,904 - stpipe.Detector1Pipeline.ipc - INFO - Step skipped.\n",
      "2020-12-14 22:28:33,905 - stpipe.Detector1Pipeline.ipc - INFO - Step ipc done\n",
      "2020-12-14 22:28:34,562 - stpipe.Detector1Pipeline.firstframe - INFO - Step firstframe running with args (<RampModel(2, 10, 1024, 1032) from miri_lrs_slit_pt_nod1_v2.3.fits>,).\n",
      "2020-12-14 22:28:34,565 - stpipe.Detector1Pipeline.firstframe - INFO - Step firstframe parameters are: {'pre_hooks': [], 'post_hooks': [], 'output_file': None, 'output_dir': None, 'output_ext': '.fits', 'output_use_model': False, 'output_use_index': True, 'save_results': False, 'skip': False, 'suffix': None, 'search_output_file': True, 'input_dir': '/Users/skendrew/jwst_pipeline/jwst_validation_notebooks/jwst_validation_notebooks/extract1d'}\n",
      "2020-12-14 22:28:34,647 - stpipe.Detector1Pipeline.firstframe - INFO - Step firstframe done\n",
      "2020-12-14 22:28:35,291 - stpipe.Detector1Pipeline.lastframe - INFO - Step lastframe running with args (<RampModel(2, 10, 1024, 1032) from miri_lrs_slit_pt_nod1_v2.3.fits>,).\n",
      "2020-12-14 22:28:35,293 - stpipe.Detector1Pipeline.lastframe - INFO - Step lastframe parameters are: {'pre_hooks': [], 'post_hooks': [], 'output_file': None, 'output_dir': None, 'output_ext': '.fits', 'output_use_model': False, 'output_use_index': True, 'save_results': False, 'skip': False, 'suffix': None, 'search_output_file': True, 'input_dir': '/Users/skendrew/jwst_pipeline/jwst_validation_notebooks/jwst_validation_notebooks/extract1d'}\n",
      "2020-12-14 22:28:35,362 - stpipe.Detector1Pipeline.lastframe - INFO - Step lastframe done\n",
      "2020-12-14 22:28:36,018 - stpipe.Detector1Pipeline.linearity - INFO - Step linearity running with args (<RampModel(2, 10, 1024, 1032) from miri_lrs_slit_pt_nod1_v2.3.fits>,).\n",
      "2020-12-14 22:28:36,020 - stpipe.Detector1Pipeline.linearity - INFO - Step linearity parameters are: {'pre_hooks': [], 'post_hooks': [], 'output_file': None, 'output_dir': None, 'output_ext': '.fits', 'output_use_model': False, 'output_use_index': True, 'save_results': False, 'skip': False, 'suffix': None, 'search_output_file': True, 'input_dir': '/Users/skendrew/jwst_pipeline/jwst_validation_notebooks/jwst_validation_notebooks/extract1d'}\n",
      "2020-12-14 22:28:36,033 - stpipe.Detector1Pipeline.linearity - INFO - Using Linearity reference file /Users/skendrew//crds_cache/references/jwst/miri/jwst_miri_linearity_0024.fits\n",
      "2020-12-14 22:28:36,407 - stpipe.Detector1Pipeline.linearity - INFO - Step linearity done\n",
      "2020-12-14 22:28:37,060 - stpipe.Detector1Pipeline.rscd - INFO - Step rscd running with args (<RampModel(2, 10, 1024, 1032) from miri_lrs_slit_pt_nod1_v2.3.fits>,).\n",
      "2020-12-14 22:28:37,061 - stpipe.Detector1Pipeline.rscd - INFO - Step rscd parameters are: {'pre_hooks': [], 'post_hooks': [], 'output_file': None, 'output_dir': None, 'output_ext': '.fits', 'output_use_model': False, 'output_use_index': True, 'save_results': False, 'skip': False, 'suffix': None, 'search_output_file': True, 'input_dir': '/Users/skendrew/jwst_pipeline/jwst_validation_notebooks/jwst_validation_notebooks/extract1d', 'type': 'baseline'}\n",
      "2020-12-14 22:28:37,076 - stpipe.Detector1Pipeline.rscd - INFO - Using RSCD reference file /Users/skendrew//crds_cache/references/jwst/miri/jwst_miri_rscd_0010.fits\n",
      "2020-12-14 22:28:37,179 - stpipe.Detector1Pipeline.rscd - INFO - Step rscd done\n",
      "2020-12-14 22:28:37,831 - stpipe.Detector1Pipeline.dark_current - INFO - Step dark_current running with args (<RampModel(2, 10, 1024, 1032) from miri_lrs_slit_pt_nod1_v2.3.fits>,).\n",
      "2020-12-14 22:28:37,833 - stpipe.Detector1Pipeline.dark_current - INFO - Step dark_current parameters are: {'pre_hooks': [], 'post_hooks': [], 'output_file': None, 'output_dir': None, 'output_ext': '.fits', 'output_use_model': False, 'output_use_index': True, 'save_results': False, 'skip': False, 'suffix': None, 'search_output_file': True, 'input_dir': '/Users/skendrew/jwst_pipeline/jwst_validation_notebooks/jwst_validation_notebooks/extract1d', 'dark_output': None}\n"
     ]
    },
    {
     "name": "stderr",
     "output_type": "stream",
     "text": [
      "2020-12-14 22:28:37,847 - stpipe.Detector1Pipeline.dark_current - INFO - Using DARK reference file /Users/skendrew//crds_cache/references/jwst/miri/jwst_miri_dark_0058.fits\n",
      "2020-12-14 22:28:41,386 - stpipe.Detector1Pipeline.dark_current - INFO - Science data nints=2, ngroups=10, nframes=1, groupgap=0\n",
      "2020-12-14 22:28:41,387 - stpipe.Detector1Pipeline.dark_current - INFO - Dark data nints=2, ngroups=200, nframes=1, groupgap=0\n",
      "2020-12-14 22:28:43,236 - stpipe.Detector1Pipeline.dark_current - INFO - Step dark_current done\n",
      "2020-12-14 22:28:44,051 - stpipe.Detector1Pipeline.refpix - INFO - Step refpix running with args (<RampModel(2, 10, 1024, 1032) from miri_lrs_slit_pt_nod1_v2.3.fits>,).\n",
      "2020-12-14 22:28:44,052 - stpipe.Detector1Pipeline.refpix - INFO - Step refpix parameters are: {'pre_hooks': [], 'post_hooks': [], 'output_file': None, 'output_dir': None, 'output_ext': '.fits', 'output_use_model': False, 'output_use_index': True, 'save_results': False, 'skip': False, 'suffix': None, 'search_output_file': True, 'input_dir': '/Users/skendrew/jwst_pipeline/jwst_validation_notebooks/jwst_validation_notebooks/extract1d', 'odd_even_columns': True, 'use_side_ref_pixels': True, 'side_smoothing_length': 11, 'side_gain': 1.0, 'odd_even_rows': True}\n",
      "2020-12-14 22:28:44,061 - stpipe.Detector1Pipeline.refpix - INFO - use_side_ref_pixels = True\n",
      "2020-12-14 22:28:44,062 - stpipe.Detector1Pipeline.refpix - INFO - odd_even_columns = True\n",
      "2020-12-14 22:28:44,063 - stpipe.Detector1Pipeline.refpix - INFO - side_smoothing_length = 11\n",
      "2020-12-14 22:28:44,063 - stpipe.Detector1Pipeline.refpix - INFO - side_gain = 1.000000\n",
      "2020-12-14 22:28:44,064 - stpipe.Detector1Pipeline.refpix - INFO - odd_even_rows = True\n",
      "2020-12-14 22:28:44,130 - stpipe.Detector1Pipeline.refpix - INFO - Subtracting initial read from each integration\n",
      "2020-12-14 22:28:44,339 - stpipe.Detector1Pipeline.refpix - INFO - Adding initial read back in\n",
      "2020-12-14 22:28:44,380 - stpipe.Detector1Pipeline.refpix - INFO - Step refpix done\n",
      "2020-12-14 22:28:45,009 - stpipe.Detector1Pipeline.jump - INFO - Step jump running with args (<RampModel(2, 10, 1024, 1032) from miri_lrs_slit_pt_nod1_v2.3.fits>,).\n",
      "2020-12-14 22:28:45,011 - stpipe.Detector1Pipeline.jump - INFO - Step jump parameters are: {'pre_hooks': [], 'post_hooks': [], 'output_file': None, 'output_dir': None, 'output_ext': '.fits', 'output_use_model': False, 'output_use_index': True, 'save_results': False, 'skip': False, 'suffix': None, 'search_output_file': True, 'input_dir': '/Users/skendrew/jwst_pipeline/jwst_validation_notebooks/jwst_validation_notebooks/extract1d', 'rejection_threshold': 4.0, 'maximum_cores': None, 'flag_4_neighbors': True, 'max_jump_to_flag_neighbors': 200.0, 'min_jump_to_flag_neighbors': 10.0}\n",
      "2020-12-14 22:28:45,022 - stpipe.Detector1Pipeline.jump - INFO - CR rejection threshold = 4 sigma\n",
      "2020-12-14 22:28:45,026 - stpipe.Detector1Pipeline.jump - INFO - Using GAIN reference file: /Users/skendrew//crds_cache/references/jwst/miri/jwst_miri_gain_0008.fits\n",
      "2020-12-14 22:28:45,045 - stpipe.Detector1Pipeline.jump - INFO - Using READNOISE reference file: /Users/skendrew//crds_cache/references/jwst/miri/jwst_miri_readnoise_0057.fits\n",
      "2020-12-14 22:28:45,155 - stpipe.Detector1Pipeline.jump - INFO - Executing two-point difference method\n",
      "2020-12-14 22:28:45,579 - stpipe.Detector1Pipeline.jump - INFO -  working on integration 1\n",
      "2020-12-14 22:28:46,114 - stpipe.Detector1Pipeline.jump - INFO - From highest outlier Two point found 9638 pixels with at least one CR\n",
      "2020-12-14 22:28:46,373 - stpipe.Detector1Pipeline.jump - INFO -  working on integration 2\n",
      "2020-12-14 22:28:46,822 - stpipe.Detector1Pipeline.jump - INFO - From highest outlier Two point found 12046 pixels with at least one CR\n",
      "2020-12-14 22:28:47,433 - stpipe.Detector1Pipeline.jump - INFO - Total elapsed time = 2.27727 sec\n",
      "2020-12-14 22:28:47,435 - stpipe.Detector1Pipeline.jump - INFO - The execution time in seconds: 2.413067\n",
      "2020-12-14 22:28:47,437 - stpipe.Detector1Pipeline.jump - INFO - Step jump done\n",
      "2020-12-14 22:28:48,112 - stpipe.Detector1Pipeline.ramp_fit - INFO - Step ramp_fit running with args (<RampModel(2, 10, 1024, 1032) from miri_lrs_slit_pt_nod1_v2.3.fits>,).\n",
      "2020-12-14 22:28:48,113 - stpipe.Detector1Pipeline.ramp_fit - INFO - Step ramp_fit parameters are: {'pre_hooks': [], 'post_hooks': [], 'output_file': None, 'output_dir': None, 'output_ext': '.fits', 'output_use_model': False, 'output_use_index': True, 'save_results': False, 'skip': False, 'suffix': None, 'search_output_file': True, 'input_dir': '/Users/skendrew/jwst_pipeline/jwst_validation_notebooks/jwst_validation_notebooks/extract1d', 'int_name': '', 'save_opt': False, 'opt_name': ''}\n",
      "2020-12-14 22:28:48,130 - stpipe.Detector1Pipeline.ramp_fit - INFO - Using READNOISE reference file: /Users/skendrew//crds_cache/references/jwst/miri/jwst_miri_readnoise_0057.fits\n",
      "2020-12-14 22:28:48,144 - stpipe.Detector1Pipeline.ramp_fit - INFO - Using GAIN reference file: /Users/skendrew//crds_cache/references/jwst/miri/jwst_miri_gain_0008.fits\n",
      "2020-12-14 22:28:48,156 - stpipe.Detector1Pipeline.ramp_fit - INFO - Using algorithm = ols\n",
      "2020-12-14 22:28:48,157 - stpipe.Detector1Pipeline.ramp_fit - INFO - Using weighting = optimal\n",
      "2020-12-14 22:28:48,167 - stpipe.Detector1Pipeline.ramp_fit - INFO - Number of leading groups that are flagged as DO_NOT_USE: 1\n",
      "2020-12-14 22:28:48,170 - stpipe.Detector1Pipeline.ramp_fit - INFO - MIRI dataset has all pixels in the final group flagged as DO_NOT_USE.\n",
      "2020-12-14 22:28:48,171 - stpipe.Detector1Pipeline.ramp_fit - INFO - Effective integration time per group: 2.77504\n",
      "2020-12-14 22:29:07,142 - stpipe.Detector1Pipeline.ramp_fit - INFO - Number of groups per integration: 10\n",
      "2020-12-14 22:29:07,142 - stpipe.Detector1Pipeline.ramp_fit - INFO - Number of integrations: 2\n",
      "2020-12-14 22:29:07,192 - stpipe.Detector1Pipeline.ramp_fit - INFO - Step ramp_fit done\n",
      "2020-12-14 22:29:07,824 - stpipe.Detector1Pipeline.gain_scale - INFO - Step gain_scale running with args (<ImageModel(1024, 1032) from miri_lrs_slit_pt_nod1_v2.3.fits>,).\n",
      "2020-12-14 22:29:07,826 - stpipe.Detector1Pipeline.gain_scale - INFO - Step gain_scale parameters are: {'pre_hooks': [], 'post_hooks': [], 'output_file': None, 'output_dir': None, 'output_ext': '.fits', 'output_use_model': False, 'output_use_index': True, 'save_results': False, 'skip': False, 'suffix': 'gain_scale', 'search_output_file': True, 'input_dir': '/Users/skendrew/jwst_pipeline/jwst_validation_notebooks/jwst_validation_notebooks/extract1d'}\n",
      "2020-12-14 22:29:07,851 - stpipe.Detector1Pipeline.gain_scale - INFO - GAINFACT not found in gain reference file\n",
      "2020-12-14 22:29:07,852 - stpipe.Detector1Pipeline.gain_scale - INFO - Step will be skipped\n",
      "2020-12-14 22:29:07,853 - stpipe.Detector1Pipeline.gain_scale - INFO - Step gain_scale done\n",
      "2020-12-14 22:29:08,470 - stpipe.Detector1Pipeline.gain_scale - INFO - Step gain_scale running with args (<CubeModel(2, 1024, 1032) from miri_lrs_slit_pt_nod1_v2.3.fits>,).\n",
      "2020-12-14 22:29:08,473 - stpipe.Detector1Pipeline.gain_scale - INFO - Step gain_scale parameters are: {'pre_hooks': [], 'post_hooks': [], 'output_file': None, 'output_dir': None, 'output_ext': '.fits', 'output_use_model': False, 'output_use_index': True, 'save_results': False, 'skip': False, 'suffix': 'gain_scaleints', 'search_output_file': True, 'input_dir': '/Users/skendrew/jwst_pipeline/jwst_validation_notebooks/jwst_validation_notebooks/extract1d'}\n",
      "2020-12-14 22:29:08,503 - stpipe.Detector1Pipeline.gain_scale - INFO - GAINFACT not found in gain reference file\n",
      "2020-12-14 22:29:08,504 - stpipe.Detector1Pipeline.gain_scale - INFO - Step will be skipped\n",
      "2020-12-14 22:29:08,506 - stpipe.Detector1Pipeline.gain_scale - INFO - Step gain_scale done\n",
      "2020-12-14 22:29:09,053 - stpipe.Detector1Pipeline - INFO - Saved model in miri_lrs_slit_pt_nod1_v2.3_rateints.fits\n",
      "2020-12-14 22:29:09,054 - stpipe.Detector1Pipeline - INFO - ... ending calwebb_detector1\n",
      "2020-12-14 22:29:09,176 - stpipe.Detector1Pipeline - INFO - Saved model in miri_lrs_slit_pt_nod1_v2.3_rate.fits\n",
      "2020-12-14 22:29:09,177 - stpipe.Detector1Pipeline - INFO - Step Detector1Pipeline done\n",
      "2020-12-14 22:29:09,726 - CRDS - ERROR -  Error determining best reference for 'pars-rscd_step'  =   Unknown reference type 'pars-rscd_step'\n"
     ]
    },
    {
     "name": "stderr",
     "output_type": "stream",
     "text": [
      "2020-12-14 22:29:09,772 - stpipe.Detector1Pipeline - INFO - Detector1Pipeline instance created.\n",
      "2020-12-14 22:29:09,773 - stpipe.Detector1Pipeline.group_scale - INFO - GroupScaleStep instance created.\n",
      "2020-12-14 22:29:09,775 - stpipe.Detector1Pipeline.dq_init - INFO - DQInitStep instance created.\n",
      "2020-12-14 22:29:09,777 - stpipe.Detector1Pipeline.saturation - INFO - SaturationStep instance created.\n",
      "2020-12-14 22:29:09,779 - stpipe.Detector1Pipeline.ipc - INFO - IPCStep instance created.\n",
      "2020-12-14 22:29:09,781 - stpipe.Detector1Pipeline.superbias - INFO - SuperBiasStep instance created.\n",
      "2020-12-14 22:29:09,782 - stpipe.Detector1Pipeline.refpix - INFO - RefPixStep instance created.\n",
      "2020-12-14 22:29:09,784 - stpipe.Detector1Pipeline.rscd - INFO - RSCD_Step instance created.\n",
      "2020-12-14 22:29:09,785 - stpipe.Detector1Pipeline.firstframe - INFO - FirstFrameStep instance created.\n",
      "2020-12-14 22:29:09,787 - stpipe.Detector1Pipeline.lastframe - INFO - LastFrameStep instance created.\n",
      "2020-12-14 22:29:09,788 - stpipe.Detector1Pipeline.linearity - INFO - LinearityStep instance created.\n",
      "2020-12-14 22:29:09,790 - stpipe.Detector1Pipeline.dark_current - INFO - DarkCurrentStep instance created.\n",
      "2020-12-14 22:29:09,791 - stpipe.Detector1Pipeline.persistence - INFO - PersistenceStep instance created.\n",
      "2020-12-14 22:29:09,793 - stpipe.Detector1Pipeline.jump - INFO - JumpStep instance created.\n",
      "2020-12-14 22:29:09,795 - stpipe.Detector1Pipeline.ramp_fit - INFO - RampFitStep instance created.\n",
      "2020-12-14 22:29:09,796 - stpipe.Detector1Pipeline.gain_scale - INFO - GainScaleStep instance created.\n",
      "2020-12-14 22:29:10,101 - stpipe - WARNING - /Users/skendrew/anaconda3/envs/jwst0.16.2/lib/python3.8/site-packages/jwst/stpipe/step.py:344: ResourceWarning: unclosed file <_io.FileIO name='/Users/skendrew/jwst_pipeline/jwst_validation_notebooks/jwst_validation_notebooks/extract1d/miri_lrs_slit_pt_nod2_v2.3.fits' mode='rb' closefd=True>\n",
      "  gc.collect()\n",
      "\n",
      "2020-12-14 22:29:10,132 - stpipe.Detector1Pipeline - INFO - Step Detector1Pipeline running with args ('/Users/skendrew/jwst_pipeline/jwst_validation_notebooks/jwst_validation_notebooks/extract1d/miri_lrs_slit_pt_nod2_v2.3.fits',).\n",
      "2020-12-14 22:29:10,145 - stpipe.Detector1Pipeline - INFO - Step Detector1Pipeline parameters are: {'pre_hooks': [], 'post_hooks': [], 'output_file': None, 'output_dir': None, 'output_ext': '.fits', 'output_use_model': False, 'output_use_index': True, 'save_results': True, 'skip': False, 'suffix': None, 'search_output_file': True, 'input_dir': '', 'save_calibrated_ramp': False, 'steps': {'group_scale': {'pre_hooks': [], 'post_hooks': [], 'output_file': None, 'output_dir': None, 'output_ext': '.fits', 'output_use_model': False, 'output_use_index': True, 'save_results': False, 'skip': False, 'suffix': None, 'search_output_file': True, 'input_dir': ''}, 'dq_init': {'pre_hooks': [], 'post_hooks': [], 'output_file': None, 'output_dir': None, 'output_ext': '.fits', 'output_use_model': False, 'output_use_index': True, 'save_results': False, 'skip': False, 'suffix': None, 'search_output_file': True, 'input_dir': ''}, 'saturation': {'pre_hooks': [], 'post_hooks': [], 'output_file': None, 'output_dir': None, 'output_ext': '.fits', 'output_use_model': False, 'output_use_index': True, 'save_results': False, 'skip': False, 'suffix': None, 'search_output_file': True, 'input_dir': ''}, 'ipc': {'pre_hooks': [], 'post_hooks': [], 'output_file': None, 'output_dir': None, 'output_ext': '.fits', 'output_use_model': False, 'output_use_index': True, 'save_results': False, 'skip': True, 'suffix': None, 'search_output_file': True, 'input_dir': ''}, 'superbias': {'pre_hooks': [], 'post_hooks': [], 'output_file': None, 'output_dir': None, 'output_ext': '.fits', 'output_use_model': False, 'output_use_index': True, 'save_results': False, 'skip': False, 'suffix': None, 'search_output_file': True, 'input_dir': ''}, 'refpix': {'pre_hooks': [], 'post_hooks': [], 'output_file': None, 'output_dir': None, 'output_ext': '.fits', 'output_use_model': False, 'output_use_index': True, 'save_results': False, 'skip': False, 'suffix': None, 'search_output_file': True, 'input_dir': '', 'odd_even_columns': True, 'use_side_ref_pixels': True, 'side_smoothing_length': 11, 'side_gain': 1.0, 'odd_even_rows': True}, 'rscd': {'pre_hooks': [], 'post_hooks': [], 'output_file': None, 'output_dir': None, 'output_ext': '.fits', 'output_use_model': False, 'output_use_index': True, 'save_results': False, 'skip': False, 'suffix': None, 'search_output_file': True, 'input_dir': '', 'type': 'baseline'}, 'firstframe': {'pre_hooks': [], 'post_hooks': [], 'output_file': None, 'output_dir': None, 'output_ext': '.fits', 'output_use_model': False, 'output_use_index': True, 'save_results': False, 'skip': False, 'suffix': None, 'search_output_file': True, 'input_dir': ''}, 'lastframe': {'pre_hooks': [], 'post_hooks': [], 'output_file': None, 'output_dir': None, 'output_ext': '.fits', 'output_use_model': False, 'output_use_index': True, 'save_results': False, 'skip': False, 'suffix': None, 'search_output_file': True, 'input_dir': ''}, 'linearity': {'pre_hooks': [], 'post_hooks': [], 'output_file': None, 'output_dir': None, 'output_ext': '.fits', 'output_use_model': False, 'output_use_index': True, 'save_results': False, 'skip': False, 'suffix': None, 'search_output_file': True, 'input_dir': ''}, 'dark_current': {'pre_hooks': [], 'post_hooks': [], 'output_file': None, 'output_dir': None, 'output_ext': '.fits', 'output_use_model': False, 'output_use_index': True, 'save_results': False, 'skip': False, 'suffix': None, 'search_output_file': True, 'input_dir': '', 'dark_output': None}, 'persistence': {'pre_hooks': [], 'post_hooks': [], 'output_file': None, 'output_dir': None, 'output_ext': '.fits', 'output_use_model': False, 'output_use_index': True, 'save_results': False, 'skip': False, 'suffix': None, 'search_output_file': True, 'input_dir': '', 'input_trapsfilled': '', 'flag_pers_cutoff': 40.0, 'save_persistence': False, 'save_trapsfilled': True}, 'jump': {'pre_hooks': [], 'post_hooks': [], 'output_file': None, 'output_dir': None, 'output_ext': '.fits', 'output_use_model': False, 'output_use_index': True, 'save_results': False, 'skip': False, 'suffix': None, 'search_output_file': True, 'input_dir': '', 'rejection_threshold': 4.0, 'maximum_cores': None, 'flag_4_neighbors': True, 'max_jump_to_flag_neighbors': 200.0, 'min_jump_to_flag_neighbors': 10.0}, 'ramp_fit': {'pre_hooks': [], 'post_hooks': [], 'output_file': None, 'output_dir': None, 'output_ext': '.fits', 'output_use_model': False, 'output_use_index': True, 'save_results': False, 'skip': False, 'suffix': None, 'search_output_file': True, 'input_dir': '', 'int_name': '', 'save_opt': False, 'opt_name': ''}, 'gain_scale': {'pre_hooks': [], 'post_hooks': [], 'output_file': None, 'output_dir': None, 'output_ext': '.fits', 'output_use_model': False, 'output_use_index': True, 'save_results': False, 'skip': False, 'suffix': None, 'search_output_file': True, 'input_dir': ''}}}\n",
      "2020-12-14 22:29:10,264 - stpipe.Detector1Pipeline - INFO - Prefetching reference files for dataset: 'miri_lrs_slit_pt_nod2_v2.3.fits' reftypes = ['dark', 'gain', 'linearity', 'mask', 'persat', 'readnoise', 'refpix', 'rscd', 'saturation', 'superbias', 'trapdensity', 'trappars']\n",
      "2020-12-14 22:29:10,268 - stpipe.Detector1Pipeline - INFO - Prefetch for DARK reference file is '/Users/skendrew//crds_cache/references/jwst/miri/jwst_miri_dark_0058.fits'.\n",
      "2020-12-14 22:29:10,269 - stpipe.Detector1Pipeline - INFO - Prefetch for GAIN reference file is '/Users/skendrew//crds_cache/references/jwst/miri/jwst_miri_gain_0008.fits'.\n",
      "2020-12-14 22:29:10,269 - stpipe.Detector1Pipeline - INFO - Prefetch for LINEARITY reference file is '/Users/skendrew//crds_cache/references/jwst/miri/jwst_miri_linearity_0024.fits'.\n",
      "2020-12-14 22:29:10,270 - stpipe.Detector1Pipeline - INFO - Prefetch for MASK reference file is '/Users/skendrew//crds_cache/references/jwst/miri/jwst_miri_mask_0023.fits'.\n",
      "2020-12-14 22:29:10,270 - stpipe.Detector1Pipeline - INFO - Prefetch for PERSAT reference file is 'N/A'.\n",
      "2020-12-14 22:29:10,271 - stpipe.Detector1Pipeline - INFO - Prefetch for READNOISE reference file is '/Users/skendrew//crds_cache/references/jwst/miri/jwst_miri_readnoise_0057.fits'.\n"
     ]
    },
    {
     "name": "stderr",
     "output_type": "stream",
     "text": [
      "2020-12-14 22:29:10,271 - stpipe.Detector1Pipeline - INFO - Prefetch for REFPIX reference file is 'N/A'.\n",
      "2020-12-14 22:29:10,272 - stpipe.Detector1Pipeline - INFO - Prefetch for RSCD reference file is '/Users/skendrew//crds_cache/references/jwst/miri/jwst_miri_rscd_0010.fits'.\n",
      "2020-12-14 22:29:10,272 - stpipe.Detector1Pipeline - INFO - Prefetch for SATURATION reference file is '/Users/skendrew//crds_cache/references/jwst/miri/jwst_miri_saturation_0022.fits'.\n",
      "2020-12-14 22:29:10,273 - stpipe.Detector1Pipeline - INFO - Prefetch for SUPERBIAS reference file is 'N/A'.\n",
      "2020-12-14 22:29:10,273 - stpipe.Detector1Pipeline - INFO - Prefetch for TRAPDENSITY reference file is 'N/A'.\n",
      "2020-12-14 22:29:10,274 - stpipe.Detector1Pipeline - INFO - Prefetch for TRAPPARS reference file is 'N/A'.\n",
      "2020-12-14 22:29:10,274 - stpipe.Detector1Pipeline - INFO - Starting calwebb_detector1 ...\n",
      "2020-12-14 22:29:10,753 - stpipe.Detector1Pipeline.group_scale - INFO - Step group_scale running with args (<RampModel(2, 10, 1024, 1032) from miri_lrs_slit_pt_nod2_v2.3.fits>,).\n",
      "2020-12-14 22:29:10,755 - stpipe.Detector1Pipeline.group_scale - INFO - Step group_scale parameters are: {'pre_hooks': [], 'post_hooks': [], 'output_file': None, 'output_dir': None, 'output_ext': '.fits', 'output_use_model': False, 'output_use_index': True, 'save_results': False, 'skip': False, 'suffix': None, 'search_output_file': True, 'input_dir': '/Users/skendrew/jwst_pipeline/jwst_validation_notebooks/jwst_validation_notebooks/extract1d'}\n",
      "2020-12-14 22:29:10,766 - stpipe.Detector1Pipeline.group_scale - INFO - NFRAMES=1 is a power of 2; correction not needed\n",
      "2020-12-14 22:29:10,767 - stpipe.Detector1Pipeline.group_scale - INFO - Step will be skipped\n",
      "2020-12-14 22:29:10,768 - stpipe.Detector1Pipeline.group_scale - INFO - Step group_scale done\n",
      "2020-12-14 22:29:11,394 - stpipe.Detector1Pipeline.dq_init - INFO - Step dq_init running with args (<RampModel(2, 10, 1024, 1032) from miri_lrs_slit_pt_nod2_v2.3.fits>,).\n",
      "2020-12-14 22:29:11,396 - stpipe.Detector1Pipeline.dq_init - INFO - Step dq_init parameters are: {'pre_hooks': [], 'post_hooks': [], 'output_file': None, 'output_dir': None, 'output_ext': '.fits', 'output_use_model': False, 'output_use_index': True, 'save_results': False, 'skip': False, 'suffix': None, 'search_output_file': True, 'input_dir': '/Users/skendrew/jwst_pipeline/jwst_validation_notebooks/jwst_validation_notebooks/extract1d'}\n",
      "2020-12-14 22:29:11,412 - stpipe.Detector1Pipeline.dq_init - INFO - Using MASK reference file /Users/skendrew//crds_cache/references/jwst/miri/jwst_miri_mask_0023.fits\n",
      "2020-12-14 22:29:11,520 - stpipe.Detector1Pipeline.dq_init - INFO - Step dq_init done\n",
      "2020-12-14 22:29:12,168 - stpipe.Detector1Pipeline.saturation - INFO - Step saturation running with args (<RampModel(2, 10, 1024, 1032) from miri_lrs_slit_pt_nod2_v2.3.fits>,).\n",
      "2020-12-14 22:29:12,171 - stpipe.Detector1Pipeline.saturation - INFO - Step saturation parameters are: {'pre_hooks': [], 'post_hooks': [], 'output_file': None, 'output_dir': None, 'output_ext': '.fits', 'output_use_model': False, 'output_use_index': True, 'save_results': False, 'skip': False, 'suffix': None, 'search_output_file': True, 'input_dir': '/Users/skendrew/jwst_pipeline/jwst_validation_notebooks/jwst_validation_notebooks/extract1d'}\n",
      "2020-12-14 22:29:12,190 - stpipe.Detector1Pipeline.saturation - INFO - Using SATURATION reference file /Users/skendrew//crds_cache/references/jwst/miri/jwst_miri_saturation_0022.fits\n",
      "2020-12-14 22:29:12,444 - stpipe.Detector1Pipeline.saturation - INFO - Step saturation done\n",
      "2020-12-14 22:29:13,099 - stpipe.Detector1Pipeline.ipc - INFO - Step ipc running with args (<RampModel(2, 10, 1024, 1032) from miri_lrs_slit_pt_nod2_v2.3.fits>,).\n",
      "2020-12-14 22:29:13,101 - stpipe.Detector1Pipeline.ipc - INFO - Step ipc parameters are: {'pre_hooks': [], 'post_hooks': [], 'output_file': None, 'output_dir': None, 'output_ext': '.fits', 'output_use_model': False, 'output_use_index': True, 'save_results': False, 'skip': True, 'suffix': None, 'search_output_file': True, 'input_dir': '/Users/skendrew/jwst_pipeline/jwst_validation_notebooks/jwst_validation_notebooks/extract1d'}\n",
      "2020-12-14 22:29:13,102 - stpipe.Detector1Pipeline.ipc - INFO - Step skipped.\n",
      "2020-12-14 22:29:13,103 - stpipe.Detector1Pipeline.ipc - INFO - Step ipc done\n",
      "2020-12-14 22:29:13,735 - stpipe.Detector1Pipeline.firstframe - INFO - Step firstframe running with args (<RampModel(2, 10, 1024, 1032) from miri_lrs_slit_pt_nod2_v2.3.fits>,).\n",
      "2020-12-14 22:29:13,737 - stpipe.Detector1Pipeline.firstframe - INFO - Step firstframe parameters are: {'pre_hooks': [], 'post_hooks': [], 'output_file': None, 'output_dir': None, 'output_ext': '.fits', 'output_use_model': False, 'output_use_index': True, 'save_results': False, 'skip': False, 'suffix': None, 'search_output_file': True, 'input_dir': '/Users/skendrew/jwst_pipeline/jwst_validation_notebooks/jwst_validation_notebooks/extract1d'}\n",
      "2020-12-14 22:29:13,815 - stpipe.Detector1Pipeline.firstframe - INFO - Step firstframe done\n",
      "2020-12-14 22:29:14,461 - stpipe.Detector1Pipeline.lastframe - INFO - Step lastframe running with args (<RampModel(2, 10, 1024, 1032) from miri_lrs_slit_pt_nod2_v2.3.fits>,).\n",
      "2020-12-14 22:29:14,462 - stpipe.Detector1Pipeline.lastframe - INFO - Step lastframe parameters are: {'pre_hooks': [], 'post_hooks': [], 'output_file': None, 'output_dir': None, 'output_ext': '.fits', 'output_use_model': False, 'output_use_index': True, 'save_results': False, 'skip': False, 'suffix': None, 'search_output_file': True, 'input_dir': '/Users/skendrew/jwst_pipeline/jwst_validation_notebooks/jwst_validation_notebooks/extract1d'}\n",
      "2020-12-14 22:29:14,532 - stpipe.Detector1Pipeline.lastframe - INFO - Step lastframe done\n",
      "2020-12-14 22:29:15,178 - stpipe.Detector1Pipeline.linearity - INFO - Step linearity running with args (<RampModel(2, 10, 1024, 1032) from miri_lrs_slit_pt_nod2_v2.3.fits>,).\n",
      "2020-12-14 22:29:15,180 - stpipe.Detector1Pipeline.linearity - INFO - Step linearity parameters are: {'pre_hooks': [], 'post_hooks': [], 'output_file': None, 'output_dir': None, 'output_ext': '.fits', 'output_use_model': False, 'output_use_index': True, 'save_results': False, 'skip': False, 'suffix': None, 'search_output_file': True, 'input_dir': '/Users/skendrew/jwst_pipeline/jwst_validation_notebooks/jwst_validation_notebooks/extract1d'}\n",
      "2020-12-14 22:29:15,195 - stpipe.Detector1Pipeline.linearity - INFO - Using Linearity reference file /Users/skendrew//crds_cache/references/jwst/miri/jwst_miri_linearity_0024.fits\n",
      "2020-12-14 22:29:15,510 - stpipe.Detector1Pipeline.linearity - INFO - Step linearity done\n",
      "2020-12-14 22:29:16,129 - stpipe.Detector1Pipeline.rscd - INFO - Step rscd running with args (<RampModel(2, 10, 1024, 1032) from miri_lrs_slit_pt_nod2_v2.3.fits>,).\n",
      "2020-12-14 22:29:16,131 - stpipe.Detector1Pipeline.rscd - INFO - Step rscd parameters are: {'pre_hooks': [], 'post_hooks': [], 'output_file': None, 'output_dir': None, 'output_ext': '.fits', 'output_use_model': False, 'output_use_index': True, 'save_results': False, 'skip': False, 'suffix': None, 'search_output_file': True, 'input_dir': '/Users/skendrew/jwst_pipeline/jwst_validation_notebooks/jwst_validation_notebooks/extract1d', 'type': 'baseline'}\n",
      "2020-12-14 22:29:16,146 - stpipe.Detector1Pipeline.rscd - INFO - Using RSCD reference file /Users/skendrew//crds_cache/references/jwst/miri/jwst_miri_rscd_0010.fits\n",
      "2020-12-14 22:29:16,245 - stpipe.Detector1Pipeline.rscd - INFO - Step rscd done\n",
      "2020-12-14 22:29:16,880 - stpipe.Detector1Pipeline.dark_current - INFO - Step dark_current running with args (<RampModel(2, 10, 1024, 1032) from miri_lrs_slit_pt_nod2_v2.3.fits>,).\n",
      "2020-12-14 22:29:16,882 - stpipe.Detector1Pipeline.dark_current - INFO - Step dark_current parameters are: {'pre_hooks': [], 'post_hooks': [], 'output_file': None, 'output_dir': None, 'output_ext': '.fits', 'output_use_model': False, 'output_use_index': True, 'save_results': False, 'skip': False, 'suffix': None, 'search_output_file': True, 'input_dir': '/Users/skendrew/jwst_pipeline/jwst_validation_notebooks/jwst_validation_notebooks/extract1d', 'dark_output': None}\n",
      "2020-12-14 22:29:16,897 - stpipe.Detector1Pipeline.dark_current - INFO - Using DARK reference file /Users/skendrew//crds_cache/references/jwst/miri/jwst_miri_dark_0058.fits\n"
     ]
    },
    {
     "name": "stderr",
     "output_type": "stream",
     "text": [
      "2020-12-14 22:29:18,974 - stpipe.Detector1Pipeline.dark_current - INFO - Science data nints=2, ngroups=10, nframes=1, groupgap=0\n",
      "2020-12-14 22:29:18,975 - stpipe.Detector1Pipeline.dark_current - INFO - Dark data nints=2, ngroups=200, nframes=1, groupgap=0\n",
      "2020-12-14 22:29:20,085 - stpipe.Detector1Pipeline.dark_current - INFO - Step dark_current done\n",
      "2020-12-14 22:29:20,906 - stpipe.Detector1Pipeline.refpix - INFO - Step refpix running with args (<RampModel(2, 10, 1024, 1032) from miri_lrs_slit_pt_nod2_v2.3.fits>,).\n",
      "2020-12-14 22:29:20,908 - stpipe.Detector1Pipeline.refpix - INFO - Step refpix parameters are: {'pre_hooks': [], 'post_hooks': [], 'output_file': None, 'output_dir': None, 'output_ext': '.fits', 'output_use_model': False, 'output_use_index': True, 'save_results': False, 'skip': False, 'suffix': None, 'search_output_file': True, 'input_dir': '/Users/skendrew/jwst_pipeline/jwst_validation_notebooks/jwst_validation_notebooks/extract1d', 'odd_even_columns': True, 'use_side_ref_pixels': True, 'side_smoothing_length': 11, 'side_gain': 1.0, 'odd_even_rows': True}\n",
      "2020-12-14 22:29:20,919 - stpipe.Detector1Pipeline.refpix - INFO - use_side_ref_pixels = True\n",
      "2020-12-14 22:29:20,920 - stpipe.Detector1Pipeline.refpix - INFO - odd_even_columns = True\n",
      "2020-12-14 22:29:20,921 - stpipe.Detector1Pipeline.refpix - INFO - side_smoothing_length = 11\n",
      "2020-12-14 22:29:20,921 - stpipe.Detector1Pipeline.refpix - INFO - side_gain = 1.000000\n",
      "2020-12-14 22:29:20,922 - stpipe.Detector1Pipeline.refpix - INFO - odd_even_rows = True\n",
      "2020-12-14 22:29:20,986 - stpipe.Detector1Pipeline.refpix - INFO - Subtracting initial read from each integration\n",
      "2020-12-14 22:29:21,205 - stpipe.Detector1Pipeline.refpix - INFO - Adding initial read back in\n",
      "2020-12-14 22:29:21,242 - stpipe.Detector1Pipeline.refpix - INFO - Step refpix done\n",
      "2020-12-14 22:29:21,868 - stpipe.Detector1Pipeline.jump - INFO - Step jump running with args (<RampModel(2, 10, 1024, 1032) from miri_lrs_slit_pt_nod2_v2.3.fits>,).\n",
      "2020-12-14 22:29:21,870 - stpipe.Detector1Pipeline.jump - INFO - Step jump parameters are: {'pre_hooks': [], 'post_hooks': [], 'output_file': None, 'output_dir': None, 'output_ext': '.fits', 'output_use_model': False, 'output_use_index': True, 'save_results': False, 'skip': False, 'suffix': None, 'search_output_file': True, 'input_dir': '/Users/skendrew/jwst_pipeline/jwst_validation_notebooks/jwst_validation_notebooks/extract1d', 'rejection_threshold': 4.0, 'maximum_cores': None, 'flag_4_neighbors': True, 'max_jump_to_flag_neighbors': 200.0, 'min_jump_to_flag_neighbors': 10.0}\n",
      "2020-12-14 22:29:21,881 - stpipe.Detector1Pipeline.jump - INFO - CR rejection threshold = 4 sigma\n",
      "2020-12-14 22:29:21,885 - stpipe.Detector1Pipeline.jump - INFO - Using GAIN reference file: /Users/skendrew//crds_cache/references/jwst/miri/jwst_miri_gain_0008.fits\n",
      "2020-12-14 22:29:21,902 - stpipe.Detector1Pipeline.jump - INFO - Using READNOISE reference file: /Users/skendrew//crds_cache/references/jwst/miri/jwst_miri_readnoise_0057.fits\n",
      "2020-12-14 22:29:22,010 - stpipe.Detector1Pipeline.jump - INFO - Executing two-point difference method\n",
      "2020-12-14 22:29:22,415 - stpipe.Detector1Pipeline.jump - INFO -  working on integration 1\n",
      "2020-12-14 22:29:22,931 - stpipe.Detector1Pipeline.jump - INFO - From highest outlier Two point found 9813 pixels with at least one CR\n",
      "2020-12-14 22:29:23,174 - stpipe.Detector1Pipeline.jump - INFO -  working on integration 2\n",
      "2020-12-14 22:29:23,606 - stpipe.Detector1Pipeline.jump - INFO - From highest outlier Two point found 12297 pixels with at least one CR\n",
      "2020-12-14 22:29:24,185 - stpipe.Detector1Pipeline.jump - INFO - Total elapsed time = 2.17468 sec\n",
      "2020-12-14 22:29:24,187 - stpipe.Detector1Pipeline.jump - INFO - The execution time in seconds: 2.305675\n",
      "2020-12-14 22:29:24,188 - stpipe.Detector1Pipeline.jump - INFO - Step jump done\n",
      "2020-12-14 22:29:24,818 - stpipe.Detector1Pipeline.ramp_fit - INFO - Step ramp_fit running with args (<RampModel(2, 10, 1024, 1032) from miri_lrs_slit_pt_nod2_v2.3.fits>,).\n",
      "2020-12-14 22:29:24,819 - stpipe.Detector1Pipeline.ramp_fit - INFO - Step ramp_fit parameters are: {'pre_hooks': [], 'post_hooks': [], 'output_file': None, 'output_dir': None, 'output_ext': '.fits', 'output_use_model': False, 'output_use_index': True, 'save_results': False, 'skip': False, 'suffix': None, 'search_output_file': True, 'input_dir': '/Users/skendrew/jwst_pipeline/jwst_validation_notebooks/jwst_validation_notebooks/extract1d', 'int_name': '', 'save_opt': False, 'opt_name': ''}\n",
      "2020-12-14 22:29:24,838 - stpipe.Detector1Pipeline.ramp_fit - INFO - Using READNOISE reference file: /Users/skendrew//crds_cache/references/jwst/miri/jwst_miri_readnoise_0057.fits\n",
      "2020-12-14 22:29:24,852 - stpipe.Detector1Pipeline.ramp_fit - INFO - Using GAIN reference file: /Users/skendrew//crds_cache/references/jwst/miri/jwst_miri_gain_0008.fits\n",
      "2020-12-14 22:29:24,866 - stpipe.Detector1Pipeline.ramp_fit - INFO - Using algorithm = ols\n",
      "2020-12-14 22:29:24,866 - stpipe.Detector1Pipeline.ramp_fit - INFO - Using weighting = optimal\n",
      "2020-12-14 22:29:24,878 - stpipe.Detector1Pipeline.ramp_fit - INFO - Number of leading groups that are flagged as DO_NOT_USE: 1\n",
      "2020-12-14 22:29:24,881 - stpipe.Detector1Pipeline.ramp_fit - INFO - MIRI dataset has all pixels in the final group flagged as DO_NOT_USE.\n",
      "2020-12-14 22:29:24,882 - stpipe.Detector1Pipeline.ramp_fit - INFO - Effective integration time per group: 2.77504\n",
      "2020-12-14 22:29:42,607 - stpipe.Detector1Pipeline.ramp_fit - INFO - Number of groups per integration: 10\n",
      "2020-12-14 22:29:42,608 - stpipe.Detector1Pipeline.ramp_fit - INFO - Number of integrations: 2\n",
      "2020-12-14 22:29:42,657 - stpipe.Detector1Pipeline.ramp_fit - INFO - Step ramp_fit done\n",
      "2020-12-14 22:29:43,280 - stpipe.Detector1Pipeline.gain_scale - INFO - Step gain_scale running with args (<ImageModel(1024, 1032) from miri_lrs_slit_pt_nod2_v2.3.fits>,).\n",
      "2020-12-14 22:29:43,282 - stpipe.Detector1Pipeline.gain_scale - INFO - Step gain_scale parameters are: {'pre_hooks': [], 'post_hooks': [], 'output_file': None, 'output_dir': None, 'output_ext': '.fits', 'output_use_model': False, 'output_use_index': True, 'save_results': False, 'skip': False, 'suffix': 'gain_scale', 'search_output_file': True, 'input_dir': '/Users/skendrew/jwst_pipeline/jwst_validation_notebooks/jwst_validation_notebooks/extract1d'}\n",
      "2020-12-14 22:29:43,305 - stpipe.Detector1Pipeline.gain_scale - INFO - GAINFACT not found in gain reference file\n",
      "2020-12-14 22:29:43,305 - stpipe.Detector1Pipeline.gain_scale - INFO - Step will be skipped\n",
      "2020-12-14 22:29:43,307 - stpipe.Detector1Pipeline.gain_scale - INFO - Step gain_scale done\n",
      "2020-12-14 22:29:43,927 - stpipe.Detector1Pipeline.gain_scale - INFO - Step gain_scale running with args (<CubeModel(2, 1024, 1032) from miri_lrs_slit_pt_nod2_v2.3.fits>,).\n",
      "2020-12-14 22:29:43,930 - stpipe.Detector1Pipeline.gain_scale - INFO - Step gain_scale parameters are: {'pre_hooks': [], 'post_hooks': [], 'output_file': None, 'output_dir': None, 'output_ext': '.fits', 'output_use_model': False, 'output_use_index': True, 'save_results': False, 'skip': False, 'suffix': 'gain_scaleints', 'search_output_file': True, 'input_dir': '/Users/skendrew/jwst_pipeline/jwst_validation_notebooks/jwst_validation_notebooks/extract1d'}\n",
      "2020-12-14 22:29:43,959 - stpipe.Detector1Pipeline.gain_scale - INFO - GAINFACT not found in gain reference file\n",
      "2020-12-14 22:29:43,960 - stpipe.Detector1Pipeline.gain_scale - INFO - Step will be skipped\n",
      "2020-12-14 22:29:43,962 - stpipe.Detector1Pipeline.gain_scale - INFO - Step gain_scale done\n",
      "2020-12-14 22:29:44,502 - stpipe.Detector1Pipeline - INFO - Saved model in miri_lrs_slit_pt_nod2_v2.3_rateints.fits\n",
      "2020-12-14 22:29:44,502 - stpipe.Detector1Pipeline - INFO - ... ending calwebb_detector1\n",
      "2020-12-14 22:29:44,615 - stpipe.Detector1Pipeline - INFO - Saved model in miri_lrs_slit_pt_nod2_v2.3_rate.fits\n",
      "2020-12-14 22:29:44,616 - stpipe.Detector1Pipeline - INFO - Step Detector1Pipeline done\n"
     ]
    },
    {
     "name": "stdout",
     "output_type": "stream",
     "text": [
      "[<ImageModel(1024, 1032) from miri_lrs_slit_pt_nod1_v2.3_rate.fits>, <ImageModel(1024, 1032) from miri_lrs_slit_pt_nod2_v2.3_rate.fits>]\n"
     ]
    }
   ],
   "source": [
    "det1 = []\n",
    "\n",
    "# Run pipeline on both files\n",
    "for ff in files:\n",
    "    d1 = Detector1Pipeline.call(ff, save_results=True, config_file='../cfg_files/calwebb_detector1.cfg')\n",
    "    det1.append(d1)\n",
    "\n",
    "print(det1)\n",
    "\n"
   ]
  },
  {
   "cell_type": "markdown",
   "metadata": {},
   "source": [
    "### Spec2Pipeline\n",
    "\n",
    "Next we go ahead to the Spec2 pipeline. At this stage we perform 2 tests:\n",
    "\n",
    "1. run the Spec2 pipeline on one single exposure, extracting over the full bounding box width. we compare this with the manual extraction over the same aperture. this tests whether the pipeline is performing the correct arithmetic in the extraction procedure.\n",
    "2. run the Spec2 pipeline on the nodded set of exposures. this mimics more closely how the pipeline will be run in automated way during routine operations. this will test whether the pipeline is finding the source positions, and is able to extract both nodded observations in the same way.\n",
    "\n",
    "The initial steps will be the same for both tests and will be run on both initially.\n"
   ]
  },
  {
   "cell_type": "code",
   "execution_count": 150,
   "metadata": {},
   "outputs": [
    {
     "name": "stderr",
     "output_type": "stream",
     "text": [
      "2020-12-14 22:31:16,220 - stpipe - WARNING - /Users/skendrew/anaconda3/envs/jwst0.16.2/lib/python3.8/site-packages/ipykernel/ipkernel.py:287: DeprecationWarning: `should_run_async` will not call `transform_cell` automatically in the future. Please pass the result to `transformed_cell` argument and any exception that happen during thetransform in `preprocessing_exc_tuple` in IPython 7.17 and above.\n",
      "  and should_run_async(code)\n",
      "\n",
      "2020-12-14 22:31:16,397 - stpipe.Spec2Pipeline - INFO - Spec2Pipeline instance created.\n",
      "2020-12-14 22:31:16,399 - stpipe.Spec2Pipeline.bkg_subtract - INFO - BackgroundStep instance created.\n",
      "2020-12-14 22:31:16,400 - stpipe.Spec2Pipeline.assign_wcs - INFO - AssignWcsStep instance created.\n",
      "2020-12-14 22:31:16,402 - stpipe.Spec2Pipeline.imprint_subtract - INFO - ImprintStep instance created.\n",
      "2020-12-14 22:31:16,404 - stpipe.Spec2Pipeline.msa_flagging - INFO - MSAFlagOpenStep instance created.\n",
      "2020-12-14 22:31:16,405 - stpipe.Spec2Pipeline.extract_2d - INFO - Extract2dStep instance created.\n",
      "2020-12-14 22:31:16,406 - stpipe.Spec2Pipeline.flat_field - INFO - FlatFieldStep instance created.\n",
      "2020-12-14 22:31:16,408 - stpipe.Spec2Pipeline.srctype - INFO - SourceTypeStep instance created.\n",
      "2020-12-14 22:31:16,409 - stpipe.Spec2Pipeline.straylight - INFO - StraylightStep instance created.\n",
      "2020-12-14 22:31:16,410 - stpipe.Spec2Pipeline.fringe - INFO - FringeStep instance created.\n",
      "2020-12-14 22:31:16,411 - stpipe.Spec2Pipeline.pathloss - INFO - PathLossStep instance created.\n",
      "2020-12-14 22:31:16,412 - stpipe.Spec2Pipeline.barshadow - INFO - BarShadowStep instance created.\n",
      "2020-12-14 22:31:16,413 - stpipe.Spec2Pipeline.photom - INFO - PhotomStep instance created.\n",
      "2020-12-14 22:31:16,415 - stpipe.Spec2Pipeline.resample_spec - INFO - ResampleSpecStep instance created.\n",
      "2020-12-14 22:31:16,416 - stpipe.Spec2Pipeline.cube_build - INFO - CubeBuildStep instance created.\n",
      "2020-12-14 22:31:16,418 - stpipe.Spec2Pipeline.extract_1d - INFO - Extract1dStep instance created.\n",
      "2020-12-14 22:31:16,744 - stpipe - WARNING - /Users/skendrew/anaconda3/envs/jwst0.16.2/lib/python3.8/site-packages/jwst/stpipe/step.py:344: ResourceWarning: unclosed file <_io.FileIO name='miri_lrs_slit_pt_nod1_v2.3_rate.fits' mode='rb' closefd=True>\n",
      "  gc.collect()\n",
      "\n",
      "2020-12-14 22:31:16,755 - stpipe.Spec2Pipeline - INFO - Step Spec2Pipeline running with args ('miri_lrs_slit_pt_nod1_v2.3_rate.fits',).\n",
      "2020-12-14 22:31:16,777 - stpipe.Spec2Pipeline - INFO - Step Spec2Pipeline parameters are: {'pre_hooks': [], 'post_hooks': [], 'output_file': None, 'output_dir': None, 'output_ext': '.fits', 'output_use_model': False, 'output_use_index': True, 'save_results': True, 'skip': False, 'suffix': None, 'search_output_file': True, 'input_dir': '', 'save_bsub': False, 'fail_on_exception': True, 'steps': {'bkg_subtract': {'pre_hooks': [], 'post_hooks': [], 'output_file': None, 'output_dir': None, 'output_ext': '.fits', 'output_use_model': False, 'output_use_index': True, 'save_results': False, 'skip': False, 'suffix': None, 'search_output_file': True, 'input_dir': '', 'sigma': 3.0, 'maxiters': None}, 'assign_wcs': {'pre_hooks': [], 'post_hooks': [], 'output_file': None, 'output_dir': None, 'output_ext': '.fits', 'output_use_model': False, 'output_use_index': True, 'save_results': False, 'skip': False, 'suffix': None, 'search_output_file': True, 'input_dir': '', 'slit_y_low': -0.55, 'slit_y_high': 0.55}, 'imprint_subtract': {'pre_hooks': [], 'post_hooks': [], 'output_file': None, 'output_dir': None, 'output_ext': '.fits', 'output_use_model': False, 'output_use_index': True, 'save_results': False, 'skip': False, 'suffix': None, 'search_output_file': True, 'input_dir': ''}, 'msa_flagging': {'pre_hooks': [], 'post_hooks': [], 'output_file': None, 'output_dir': None, 'output_ext': '.fits', 'output_use_model': False, 'output_use_index': True, 'save_results': False, 'skip': False, 'suffix': None, 'search_output_file': True, 'input_dir': ''}, 'extract_2d': {'pre_hooks': [], 'post_hooks': [], 'output_file': None, 'output_dir': None, 'output_ext': '.fits', 'output_use_model': False, 'output_use_index': True, 'save_results': False, 'skip': False, 'suffix': None, 'search_output_file': True, 'input_dir': '', 'slit_name': None, 'apply_wavecorr': True, 'extract_orders': None, 'extract_height': None, 'grism_objects': None, 'mmag_extract': 99.0}, 'flat_field': {'pre_hooks': [], 'post_hooks': [], 'output_file': None, 'output_dir': None, 'output_ext': '.fits', 'output_use_model': False, 'output_use_index': True, 'save_results': False, 'skip': False, 'suffix': None, 'search_output_file': True, 'input_dir': '', 'save_interpolated_flat': False}, 'srctype': {'pre_hooks': [], 'post_hooks': [], 'output_file': None, 'output_dir': None, 'output_ext': '.fits', 'output_use_model': False, 'output_use_index': True, 'save_results': False, 'skip': False, 'suffix': None, 'search_output_file': True, 'input_dir': ''}, 'straylight': {'pre_hooks': [], 'post_hooks': [], 'output_file': None, 'output_dir': None, 'output_ext': '.fits', 'output_use_model': False, 'output_use_index': True, 'save_results': False, 'skip': False, 'suffix': None, 'search_output_file': True, 'input_dir': '', 'method': 'ModShepard', 'roi': 50, 'power': 1.0}, 'fringe': {'pre_hooks': [], 'post_hooks': [], 'output_file': None, 'output_dir': None, 'output_ext': '.fits', 'output_use_model': False, 'output_use_index': True, 'save_results': False, 'skip': False, 'suffix': None, 'search_output_file': True, 'input_dir': ''}, 'pathloss': {'pre_hooks': [], 'post_hooks': [], 'output_file': None, 'output_dir': None, 'output_ext': '.fits', 'output_use_model': False, 'output_use_index': True, 'save_results': False, 'skip': False, 'suffix': None, 'search_output_file': True, 'input_dir': ''}, 'barshadow': {'pre_hooks': [], 'post_hooks': [], 'output_file': None, 'output_dir': None, 'output_ext': '.fits', 'output_use_model': False, 'output_use_index': True, 'save_results': False, 'skip': False, 'suffix': None, 'search_output_file': True, 'input_dir': ''}, 'photom': {'pre_hooks': [], 'post_hooks': [], 'output_file': None, 'output_dir': None, 'output_ext': '.fits', 'output_use_model': False, 'output_use_index': True, 'save_results': False, 'skip': False, 'suffix': None, 'search_output_file': True, 'input_dir': ''}, 'resample_spec': {'pre_hooks': [], 'post_hooks': [], 'output_file': None, 'output_dir': None, 'output_ext': '.fits', 'output_use_model': False, 'output_use_index': True, 'save_results': False, 'skip': False, 'suffix': None, 'search_output_file': True, 'input_dir': '', 'pixfrac': 1.0, 'kernel': 'square', 'fillval': 'INDEF', 'weight_type': 'exptime', 'single': False, 'blendheaders': True}, 'cube_build': {'pre_hooks': [], 'post_hooks': [], 'output_file': None, 'output_dir': None, 'output_ext': '.fits', 'output_use_model': True, 'output_use_index': True, 'save_results': False, 'skip': False, 'suffix': None, 'search_output_file': False, 'input_dir': '', 'channel': 'all', 'band': 'all', 'grating': 'all', 'filter': 'all', 'output_type': 'band', 'scale1': 0.0, 'scale2': 0.0, 'scalew': 0.0, 'weighting': 'msm', 'coord_system': 'world', 'rois': 0.0, 'roiw': 0.0, 'weight_power': 0.0, 'wavemin': None, 'wavemax': None, 'single': False, 'xdebug': None, 'ydebug': None, 'zdebug': None, 'skip_dqflagging': False}, 'extract_1d': {'pre_hooks': [], 'post_hooks': [], 'output_file': None, 'output_dir': None, 'output_ext': '.fits', 'output_use_model': False, 'output_use_index': True, 'save_results': False, 'skip': True, 'suffix': None, 'search_output_file': True, 'input_dir': '', 'smoothing_length': None, 'bkg_order': None, 'log_increment': 50, 'subtract_background': None, 'apply_nod_offset': None}}}\n",
      "2020-12-14 22:31:16,879 - stpipe.Spec2Pipeline - INFO - Prefetching reference files for dataset: 'miri_lrs_slit_pt_nod1_v2.3_rate.fits' reftypes = ['area', 'barshadow', 'camera', 'collimator', 'cubepar', 'dflat', 'disperser', 'distortion', 'drizpars', 'fflat', 'filteroffset', 'flat', 'fore', 'fpa', 'fringe', 'ifufore', 'ifupost', 'ifuslicer', 'msa', 'msaoper', 'ote', 'pathloss', 'photom', 'regions', 'resol', 'sflat', 'specwcs', 'wavecorr', 'wavelengthrange', 'wfssbkg']\n",
      "2020-12-14 22:31:16,884 - stpipe.Spec2Pipeline - INFO - Prefetch for AREA reference file is 'N/A'.\n"
     ]
    },
    {
     "name": "stderr",
     "output_type": "stream",
     "text": [
      "2020-12-14 22:31:16,884 - stpipe.Spec2Pipeline - INFO - Prefetch for BARSHADOW reference file is 'N/A'.\n",
      "2020-12-14 22:31:16,884 - stpipe.Spec2Pipeline - INFO - Prefetch for CAMERA reference file is 'N/A'.\n",
      "2020-12-14 22:31:16,885 - stpipe.Spec2Pipeline - INFO - Prefetch for COLLIMATOR reference file is 'N/A'.\n",
      "2020-12-14 22:31:16,885 - stpipe.Spec2Pipeline - INFO - Prefetch for CUBEPAR reference file is 'N/A'.\n",
      "2020-12-14 22:31:16,886 - stpipe.Spec2Pipeline - INFO - Prefetch for DFLAT reference file is 'N/A'.\n",
      "2020-12-14 22:31:16,886 - stpipe.Spec2Pipeline - INFO - Prefetch for DISPERSER reference file is 'N/A'.\n",
      "2020-12-14 22:31:16,887 - stpipe.Spec2Pipeline - INFO - Prefetch for DISTORTION reference file is '/Users/skendrew//crds_cache/references/jwst/miri/jwst_miri_distortion_0028.asdf'.\n",
      "2020-12-14 22:31:16,887 - stpipe.Spec2Pipeline - INFO - Prefetch for DRIZPARS reference file is '/Users/skendrew//crds_cache/references/jwst/miri/jwst_miri_drizpars_0001.fits'.\n",
      "2020-12-14 22:31:16,888 - stpipe.Spec2Pipeline - INFO - Prefetch for FFLAT reference file is 'N/A'.\n",
      "2020-12-14 22:31:16,888 - stpipe.Spec2Pipeline - INFO - Prefetch for FILTEROFFSET reference file is 'N/A'.\n",
      "2020-12-14 22:31:16,888 - stpipe.Spec2Pipeline - INFO - Prefetch for FLAT reference file is '/Users/skendrew//crds_cache/references/jwst/miri/jwst_miri_flat_0472.fits'.\n",
      "2020-12-14 22:31:16,889 - stpipe.Spec2Pipeline - INFO - Prefetch for FORE reference file is 'N/A'.\n",
      "2020-12-14 22:31:16,889 - stpipe.Spec2Pipeline - INFO - Prefetch for FPA reference file is 'N/A'.\n",
      "2020-12-14 22:31:16,890 - stpipe.Spec2Pipeline - INFO - Prefetch for FRINGE reference file is 'N/A'.\n",
      "2020-12-14 22:31:16,890 - stpipe.Spec2Pipeline - INFO - Prefetch for IFUFORE reference file is 'N/A'.\n",
      "2020-12-14 22:31:16,891 - stpipe.Spec2Pipeline - INFO - Prefetch for IFUPOST reference file is 'N/A'.\n",
      "2020-12-14 22:31:16,891 - stpipe.Spec2Pipeline - INFO - Prefetch for IFUSLICER reference file is 'N/A'.\n",
      "2020-12-14 22:31:16,891 - stpipe.Spec2Pipeline - INFO - Prefetch for MSA reference file is 'N/A'.\n",
      "2020-12-14 22:31:16,892 - stpipe.Spec2Pipeline - INFO - Prefetch for MSAOPER reference file is 'N/A'.\n",
      "2020-12-14 22:31:16,892 - stpipe.Spec2Pipeline - INFO - Prefetch for OTE reference file is 'N/A'.\n",
      "2020-12-14 22:31:16,892 - stpipe.Spec2Pipeline - INFO - Prefetch for PATHLOSS reference file is 'N/A'.\n",
      "2020-12-14 22:31:16,893 - stpipe.Spec2Pipeline - INFO - Prefetch for PHOTOM reference file is '/Users/skendrew//crds_cache/references/jwst/miri/jwst_miri_photom_0072.fits'.\n",
      "2020-12-14 22:31:16,893 - stpipe.Spec2Pipeline - INFO - Prefetch for REGIONS reference file is 'N/A'.\n",
      "2020-12-14 22:31:16,893 - stpipe.Spec2Pipeline - INFO - Prefetch for RESOL reference file is 'N/A'.\n",
      "2020-12-14 22:31:16,894 - stpipe.Spec2Pipeline - INFO - Prefetch for SFLAT reference file is 'N/A'.\n",
      "2020-12-14 22:31:16,894 - stpipe.Spec2Pipeline - INFO - Prefetch for SPECWCS reference file is '/Users/skendrew//crds_cache/references/jwst/miri/jwst_miri_specwcs_0003.fits'.\n",
      "2020-12-14 22:31:16,895 - stpipe.Spec2Pipeline - INFO - Prefetch for WAVECORR reference file is 'N/A'.\n",
      "2020-12-14 22:31:16,895 - stpipe.Spec2Pipeline - INFO - Prefetch for WAVELENGTHRANGE reference file is 'N/A'.\n",
      "2020-12-14 22:31:16,895 - stpipe.Spec2Pipeline - INFO - Prefetch for WFSSBKG reference file is 'N/A'.\n",
      "2020-12-14 22:31:16,896 - stpipe.Spec2Pipeline - INFO - Starting calwebb_spec2 ...\n",
      "2020-12-14 22:31:16,897 - stpipe.Spec2Pipeline - INFO - Processing product miri_lrs_slit_pt_nod1_v2.3\n",
      "2020-12-14 22:31:16,897 - stpipe.Spec2Pipeline - INFO - Working on input miri_lrs_slit_pt_nod1_v2.3_rate.fits ...\n",
      "2020-12-14 22:31:17,307 - stpipe.Spec2Pipeline.assign_wcs - INFO - Step assign_wcs running with args (<ImageModel(1024, 1032) from miri_lrs_slit_pt_nod1_v2.3_rate.fits>,).\n",
      "2020-12-14 22:31:17,310 - stpipe.Spec2Pipeline.assign_wcs - INFO - Step assign_wcs parameters are: {'pre_hooks': [], 'post_hooks': [], 'output_file': None, 'output_dir': None, 'output_ext': '.fits', 'output_use_model': False, 'output_use_index': True, 'save_results': False, 'skip': False, 'suffix': None, 'search_output_file': True, 'input_dir': '', 'slit_y_low': -0.55, 'slit_y_high': 0.55}\n",
      "2020-12-14 22:31:17,697 - stpipe.Spec2Pipeline.assign_wcs - INFO - Created a MIRI mir_lrs-fixedslit pipeline with references {'distortion': '/Users/skendrew//crds_cache/references/jwst/miri/jwst_miri_distortion_0028.asdf', 'filteroffset': None, 'specwcs': '/Users/skendrew//crds_cache/references/jwst/miri/jwst_miri_specwcs_0003.fits', 'regions': None, 'wavelengthrange': None, 'camera': None, 'collimator': None, 'disperser': None, 'fore': None, 'fpa': None, 'msa': None, 'ote': None, 'ifupost': None, 'ifufore': None, 'ifuslicer': None}\n",
      "2020-12-14 22:31:17,727 - stpipe.Spec2Pipeline.assign_wcs - INFO - Update S_REGION to POLYGON ICRS  359.999032072 -0.000035778 359.999032072 0.000080412 0.000429964 0.000080412 0.000429964 -0.000035778\n",
      "2020-12-14 22:31:17,727 - stpipe.Spec2Pipeline.assign_wcs - INFO - assign_wcs updated S_REGION to POLYGON ICRS  359.999032072 -0.000035778 359.999032072 0.000080412 0.000429964 0.000080412 0.000429964 -0.000035778\n",
      "2020-12-14 22:31:17,728 - stpipe.Spec2Pipeline.assign_wcs - INFO - COMPLETED assign_wcs\n",
      "2020-12-14 22:31:17,731 - stpipe.Spec2Pipeline.assign_wcs - INFO - Step assign_wcs done\n",
      "2020-12-14 22:31:18,342 - stpipe.Spec2Pipeline.flat_field - INFO - Step flat_field running with args (<ImageModel(1024, 1032) from miri_lrs_slit_pt_nod1_v2.3_rate.fits>,).\n",
      "2020-12-14 22:31:18,344 - stpipe.Spec2Pipeline.flat_field - INFO - Step flat_field parameters are: {'pre_hooks': [], 'post_hooks': [], 'output_file': None, 'output_dir': None, 'output_ext': '.fits', 'output_use_model': False, 'output_use_index': True, 'save_results': False, 'skip': False, 'suffix': None, 'search_output_file': True, 'input_dir': '', 'save_interpolated_flat': False}\n",
      "2020-12-14 22:31:18,434 - stpipe.Spec2Pipeline.flat_field - WARNING - Keyword CDP_PARTIAL_DATA does not correspond to an existing DQ mnemonic, so will be ignored\n",
      "2020-12-14 22:31:18,435 - stpipe.Spec2Pipeline.flat_field - WARNING - Keyword CDP_LOW_QUAL does not correspond to an existing DQ mnemonic, so will be ignored\n",
      "2020-12-14 22:31:18,435 - stpipe.Spec2Pipeline.flat_field - WARNING - Keyword CDP_UNRELIABLE_ERROR does not correspond to an existing DQ mnemonic, so will be ignored\n",
      "2020-12-14 22:31:18,464 - stpipe.Spec2Pipeline.flat_field - WARNING - Keyword DIFF_PATTERN does not correspond to an existing DQ mnemonic, so will be ignored\n",
      "2020-12-14 22:31:18,647 - stpipe.Spec2Pipeline.flat_field - INFO - Step flat_field done\n",
      "2020-12-14 22:31:19,309 - stpipe.Spec2Pipeline.srctype - INFO - Step srctype running with args (<ImageModel(1024, 1032) from miri_lrs_slit_pt_nod1_v2.3_rate.fits>,).\n",
      "2020-12-14 22:31:19,312 - stpipe.Spec2Pipeline.srctype - INFO - Step srctype parameters are: {'pre_hooks': [], 'post_hooks': [], 'output_file': None, 'output_dir': None, 'output_ext': '.fits', 'output_use_model': False, 'output_use_index': True, 'save_results': False, 'skip': False, 'suffix': None, 'search_output_file': True, 'input_dir': ''}\n",
      "2020-12-14 22:31:19,322 - stpipe.Spec2Pipeline.srctype - INFO - Input EXP_TYPE is MIR_LRS-FIXEDSLIT\n",
      "2020-12-14 22:31:19,323 - stpipe.Spec2Pipeline.srctype - INFO - Input SRCTYAPT = None\n",
      "2020-12-14 22:31:19,324 - stpipe.Spec2Pipeline.srctype - WARNING - SRCTYAPT keyword not found in input; using SRCTYPE instead\n",
      "2020-12-14 22:31:19,325 - stpipe.Spec2Pipeline.srctype - INFO - Input source type is unknown; setting default SRCTYPE = POINT\n",
      "2020-12-14 22:31:19,327 - stpipe.Spec2Pipeline.srctype - INFO - Step srctype done\n",
      "2020-12-14 22:31:20,080 - stpipe.Spec2Pipeline.photom - INFO - Step photom running with args (<ImageModel(1024, 1032) from miri_lrs_slit_pt_nod1_v2.3_rate.fits>,).\n",
      "2020-12-14 22:31:20,082 - stpipe.Spec2Pipeline.photom - INFO - Step photom parameters are: {'pre_hooks': [], 'post_hooks': [], 'output_file': None, 'output_dir': None, 'output_ext': '.fits', 'output_use_model': False, 'output_use_index': True, 'save_results': False, 'skip': False, 'suffix': None, 'search_output_file': True, 'input_dir': ''}\n",
      "2020-12-14 22:31:20,095 - stpipe.Spec2Pipeline.photom - INFO - Using photom reference file: /Users/skendrew//crds_cache/references/jwst/miri/jwst_miri_photom_0072.fits\n"
     ]
    },
    {
     "name": "stderr",
     "output_type": "stream",
     "text": [
      "2020-12-14 22:31:20,097 - stpipe.Spec2Pipeline.photom - INFO - Using area reference file: N/A\n",
      "2020-12-14 22:31:20,192 - stpipe.Spec2Pipeline.photom - INFO - Using instrument: MIRI\n",
      "2020-12-14 22:31:20,193 - stpipe.Spec2Pipeline.photom - INFO -  detector: MIRIMAGE\n",
      "2020-12-14 22:31:20,193 - stpipe.Spec2Pipeline.photom - INFO -  exp_type: MIR_LRS-FIXEDSLIT\n",
      "2020-12-14 22:31:20,194 - stpipe.Spec2Pipeline.photom - INFO -  filter: P750L\n",
      "2020-12-14 22:31:20,212 - stpipe.Spec2Pipeline.photom - INFO -  subarray: FULL\n",
      "2020-12-14 22:31:20,213 - stpipe.Spec2Pipeline.photom - INFO - PHOTMJSR value: 60.567\n",
      "2020-12-14 22:31:20,302 - stpipe.Spec2Pipeline.photom - INFO - Step photom done\n",
      "2020-12-14 22:31:20,962 - stpipe.Spec2Pipeline.resample_spec - INFO - Step resample_spec running with args (<ImageModel(1024, 1032) from miri_lrs_slit_pt_nod1_v2_cal.fits>,).\n",
      "2020-12-14 22:31:20,965 - stpipe.Spec2Pipeline.resample_spec - INFO - Step resample_spec parameters are: {'pre_hooks': [], 'post_hooks': [], 'output_file': None, 'output_dir': None, 'output_ext': '.fits', 'output_use_model': False, 'output_use_index': True, 'save_results': True, 'skip': False, 'suffix': 's2d', 'search_output_file': True, 'input_dir': '', 'pixfrac': 1.0, 'kernel': 'square', 'fillval': 'INDEF', 'weight_type': 'exptime', 'single': False, 'blendheaders': True}\n",
      "2020-12-14 22:31:21,052 - stpipe.Spec2Pipeline.resample_spec - INFO - Drizpars reference file: /Users/skendrew//crds_cache/references/jwst/miri/jwst_miri_drizpars_0001.fits\n",
      "2020-12-14 22:31:21,077 - stpipe.Spec2Pipeline.resample_spec - WARNING - /Users/skendrew/anaconda3/envs/jwst0.16.2/lib/python3.8/site-packages/numpy/lib/nanfunctions.py:1113: RuntimeWarning: All-NaN slice encountered\n",
      "  r, k = function_base._ureduce(a, func=_nanmedian, axis=axis, out=out,\n",
      "\n",
      "2020-12-14 22:31:21,138 - stpipe.Spec2Pipeline.resample_spec - INFO - Resampling slit None (387, 44)\n",
      "2020-12-14 22:31:21,704 - stpipe.Spec2Pipeline.resample_spec - INFO - Drizzling (1024, 1032) --> (387, 44)\n",
      "2020-12-14 22:31:21,732 - stpipe.Spec2Pipeline.resample_spec - INFO - Update S_REGION to POLYGON ICRS  0.000006671 -0.000033657 359.999976045 -0.000033657 359.999976045 0.000075807 0.000006671 0.000075807\n",
      "2020-12-14 22:31:21,813 - stpipe.Spec2Pipeline.resample_spec - INFO - Saved model in miri_lrs_slit_pt_nod1_v2_s2d.fits\n",
      "2020-12-14 22:31:21,814 - stpipe.Spec2Pipeline.resample_spec - INFO - Step resample_spec done\n",
      "2020-12-14 22:31:22,445 - stpipe.Spec2Pipeline.extract_1d - INFO - Step extract_1d running with args (<SlitModel(387, 44) from miri_lrs_slit_pt_nod1_v2_s2d.fits>,).\n",
      "2020-12-14 22:31:22,448 - stpipe.Spec2Pipeline.extract_1d - INFO - Step extract_1d parameters are: {'pre_hooks': [], 'post_hooks': [], 'output_file': None, 'output_dir': None, 'output_ext': '.fits', 'output_use_model': False, 'output_use_index': True, 'save_results': True, 'skip': True, 'suffix': 'x1d', 'search_output_file': True, 'input_dir': '', 'smoothing_length': None, 'bkg_order': None, 'log_increment': 50, 'subtract_background': None, 'apply_nod_offset': None}\n",
      "2020-12-14 22:31:22,450 - stpipe.Spec2Pipeline.extract_1d - INFO - Step skipped.\n",
      "2020-12-14 22:31:22,452 - stpipe.Spec2Pipeline.extract_1d - INFO - Step extract_1d done\n",
      "2020-12-14 22:31:22,781 - stpipe.Spec2Pipeline - INFO - Finished processing product miri_lrs_slit_pt_nod1_v2.3\n",
      "2020-12-14 22:31:22,783 - stpipe.Spec2Pipeline - INFO - Ending calwebb_spec2\n",
      "2020-12-14 22:31:23,027 - stpipe.Spec2Pipeline - INFO - Saved model in miri_lrs_slit_pt_nod1_v2_cal.fits\n",
      "2020-12-14 22:31:23,028 - stpipe.Spec2Pipeline - INFO - Step Spec2Pipeline done\n",
      "2020-12-14 22:31:23,493 - stpipe.Spec2Pipeline - INFO - Spec2Pipeline instance created.\n",
      "2020-12-14 22:31:23,494 - stpipe.Spec2Pipeline.bkg_subtract - INFO - BackgroundStep instance created.\n",
      "2020-12-14 22:31:23,495 - stpipe.Spec2Pipeline.assign_wcs - INFO - AssignWcsStep instance created.\n",
      "2020-12-14 22:31:23,496 - stpipe.Spec2Pipeline.imprint_subtract - INFO - ImprintStep instance created.\n",
      "2020-12-14 22:31:23,498 - stpipe.Spec2Pipeline.msa_flagging - INFO - MSAFlagOpenStep instance created.\n",
      "2020-12-14 22:31:23,499 - stpipe.Spec2Pipeline.extract_2d - INFO - Extract2dStep instance created.\n",
      "2020-12-14 22:31:23,500 - stpipe.Spec2Pipeline.flat_field - INFO - FlatFieldStep instance created.\n",
      "2020-12-14 22:31:23,501 - stpipe.Spec2Pipeline.srctype - INFO - SourceTypeStep instance created.\n",
      "2020-12-14 22:31:23,503 - stpipe.Spec2Pipeline.straylight - INFO - StraylightStep instance created.\n",
      "2020-12-14 22:31:23,504 - stpipe.Spec2Pipeline.fringe - INFO - FringeStep instance created.\n",
      "2020-12-14 22:31:23,505 - stpipe.Spec2Pipeline.pathloss - INFO - PathLossStep instance created.\n",
      "2020-12-14 22:31:23,507 - stpipe.Spec2Pipeline.barshadow - INFO - BarShadowStep instance created.\n",
      "2020-12-14 22:31:23,508 - stpipe.Spec2Pipeline.photom - INFO - PhotomStep instance created.\n",
      "2020-12-14 22:31:23,509 - stpipe.Spec2Pipeline.resample_spec - INFO - ResampleSpecStep instance created.\n",
      "2020-12-14 22:31:23,512 - stpipe.Spec2Pipeline.cube_build - INFO - CubeBuildStep instance created.\n",
      "2020-12-14 22:31:23,514 - stpipe.Spec2Pipeline.extract_1d - INFO - Extract1dStep instance created.\n",
      "2020-12-14 22:31:23,823 - stpipe - WARNING - /Users/skendrew/anaconda3/envs/jwst0.16.2/lib/python3.8/site-packages/jwst/stpipe/step.py:344: ResourceWarning: unclosed file <_io.FileIO name='miri_lrs_slit_pt_nod2_v2.3_rate.fits' mode='rb' closefd=True>\n",
      "  gc.collect()\n",
      "\n",
      "2020-12-14 22:31:23,827 - stpipe.Spec2Pipeline - INFO - Step Spec2Pipeline running with args ('miri_lrs_slit_pt_nod2_v2.3_rate.fits',).\n",
      "2020-12-14 22:31:23,844 - stpipe.Spec2Pipeline - INFO - Step Spec2Pipeline parameters are: {'pre_hooks': [], 'post_hooks': [], 'output_file': None, 'output_dir': None, 'output_ext': '.fits', 'output_use_model': False, 'output_use_index': True, 'save_results': True, 'skip': False, 'suffix': None, 'search_output_file': True, 'input_dir': '', 'save_bsub': False, 'fail_on_exception': True, 'steps': {'bkg_subtract': {'pre_hooks': [], 'post_hooks': [], 'output_file': None, 'output_dir': None, 'output_ext': '.fits', 'output_use_model': False, 'output_use_index': True, 'save_results': False, 'skip': False, 'suffix': None, 'search_output_file': True, 'input_dir': '', 'sigma': 3.0, 'maxiters': None}, 'assign_wcs': {'pre_hooks': [], 'post_hooks': [], 'output_file': None, 'output_dir': None, 'output_ext': '.fits', 'output_use_model': False, 'output_use_index': True, 'save_results': False, 'skip': False, 'suffix': None, 'search_output_file': True, 'input_dir': '', 'slit_y_low': -0.55, 'slit_y_high': 0.55}, 'imprint_subtract': {'pre_hooks': [], 'post_hooks': [], 'output_file': None, 'output_dir': None, 'output_ext': '.fits', 'output_use_model': False, 'output_use_index': True, 'save_results': False, 'skip': False, 'suffix': None, 'search_output_file': True, 'input_dir': ''}, 'msa_flagging': {'pre_hooks': [], 'post_hooks': [], 'output_file': None, 'output_dir': None, 'output_ext': '.fits', 'output_use_model': False, 'output_use_index': True, 'save_results': False, 'skip': False, 'suffix': None, 'search_output_file': True, 'input_dir': ''}, 'extract_2d': {'pre_hooks': [], 'post_hooks': [], 'output_file': None, 'output_dir': None, 'output_ext': '.fits', 'output_use_model': False, 'output_use_index': True, 'save_results': False, 'skip': False, 'suffix': None, 'search_output_file': True, 'input_dir': '', 'slit_name': None, 'apply_wavecorr': True, 'extract_orders': None, 'extract_height': None, 'grism_objects': None, 'mmag_extract': 99.0}, 'flat_field': {'pre_hooks': [], 'post_hooks': [], 'output_file': None, 'output_dir': None, 'output_ext': '.fits', 'output_use_model': False, 'output_use_index': True, 'save_results': False, 'skip': False, 'suffix': None, 'search_output_file': True, 'input_dir': '', 'save_interpolated_flat': False}, 'srctype': {'pre_hooks': [], 'post_hooks': [], 'output_file': None, 'output_dir': None, 'output_ext': '.fits', 'output_use_model': False, 'output_use_index': True, 'save_results': False, 'skip': False, 'suffix': None, 'search_output_file': True, 'input_dir': ''}, 'straylight': {'pre_hooks': [], 'post_hooks': [], 'output_file': None, 'output_dir': None, 'output_ext': '.fits', 'output_use_model': False, 'output_use_index': True, 'save_results': False, 'skip': False, 'suffix': None, 'search_output_file': True, 'input_dir': '', 'method': 'ModShepard', 'roi': 50, 'power': 1.0}, 'fringe': {'pre_hooks': [], 'post_hooks': [], 'output_file': None, 'output_dir': None, 'output_ext': '.fits', 'output_use_model': False, 'output_use_index': True, 'save_results': False, 'skip': False, 'suffix': None, 'search_output_file': True, 'input_dir': ''}, 'pathloss': {'pre_hooks': [], 'post_hooks': [], 'output_file': None, 'output_dir': None, 'output_ext': '.fits', 'output_use_model': False, 'output_use_index': True, 'save_results': False, 'skip': False, 'suffix': None, 'search_output_file': True, 'input_dir': ''}, 'barshadow': {'pre_hooks': [], 'post_hooks': [], 'output_file': None, 'output_dir': None, 'output_ext': '.fits', 'output_use_model': False, 'output_use_index': True, 'save_results': False, 'skip': False, 'suffix': None, 'search_output_file': True, 'input_dir': ''}, 'photom': {'pre_hooks': [], 'post_hooks': [], 'output_file': None, 'output_dir': None, 'output_ext': '.fits', 'output_use_model': False, 'output_use_index': True, 'save_results': False, 'skip': False, 'suffix': None, 'search_output_file': True, 'input_dir': ''}, 'resample_spec': {'pre_hooks': [], 'post_hooks': [], 'output_file': None, 'output_dir': None, 'output_ext': '.fits', 'output_use_model': False, 'output_use_index': True, 'save_results': False, 'skip': False, 'suffix': None, 'search_output_file': True, 'input_dir': '', 'pixfrac': 1.0, 'kernel': 'square', 'fillval': 'INDEF', 'weight_type': 'exptime', 'single': False, 'blendheaders': True}, 'cube_build': {'pre_hooks': [], 'post_hooks': [], 'output_file': None, 'output_dir': None, 'output_ext': '.fits', 'output_use_model': True, 'output_use_index': True, 'save_results': False, 'skip': False, 'suffix': None, 'search_output_file': False, 'input_dir': '', 'channel': 'all', 'band': 'all', 'grating': 'all', 'filter': 'all', 'output_type': 'band', 'scale1': 0.0, 'scale2': 0.0, 'scalew': 0.0, 'weighting': 'msm', 'coord_system': 'world', 'rois': 0.0, 'roiw': 0.0, 'weight_power': 0.0, 'wavemin': None, 'wavemax': None, 'single': False, 'xdebug': None, 'ydebug': None, 'zdebug': None, 'skip_dqflagging': False}, 'extract_1d': {'pre_hooks': [], 'post_hooks': [], 'output_file': None, 'output_dir': None, 'output_ext': '.fits', 'output_use_model': False, 'output_use_index': True, 'save_results': False, 'skip': True, 'suffix': None, 'search_output_file': True, 'input_dir': '', 'smoothing_length': None, 'bkg_order': None, 'log_increment': 50, 'subtract_background': None, 'apply_nod_offset': None}}}\n"
     ]
    },
    {
     "name": "stderr",
     "output_type": "stream",
     "text": [
      "2020-12-14 22:31:23,935 - stpipe.Spec2Pipeline - INFO - Prefetching reference files for dataset: 'miri_lrs_slit_pt_nod2_v2.3_rate.fits' reftypes = ['area', 'barshadow', 'camera', 'collimator', 'cubepar', 'dflat', 'disperser', 'distortion', 'drizpars', 'fflat', 'filteroffset', 'flat', 'fore', 'fpa', 'fringe', 'ifufore', 'ifupost', 'ifuslicer', 'msa', 'msaoper', 'ote', 'pathloss', 'photom', 'regions', 'resol', 'sflat', 'specwcs', 'wavecorr', 'wavelengthrange', 'wfssbkg']\n",
      "2020-12-14 22:31:23,938 - stpipe.Spec2Pipeline - INFO - Prefetch for AREA reference file is 'N/A'.\n",
      "2020-12-14 22:31:23,939 - stpipe.Spec2Pipeline - INFO - Prefetch for BARSHADOW reference file is 'N/A'.\n",
      "2020-12-14 22:31:23,939 - stpipe.Spec2Pipeline - INFO - Prefetch for CAMERA reference file is 'N/A'.\n",
      "2020-12-14 22:31:23,939 - stpipe.Spec2Pipeline - INFO - Prefetch for COLLIMATOR reference file is 'N/A'.\n",
      "2020-12-14 22:31:23,940 - stpipe.Spec2Pipeline - INFO - Prefetch for CUBEPAR reference file is 'N/A'.\n",
      "2020-12-14 22:31:23,940 - stpipe.Spec2Pipeline - INFO - Prefetch for DFLAT reference file is 'N/A'.\n",
      "2020-12-14 22:31:23,941 - stpipe.Spec2Pipeline - INFO - Prefetch for DISPERSER reference file is 'N/A'.\n",
      "2020-12-14 22:31:23,941 - stpipe.Spec2Pipeline - INFO - Prefetch for DISTORTION reference file is '/Users/skendrew//crds_cache/references/jwst/miri/jwst_miri_distortion_0028.asdf'.\n",
      "2020-12-14 22:31:23,942 - stpipe.Spec2Pipeline - INFO - Prefetch for DRIZPARS reference file is '/Users/skendrew//crds_cache/references/jwst/miri/jwst_miri_drizpars_0001.fits'.\n",
      "2020-12-14 22:31:23,942 - stpipe.Spec2Pipeline - INFO - Prefetch for FFLAT reference file is 'N/A'.\n",
      "2020-12-14 22:31:23,943 - stpipe.Spec2Pipeline - INFO - Prefetch for FILTEROFFSET reference file is 'N/A'.\n",
      "2020-12-14 22:31:23,943 - stpipe.Spec2Pipeline - INFO - Prefetch for FLAT reference file is '/Users/skendrew//crds_cache/references/jwst/miri/jwst_miri_flat_0472.fits'.\n",
      "2020-12-14 22:31:23,944 - stpipe.Spec2Pipeline - INFO - Prefetch for FORE reference file is 'N/A'.\n",
      "2020-12-14 22:31:23,944 - stpipe.Spec2Pipeline - INFO - Prefetch for FPA reference file is 'N/A'.\n",
      "2020-12-14 22:31:23,944 - stpipe.Spec2Pipeline - INFO - Prefetch for FRINGE reference file is 'N/A'.\n",
      "2020-12-14 22:31:23,945 - stpipe.Spec2Pipeline - INFO - Prefetch for IFUFORE reference file is 'N/A'.\n",
      "2020-12-14 22:31:23,945 - stpipe.Spec2Pipeline - INFO - Prefetch for IFUPOST reference file is 'N/A'.\n",
      "2020-12-14 22:31:23,945 - stpipe.Spec2Pipeline - INFO - Prefetch for IFUSLICER reference file is 'N/A'.\n",
      "2020-12-14 22:31:23,946 - stpipe.Spec2Pipeline - INFO - Prefetch for MSA reference file is 'N/A'.\n",
      "2020-12-14 22:31:23,946 - stpipe.Spec2Pipeline - INFO - Prefetch for MSAOPER reference file is 'N/A'.\n",
      "2020-12-14 22:31:23,946 - stpipe.Spec2Pipeline - INFO - Prefetch for OTE reference file is 'N/A'.\n",
      "2020-12-14 22:31:23,947 - stpipe.Spec2Pipeline - INFO - Prefetch for PATHLOSS reference file is 'N/A'.\n",
      "2020-12-14 22:31:23,947 - stpipe.Spec2Pipeline - INFO - Prefetch for PHOTOM reference file is '/Users/skendrew//crds_cache/references/jwst/miri/jwst_miri_photom_0072.fits'.\n",
      "2020-12-14 22:31:23,948 - stpipe.Spec2Pipeline - INFO - Prefetch for REGIONS reference file is 'N/A'.\n",
      "2020-12-14 22:31:23,948 - stpipe.Spec2Pipeline - INFO - Prefetch for RESOL reference file is 'N/A'.\n",
      "2020-12-14 22:31:23,948 - stpipe.Spec2Pipeline - INFO - Prefetch for SFLAT reference file is 'N/A'.\n",
      "2020-12-14 22:31:23,949 - stpipe.Spec2Pipeline - INFO - Prefetch for SPECWCS reference file is '/Users/skendrew//crds_cache/references/jwst/miri/jwst_miri_specwcs_0003.fits'.\n",
      "2020-12-14 22:31:23,949 - stpipe.Spec2Pipeline - INFO - Prefetch for WAVECORR reference file is 'N/A'.\n",
      "2020-12-14 22:31:23,950 - stpipe.Spec2Pipeline - INFO - Prefetch for WAVELENGTHRANGE reference file is 'N/A'.\n",
      "2020-12-14 22:31:23,950 - stpipe.Spec2Pipeline - INFO - Prefetch for WFSSBKG reference file is 'N/A'.\n",
      "2020-12-14 22:31:23,951 - stpipe.Spec2Pipeline - INFO - Starting calwebb_spec2 ...\n",
      "2020-12-14 22:31:23,951 - stpipe.Spec2Pipeline - INFO - Processing product miri_lrs_slit_pt_nod2_v2.3\n",
      "2020-12-14 22:31:23,952 - stpipe.Spec2Pipeline - INFO - Working on input miri_lrs_slit_pt_nod2_v2.3_rate.fits ...\n",
      "2020-12-14 22:31:24,333 - stpipe.Spec2Pipeline.assign_wcs - INFO - Step assign_wcs running with args (<ImageModel(1024, 1032) from miri_lrs_slit_pt_nod2_v2.3_rate.fits>,).\n",
      "2020-12-14 22:31:24,335 - stpipe.Spec2Pipeline.assign_wcs - INFO - Step assign_wcs parameters are: {'pre_hooks': [], 'post_hooks': [], 'output_file': None, 'output_dir': None, 'output_ext': '.fits', 'output_use_model': False, 'output_use_index': True, 'save_results': False, 'skip': False, 'suffix': None, 'search_output_file': True, 'input_dir': '', 'slit_y_low': -0.55, 'slit_y_high': 0.55}\n",
      "2020-12-14 22:31:24,736 - stpipe.Spec2Pipeline.assign_wcs - INFO - Created a MIRI mir_lrs-fixedslit pipeline with references {'distortion': '/Users/skendrew//crds_cache/references/jwst/miri/jwst_miri_distortion_0028.asdf', 'filteroffset': None, 'specwcs': '/Users/skendrew//crds_cache/references/jwst/miri/jwst_miri_specwcs_0003.fits', 'regions': None, 'wavelengthrange': None, 'camera': None, 'collimator': None, 'disperser': None, 'fore': None, 'fpa': None, 'msa': None, 'ote': None, 'ifupost': None, 'ifufore': None, 'ifuslicer': None}\n",
      "2020-12-14 22:31:24,763 - stpipe.Spec2Pipeline.assign_wcs - INFO - Update S_REGION to POLYGON ICRS  359.999555472 -0.000079284 359.999555472 0.000036907 0.000953364 0.000036907 0.000953364 -0.000079284\n",
      "2020-12-14 22:31:24,764 - stpipe.Spec2Pipeline.assign_wcs - INFO - assign_wcs updated S_REGION to POLYGON ICRS  359.999555472 -0.000079284 359.999555472 0.000036907 0.000953364 0.000036907 0.000953364 -0.000079284\n",
      "2020-12-14 22:31:24,764 - stpipe.Spec2Pipeline.assign_wcs - INFO - COMPLETED assign_wcs\n",
      "2020-12-14 22:31:24,767 - stpipe.Spec2Pipeline.assign_wcs - INFO - Step assign_wcs done\n",
      "2020-12-14 22:31:25,439 - stpipe.Spec2Pipeline.flat_field - INFO - Step flat_field running with args (<ImageModel(1024, 1032) from miri_lrs_slit_pt_nod2_v2.3_rate.fits>,).\n",
      "2020-12-14 22:31:25,442 - stpipe.Spec2Pipeline.flat_field - INFO - Step flat_field parameters are: {'pre_hooks': [], 'post_hooks': [], 'output_file': None, 'output_dir': None, 'output_ext': '.fits', 'output_use_model': False, 'output_use_index': True, 'save_results': False, 'skip': False, 'suffix': None, 'search_output_file': True, 'input_dir': '', 'save_interpolated_flat': False}\n",
      "2020-12-14 22:31:25,529 - stpipe.Spec2Pipeline.flat_field - WARNING - Keyword CDP_PARTIAL_DATA does not correspond to an existing DQ mnemonic, so will be ignored\n",
      "2020-12-14 22:31:25,529 - stpipe.Spec2Pipeline.flat_field - WARNING - Keyword CDP_LOW_QUAL does not correspond to an existing DQ mnemonic, so will be ignored\n",
      "2020-12-14 22:31:25,530 - stpipe.Spec2Pipeline.flat_field - WARNING - Keyword CDP_UNRELIABLE_ERROR does not correspond to an existing DQ mnemonic, so will be ignored\n",
      "2020-12-14 22:31:25,551 - stpipe.Spec2Pipeline.flat_field - WARNING - Keyword DIFF_PATTERN does not correspond to an existing DQ mnemonic, so will be ignored\n",
      "2020-12-14 22:31:25,672 - stpipe.Spec2Pipeline.flat_field - INFO - Step flat_field done\n",
      "2020-12-14 22:31:26,327 - stpipe.Spec2Pipeline.srctype - INFO - Step srctype running with args (<ImageModel(1024, 1032) from miri_lrs_slit_pt_nod2_v2.3_rate.fits>,).\n",
      "2020-12-14 22:31:26,330 - stpipe.Spec2Pipeline.srctype - INFO - Step srctype parameters are: {'pre_hooks': [], 'post_hooks': [], 'output_file': None, 'output_dir': None, 'output_ext': '.fits', 'output_use_model': False, 'output_use_index': True, 'save_results': False, 'skip': False, 'suffix': None, 'search_output_file': True, 'input_dir': ''}\n",
      "2020-12-14 22:31:26,341 - stpipe.Spec2Pipeline.srctype - INFO - Input EXP_TYPE is MIR_LRS-FIXEDSLIT\n",
      "2020-12-14 22:31:26,342 - stpipe.Spec2Pipeline.srctype - INFO - Input SRCTYAPT = None\n",
      "2020-12-14 22:31:26,343 - stpipe.Spec2Pipeline.srctype - WARNING - SRCTYAPT keyword not found in input; using SRCTYPE instead\n",
      "2020-12-14 22:31:26,344 - stpipe.Spec2Pipeline.srctype - INFO - Input source type is unknown; setting default SRCTYPE = POINT\n",
      "2020-12-14 22:31:26,345 - stpipe.Spec2Pipeline.srctype - INFO - Step srctype done\n"
     ]
    },
    {
     "name": "stderr",
     "output_type": "stream",
     "text": [
      "2020-12-14 22:31:27,000 - stpipe.Spec2Pipeline.photom - INFO - Step photom running with args (<ImageModel(1024, 1032) from miri_lrs_slit_pt_nod2_v2.3_rate.fits>,).\n",
      "2020-12-14 22:31:27,003 - stpipe.Spec2Pipeline.photom - INFO - Step photom parameters are: {'pre_hooks': [], 'post_hooks': [], 'output_file': None, 'output_dir': None, 'output_ext': '.fits', 'output_use_model': False, 'output_use_index': True, 'save_results': False, 'skip': False, 'suffix': None, 'search_output_file': True, 'input_dir': ''}\n",
      "2020-12-14 22:31:27,018 - stpipe.Spec2Pipeline.photom - INFO - Using photom reference file: /Users/skendrew//crds_cache/references/jwst/miri/jwst_miri_photom_0072.fits\n",
      "2020-12-14 22:31:27,021 - stpipe.Spec2Pipeline.photom - INFO - Using area reference file: N/A\n",
      "2020-12-14 22:31:27,114 - stpipe.Spec2Pipeline.photom - INFO - Using instrument: MIRI\n",
      "2020-12-14 22:31:27,114 - stpipe.Spec2Pipeline.photom - INFO -  detector: MIRIMAGE\n",
      "2020-12-14 22:31:27,115 - stpipe.Spec2Pipeline.photom - INFO -  exp_type: MIR_LRS-FIXEDSLIT\n",
      "2020-12-14 22:31:27,115 - stpipe.Spec2Pipeline.photom - INFO -  filter: P750L\n",
      "2020-12-14 22:31:27,131 - stpipe.Spec2Pipeline.photom - INFO -  subarray: FULL\n",
      "2020-12-14 22:31:27,132 - stpipe.Spec2Pipeline.photom - INFO - PHOTMJSR value: 60.567\n",
      "2020-12-14 22:31:27,236 - stpipe.Spec2Pipeline.photom - INFO - Step photom done\n",
      "2020-12-14 22:31:27,871 - stpipe.Spec2Pipeline.resample_spec - INFO - Step resample_spec running with args (<ImageModel(1024, 1032) from miri_lrs_slit_pt_nod2_v2_cal.fits>,).\n",
      "2020-12-14 22:31:27,873 - stpipe.Spec2Pipeline.resample_spec - INFO - Step resample_spec parameters are: {'pre_hooks': [], 'post_hooks': [], 'output_file': None, 'output_dir': None, 'output_ext': '.fits', 'output_use_model': False, 'output_use_index': True, 'save_results': True, 'skip': False, 'suffix': 's2d', 'search_output_file': True, 'input_dir': '', 'pixfrac': 1.0, 'kernel': 'square', 'fillval': 'INDEF', 'weight_type': 'exptime', 'single': False, 'blendheaders': True}\n",
      "2020-12-14 22:31:27,955 - stpipe.Spec2Pipeline.resample_spec - INFO - Drizpars reference file: /Users/skendrew//crds_cache/references/jwst/miri/jwst_miri_drizpars_0001.fits\n",
      "2020-12-14 22:31:27,979 - stpipe.Spec2Pipeline.resample_spec - WARNING - /Users/skendrew/anaconda3/envs/jwst0.16.2/lib/python3.8/site-packages/numpy/lib/nanfunctions.py:1113: RuntimeWarning: All-NaN slice encountered\n",
      "  r, k = function_base._ureduce(a, func=_nanmedian, axis=axis, out=out,\n",
      "\n",
      "2020-12-14 22:31:28,041 - stpipe.Spec2Pipeline.resample_spec - INFO - Resampling slit None (387, 44)\n",
      "2020-12-14 22:31:28,666 - stpipe.Spec2Pipeline.resample_spec - INFO - Drizzling (1024, 1032) --> (387, 44)\n",
      "2020-12-14 22:31:28,699 - stpipe.Spec2Pipeline.resample_spec - INFO - Update S_REGION to POLYGON ICRS  0.000009434 -0.000077162 359.999978808 -0.000077162 359.999978808 0.000032302 0.000009434 0.000032302\n",
      "2020-12-14 22:31:28,806 - stpipe.Spec2Pipeline.resample_spec - INFO - Saved model in miri_lrs_slit_pt_nod2_v2_s2d.fits\n",
      "2020-12-14 22:31:28,806 - stpipe.Spec2Pipeline.resample_spec - INFO - Step resample_spec done\n",
      "2020-12-14 22:31:29,452 - stpipe.Spec2Pipeline.extract_1d - INFO - Step extract_1d running with args (<SlitModel(387, 44) from miri_lrs_slit_pt_nod2_v2_s2d.fits>,).\n",
      "2020-12-14 22:31:29,455 - stpipe.Spec2Pipeline.extract_1d - INFO - Step extract_1d parameters are: {'pre_hooks': [], 'post_hooks': [], 'output_file': None, 'output_dir': None, 'output_ext': '.fits', 'output_use_model': False, 'output_use_index': True, 'save_results': True, 'skip': True, 'suffix': 'x1d', 'search_output_file': True, 'input_dir': '', 'smoothing_length': None, 'bkg_order': None, 'log_increment': 50, 'subtract_background': None, 'apply_nod_offset': None}\n",
      "2020-12-14 22:31:29,456 - stpipe.Spec2Pipeline.extract_1d - INFO - Step skipped.\n",
      "2020-12-14 22:31:29,457 - stpipe.Spec2Pipeline.extract_1d - INFO - Step extract_1d done\n",
      "2020-12-14 22:31:29,789 - stpipe.Spec2Pipeline - INFO - Finished processing product miri_lrs_slit_pt_nod2_v2.3\n",
      "2020-12-14 22:31:29,790 - stpipe.Spec2Pipeline - INFO - Ending calwebb_spec2\n",
      "2020-12-14 22:31:30,064 - stpipe.Spec2Pipeline - INFO - Saved model in miri_lrs_slit_pt_nod2_v2_cal.fits\n",
      "2020-12-14 22:31:30,065 - stpipe.Spec2Pipeline - INFO - Step Spec2Pipeline done\n"
     ]
    }
   ],
   "source": [
    "spec2 = []\n",
    "for dd in det1:\n",
    "    s2 = Spec2Pipeline.call(dd.meta.filename, config_file='../cfg_files/calwebb_spec2.cfg', steps={\"extract_1d\": {\"skip\": True}})\n",
    "    spec2.append(s2)\n"
   ]
  },
  {
   "cell_type": "code",
   "execution_count": 156,
   "metadata": {},
   "outputs": [
    {
     "name": "stdout",
     "output_type": "stream",
     "text": [
      "['miri_lrs_slit_pt_nod2_v2_cal.fits', 'miri_lrs_slit_pt_nod1_v2_cal.fits']\n",
      "[<ImageModel(1024, 1032) from miri_lrs_slit_pt_nod2_v2_cal.fits>, <ImageModel(1024, 1032) from miri_lrs_slit_pt_nod1_v2_cal.fits>]\n"
     ]
    }
   ],
   "source": [
    "calfiles = glob('*_cal.fits')\n",
    "print(calfiles)\n",
    "photom = []\n",
    "nods = []\n",
    "\n",
    "for cf in calfiles:\n",
    "    if 'nod1' in cf:\n",
    "        nn = 'nod1'\n",
    "    else:\n",
    "        nn = 'nod2'\n",
    "    ph = datamodels.open(cf)\n",
    "    photom.append(ph)\n",
    "    nods.append(nn)\n",
    "    \n",
    "print(photom)"
   ]
  },
  {
   "cell_type": "markdown",
   "metadata": {},
   "source": [
    "Retrieve the wcs information from the PHOTOM output file so we know the coordinates of the bounding box and the wavelength grid. We use the ``grid_from_bounding_box`` function to generate these grids. We convert the wavelength grid into a wavelength vector by averaging over each row. This works because LRS distortion is minimal, so lines of equal wavelength run along rows (not 100% accurate but for this purpose this is correct).\n",
    "\n",
    "This cell performs a check that both nods have the same wavelength assignment over the full bounding box, which is expected."
   ]
  },
  {
   "cell_type": "code",
   "execution_count": 165,
   "metadata": {},
   "outputs": [
    {
     "name": "stdout",
     "output_type": "stream",
     "text": [
      "Model bbox (nod2) = ((302.5, 346.5), (6.5, 396.5)) \n",
      "Model: Height x width of bounding box (nod2)= 390.0 x 44.0 pixels\n",
      "Model bbox (nod1) = ((302.5, 346.5), (6.5, 396.5)) \n",
      "Model: Height x width of bounding box (nod1)= 390.0 x 44.0 pixels\n"
     ]
    }
   ],
   "source": [
    "lams = []\n",
    "\n",
    "for ph,nn in zip(photom, nods):\n",
    "\n",
    "    bbox_w = ph.meta.wcs.bounding_box[0][1] - ph.meta.wcs.bounding_box[0][0]\n",
    "    bbox_ht = ph.meta.wcs.bounding_box[1][1] - ph.meta.wcs.bounding_box[1][0]\n",
    "    print('Model bbox ({1}) = {0} '.format(ph.meta.wcs.bounding_box, nn))\n",
    "    print('Model: Height x width of bounding box ({2})= {0} x {1} pixels'.format(bbox_ht, bbox_w, nn))\n",
    "\n",
    "    x,y = grid_from_bounding_box(ph.meta.wcs.bounding_box)\n",
    "    ra, dec, lam = ph.meta.wcs(x, y)\n",
    "\n",
    "    lam_vec = np.mean(lam, axis=1)\n",
    "    lams.append(lam_vec)\n",
    "    \n",
    "# check that the wavelength vectors for the nods are equal, then we can just work with one going forward\n",
    "assert np.array_equal(lams[0], lams[1], equal_nan=True), \"Arrays not equal!\""
   ]
  },
  {
   "cell_type": "markdown",
   "metadata": {},
   "source": [
    "#### Test 1: Single exposure, full width extraction\n",
    "\n",
    "To enable the extraction over the full width of the LRS slit bounding box, we have to edit the json parameters file and run the step with an override to the config file. We first run the Spec2Pipeline with its default settings, skipping the extract_1d() step."
   ]
  },
  {
   "cell_type": "markdown",
   "metadata": {},
   "source": [
    "**The next few steps will be executed with one of the nods only.** Next we perform a manual extraction by first extracting the bounding box portion of the array, and then summing up the values in each row over the full BB width. This returns the flux in MJy/sr, which we convert to Jy using the pixel area. A MIRI imager pixel measures 0.11\" on the side.\n",
    "\n",
    "**NOTE: the current pipeline step applies a nod offset of -8.284xxx pix or +8.805xxx pix for nod1, nod 2 respectively, regardless of what's in the json file. I have added this offset to this test to demonstrate that we understand and are able to macth the pipeline very closely, but this will very likely need updating as it is not realistic.**"
   ]
  },
  {
   "cell_type": "code",
   "execution_count": 186,
   "metadata": {},
   "outputs": [
    {
     "name": "stdout",
     "output_type": "stream",
     "text": [
      "The next steps will be run only on miri_lrs_slit_pt_nod2_v2_cal.fits, the nod2 exposure\n",
      "Cutout has dimensions ((390, 44))\n",
      "The cutout was taken from pixel 311 to pixel 355 in x\n",
      "387\n"
     ]
    }
   ],
   "source": [
    "ph1 = photom[0]\n",
    "nn = nods[0]\n",
    "print('The next steps will be run only on {0}, the {1} exposure'.format(ph1.meta.filename, nn))\n",
    "\n",
    "if (nn == 'nod1'):\n",
    "    offset = -8.28479\n",
    "else:\n",
    "    offset = 8.80479\n",
    "\n",
    "photom_sub = ph1.data[np.int(np.min(y)):np.int(np.max(y)+1), np.int(np.min(x)+offset):np.int(np.max(x)+1+offset)]\n",
    "print('Cutout has dimensions ({0})'.format(np.shape(photom_sub)))\n",
    "print('The cutout was taken from pixel {0} to pixel {1} in x'.format(np.int(np.min(x)+offset),np.int(np.max(x)+1+offset)))\n",
    "\n",
    "xsub = np.sum(photom_sub, axis=1)\n",
    "\n",
    "#remove some nans\n",
    "lam_vec = lams[0]\n",
    "xsub = xsub[~np.isnan(lam_vec)]\n",
    "lam_vec = lam_vec[~np.isnan(lam_vec)]\n",
    "\n",
    "# calculate the pixel area in sr\n",
    "pix_scale = 0.11 * u.arcsec\n",
    "pixar_as2 = pix_scale**2\n",
    "pixar_sr = pixar_as2.to(u.sr)\n",
    "\n",
    "# now convert flux from MJy/sr to Jy using the pixel area\n",
    "if (ph1.meta.bunit_data == 'MJy/sr'):\n",
    "    xsub_cal = xsub * pixar_sr.value * 1e6\n",
    "\n",
    "print(len(lam_vec))\n"
   ]
  },
  {
   "cell_type": "markdown",
   "metadata": {},
   "source": [
    "Next we run the ``extract_1d()`` step on the same file, editing the configuration to sum up over the entire aperture as we did above. We load in the json file, make ajustments and run the step with a config file override option."
   ]
  },
  {
   "cell_type": "code",
   "execution_count": 187,
   "metadata": {},
   "outputs": [],
   "source": [
    "extreffile='jwst_miri_extract1d_0004.json'\n",
    "basename=crds.core.config.pop_crds_uri(extreffile)\n",
    "path=crds.locate_file(basename,\"jwst\")\n",
    "with open(path) as json_ref:\n",
    "    jsreforig = json.load(json_ref)\n",
    "    jsrefdict = jsreforig.copy()\n",
    "    jsrefdict['apertures'][0]['xstart'] = np.int(np.min(x))\n",
    "    jsrefdict['apertures'][0]['xstop'] = np.int(np.max(x)) + 1\n",
    "    \n",
    "    for element in jsrefdict['apertures']:\n",
    "        element.pop('extract_width', None)\n",
    "        element.pop('nod2_offset', None)\n",
    "\n",
    "with open('extract1d_fs2b75.json','w') as jsrefout:\n",
    "    json.dump(jsrefdict,jsrefout,indent=4)"
   ]
  },
  {
   "cell_type": "code",
   "execution_count": 188,
   "metadata": {},
   "outputs": [],
   "source": [
    "with open('extract_1d_fs2b75.cfg','w') as cfg:\n",
    "    cfg.write('name = \"extract_1d\"'+'\\n')\n",
    "    cfg.write('class = \"jwst.extract_1d.Extract1dStep\"'+'\\n')\n",
    "    cfg.write(''+'\\n')\n",
    "    cfg.write('log_increment = 50'+'\\n')\n",
    "    cfg.write('smoothing_length = 0'+'\\n')\n",
    "    cfg.write('override_extract1d=\"extract1d_fs2b75.json\"'+'\\n')"
   ]
  },
  {
   "cell_type": "code",
   "execution_count": 189,
   "metadata": {},
   "outputs": [
    {
     "name": "stderr",
     "output_type": "stream",
     "text": [
      "2020-12-15 15:10:50,812 - stpipe.extract_1d - INFO - Extract1dStep instance created.\n",
      "2020-12-15 15:10:51,161 - stpipe.extract_1d - INFO - Step extract_1d running with args (<ImageModel(1024, 1032) from miri_lrs_slit_pt_nod2_v2_cal.fits>,).\n",
      "2020-12-15 15:10:51,164 - stpipe.extract_1d - INFO - Step extract_1d parameters are: {'pre_hooks': [], 'post_hooks': [], 'output_file': None, 'output_dir': None, 'output_ext': '.fits', 'output_use_model': False, 'output_use_index': True, 'save_results': True, 'skip': False, 'suffix': None, 'search_output_file': True, 'input_dir': '', 'smoothing_length': 0, 'bkg_order': None, 'log_increment': 50, 'subtract_background': None, 'apply_nod_offset': None}\n",
      "2020-12-15 15:10:51,176 - stpipe.extract_1d - INFO - Using EXTRACT1D reference file /Users/skendrew/jwst_pipeline/jwst_validation_notebooks/jwst_validation_notebooks/extract1d/extract1d_fs2b75.json\n",
      "2020-12-15 15:10:51,201 - stpipe.extract_1d - WARNING - spectral_order is None; using 1\n",
      "2020-12-15 15:10:51,274 - stpipe.extract_1d - INFO - Applying nod/dither offset of 8.804788739074809 to xstart and xstop\n",
      "2020-12-15 15:10:51,282 - stpipe.extract_1d - WARNING - /Users/skendrew/anaconda3/envs/jwst0.16.2/lib/python3.8/site-packages/jwst/extract_1d/extract.py:1913: RuntimeWarning: Mean of empty slice\n",
      "  wavelength = np.nanmean(wl[sy0:sy1, sx0:sx1], axis=1)\n",
      "\n",
      "2020-12-15 15:10:51,317 - stpipe.extract_1d - INFO - Output arrays have been trimmed by 3 elements\n",
      "2020-12-15 15:10:51,416 - stpipe.extract_1d - INFO - Saved model in miri_lrs_slit_pt_nod2_v2_extract_1d.fits\n",
      "2020-12-15 15:10:51,417 - stpipe.extract_1d - INFO - Step extract_1d done\n"
     ]
    }
   ],
   "source": [
    "xsub_pipe = Extract1dStep.call(ph1, config_file='extract_1d_fs2b75.cfg', save_results=True)"
   ]
  },
  {
   "cell_type": "markdown",
   "metadata": {},
   "source": [
    "If the step ran successfully, we can now look at the output and compare to our manual extraction spectrum. To ratio the 2 spectra we interpolate the manually extracted spectrum ``xsub_cal`` onto the pipeline-generated wavelength grid. "
   ]
  },
  {
   "cell_type": "code",
   "execution_count": 190,
   "metadata": {},
   "outputs": [
    {
     "name": "stderr",
     "output_type": "stream",
     "text": [
      "2020-12-15 15:10:56,045 - stpipe - WARNING - /Users/skendrew/anaconda3/envs/jwst0.16.2/lib/python3.8/site-packages/ipykernel/ipkernel.py:287: DeprecationWarning: `should_run_async` will not call `transform_cell` automatically in the future. Please pass the result to `transformed_cell` argument and any exception that happen during thetransform in `preprocessing_exc_tuple` in IPython 7.17 and above.\n",
      "  and should_run_async(code)\n",
      "\n",
      "2020-12-15 15:10:56,100 - stpipe - WARNING - <ipython-input-190-3b7f39796113>:17: UserWarning: Matplotlib is currently using module://ipykernel.pylab.backend_inline, which is a non-GUI backend, so cannot show the figure.\n",
      "  fig.show()\n",
      "\n"
     ]
    },
    {
     "data": {
      "image/png": "[encoded data removed]",
      "text/plain": [
       "<Figure size 1008x360 with 3 Axes>"
      ]
     },
     "metadata": {
      "needs_background": "light"
     },
     "output_type": "display_data"
    }
   ],
   "source": [
    "fig, ax = plt.subplots(ncols=3, nrows=1, figsize=[14,5])\n",
    "ax[0].imshow(photom_sub, origin='lower', interpolation='None')\n",
    "ax[1].plot(lam_vec, xsub_cal, 'b-', label='manual extraction')\n",
    "ax[1].plot(xsub_pipe.spec[0].spec_table['WAVELENGTH'], xsub_pipe.spec[0].spec_table['FLUX'], 'g-', label='pipeline extraction')\n",
    "ax[1].set_title('Nod1, Full BBox extraction')\n",
    "\n",
    "#interpolate the two onto the same grid so we can look at the difference\n",
    "f = interp1d(lam_vec, xsub_cal, fill_value='extrapolate')\n",
    "ixsub_cal = f(xsub_pipe.spec[0].spec_table['WAVELENGTH'])\n",
    "\n",
    "diff = ((xsub_pipe.spec[0].spec_table['FLUX'] - ixsub_cal) / xsub_pipe.spec[0].spec_table['FLUX']) * 100.\n",
    "\n",
    "ax[2].plot(xsub_pipe.spec[0].spec_table['WAVELENGTH'], diff, 'k-')\n",
    "ax[2].set_title('Difference manual - pipeline extracted spectra')\n",
    "ax[2].set_ylim([-20., 20.])\n",
    "\n",
    "fig.show()"
   ]
  },
  {
   "cell_type": "markdown",
   "metadata": {},
   "source": [
    "We check that the ratio between the 2 is on average <= 1 per cent in the core range between 5 and 10 micron."
   ]
  },
  {
   "cell_type": "code",
   "execution_count": 191,
   "metadata": {},
   "outputs": [
    {
     "name": "stderr",
     "output_type": "stream",
     "text": [
      "2020-12-15 15:11:10,556 - stpipe - WARNING - /Users/skendrew/anaconda3/envs/jwst0.16.2/lib/python3.8/site-packages/ipykernel/ipkernel.py:287: DeprecationWarning: `should_run_async` will not call `transform_cell` automatically in the future. Please pass the result to `transformed_cell` argument and any exception that happen during thetransform in `preprocessing_exc_tuple` in IPython 7.17 and above.\n",
      "  and should_run_async(code)\n",
      "\n"
     ]
    }
   ],
   "source": [
    "inds = (xsub_pipe.spec[0].spec_table['WAVELENGTH'] >= 5.0) & (xsub_pipe.spec[0].spec_table['WAVELENGTH'] <= 10.)\n",
    "assert np.mean(diff[inds]) <= 1.0, \"Mean difference between pipeline and manual extraction >= 1 per cent in 5-10 um. CHECK.\""
   ]
  },
  {
   "cell_type": "markdown",
   "metadata": {},
   "source": [
    "------------------------------**END OF TEST PART 1**----------------------------------------------"
   ]
  },
  {
   "cell_type": "markdown",
   "metadata": {},
   "source": [
    "#### Test 2: Nodded observation, two exposures\n",
    "\n",
    "In this second test we use both nodded observations. In this scenarion, the nods are used as each other's background observations and we need to ensure that the extraction aperture is placed in the right position with a realistic aperture for both nods.\n",
    "\n",
    "We will re-run the first steps of the Spec2Pipeline, so that the nods are used as each other's backgrounds. Then we will run them both through the extract_1d() step with the default parameters, checking:\n",
    "* the location of the aperture\n",
    "* the extraction width\n",
    "\n"
   ]
  },
  {
   "cell_type": "code",
   "execution_count": 192,
   "metadata": {},
   "outputs": [
    {
     "name": "stderr",
     "output_type": "stream",
     "text": [
      "2020-12-15 15:32:51,994 - stpipe - WARNING - /Users/skendrew/anaconda3/envs/jwst0.16.2/lib/python3.8/site-packages/ipykernel/ipkernel.py:287: DeprecationWarning: `should_run_async` will not call `transform_cell` automatically in the future. Please pass the result to `transformed_cell` argument and any exception that happen during thetransform in `preprocessing_exc_tuple` in IPython 7.17 and above.\n",
      "  and should_run_async(code)\n",
      "\n"
     ]
    }
   ],
   "source": [
    "xsub_pipe?"
   ]
  },
  {
   "cell_type": "code",
   "execution_count": null,
   "metadata": {},
   "outputs": [],
   "source": []
  }
 ],
 "metadata": {
  "kernelspec": {
   "display_name": "Python 3",
   "language": "python",
   "name": "python3"
  },
  "language_info": {
   "codemirror_mode": {
    "name": "ipython",
    "version": 3
   },
   "file_extension": ".py",
   "mimetype": "text/x-python",
   "name": "python",
   "nbconvert_exporter": "python",
   "pygments_lexer": "ipython3",
   "version": "3.8.5"
  }
 },
 "nbformat": 4,
 "nbformat_minor": 4
}
