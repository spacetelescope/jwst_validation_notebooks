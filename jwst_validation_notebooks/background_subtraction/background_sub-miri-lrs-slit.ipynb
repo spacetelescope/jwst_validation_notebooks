{
 "cells": [
  {
   "cell_type": "markdown",
   "metadata": {},
   "source": [
    "<a id=\"title_ID\"></a>\n",
    "# JWST Pipeline Validation Testing Notebook\n",
    "\n",
    "# Background_subtract() for MIRI LRS SLIT\n",
    "<span style=\"color:red\"> **Instruments Affected**</span>: MIRI\n",
    "\n",
    "### Table of Contents\n",
    "<div style=\"text-align: left\"> \n",
    "\n",
    "<br> [Imports](#imports_ID) <br> [Introduction](#intro_ID) <br> [Get Documentaion String for Markdown Blocks](#markdown_from_docs) <br> [Loading Data](#data_ID) <br> [Run JWST Pipeline](#pipeline_ID) <br> [Create Figure or Print Output](#residual_ID) <br> [About This Notebook](#about_ID) <br>\n",
    "\n",
    "</div>"
   ]
  },
  {
   "cell_type": "markdown",
   "metadata": {},
   "source": [
    "<a id=\"imports_ID\"></a>\n",
    "# Imports\n",
    "List the library imports and why they are relevant to this notebook.\n",
    "\n",
    "\n",
    "* astropy.io for opening fits files\n",
    "* jwst.datamodels for building model for JWST Pipeline\n",
    "* jwst.module.PipelineStep is the pipeline step being tested\n",
    "* matplotlib.pyplot.plt to generate plot\n",
    "* shutil, glob for basic OS operations\n",
    "\n",
    "* pysiaf for retrieving SIAF information\n",
    "* miricoord for coordinate transformations\n",
    "* ci_watson for retrieval from artifactory\n",
    "\n",
    "\n",
    "[Top of Page](#title_ID)"
   ]
  },
  {
   "cell_type": "code",
   "execution_count": null,
   "metadata": {},
   "outputs": [],
   "source": [
    "import astropy.io.fits as fits\n",
    "import matplotlib.pyplot as plt\n",
    "from matplotlib.patches import Rectangle\n",
    "import scipy.stats as stats\n",
    "import numpy as np\n",
    "from glob import glob\n",
    "import shutil\n",
    "import os\n",
    "import logging\n",
    "\n",
    "%matplotlib inline\n",
    "\n",
    "from jwst.pipeline import Spec2Pipeline, Detector1Pipeline\n",
    "from jwst.assign_wcs import AssignWcsStep\n",
    "from jwst.background import BackgroundStep\n",
    "from jwst import datamodels\n",
    "from jwst.datamodels import ImageModel\n",
    "import pysiaf\n",
    "import miricoord.imager.mirim_tools as mt\n",
    "\n",
    "\n",
    "from ci_watson.artifactory_helpers import get_bigdata\n",
    "\n",
    "\n"
   ]
  },
  {
   "cell_type": "markdown",
   "metadata": {},
   "source": [
    "<a id=\"intro_ID\"></a>\n",
    "# Introduction\n",
    "\n",
    "\n",
    "For this test we are using the background subtraction step for MIRI LRS slit data. For more information on the pipeline step visit the links below. \n",
    "\n",
    "Step description: https://jwst-pipeline.readthedocs.io/en/latest/jwst/background/description.html\n",
    "\n",
    "Pipeline code: https://github.com/spacetelescope/jwst/blob/master/jwst/background/\n",
    "\n",
    "\n",
    "\n",
    "### Defining Term\n",
    "Here is where you will define terms or acronymns that may not be known a general audience (ie a new employee to the institute or an external user). For example\n",
    "\n",
    "JWST: James Webb Space Telescope\n",
    "MIRI: Mid-Infrared Instrument\n",
    "LRS: Low Resolution Spectrometer\n",
    "\n",
    "\n",
    "[Top of Page](#title_ID)"
   ]
  },
  {
   "cell_type": "markdown",
   "metadata": {},
   "source": [
    "<a id=\"data_ID\"></a>\n",
    "# Loading Data and initial processing\n",
    "\n",
    "We are using here a simulated LRS slit observation, generated with MIRISim v2.3.0 (as of Dec 2020). It is a simple along-slit-nodded observation of a point source (the input was modelled on the flux calibrator BD+60). LRS slit observations cover the full array. \n",
    "\n",
    "[Top of Page](#title_ID)"
   ]
  },
  {
   "cell_type": "code",
   "execution_count": null,
   "metadata": {},
   "outputs": [],
   "source": [
    "Slitfile1 = get_bigdata('jwst_validation_notebooks',\n",
    "                                     'validation_data',\n",
    "                                     'calwebb_spec2',\n",
    "                                    'spec2_miri_test',\n",
    "                                    'miri_lrs_slit_pt_nod1_v2.3.fits')\n",
    " \n",
    "Slitfile2 = get_bigdata('jwst_validation_notebooks',\n",
    "                                     'validation_data',\n",
    "                                     'calwebb_spec2',\n",
    "                                    'spec2_miri_test',\n",
    "                                    'miri_lrs_slit_pt_nod2_v2.3.fits')\n",
    "\n",
    "files = [Slitfile1, Slitfile2]"
   ]
  },
  {
   "cell_type": "markdown",
   "metadata": {},
   "source": [
    "Collect configuration files locally if they aren't yet there."
   ]
  },
  {
   "cell_type": "code",
   "execution_count": null,
   "metadata": {},
   "outputs": [],
   "source": [
    "if not os.path.exists('../cfg_files/'):\n",
    "    os.mkdir('../cfg_files/')\n",
    "    cfgs = collect_pipeline_cfgs.collect_pipeline_cfgs(dst='../cfg_files/')"
   ]
  },
  {
   "cell_type": "markdown",
   "metadata": {},
   "source": [
    "Now run pipeline stage Detector1() and step Assignwcs() for initial processing, on both files."
   ]
  },
  {
   "cell_type": "code",
   "execution_count": null,
   "metadata": {},
   "outputs": [],
   "source": [
    "det1_out = []\n",
    "nods = []\n",
    "for ff in files:\n",
    "    det1 = Detector1Pipeline.call(ff, save_results=True, config_file='../cfg_files/calwebb_detector1.cfg')\n",
    "    if 'nod1' in ff:\n",
    "        nodno = 'nod1'\n",
    "    else:\n",
    "        nodno = 'nod2'\n",
    "    det1_out.append(det1)\n",
    "    nods.append(nodno)"
   ]
  },
  {
   "cell_type": "code",
   "execution_count": null,
   "metadata": {},
   "outputs": [],
   "source": [
    "awcs_out = []\n",
    "\n",
    "for dd in det1_out:\n",
    "    awcs = AssignWcsStep.call(dd, config_file='../cfg_files/assign_wcs.cfg', save_results=True)\n",
    "    awcs_out.append(awcs)"
   ]
  },
  {
   "cell_type": "code",
   "execution_count": null,
   "metadata": {},
   "outputs": [],
   "source": [
    "print(awcs_out)\n",
    "print(nods)"
   ]
  },
  {
   "cell_type": "code",
   "execution_count": null,
   "metadata": {},
   "outputs": [],
   "source": [
    "hdus = []\n",
    "sci_ims = []\n",
    "#nod_ims = ['nod 1', 'nod 2']\n",
    "reg_spec = {'nod1':{'row1': 280, 'row2': 310, 'col1': 310, 'col2': 340}, \n",
    "            'nod2': {'row1': 280, 'row2': 310, 'col1': 310, 'col2': 340}}\n",
    "reg_blank = {'nod1': {'row1': 250, 'row2': 270, 'col1': 250, 'col2': 270}, \n",
    "             'nod2': {'row1': 250, 'row2': 270, 'col1': 250, 'col2': 270}}\n",
    "\n",
    "\n",
    "fig, ax = plt.subplots(ncols=3, nrows=2, figsize=[12,10])\n",
    "\n",
    "for i,(aa, nn) in enumerate(zip(awcs_out, nods)):\n",
    "    im = aa.data\n",
    "    # PLOT THE TWO NODS: SPECTRUM AND BLANK REGION\n",
    "    #print(i, aa, nn)\n",
    "    \n",
    "    implt0 = ax[i,0].imshow(im[reg_spec[nn]['row1']:reg_spec[nn]['row2'], reg_spec[nn]['col1']:reg_spec[nn]['col2']], extent=[reg_spec[nn]['col1'], reg_spec[nn]['col2'], reg_spec[nn]['row1'], reg_spec[nn]['row2']],origin='lower', interpolation='None')\n",
    "    ax[i,0].set_xlabel('column')\n",
    "    ax[i,0].set_ylabel('row')\n",
    "    ax[i,0].set_title('{}: spectrum'.format(nn))\n",
    "    cbar = fig.colorbar(implt0, extend='both', shrink=0.9, ax=ax[i,0])\n",
    "    \n",
    "    implt1 = ax[i,1].imshow(im[reg_blank[nn]['row1']:reg_blank[nn]['row2'], reg_blank[nn]['col1']:reg_blank[nn]['col2']], extent=[reg_blank[nn]['col1'], reg_blank[nn]['col2'], reg_blank[nn]['row1'], reg_blank[nn]['row2']],origin='lower', interpolation='None')\n",
    "    ax[i,1].set_xlabel('column')\n",
    "    ax[i,1].set_ylabel('row')\n",
    "    ax[i,1].set_title('{}: blank'.format(nn))\n",
    "    cbar = fig.colorbar(implt1, extend='both', shrink=0.9, ax=ax[i,1])\n",
    "    \n",
    "    hbins = np.linspace(-3., +3., 19)\n",
    "    implt2 = ax[i,2].hist(np.ravel(im[reg_blank[nn]['row1']:reg_blank[nn]['row2'], reg_blank[nn]['col1']:reg_blank[nn]['col2']]), bins=hbins, histtype='step', lw=2)\n",
    "    ax[i,2].set_xlabel('background DN/s')\n",
    "    ax[i,2].set_ylabel('pixels')\n",
    "    ax[i,2].grid()\n",
    "    \n",
    "    fig.tight_layout()\n",
    "    \n",
    "\n"
   ]
  },
  {
   "cell_type": "markdown",
   "metadata": {},
   "source": [
    "## Manual subtraction check\n",
    "\n",
    "Let's subtract nod 2 from nod 1, and vice versa, to act as comparison data for the pipeline step."
   ]
  },
  {
   "cell_type": "code",
   "execution_count": null,
   "metadata": {},
   "outputs": [],
   "source": [
    "subcomp = []\n",
    "fig, ax = plt.subplots(nrows=1, ncols=2, figsize=[10,4])\n",
    "\n",
    "for i, aa in enumerate(awcs_out):\n",
    "    if (i==0):\n",
    "        bgr = awcs_out[1]\n",
    "    else:\n",
    "        bgr = awcs_out[0]\n",
    "    \n",
    "    sub = aa.data - bgr.data\n",
    "    subcomp.append(sub)\n",
    "    ax[i].imshow(sub[200:400, 200:400], origin='lower', interpolation='None')\n",
    "    ax[i].set_title('{}'.format(nods[i]))\n",
    "    \n",
    "\n",
    "\n",
    "            "
   ]
  },
  {
   "cell_type": "markdown",
   "metadata": {},
   "source": [
    "## Pipeline step: BackgroundStep.call()\n",
    "\n",
    "Now we run the background subtraction step. Nod 2 is the background for Nod 1, and vice versa. So we should end up with 2 outputs, each with a positive and negative spectral trace, and the background subtracted. \n",
    "\n",
    "This is the first method we try, using BackgroundStep.call(). This takes the following input:\n",
    "- science file\n",
    "- background file, or list of background files\n",
    "\n",
    "i.e. this does _not_ take an association as input. We do the following in this next step:\n",
    "\n",
    "* create an instance of the step\n",
    "* set the output directory\n",
    "* set up the logger to create an output logfile\n",
    "* call the step, and save the output to the output directory"
   ]
  },
  {
   "cell_type": "code",
   "execution_count": null,
   "metadata": {},
   "outputs": [],
   "source": [
    "bgrstep = BackgroundStep()\n",
    "subims = []\n",
    "outdir = './point_slit_2dither/output_files/'\n",
    "\n",
    "for i, aa in enumerate(awcs_out):\n",
    "    print(f)\n",
    "\n",
    "    if (i==0):\n",
    "        bgr = awcs_out[1]\n",
    "    elif (i==1):\n",
    "        bgr = awcs_out[0]\n",
    "    subim = bgrstep.call(aa, [bgr], save_results=True, config_file='../cfg_files/background.cfg')\n",
    "    subims.append(subim)"
   ]
  },
  {
   "cell_type": "markdown",
   "metadata": {},
   "source": [
    "Compare the output against the manual check."
   ]
  },
  {
   "cell_type": "code",
   "execution_count": null,
   "metadata": {},
   "outputs": [],
   "source": [
    "fig, _ax = plt.subplots(ncols=3, nrows=2, figsize=[8,6])\n",
    "ax = _ax.flatten()\n",
    "\n",
    "reg = [200, 400]\n",
    "\n",
    "for i, (pp, cc) in enumerate(zip(subims, subcomp)):\n",
    "    j = i*3\n",
    "    ax[j].imshow(pp.data[reg[0]:reg[1], reg[0]:reg[1]], origin='lower', interpolation='None', extent=[reg[0], reg[1], reg[0], reg[1]])\n",
    "    ax[j].set_title('Pipeline subtracted')\n",
    "    ax[j].set_xlabel('px')\n",
    "    ax[j].set_ylabel('px')\n",
    "    ax[j+1].imshow(cc[reg[0]:reg[1], reg[0]:reg[1]], origin='lower', interpolation='None', extent=[reg[0], reg[1], reg[0], reg[1]])\n",
    "    ax[j+1].set_title('Manual subtracted')\n",
    "    ax[j+1].set_xlabel('px')\n",
    "    ax[j+1].set_ylabel('px')\n",
    "    ax[j+2].imshow(pp.data[reg[0]:reg[1], reg[0]:reg[1]]-cc[reg[0]:reg[1], reg[0]:reg[1]], origin='lower', interpolation='None', extent=[reg[0], reg[1], reg[0], reg[1]])\n",
    "    ax[j+2].set_title('Pipeline - Manual')\n",
    "    ax[j+2].set_xlabel('px')\n",
    "    ax[j+2].set_ylabel('px')\n",
    "    \n",
    "    \n",
    "    fig.tight_layout()"
   ]
  },
  {
   "cell_type": "markdown",
   "metadata": {},
   "source": [
    "Compare histograms of the blank regions of science frames and subtracted frames. The two subtarcted histograms should be the same and centred close(r) to zero than the background regions in the science frames."
   ]
  },
  {
   "cell_type": "code",
   "execution_count": null,
   "metadata": {},
   "outputs": [],
   "source": [
    "fig, _ax = plt.subplots(nrows=1, ncols=2, figsize=[10,4])\n",
    "ax = _ax.flatten()\n",
    "\n",
    "presub_mean = np.zeros(2, dtype=float)\n",
    "sub_mean = np.zeros_like(presub_mean)\n",
    "sub_mean_man = np.zeros_like(presub_mean)\n",
    "\n",
    "\n",
    "for i, (aa, nn) in enumerate(zip(awcs_out, nods)):\n",
    "    if '1' in nn:\n",
    "        lab = 'nod1'\n",
    "        cc = 'g'\n",
    "    else:\n",
    "        lab = 'nod2'\n",
    "        cc = 'b'\n",
    "    ax[0].hist(np.ravel(aa.data[reg_blank[lab]['row1']:reg_blank[lab]['row2'], reg_blank[lab]['col1']:reg_blank[lab]['col2']]), bins=hbins, histtype='step', lw=2, color=cc, label=lab)\n",
    "    ax[0].legend(prop={'size': 10})\n",
    "    ax[0].set_title('Blank regions of sci frames, pre-bgrsub')\n",
    "    ax[0].set_xlabel('DN/s')\n",
    "    ax[0].set_ylabel('pixels')\n",
    "    ax[0].grid(True)\n",
    "    \n",
    "    print('MEAN VALUE OF BLANK SKY REGION BEFORE SUBTRACTION, {0} = {1:.4f}'.format(lab, np.mean(aa.data[reg_blank[lab]['row1']:reg_blank[lab]['row2'], reg_blank[lab]['col1']:reg_blank[lab]['col2']])))\n",
    "    \n",
    "    presub_mean[i] = np.mean(aa.data[reg_blank[lab]['row1']:reg_blank[lab]['row2'], reg_blank[lab]['col1']:reg_blank[lab]['col2']])\n",
    "    \n",
    "    \n",
    "\n",
    "\n",
    "\n",
    "for pp, cc in zip(subims, subcomp):\n",
    "    if 'seq1' in pp.meta.filename:\n",
    "        lab = 'nod1'\n",
    "        col ='g'\n",
    "    else:\n",
    "        lab = 'nod2'\n",
    "        col = 'b'\n",
    "    ax[1].hist(np.ravel(pp.data[reg_blank[lab]['row1']:reg_blank[lab]['row2'], reg_blank[lab]['col1']:reg_blank[lab]['col2']]), bins=hbins, histtype='step', lw=2, color=col, ls = '-', label=lab+' pipe')\n",
    "    ax[1].hist(np.ravel(cc[reg_blank[lab]['row1']:reg_blank[lab]['row2'], reg_blank[lab]['col1']:reg_blank[lab]['col2']]), bins=hbins, histtype='step', lw=2, color=col, ls = '--', label=lab+' manual')\n",
    "    ax[1].legend(prop={'size': 10})\n",
    "    ax[1].set_title('Blank regions, subtracted')\n",
    "    ax[1].set_xlabel('DN/s')\n",
    "    ax[1].set_ylabel('pixels')\n",
    "    ax[1].grid(True)\n",
    "    \n",
    "    print('MEAN VALUE OF BLANK SKY REGION AFTER SUBTRACTION, PIPELINE SUBTRACTION, {0} = {1:.4f}'.format(lab, np.mean(pp.data[reg_blank[lab]['row1']:reg_blank[lab]['row2'], reg_blank[lab]['col1']:reg_blank[lab]['col2']])))\n",
    "    print('MEAN VALUE OF BLANK SKY REGION AFTER SUBTRACTION, MANUAL SUBTRACTION, {0} = {1:.4f}'.format(lab, np.mean(cc[reg_blank[lab]['row1']:reg_blank[lab]['row2'], reg_blank[lab]['col1']:reg_blank[lab]['col2']])))\n",
    "    \n",
    "    sub_mean[i] = np.mean(pp.data[reg_blank[lab]['row1']:reg_blank[lab]['row2'], reg_blank[lab]['col1']:reg_blank[lab]['col2']])\n",
    "    sub_mean_man[i] = np.mean(cc[reg_blank[lab]['row1']:reg_blank[lab]['row2'], reg_blank[lab]['col1']:reg_blank[lab]['col2']])\n",
    "\n"
   ]
  },
  {
   "cell_type": "markdown",
   "metadata": {},
   "source": [
    "Now run the following checks:\n",
    "* pipeline subtracted and manual check version should be almost identical\n",
    "* the pipeline subtracted version should have a mean that is closer to zero than the pre-subtracted version (in absolute value)\n",
    "\n",
    "If these assert statements PASS and plots back the findings up, the test is successful.\n"
   ]
  },
  {
   "cell_type": "code",
   "execution_count": null,
   "metadata": {},
   "outputs": [],
   "source": [
    "assert np.allclose(sub_mean, sub_mean_man), \"Pipeline subtraction and manual check don't appear to match\"\n",
    "assert np.abs(presub_mean[0]) > np.abs(sub_mean[0]), \"Post-background subtraction values appear to be higher than pre-subtraction; this is unexpected.\"\n",
    "assert np.abs(presub_mean[1]) > np.abs(sub_mean[1]), \"Post-background subtraction values appear to be higher than pre-subtraction; this is unexpected.\""
   ]
  },
  {
   "cell_type": "markdown",
   "metadata": {},
   "source": [
    "### END\n",
    "\n",
    "Authors: K. Murray (kmurray@stsci.edu), S. Kendrew (sarah.kendrew@esa.int) -- MIRI branch"
   ]
  },
  {
   "cell_type": "code",
   "execution_count": null,
   "metadata": {},
   "outputs": [],
   "source": []
  }
 ],
 "metadata": {
  "kernelspec": {
   "display_name": "Python 3",
   "language": "python",
   "name": "python3"
  },
  "language_info": {
   "codemirror_mode": {
    "name": "ipython",
    "version": 3
   },
   "file_extension": ".py",
   "mimetype": "text/x-python",
   "name": "python",
   "nbconvert_exporter": "python",
   "pygments_lexer": "ipython3",
   "version": "3.8.5"
  }
 },
 "nbformat": 4,
 "nbformat_minor": 2
}
