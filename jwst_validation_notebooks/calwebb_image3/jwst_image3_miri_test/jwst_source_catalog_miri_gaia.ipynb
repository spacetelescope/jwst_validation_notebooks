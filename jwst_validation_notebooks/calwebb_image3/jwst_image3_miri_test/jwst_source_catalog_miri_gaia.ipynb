{
 "cells": [
  {
   "cell_type": "markdown",
   "id": "b870882d",
   "metadata": {},
   "source": [
    "<a id=\"title_ID\"></a>\n",
    "# JWST Pipeline Validation Notebook: calwebb_image3 astrometry: tweakreg and source_catalog with MIRI using Gaia\n",
    "\n",
    "<span style=\"color:red\"> **Instruments Affected**</span>: MIRI, NIRCam \n",
    "\n",
    "\n",
    "Tested on MIRI Commissioning data\n",
    "\n",
    "### Table of Contents\n",
    "<div style=\"text-align: left\"> \n",
    "\n",
    "<br>  [Introduction](#intro_ID) <br> [Test Description](#Test_descrip) <br> [Run Pipeline](#pipeline_ID) <br> [Check Results](#output_ID) <br> [About This Notebook](#about_ID) <br>\n",
    "\n",
    "\n",
    "</div>"
   ]
  },
  {
   "cell_type": "markdown",
   "id": "bd078feb",
   "metadata": {},
   "source": [
    "<a id=\"intro_ID\"></a>\n",
    "\n",
    "## Introduction\n",
    "\n",
    "This notebook processes a set of images through calwebb_detector1, calwebb_image2 and calwebb_image3 and examines the output table of the source_catalog step along with comparisons to Gaia (aligning the data to Gaia in tweakreg).\n",
    "\n",
    "This test uses MIRI F770W Imager data of a crowded star field in the LMC. The data is from Commissioning program 1040. Longer wavelength data using F1280W filter from the same program are also compared to Gaia and the F770W data. \n",
    "\n",
    "The pipeline documentation can be found here: https://jwst-pipeline.readthedocs.io/en/latest/jwst/source_catalog/main.html\n",
    "\n",
    "The pipeline code is available on GitHub: https://github.com/spacetelescope/jwst"
   ]
  },
  {
   "cell_type": "markdown",
   "id": "482f6da9",
   "metadata": {},
   "source": [
    "<a id=\"Test_descrip\"></a>\n",
    "## Test description\n",
    "\n",
    "\n",
    "The steps of this test are as follow:\n",
    "\n",
    "For each filter,\n",
    "\n",
    "1) Set up data path and directory and image files name.\n",
    "\n",
    "2) Run output of calwebb_detector1 through calwebb_image2.\n",
    "\n",
    "3) Run output of calwebb_image2 through calwebb_image3. Use Align_to_Gaia in image3.\n",
    "\n",
    "4) Read in output table of source_catalog step and print ecsv table for pipeline output and gaia catalog.\n",
    "\n",
    "5) Display image and overplot detector sources from ecsv table, comparing pipeline and gaia catalogs.\n",
    "\n",
    "6) Look at plots of total flux in Jy and AB mag.\n",
    "\n",
    "7) Look for matches between expected source positions (RA and Dec) from Gaia catalog to output from source_catalog.\n",
    "\n",
    "8) Examine how far apart any matched sources are between Gaia and source catalog.\n",
    "\n",
    "9) Compare magnitudes and magnitude differences between the different filters and output found sources.\n"
   ]
  },
  {
   "cell_type": "markdown",
   "id": "aa4f726d",
   "metadata": {},
   "source": [
    "### Create a temporary directory for all of the test data"
   ]
  },
  {
   "cell_type": "code",
   "execution_count": null,
   "id": "6cc5d0e3",
   "metadata": {},
   "outputs": [],
   "source": [
    "# Create a temporary directory to hold notebook output, and change the working directory to that directory.\n",
    "from tempfile import TemporaryDirectory\n",
    "import os\n",
    "data_dir = TemporaryDirectory()\n",
    "os.chdir(data_dir.name)\n",
    "\n",
    "# For info, print out where the script is running\n",
    "print(\"Running in {}\".format(os.getcwd()))"
   ]
  },
  {
   "cell_type": "code",
   "execution_count": null,
   "id": "01be1076",
   "metadata": {},
   "outputs": [],
   "source": [
    "import os\n",
    "if 'CRDS_CACHE_TYPE' in os.environ:\n",
    "    if os.environ['CRDS_CACHE_TYPE'] == 'local':\n",
    "        os.environ['CRDS_PATH'] = os.path.join(os.environ['HOME'], 'crds', 'cache')\n",
    "    elif os.path.isdir(os.environ['CRDS_CACHE_TYPE']):\n",
    "        os.environ['CRDS_PATH'] = os.environ['CRDS_CACHE_TYPE']\n",
    "print('CRDS cache location: {}'.format(os.environ['CRDS_PATH']))"
   ]
  },
  {
   "cell_type": "markdown",
   "id": "04919f1b",
   "metadata": {},
   "source": [
    "### Set up import statements"
   ]
  },
  {
   "cell_type": "code",
   "execution_count": null,
   "id": "6fbfb9cb",
   "metadata": {},
   "outputs": [],
   "source": [
    "#import pytest\n",
    "import numpy as np\n",
    "from glob import glob\n",
    "import json\n",
    "import matplotlib.pyplot as plt\n",
    "import photutils\n",
    "import math\n",
    "\n",
    "from astropy.io import fits, ascii\n",
    "from astropy.coordinates import Angle\n",
    "from astropy.table import Table, vstack, unique, join\n",
    "from astropy import table\n",
    "from astropy.coordinates import SkyCoord, match_coordinates_sky\n",
    "from astropy.visualization import simple_norm\n",
    "from astropy import units as u\n",
    "from astropy.modeling import models\n",
    "from astropy.wcs import WCS\n",
    "\n",
    "# Box download imports \n",
    "from astropy.utils.data import download_file\n",
    "from pathlib import Path\n",
    "from shutil import move\n",
    "from os.path import splitext\n",
    "\n",
    "import jwst\n",
    "from jwst import datamodels\n",
    "from jwst.datamodels import RampModel, ImageModel\n",
    "\n",
    "from jwst import associations\n",
    "from jwst.associations import asn_from_list\n",
    "from jwst.associations.lib.rules_level3_base import DMS_Level3_Base\n",
    "\n",
    "from jwst.pipeline import calwebb_image3\n",
    "from jwst.pipeline import calwebb_image2\n",
    "from jwst.pipeline import calwebb_detector1\n",
    "from jwst.pipeline import Detector1Pipeline, Image2Pipeline, Image3Pipeline"
   ]
  },
  {
   "cell_type": "markdown",
   "id": "3ec33a1e",
   "metadata": {},
   "source": [
    "### Print pipeline version"
   ]
  },
  {
   "cell_type": "code",
   "execution_count": null,
   "id": "cb495151",
   "metadata": {},
   "outputs": [],
   "source": [
    "print(jwst.__version__) \n",
    "print(data_dir)"
   ]
  },
  {
   "cell_type": "markdown",
   "id": "9dcb56a6",
   "metadata": {},
   "source": [
    "### Read in data"
   ]
  },
  {
   "cell_type": "code",
   "execution_count": null,
   "id": "33220082",
   "metadata": {},
   "outputs": [],
   "source": [
    "# Read in dataset from Box\n",
    "\n",
    "def get_box_files(file_list):\n",
    "    for box_url,file_name in file_list:\n",
    "        if 'https' not in box_url:\n",
    "            box_url = 'https://stsci.box.com/shared/static/' + box_url\n",
    "        downloaded_file = download_file(box_url, timeout=600)\n",
    "        if Path(file_name).suffix == '':\n",
    "            ext = splitext(box_url)[1]\n",
    "            file_name += ext\n",
    "        move(downloaded_file, file_name)\n",
    " \n",
    "# F770W data of PID 1040 (LMC), taken in May 2022   \n",
    "file_urls = ['https://stsci.box.com/shared/static/yk2kfwxr1dv7mcc84zvi02t7mq8e5wc7.fits',\n",
    "             'https://stsci.box.com/shared/static/icedk709owq6op5mttv4y8k0bce58wu7.fits',\n",
    "             'https://stsci.box.com/shared/static/kq4h4pb95yse3k1ryb0d1vcs69ay4679.fits',\n",
    "             'https://stsci.box.com/shared/static/z1wbjh0y3dzuh2i5heejo0sehwqu2p2w.fits',\n",
    "             'https://stsci.box.com/shared/static/q01wh0evq7w7klqy566cbm1qlpuys7h7.fits',\n",
    "             'https://stsci.box.com/shared/static/gj558uxvarmcm807z7hv3h1nh7hscudc.fit'] \n",
    "\n",
    "file_names = ['jw01040001005_03103_00001_mirimage_uncal.fits',\n",
    "              'jw01040001005_03103_00002_mirimage_uncal.fits',\n",
    "              'jw01040001005_03103_00003_mirimage_uncal.fits',\n",
    "              'jw01040001005_03103_00004_mirimage_uncal.fits',\n",
    "              'jw01040001005_03103_00005_mirimage_uncal.fits',\n",
    "              'Gaia_pid_1040.fit']"
   ]
  },
  {
   "cell_type": "code",
   "execution_count": null,
   "id": "283f3ff3",
   "metadata": {},
   "outputs": [],
   "source": [
    "box_download_list = [(url,name) for url,name in zip(file_urls,file_names)]\n",
    "\n",
    "\n",
    "get_box_files(box_download_list)"
   ]
  },
  {
   "cell_type": "code",
   "execution_count": null,
   "id": "92a318b9",
   "metadata": {},
   "outputs": [],
   "source": [
    "uncalfiles = file_names[0:-1]\n",
    "\n",
    "full_gaia_cat = file_names[-1]\n",
    "\n",
    "print('Filenames of uncal files')\n",
    "print(uncalfiles)\n",
    "print()\n",
    "print('Gaia catalog name: ', full_gaia_cat)"
   ]
  },
  {
   "cell_type": "markdown",
   "id": "02a7571b",
   "metadata": {},
   "source": [
    "<a id=\"pipeline_ID\"></a>\n",
    "### Run Pipelines \n",
    "\n",
    "Run uncal files through calwebb_detector1, then the rate files through calwebb_image2."
   ]
  },
  {
   "cell_type": "code",
   "execution_count": null,
   "id": "8c016bbd",
   "metadata": {},
   "outputs": [],
   "source": [
    "# Run Calwebb_detector1 on uncal.fits files\n",
    "#uncalfiles = glob('*uncal.fits')    \n",
    "    \n",
    "print('There are ', len(uncalfiles), ' images.')\n",
    "        \n",
    "slopelist = []    \n",
    "    \n",
    "# loop over list of files\n",
    "for file in uncalfiles:\n",
    "\n",
    "    # Run pipeline on each file\n",
    "    rampfile = Detector1Pipeline.call(file, save_results=True)\n",
    "    \n",
    "    # set up output file name\n",
    "    base, remainder = file.split('.')\n",
    "    outname = base\n",
    "    \n",
    "    slopelist.append(base+'rate.fits')\n",
    "\n",
    "print('Detector 1 steps completed on all files.')\n",
    "print(slopelist)   \n",
    "    "
   ]
  },
  {
   "cell_type": "code",
   "execution_count": null,
   "id": "010de1e6",
   "metadata": {},
   "outputs": [],
   "source": [
    "# Run Calwebb_image2 on output files from detector1\n",
    "ratefiles = glob('*rate.fits')    \n",
    "    \n",
    "print('There are ', len(ratefiles), ' images.')\n",
    "    \n",
    "callist = []\n",
    "\n",
    "# cycle through files\n",
    "for im in ratefiles:\n",
    "\n",
    "    calfile = Image2Pipeline.call(im, save_results=True)\n",
    "\n",
    "    callist.append(calfile)\n",
    "\n",
    "print(callist)"
   ]
  },
  {
   "cell_type": "markdown",
   "id": "60d2bc86",
   "metadata": {},
   "source": [
    "### Create association file to run through Calwebb_image3"
   ]
  },
  {
   "cell_type": "code",
   "execution_count": null,
   "id": "7ffbec61",
   "metadata": {},
   "outputs": [],
   "source": [
    "# use asn_from_list to create association table\n",
    "\n",
    "calfiles = glob('*_cal.fits')\n",
    "asn = asn_from_list.asn_from_list(calfiles, rule=DMS_Level3_Base, product_name='starfield_combined.fits')\n",
    "\n",
    "# dump association table to a .json file for use in image3\n",
    "with open('starfield_asnfile.json', 'w') as fp:\n",
    "    fp.write(asn.dump()[1])\n",
    "\n",
    "print(asn) "
   ]
  },
  {
   "cell_type": "markdown",
   "id": "d4f37a2c",
   "metadata": {},
   "source": [
    "### Run Calwebb_Image3 pipeline\n",
    "For MIRI, the FWHM values are dependent on filter and should be set using the table below:\n",
    "\n",
    "|Filter | FWHM  |\n",
    "|-------| -------|\n",
    "|F560W      |     1.636\t\t|\t\n",
    "|F770W      |     2.187\t\t|\n",
    "|F1000W     |     2.888\t\t|\n",
    "|F1130W     |     3.318\t\t|\n",
    "|F1280W     |     3.713\t\t|\n",
    "|F1500W     |     4.354\t\t|\n",
    "|F1800W     |     5.224\t\t|\n",
    "|F2100W     |     5.989\t\t|\n",
    "|F2550W     |     7.312\t\t|\n",
    "|F2550WR    |     7.312\t    | \n",
    "\n",
    "For the fit geometry keyword, the following options are available:\n",
    "fitgeometry: A str value indicating the type of affine transformation to be considered when fitting catalogs. Allowed values:\n",
    "\n",
    "  *  'shift': x/y shifts only\n",
    "\n",
    "  *  'rscale': rotation and scale\n",
    "\n",
    "  *  'rshift': rotation and shifts\n",
    "\n",
    "  *  'general': shift, rotation, and scale (Default=”general”)"
   ]
  },
  {
   "cell_type": "code",
   "execution_count": null,
   "id": "c1146883",
   "metadata": {},
   "outputs": [],
   "source": [
    "# Run Calwebb_image3 on the association table\n",
    "    \n",
    "# set any specific parameters\n",
    "\n",
    "# Set tweakreg parameters:\n",
    "\n",
    "# tweakreg parameters to allow data to run\n",
    "fwhm = 2.187  # Gaussian kernel FWHM of objects expected, default=2.5\n",
    "snr = 5 # signal to noise threshold, default=5 \n",
    "sigma = 1.5 # clipping limit, in sigma units, used when performing fit, default=3\n",
    "minobj = 5 # number of objects needed to match\n",
    "fit_geom ='shift' # ftype of affine transformation to be considered when fitting catalogs, default='general'\n",
    "search_radius = 1.0 # radius in arcseconds to search for a match\n",
    "tol = 0.7  # Matching tolerance for xyxymatch in arcsec. (Default=1.0)\n",
    "use2dhist = True  # boolean indicating whether to use 2D histogram to find initial offset, default=True\n",
    "gaia = True\n",
    "gaia_ver = 'GAIADR2'\n",
    "min_gaia = 3\n",
    "save_gaia = True\n",
    "deblend = False\n",
    "npixels = 5\n",
    "   \n",
    "pipe3=Image3Pipeline()    \n",
    "pipe3.tweakreg.kernel_fwhm = fwhm\n",
    "pipe3.tweakreg.snr_threshold = snr\n",
    "pipe3.tweakreg.minobj = minobj\n",
    "pipe3.tweakreg.sigma = sigma\n",
    "pipe3.tweakreg.fitgeometry = fit_geom\n",
    "pipe3.tweakreg.use2dhist = use2dhist\n",
    "pipe3.tweakreg.save_catalogs = True\n",
    "pipe3.tweakreg.searchrad = search_radius\n",
    "pipe3.tweakreg.tolerance = tol\n",
    "pipe3.tweakreg.align_to_gaia = gaia\n",
    "pipe3.tweakreg.abs_refcat = gaia_ver\n",
    "pipe3.tweakreg.abs_minobj = min_gaia\n",
    "pipe3.tweakreg.save_abs_catalog = save_gaia\n",
    "\n",
    "pipe3.source_catalog.save_results = True\n",
    "pipe3.source_catalog.snr_threshold = snr\n",
    "pipe3.source_catalog.kernel_fwhm = fwhm\n",
    "pipe3.source_catalog.deblend = deblend\n",
    "pipe3.source_catalog.npixels = npixels\n",
    "pipe3.save_results = True\n",
    "\n",
    "# run Image3\n",
    "\n",
    "image = pipe3.run('starfield_asnfile.json')\n",
    "print('Image 3 pipeline finished.')"
   ]
  },
  {
   "cell_type": "markdown",
   "id": "f289eec1",
   "metadata": {},
   "source": [
    "<a id=\"output_ID\"></a>\n",
    "## Results\n",
    "Read in the output of the pipeline and check your results.\n",
    "\n",
    "### Read in output table of source_catalog step and print ecsv table"
   ]
  },
  {
   "cell_type": "code",
   "execution_count": null,
   "id": "1ae40900",
   "metadata": {},
   "outputs": [],
   "source": [
    "photfile = 'starfield_combined_cat.ecsv'\n",
    "input_file = 'starfield_combined_i2d.fits'"
   ]
  },
  {
   "cell_type": "code",
   "execution_count": null,
   "id": "3f6493c0",
   "metadata": {},
   "outputs": [],
   "source": [
    "# Look at catalog table that shows all columns, but subset of rows\n",
    "# Pay attention to rows with a large number of nans, as this may indicate a spurious source\n",
    "cat_data = table.Table.read(photfile, format='ascii', comment='#')\n",
    "\n",
    "catalog = Table.read(photfile)\n",
    "miri_x = catalog['xcentroid']\n",
    "miri_y = catalog['ycentroid']\n",
    "catalog"
   ]
  },
  {
   "cell_type": "code",
   "execution_count": null,
   "id": "5f6fc15e",
   "metadata": {},
   "outputs": [],
   "source": [
    "# Look at output gaia catalog\n",
    "gaia_out = 'fit_gaiadr2_ref.ecsv'"
   ]
  },
  {
   "cell_type": "code",
   "execution_count": null,
   "id": "66876c18",
   "metadata": {},
   "outputs": [],
   "source": [
    "gaia_cat = table.Table.read(gaia_out, format='ascii', comment='#')\n",
    "gaia_cat"
   ]
  },
  {
   "cell_type": "markdown",
   "id": "44af6b15",
   "metadata": {},
   "source": [
    "### Display image and overplot detector sources from ecsv table "
   ]
  },
  {
   "cell_type": "code",
   "execution_count": null,
   "id": "b944e851",
   "metadata": {},
   "outputs": [],
   "source": [
    "# Read in i2d combined Image\n",
    "im_i2d = ImageModel(input_file)   "
   ]
  },
  {
   "cell_type": "code",
   "execution_count": null,
   "id": "82fac33b",
   "metadata": {},
   "outputs": [],
   "source": [
    "# read in ecsv photom file output from source catalog\n",
    "from astropy.visualization import LogStretch, PercentileInterval, ManualInterval\n",
    "from astropy import table\n",
    "\n",
    "#viz2 = LogStretch() + ManualInterval(0,10)\n",
    "\n",
    "plt.figure(figsize=(20,20))\n",
    "#plt.imshow(viz2(im_i2d.data), origin='lower')\n",
    "plt.imshow(im_i2d.data, origin='lower', cmap='rainbow', vmin=3, vmax=6)\n",
    "plt.colorbar()\n",
    "plt.scatter(miri_x, miri_y,lw=1, s=10,color='black')"
   ]
  },
  {
   "cell_type": "code",
   "execution_count": null,
   "id": "53cd3155",
   "metadata": {},
   "outputs": [],
   "source": [
    "# Get from RA and Dec in Gaia catalog to x and y positions on image\n",
    "\n",
    "world_to_detector = im_i2d.meta.wcs.get_transform('world', 'detector')\n",
    "xgaia,ygaia = world_to_detector(gaia_cat['RA'], gaia_cat['DEC'])"
   ]
  },
  {
   "cell_type": "code",
   "execution_count": null,
   "id": "62998b99",
   "metadata": {},
   "outputs": [],
   "source": [
    "# read in ecsv gaia photom file output from source catalog\n",
    "from astropy.visualization import LogStretch, PercentileInterval, ManualInterval\n",
    "from astropy import table\n",
    "\n",
    "#viz2 = LogStretch() + ManualInterval(0,10)\n",
    "\n",
    "plt.figure(figsize=(20,20))\n",
    "#plt.imshow(viz2(im_i2d.data), origin='lower')\n",
    "plt.imshow(im_i2d.data, origin='lower', cmap='rainbow', vmin=0, vmax=7)\n",
    "plt.colorbar()\n",
    "plt.scatter(xgaia, ygaia,lw=1, s=10,color='black')"
   ]
  },
  {
   "cell_type": "markdown",
   "id": "79e7a096",
   "metadata": {},
   "source": [
    "### Double-check pipeline Gaia catalog against catalog from Vizier (Gaia DR2)"
   ]
  },
  {
   "cell_type": "code",
   "execution_count": null,
   "id": "a9f5a84f",
   "metadata": {},
   "outputs": [],
   "source": [
    "# Read in Gaia catalog from Vizier\n",
    "\n",
    "gaia_hdu = fits.open(full_gaia_cat) #('gaia_tweakreg_test3.fit')\n",
    "gaia_data = gaia_hdu[1].data\n",
    "\n",
    "# Get RA and Dec of Gaia sources\n",
    "gaia_ra = gaia_data['RA_ICRS']\n",
    "gaia_dec = gaia_data['DE_ICRS']\n",
    "\n",
    "xgaia_full,ygaia_full = world_to_detector(gaia_ra, gaia_dec)\n",
    "\n",
    "gaia_hdu.close()"
   ]
  },
  {
   "cell_type": "code",
   "execution_count": null,
   "id": "b2bea9bc",
   "metadata": {},
   "outputs": [],
   "source": [
    "# read in ecsv gaia photom file output from source catalog\n",
    "from astropy.visualization import LogStretch, PercentileInterval, ManualInterval\n",
    "from astropy import table\n",
    "\n",
    "#viz2 = LogStretch() + ManualInterval(0,10)\n",
    "\n",
    "plt.figure(figsize=(20,20))\n",
    "#plt.imshow(viz2(im_i2d.data), origin='lower')\n",
    "plt.imshow(im_i2d.data, origin='lower', cmap='rainbow', vmin=0, vmax=7)\n",
    "plt.colorbar()\n",
    "plt.scatter(xgaia_full, ygaia_full,lw=1, s=10,color='black')"
   ]
  },
  {
   "cell_type": "markdown",
   "id": "d0279415",
   "metadata": {},
   "source": [
    "### Compare Source catalog positions to Gaia positions found by pipeline"
   ]
  },
  {
   "cell_type": "code",
   "execution_count": null,
   "id": "6f6b95ed",
   "metadata": {},
   "outputs": [],
   "source": [
    "# Many sources go beyond image edges. Only display sources that were actually in FOV of combined image.\n",
    "minval = 0\n",
    "maxval = 1200\n",
    "\n",
    "ind = np.where((xgaia > minval) & (xgaia < 1110)& (ygaia > minval) & (ygaia < maxval))"
   ]
  },
  {
   "cell_type": "code",
   "execution_count": null,
   "id": "e8b44549",
   "metadata": {},
   "outputs": [],
   "source": [
    "plt.figure(figsize=(20,20))\n",
    "#plt.imshow(viz2(im_i2d.data), origin='lower')\n",
    "plt.imshow(im_i2d.data, origin='lower', cmap='rainbow', vmin=0, vmax=7)\n",
    "plt.colorbar()\n",
    "plt.scatter(miri_x, miri_y,lw=1, s=10,color='black')\n",
    "plt.scatter(xgaia[ind], ygaia[ind],lw=1, s=5,color='white')"
   ]
  },
  {
   "cell_type": "code",
   "execution_count": null,
   "id": "f946361e",
   "metadata": {},
   "outputs": [],
   "source": [
    "# Show zoomed in region to see if stars look like point sources and aren't smeared out or doubled\n",
    "\n",
    "xmin = 700\n",
    "xmax = 900\n",
    "ymin = 500\n",
    "ymax = 700\n",
    "\n",
    "gaiazoom = np.where((xgaia > xmin) & (xgaia < xmax) & (ygaia > ymin) & (ygaia < ymax))\n",
    "print(gaiazoom)\n",
    "subx = xgaia[gaiazoom] - xmin\n",
    "suby = ygaia[gaiazoom] - ymin\n",
    "\n",
    "mirizoom = np.where((miri_x > xmin) & (miri_x < xmax) & (miri_y > ymin) & (miri_y < ymax))\n",
    "print(gaiazoom)\n",
    "subxmiri = miri_x[mirizoom] - xmin\n",
    "subymiri = miri_y[mirizoom] - ymin\n",
    "\n",
    "\n",
    "plt.figure(figsize=(20,20))\n",
    "#plt.imshow(viz2(im_i2d.data), origin='lower')\n",
    "plt.imshow(im_i2d.data[ymin:ymax,xmin:xmax], origin='lower', cmap='rainbow', vmin=0, vmax=7)\n",
    "\n",
    "plt.scatter(subx, suby,lw=1, s=10,color='white')\n",
    "plt.scatter(subxmiri, subymiri,lw=1, s=5,color='black')\n",
    "plt.colorbar()\n",
    "\n",
    "print('Gaia sources are marked in white, MIRI sources from the pipeline in black')"
   ]
  },
  {
   "cell_type": "code",
   "execution_count": null,
   "id": "90454e16",
   "metadata": {},
   "outputs": [],
   "source": [
    "# Calculate difference in position between catalog and Gaia positions. There is an offset here.\n",
    "\n",
    "tol = 1    # Do calculations in pixels\n",
    "found_count=0\n",
    "\n",
    "# Set up array for matches\n",
    "diffarr = np.array(len(xgaia))\n",
    "      \n",
    "deltax = []\n",
    "deltay = []\n",
    "xpos = []\n",
    "ypos = []\n",
    "\n",
    "print('         x             y           xdiff          ydiff    < 0.5 pix')\n",
    "for i in np.arange(0,len(xgaia)):\n",
    "    for j in np.arange(0,len(miri_x)):\n",
    "        x_diff = abs(xgaia[i] - miri_x[j])\n",
    "        y_diff = abs(ygaia[i] - miri_y[j])\n",
    "\n",
    "        if x_diff < tol and y_diff < tol:\n",
    "            deltax.append(xgaia[i] - miri_x[j])\n",
    "            deltay.append(ygaia[i] - miri_y[j])\n",
    "            xpos.append(miri_x[j])\n",
    "            ypos.append(miri_y[j])\n",
    "            found_count +=1\n",
    "\n",
    "            if (x_diff < 0.5) and (y_diff < 0.5): \n",
    "                test = 'pass' \n",
    "            else: \n",
    "                test = 'fail'\n",
    "            print('{:15.6f} {:15.6f} {:15.6f} {:15.6f} {}'.format(miri_x[j], miri_y[j], x_diff, y_diff, test))\n",
    "\n",
    "print()            \n",
    "print(found_count,' matches found')\n",
    "diffarr = np.zeros(found_count)\n",
    "for match in np.arange(0,found_count):            \n",
    "    diffarr[match] = math.sqrt((deltax[match]**2)+(deltay[match]**2))\n",
    "print()\n",
    "#print(diffarr)"
   ]
  },
  {
   "cell_type": "code",
   "execution_count": null,
   "id": "658cdc3f",
   "metadata": {},
   "outputs": [],
   "source": [
    "# Look at differences in position\n",
    "fig = plt.figure(figsize=(10, 10))\n",
    "ax = plt.subplot()\n",
    "\n",
    "ax.scatter(deltax, deltay)\n",
    "plt.title('position offset between catalog and Gaia pos')\n",
    "plt.xlabel('x difference in pixels')\n",
    "plt.ylabel('y difference in pixels')"
   ]
  },
  {
   "cell_type": "code",
   "execution_count": null,
   "id": "c78a0ae7",
   "metadata": {},
   "outputs": [],
   "source": [
    "# Look at differences in position\n",
    "fig = plt.figure(figsize=(10, 10))\n",
    "ax = plt.subplot()\n",
    "\n",
    "ax.scatter(xpos, diffarr)\n",
    "plt.title('position offset between catalog and Gaia pos')\n",
    "plt.xlabel('x position in pixels')\n",
    "plt.ylabel('magnitude of vector diff in pixels')"
   ]
  },
  {
   "cell_type": "code",
   "execution_count": null,
   "id": "48b9c30e",
   "metadata": {},
   "outputs": [],
   "source": [
    "# Look at differences in position\n",
    "fig = plt.figure(figsize=(10, 10))\n",
    "ax = plt.subplot()\n",
    "\n",
    "ax.scatter(ypos, diffarr)\n",
    "plt.title('position offset between catalog and Gaia pos')\n",
    "plt.xlabel('y position in pixels')\n",
    "plt.ylabel('magnitude of vector diff in pixels')"
   ]
  },
  {
   "cell_type": "markdown",
   "id": "335586fd",
   "metadata": {},
   "source": [
    "## Compare RA, Dec positions in catalogs "
   ]
  },
  {
   "cell_type": "code",
   "execution_count": null,
   "id": "1c32a604",
   "metadata": {},
   "outputs": [],
   "source": [
    "# Compare Gaia catalogs to see if the pipeline used the same dataset out of Vizier\n",
    "# set the tolerance for differences and initialize counters\n",
    "\n",
    "tol = 1.e-5    # Set tolerance around 30 mas (units here are in degrees; 36 mas ~ 1e-5 deg)\n",
    "found_count=0\n",
    "multiples_count=0\n",
    "missed_count=0\n",
    "\n",
    "# Set up array for matches\n",
    "detected = np.chararray(len(gaia_ra))\n",
    "#print(np.shape(detected))\n",
    "\n",
    "for ra,dec,idx in zip(gaia_ra, gaia_dec,range(len(gaia_ra))):\n",
    "\n",
    "    match = np.where((np.abs(gaia_cat['RA']-ra) < tol) & (np.abs(gaia_cat['DEC']-dec) < tol))\n",
    "    #print('match', match)\n",
    "    \n",
    "    if np.size(match) == 1: \n",
    "        found_count +=1 \n",
    "        detected[idx] = 'Y'\n",
    "\n",
    "    if np.size(match) > 1:  \n",
    "        multiples_count +=1       \n",
    "        \n",
    "    if np.size(match) < 1:\n",
    "        missed_count +=1"
   ]
  },
  {
   "cell_type": "code",
   "execution_count": null,
   "id": "e4e763d3",
   "metadata": {},
   "outputs": [],
   "source": [
    "\n",
    "total_percent_found = (found_count/len(gaia_ra))*100\n",
    "\n",
    "print('\\n')\n",
    "print('SNR threshold used for pipeline: ',pipe3.source_catalog.snr_threshold)\n",
    "print('Total matches found:',found_count)\n",
    "print('Total missed:',missed_count)\n",
    "print('Number of multiples: ',multiples_count)\n",
    "print('Total number of input (gaia) sources:',len(gaia_ra))\n",
    "print('Total number in output (gaia) catalog:',len(gaia_cat))\n",
    "print('Total percent found:',total_percent_found)\n",
    "print('\\n')\n",
    "\n",
    "if (found_count == len(gaia_cat)):\n",
    "    print('All gaia images output by pipeline match Gaia sources found from Vizier')"
   ]
  },
  {
   "cell_type": "markdown",
   "id": "201c9626",
   "metadata": {},
   "source": [
    "### Compare number of sources found by pipeline to number of gaia sources in pipeline output catalog"
   ]
  },
  {
   "cell_type": "code",
   "execution_count": null,
   "id": "e3820249",
   "metadata": {},
   "outputs": [],
   "source": [
    "# Get RA and Dec for sources found in output catalog by pipeline\n",
    "cat_ra = catalog['sky_centroid'].ra.deg\n",
    "for i in range(len(cat_ra)):\n",
    "    if (cat_ra[i]>180.):\n",
    "        cat_ra[i] -= 360.\n",
    "cat_dec = catalog['sky_centroid'].dec.deg\n",
    "\n",
    "#print(cat_ra)\n",
    "#print()\n",
    "#print(cat_dec)"
   ]
  },
  {
   "cell_type": "code",
   "execution_count": null,
   "id": "08bc5386",
   "metadata": {},
   "outputs": [],
   "source": [
    "# Look at position differences in RA and Dec rather than pixels\n",
    "\n",
    "allRAdiff_cal = []\n",
    "allDecdiff_cal = [] \n",
    "    \n",
    "# Get coordinates with SkyCoord for each catalog\n",
    "cat_miri = Table([cat_ra, cat_dec], names=('ra', 'dec'))\n",
    "cat_gaia = Table([gaia_cat['RA'], gaia_cat['DEC']], names=('ra', 'dec'))\n",
    "    \n",
    "coord_cat_gaia = SkyCoord(ra=cat_gaia['ra'], dec=cat_gaia['dec'], unit=\"deg\")\n",
    "coord_cat_miri = SkyCoord(ra=cat_miri['ra'], dec=cat_miri['dec'], unit=\"deg\")\n",
    "ind_catmiri_catgaia, dist_2d, _ = match_coordinates_sky(coord_cat_gaia, coord_cat_miri)\n",
    "    \n",
    "# Find where the catalogs match\n",
    "    \n",
    "cat1_matched = cat_gaia[dist_2d.arcsec<0.05]\n",
    "cat2_matched = cat_miri[ind_catmiri_catgaia[dist_2d.arcsec<0.05]]\n",
    "    \n",
    "#print(cat1_matched)\n",
    "    \n",
    "# Get differences in RA, Dec\n",
    "ra_diff = cat2_matched['ra'] - cat1_matched['ra']\n",
    "dec_diff = cat2_matched['dec'] - cat1_matched['dec'] \n",
    "    \n",
    "#print(ra_diff)\n",
    "    \n",
    "# put differences in milliarcseconds\n",
    "ra_diff = ra_diff * 3600000\n",
    "dec_diff = dec_diff * 3600000\n",
    "    \n",
    "    \n",
    "# Compare input RA, Dec to found RA, Dec\n",
    "print('RA_Diff (mas)  Dec_diff (mas) pass/fail')\n",
    "# Find if the differences are within the allowed 30 mas range\n",
    "for i in np.arange(0,len(ra_diff)):\n",
    "    #if ra_diff[i] < 30 and dec_diff[i] < 30:\n",
    "    allRAdiff_cal.append(ra_diff[i])\n",
    "    allDecdiff_cal.append(dec_diff[i])\n",
    "    if abs(ra_diff[i]) < 30 and abs(dec_diff[i]) < 30: \n",
    "        test = 'pass' \n",
    "    else: \n",
    "        test = 'fail'\n",
    "    print('{:15.6f} {:15.6f} {}'.format(ra_diff[i], dec_diff[i], test))\n",
    " \n",
    "    \n",
    "# Plot ra and dec differences\n",
    "plt.title ('Differences in RA and Dec in milliarcseconds')\n",
    "plt.ylabel('Delta RA (mas)')\n",
    "plt.xlabel('Delta Dec (mas)')\n",
    "plt.scatter(ra_diff,dec_diff)\n",
    "plt.show()"
   ]
  },
  {
   "cell_type": "code",
   "execution_count": null,
   "id": "96f7911d",
   "metadata": {},
   "outputs": [],
   "source": [
    "# Compare Gaia catalogs to see if the pipeline used the same dataset out of Vizier\n",
    "# set the tolerance for differences and initialize counters\n",
    "\n",
    "tol = 1.e-5    # Set tolerance around 30 mas (units here are in degrees; 36 mas ~ 1e-5 deg)\n",
    "found_count=0\n",
    "multiples_count=0\n",
    "missed_count=0\n",
    "\n",
    "# Set up array for matches\n",
    "detected = np.chararray(len(gaia_ra))\n",
    "#print(np.shape(detected))\n",
    "\n",
    "for ra,dec,idx in zip(gaia_cat['RA'], gaia_cat['DEC'],range(len(gaia_cat['RA']))):\n",
    "\n",
    "    match = np.where((np.abs(cat_ra-ra) < tol) & (np.abs(cat_dec-dec) < tol))\n",
    "    #print('match', match)\n",
    "    \n",
    "    if np.size(match) == 1: \n",
    "        found_count +=1 \n",
    "        detected[idx] = 'Y'\n",
    "\n",
    "    if np.size(match) > 1:  \n",
    "        multiples_count +=1       \n",
    "        \n",
    "    if np.size(match) < 1:\n",
    "        missed_count +=1"
   ]
  },
  {
   "cell_type": "code",
   "execution_count": null,
   "id": "e67a2fd3",
   "metadata": {},
   "outputs": [],
   "source": [
    "total_percent_found = (found_count/len(gaia_cat['RA']))*100\n",
    "\n",
    "print('\\n')\n",
    "print('SNR threshold used for pipeline: ',pipe3.source_catalog.snr_threshold)\n",
    "print('Total matches found:',found_count)\n",
    "#print('Total missed:',missed_count)\n",
    "print('Number of multiples: ',multiples_count)\n",
    "print('Total number of input (Gaia) sources:',len(gaia_cat['RA']))\n",
    "print('Total number in output JWST catalog:',len(cat_ra))\n",
    "print('Total percent found:',total_percent_found)\n",
    "print('\\n')"
   ]
  },
  {
   "cell_type": "markdown",
   "id": "7c733c5b",
   "metadata": {},
   "source": [
    "## Look at results of photometry with catalog"
   ]
  },
  {
   "cell_type": "code",
   "execution_count": null,
   "id": "c2f7ae74",
   "metadata": {},
   "outputs": [],
   "source": [
    "# Look at flux\n",
    "fig = plt.figure(figsize=(10, 10))\n",
    "ax = plt.subplot()\n",
    "\n",
    "ax.scatter(catalog['label'], catalog['aper_total_flux'])\n",
    "plt.yscale('log')\n",
    "plt.title('Total Flux in '+ str(catalog['aper_total_flux'].unit))\n",
    "plt.xlabel('label')\n",
    "plt.ylabel('aper_total_flux')"
   ]
  },
  {
   "cell_type": "code",
   "execution_count": null,
   "id": "e34b465d",
   "metadata": {},
   "outputs": [],
   "source": [
    "# See the relationship between Flux and error\n",
    "fig = plt.figure(figsize=(10, 10))\n",
    "ax = plt.subplot()\n",
    "\n",
    "maxflux = 0.0012\n",
    "\n",
    "index = np.where(catalog['aper_total_flux'] < maxflux)\n",
    "\n",
    "ax.scatter(catalog['aper_total_flux'][index], catalog['aper_total_flux_err'][index])\n",
    "#plt.yscale('log')\n",
    "plt.title('Total Flux vs. Flux err')\n",
    "plt.xlabel('Flux in Jy')\n",
    "plt.ylabel('Flux err')"
   ]
  },
  {
   "cell_type": "code",
   "execution_count": null,
   "id": "e4b8448f",
   "metadata": {},
   "outputs": [],
   "source": [
    "# Look at AB magnitudes\n",
    "fig = plt.figure(figsize=(10, 10))\n",
    "ax = plt.subplot()\n",
    "\n",
    "ax.scatter(catalog['label'], catalog['aper_total_abmag'])\n",
    "#plt.yscale('log')\n",
    "plt.title('Total AB mag')\n",
    "plt.xlabel('label')\n",
    "plt.ylabel('aper_total_abmag')"
   ]
  },
  {
   "cell_type": "code",
   "execution_count": null,
   "id": "c7c8bc98",
   "metadata": {},
   "outputs": [],
   "source": [
    "# See the relationship between AB mag and error\n",
    "fig = plt.figure(figsize=(10, 10))\n",
    "ax = plt.subplot()\n",
    "\n",
    "ax.scatter(catalog['aper_total_abmag'], catalog['aper_total_abmag_err'])\n",
    "#plt.yscale('log')\n",
    "plt.title('Total AB mag vs. AB mag err')\n",
    "plt.xlabel('AB mag')\n",
    "plt.ylabel('AB mag err')"
   ]
  },
  {
   "cell_type": "markdown",
   "id": "836981af",
   "metadata": {},
   "source": [
    "## Do the same comparison for longer wavelength data. \n",
    "The distortion correction comes from the F770W data. See how well the astrometry holds up at longer wavelengths. The data set below comes from the same program, PID 1040, but includes a set of five images of the same region with the F1280W filter.\n"
   ]
  },
  {
   "cell_type": "markdown",
   "id": "ee9da5b4",
   "metadata": {},
   "source": [
    "### Read in longer wavelength data"
   ]
  },
  {
   "cell_type": "code",
   "execution_count": null,
   "id": "23be7042",
   "metadata": {},
   "outputs": [],
   "source": [
    "# Read in dataset from Box\n",
    "\n",
    "def get_box_files(file_list):\n",
    "    for box_url,file_name in file_list:\n",
    "        if 'https' not in box_url:\n",
    "            box_url = 'https://stsci.box.com/shared/static/' + box_url\n",
    "        downloaded_file = download_file(box_url, timeout=600)\n",
    "        if Path(file_name).suffix == '':\n",
    "            ext = splitext(box_url)[1]\n",
    "            file_name += ext\n",
    "        move(downloaded_file, file_name)\n",
    "\n",
    "# F1280W data of PID 1040 (LMC), taken in May 2022   \n",
    "file_urls = ['https://stsci.box.com/shared/static/kt3zb9b9aynuvtn4ytuxl2yl5bhsbc7l.fits',\n",
    "             'https://stsci.box.com/shared/static/qebublvwwi1wvsiu6pu6fb6r0vcgf0jz.fits',\n",
    "             'https://stsci.box.com/shared/static/huuf70x9hg6wnhl1i05hu8dx0fld4yd3.fits',\n",
    "             'https://stsci.box.com/shared/static/pblxt7pvujuumwrertz94vm5mfcssqv7.fits',\n",
    "             'https://stsci.box.com/shared/static/5adbhbdrf0nk85cxbhgi11s5lic959ru.fits'] \n",
    "\n",
    "file_names_long = ['jw01040001005_03109_00001_mirimage_uncal.fits',\n",
    "              'jw01040001005_03109_00002_mirimage_uncal.fits',\n",
    "              'jw01040001005_03109_00003_mirimage_uncal.fits',\n",
    "              'jw01040001005_03109_00004_mirimage_uncal.fits',\n",
    "              'jw01040001005_03109_00005_mirimage_uncal.fits']"
   ]
  },
  {
   "cell_type": "code",
   "execution_count": null,
   "id": "343e3d1a",
   "metadata": {},
   "outputs": [],
   "source": [
    "box_download_list = [(url,name) for url,name in zip(file_urls,file_names_long)]\n",
    "\n",
    "\n",
    "get_box_files(box_download_list)"
   ]
  },
  {
   "cell_type": "code",
   "execution_count": null,
   "id": "e411e3fd",
   "metadata": {},
   "outputs": [],
   "source": [
    "\n",
    "print('Filenames of uncal files')\n",
    "print(file_names_long)\n"
   ]
  },
  {
   "cell_type": "markdown",
   "id": "4cf3be4b",
   "metadata": {},
   "source": [
    "### Run data through pipelines"
   ]
  },
  {
   "cell_type": "code",
   "execution_count": null,
   "id": "490d1f27",
   "metadata": {},
   "outputs": [],
   "source": [
    "# Run Calwebb_detector1 on uncal.fits files\n",
    "#uncalfiles = glob('*uncal.fits')    \n",
    "    \n",
    "print('There are ', len(file_names_long), ' images.')\n",
    "        \n",
    "slopelist_long = []    \n",
    "    \n",
    "# loop over list of files\n",
    "for file in file_names_long:\n",
    "\n",
    "    # Run pipeline on each file\n",
    "    rampfile = Detector1Pipeline.call(file, save_results=True)\n",
    "    \n",
    "    # set up output file name\n",
    "    base_long, remainder = file.split('_uncal')\n",
    "    outname = base_long\n",
    "    \n",
    "    slopelist_long.append(base_long+'_rate.fits')\n",
    "\n",
    "print('Detector 1 steps completed on all files.')\n",
    "print(slopelist_long)   "
   ]
  },
  {
   "cell_type": "code",
   "execution_count": null,
   "id": "eddc7456",
   "metadata": {},
   "outputs": [],
   "source": [
    "# Run Calwebb_image2 on output files from detector1\n",
    "#ratefiles = glob('*rate.fits')    \n",
    "    \n",
    "print('There are ', len(slopelist_long), ' images.')\n",
    "    \n",
    "callist_long = []\n",
    "\n",
    "# cycle through files\n",
    "for im in slopelist_long:\n",
    "\n",
    "    calfile = Image2Pipeline.call(im, save_results=True)\n",
    "\n",
    "    callist_long.append(calfile)\n",
    "\n",
    "print(callist_long)"
   ]
  },
  {
   "cell_type": "code",
   "execution_count": null,
   "id": "abd5f23d",
   "metadata": {},
   "outputs": [],
   "source": [
    "\n",
    "calfiles_long = [ele.replace('rate', 'cal') for ele in slopelist_long]\n",
    "print(calfiles_long)\n"
   ]
  },
  {
   "cell_type": "code",
   "execution_count": null,
   "id": "dbc2e3b0",
   "metadata": {},
   "outputs": [],
   "source": [
    "# use asn_from_list to create association table\n",
    "\n",
    "#calfiles_long = glob('base_long*_cal.fits')\n",
    "asn_long = asn_from_list.asn_from_list(calfiles_long, rule=DMS_Level3_Base, product_name='starfield_combined_long.fits')\n",
    "\n",
    "# dump association table to a .json file for use in image3\n",
    "with open('starfield_long_asnfile.json', 'w') as fp:\n",
    "    fp.write(asn_long.dump()[1])\n",
    "\n",
    "print(asn_long) "
   ]
  },
  {
   "cell_type": "code",
   "execution_count": null,
   "id": "23ef7efb",
   "metadata": {},
   "outputs": [],
   "source": [
    "# Run Calwebb_image3 on the association table\n",
    "    \n",
    "# set any specific parameters\n",
    "\n",
    "# Set tweakreg parameters:\n",
    "\n",
    "# tweakreg parameters to allow data to run\n",
    "fwhm = 4  #3.713  # Gaussian kernel FWHM of objects expected, default=2.5\n",
    "snr = 3 # signal to noise threshold, default=5 \n",
    "sigma = 1.5 # clipping limit, in sigma units, used when performing fit, default=3\n",
    "minobj = 3 # number of objects needed to match\n",
    "fit_geom ='shift' # ftype of affine transformation to be considered when fitting catalogs, default='general'\n",
    "search_radius = 1.0 # radius in arcseconds to search for a match\n",
    "tol = 0.7  # Matching tolerance for xyxymatch in arcsec. (Default=1.0)\n",
    "use2dhist = True  # boolean indicating whether to use 2D histogram to find initial offset, default=True\n",
    "gaia = True\n",
    "gaia_ver = 'GAIADR2'\n",
    "min_gaia = 2\n",
    "save_gaia = True\n",
    "deblend = False\n",
    "npixels = 5\n",
    "   \n",
    "pipe3=Image3Pipeline()    \n",
    "pipe3.tweakreg.kernel_fwhm = fwhm\n",
    "pipe3.tweakreg.snr_threshold = snr\n",
    "pipe3.tweakreg.minobj = minobj\n",
    "pipe3.tweakreg.sigma = sigma\n",
    "pipe3.tweakreg.fitgeometry = fit_geom\n",
    "pipe3.tweakreg.use2dhist = use2dhist\n",
    "pipe3.tweakreg.save_catalogs = True\n",
    "pipe3.tweakreg.searchrad = search_radius\n",
    "pipe3.tweakreg.tolerance = tol\n",
    "pipe3.tweakreg.align_to_gaia = gaia\n",
    "pipe3.tweakreg.abs_refcat = gaia_ver\n",
    "pipe3.tweakreg.abs_minobj = min_gaia\n",
    "pipe3.tweakreg.save_abs_catalog = save_gaia\n",
    "\n",
    "pipe3.source_catalog.save_results = True\n",
    "pipe3.source_catalog.snr_threshold = snr\n",
    "pipe3.source_catalog.kernel_fwhm = fwhm\n",
    "pipe3.source_catalog.deblend = deblend\n",
    "pipe3.source_catalog.npixels = npixels\n",
    "pipe3.save_results = True\n",
    "\n",
    "# run Image3\n",
    "\n",
    "image = pipe3.run('starfield_long_asnfile.json')\n",
    "print('Image 3 pipeline finished.')"
   ]
  },
  {
   "cell_type": "markdown",
   "id": "a133c7bd",
   "metadata": {},
   "source": [
    "### Look at results for longer wavelengths"
   ]
  },
  {
   "cell_type": "code",
   "execution_count": null,
   "id": "8d19333c",
   "metadata": {},
   "outputs": [],
   "source": [
    "photfile_long = 'starfield_combined_long_cat.ecsv'\n",
    "input_file_long = 'starfield_combined_long_i2d.fits'"
   ]
  },
  {
   "cell_type": "code",
   "execution_count": null,
   "id": "e36fc9a5",
   "metadata": {},
   "outputs": [],
   "source": [
    "# Look at catalog table that shows all columns, but subset of rows\n",
    "# Pay attention to rows with a large number of nans, as this may indicate a spurious source\n",
    "#cat_data = table.Table.read(photfile_long, format='ascii', comment='#')\n",
    "\n",
    "catalog_long = Table.read(photfile_long)\n",
    "miri_x_long = catalog_long['xcentroid']\n",
    "miri_y_long = catalog_long['ycentroid']\n",
    "catalog_long"
   ]
  },
  {
   "cell_type": "code",
   "execution_count": null,
   "id": "ebe21b85",
   "metadata": {},
   "outputs": [],
   "source": [
    "# Look at output gaia catalog\n",
    "gaia_out_long = 'fit_gaiadr2_ref.ecsv'"
   ]
  },
  {
   "cell_type": "code",
   "execution_count": null,
   "id": "5312e3db",
   "metadata": {},
   "outputs": [],
   "source": [
    "gaia_cat = table.Table.read(gaia_out_long, format='ascii', comment='#')\n",
    "gaia_cat"
   ]
  },
  {
   "cell_type": "markdown",
   "id": "2e6087a3",
   "metadata": {},
   "source": [
    "### Look at image and source catlog overlays"
   ]
  },
  {
   "cell_type": "code",
   "execution_count": null,
   "id": "91e84f0a",
   "metadata": {},
   "outputs": [],
   "source": [
    "# Read in i2d combined Image\n",
    "im_i2d_long = ImageModel(input_file_long)  "
   ]
  },
  {
   "cell_type": "code",
   "execution_count": null,
   "id": "243dc8d3",
   "metadata": {},
   "outputs": [],
   "source": [
    "# read in ecsv photom file output from source catalog\n",
    "from astropy.visualization import LogStretch, PercentileInterval, ManualInterval\n",
    "from astropy import table\n",
    "\n",
    "#viz2 = LogStretch() + ManualInterval(0,10)\n",
    "\n",
    "plt.figure(figsize=(20,20))\n",
    "#plt.imshow(viz2(im_i2d.data), origin='lower')\n",
    "plt.imshow(im_i2d_long.data, origin='lower', cmap='rainbow', vmin=18, vmax=26)\n",
    "plt.colorbar()\n",
    "plt.scatter(miri_x_long, miri_y_long,lw=1, s=10,color='black')"
   ]
  },
  {
   "cell_type": "code",
   "execution_count": null,
   "id": "9f3ed45d",
   "metadata": {},
   "outputs": [],
   "source": [
    "# Get from RA and Dec in Gaia catalog to x and y positions on image\n",
    "\n",
    "world_to_detector = im_i2d_long.meta.wcs.get_transform('world', 'detector')\n",
    "xgaia_long,ygaia_long = world_to_detector(gaia_cat['RA'], gaia_cat['DEC'])"
   ]
  },
  {
   "cell_type": "code",
   "execution_count": null,
   "id": "b2468f86",
   "metadata": {},
   "outputs": [],
   "source": [
    "# read in ecsv gaia photom file output from source catalog\n",
    "from astropy.visualization import LogStretch, PercentileInterval, ManualInterval\n",
    "from astropy import table\n",
    "\n",
    "#viz2 = LogStretch() + ManualInterval(0,10)\n",
    "\n",
    "plt.figure(figsize=(20,20))\n",
    "#plt.imshow(viz2(im_i2d.data), origin='lower')\n",
    "plt.imshow(im_i2d_long.data, origin='lower', cmap='rainbow', vmin=18, vmax=26)\n",
    "plt.colorbar()\n",
    "plt.scatter(xgaia_long, ygaia_long,lw=1, s=10,color='black')"
   ]
  },
  {
   "cell_type": "markdown",
   "id": "e1c599a3",
   "metadata": {},
   "source": [
    "### Compare Source catalog positions to Gaia positions found by pipeline\n",
    " Start by looking at positions on the image, then calculate any differences in position between Gaia and the output of source_catalog."
   ]
  },
  {
   "cell_type": "code",
   "execution_count": null,
   "id": "fa646bbf",
   "metadata": {},
   "outputs": [],
   "source": [
    "# Many sources go beyond image edges. Only display sources that were actually in FOV of combined image.\n",
    "minval = 0\n",
    "maxval = 1200\n",
    "\n",
    "ind = np.where((xgaia_long > minval) & (xgaia_long < 1110)& (ygaia_long > minval) & (ygaia_long < maxval))"
   ]
  },
  {
   "cell_type": "code",
   "execution_count": null,
   "id": "2ba97c60",
   "metadata": {},
   "outputs": [],
   "source": [
    "plt.figure(figsize=(20,20))\n",
    "#plt.imshow(viz2(im_i2d.data), origin='lower')\n",
    "plt.imshow(im_i2d_long.data, origin='lower', cmap='rainbow', vmin=18, vmax=26)\n",
    "plt.colorbar()\n",
    "plt.scatter(miri_x_long, miri_y_long,lw=1, s=10,color='black')\n",
    "plt.scatter(xgaia_long[ind], ygaia_long[ind],lw=1, s=5,color='white')"
   ]
  },
  {
   "cell_type": "code",
   "execution_count": null,
   "id": "f3b48f6b",
   "metadata": {},
   "outputs": [],
   "source": [
    "# Show zoomed in region to see if stars look like point sources and aren't smeared out or doubled\n",
    "\n",
    "xmin = 700\n",
    "xmax = 900\n",
    "ymin = 500\n",
    "ymax = 700\n",
    "\n",
    "gaiazoom = np.where((xgaia_long > xmin) & (xgaia_long < xmax) & (ygaia_long > ymin) & (ygaia_long < ymax))\n",
    "print(gaiazoom)\n",
    "subx = xgaia_long[gaiazoom] - xmin\n",
    "suby = ygaia_long[gaiazoom] - ymin\n",
    "\n",
    "mirizoom = np.where((miri_x_long > xmin) & (miri_x_long < xmax) & (miri_y_long > ymin) & (miri_y_long < ymax))\n",
    "print(gaiazoom)\n",
    "subxmiri = miri_x_long[mirizoom] - xmin\n",
    "subymiri = miri_y_long[mirizoom] - ymin\n",
    "\n",
    "\n",
    "plt.figure(figsize=(20,20))\n",
    "#plt.imshow(viz2(im_i2d.data), origin='lower')\n",
    "plt.imshow(im_i2d_long.data[ymin:ymax,xmin:xmax], origin='lower', cmap='rainbow', vmin=18, vmax=26)\n",
    "\n",
    "plt.scatter(subx, suby,lw=1, s=10,color='white')\n",
    "plt.scatter(subxmiri, subymiri,lw=1, s=5,color='black')\n",
    "plt.colorbar()\n",
    "\n",
    "print('Gaia sources are marked in white, MIRI sources from the pipeline in black')"
   ]
  },
  {
   "cell_type": "code",
   "execution_count": null,
   "id": "e1603703",
   "metadata": {},
   "outputs": [],
   "source": [
    "# Calculate difference in position between catalog and Gaia positions. There is an offset here.\n",
    "\n",
    "tol = 1    # Do calculations in pixels\n",
    "found_count=0\n",
    "\n",
    "# Set up array for matches\n",
    "diffarr = np.array(len(xgaia_long))\n",
    "      \n",
    "deltax = []\n",
    "deltay = []\n",
    "xpos = []\n",
    "ypos = []\n",
    "\n",
    "print('         x             y           xdiff          ydiff    < 0.5 pix')\n",
    "for i in np.arange(0,len(xgaia_long)):\n",
    "    for j in np.arange(0,len(miri_x_long)):\n",
    "        x_diff = abs(xgaia_long[i] - miri_x_long[j])\n",
    "        y_diff = abs(ygaia_long[i] - miri_y_long[j])\n",
    "\n",
    "        if x_diff < tol and y_diff < tol:\n",
    "            deltax.append(xgaia_long[i] - miri_x_long[j])\n",
    "            deltay.append(ygaia_long[i] - miri_y_long[j])\n",
    "            xpos.append(miri_x_long[j])\n",
    "            ypos.append(miri_y_long[j])\n",
    "            found_count +=1\n",
    "\n",
    "            if (x_diff < 0.5) and (y_diff < 0.5): \n",
    "                test = 'pass' \n",
    "            else: \n",
    "                test = 'fail'\n",
    "            print('{:15.6f} {:15.6f} {:15.6f} {:15.6f} {}'.format(miri_x_long[j], miri_y_long[j], x_diff, y_diff, test))\n",
    "\n",
    "print()            \n",
    "print(found_count,' matches found')\n",
    "diffarr = np.zeros(found_count)\n",
    "for match in np.arange(0,found_count):            \n",
    "    diffarr[match] = math.sqrt((deltax[match]**2)+(deltay[match]**2))\n",
    "print()"
   ]
  },
  {
   "cell_type": "code",
   "execution_count": null,
   "id": "1bd45e8a",
   "metadata": {},
   "outputs": [],
   "source": [
    "# Look at differences in position in x and y\n",
    "fig = plt.figure(figsize=(10, 10))\n",
    "ax = plt.subplot()\n",
    "\n",
    "ax.scatter(deltax, deltay)\n",
    "plt.title('position offset between catalog and Gaia pos')\n",
    "plt.xlabel('x difference in pixels')\n",
    "plt.ylabel('y difference in pixels')"
   ]
  },
  {
   "cell_type": "code",
   "execution_count": null,
   "id": "8e5a934d",
   "metadata": {},
   "outputs": [],
   "source": [
    "# Look at differences in position (vector magnitude between the two positions against x coordinate)\n",
    "fig = plt.figure(figsize=(10, 10))\n",
    "ax = plt.subplot()\n",
    "\n",
    "ax.scatter(xpos, diffarr)\n",
    "plt.title('position offset between catalog and Gaia pos')\n",
    "plt.xlabel('x position in pixels')\n",
    "plt.ylabel('magnitude of vector diff in pixels')"
   ]
  },
  {
   "cell_type": "code",
   "execution_count": null,
   "id": "92f8c301",
   "metadata": {},
   "outputs": [],
   "source": [
    "# Look at differences in position (vector magnitude between the two positions against y coordinate)\n",
    "fig = plt.figure(figsize=(10, 10))\n",
    "ax = plt.subplot()\n",
    "\n",
    "ax.scatter(ypos, diffarr)\n",
    "plt.title('position offset between catalog and Gaia pos')\n",
    "plt.xlabel('y position in pixels')\n",
    "plt.ylabel('magnitude of vector diff in pixels')"
   ]
  },
  {
   "cell_type": "code",
   "execution_count": null,
   "id": "d5c3bfb9",
   "metadata": {},
   "outputs": [],
   "source": [
    "# Get RA and Dec for sources found in output catalog by pipeline\n",
    "cat_ra = catalog_long['sky_centroid'].ra.deg\n",
    "for i in range(len(cat_ra)):\n",
    "    if (cat_ra[i]>180.):\n",
    "        cat_ra[i] -= 360.\n",
    "cat_dec = catalog_long['sky_centroid'].dec.deg"
   ]
  },
  {
   "cell_type": "code",
   "execution_count": null,
   "id": "fed259a8",
   "metadata": {},
   "outputs": [],
   "source": [
    "# Look at position differences in RA and Dec rather than pixels\n",
    "\n",
    "allRAdiff_cal = []\n",
    "allDecdiff_cal = [] \n",
    "    \n",
    "# Get coordinates with SkyCoord for each catalog\n",
    "cat_miri = Table([cat_ra, cat_dec], names=('ra', 'dec'))\n",
    "cat_gaia = Table([gaia_cat['RA'], gaia_cat['DEC']], names=('ra', 'dec'))\n",
    "    \n",
    "coord_cat_gaia = SkyCoord(ra=cat_gaia['ra'], dec=cat_gaia['dec'], unit=\"deg\")\n",
    "coord_cat_miri = SkyCoord(ra=cat_miri['ra'], dec=cat_miri['dec'], unit=\"deg\")\n",
    "ind_catmiri_catgaia, dist_2d, _ = match_coordinates_sky(coord_cat_gaia, coord_cat_miri)\n",
    "    \n",
    "# Find where the catalogs match\n",
    "    \n",
    "cat1_matched = cat_gaia[dist_2d.arcsec<0.05]\n",
    "cat2_matched = cat_miri[ind_catmiri_catgaia[dist_2d.arcsec<0.05]]\n",
    "    \n",
    "#print(cat1_matched)\n",
    "    \n",
    "# Get differences in RA, Dec\n",
    "ra_diff = cat2_matched['ra'] - cat1_matched['ra']\n",
    "dec_diff = cat2_matched['dec'] - cat1_matched['dec'] \n",
    "    \n",
    "#print(ra_diff)\n",
    "    \n",
    "# put differences in milliarcseconds\n",
    "ra_diff = ra_diff * 3600000\n",
    "dec_diff = dec_diff * 3600000\n",
    "    \n",
    "    \n",
    "# Compare input RA, Dec to found RA, Dec\n",
    "print('RA_Diff (mas)  Dec_diff (mas) pass/fail')\n",
    "# Find if the differences are within the allowed 30 mas range\n",
    "for i in np.arange(0,len(ra_diff)):\n",
    "    #if ra_diff[i] < 30 and dec_diff[i] < 30:\n",
    "    allRAdiff_cal.append(ra_diff[i])\n",
    "    allDecdiff_cal.append(dec_diff[i])\n",
    "    if abs(ra_diff[i]) < 30 and abs(dec_diff[i]) < 30: \n",
    "        test = 'pass' \n",
    "    else: \n",
    "        test = 'fail'\n",
    "    print('{:15.6f} {:15.6f} {}'.format(ra_diff[i], dec_diff[i], test))\n",
    " \n",
    "    \n",
    "# Plot ra and dec differences\n",
    "plt.title ('Differences in RA and Dec in milliarcseconds')\n",
    "plt.ylabel('Delta RA (mas)')\n",
    "plt.xlabel('Delta Dec (mas)')\n",
    "plt.scatter(ra_diff,dec_diff)\n",
    "plt.show()"
   ]
  },
  {
   "cell_type": "code",
   "execution_count": null,
   "id": "333a166b",
   "metadata": {},
   "outputs": [],
   "source": [
    "# Compare Gaia catalog to the pipeline (source counts and matches based on ra and dec positions)\n",
    "# set the tolerance for differences and initialize counters\n",
    "\n",
    "tol = 1.e-5    # Set tolerance around 30 mas (units here are in degrees; 36 mas ~ 1e-5 deg)\n",
    "found_count=0\n",
    "multiples_count=0\n",
    "missed_count=0\n",
    "\n",
    "# Set up array for matches\n",
    "detected = np.chararray(len(gaia_cat))\n",
    "#print(np.shape(detected))\n",
    "\n",
    "for ra,dec,idx in zip(gaia_cat['RA'], gaia_cat['DEC'],range(len(gaia_cat['RA']))):\n",
    "\n",
    "    match = np.where((np.abs(cat_ra-ra) < tol) & (np.abs(cat_dec-dec) < tol))\n",
    "    #print('match', match)\n",
    "    \n",
    "    if np.size(match) == 1: \n",
    "        found_count +=1 \n",
    "        detected[idx] = 'Y'\n",
    "\n",
    "    if np.size(match) > 1:  \n",
    "        multiples_count +=1       \n",
    "        \n",
    "    if np.size(match) < 1:\n",
    "        missed_count +=1"
   ]
  },
  {
   "cell_type": "code",
   "execution_count": null,
   "id": "54c41cc2",
   "metadata": {},
   "outputs": [],
   "source": [
    "total_percent_found = (found_count/len(gaia_cat['RA']))*100\n",
    "\n",
    "print('\\n')\n",
    "print('SNR threshold used for pipeline: ',pipe3.source_catalog.snr_threshold)\n",
    "print('Total matches found:',found_count)\n",
    "#print('Total missed:',missed_count)\n",
    "print('Number of multiples: ',multiples_count)\n",
    "print('Total number of input (Gaia) sources:',len(gaia_cat['RA']))\n",
    "print('Total number in output JWST catalog:',len(cat_ra))\n",
    "print('Total percent found:',total_percent_found)\n",
    "print('\\n')"
   ]
  },
  {
   "cell_type": "markdown",
   "id": "108db979",
   "metadata": {},
   "source": [
    "### Look at the photometry of the two filters"
   ]
  },
  {
   "cell_type": "code",
   "execution_count": null,
   "id": "311f9443",
   "metadata": {},
   "outputs": [],
   "source": [
    "# Look at flux\n",
    "fig = plt.figure(figsize=(10, 10))\n",
    "ax = plt.subplot()\n",
    "\n",
    "ax.scatter(catalog_long['xcentroid'], catalog_long['aper_total_flux'],color='blue', s=15, label='F2180W')\n",
    "ax.scatter(catalog['xcentroid'], catalog['aper_total_flux'], color='green', s=15, label='F7700W')\n",
    "ax.legend()\n",
    "\n",
    "plt.yscale('log')\n",
    "plt.title('Total Flux in '+ str(catalog_long['aper_total_flux'].unit))\n",
    "plt.xlabel('xcentroid')\n",
    "plt.ylabel('aper_total_flux')"
   ]
  },
  {
   "cell_type": "code",
   "execution_count": null,
   "id": "afb32f2e",
   "metadata": {},
   "outputs": [],
   "source": [
    "# See the relationship between Flux and error\n",
    "fig = plt.figure(figsize=(10, 10))\n",
    "ax = plt.subplot()\n",
    "\n",
    "maxflux = 0.0012\n",
    "\n",
    "index = np.where(catalog['aper_total_flux'] < maxflux)\n",
    "index_long = np.where(catalog_long['aper_total_flux'] < maxflux)\n",
    "\n",
    "ax.scatter(catalog_long['aper_total_flux'][index_long], catalog_long['aper_total_flux_err'][index_long], color='blue', s=10, label='F2180W')\n",
    "ax.scatter(catalog['aper_total_flux'][index], catalog['aper_total_flux_err'][index], color='green', s=10, label='F7700W')\n",
    "ax.legend()\n",
    "#plt.yscale('log')\n",
    "plt.title('Total Flux vs. Flux err')\n",
    "plt.xlabel('Flux in Jy')\n",
    "plt.ylabel('Flux err')"
   ]
  },
  {
   "cell_type": "code",
   "execution_count": null,
   "id": "7a0afd36",
   "metadata": {},
   "outputs": [],
   "source": [
    "# Look at AB magnitudes\n",
    "fig = plt.figure(figsize=(10, 10))\n",
    "ax = plt.subplot()\n",
    "\n",
    "ax.scatter(catalog_long['xcentroid'], catalog_long['aper_total_abmag'], color='blue', s=15, label='F2180W')\n",
    "ax.scatter(catalog['xcentroid'], catalog['aper_total_abmag'], color='green', s=15, label='F770W')\n",
    "ax.legend()\n",
    "\n",
    "#plt.yscale('log')\n",
    "plt.title('Total AB mag')\n",
    "plt.xlabel('xcentroid')\n",
    "plt.ylabel('aper_total_abmag')"
   ]
  },
  {
   "cell_type": "code",
   "execution_count": null,
   "id": "f9d4033f",
   "metadata": {},
   "outputs": [],
   "source": [
    "# See the relationship between AB mag and error\n",
    "fig = plt.figure(figsize=(10, 10))\n",
    "ax = plt.subplot()\n",
    "\n",
    "maxmag = 23\n",
    "\n",
    "index = np.where(catalog['aper_total_abmag'] < maxmag)\n",
    "index_long = np.where(catalog_long['aper_total_abmag'] < maxmag)\n",
    "\n",
    "\n",
    "ax.scatter(catalog_long['aper_total_abmag'][index_long], catalog_long['aper_total_abmag_err'][index_long], color='blue', s=15, label='F2180W')\n",
    "ax.scatter(catalog['aper_total_abmag'][index], catalog['aper_total_abmag_err'][index], color='green', s=15, label='F770W')\n",
    "ax.legend()\n",
    "\n",
    "#plt.yscale('log')\n",
    "plt.title('Total AB mag vs. AB mag err')\n",
    "plt.xlabel('AB mag')\n",
    "plt.ylabel('AB mag err')"
   ]
  },
  {
   "cell_type": "markdown",
   "id": "af2f14c8",
   "metadata": {},
   "source": [
    "### Metrics:\n",
    "\n",
    "This notebook passes if there are a reasonable number of close matches between the Gaia catalogs and the output positions from source catalog. The differences should show up as a gaussian centered around (0,0) in the plots of deltax v. deltay, with not too many differences above half a pixel. There will be more source matches at the F770W filter than at the F1280W filter. The photometry plots comparing the two filters should also show them being similar."
   ]
  },
  {
   "cell_type": "markdown",
   "id": "11cac2f1",
   "metadata": {},
   "source": [
    "<a id=\"about_ID\"></a>\n",
    "### About this Notebook\n",
    "\n",
    "Authors: M. Cracraft and M. Libralato: MIRI Branch\n",
    "\n",
    "Updated On: 08/19/2022"
   ]
  },
  {
   "cell_type": "code",
   "execution_count": null,
   "id": "2a27c0f9",
   "metadata": {},
   "outputs": [],
   "source": []
  }
 ],
 "metadata": {
  "language_info": {
   "name": "python"
  }
 },
 "nbformat": 4,
 "nbformat_minor": 5
}
