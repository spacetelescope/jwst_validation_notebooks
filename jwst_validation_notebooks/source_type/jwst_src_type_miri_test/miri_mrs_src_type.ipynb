{
 "cells": [
  {
   "cell_type": "markdown",
   "id": "de782a12-4e20-488b-b68d-64456c5dd3fd",
   "metadata": {},
   "source": [
    "<a id=“title_ID”></a>\n",
    "# JWST Pipeline Validation Testing Notebook: Spec2, srctype, MIRI\n",
    "Instruments Affected: MIRI"
   ]
  },
  {
   "cell_type": "markdown",
   "id": "5d74043d-7fd9-4f69-9fba-a2b4b09db27b",
   "metadata": {},
   "source": [
    "## Introduction and summary of test being run\n",
    "\n",
    "This notebook processes an image through calwebb_spec2 and examines the output of the flat_field step. The steps are as follow:\n",
    "\n",
    "1) Set up data path and directory and image file names.\n",
    "\n",
    "2) Set the appropriate header keywords to test.\n",
    "\n",
    "2) Run data through the source_type step in calwebb_spec2.\n",
    "\n",
    "3) Compare input to output SRCTYPE keyword"
   ]
  },
  {
   "cell_type": "markdown",
   "id": "ed467b1e-5003-44b5-aee2-cf4e66fdadd6",
   "metadata": {},
   "source": [
    "## Documentation\n",
    "The pipeline documentation can be found here: https://jwst-pipeline.readthedocs.io/en/latest/\n",
    "\n",
    "The pipeline code is available on GitHub: https://github.com/spacetelescope/jwst"
   ]
  },
  {
   "cell_type": "markdown",
   "id": "2211c73e-b286-432d-b207-8dae9f8fd166",
   "metadata": {},
   "source": [
    "##Data used\n",
    "\n",
    "The data used in this test is a simulated MIRI image created using MIRISim. The documentation for MIRISim can be found here: https://wiki.miricle.org/bin/view/Public/MIRISim_Public?\n",
    "\n",
    "Author: Mike Engesser"
   ]
  },
  {
   "cell_type": "markdown",
   "id": "4a78236d-e218-4465-a326-60d570836811",
   "metadata": {},
   "source": [
    "## Create Temporary Directory"
   ]
  },
  {
   "cell_type": "code",
   "execution_count": null,
   "id": "8374ae2a-7a4c-4f08-abfc-f6a01d03e74f",
   "metadata": {},
   "outputs": [],
   "source": [
    "# Create a temporary directory to hold notebook output, and change the working directory to that directory.\n",
    "from tempfile import TemporaryDirectory\n",
    "import os\n",
    "data_dir = TemporaryDirectory()\n",
    "os.chdir(data_dir.name)\n",
    "print(data_dir)"
   ]
  },
  {
   "cell_type": "code",
   "execution_count": null,
   "id": "741e7763",
   "metadata": {},
   "outputs": [],
   "source": [
    "import os\n",
    "if 'CRDS_CACHE_TYPE' in os.environ:\n",
    "    if os.environ['CRDS_CACHE_TYPE'] == 'local':\n",
    "        os.environ['CRDS_PATH'] = os.path.join(os.environ['HOME'], 'crds', 'cache')\n",
    "    elif os.path.isdir(os.environ['CRDS_CACHE_TYPE']):\n",
    "        os.environ['CRDS_PATH'] = os.environ['CRDS_CACHE_TYPE']\n",
    "print('CRDS cache location: {}'.format(os.environ['CRDS_PATH']))"
   ]
  },
  {
   "cell_type": "markdown",
   "id": "1f8f486a-2a2e-4f20-9270-2a1e48845292",
   "metadata": {},
   "source": [
    "## Set Up Import Statements"
   ]
  },
  {
   "cell_type": "code",
   "execution_count": null,
   "id": "c12240e6-fc52-4500-aea5-842b545c4dbf",
   "metadata": {},
   "outputs": [],
   "source": [
    "from astropy.io import fits, ascii\n",
    "import pytest\n",
    "import numpy as np\n",
    "import numpy.ma as ma\n",
    "\n",
    "import jwst\n",
    "from jwst.pipeline import Detector1Pipeline, Image2Pipeline\n",
    "from jwst.datamodels import RampModel, ImageModel, dqflags\n",
    "from jwst.pipeline import calwebb_image2\n",
    "from jwst.pipeline import calwebb_spec2\n",
    "\n",
    "from ci_watson.artifactory_helpers import get_bigdata\n",
    "import crds\n",
    "import os\n",
    "import sys"
   ]
  },
  {
   "cell_type": "code",
   "execution_count": null,
   "id": "b77269d6-6171-4f5f-89af-df896afbb9cd",
   "metadata": {},
   "outputs": [],
   "source": [
    "# Specify CRDS locations and pmap\n",
    "os.environ['CRDS_SERVER_URL'] = 'https://jwst-crds.stsci.edu'\n",
    "os.environ['TEST_BIGDATA']='https://bytesalad.stsci.edu/artifactory/'"
   ]
  },
  {
   "cell_type": "markdown",
   "id": "32503c69-0b0a-48bd-b5e7-94ab9feacf83",
   "metadata": {},
   "source": [
    "## Print pipeline version number "
   ]
  },
  {
   "cell_type": "code",
   "execution_count": null,
   "id": "7cd76854-a9b3-438f-836f-b225e1c7bdc7",
   "metadata": {},
   "outputs": [],
   "source": [
    "jwst.__version__ "
   ]
  },
  {
   "cell_type": "markdown",
   "id": "5c0fdda7-41f8-439b-b7a0-7999e5414c7d",
   "metadata": {},
   "source": [
    "## Read in data from Artifactory"
   ]
  },
  {
   "cell_type": "code",
   "execution_count": null,
   "id": "8701607c-e6a8-45d3-ba29-da27ce19f7e4",
   "metadata": {},
   "outputs": [],
   "source": [
    "file = get_bigdata('jwst_validation_notebooks',\n",
    "                      'validation_data',\n",
    "                      'calwebb_spec2',\n",
    "                      'spec2_miri_test',\n",
    "                      'det_image_seq1_MIRIFUSHORT_12LONGexp1_rate.fits')"
   ]
  },
  {
   "cell_type": "markdown",
   "id": "c36f11a5-9f52-4d58-a706-7656752d13e9",
   "metadata": {},
   "source": [
    "## Define functions for validation and running pipeline"
   ]
  },
  {
   "cell_type": "code",
   "execution_count": null,
   "id": "e8d414aa-26ea-4588-bb0f-295de870139a",
   "metadata": {},
   "outputs": [],
   "source": [
    "print('[*]', file=open('stpipe-log.cfg', \"w\"))\n",
    "print('handler = file:pipeline.log', file=open('stpipe-log.cfg', \"a\"))\n",
    "print('level = INFO', file=open('stpipe-log.cfg', \"a\"))"
   ]
  },
  {
   "cell_type": "code",
   "execution_count": null,
   "id": "20be9f7c-05a9-42d5-a3a9-2902ea4049bc",
   "metadata": {},
   "outputs": [],
   "source": [
    "def run_spec2(im):\n",
    "    \"\"\"Creates and runs an instance of the JWST spec2 pipeline. \"\"\"\n",
    "    \n",
    "    #only assign_wcs and srctype are run\n",
    "    spec2 = calwebb_spec2.Spec2Pipeline()\n",
    "    spec2.bkg_subtract.skip = True\n",
    "    spec2.assign_wcs.skip = False\n",
    "    spec2.imprint_subtract.skip = True\n",
    "    spec2.msa_flagging.skip = True\n",
    "    spec2.extract_2d.skip = True\n",
    "    spec2.wavecorr.skip = True\n",
    "    spec2.srctype.skip = False\n",
    "    spec2.straylight.skip = True\n",
    "    spec2.fringe.skip = True\n",
    "    spec2.pathloss.skip = True\n",
    "    spec2.barshadow.skip = True\n",
    "    spec2.photom.skip = True\n",
    "    spec2.resample_spec.skip = True\n",
    "    spec2.cube_build.skip = True\n",
    "    spec2.extract_1d.skip = True\n",
    "    spec2.flat_field.skip = True\n",
    "    spec2.save_results = True\n",
    "        \n",
    "    spec2.run(im)"
   ]
  },
  {
   "cell_type": "code",
   "execution_count": null,
   "id": "15d89b77-ee72-4196-b5aa-1af2d0d4f1fc",
   "metadata": {},
   "outputs": [],
   "source": [
    "def test_src_type(input_file, im1):\n",
    "    \"\"\"Passes data to spec2 pipeline and records the source type keyword of the output\"\"\"\n",
    "    \n",
    "    #run through spec2\n",
    "    run_spec2(im1)\n",
    "    \n",
    "    #get the output file name\n",
    "    cal_file = input_file.replace('rate.fits', 'cal.fits')\n",
    "    \n",
    "    #create an image model of the output and return the source type keyword\n",
    "    im2 = ImageModel(cal_file)\n",
    "    \n",
    "    # Get the header source type value as well\n",
    "    hdu=fits.open(cal_file)\n",
    "    \n",
    "    return im2.meta.target.source_type,hdu[1].header['SRCTYPE']"
   ]
  },
  {
   "cell_type": "markdown",
   "id": "52b4f07c-612f-4a8c-98b1-69a8ce2952a1",
   "metadata": {},
   "source": [
    "## Create an image model and test source type keywords\n",
    "\n",
    "This test passes if none of the assertions return an error"
   ]
  },
  {
   "cell_type": "code",
   "execution_count": null,
   "id": "ff9af6eb-90bb-4021-881d-f211748d9d55",
   "metadata": {},
   "outputs": [],
   "source": [
    "im = ImageModel(file)"
   ]
  },
  {
   "cell_type": "code",
   "execution_count": null,
   "id": "f6c9b2c7",
   "metadata": {},
   "outputs": [],
   "source": [
    "# Test the default case where no external information which should return EXTENDED\n",
    "im.meta.target.source_type_apt = None\n",
    "im.meta.observation.bkgdtarg = False\n",
    "im.meta.dither.optimized_for = None\n",
    "\n",
    "src_type, src_type_hdr = test_src_type(file, im)\n",
    "\n",
    "assert(src_type == 'EXTENDED')\n",
    "assert(src_type_hdr == 'EXTENDED')"
   ]
  },
  {
   "cell_type": "code",
   "execution_count": null,
   "id": "e218aa1d-7645-46f9-86e5-547375c11992",
   "metadata": {},
   "outputs": [],
   "source": [
    "# Test the case where APT specified 'POINT'\n",
    "im.meta.target.source_type_apt = 'POINT'\n",
    "im.meta.observation.bkgdtarg = False\n",
    "im.meta.dither.optimized_for = None\n",
    "\n",
    "im.meta.target.source_type_apt = 'POINT'\n",
    "    \n",
    "src_type, src_type_hdr = test_src_type(file, im)\n",
    "\n",
    "assert(src_type == 'POINT')\n",
    "assert(src_type_hdr == 'POINT')"
   ]
  },
  {
   "cell_type": "code",
   "execution_count": null,
   "id": "598fba49-9a3b-44ab-955b-476c49106651",
   "metadata": {},
   "outputs": [],
   "source": [
    "# Test the case where APT specified 'EXTENDED'\n",
    "im.meta.target.source_type_apt = 'EXTENDED'\n",
    "im.meta.observation.bkgdtarg = False\n",
    "im.meta.dither.optimized_for = None\n",
    "\n",
    "src_type, src_type_hdr = test_src_type(file, im)\n",
    "\n",
    "assert(src_type == 'EXTENDED')\n",
    "assert(src_type_hdr == 'EXTENDED')"
   ]
  },
  {
   "cell_type": "code",
   "execution_count": null,
   "id": "027e2e72-4900-4c7c-939f-ce291ae765bc",
   "metadata": {},
   "outputs": [],
   "source": [
    "# If the background target keyword is set, it should always returns EXTENDED\n",
    "# regardless of what APT said\n",
    "\n",
    "im.meta.target.source_type_apt = 'POINT'\n",
    "im.meta.observation.bkgdtarg = True\n",
    "\n",
    "src_type, src_type_hdr = test_src_type(file, im)\n",
    "\n",
    "assert(src_type == 'EXTENDED')\n",
    "assert(src_type_hdr == 'EXTENDED')"
   ]
  },
  {
   "cell_type": "code",
   "execution_count": null,
   "id": "5d5572ce",
   "metadata": {},
   "outputs": [],
   "source": [
    "# If no information from APT, but dither keywords suggest a point source it should\n",
    "# return POINT\n",
    "\n",
    "im.meta.target.source_type_apt = None\n",
    "im.meta.observation.bkgdtarg = False\n",
    "im.meta.dither.optimized_for = 'POINT-SOURCE'\n",
    "\n",
    "src_type, src_type_hdr = test_src_type(file, im)\n",
    "\n",
    "assert(src_type == 'POINT')\n",
    "assert(src_type_hdr == 'POINT')"
   ]
  },
  {
   "cell_type": "code",
   "execution_count": null,
   "id": "66e3172b",
   "metadata": {},
   "outputs": [],
   "source": [
    "# If no information from APT, but dither keywords suggest an extended source it should\n",
    "# return EXTENDED\n",
    "\n",
    "im.meta.target.source_type_apt = None\n",
    "im.meta.observation.bkgdtarg = False\n",
    "im.meta.dither.optimized_for = 'EXTENDED-SOURCE'\n",
    "\n",
    "src_type, src_type_hdr = test_src_type(file, im)\n",
    "\n",
    "assert(src_type == 'EXTENDED')\n",
    "assert(src_type_hdr == 'EXTENDED')"
   ]
  },
  {
   "cell_type": "code",
   "execution_count": null,
   "id": "47d6d983-9be0-4b66-b865-f40a32c868b2",
   "metadata": {},
   "outputs": [],
   "source": [
    "# If the observation is a TSO, return POINT\n",
    "\n",
    "im.meta.observation.bkgdtarg = False\n",
    "im.meta.visit.tsovisit = True\n",
    "im.meta.exposure.nints = 3\n",
    "\n",
    "src_type, src_type_hdr = test_src_type(file, im)\n",
    "\n",
    "assert(src_type == 'POINT')\n",
    "assert(src_type_hdr == 'POINT')"
   ]
  },
  {
   "cell_type": "code",
   "execution_count": null,
   "id": "33979f70-aef2-47e3-8437-ec5012650cde",
   "metadata": {},
   "outputs": [],
   "source": [
    "print('No problems found.')"
   ]
  }
 ],
 "metadata": {
  "language_info": {
   "name": "python"
  }
 },
 "nbformat": 4,
 "nbformat_minor": 5
}
