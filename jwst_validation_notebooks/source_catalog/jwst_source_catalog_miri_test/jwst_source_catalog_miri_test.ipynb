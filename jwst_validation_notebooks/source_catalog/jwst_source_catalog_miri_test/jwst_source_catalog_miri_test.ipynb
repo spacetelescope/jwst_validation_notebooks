{
 "cells": [
  {
   "cell_type": "markdown",
   "metadata": {},
   "source": [
    "<a id=\"title_ID\"></a>\n",
    "# JWST Pipeline Validation Notebook: calwebb_image3: source_catalog with MIRI\n",
    "\n",
    "<span style=\"color:red\"> **Instruments Affected**</span>: MIRI, NIRCam \n",
    "\n",
    "\n",
    "Tested on MIRI Simulated data\n",
    "\n",
    "### Table of Contents\n",
    "<div style=\"text-align: left\"> \n",
    "\n",
    "<br>  [Introduction](#intro_ID) <br> [Imports](#imports_ID) <br> [Run Pipeline](#pipeline_ID) <br> [Check Results](#output_ID) <br> [About This Notebook](#about_ID) <br>\n",
    "\n",
    "\n",
    "</div>"
   ]
  },
  {
   "cell_type": "markdown",
   "metadata": {},
   "source": [
    "<a id=\"intro_ID\"></a>\n",
    "\n",
    "## Introduction\n",
    "\n",
    "This notebook processes a set of images through calwebb_image2 and calwebb_image3 and examines the output table of the source_catalog step. \n",
    "\n",
    "This test uses simulated MIRI F770W (options for F560W or F770W) data of a crowded star + galaxy field.\n",
    "\n",
    "The pipeline documentation can be found here: https://jwst-pipeline.readthedocs.io/en/latest/jwst/source_catalog/main.html\n",
    "\n",
    "The pipeline code is available on GitHub: https://github.com/spacetelescope/jwst\n",
    "\n"
   ]
  },
  {
   "cell_type": "markdown",
   "metadata": {},
   "source": [
    "### JWST Calibration working group algorithm\n",
    "\n",
    "The algorithm and discussion for this step can be found at the following page:\n",
    "\n",
    "https://outerspace.stsci.edu/display/JWSTCC/Vanilla+Point+Source+Catalog"
   ]
  },
  {
   "cell_type": "markdown",
   "metadata": {},
   "source": [
    "### Test description\n",
    "\n",
    "The steps of this test are as follow:\n",
    "\n",
    "1) Set up data path and directory and image files name.\n",
    "\n",
    "2) Run output of calwebb_detector1 through calwebb_image2.\n",
    "\n",
    "3) Run output of calwebb_image2 through calwebb_image3. \n",
    "\n",
    "4) Read in output table of source_catalog step and print ecsv table \n",
    "\n",
    "5) Display image and overplot detector sources from ecsv table. \n",
    "\n",
    "6) Look at plots of total flux in Jy and AB mag.\n",
    "\n",
    "7) Look for matches between expected source positions (RA and Dec) from simulated catalog to output from source_catalog.\n",
    "\n",
    "8) Compare magnitudes and magnitude differences between input simulated catalog and output found sources."
   ]
  },
  {
   "cell_type": "markdown",
   "metadata": {},
   "source": [
    "### Data description\n",
    "\n",
    "The data used in this test consist of a set of four simulated images in the F770W filter of MIRI, at four different dither positions. The data have 4827 stars of varying flux levels and just over 200 galaxies in the image. The MIRI Image simulator (MIRISim) was used to create the simulations."
   ]
  },
  {
   "cell_type": "markdown",
   "metadata": {},
   "source": [
    "### Create a temporary directory for all of the test data"
   ]
  },
  {
   "cell_type": "code",
   "execution_count": null,
   "metadata": {},
   "outputs": [],
   "source": [
    "# Create a temporary directory to hold notebook output, and change the working directory to that directory.\n",
    "from tempfile import TemporaryDirectory\n",
    "import os\n",
    "data_dir = TemporaryDirectory()\n",
    "os.chdir(data_dir.name)\n",
    "\n",
    "# For info, print out where the script is running\n",
    "print(\"Running in {}\".format(os.getcwd()))"
   ]
  },
  {
   "cell_type": "code",
   "execution_count": null,
   "metadata": {},
   "outputs": [],
   "source": [
    "import os\n",
    "if 'CRDS_CACHE_TYPE' in os.environ:\n",
    "    if os.environ['CRDS_CACHE_TYPE'] == 'local':\n",
    "        os.environ['CRDS_PATH'] = os.path.join(os.environ['HOME'], 'crds', 'cache')\n",
    "    elif os.path.isdir(os.environ['CRDS_CACHE_TYPE']):\n",
    "        os.environ['CRDS_PATH'] = os.environ['CRDS_CACHE_TYPE']\n",
    "print('CRDS cache location: {}'.format(os.environ['CRDS_PATH']))"
   ]
  },
  {
   "cell_type": "markdown",
   "metadata": {},
   "source": [
    "<a id=\"imports_ID\"></a>\n",
    "### Set up import statements\n",
    "\n",
    "The following packages are needed to enable this notebook to run:\n",
    "* astropy for coordinate handling and calculations\n",
    "* jwst to run the pipeline steps and create associations\n",
    "* matplotlib for plotting\n",
    "* ci_watson for retrieving data from artifactory\n",
    "* set of tools to retrieve data from Box\n",
    "\n",
    "[Top of Page](#title_ID)"
   ]
  },
  {
   "cell_type": "code",
   "execution_count": null,
   "metadata": {},
   "outputs": [],
   "source": [
    "#import pytest\n",
    "import numpy as np\n",
    "from glob import glob\n",
    "import json\n",
    "import matplotlib.pyplot as plt\n",
    "import photutils\n",
    "\n",
    "from astropy.io import fits, ascii\n",
    "from astropy.coordinates import Angle\n",
    "from astropy.table import Table, vstack, unique, join\n",
    "from astropy import table\n",
    "from astropy.coordinates import SkyCoord, match_coordinates_sky\n",
    "from astropy.visualization import simple_norm\n",
    "from astropy import units as u\n",
    "from astropy.modeling import models\n",
    "from astropy.wcs import WCS\n",
    "\n",
    "# Box download imports \n",
    "from astropy.utils.data import download_file\n",
    "from pathlib import Path\n",
    "from shutil import move\n",
    "from os.path import splitext\n",
    "\n",
    "import jwst\n",
    "from jwst import datamodels\n",
    "from jwst.datamodels import RampModel, ImageModel\n",
    "\n",
    "from jwst import associations\n",
    "from jwst.associations import asn_from_list\n",
    "from jwst.associations.lib.rules_level3_base import DMS_Level3_Base\n",
    "\n",
    "from jwst.pipeline import calwebb_image3\n",
    "from jwst.pipeline import calwebb_image2\n",
    "from jwst.pipeline import calwebb_detector1\n",
    "from jwst.pipeline import Detector1Pipeline, Image2Pipeline, Image3Pipeline\n",
    "\n",
    "from ci_watson.artifactory_helpers import get_bigdata\n"
   ]
  },
  {
   "cell_type": "markdown",
   "metadata": {},
   "source": [
    "### Put in some helper scripts\n"
   ]
  },
  {
   "cell_type": "code",
   "execution_count": null,
   "metadata": {},
   "outputs": [],
   "source": [
    "def create_scatterplot(catalog_colx, catalog_coly, title=None):\n",
    "    ''' Function to generate a generic scatterplot.\n",
    "    '''\n",
    "    \n",
    "    fig = plt.figure(figsize=(8, 8))\n",
    "    ax = plt.subplot()\n",
    "    ax.scatter(catalog_colx,catalog_coly) \n",
    "    plt.xlabel(catalog_colx.name)\n",
    "    plt.ylabel(catalog_coly.name)\n",
    "\n",
    "    \n",
    "    if title:\n",
    "        plt.title(title)"
   ]
  },
  {
   "cell_type": "code",
   "execution_count": null,
   "metadata": {},
   "outputs": [],
   "source": [
    "# Band info from constants in miricap\n",
    "\n",
    "# wref in microns and zeropoint in Jy\n",
    "band_info = {\n",
    "    \"2MASS J\": {'wref': 1.235, 'zeropoint': 1594},\n",
    "    \"2MASS H\": {'wref': 1.662, 'zeropoint': 1024},\n",
    "    \"2MASS Ks\": {'wref': 2.159, 'zeropoint': 666.7},\n",
    "    \"Johnson U\": {'wref': 0.36, 'zeropoint': 1823},\n",
    "    \"Johnson B\": {'wref': 0.44, 'zeropoint': 4130},\n",
    "    \"Johnson V\": {'wref': 0.55, 'zeropoint': 3781},\n",
    "    \"Johnson R\": {'wref': 0.71, 'zeropoint': 2941},\n",
    "    \"Johnson I\": {'wref': 0.97, 'zeropoint': 2635},\n",
    "    \"Johnson J\": {'wref': 1.25, 'zeropoint': 1603},\n",
    "    \"Johnson H\": {'wref': 1.60, 'zeropoint': 1075},\n",
    "    \"Johnson K\": {'wref': 2.22, 'zeropoint': 667},\n",
    "    \"Johnson L\": {'wref': 3.54, 'zeropoint': 288},\n",
    "    \"Johnson M\": {'wref': 4.80, 'zeropoint': 170},\n",
    "    \"Johnson N\": {'wref': 10.6, 'zeropoint': 36},\n",
    "    \"Johnson O\": {'wref': 21.0, 'zeropoint': 9.4},\n",
    "    \"UKIRT V\": {'wref': 0.5556, 'zeropoint': 3540},\n",
    "    \"UKIRT I\": {'wref': 0.9, 'zeropoint': 2250},\n",
    "    \"UKIRT J\": {'wref': 1.25, 'zeropoint': 1600},\n",
    "    \"UKIRT H\": {'wref': 1.65, 'zeropoint': 1020},\n",
    "    \"UKIRT K\": {'wref': 2.20, 'zeropoint': 657},\n",
    "    \"UKIRT L\": {'wref': 3.45, 'zeropoint': 290},\n",
    "    \"UKIRT L'\": {'wref': 3.80, 'zeropoint': 252},\n",
    "    \"UKIRT M\": {'wref': 4.8, 'zeropoint': 163},\n",
    "    \"UKIRT N\": {'wref': 10.1, 'zeropoint': 39.8},\n",
    "    \"UKIRT Q\": {'wref': 20.0, 'zeropoint': 10.4},\n",
    "    \"MIRLIN N\": {'wref': 10.79, 'zeropoint': 33.4},\n",
    "    \"MIRLIN Q-s\": {'wref': 17.90, 'zeropoint': 12.4},\n",
    "    \"MIRLIN N0\": {'wref': 7.91, 'zeropoint': 60.9},\n",
    "    \"MIRLIN N1\": {'wref': 8.81, 'zeropoint': 49.4},\n",
    "    \"MIRLIN N2\": {'wref': 9.69, 'zeropoint': 41.1},\n",
    "    \"MIRLIN N3\": {'wref': 10.27, 'zeropoint': 36.7},\n",
    "    \"MIRLIN N4\": {'wref': 11.70, 'zeropoint': 28.5},\n",
    "    \"MIRLIN N5\": {'wref': 12.49, 'zeropoint': 25.1},\n",
    "    \"MIRLIN Q0\": {'wref': 17.20, 'zeropoint': 13.4},\n",
    "    \"MIRLIN Q1\": {'wref': 17.93, 'zeropoint': 12.3},\n",
    "    \"MIRLIN Q2\": {'wref': 18.64, 'zeropoint': 11.4},\n",
    "    \"MIRLIN Q3\": {'wref': 20.81, 'zeropoint': 9.2},\n",
    "    \"MIRLIN Q4\": {'wref': 22.81, 'zeropoint': 7.7},\n",
    "    \"MIRLIN Q5\": {'wref': 24.48, 'zeropoint': 6.7},\n",
    "    \"MIRLIN K\": {'wref': 2.2, 'zeropoint': 650.0},\n",
    "    \"MIRLIN M\": {'wref': 4.68, 'zeropoint': 165.0},\n",
    "    \"WISE W1\": {'wref': 3.4, 'zeropoint':309.54},\n",
    "    \"WISE W2\": {'wref': 4.6, 'zeropoint':171.787},\n",
    "    \"WISE W3\": {'wref': 12., 'zeropoint':31.674},\n",
    "    \"WISE W4\": {'wref': 22., 'zeropoint':8.363},\n",
    "}"
   ]
  },
  {
   "cell_type": "code",
   "execution_count": null,
   "metadata": {},
   "outputs": [],
   "source": [
    "# code from miricap.imager section written by Christophe Cossou of the MIRI EC team.\n",
    "\n",
    "def get_band_info(band, system):\n",
    "    \"\"\"\n",
    "    Retrieve information on a given band in a dictionnary 'band_info' that need to be\n",
    "    available in global variable of the script at this level.\n",
    "    :param str band: Band name (e.g. V for Johnson)\n",
    "    :param str system: possible values: Johnson, 2MASS, UKIRT, MARLIN)\n",
    "    :return: wref in microns and zeropoint in Jy\n",
    "    :rtype: tuple(Quantity, Quantity)\n",
    "    \"\"\"\n",
    "\n",
    "    system_list = [\"Johnson\", \"2MASS\", \"UKIRT\", \"MARLIN\"]\n",
    "\n",
    "    if system not in system_list:\n",
    "        LOG.info(f\"Unknown system '{system}'. Possible values: {system_list}\")\n",
    "        return None, None\n",
    "\n",
    "    key = f\"{system} {band}\"\n",
    "\n",
    "    try:\n",
    "        band_dict = band_info[key]\n",
    "        zeropoint = band_dict[\"zeropoint\"]\n",
    "        wref = band_dict[\"wref\"]\n",
    "    except KeyError:\n",
    "        bands = [k.split()[1] for k in band_info.keys() if system in k]\n",
    "        LOG.info(f\"Unknown band '{band}' for '{system}'. Available bands are: {', '.join(bands)}\")\n",
    "        return None, None\n",
    "\n",
    "    return wref * u.micron, zeropoint * u.Jy\n",
    "\n",
    "\n",
    "\n",
    "def mag2flux(magnitude, band, system=\"Johnson\"):\n",
    "    \"\"\"\n",
    "    Convert magnitude in a given band/system into flux in mJy (and return the corresponding wavelength reference\n",
    "    :param float magnitude: magnitude in a given bandpass\n",
    "    :param str band: band name (e.g 'V' or Johnson system)\n",
    "    :param str system: (By default Johnson, possible values: Johnson, 2MASS, UKIRT, MARLIN)\n",
    "    :return: flux in mJy and wref in microns\n",
    "    :rtype: tuple(float, float)\n",
    "    \"\"\"\n",
    "\n",
    "    wref, zero_point = get_band_info(band, system)\n",
    "\n",
    "    flux = zero_point * 10.0 ** (-0.4 * magnitude)\n",
    "\n",
    "    print(f\"Magnitude {magnitude} in {system} band {band} -> Flux: {flux} at {wref} microns\")\n",
    "\n",
    "    return flux.to(u.mJy).value, wref.value\n",
    "\n",
    "\n",
    "def extrapolate_flux(flux, wref, waves, temperature_star):\n",
    "    \"\"\"\n",
    "    From a flux and reference wavelength, will return the flux for other wavelength\n",
    "    (using the star effective temperature for the spectrum shape)\n",
    "    To convert magnitude flux in a band, use one of the following website for instance:\n",
    "    - http://ssc.spitzer.caltech.edu/warmmission/propkit/pet/magtojy/\n",
    "    - https://www.gemini.edu/sciops/instruments/midir-resources/imaging-calibrations/fluxmagnitude-conversion\n",
    "    :param float flux: Star flux in mJy\n",
    "    :param float wref: reference wavelength (microns) corresponding to the flux given in parameter\n",
    "    :param waves: list of wavelengths you want to extrapolate the star flux on.\n",
    "    :type waves: float or list(float) or np.array(float)\n",
    "    :param float temperature_star: star effective temperature in K\n",
    "    :return: flux values for all required wavelengths. Unit will be the unit of the input flux\n",
    "    :rtype: quantity or np.array(quantity)\n",
    "    \"\"\"\n",
    "    flux = flux * u.mJy\n",
    "    wref = wref * u.micron\n",
    "    waves = waves * u.micron\n",
    "\n",
    "    bb_star = models.BlackBody(temperature_star * u.K)\n",
    "\n",
    "    extrapolated_flux = flux * bb_star(waves) / bb_star(wref)\n",
    "\n",
    "    print(f\"Assuming T={temperature_star} K, Flux: {flux} at {wref} -> Flux: {extrapolated_flux} at {waves}\")\n",
    "\n",
    "    return extrapolated_flux"
   ]
  },
  {
   "cell_type": "markdown",
   "metadata": {},
   "source": [
    "### Print pipeline version number"
   ]
  },
  {
   "cell_type": "code",
   "execution_count": null,
   "metadata": {},
   "outputs": [],
   "source": [
    "print(jwst.__version__) \n",
    "print(data_dir)"
   ]
  },
  {
   "cell_type": "markdown",
   "metadata": {},
   "source": [
    "### Read in data "
   ]
  },
  {
   "cell_type": "code",
   "execution_count": null,
   "metadata": {},
   "outputs": [],
   "source": [
    "# Read in new dataset from Box\n",
    "\n",
    "def get_box_files(file_list):\n",
    "    for box_url,file_name in file_list:\n",
    "        if 'https' not in box_url:\n",
    "            box_url = 'https://stsci.box.com/shared/static/' + box_url\n",
    "        downloaded_file = download_file(box_url, timeout=600)\n",
    "        if Path(file_name).suffix == '':\n",
    "            ext = splitext(box_url)[1]\n",
    "            file_name += ext\n",
    "        move(downloaded_file, file_name)\n",
    "\n",
    "# Use F560W data set\n",
    "        \n",
    "#file_urls = ['https://stsci.box.com/shared/static/g8ozd2wkdo9klrtkafpe9qegpzhpd66a.fits', \n",
    "#             'https://stsci.box.com/shared/static/ym75nbqdi32t9wnbanm6s57itqixniyc.fits', \n",
    "#             'https://stsci.box.com/shared/static/0bqh6ijsc6kd7cyv6gtnj9kvly9t885f.fits',\n",
    "#             'https://stsci.box.com/shared/static/tywadpqcjhp9yxyv0sy91hc79red92xm.fits',\n",
    "#             'https://stsci.box.com/shared/static/lpcgp7jkq6lmjj2lxpk63jz9u05qgk3a.cat',\n",
    "#             'https://stsci.box.com/shared/static/15j6hkjc28zow4rjepob2t75dl887zs3.cat']\n",
    "\n",
    "#file_names = ['det_image_seq1_MIRIMAGE_F560Wexp1_rate.fits', \n",
    "#             'det_image_seq2_MIRIMAGE_F560Wexp1_rate.fits', \n",
    "#             'det_image_seq3_MIRIMAGE_F560Wexp1_rate.fits',\n",
    "#             'det_image_seq4_MIRIMAGE_F560Wexp1_rate.fits',\n",
    "#             'input_sim_stars.cat',\n",
    "#             'input_sim_galaxies.cat']\n",
    "\n",
    "# Test with F770W data set\n",
    "\n",
    "file_urls = ['https://stsci.box.com/shared/static/8573htf1p8mhk4e49z9b483dp975y3lz.fits',\n",
    "             'https://stsci.box.com/shared/static/p69h7uzlmqwlzf6kqqbf4lu9ibz28tc6.fits',\n",
    "             'https://stsci.box.com/shared/static/js8k6j20rek1oago057wxn08dhuticij.fits',\n",
    "             'https://stsci.box.com/shared/static/es253mc3m1sptusj9c9ctl1blidr1qdl.fits',\n",
    "             'https://stsci.box.com/shared/static/lpcgp7jkq6lmjj2lxpk63jz9u05qgk3a.cat',\n",
    "             'https://stsci.box.com/shared/static/15j6hkjc28zow4rjepob2t75dl887zs3.cat']\n",
    "\n",
    "\n",
    "file_names = ['det_image_seq1_MIRIMAGE_F770Wexp1_rate.fits', \n",
    "             'det_image_seq2_MIRIMAGE_F770Wexp1_rate.fits', \n",
    "             'det_image_seq3_MIRIMAGE_F770Wexp1_rate.fits',\n",
    "             'det_image_seq4_MIRIMAGE_F770Wexp1_rate.fits',\n",
    "             'input_sim_stars.cat',\n",
    "             'input_sim_galaxies.cat']\n",
    "\n",
    "\n",
    "box_download_list = [(url,name) for url,name in zip(file_urls,file_names)]\n",
    "\n",
    "\n",
    "get_box_files(box_download_list)\n"
   ]
  },
  {
   "cell_type": "markdown",
   "metadata": {},
   "source": [
    "<a id=\"pipeline_ID\"></a>\n",
    "## Run Pipelines\n",
    "\n",
    "Read in the data and run the JWST calibration pipelines.\n"
   ]
  },
  {
   "cell_type": "markdown",
   "metadata": {},
   "source": [
    "### Run output of calwebb_detector1 through calwebb_image2"
   ]
  },
  {
   "cell_type": "code",
   "execution_count": null,
   "metadata": {},
   "outputs": [],
   "source": [
    "# Run Calwebb_image2 on output files from detector1\n",
    "ratefiles = glob('*rate.fits')    \n",
    "    \n",
    "print('There are ', len(ratefiles), ' images.')\n",
    "    \n",
    "callist = []\n",
    "\n",
    "# cycle through files\n",
    "for im in ratefiles:\n",
    "    pipe2 = Image2Pipeline()\n",
    "    \n",
    "    rampfile = ImageModel(im)\n",
    "    filename = rampfile.meta.filename\n",
    "    # Set pipeline parameters\n",
    "\n",
    "    pipe2.save_results = True\n",
    "    pipe2.output_file = filename +'_cal.fits'\n",
    "    pipe2.resample.save_results = True\n",
    "    pipe2.suffix = None\n",
    "\n",
    "    calfile = pipe2.run(rampfile)\n",
    "\n",
    "    callist.append(calfile)\n",
    "\n",
    "print(callist)"
   ]
  },
  {
   "cell_type": "markdown",
   "metadata": {},
   "source": [
    "### Run output of calwebb_image2 through calwebb_image3"
   ]
  },
  {
   "cell_type": "markdown",
   "metadata": {},
   "source": [
    "### Create an association file to combine the input calibrated files"
   ]
  },
  {
   "cell_type": "code",
   "execution_count": null,
   "metadata": {},
   "outputs": [],
   "source": [
    "# use asn_from_list to create association table\n",
    "\n",
    "calfiles = glob('*_cal.fits')\n",
    "asn = asn_from_list.asn_from_list(calfiles, rule=DMS_Level3_Base, product_name='starfield_combined.fits')\n",
    "\n",
    "# use this if you need to add non'science' exposure types\n",
    "#asn['products'][0]['members'][1]['exptype'] = 'background'\n",
    "#asn['products'][0]['members'][2]['exptype'] = 'sourcecat'\n",
    "\n",
    "# dump association table to a .json file for use in image3\n",
    "with open('starfield_asnfile.json', 'w') as fp:\n",
    "    fp.write(asn.dump()[1])\n",
    "\n",
    "print(asn)    \n"
   ]
  },
  {
   "cell_type": "markdown",
   "metadata": {},
   "source": [
    "### Run Calwebb_Image3 pipeline\n",
    "\n",
    "For MIRI, the FWHM values are dependent on filter and should be set using the table below:\n",
    "\n",
    "|Filter | FWHM  |\n",
    "|-------| -------|\n",
    "|F560W      |     1.636\t\t|\t\n",
    "|F770W      |     2.187\t\t|\n",
    "|F1000W     |     2.888\t\t|\n",
    "|F1130W     |     3.318\t\t|\n",
    "|F1280W     |     3.713\t\t|\n",
    "|F1500W     |     4.354\t\t|\n",
    "|F1800W     |     5.224\t\t|\n",
    "|F2100W     |     5.989\t\t|\n",
    "|F2550W     |     7.312\t\t|\n",
    "|F2550WR    |     7.312\t    | \n",
    "\n",
    "For the fit geometry keyword, the following options are available:\n",
    "fitgeometry: A str value indicating the type of affine transformation to be considered when fitting catalogs. Allowed values:\n",
    "\n",
    "  *  'shift': x/y shifts only\n",
    "\n",
    "  *  'rscale': rotation and scale\n",
    "\n",
    "  *  'rshift': rotation and shifts\n",
    "\n",
    "  *  'general': shift, rotation, and scale (Default=”general”)\n"
   ]
  },
  {
   "cell_type": "code",
   "execution_count": null,
   "metadata": {},
   "outputs": [],
   "source": [
    "# Run Calwebb_image3 on the association table\n",
    "    \n",
    "# set any specific parameters\n",
    "# tweakreg parameters to allow data to run\n",
    "fwhm = 2.187  # Gaussian kernel FWHM of objects expected, default=2.5\n",
    "minobj = 5   # minimum number of objects needed to match positions for a good fit, default=15\n",
    "snr = 8      # signal to noise threshold, default=5\n",
    "sigma = 5    # clipping limit, in sigma units, used when performing fit, default=3\n",
    "fit_geom = 'shift' # ftype of affine transformation to be considered when fitting catalogs, default='general'\n",
    "use2dhist = False  # boolean indicating whether to use 2D histogram to find initial offset, default=True\n",
    "   \n",
    "pipe3=Image3Pipeline()    \n",
    "pipe3.tweakreg.kernel_fwhm = fwhm\n",
    "pipe3.tweakreg.snr_threshold = snr\n",
    "pipe3.tweakreg.minobj = minobj\n",
    "pipe3.tweakreg.sigma = sigma\n",
    "pipe3.tweakreg.fitgeometry = fit_geom\n",
    "pipe3.tweakreg.use2dhist = use2dhist\n",
    "pipe3.source_catalog.save_results = True\n",
    "pipe3.source_catalog.snr_threshold = snr\n",
    "pipe3.source_catalog.kernel_fwhm = fwhm\n",
    "pipe3.save_results = True\n",
    "\n",
    "# run Image3\n",
    "\n",
    "image = pipe3.run('starfield_asnfile.json')\n",
    "print('Image 3 pipeline finished.')"
   ]
  },
  {
   "cell_type": "markdown",
   "metadata": {},
   "source": [
    "<a id=\"output_ID\"></a>\n",
    "## Results\n",
    "Read in the output of the pipeline and check your results.\n",
    "\n",
    "### Read in output table of source_catalog step and print ecsv table"
   ]
  },
  {
   "cell_type": "code",
   "execution_count": null,
   "metadata": {},
   "outputs": [],
   "source": [
    "photfile = 'starfield_combined_cat.ecsv'\n",
    "input_file = 'starfield_combined_i2d.fits'"
   ]
  },
  {
   "cell_type": "code",
   "execution_count": null,
   "metadata": {},
   "outputs": [],
   "source": [
    "# Look at subset of table with full columns\n",
    "# If you have negative fluxes or repeated values of xcentroid or ycentroid, you may be finding spurious sources at image edges\n",
    "\n",
    "data = table.Table.read(photfile, format='ascii', comment='#')\n",
    "\n",
    "smalltable = data['label', 'xcentroid', 'ycentroid','aper30_flux', 'aper50_flux', 'aper70_flux', 'CI_50_30', 'CI_70_50','aper_total_flux']\n",
    "smalltable.pprint_all()\n",
    "#print(smalltable)"
   ]
  },
  {
   "cell_type": "code",
   "execution_count": null,
   "metadata": {},
   "outputs": [],
   "source": [
    "# Look at catalog table that shows all columns, but subset of rows\n",
    "# Pay attention to rows with a large number of nans, as this may indicate a spurious source\n",
    "\n",
    "catalog = Table.read(\"starfield_combined_cat.ecsv\")\n",
    "catalog"
   ]
  },
  {
   "cell_type": "markdown",
   "metadata": {},
   "source": [
    "### Display image and overplot detector sources from ecsv table "
   ]
  },
  {
   "cell_type": "code",
   "execution_count": null,
   "metadata": {},
   "outputs": [],
   "source": [
    "# Read in i2d combined Image\n",
    "im_i2d = ImageModel(input_file)    "
   ]
  },
  {
   "cell_type": "code",
   "execution_count": null,
   "metadata": {},
   "outputs": [],
   "source": [
    "# read in ecsv photom file\n",
    "from astropy.visualization import LogStretch, PercentileInterval, ManualInterval\n",
    "from astropy import table\n",
    "\n",
    "viz2 = LogStretch() + ManualInterval(0,10)\n",
    "\n",
    "plt.figure(figsize=(20,20))\n",
    "#plt.imshow(viz2(im_i2d.data), origin='lower')\n",
    "plt.imshow(im_i2d.data, origin='lower', cmap='rainbow', vmin=0, vmax=5)\n",
    "plt.colorbar()\n",
    "plt.scatter(data['xcentroid'], data['ycentroid'],lw=1, s=10,color='red')"
   ]
  },
  {
   "cell_type": "markdown",
   "metadata": {},
   "source": [
    "### In the image above, check that the stars found by source catalog (red) overlap with stars in the image"
   ]
  },
  {
   "cell_type": "markdown",
   "metadata": {},
   "source": [
    "### Look at the fluxes of the sources found"
   ]
  },
  {
   "cell_type": "code",
   "execution_count": null,
   "metadata": {},
   "outputs": [],
   "source": [
    "#create_scatterplot(catalog['label'], catalog['aper_total_flux'],title='Total Flux in '+str(catalog['aper_total_flux'].unit))\n",
    "\n",
    "fig = plt.figure(figsize=(10, 10))\n",
    "ax = plt.subplot()\n",
    "\n",
    "ax.scatter(catalog['label'], catalog['aper_total_flux'])\n",
    "plt.yscale('log')\n",
    "plt.title('Total Flux in '+ str(catalog['aper_total_flux'].unit))\n",
    "plt.xlabel('label')\n",
    "plt.ylabel('aper_total_flux')"
   ]
  },
  {
   "cell_type": "markdown",
   "metadata": {},
   "source": [
    "### Look at AB mag of sources found"
   ]
  },
  {
   "cell_type": "code",
   "execution_count": null,
   "metadata": {},
   "outputs": [],
   "source": [
    "create_scatterplot(catalog['label'], catalog['aper_total_abmag'],title='Total AB mag')"
   ]
  },
  {
   "cell_type": "markdown",
   "metadata": {},
   "source": [
    "### Look at the errors on the AB magnitudes"
   ]
  },
  {
   "cell_type": "code",
   "execution_count": null,
   "metadata": {},
   "outputs": [],
   "source": [
    "create_scatterplot(catalog['aper_total_abmag'], catalog['aper_total_abmag_err'],title='Total AB mag vs error')"
   ]
  },
  {
   "cell_type": "markdown",
   "metadata": {},
   "source": [
    "### Manually find matches\n",
    "Since this is a simulated data set, we can compare the output catalog information from the pipeline with the input catalog information used to create the simulation. Grab the input catalog x,y values and the output catalog x and y values."
   ]
  },
  {
   "cell_type": "code",
   "execution_count": null,
   "metadata": {},
   "outputs": [],
   "source": [
    "# Read in catalogs used for simulated data\n",
    "sim_star_cat = Table.read('input_sim_stars.cat', format='ascii')\n",
    "sim_gal_cat = Table.read('input_sim_galaxies.cat', format='ascii')"
   ]
  },
  {
   "cell_type": "code",
   "execution_count": null,
   "metadata": {},
   "outputs": [],
   "source": [
    "sim_star_cat\n"
   ]
  },
  {
   "cell_type": "code",
   "execution_count": null,
   "metadata": {},
   "outputs": [],
   "source": [
    "# join the star and galaxy catalogs used to make the simulations\n",
    "combined = table.vstack([sim_star_cat, sim_gal_cat])\n",
    "combined\n"
   ]
  },
  {
   "cell_type": "code",
   "execution_count": null,
   "metadata": {},
   "outputs": [],
   "source": [
    "sim_ra = combined['x']/3600.\n",
    "sim_dec = combined['y']/3600."
   ]
  },
  {
   "cell_type": "markdown",
   "metadata": {},
   "source": [
    "### Use MIRI software to put x, y coordinates from input catalog into RA, Dec coordinates"
   ]
  },
  {
   "cell_type": "code",
   "execution_count": null,
   "metadata": {},
   "outputs": [],
   "source": [
    "# Put star positions into RA and Dec\n",
    "\n",
    "# import coordinate conversion tools\n",
    "#import miricoord.tel.tel_tools as teltools\n",
    "#import miricoord.imager.mirim_pipetools as mpt\n",
    "#import miricoord.imager.mirim_tools as mt\n",
    "#import pysiaf\n",
    "\n",
    "#filt = 'F560W'\n",
    "# use pipeline to get v2ref and v3ref coordinates\n",
    "#siaf = pysiaf.Siaf('MIRI')\n",
    "#xref,yref=siaf['MIRIM_FULL'].XDetRef,siaf['MIRIM_FULL'].YDetRef\n",
    "#xref,yref=xref-1,yref-1\n",
    "#v2ref,v3ref=mt.xytov2v3(xref,yref,filt)\n",
    "\n",
    "# set reference for RA and Dec\n",
    "#raref = 0.0\n",
    "#decref = 0.0\n",
    "#rollref = 0.0\n",
    "\n",
    "#sim_ra = np.zeros(len(combined))\n",
    "#sim_dec = np.zeros(len(combined))\n",
    "\n",
    "# cycle through list of coordinates input into scene and get RA/Dec values out, printing to file\n",
    "#for i in range(len(combined)):\n",
    "    #print(combined['x'][i])\n",
    "#    v2 = v2ref + combined['x'][i]\n",
    "#    v3 = v3ref + combined['y'][i]\n",
    "#    ra,dec,newroll=teltools.jwst_v2v3toradec(v2,v3,v2ref=v2ref,v3ref=v3ref,raref=raref,decref=decref,rollref=rollref)\n",
    "    \n",
    "#    sim_ra[i] = ra\n",
    "#    sim_dec[i] = dec\n",
    "    \n",
    "#print(np.shape(sim_ra))\n",
    "#print(sim_ra, sim_dec)"
   ]
  },
  {
   "cell_type": "markdown",
   "metadata": {},
   "source": [
    "### Compare RA, Dec coordinates between simulator catalog and output catalog to find matches"
   ]
  },
  {
   "cell_type": "code",
   "execution_count": null,
   "metadata": {},
   "outputs": [],
   "source": [
    "cat_ra = catalog['sky_centroid'].ra.deg\n",
    "for i in range(len(cat_ra)):\n",
    "    if (cat_ra[i]>180.):\n",
    "        cat_ra[i] -= 360.\n",
    "cat_dec = catalog['sky_centroid'].dec.deg"
   ]
  },
  {
   "cell_type": "code",
   "execution_count": null,
   "metadata": {},
   "outputs": [],
   "source": [
    "# set the tolerance for differences and initialize counters\n",
    "\n",
    "tol = 1.e-5    # Set tolerance around 30 mas (units here are in degrees; 36 mas ~ 1e-5 deg)\n",
    "found_count=0\n",
    "multiples_count=0\n",
    "missed_count=0"
   ]
  },
  {
   "cell_type": "code",
   "execution_count": null,
   "metadata": {},
   "outputs": [],
   "source": [
    "# Set up array for matches\n",
    "detected = np.chararray(len(sim_ra))\n",
    "#print(np.shape(detected))\n",
    "\n",
    "for ra,dec,idx in zip(sim_ra, sim_dec,range(len(sim_ra))):\n",
    "\n",
    "    match = np.where((np.abs(ra-cat_ra) < tol) & (np.abs(dec-cat_dec) < tol))\n",
    "    #print('match', match)\n",
    "    \n",
    "    if np.size(match) == 1: \n",
    "        found_count +=1 \n",
    "        detected[idx] = 'Y'\n",
    "\n",
    "    if np.size(match) > 1:  \n",
    "        multiples_count +=1       \n",
    "        \n",
    "    if np.size(match) < 1:\n",
    "        missed_count +=1\n",
    "\n",
    "#print(np.shape(detected))"
   ]
  },
  {
   "cell_type": "code",
   "execution_count": null,
   "metadata": {},
   "outputs": [],
   "source": [
    "total_percent_found = (found_count/len(sim_ra))*100\n",
    "\n",
    "print('\\n')\n",
    "print('SNR threshold used for pipeline: ',pipe3.source_catalog.snr_threshold)\n",
    "print('Total matches found:',found_count)\n",
    "print('Total missed:',missed_count)\n",
    "print('Number of multiples: ',multiples_count)\n",
    "print('Total number of input (simulated) sources:',len(combined))\n",
    "print('Total number in output catalog:',len(catalog))\n",
    "print('Total percent found:',total_percent_found)\n",
    "print('\\n')"
   ]
  },
  {
   "cell_type": "markdown",
   "metadata": {},
   "source": [
    "### Use photutils to find catalog matches and compare which sources were found and matched.\n",
    "\n",
    "Photutils includes a package to match sources between catalogs by providing a max separation value. Set that value and compare the two catalogs.\n"
   ]
  },
  {
   "cell_type": "code",
   "execution_count": null,
   "metadata": {},
   "outputs": [],
   "source": [
    "catalog_in = SkyCoord(ra=sim_ra*u.degree, dec=sim_dec*u.degree) # full simulated catalog, stars+galaxies\n",
    "catalog_out = SkyCoord(ra=cat_ra*u.degree, dec=cat_dec*u.degree)"
   ]
  },
  {
   "cell_type": "code",
   "execution_count": null,
   "metadata": {},
   "outputs": [],
   "source": [
    "max_sep = 0.04 * u.arcsec # Set match at around 30 mas"
   ]
  },
  {
   "cell_type": "code",
   "execution_count": null,
   "metadata": {},
   "outputs": [],
   "source": [
    "# match full tables\n",
    "idx, d2d, d3d = match_coordinates_sky(catalog_in, catalog_out)\n",
    "sep_constraint = d2d < max_sep\n",
    "combined_matched = combined[sep_constraint] # simulated sources matched\n",
    "catalog_matched = catalog[idx[sep_constraint]] # sources found matched\n",
    "\n",
    "print(catalog_matched.colnames)\n",
    "print()\n",
    "print(catalog_matched)"
   ]
  },
  {
   "cell_type": "code",
   "execution_count": null,
   "metadata": {},
   "outputs": [],
   "source": [
    "#match RA and Dec\n",
    "idx, d2d, d3d = match_coordinates_sky(catalog_in, catalog_out)\n",
    "sep_constraint = d2d < max_sep\n",
    "catalog_in_matches = catalog_in[sep_constraint]\n",
    "catalog_out_matches = catalog_out[idx[sep_constraint]]\n",
    "print(catalog_out_matches)"
   ]
  },
  {
   "cell_type": "markdown",
   "metadata": {},
   "source": [
    "Now, catalog_in_matches and catalog_out_matches are the matched sources in catalog_in and catalog_out, respectively, which are separated less than our max_sep value."
   ]
  },
  {
   "cell_type": "code",
   "execution_count": null,
   "metadata": {},
   "outputs": [],
   "source": [
    "print('Number of matched sources using max separation of '+str(max_sep)+': ',len(catalog_matched))"
   ]
  },
  {
   "cell_type": "markdown",
   "metadata": {},
   "source": [
    "### Plot RA and Dec positions of both catalogs\n",
    "The simulated positions are in red and the sources found with source catalog are marked in blue. Matched sources from both are marked in green."
   ]
  },
  {
   "cell_type": "code",
   "execution_count": null,
   "metadata": {},
   "outputs": [],
   "source": [
    "#rrr = catalog_in_matches.ra.deg\n",
    "#ddd = catalog_in_matches.dec.deg\n",
    "\n",
    "rrr = catalog_matched['sky_centroid'].ra.deg\n",
    "ddd = catalog_matched['sky_centroid'].dec.deg\n",
    "\n",
    "# make sure ra is in proper range for display\n",
    "plt.figure(figsize=(20,20))\n",
    "for i in range(len(rrr)):\n",
    "    if (rrr[i]>180.):\n",
    "        rrr[i] -= 360.\n",
    "        \n",
    "plt.scatter(rrr, ddd, lw=1, s=108,color='green')\n",
    "plt.scatter(sim_ra, sim_dec,lw=1, s=18,color='red')\n",
    "plt.scatter(cat_ra, cat_dec,lw=1, s=18,color='blue')"
   ]
  },
  {
   "cell_type": "markdown",
   "metadata": {},
   "source": [
    "### Convert matched RA/Dec coordinates back to x,y positions and plot matched stars on image"
   ]
  },
  {
   "cell_type": "code",
   "execution_count": null,
   "metadata": {},
   "outputs": [],
   "source": [
    "# Convert matched RA/Dec values back to x, y to plot on image\n",
    "\n",
    "#print(catalog_out_matches)\n",
    "\n",
    "# Read in wcs values from file header (in extension 1)\n",
    "#hdu = fits.open(input_file)[1]  \n",
    "#wcs = WCS(hdu.header)  \n",
    "\n",
    "# convert positions from RA/Dec back to x,y\n",
    "\n",
    "#x_matched, y_matched = wcs.world_to_pixel(catalog_out_matches)\n",
    "\n",
    "#print(x_matched)"
   ]
  },
  {
   "cell_type": "code",
   "execution_count": null,
   "metadata": {},
   "outputs": [],
   "source": [
    "# Plot all matched sources in red\n",
    "\n",
    "viz2 = LogStretch() + ManualInterval(0,10)\n",
    "\n",
    "plt.figure(figsize=(20,20))\n",
    "#plt.imshow(viz2(im_i2d.data), origin='lower')\n",
    "plt.imshow(im_i2d.data, origin='lower', cmap='rainbow', vmin=0, vmax=5)\n",
    "plt.colorbar()\n",
    "#plt.scatter(x_matched, y_matched,lw=1, s=10,color='red')\n",
    "plt.scatter(catalog_matched['xcentroid'], catalog_matched['ycentroid'], lw=1, s=10, color='red')      "
   ]
  },
  {
   "cell_type": "markdown",
   "metadata": {},
   "source": [
    "### Compare to full catalog and see where differences are\n",
    "The full source_catalog output is shown with black dots and the matched sources are shown with smaller white dots over the black dots. This shows the sources that were found in the catalog (source_catalog step) but not listed as a match between the input and calculated catalogs."
   ]
  },
  {
   "cell_type": "code",
   "execution_count": null,
   "metadata": {},
   "outputs": [],
   "source": [
    "viz2 = LogStretch() + ManualInterval(0,10)\n",
    "\n",
    "plt.figure(figsize=(20,20))\n",
    "#plt.imshow(viz2(im_i2d.data), origin='lower')\n",
    "plt.imshow(im_i2d.data, origin='lower', cmap='rainbow', vmin=0, vmax=5)\n",
    "plt.colorbar()\n",
    "plt.scatter(data['xcentroid'], data['ycentroid'],lw=1, s=10,color='black')\n",
    "#plt.scatter(x_matched, y_matched,lw=1, s=5,color='white')\n",
    "plt.scatter(catalog_matched['xcentroid'], catalog_matched['ycentroid'], lw=1, s=5, color='white')"
   ]
  },
  {
   "cell_type": "markdown",
   "metadata": {},
   "source": [
    "### Look at positions of sources in the simulated images from the catalogs used to create the images\n",
    "\n",
    "Are there more stars/galaxies in the simulation input catalogs than actually fit on the combined image? That would explain the sources beyond image edges."
   ]
  },
  {
   "cell_type": "code",
   "execution_count": null,
   "metadata": {},
   "outputs": [],
   "source": [
    "print(catalog_in)"
   ]
  },
  {
   "cell_type": "code",
   "execution_count": null,
   "metadata": {},
   "outputs": [],
   "source": [
    "# Read in wcs values from file header (in extension 1)\n",
    "hdu = fits.open(input_file)[1]  \n",
    "wcs = WCS(hdu.header)  \n",
    "\n",
    "# convert positions from RA/Dec back to x,y\n",
    "\n",
    "x_sim, y_sim = wcs.world_to_pixel(catalog_in)\n",
    "\n",
    "# Many sources go beyond image edges. Only display sources that were actually in FOV of combined image.\n",
    "minval = 0\n",
    "maxval = 1140\n",
    "\n",
    "ind = np.where((x_sim > minval) & (x_sim < 1110)& (y_sim > minval) & (y_sim < maxval))\n"
   ]
  },
  {
   "cell_type": "code",
   "execution_count": null,
   "metadata": {},
   "outputs": [],
   "source": [
    "viz2 = LogStretch() + ManualInterval(0,10)\n",
    "\n",
    "plt.figure(figsize=(20,20))\n",
    "#plt.imshow(viz2(im_i2d.data), origin='lower')\n",
    "plt.imshow(im_i2d.data, origin='lower', cmap='rainbow', vmin=0, vmax=5)\n",
    "plt.colorbar()\n",
    "plt.scatter(x_sim[ind], y_sim[ind],lw=1, s=5,color='white')"
   ]
  },
  {
   "cell_type": "markdown",
   "metadata": {},
   "source": [
    "## Compare fluxes between input sources and output catalog\n",
    "\n",
    "Input catalog 'combined' has Ks and J columns for stars and flux for galaxies.\n",
    "Output source catalog 'catalog' has aper_total_flux, 'isophotal_flux', 'aper_total_abmag', 'aper_total_vegamag', 'isophotal_abmag' and isophotal_vegamag.\n",
    "\n",
    "The first plot compares the magnitudes for the input simulated catalog (in blue) and the sources found with source catalog in green."
   ]
  },
  {
   "cell_type": "markdown",
   "metadata": {},
   "source": [
    "### Compare the star magnitudes and magnitude differences to the x position of the stars.\n"
   ]
  },
  {
   "cell_type": "code",
   "execution_count": null,
   "metadata": {},
   "outputs": [],
   "source": [
    "flux, wref = mag2flux(combined_matched['Ks'], band=\"Ks\", system=\"2MASS\")\n",
    "fnew = extrapolate_flux(flux, wref, 7.7, combined_matched['Teff'])\n",
    "F770W_ABmag = -2.5*np.log10((fnew.to(u.Jy)).value) + 8.9"
   ]
  },
  {
   "cell_type": "markdown",
   "metadata": {},
   "source": [
    "### Plot AB mag vs x position\n",
    "Simulated stars in blue, sources found in green."
   ]
  },
  {
   "cell_type": "code",
   "execution_count": null,
   "metadata": {},
   "outputs": [],
   "source": [
    "fig = plt.figure(figsize=(10, 10))\n",
    "ax = plt.subplot()\n",
    "\n",
    "ax.scatter(catalog_matched['xcentroid'], F770W_ABmag, color='blue', label='Simulated stars')\n",
    "ax.scatter(catalog_matched['xcentroid'], catalog_matched['aper_total_abmag'], color='green', label='Sources found')\n",
    "ax.legend()\n",
    "\n",
    "plt.xlabel('X position in pixels')\n",
    "plt.ylabel('AB mag')"
   ]
  },
  {
   "cell_type": "markdown",
   "metadata": {},
   "source": [
    "### Plot difference in magnitude against x and y position.\n",
    "Found catalog minus matched simulated AB mag vs. x position and vs. y position, with the median magnitude difference plotted as a horizontal line in red."
   ]
  },
  {
   "cell_type": "code",
   "execution_count": null,
   "metadata": {},
   "outputs": [],
   "source": [
    "fig = plt.figure(figsize=(10, 10))\n",
    "ax = plt.subplot()\n",
    "\n",
    "ax.set_ylim(-1,1)\n",
    "ax.scatter(catalog_matched['xcentroid'], F770W_ABmag-catalog_matched['aper_total_abmag'], color='blue')\n",
    "\n",
    "#ax.legend()\n",
    "plt.title('ABmag difference (simulated - found) vs. x position')\n",
    "plt.xlabel('X position in pixels')\n",
    "plt.ylabel('Delta AB mag')\n",
    "\n",
    "ok = np.logical_and(F770W_ABmag>0, F770W_ABmag<100)\n",
    "\n",
    "m = F770W_ABmag[ok]-catalog_matched['aper_total_abmag'][ok]\n",
    "np.median(m)\n",
    "plt.hlines(np.median(m), min(catalog_matched['xcentroid']), max(catalog_matched['xcentroid']), color='red')"
   ]
  },
  {
   "cell_type": "code",
   "execution_count": null,
   "metadata": {},
   "outputs": [],
   "source": [
    "fig = plt.figure(figsize=(10, 10))\n",
    "ax = plt.subplot()\n",
    "\n",
    "ax.set_ylim(-1,1)\n",
    "ax.scatter(catalog_matched['ycentroid'], F770W_ABmag-catalog_matched['aper_total_abmag'], color='blue')\n",
    "#ax.legend()\n",
    "\n",
    "plt.title('ABmag difference (simulated - found) vs. y position')\n",
    "plt.xlabel('Y position in pixels')\n",
    "plt.ylabel('Delta AB mag')\n",
    "\n",
    "ok = np.logical_and(F770W_ABmag>0, F770W_ABmag<100)\n",
    "\n",
    "m = F770W_ABmag[ok]-catalog_matched['aper_total_abmag'][ok]\n",
    "np.median(m)\n",
    "plt.hlines(np.median(m), min(catalog_matched['ycentroid']), max(catalog_matched['ycentroid']), color='red')"
   ]
  },
  {
   "cell_type": "markdown",
   "metadata": {},
   "source": [
    "### Plot AB magnitude difference against AB mag to see if there is a pattern in the differences by mag.\n",
    "\n",
    "Median difference marked by line in red."
   ]
  },
  {
   "cell_type": "code",
   "execution_count": null,
   "metadata": {},
   "outputs": [],
   "source": [
    "fig = plt.figure(figsize=(10, 10))\n",
    "ax = plt.subplot()\n",
    "\n",
    "ax.set_ylim(-1,1)\n",
    "ax.scatter(F770W_ABmag, F770W_ABmag-catalog_matched['aper_total_abmag'], color='blue')\n",
    "#ax.legend()\n",
    "\n",
    "plt.title('Difference in AB mag (simulated-found) vs. ABmag (simulated)')\n",
    "plt.xlabel('AB mag')\n",
    "plt.ylabel('Delta AB mag')\n",
    "\n",
    "ok = np.logical_and(F770W_ABmag>0, F770W_ABmag<100)\n",
    "\n",
    "m = F770W_ABmag[ok]-catalog_matched['aper_total_abmag'][ok]\n",
    "np.median(m)\n",
    "plt.hlines(np.median(m), 16, 24.5, color='red')"
   ]
  },
  {
   "cell_type": "markdown",
   "metadata": {},
   "source": [
    "#### Passing criteria\n",
    "\n",
    "Look at the matched image to see what sources were matched between the simulated and found catalogs and see if there is a pattern to which 'found' sources were not matched to the simulated catalog. Are they mostly galaxies or were the found sources in areas of confusion between two stars or sources where the source finding algorithm might not have pinpointed the actual centroid of the source. If the majority of the sources matched seem to be the stars that are clearly marked and properly found, that part of the test passes.\n",
    "\n",
    "If the plots showing magnitudes of the matched sources show that they're close (exact criteria for 'close' TBD), then that test passes.\n",
    "\n",
    "This test is mostly visual inspection of the images and plots. As long as nothing is obviously wrong (no columns in the table marked as all NaNs, sources found seem to be real sources, and a good number of them match the simulated sources input into the image), then this test passes."
   ]
  },
  {
   "cell_type": "markdown",
   "metadata": {},
   "source": [
    "#### About this Notebook\n",
    "\n",
    "Authors: M. Cracraft, M. Libralato and T. Temim, MIRI Branch\n",
    "\n",
    "Updated On: 08/18/2021\n"
   ]
  },
  {
   "cell_type": "code",
   "execution_count": null,
   "metadata": {},
   "outputs": [],
   "source": []
  }
 ],
 "metadata": {
  "language_info": {
   "name": "python"
  }
 },
 "nbformat": 4,
 "nbformat_minor": 4
}
