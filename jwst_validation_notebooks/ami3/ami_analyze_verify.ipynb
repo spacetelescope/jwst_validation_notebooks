{
 "cells": [
  {
   "cell_type": "markdown",
   "metadata": {},
   "source": [
    "<a id=\"title_ID\"></a>\n",
    "# JWST Pipeline Validation Notebook: AMI3, AmiAnalyze\n",
    "\n",
    "<span style=\"color:red\"> **Instruments Affected**</span>: NIRISS \n",
    "\n",
    "### Table of Contents\n",
    "Follow this general outline. Additional sections may be added and others can be excluded, as needed. Sections in with a (\\*) symbol are required.\n",
    "\n",
    "<div style=\"text-align: left\"> \n",
    "    \n",
    "<br> [Introduction](#intro)\n",
    "<br> [JWST CalWG Algorithm](#algorithm)\n",
    "<br> [Defining Terms](#terms)\n",
    "<br> [Test Description](#description)\n",
    "<br> [Data Description](#data_descr)\n",
    "<br> [Set up Temporary Directory](#tempdir)\n",
    "<br> [Imports](#imports)\n",
    "<br> [Loading the Data](#data_load)\n",
    "<br> [Run the Pipeline](#pipeline)\n",
    "<br> [Perform Tests and Visualization](#testing) \n",
    "<br> [About This Notebook](#about)\n",
    "<br>    \n",
    "\n",
    "</div>"
   ]
  },
  {
   "cell_type": "markdown",
   "metadata": {},
   "source": [
    "<a id=\"intro\"></a>\n",
    "# Introduction\n",
    "\n",
    "This notebook runs the `AmiAnalyze` step of the `calwebb_ami3` stage of the pipeline. The results are compared against results from the stand-alone `implaneia` code to verify that the algorithm is implemented correctly.\n",
    "\n",
    "For more information on the `calwebb_ami3` pipeline stage visit the links below. \n",
    "\n",
    "> Stage description: https://jwst-pipeline.readthedocs.io/en/latest/jwst/pipeline/calwebb_ami3.html\n",
    ">\n",
    "> Pipeline code: https://github.com/spacetelescope/jwst/tree/master/jwst/ami\n",
    "\n",
    "[Top of Page](#title_ID)"
   ]
  },
  {
   "cell_type": "markdown",
   "metadata": {},
   "source": [
    "<a id=\"algorithm\"></a>\n",
    "# JWST CalWG Algorithm\n",
    "\n",
    "`AmiAnalyze` is based on the `implaneia` algorithm:\n",
    "> https://github.com/anand0xff/ImPlaneIA/tree/delivery\n",
    "\n",
    "\n",
    "[Top of Page](#title_ID)"
   ]
  },
  {
   "cell_type": "markdown",
   "metadata": {},
   "source": [
    "<a id=\"terms\"></a>\n",
    "# Defining Terms\n",
    "\n",
    "Calibrator: reference star to measure PSF to calibrate out instrumental contributions to the interferometric observables \n",
    "\n",
    "PSF: point spread function\n",
    "\n",
    "Target: source of interest for science program \n",
    "\n",
    "[Top of Page](#title_ID)"
   ]
  },
  {
   "cell_type": "markdown",
   "metadata": {},
   "source": [
    "<a id=\"description\"></a>\n",
    "# Test Description\n",
    "\n",
    "This notebooks assesses consistency between the output of ImPlaneIA and the AMI3 step of the pipeline, which is based on ImPlaneIA. The notebook checks the following parameters for consistency between ImPlaneIA and AMI3:\n",
    "- Peak of PSF in analytical model\n",
    "- Maximum and minimum pixel values in residual (data - model) image\n",
    "- Kurtosis of residuals\n",
    "- Closure amplitudes \n",
    "- Closure phases \n",
    "- Fringe amplitudes \n",
    "- Fringe phases\n",
    "- Pistons\n",
    "- Solutions\n",
    "\n",
    "\n",
    "The notebook also produces the following plots for inspection, from both the pipeline and ImPlaneIA:\n",
    "- Analytical model image\n",
    "- Residual image\n",
    "- Pixel values of residuals\n",
    "- Closure amplitude index vs closure amplitude\n",
    "- Closure phase index vs closure phases\n",
    "- Fringe amplitude index vs closure amplitude\n",
    "- Fringe phase index vs fringe phases\n",
    "- Aperture index vs pistons\n",
    "- Solutions index vs solutions\n",
    "- Scatter plots between values derived from pipeline vs ImPlaneIA for following parameters:\n",
    "    - closure amplitudes\n",
    "    - closure phases\n",
    "    - fringe amplitudes\n",
    "    - fringe phases\n",
    "    - piston\n",
    "    - solutions\n",
    "\n",
    "[Top of Page](#title_ID)"
   ]
  },
  {
   "cell_type": "markdown",
   "metadata": {},
   "source": [
    "<a id=\"data_descr\"></a>\n",
    "# Data Description\n",
    "\n",
    "We simulated point source data with ImPlaneIA. The name of the simulated image is `all_effects_data.fits`. This data is rotated by 2 degrees, has simulated pistons and is offset from the pixel center. ImPlaneIA was used to analyze the data. \n",
    "\n",
    "The following files store the results from analyzing all_effects_data.fits with ImPlaneIA:\n",
    "\n",
    "| Filename        | Description|\n",
    "|:----------------|:-----------|\n",
    "|modelsolution_00.fits | Analytical model created by ImPlaneIA |\n",
    "|residual_00.fits      | data - model |\n",
    "|CAs_00.txt            | 35 closure amplitudes|\n",
    "|CPs_00.txt            | 35 closure phases |\n",
    "|amplitudes_00.txt     | 21 fringe amplitudes |\n",
    "|phases_00.txt         | 35 fringe phases |\n",
    "|fringepistons_00.txt  | 7 pistons (optical path delays between mask holes) |\n",
    "|solutions_00.txt      | 44 fringe coefficients of terms in the analytical model |\n",
    "\n",
    "We then simulated binary point source data with Mirage and replaced the data part of the file with data simulated with ImPlaneIA. For comparing ImPlaneIA with pipeline we need to run both ImPlaneIA and the pipeline on the same data. We cannot run delivered version (May 2020) of ImPlaneIA on Mirage data because of recent changes to CDELT1 and CDELT2 pipeline header keywords that are required by ImPlaneIA. We are therefore using data simulated by ImPlaneIA for the comparison. \n",
    "\n",
    "We will use `jw01093001001_01101_00005_nis_cal.fits` only to get headers required by the pipeline to process the data. The SCI extension for this file will come from the file `all_effects_data.fits` that was simulated with ImPlaneIA.  The configuration file that will be used for the AmiAnalyze stage of the pipeline is `ami_analyze.cfg`.\n",
    "\n",
    "[Top of Page](#title_ID)"
   ]
  },
  {
   "cell_type": "markdown",
   "metadata": {},
   "source": [
    "<a id=\"tempdir\"></a>\n",
    "# Set up Temporary Directory\n",
    "\n",
    "[Top of Page](#title_ID)"
   ]
  },
  {
   "cell_type": "code",
   "execution_count": null,
   "metadata": {},
   "outputs": [],
   "source": [
    "use_tempdir = True\n",
    "\n",
    "# Create a temporary directory to hold notebook output, and change the working directory to that directory.\n",
    "from tempfile import TemporaryDirectory\n",
    "import os\n",
    "import shutil\n",
    "\n",
    "if use_tempdir:\n",
    "    data_dir = TemporaryDirectory()\n",
    "\n",
    "    # Save original directory\n",
    "    orig_dir = os.getcwd()\n",
    "\n",
    "    # Move to new directory\n",
    "    odir = data_dir.name\n",
    "    os.chdir(data_dir.name)\n",
    "\n",
    "# For info, print out where the script is running\n",
    "print(\"Running in {}\".format(os.getcwd()))"
   ]
  },
  {
   "cell_type": "code",
   "execution_count": null,
   "metadata": {},
   "outputs": [],
   "source": [
    "import os\n",
    "if 'CRDS_CACHE_TYPE' in os.environ:\n",
    "    if os.environ['CRDS_CACHE_TYPE'] == 'local':\n",
    "        os.environ['CRDS_PATH'] = os.path.join(os.environ['HOME'], 'crds', 'cache')\n",
    "    elif os.path.isdir(os.environ['CRDS_CACHE_TYPE']):\n",
    "        os.environ['CRDS_PATH'] = os.environ['CRDS_CACHE_TYPE']\n",
    "print('CRDS cache location: {}'.format(os.environ['CRDS_PATH']))"
   ]
  },
  {
   "cell_type": "markdown",
   "metadata": {},
   "source": [
    "<a id=\"imports\"></a>\n",
    "# Imports\n",
    "List the package imports and why they are relevant to this notebook.\n",
    "\n",
    "\n",
    "* astropy.io for opening fits files\n",
    "* numpy for working with arrays\n",
    "* IPython.display for printing markdown output\n",
    "* scipy.stats to calculate kurtosis of distribution of pixel values in image\n",
    "* jwst.datamodels for building model for JWST Pipeline\n",
    "* jwst.pipeline.collect_pipeline_cfgs for gathering configuration files\n",
    "* jwst.ami to call the AMI Analyze step\n",
    "* from ci_watson.artifactory_helpers import get_bigdata for reading data from Artifactory\n",
    "* matplotlib.pyplot.plt to generate plots\n",
    "\n",
    "\n",
    "[Top of Page](#title_ID)"
   ]
  },
  {
   "cell_type": "code",
   "execution_count": null,
   "metadata": {},
   "outputs": [],
   "source": [
    "from astropy.io import fits\n",
    "import numpy as np\n",
    "from IPython.display import Markdown\n",
    "from scipy.stats import kurtosis \n",
    "\n",
    "from jwst.pipeline.collect_pipeline_cfgs import collect_pipeline_cfgs\n",
    "from jwst.ami import AmiAnalyzeStep \n",
    "import jwst.datamodels as datamodels\n",
    "\n",
    "from ci_watson.artifactory_helpers import get_bigdata\n",
    "\n",
    "import matplotlib.pyplot as plt"
   ]
  },
  {
   "cell_type": "markdown",
   "metadata": {},
   "source": [
    "<a id=\"data_load\"></a>\n",
    "# Loading the Data\n",
    "\n",
    "[Top of Page](#title_ID)"
   ]
  },
  {
   "cell_type": "code",
   "execution_count": null,
   "metadata": {},
   "outputs": [],
   "source": [
    "# Load simulation files:\n",
    "# Load data simulated with Mirage\n",
    "imold_f = get_bigdata('jwst_validation_notebooks',\n",
    "                      'validation_data',\n",
    "                      'ami_analyze',\n",
    "                      'jw01093001001_01101_00005_nis_cal.fits')\n",
    "# Load data simulated with ImPlaneIA\n",
    "newdata_f = get_bigdata('jwst_validation_notebooks',\n",
    "                        'validation_data',\n",
    "                        'ami_analyze',\n",
    "                        'all_effects_data.fits')\n",
    "\n",
    "# Load configuration file\n",
    "cfg_file = get_bigdata('jwst_validation_notebooks',\n",
    "                       'validation_data',\n",
    "                       'ami_analyze',\n",
    "                       'ami_analyze.cfg')\n",
    "\n",
    "# Load results files from ImPlaneIA that we'll use to verify results\n",
    "im_model_f = get_bigdata('jwst_validation_notebooks',\n",
    "                         'validation_data',\n",
    "                         'ami_analyze',\n",
    "                         'modelsolution_00.fits')\n",
    "im_residual_f = get_bigdata('jwst_validation_notebooks',\n",
    "                            'validation_data',\n",
    "                            'ami_analyze',\n",
    "                            'residual_00.fits')\n",
    "# closure amplitudes:\n",
    "ca_impl_f = get_bigdata('jwst_validation_notebooks',\n",
    "                        'validation_data',\n",
    "                        'ami_analyze',\n",
    "                        'CAs_00.txt')\n",
    "# closure phases:\n",
    "cp_impl_f = get_bigdata('jwst_validation_notebooks',\n",
    "                        'validation_data',\n",
    "                        'ami_analyze',\n",
    "                        'CPs_00.txt')\n",
    "# fringe amplitudes\n",
    "fringeampl_impl_f = get_bigdata('jwst_validation_notebooks',\n",
    "                                'validation_data',\n",
    "                                'ami_analyze',\n",
    "                                'amplitudes_00.txt')\n",
    "# fringe phases\n",
    "fringephase_impl_f = get_bigdata('jwst_validation_notebooks',\n",
    "                                 'validation_data',\n",
    "                                 'ami_analyze',\n",
    "                                 'phases_00.txt')\n",
    "# pistons\n",
    "pistons_impl_f = get_bigdata('jwst_validation_notebooks',\n",
    "                             'validation_data',\n",
    "                             'ami_analyze',\n",
    "                             'fringepistons_00.txt')\n",
    "# solutions (fringe coefficients of the 44 terms in the analytical model)\n",
    "solutions_impl_f = get_bigdata('jwst_validation_notebooks',\n",
    "                               'validation_data',\n",
    "                               'ami_analyze',\n",
    "                               'solutions_00.txt')"
   ]
  },
  {
   "cell_type": "markdown",
   "metadata": {},
   "source": [
    "## Create dataset to run through AmiAnalyzeStep\n",
    "Open up the Mirage simulation which has the header info we want:"
   ]
  },
  {
   "cell_type": "code",
   "execution_count": null,
   "metadata": {},
   "outputs": [],
   "source": [
    "imold = fits.open(imold_f)\n",
    "# show what's in the file:\n",
    "imold.info()"
   ]
  },
  {
   "cell_type": "markdown",
   "metadata": {},
   "source": [
    "Fetch data simulated with ImPlaneIA and combine with header from file above:"
   ]
  },
  {
   "cell_type": "code",
   "execution_count": null,
   "metadata": {},
   "outputs": [],
   "source": [
    "newdata = fits.getdata(newdata_f)\n",
    "imold[1].data = newdata\n",
    "imold.writeto(\"dataset_for_amianalyze.fits\", overwrite=True)\n",
    "\n",
    "# Modify a keyword in each data file: only necessary for now\n",
    "# Next three lines are temporary to accommodate recent changes to Mirage and pipeline\n",
    "# and for Mirage to work with the pipeline.\n",
    "df = \"dataset_for_amianalyze.fits\"\n",
    "with datamodels.open(df) as model:\n",
    "        model.meta.dither.dither_points = int(model.meta.dither.dither_points)\n",
    "        model.save(df)"
   ]
  },
  {
   "cell_type": "markdown",
   "metadata": {},
   "source": [
    "<a id=\"pipeline\"></a>\n",
    "# Run the AMI Analyze step of the pipeline\n",
    "\n",
    "[Top of Page](#title_ID)"
   ]
  },
  {
   "cell_type": "code",
   "execution_count": null,
   "metadata": {},
   "outputs": [],
   "source": [
    "result = AmiAnalyzeStep.call(\"dataset_for_amianalyze.fits\", \n",
    "                             config_file=cfg_file,\n",
    "                             output_dir=odir, save_results=True)"
   ]
  },
  {
   "cell_type": "markdown",
   "metadata": {},
   "source": [
    "## Parse output of pipeline processing\n",
    "\n",
    "Inspect extensions of processed file"
   ]
  },
  {
   "cell_type": "code",
   "execution_count": null,
   "metadata": {},
   "outputs": [],
   "source": [
    "output_filename = result.meta.filename\n",
    "im_sim = fits.open(os.path.join(odir,output_filename))\n",
    "im_sim.info()"
   ]
  },
  {
   "cell_type": "markdown",
   "metadata": {},
   "source": [
    "### Parse output from pipeline processed file:"
   ]
  },
  {
   "cell_type": "code",
   "execution_count": null,
   "metadata": {},
   "outputs": [],
   "source": [
    "# closure amplitudes\n",
    "ca_pipe = im_sim['CLOSURE_AMP'].data\n",
    "\n",
    "# closure phases\n",
    "cp_pipe = im_sim['CLOSURE_PHA'].data\n",
    "\n",
    "# fringe amplitudes\n",
    "fringeamp_pipe = im_sim['FRINGE_AMP'].data\n",
    "\n",
    "# fringe phases\n",
    "fringephase_pipe = im_sim['FRINGE_PHA'].data\n",
    "\n",
    "# pistons\n",
    "pistons_pipe = im_sim['PUPIL_PHA'].data\n",
    "\n",
    "# solutions (fringe coefficients of the 44 terms in the analytical model)\n",
    "solns_pipe = im_sim['SOLNS'].data\n",
    "\n",
    "# analytical model created by the pipeline\n",
    "fit = im_sim['FIT'].data\n",
    "\n",
    "# residual: data - model\n",
    "resid = im_sim['RESID'].data"
   ]
  },
  {
   "cell_type": "markdown",
   "metadata": {},
   "source": [
    "### Parse ImPlaneIA results: model and residual"
   ]
  },
  {
   "cell_type": "code",
   "execution_count": null,
   "metadata": {},
   "outputs": [],
   "source": [
    "im_model = fits.getdata(im_model_f)\n",
    "im_residual = fits.getdata(im_residual_f)"
   ]
  },
  {
   "cell_type": "markdown",
   "metadata": {},
   "source": [
    "<a id=\"testing\"></a>\n",
    "# Perform Tests and Visualization\n",
    "## Do fit parameters derived from the pipeline match those calculated from ImPlaneIA?\n",
    "\n",
    "[Top of Page](#title_ID)"
   ]
  },
  {
   "cell_type": "markdown",
   "metadata": {},
   "source": [
    "### Set tolerances here \n",
    "If differences bewtween pipeline and ImPlaneIA values are below these thresholds, the test passes"
   ]
  },
  {
   "cell_type": "code",
   "execution_count": null,
   "metadata": {},
   "outputs": [],
   "source": [
    "# tolerance on relative error between ImPlaneIA and pipeline values\n",
    "tol = 1e-4\n",
    "\n",
    "# Tolerances for using numpy.isclose routine, to define the relative and absolute tolerances (rtol, atol)\n",
    "rtol = 0.0\n",
    "atol = 9e-2"
   ]
  },
  {
   "cell_type": "markdown",
   "metadata": {},
   "source": [
    "## Define routines to use for testing"
   ]
  },
  {
   "cell_type": "markdown",
   "metadata": {},
   "source": [
    "Routine to calculate relative error between values from ImPlaneIA and pipeline"
   ]
  },
  {
   "cell_type": "code",
   "execution_count": null,
   "metadata": {},
   "outputs": [],
   "source": [
    "def calc_rel_error(implaneia_value, pipe_value):\n",
    "    \n",
    "    rel_err = np.abs(implaneia_value - pipe_value)/implaneia_value\n",
    "    \n",
    "    return(rel_err)"
   ]
  },
  {
   "cell_type": "markdown",
   "metadata": {},
   "source": [
    "Define assertion test to check whether relative error between parameters is within acceptable tolerance"
   ]
  },
  {
   "cell_type": "code",
   "execution_count": null,
   "metadata": {},
   "outputs": [],
   "source": [
    "def test_assertion(implaneia_value, pipe_value, parameter_test, tol=tol):\n",
    "    \n",
    "    rel_err = calc_rel_error(implaneia_value, pipe_value)\n",
    "    \n",
    "    test_condition = rel_err < tol\n",
    "    \n",
    "    try:\n",
    "        assert(test_condition)\n",
    "        print(\"Relative error in {} agrees within tolerance of {} (test passed)\".format(parameter_test, tol))\n",
    "    except AssertionError as e:\n",
    "        print(\"\\nTEST FAILED!!\")\n",
    "        print(\"Relative error in {} did NOT within tolerance of {}\".format(parameter_test, tol))\n",
    "\n",
    "    # Print out values for reference:\n",
    "    print(\"ImPlaneIA value = {}\".format(implaneia_value))\n",
    "    print(\"Pipeline value = {}\\n\".format(pipe_value))"
   ]
  },
  {
   "cell_type": "markdown",
   "metadata": {},
   "source": [
    "Routine to calculate the mean and standard deviation in the difference between the ImPlaneIA and pipeline values and test whether they're within the pre-defined tolerance"
   ]
  },
  {
   "cell_type": "code",
   "execution_count": null,
   "metadata": {},
   "outputs": [],
   "source": [
    "def run_stats_assert(lg, pipe, parameter_test, tol=tol):\n",
    "    \n",
    "    mean_diff = np.mean(abs(lg - pipe))\n",
    "    stdev_diff = np.std(abs(lg - pipe))\n",
    "    \n",
    "    test_condition = (mean_diff < tol) & (stdev_diff < tol)\n",
    "    \n",
    "    try:\n",
    "        assert(test_condition)\n",
    "        print(\"Mean and standard deviation in difference of {} agrees within tolerance of {} (test passed)\".\\\n",
    "              format(parameter_test, tol))\n",
    "    except AssertionError as e:\n",
    "        print(\"\\nTEST FAILED!!\")\n",
    "        print(\"Mean and standard deviation in difference of {} did NOT within tolerance of {}\".\\\n",
    "              format(parameter_test, tol))\n",
    "\n",
    "    # Print out values for reference:\n",
    "    print(\"Mean difference value = {}\".format(mean_diff))\n",
    "    print(\"Standard deviation difference value = {}\\n\".format(stdev_diff))"
   ]
  },
  {
   "cell_type": "markdown",
   "metadata": {},
   "source": [
    "Routine to check whether values from ImPlaneIA processing and pipeline processing agree within specified tolerance"
   ]
  },
  {
   "cell_type": "code",
   "execution_count": null,
   "metadata": {},
   "outputs": [],
   "source": [
    "def isclose_assert(implaneia_array, pipe_array, parameter_test, rtol=rtol, atol=atol):\n",
    "\n",
    "    test_condition = np.isclose(implaneia_array, pipe_array, rtol, atol, equal_nan = False).all()\n",
    "    \n",
    "    try:\n",
    "        assert(test_condition)\n",
    "        print(\"Pipeline value are within {:0.2e} of ImPlaneIA values for {} (test passed)\\n\".\\\n",
    "              format(atol, parameter_test))\n",
    "    except AssertionError as e:\n",
    "        print(\"\\nTEST FAILED!!\")\n",
    "        print(\"Pipeline value are NOT within {:0.2e} of ImPlaneIA values for {}\\n\".\\\n",
    "             format(atol, parameter_test))"
   ]
  },
  {
   "cell_type": "markdown",
   "metadata": {},
   "source": [
    "Routine for making comparison plots of index versus parameter value: "
   ]
  },
  {
   "cell_type": "code",
   "execution_count": null,
   "metadata": {},
   "outputs": [],
   "source": [
    "def plot_index_v_par(impl, pipe, parameter, ylim=None):\n",
    "    \n",
    "    plt.figure(figsize = (12, 6))\n",
    "    \n",
    "    # ImPlaneIA value:\n",
    "    plt.plot(impl, color = 'green', linestyle = 'dashed', marker = 'o', \n",
    "         markerfacecolor = 'blue', markersize = 6, label = parameter + \" ImPlaneIA\")\n",
    "    \n",
    "    # Pipeline value\n",
    "    plt.plot(pipe, color = 'purple', linestyle = 'dashed', marker = '*', \n",
    "         markerfacecolor = 'red', markersize = 8, label = parameter + \" pipeline\")\n",
    "    \n",
    "    plt.legend(loc = \"upper right\")\n",
    "    \n",
    "    # Label axes and title\n",
    "    plt.xlabel(parameter + \" index\", fontsize = 14)\n",
    "    plt.ylabel(parameter , fontsize = 14)\n",
    "    plt.title(\"Comparison of \" + parameter, fontsize = 16)\n",
    "    \n",
    "    # Limit y-axis of tuple of limits provided\n",
    "    if ylim is not None:\n",
    "        plt.ylim(ylim)\n",
    "    \n",
    "    plt.show()"
   ]
  },
  {
   "cell_type": "markdown",
   "metadata": {},
   "source": [
    "Routine for making scatter plots to compare pipeline observables with those from ImPlaneIA"
   ]
  },
  {
   "cell_type": "code",
   "execution_count": null,
   "metadata": {},
   "outputs": [],
   "source": [
    "def scatt_plot(impl, pipe, param):\n",
    "    \n",
    "    plt.plot(impl, pipe, '.')\n",
    "    \n",
    "    # plot line where quantities are equal\n",
    "    xlims = plt.xlim()\n",
    "    ylims = plt.ylim()\n",
    "    plt.plot(xlims,ylims, color='grey')\n",
    "    plt.xlim(xlims)\n",
    "    plt.ylim(ylims)\n",
    "    \n",
    "    # overplot data points\n",
    "    plt.scatter(impl, pipe,color='blue')\n",
    "    \n",
    "    # Label plot\n",
    "    plt.title(param)\n",
    "    plt.ylabel(param + \" from AMI level3 pipeline\")\n",
    "    plt.xlabel(param + \" from ImPlaneIA\")\n",
    "    \n",
    "    plt.tight_layout()"
   ]
  },
  {
   "cell_type": "markdown",
   "metadata": {},
   "source": [
    "## Testing cells begin here"
   ]
  },
  {
   "cell_type": "markdown",
   "metadata": {},
   "source": [
    "### Compare peak of PSF and maximum and minimum values in residual image"
   ]
  },
  {
   "cell_type": "code",
   "execution_count": null,
   "metadata": {},
   "outputs": [],
   "source": [
    "# Compare peak of PSF\n",
    "test_assertion(im_model.max(), fit.max(), 'PSF peak')\n",
    "# Print the PSF data peak is in input data for reference\n",
    "print(\"**Data peak** (input data): {}\\n\\n\".format(newdata.max()))\n",
    "\n",
    "# Compare maximum pixel value\n",
    "test_assertion(im_residual.max(), resid.max(), 'Maximum pixel of residual image')\n",
    "\n",
    "# Compare minimum pixel value\n",
    "test_assertion(im_residual.min(), resid.min(), 'Minimum pixel of residual image')\n",
    "\n",
    "# Plot the analytical model and residual images for reference\n",
    "f = plt.figure(figsize = (12, 12))\n",
    "plt.subplot(2, 2, 1)\n",
    "plt.title(\"pipeline analytical model\")\n",
    "plt.imshow(fit, origin='lower')\n",
    "plt.subplot(2, 2, 2)\n",
    "plt.title(\"pipeline residual image\")\n",
    "plt.imshow(resid, origin='lower')\n",
    "plt.subplot(2, 2, 3)\n",
    "plt.imshow(im_model, origin='lower')\n",
    "plt.title(\"ImPlaneIA analytical model\")\n",
    "plt.subplot(2, 2, 4)\n",
    "plt.imshow(im_residual, origin='lower')\n",
    "plt.clim(im_residual.min(), im_residual.max())\n",
    "plt.title(\"ImPlaneIA residual image\")\n",
    "plt.show(block = True)"
   ]
  },
  {
   "cell_type": "markdown",
   "metadata": {},
   "source": [
    "### Compare residual images"
   ]
  },
  {
   "cell_type": "code",
   "execution_count": null,
   "metadata": {},
   "outputs": [],
   "source": [
    "# Compare kurtosis of pixel values in residual images\n",
    "test_assertion(kurtosis(np.ravel(im_residual)), kurtosis(np.ravel(resid)), \n",
    "               'Kurtosis of residual image')\n",
    "\n",
    "# Plot histogram of residual images\n",
    "plt.figure(figsize = (10, 6))\n",
    "plt.subplot(1, 2, 1)\n",
    "plt.hist(np.ravel(im_residual), bins = np.arange(-200, 200, 50), color = 'green', label = 'ImPlaneIA residuals')\n",
    "plt.legend(fontsize = 10)\n",
    "plt.xlabel('pixel value', fontsize = 10)\n",
    "plt.ylabel('$N_{pix}$', fontsize = 10)\n",
    "plt.subplot(1, 2, 2)\n",
    "plt.hist(np.ravel(resid),bins = np.arange(-200, 200, 50), color = 'purple', label = 'pipeline residuals')\n",
    "plt.xlabel('pixel value', fontsize = 10)\n",
    "plt.legend(fontsize = 10)\n",
    "plt.show()"
   ]
  },
  {
   "cell_type": "markdown",
   "metadata": {},
   "source": [
    "### Compare closure amplitudes"
   ]
  },
  {
   "cell_type": "code",
   "execution_count": null,
   "metadata": {},
   "outputs": [],
   "source": [
    "param = 'closure amplitude'\n",
    "\n",
    "ca_pipeline = [x[0] for x in ca_pipe]\n",
    "ca_impl = np.loadtxt(ca_impl_f)\n",
    "\n",
    "# Calculate mean and std of differences in closure phases\n",
    "run_stats_assert(ca_impl, ca_pipeline, param)\n",
    "\n",
    "# Check tolerance:\n",
    "isclose_assert(ca_impl, ca_pipeline, param)\n",
    "\n",
    "# Plot closure amplitudes\n",
    "plot_index_v_par(ca_impl, ca_pipeline, param)"
   ]
  },
  {
   "cell_type": "markdown",
   "metadata": {},
   "source": [
    "### Compare closure phases"
   ]
  },
  {
   "cell_type": "code",
   "execution_count": null,
   "metadata": {},
   "outputs": [],
   "source": [
    "param = 'closure phases'\n",
    "\n",
    "cp_pipeline = [x[0] for x in cp_pipe]\n",
    "cp_impl = np.loadtxt(cp_impl_f)\n",
    "\n",
    "# Calculate mean and std of differences in closure phases\n",
    "run_stats_assert(cp_impl, cp_pipeline, param)\n",
    "\n",
    "# Check tolerance:\n",
    "isclose_assert(cp_impl, cp_pipeline, param)\n",
    "\n",
    "# Plot closure phases\n",
    "plot_index_v_par(cp_impl, cp_pipeline, param)"
   ]
  },
  {
   "cell_type": "markdown",
   "metadata": {},
   "source": [
    "### Compare fringe amplitudes"
   ]
  },
  {
   "cell_type": "code",
   "execution_count": null,
   "metadata": {},
   "outputs": [],
   "source": [
    "param = 'fringe amplitudes'\n",
    "\n",
    "fringeamp_pipeline = [x[0] for x in fringeamp_pipe]\n",
    "fringeamp_impl = np.loadtxt(fringeampl_impl_f)\n",
    "\n",
    "# Calculate mean and std of differences in fringe amplitudes\n",
    "run_stats_assert(fringeamp_impl, fringeamp_pipeline, param)\n",
    "\n",
    "# Check tolerance:\n",
    "isclose_assert(fringeamp_impl, fringeamp_pipeline, param)\n",
    "\n",
    "# Plot fringe amplitudes\n",
    "plot_index_v_par(fringeamp_impl, fringeamp_pipeline, param, ylim=(0.45,1.3))"
   ]
  },
  {
   "cell_type": "markdown",
   "metadata": {},
   "source": [
    "### Compare fringe phases"
   ]
  },
  {
   "cell_type": "code",
   "execution_count": null,
   "metadata": {},
   "outputs": [],
   "source": [
    "param = 'fringe phases'\n",
    "fringephase_pipeline = [x[0] for x in fringephase_pipe]\n",
    "fringephase_impl = np.loadtxt(fringephase_impl_f)\n",
    "\n",
    "# Calculate mean and std of differences in fringe phases\n",
    "run_stats_assert(fringephase_impl, fringephase_pipeline, param)\n",
    "\n",
    "# Check tolerance:\n",
    "isclose_assert(fringephase_impl, fringephase_pipeline, param)\n",
    "\n",
    "# Plot fringe phases\n",
    "plot_index_v_par(fringephase_impl, fringephase_pipeline, param)"
   ]
  },
  {
   "cell_type": "markdown",
   "metadata": {},
   "source": [
    "### Compare pistons"
   ]
  },
  {
   "cell_type": "code",
   "execution_count": null,
   "metadata": {},
   "outputs": [],
   "source": [
    "param = 'pistons'\n",
    "pistons_pipeline = [x[0] for x in pistons_pipe]\n",
    "pistons_impl = np.loadtxt(pistons_impl_f)\n",
    "\n",
    "# Print piston values for reference\n",
    "print(pistons_pipeline, \"pistons pipeline\")\n",
    "print(pistons_impl, \"pistons ImPlaneIA\")\n",
    "\n",
    "# Calculate mean and std of differences in pistons\n",
    "run_stats_assert(pistons_impl, pistons_pipeline, param)\n",
    "\n",
    "# Check tolerance:\n",
    "isclose_assert(pistons_impl, pistons_pipeline, param)\n",
    "\n",
    "# Plot pistons\n",
    "plot_index_v_par(pistons_impl, pistons_pipeline, param)"
   ]
  },
  {
   "cell_type": "markdown",
   "metadata": {},
   "source": [
    "### Compare solutions"
   ]
  },
  {
   "cell_type": "code",
   "execution_count": null,
   "metadata": {},
   "outputs": [],
   "source": [
    "param = 'solutions'\n",
    "solutions_pipeline = [x[0] for x in solns_pipe]\n",
    "solutions_impl = np.loadtxt(solutions_impl_f)\n",
    "\n",
    "# Calculate mean and std of differences in solutions\n",
    "run_stats_assert(solutions_impl, solutions_pipeline, param)\n",
    "\n",
    "# Check tolerance:\n",
    "isclose_assert(solutions_impl, solutions_pipeline, param)\n",
    "\n",
    "# Plot solutions\n",
    "plot_index_v_par(solutions_impl, solutions_pipeline, param, ylim=(-0.6,1.4))"
   ]
  },
  {
   "cell_type": "markdown",
   "metadata": {},
   "source": [
    "### Scatter plots of observables calculated from pipeline and ImPlaneIA"
   ]
  },
  {
   "cell_type": "code",
   "execution_count": null,
   "metadata": {
    "scrolled": false
   },
   "outputs": [],
   "source": [
    "fig = plt.figure(figsize =(12, 18))\n",
    "fig.subplots_adjust(wspace = .4,hspace = 0.3)\n",
    "\n",
    "# Compare closure amplitudes\n",
    "plt.subplot(3, 2, 1)\n",
    "scatt_plot(ca_impl, ca_pipeline, 'closure amplitude')\n",
    "\n",
    "# Compare closure phases\n",
    "plt.subplot(3, 2, 2)\n",
    "scatt_plot(cp_impl, cp_pipeline, 'closure phases (radians)')\n",
    "\n",
    "# Compare fringe amplitudes\n",
    "plt.subplot(3, 2, 3)\n",
    "scatt_plot(fringeamp_impl, fringeamp_pipeline, 'fringe amplitudes')\n",
    "\n",
    "# Compare fringe phases\n",
    "plt.subplot(3, 2, 4)\n",
    "scatt_plot(fringephase_impl, fringephase_pipeline, 'fringe phases (radians)')\n",
    "\n",
    "# Compare pistons\n",
    "plt.subplot(3, 2, 5)\n",
    "scatt_plot(pistons_impl, pistons_pipeline, 'piston (pupil phases) radians')\n",
    "\n",
    "# Compare solutions\n",
    "plt.subplot(3, 2, 6)\n",
    "scatt_plot(solutions_impl, solutions_pipeline, 'solutions (fringe coefficients)')"
   ]
  },
  {
   "cell_type": "markdown",
   "metadata": {},
   "source": [
    "<a id=\"about_ID\"></a>\n",
    "## About this Notebook\n",
    "**Authors:** Deepashri Thatte, Senior Staff Scientist, NIRISS\n",
    "<br> Stepahanie LaMassa, Scientist, NIRISS\n",
    "<br>**Updated On:** 08/12/2021"
   ]
  },
  {
   "cell_type": "markdown",
   "metadata": {},
   "source": [
    "[Top of Page](#title_ID)\n",
    "<img style=\"float: right;\" src=\"./stsci_pri_combo_mark_horizonal_white_bkgd.png\" alt=\"stsci_pri_combo_mark_horizonal_white_bkgd\" width=\"200px\"/> "
   ]
  }
 ],
 "metadata": {
  "kernelspec": {
   "display_name": "Python 3 (ipykernel)",
   "language": "python",
   "name": "python3"
  },
  "language_info": {
   "codemirror_mode": {
    "name": "ipython",
    "version": 3
   },
   "file_extension": ".py",
   "mimetype": "text/x-python",
   "name": "python",
   "nbconvert_exporter": "python",
   "pygments_lexer": "ipython3",
   "version": "3.9.7"
  }
 },
 "nbformat": 4,
 "nbformat_minor": 1
}
