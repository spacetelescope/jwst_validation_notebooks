{
 "cells": [
  {
   "cell_type": "markdown",
   "metadata": {},
   "source": [
    "<a id=\"title_ID\"></a>\n",
    "# JWST NIRCam regression tests\n",
    "\n",
    "<span style=\"color:red\"> **Instruments Affected**</span>: NIRCam\n",
    "### Table of Contents\n",
    "\n",
    "<div style=\"text-align: left\"> \n",
    "    \n",
    "<br> [Introduction](#intro)\n",
    "<br> [JWST Regression Tests](#unit)\n",
    "<br> [Defining Terms](#terms)\n",
    "<br> [Test Description](#description)\n",
    "<br> [Data Description](#data_descr)\n",
    "<br> [Imports](#imports)\n",
    "<br> [Convenience Functions](#functions)\n",
    "<br> [Perform Tests](#testing) \n",
    "<br> [About This Notebook](#about)\n",
    "<br>    \n",
    "\n",
    "</div>"
   ]
  },
  {
   "cell_type": "markdown",
   "metadata": {},
   "source": [
    "<a id=\"intro\"></a>\n",
    "# Introduction\n",
    "\n",
    "This is the validation notebook that displays the regression tests for the NIRCam instrument in the JWST calibration pipeline. This notebook runs and displays the regression tests that are performed as a part of the normal software continuous integration process. For more information on the pipeline visit the links below. \n",
    "\n",
    "* Pipeline description: https://jwst-pipeline.readthedocs.io/en/latest/index.html\n",
    "\n",
    "* Pipeline code: https://github.com/spacetelescope/jwst\n",
    "\n",
    "[Top of Page](#title_ID)"
   ]
  },
  {
   "cell_type": "markdown",
   "metadata": {},
   "source": [
    "<a id=\"unit\"></a>\n",
    "# JWST Regression Tests\n",
    "\n",
    "JWST regression tests are located in the ```regtest``` folder of the pipeline within the [GitHub repository](https://github.com/spacetelescope/jwst/tree/master/jwst/regtest).\n",
    "\n",
    "* Regression test README: https://github.com/spacetelescope/jwst#regression-tests\n",
    "\n",
    "\n",
    "[Top of Page](#title_ID)"
   ]
  },
  {
   "cell_type": "markdown",
   "metadata": {},
   "source": [
    "<a id=\"terms\"></a>\n",
    "# Defining Terms\n",
    "\n",
    "These are terms or acronymns used in this notebook that may not be known a general audience.\n",
    "\n",
    "* JWST: James Webb Space Telescope\n",
    "\n",
    "* NIRCam: Near-Infrared Camera\n",
    "\n",
    "\n",
    "[Top of Page](#title_ID)"
   ]
  },
  {
   "cell_type": "markdown",
   "metadata": {},
   "source": [
    "<a id=\"description\"></a>\n",
    "# Test Description\n",
    "\n",
    "Regression testing is a software testing method which checks if the pipeline step produces the expected outcome by comparing an input file with a truth file. Truth files for testing are stored in Artifactory. \n",
    "\n",
    "\n",
    "[Top of Page](#title_ID)"
   ]
  },
  {
   "cell_type": "markdown",
   "metadata": {},
   "source": [
    "<a id=\"data_descr\"></a>\n",
    "# Data Description\n",
    "\n",
    "Data used for regression tests is stored in Artifactory, and consists of a mix of simulated and ground testing data for the different instruments and modes. \n",
    "\n",
    "\n",
    "[Top of Page](#title_ID)"
   ]
  },
  {
   "cell_type": "markdown",
   "metadata": {},
   "source": [
    "<a id=\"imports\"></a>\n",
    "# Imports\n",
    "\n",
    "* tempfile for creating temporary output products\n",
    "* pytest for unit test functions\n",
    "* jwst for the JWST Pipeline\n",
    "* IPython.display for display pytest reports\n",
    "\n",
    "[Top of Page](#title_ID)"
   ]
  },
  {
   "cell_type": "code",
   "execution_count": null,
   "metadata": {},
   "outputs": [],
   "source": [
    "import os\n",
    "if 'CRDS_CACHE_TYPE' in os.environ:\n",
    "    if os.environ['CRDS_CACHE_TYPE'] == 'local':\n",
    "        os.environ['CRDS_PATH'] = os.path.join(os.environ['HOME'], 'crds', 'cache')\n",
    "    elif os.path.isdir(os.environ['CRDS_CACHE_TYPE']):\n",
    "        os.environ['CRDS_PATH'] = os.environ['CRDS_CACHE_TYPE']\n",
    "print('CRDS cache location: {}'.format(os.environ['CRDS_PATH']))"
   ]
  },
  {
   "cell_type": "code",
   "execution_count": null,
   "metadata": {},
   "outputs": [],
   "source": [
    "import tempfile\n",
    "import os\n",
    "import pytest\n",
    "import jwst\n",
    "from IPython.display import IFrame\n",
    "from IPython.core.display import HTML"
   ]
  },
  {
   "cell_type": "markdown",
   "metadata": {},
   "source": [
    "<a id=\"functions\"></a>\n",
    "# Convenience Functions\n",
    "\n",
    "Here we define any convenience functions to help with running the unit tests. \n",
    "\n",
    "[Top of Page](#title_ID)"
   ]
  },
  {
   "cell_type": "code",
   "execution_count": null,
   "metadata": {},
   "outputs": [],
   "source": []
  },
  {
   "cell_type": "markdown",
   "metadata": {},
   "source": [
    "<a id=\"testing\"></a>\n",
    "# Perform Tests\n",
    "\n",
    "Below we run the regression tests for the NIRCam instrument.\n",
    "\n",
    "[Top of Page](#title_ID)"
   ]
  },
  {
   "cell_type": "code",
   "execution_count": null,
   "metadata": {
    "scrolled": false
   },
   "outputs": [],
   "source": [
    "print(\"Testing JWST Pipeline {}\".format(jwst.__version__))\n",
    "\n",
    "jwst_dir = os.path.dirname(jwst.__file__)\n",
    "regtest = os.path.join(jwst_dir, 'regtest')\n",
    "associations = os.path.join(jwst_dir, 'associations')\n",
    "datamodels = os.path.join(jwst_dir, 'datamodels')\n",
    "stpipe = os.path.join(jwst_dir, 'stpipe')\n",
    "\n",
    "with tempfile.TemporaryDirectory() as tmpdir:\n",
    "    outdir = os.path.join(tmpdir, 'regtest_report.html')\n",
    "    !pytest --bigdata {regtest} -k 'test_nircam' -v --ignore={associations} --ignore={datamodels} --ignore={stpipe} --html={outdir} --self-contained-html\n",
    "    with open(os.path.join(tmpdir, \"regtest_report.html\")) as report_file:\n",
    "        html_report = \"\".join(report_file.readlines())"
   ]
  },
  {
   "cell_type": "code",
   "execution_count": null,
   "metadata": {},
   "outputs": [],
   "source": [
    "HTML(html_report)"
   ]
  },
  {
   "cell_type": "markdown",
   "metadata": {},
   "source": [
    "<a id=\"about\"></a>\n",
    "## About This Notebook\n",
    "**Author:** Alicia Canipe, Staff Scientist, NIRCam\n",
    "<br>**Updated On:** 01/27/2021"
   ]
  },
  {
   "cell_type": "markdown",
   "metadata": {},
   "source": [
    "[Top of Page](#title_ID)\n",
    "<img style=\"float: right;\" src=\"./stsci_pri_combo_mark_horizonal_white_bkgd.png\" alt=\"stsci_pri_combo_mark_horizonal_white_bkgd\" width=\"200px\"/> "
   ]
  }
 ],
 "metadata": {
  "kernelspec": {
   "display_name": "Python 3",
   "language": "python",
   "name": "python3"
  },
  "language_info": {
   "codemirror_mode": {
    "name": "ipython",
    "version": 3
   },
   "file_extension": ".py",
   "mimetype": "text/x-python",
   "name": "python",
   "nbconvert_exporter": "python",
   "pygments_lexer": "ipython3",
   "version": "3.8.6"
  }
 },
 "nbformat": 4,
 "nbformat_minor": 1
}
