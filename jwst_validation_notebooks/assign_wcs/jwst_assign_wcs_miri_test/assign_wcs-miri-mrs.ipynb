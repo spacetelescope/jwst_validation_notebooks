{
 "cells": [
  {
   "cell_type": "markdown",
   "metadata": {},
   "source": [
    "<a id=\"title_ID\"></a>\n",
    "# JWST Pipeline Validation Testing Notebook: MIRI MRS Spec2: Assign_wcs()\n",
    "<span style=\"color:red\"> **Instruments Affected**</span>: FGS, MIRI, NIRCam, NIRISS, NIRSpec "
   ]
  },
  {
   "cell_type": "markdown",
   "metadata": {
    "toc": true
   },
   "source": [
    "<h1>Table of Contents<span class=\"tocSkip\"></span></h1>\n",
    "<div class=\"toc\"><ul class=\"toc-item\"><li><span><a href=\"#JWST-Pipeline-Validation-Testing-Notebook:-MIRI-MRS\" data-toc-modified-id=\"JWST-Pipeline-Validation-Testing-Notebook:-MIRI-MRS-1\"><span class=\"toc-item-num\">1&nbsp;&nbsp;</span>JWST Pipeline Validation Testing Notebook: MIRI MRS</a></span><ul class=\"toc-item\"><li><span><a href=\"#Spec2:-Assign_wcs()\" data-toc-modified-id=\"Spec2:-Assign_wcs()-1.1\"><span class=\"toc-item-num\">1.1&nbsp;&nbsp;</span>Spec2: Assign_wcs()</a></span><ul class=\"toc-item\"><li><span><a href=\"#Table-of-Contents\" data-toc-modified-id=\"Table-of-Contents-1.1.1\"><span class=\"toc-item-num\">1.1.1&nbsp;&nbsp;</span>Table of Contents</a></span></li></ul></li></ul></li><li><span><a href=\"#Imports\" data-toc-modified-id=\"Imports-2\"><span class=\"toc-item-num\">2&nbsp;&nbsp;</span>Imports</a></span></li><li><span><a href=\"#Introduction\" data-toc-modified-id=\"Introduction-3\"><span class=\"toc-item-num\">3&nbsp;&nbsp;</span>Introduction</a></span><ul class=\"toc-item\"><li><ul class=\"toc-item\"><li><span><a href=\"#Calibration-WG-Requested-Algorithm:\" data-toc-modified-id=\"Calibration-WG-Requested-Algorithm:-3.0.1\"><span class=\"toc-item-num\">3.0.1&nbsp;&nbsp;</span>Calibration WG Requested Algorithm:</a></span></li></ul></li></ul></li><li><span><a href=\"#Loading-Data\" data-toc-modified-id=\"Loading-Data-4\"><span class=\"toc-item-num\">4&nbsp;&nbsp;</span>Loading Data</a></span></li><li><span><a href=\"#Run-JWST-Pipeline---AssignWCS\" data-toc-modified-id=\"Run-JWST-Pipeline---AssignWCS-5\"><span class=\"toc-item-num\">5&nbsp;&nbsp;</span>Run JWST Pipeline - AssignWCS</a></span><ul class=\"toc-item\"><li><span><a href=\"#Output-checks-and-tests\" data-toc-modified-id=\"Output-checks-and-tests-5.1\"><span class=\"toc-item-num\">5.1&nbsp;&nbsp;</span>Output checks and tests</a></span></li><li><span><a href=\"#About-this-Notebook\" data-toc-modified-id=\"About-this-Notebook-5.2\"><span class=\"toc-item-num\">5.2&nbsp;&nbsp;</span>About this Notebook</a></span></li></ul></li></ul></div>"
   ]
  },
  {
   "cell_type": "markdown",
   "metadata": {},
   "source": [
    "<a id=\"imports_ID\"></a>\n",
    "# Imports\n",
    "List the library imports and why they are relevant to this notebook.\n",
    "\n",
    "* os, glob for general  OS operations\n",
    "* numpy\n",
    "* astropy.io for opening fits files\n",
    "* astropy.utils for remote data retrieval\n",
    "* IPython.display for printing markdown output\n",
    "* jwst.datamodels for building model for JWST Pipeline\n",
    "* jwst.module.PipelineStep is the pipeline step being tested\n",
    "* miricoord for coordinate conversion tools\n",
    "\n",
    "[Top of Page](#title_ID)"
   ]
  },
  {
   "cell_type": "code",
   "execution_count": null,
   "metadata": {},
   "outputs": [],
   "source": [
    "import os\n",
    "if 'CRDS_CACHE_TYPE' in os.environ:\n",
    "    if os.environ['CRDS_CACHE_TYPE'] == 'local':\n",
    "        os.environ['CRDS_PATH'] = os.path.join(os.environ['HOME'], 'crds', 'cache')\n",
    "    elif os.path.isdir(os.environ['CRDS_CACHE_TYPE']):\n",
    "        os.environ['CRDS_PATH'] = os.environ['CRDS_CACHE_TYPE']\n",
    "print('CRDS cache location: {}'.format(os.environ['CRDS_PATH']))"
   ]
  },
  {
   "cell_type": "code",
   "execution_count": null,
   "metadata": {
    "ExecuteTime": {
     "end_time": "2021-04-14T18:17:47.079448Z",
     "start_time": "2021-04-14T18:17:45.497701Z"
    },
    "nbpresent": {
     "id": "45177853-942e-4949-9e30-f544d70ef5f4"
    }
   },
   "outputs": [],
   "source": [
    "import glob\n",
    "import numpy as np\n",
    "from numpy.testing import assert_allclose\n",
    "import os\n",
    "\n",
    "import astropy.io.fits as fits\n",
    "import astropy.io.ascii as ascii\n",
    "from ci_watson.artifactory_helpers import get_bigdata\n",
    "from IPython.display import Markdown\n",
    "\n",
    "from jwst.assign_wcs import AssignWcsStep\n",
    "import miricoord.mrs.toolversions.mrs_pipetools_cdp8b as tv\n",
    "from miricoord.mrs import mrs_tools as mrst\n",
    "\n",
    "%matplotlib inline"
   ]
  },
  {
   "cell_type": "code",
   "execution_count": null,
   "metadata": {},
   "outputs": [],
   "source": [
    "use_tempdir = True\n",
    "\n",
    "# Create a temporary directory to hold notebook output, and change the working directory to that directory.\n",
    "from tempfile import TemporaryDirectory\n",
    "import os\n",
    "import shutil\n",
    "\n",
    "if use_tempdir:\n",
    "    data_dir = TemporaryDirectory()\n",
    "\n",
    "    # If you have files that are in the notebook's directory, but that the notebook will need to use while\n",
    "    # running, copy them into the temporary directory here.\n",
    "    #\n",
    "    # files = ['name_of_file']\n",
    "    # for file_name in files:\n",
    "    #     shutil.copy(file_name, os.path.join(data_dir.name, file_name))\n",
    "\n",
    "    # Save original directory\n",
    "    orig_dir = os.getcwd()\n",
    "\n",
    "    # Move to new directory\n",
    "    os.chdir(data_dir.name)\n",
    "\n",
    "# For info, print out where the script is running\n",
    "print(\"Running in {}\".format(os.getcwd()))\n"
   ]
  },
  {
   "cell_type": "markdown",
   "metadata": {},
   "source": [
    "<a id=\"intro_ID\"></a>\n",
    "# Introduction\n",
    "\n",
    "\n",
    "In this notebook we will test the assign_wcs step of Spec2Pipeline() for **MRS** observations.\n",
    "\n",
    "Step description: https://jwst-pipeline.readthedocs.io/en/latest/jwst/assign_wcs/index.html#assign-wcs-step\n",
    "\n",
    "Pipeline code: https://github.com/spacetelescope/jwst/tree/master/jwst/assign_wcs\n",
    "\n",
    "\n",
    "### Calibration WG Requested Algorithm: \n",
    "\n",
    "https://outerspace.stsci.edu/display/JWSTCC/Vanilla+Spectral+GWCS+Information\n",
    "\n",
    "\n",
    "\n",
    "[Top of Page](#title_ID)"
   ]
  },
  {
   "cell_type": "markdown",
   "metadata": {},
   "source": [
    "<a id=\"data_ID\"></a>\n",
    "# Loading Data\n",
    "\n",
    "We are using simulated MRS observations, generated with MIRISim v2.3.0 (as of Dec 2020). ***(Needs updating)*** \n",
    "\n",
    "[Top of Page](#title_ID)"
   ]
  },
  {
   "cell_type": "code",
   "execution_count": null,
   "metadata": {
    "ExecuteTime": {
     "end_time": "2021-04-14T18:21:03.117294Z",
     "start_time": "2021-04-14T18:17:47.081901Z"
    }
   },
   "outputs": [],
   "source": [
    "mock12A = get_bigdata('jwst_validation_notebooks',\n",
    "                 'validation_data',\n",
    "                 'assign_wcs',\n",
    "                 'assign_wcs_miri_test',\n",
    "                 'mock12A-0.fits')\n",
    "\n",
    "mock12B = get_bigdata('jwst_validation_notebooks',\n",
    "                 'validation_data',\n",
    "                 'assign_wcs',\n",
    "                 'assign_wcs_miri_test',\n",
    "                 'mock12B-0.fits')\n",
    "\n",
    "mock12C = get_bigdata('jwst_validation_notebooks',\n",
    "                 'validation_data',\n",
    "                 'assign_wcs',\n",
    "                 'assign_wcs_miri_test',\n",
    "                 'mock12C-0.fits')\n",
    "\n",
    "mock34A = get_bigdata('jwst_validation_notebooks',\n",
    "                 'validation_data',\n",
    "                 'assign_wcs',\n",
    "                 'assign_wcs_miri_test',\n",
    "                 'mock34A-0.fits')\n",
    "\n",
    "mock34B = get_bigdata('jwst_validation_notebooks',\n",
    "                 'validation_data',\n",
    "                 'assign_wcs',\n",
    "                 'assign_wcs_miri_test',\n",
    "                 'mock34B-0.fits')\n",
    "\n",
    "mock34C = get_bigdata('jwst_validation_notebooks',\n",
    "                 'validation_data',\n",
    "                 'assign_wcs',\n",
    "                 'assign_wcs_miri_test',\n",
    "                 'mock34C-0.fits')\n",
    "\n",
    "files = [mock12A, mock12B, mock12C, mock34A, mock34B, mock34C]"
   ]
  },
  {
   "cell_type": "markdown",
   "metadata": {},
   "source": [
    "Collect configuration files locally if they aren't yet there."
   ]
  },
  {
   "cell_type": "code",
   "execution_count": null,
   "metadata": {
    "ExecuteTime": {
     "end_time": "2021-04-14T18:21:03.122100Z",
     "start_time": "2021-04-14T18:21:03.119940Z"
    }
   },
   "outputs": [],
   "source": [
    "# if not os.path.exists('../cfg_files/'):\n",
    "#     os.mkdir('../cfg_files/')\n",
    "#     cfgs = collect_pipeline_cfgs.collect_pipeline_cfgs(dst='../cfg_files/')"
   ]
  },
  {
   "cell_type": "markdown",
   "metadata": {},
   "source": [
    "<a id=\"pipeline_ID\"></a>\n",
    "# Run JWST Pipeline - AssignWCS\n",
    "\n",
    "For this test we do not need to run the data through the Detector1() pipeline (in fact, this data will fail in Detector1). We begin by running the data through AssignWCS in spec2 using the 'assign_wcs.cfg' file. The AssignWcs step should not change anything in the science data or error extension. It attaches the WCS information to the data, so that a location in detector pixels can be reconstructed to an RA, dec, wavelength in spatial and spectral space.\n",
    "\n",
    "[Top of Page](#title_ID)"
   ]
  },
  {
   "cell_type": "code",
   "execution_count": null,
   "metadata": {
    "ExecuteTime": {
     "end_time": "2021-04-14T18:30:08.533227Z",
     "start_time": "2021-04-14T18:23:30.917854Z"
    }
   },
   "outputs": [],
   "source": [
    "awcs_out = []\n",
    "\n",
    "for dd in files: #det1_out:\n",
    "    awcs = AssignWcsStep.call(dd, save_results=True)\n",
    "    awcs_out.append(awcs)"
   ]
  },
  {
   "cell_type": "markdown",
   "metadata": {},
   "source": [
    "<a id=\"residual_ID\"></a>\n",
    "## Output checks and tests\n",
    "\n",
    "We can use the output model to run the following checks:\n",
    "\n",
    "* the SCI extension is unchanged from the step input (accept default tolerances for the np.allclose() function)\n",
    "* we use the wcs information assigned in the step to check the RA, dec, wavelength assignment at some reference locations. \n",
    "\n",
    "\n",
    "[Top of Page](#title_ID)"
   ]
  },
  {
   "cell_type": "code",
   "execution_count": null,
   "metadata": {
    "ExecuteTime": {
     "end_time": "2021-04-14T18:21:12.694419Z",
     "start_time": "2021-04-14T18:17:45.334Z"
    }
   },
   "outputs": [],
   "source": [
    "# Do a numeric check between input and output\n",
    "for (aa, dd) in zip(awcs_out, files):\n",
    "    data = fits.getdata(dd)\n",
    "    filename = os.path.split(dd)[-1]\n",
    "    assert np.allclose(aa.data, data, equal_nan=True), \"Step input and output don't match for {}\".format(filename)"
   ]
  },
  {
   "cell_type": "markdown",
   "metadata": {},
   "source": [
    "Load the set of test coordinates from ``miricoord``. Then calculate the wavelength of these coordinates from the assign_wcs output models, and verify that they are close. If all the ``assert`` tests pass, this test is successful and complete."
   ]
  },
  {
   "cell_type": "code",
   "execution_count": null,
   "metadata": {
    "ExecuteTime": {
     "end_time": "2021-04-14T18:21:12.695941Z",
     "start_time": "2021-04-14T18:17:45.336Z"
    },
    "code_folding": [
     0
    ]
   },
   "outputs": [],
   "source": [
    "def verify_coords(imgnum, ch, ref_data):\n",
    "    \"\"\"Uses predefined test cooridnates to check WCS output.\"\"\"\n",
    "    \n",
    "    xt = ref_data[ch]['x']\n",
    "    yt = ref_data[ch]['y']\n",
    "    v2t = ref_data[ch]['v2']\n",
    "    v3t = ref_data[ch]['v3']\n",
    "    lamt = ref_data[ch]['lam']\n",
    "    \n",
    "    lamtest1 = np.zeros(2)\n",
    "    lamtest2 = np.zeros(2)\n",
    "    atest1 = np.zeros(2)\n",
    "    btest1 = np.zeros(2)\n",
    "    v2test1 = np.zeros(2)\n",
    "    v3test1 = np.zeros(2)\n",
    "    lt1 = np.zeros(2)\n",
    "    \n",
    "    print('**** TEST SET {}****'.format(ch))\n",
    "    print(' x       y     lam_truth  lamtest1   v2truth   v3truth  v2test   v3test')\n",
    "    for i in range (2):\n",
    "        values = mrst.xytoabl(xt[i], yt[i], ch)\n",
    "        atest1[i], btest1[i], lt1[i] = values['alpha'], values['beta'], values['lam']\n",
    "        v2test1[i], v3test1[i] = mrst.abtov2v3(atest1[i], btest1[i], ch)\n",
    "        ra, dec, lamtest1[i] = awcs_out[imgnum].meta.wcs(xt[i], yt[i])\n",
    "        print('{0}  {1}   {2:.5f}    {3:.5f}    {4:.5f}   {5:.5f}   {6:.5f}   {7:.5f}'.format(\n",
    "            xt[i], yt[i], lamt[i], lamtest1[i], v2t[i], v3t[i], v2test1[i], v3test1[i]))\n",
    "\n",
    "        assert_allclose(lamt[i], lamtest1[i], atol=0.05)\n",
    "        assert_allclose(v2t[i], v2test1[i], atol=0.05)\n",
    "        assert_allclose(v3t[i], v3test1[i], atol=0.05)\n",
    "        \n",
    "    print('\\n')"
   ]
  },
  {
   "cell_type": "code",
   "execution_count": null,
   "metadata": {
    "ExecuteTime": {
     "end_time": "2021-04-14T18:21:12.697283Z",
     "start_time": "2021-04-14T18:17:45.337Z"
    }
   },
   "outputs": [],
   "source": [
    "mrd = tv.mrs_ref_data\n",
    "chan = {'0':'1A',\n",
    "        '1':'1B',\n",
    "        '2':'1C',\n",
    "        '3':'2A',\n",
    "        '4':'2B',\n",
    "        '5':'2C',\n",
    "        '6':'3A',\n",
    "        '7':'3B',\n",
    "        '8':'3C',\n",
    "        '9':'4A',\n",
    "        '10':'4B',\n",
    "        '11':'4C'}\n",
    "\n",
    "for i in range(12):\n",
    "    ch = chan[str(i)]\n",
    "    \n",
    "    if i < 6 and 'A' in ch:\n",
    "        imgnum = 0\n",
    "    elif i < 6 and 'B' in ch:\n",
    "        imgnum = 1\n",
    "    elif i < 6 and 'C' in ch:\n",
    "        imgnum = 2\n",
    "    elif i >= 6 and 'A' in ch:\n",
    "        imgnum = 3\n",
    "    elif i >= 6 and 'B' in ch:\n",
    "        imgnum = 4\n",
    "    elif i >= 6 and 'C' in ch:\n",
    "        imgnum = 5\n",
    "        \n",
    "    verify_coords(imgnum, ch, mrd)"
   ]
  },
  {
   "cell_type": "markdown",
   "metadata": {},
   "source": [
    "<a id=\"about_ID\"></a>\n",
    "## About this Notebook\n",
    "**Author:** Mike Engesser, Science Support Analyst, MIRI branch \n",
    "<br>(Adapted from Sarah Kendrew's AssignWCS LRS-SLIT notebook.)\n",
    "<br>**Updated On:** 4/01/2021"
   ]
  },
  {
   "cell_type": "markdown",
   "metadata": {},
   "source": [
    "[Top of Page](#title_ID)\n",
    "<img style=\"float: right;\" src=\"./stsci_pri_combo_mark_horizonal_white_bkgd.png\" alt=\"stsci_pri_combo_mark_horizonal_white_bkgd\" width=\"200px\"/> "
   ]
  },
  {
   "cell_type": "code",
   "execution_count": null,
   "metadata": {},
   "outputs": [],
   "source": []
  },
  {
   "cell_type": "code",
   "execution_count": null,
   "metadata": {},
   "outputs": [],
   "source": []
  }
 ],
 "metadata": {
  "kernelspec": {
   "display_name": "Python 3",
   "language": "python",
   "name": "python3"
  },
  "language_info": {
   "codemirror_mode": {
    "name": "ipython",
    "version": 3
   },
   "file_extension": ".py",
   "mimetype": "text/x-python",
   "name": "python",
   "nbconvert_exporter": "python",
   "pygments_lexer": "ipython3",
   "version": "3.8.8"
  },
  "toc": {
   "base_numbering": 1,
   "nav_menu": {},
   "number_sections": true,
   "sideBar": true,
   "skip_h1_title": false,
   "title_cell": "Table of Contents",
   "title_sidebar": "Contents",
   "toc_cell": true,
   "toc_position": {},
   "toc_section_display": true,
   "toc_window_display": true
  },
  "varInspector": {
   "cols": {
    "lenName": 16,
    "lenType": 16,
    "lenVar": 40
   },
   "kernels_config": {
    "python": {
     "delete_cmd_postfix": "",
     "delete_cmd_prefix": "del ",
     "library": "var_list.py",
     "varRefreshCmd": "print(var_dic_list())"
    },
    "r": {
     "delete_cmd_postfix": ") ",
     "delete_cmd_prefix": "rm(",
     "library": "var_list.r",
     "varRefreshCmd": "cat(var_dic_list()) "
    }
   },
   "types_to_exclude": [
    "module",
    "function",
    "builtin_function_or_method",
    "instance",
    "_Feature"
   ],
   "window_display": false
  }
 },
 "nbformat": 4,
 "nbformat_minor": 1
}
