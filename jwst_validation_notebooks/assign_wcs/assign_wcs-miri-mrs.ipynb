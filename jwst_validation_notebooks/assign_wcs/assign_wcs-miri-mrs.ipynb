{
 "cells": [
  {
   "cell_type": "markdown",
   "metadata": {
    "toc": true
   },
   "source": [
    "<h1>Table of Contents<span class=\"tocSkip\"></span></h1>\n",
    "<div class=\"toc\"><ul class=\"toc-item\"><li><span><a href=\"#JWST-Pipeline-Validation-Testing-Notebook:-MIRI-MRS\" data-toc-modified-id=\"JWST-Pipeline-Validation-Testing-Notebook:-MIRI-MRS-1\"><span class=\"toc-item-num\">1&nbsp;&nbsp;</span>JWST Pipeline Validation Testing Notebook: MIRI MRS</a></span><ul class=\"toc-item\"><li><span><a href=\"#Spec2:-Assign_wcs()\" data-toc-modified-id=\"Spec2:-Assign_wcs()-1.1\"><span class=\"toc-item-num\">1.1&nbsp;&nbsp;</span>Spec2: Assign_wcs()</a></span><ul class=\"toc-item\"><li><span><a href=\"#Table-of-Contents\" data-toc-modified-id=\"Table-of-Contents-1.1.1\"><span class=\"toc-item-num\">1.1.1&nbsp;&nbsp;</span>Table of Contents</a></span></li></ul></li></ul></li><li><span><a href=\"#Imports\" data-toc-modified-id=\"Imports-2\"><span class=\"toc-item-num\">2&nbsp;&nbsp;</span>Imports</a></span></li><li><span><a href=\"#Introduction\" data-toc-modified-id=\"Introduction-3\"><span class=\"toc-item-num\">3&nbsp;&nbsp;</span>Introduction</a></span><ul class=\"toc-item\"><li><ul class=\"toc-item\"><li><span><a href=\"#Calibration-WG-Requested-Algorithm:\" data-toc-modified-id=\"Calibration-WG-Requested-Algorithm:-3.0.1\"><span class=\"toc-item-num\">3.0.1&nbsp;&nbsp;</span>Calibration WG Requested Algorithm:</a></span></li></ul></li></ul></li><li><span><a href=\"#Loading-Data\" data-toc-modified-id=\"Loading-Data-4\"><span class=\"toc-item-num\">4&nbsp;&nbsp;</span>Loading Data</a></span></li><li><span><a href=\"#Run-JWST-Pipeline---AssignWCS\" data-toc-modified-id=\"Run-JWST-Pipeline---AssignWCS-5\"><span class=\"toc-item-num\">5&nbsp;&nbsp;</span>Run JWST Pipeline - AssignWCS</a></span><ul class=\"toc-item\"><li><span><a href=\"#Output-checks-and-tests\" data-toc-modified-id=\"Output-checks-and-tests-5.1\"><span class=\"toc-item-num\">5.1&nbsp;&nbsp;</span>Output checks and tests</a></span></li><li><span><a href=\"#About-this-Notebook\" data-toc-modified-id=\"About-this-Notebook-5.2\"><span class=\"toc-item-num\">5.2&nbsp;&nbsp;</span>About this Notebook</a></span></li></ul></li></ul></div>"
   ]
  },
  {
   "cell_type": "markdown",
   "metadata": {},
   "source": [
    "<a id=\"title_ID\"></a>\n",
    "# JWST Pipeline Validation Testing Notebook: MIRI MRS\n",
    "\n",
    "## Spec2: Assign_wcs()\n",
    "<span style=\"color:red\"> **Instruments Affected**</span>: FGS, MIRI, NIRCam, NIRISS, NIRSpec \n",
    "\n",
    "### Table of Contents\n",
    "<div style=\"text-align: left\"> \n",
    "\n",
    "<br> [Imports](#imports_ID) <br> [Introduction](#intro_ID) <br> [Loading Data](#data_ID) <br> [Run JWST Pipeline](#pipeline_ID) <br> [Print Output](#residual_ID) <br> [About This Notebook](#about_ID) <br>\n",
    "\n",
    "</div>"
   ]
  },
  {
   "cell_type": "markdown",
   "metadata": {},
   "source": [
    "<a id=\"imports_ID\"></a>\n",
    "# Imports\n",
    "List the library imports and why they are relevant to this notebook.\n",
    "\n",
    "* os, glob for general  OS operations\n",
    "* numpy\n",
    "* astropy.io for opening fits files\n",
    "* astropy.utils for remote data retrieval\n",
    "* IPython.display for printing markdown output\n",
    "* jwst.datamodels for building model for JWST Pipeline\n",
    "* jwst.module.PipelineStep is the pipeline step being tested\n",
    "* miricoord for coordinate conversion tools\n",
    "\n",
    "[Top of Page](#title_ID)"
   ]
  },
  {
   "cell_type": "code",
   "execution_count": 1,
   "metadata": {
    "ExecuteTime": {
     "end_time": "2021-04-05T22:02:08.825076Z",
     "start_time": "2021-04-05T22:02:01.756915Z"
    },
    "nbpresent": {
     "id": "45177853-942e-4949-9e30-f544d70ef5f4"
    }
   },
   "outputs": [],
   "source": [
    "import glob\n",
    "import numpy as np\n",
    "from numpy.testing import assert_allclose\n",
    "import os\n",
    "\n",
    "import astropy.io.fits as fits\n",
    "import astropy.io.ascii as ascii\n",
    "from ci_watson.artifactory_helpers import get_bigdata\n",
    "from IPython.display import Markdown\n",
    "\n",
    "from jwst.assign_wcs import AssignWcsStep\n",
    "import miricoord.mrs.toolversions.mrs_pipetools_cdp8b as tv\n",
    "from miricoord.mrs import mrs_tools as mrst\n",
    "\n",
    "%matplotlib inline"
   ]
  },
  {
   "cell_type": "markdown",
   "metadata": {},
   "source": [
    "<a id=\"intro_ID\"></a>\n",
    "# Introduction\n",
    "\n",
    "\n",
    "In this notebook we will test the assign_wcs step of Spec2Pipeline() for **MRS** observations.\n",
    "\n",
    "Step description: https://jwst-pipeline.readthedocs.io/en/latest/jwst/assign_wcs/index.html#assign-wcs-step\n",
    "\n",
    "Pipeline code: https://github.com/spacetelescope/jwst/tree/master/jwst/assign_wcs\n",
    "\n",
    "\n",
    "### Calibration WG Requested Algorithm: \n",
    "\n",
    "https://outerspace.stsci.edu/display/JWSTCC/Vanilla+Spectral+GWCS+Information\n",
    "\n",
    "\n",
    "\n",
    "[Top of Page](#title_ID)"
   ]
  },
  {
   "cell_type": "markdown",
   "metadata": {},
   "source": [
    "<a id=\"data_ID\"></a>\n",
    "# Loading Data\n",
    "\n",
    "We are using simulated MRS observations, generated with MIRISim v2.3.0 (as of Dec 2020). ***(Needs updating)*** \n",
    "\n",
    "[Top of Page](#title_ID)"
   ]
  },
  {
   "cell_type": "code",
   "execution_count": 2,
   "metadata": {
    "ExecuteTime": {
     "end_time": "2021-04-05T22:02:55.921204Z",
     "start_time": "2021-04-05T22:02:08.827681Z"
    }
   },
   "outputs": [],
   "source": [
    "mock12A = get_bigdata('jwst_validation_notebooks',\n",
    "                 'validation_data',\n",
    "                 'assign_wcs',\n",
    "                 'assign_wcs_miri_test',\n",
    "                 'mock12A-0.fits')\n",
    "\n",
    "mock12B = get_bigdata('jwst_validation_notebooks',\n",
    "                 'validation_data',\n",
    "                 'assign_wcs',\n",
    "                 'assign_wcs_miri_test',\n",
    "                 'mock12B-0.fits')\n",
    "\n",
    "mock12C = get_bigdata('jwst_validation_notebooks',\n",
    "                 'validation_data',\n",
    "                 'assign_wcs',\n",
    "                 'assign_wcs_miri_test',\n",
    "                 'mock12C-0.fits')\n",
    "\n",
    "mock34A = get_bigdata('jwst_validation_notebooks',\n",
    "                 'validation_data',\n",
    "                 'assign_wcs',\n",
    "                 'assign_wcs_miri_test',\n",
    "                 'mock34A-0.fits')\n",
    "\n",
    "mock34B = get_bigdata('jwst_validation_notebooks',\n",
    "                 'validation_data',\n",
    "                 'assign_wcs',\n",
    "                 'assign_wcs_miri_test',\n",
    "                 'mock34B-0.fits')\n",
    "\n",
    "mock34C = get_bigdata('jwst_validation_notebooks',\n",
    "                 'validation_data',\n",
    "                 'assign_wcs',\n",
    "                 'assign_wcs_miri_test',\n",
    "                 'mock34C-0.fits')\n",
    "\n",
    "files = [mock12A, mock12B, mock12C, mock34A, mock34B, mock34C]"
   ]
  },
  {
   "cell_type": "markdown",
   "metadata": {},
   "source": [
    "Collect configuration files locally if they aren't yet there."
   ]
  },
  {
   "cell_type": "code",
   "execution_count": 3,
   "metadata": {
    "ExecuteTime": {
     "end_time": "2021-04-05T22:02:55.927453Z",
     "start_time": "2021-04-05T22:02:55.924390Z"
    }
   },
   "outputs": [],
   "source": [
    "if not os.path.exists('../cfg_files/'):\n",
    "    os.mkdir('../cfg_files/')\n",
    "    cfgs = collect_pipeline_cfgs.collect_pipeline_cfgs(dst='../cfg_files/')"
   ]
  },
  {
   "cell_type": "markdown",
   "metadata": {},
   "source": [
    "<a id=\"pipeline_ID\"></a>\n",
    "# Run JWST Pipeline - AssignWCS\n",
    "\n",
    "For this test we do not need to run the data through the Detector1() pipeline (in fact, this data will fail in Detector1). We begin by running the data through AssignWCS in spec2 using the 'assign_wcs.cfg' file. The AssignWcs step should not change anything in the science data or error extension. It attaches the WCS information to the data, so that a location in detector pixels can be reconstructed to an RA, dec, wavelength in spatial and spectral space.\n",
    "\n",
    "[Top of Page](#title_ID)"
   ]
  },
  {
   "cell_type": "code",
   "execution_count": 4,
   "metadata": {
    "ExecuteTime": {
     "end_time": "2021-04-05T22:07:20.763770Z",
     "start_time": "2021-04-05T22:02:55.929232Z"
    }
   },
   "outputs": [
    {
     "name": "stderr",
     "output_type": "stream",
     "text": [
      "2021-04-05 18:03:04,635 - stpipe.assign_wcs - INFO - AssignWcsStep instance created.\n",
      "2021-04-05 18:03:04,838 - stpipe.assign_wcs - INFO - Step assign_wcs running with args ('/Users/mengesser/Documents/jwst_validation_notebooks/jwst_validation_notebooks/assign_wcs/mock12A-0.fits',).\n",
      "2021-04-05 18:03:04,840 - stpipe.assign_wcs - INFO - Step assign_wcs parameters are: {'pre_hooks': [], 'post_hooks': [], 'output_file': None, 'output_dir': None, 'output_ext': '.fits', 'output_use_model': False, 'output_use_index': True, 'save_results': True, 'skip': False, 'suffix': None, 'search_output_file': True, 'input_dir': '', 'slit_y_low': -0.55, 'slit_y_high': 0.55}\n",
      "2021-04-05 18:03:34,138 - stpipe.assign_wcs - WARNING - /Users/mengesser/miniconda3/envs/jwpipe75/lib/python3.7/site-packages/asdf/asdf.py:208: UserWarning: File 'file:///grp/crds/cache/references/jwst/jwst_miri_wavelengthrange_0005.asdf' was created with extension 'asdf.extension.BuiltinExtension' from package asdf-2.7.1, but older version asdf-2.6.0 is installed\n",
      "  warnings.warn(fmt_msg)\n",
      "\n",
      "2021-04-05 18:03:34,139 - stpipe.assign_wcs - WARNING - /Users/mengesser/miniconda3/envs/jwpipe75/lib/python3.7/site-packages/asdf/asdf.py:208: UserWarning: File 'file:///grp/crds/cache/references/jwst/jwst_miri_wavelengthrange_0005.asdf' was created with extension 'astropy.io.misc.asdf.extension.AstropyAsdfExtension' from package astropy-4.1, but older version astropy-4.0.1.post1 is installed\n",
      "  warnings.warn(fmt_msg)\n",
      "\n",
      "2021-04-05 18:03:44,075 - stpipe.assign_wcs - INFO - Created a MIRI mir_mrs pipeline with references {'distortion': '/grp/crds/cache/references/jwst/jwst_miri_distortion_0031.asdf', 'filteroffset': None, 'specwcs': '/grp/crds/cache/references/jwst/jwst_miri_specwcs_0024.asdf', 'regions': '/grp/crds/cache/references/jwst/jwst_miri_regions_0027.asdf', 'wavelengthrange': '/grp/crds/cache/references/jwst/jwst_miri_wavelengthrange_0005.asdf', 'camera': None, 'collimator': None, 'disperser': None, 'fore': None, 'fpa': None, 'msa': None, 'ote': None, 'ifupost': None, 'ifufore': None, 'ifuslicer': None}\n",
      "2021-04-05 18:03:45,066 - stpipe.assign_wcs - WARNING - /Users/mengesser/miniconda3/envs/jwpipe75/lib/python3.7/site-packages/gwcs/wcs.py:131: VisibleDeprecationWarning: Creating an ndarray from ragged nested sequences (which is a list-or-tuple of lists-or-tuples-or ndarrays with different lengths or shapes) is deprecated. If you meant to do this, you must specify 'dtype=object' when creating the ndarray\n",
      "  transforms = np.array(self._pipeline[from_ind: to_ind])[:, 1].copy()\n",
      "\n",
      "2021-04-05 18:03:46,866 - stpipe.assign_wcs - INFO - Update S_REGION to POLYGON ICRS  44.999131306 -0.000874755 45.000333171 -0.000874755 45.000333171 0.000376675 44.999131306 0.000376675\n",
      "2021-04-05 18:03:46,866 - stpipe.assign_wcs - INFO - COMPLETED assign_wcs\n",
      "2021-04-05 18:03:47,426 - stpipe.assign_wcs - WARNING - /Users/mengesser/miniconda3/envs/jwpipe75/lib/python3.7/site-packages/gwcs/wcs.py:131: VisibleDeprecationWarning: Creating an ndarray from ragged nested sequences (which is a list-or-tuple of lists-or-tuples-or ndarrays with different lengths or shapes) is deprecated. If you meant to do this, you must specify 'dtype=object' when creating the ndarray\n",
      "  transforms = np.array(self._pipeline[from_ind: to_ind])[:, 1].copy()\n",
      "\n",
      "2021-04-05 18:03:48,730 - stpipe.assign_wcs - INFO - Saved model in mock12A-0_assign_wcs.fits\n",
      "2021-04-05 18:03:48,730 - stpipe.assign_wcs - INFO - Step assign_wcs done\n",
      "2021-04-05 18:03:52,687 - stpipe.assign_wcs - INFO - AssignWcsStep instance created.\n",
      "2021-04-05 18:03:52,933 - stpipe.assign_wcs - INFO - Step assign_wcs running with args ('/Users/mengesser/Documents/jwst_validation_notebooks/jwst_validation_notebooks/assign_wcs/mock12B-0.fits',).\n",
      "2021-04-05 18:03:52,935 - stpipe.assign_wcs - INFO - Step assign_wcs parameters are: {'pre_hooks': [], 'post_hooks': [], 'output_file': None, 'output_dir': None, 'output_ext': '.fits', 'output_use_model': False, 'output_use_index': True, 'save_results': True, 'skip': False, 'suffix': None, 'search_output_file': True, 'input_dir': '', 'slit_y_low': -0.55, 'slit_y_high': 0.55}\n",
      "2021-04-05 18:04:20,617 - stpipe.assign_wcs - WARNING - /Users/mengesser/miniconda3/envs/jwpipe75/lib/python3.7/site-packages/asdf/asdf.py:208: UserWarning: File 'file:///grp/crds/cache/references/jwst/jwst_miri_wavelengthrange_0005.asdf' was created with extension 'asdf.extension.BuiltinExtension' from package asdf-2.7.1, but older version asdf-2.6.0 is installed\n",
      "  warnings.warn(fmt_msg)\n",
      "\n",
      "2021-04-05 18:04:20,617 - stpipe.assign_wcs - WARNING - /Users/mengesser/miniconda3/envs/jwpipe75/lib/python3.7/site-packages/asdf/asdf.py:208: UserWarning: File 'file:///grp/crds/cache/references/jwst/jwst_miri_wavelengthrange_0005.asdf' was created with extension 'astropy.io.misc.asdf.extension.AstropyAsdfExtension' from package astropy-4.1, but older version astropy-4.0.1.post1 is installed\n",
      "  warnings.warn(fmt_msg)\n",
      "\n",
      "2021-04-05 18:04:30,448 - stpipe.assign_wcs - INFO - Created a MIRI mir_mrs pipeline with references {'distortion': '/grp/crds/cache/references/jwst/jwst_miri_distortion_0030.asdf', 'filteroffset': None, 'specwcs': '/grp/crds/cache/references/jwst/jwst_miri_specwcs_0021.asdf', 'regions': '/grp/crds/cache/references/jwst/jwst_miri_regions_0026.asdf', 'wavelengthrange': '/grp/crds/cache/references/jwst/jwst_miri_wavelengthrange_0005.asdf', 'camera': None, 'collimator': None, 'disperser': None, 'fore': None, 'fpa': None, 'msa': None, 'ote': None, 'ifupost': None, 'ifufore': None, 'ifuslicer': None}\n",
      "2021-04-05 18:04:31,906 - stpipe.assign_wcs - WARNING - /Users/mengesser/miniconda3/envs/jwpipe75/lib/python3.7/site-packages/gwcs/wcs.py:131: VisibleDeprecationWarning: Creating an ndarray from ragged nested sequences (which is a list-or-tuple of lists-or-tuples-or ndarrays with different lengths or shapes) is deprecated. If you meant to do this, you must specify 'dtype=object' when creating the ndarray\n",
      "  transforms = np.array(self._pipeline[from_ind: to_ind])[:, 1].copy()\n",
      "\n",
      "2021-04-05 18:04:33,706 - stpipe.assign_wcs - INFO - Update S_REGION to POLYGON ICRS  44.999101544 -0.000949495 45.000304844 -0.000949495 45.000304844 0.000303129 44.999101544 0.000303129\n",
      "2021-04-05 18:04:33,706 - stpipe.assign_wcs - INFO - COMPLETED assign_wcs\n",
      "2021-04-05 18:04:34,549 - stpipe.assign_wcs - WARNING - /Users/mengesser/miniconda3/envs/jwpipe75/lib/python3.7/site-packages/gwcs/wcs.py:131: VisibleDeprecationWarning: Creating an ndarray from ragged nested sequences (which is a list-or-tuple of lists-or-tuples-or ndarrays with different lengths or shapes) is deprecated. If you meant to do this, you must specify 'dtype=object' when creating the ndarray\n",
      "  transforms = np.array(self._pipeline[from_ind: to_ind])[:, 1].copy()\n",
      "\n",
      "2021-04-05 18:04:36,003 - stpipe.assign_wcs - INFO - Saved model in mock12B-0_assign_wcs.fits\n",
      "2021-04-05 18:04:36,004 - stpipe.assign_wcs - INFO - Step assign_wcs done\n",
      "2021-04-05 18:04:39,566 - stpipe.assign_wcs - INFO - AssignWcsStep instance created.\n",
      "2021-04-05 18:04:39,882 - stpipe.assign_wcs - INFO - Step assign_wcs running with args ('/Users/mengesser/Documents/jwst_validation_notebooks/jwst_validation_notebooks/assign_wcs/mock12C-0.fits',).\n",
      "2021-04-05 18:04:39,884 - stpipe.assign_wcs - INFO - Step assign_wcs parameters are: {'pre_hooks': [], 'post_hooks': [], 'output_file': None, 'output_dir': None, 'output_ext': '.fits', 'output_use_model': False, 'output_use_index': True, 'save_results': True, 'skip': False, 'suffix': None, 'search_output_file': True, 'input_dir': '', 'slit_y_low': -0.55, 'slit_y_high': 0.55}\n",
      "2021-04-05 18:05:07,457 - stpipe.assign_wcs - WARNING - /Users/mengesser/miniconda3/envs/jwpipe75/lib/python3.7/site-packages/asdf/asdf.py:208: UserWarning: File 'file:///grp/crds/cache/references/jwst/jwst_miri_wavelengthrange_0005.asdf' was created with extension 'asdf.extension.BuiltinExtension' from package asdf-2.7.1, but older version asdf-2.6.0 is installed\n",
      "  warnings.warn(fmt_msg)\n",
      "\n",
      "2021-04-05 18:05:07,458 - stpipe.assign_wcs - WARNING - /Users/mengesser/miniconda3/envs/jwpipe75/lib/python3.7/site-packages/asdf/asdf.py:208: UserWarning: File 'file:///grp/crds/cache/references/jwst/jwst_miri_wavelengthrange_0005.asdf' was created with extension 'astropy.io.misc.asdf.extension.AstropyAsdfExtension' from package astropy-4.1, but older version astropy-4.0.1.post1 is installed\n",
      "  warnings.warn(fmt_msg)\n",
      "\n"
     ]
    },
    {
     "name": "stderr",
     "output_type": "stream",
     "text": [
      "2021-04-05 18:05:17,823 - stpipe.assign_wcs - INFO - Created a MIRI mir_mrs pipeline with references {'distortion': '/grp/crds/cache/references/jwst/jwst_miri_distortion_0029.asdf', 'filteroffset': None, 'specwcs': '/grp/crds/cache/references/jwst/jwst_miri_specwcs_0022.asdf', 'regions': '/grp/crds/cache/references/jwst/jwst_miri_regions_0028.asdf', 'wavelengthrange': '/grp/crds/cache/references/jwst/jwst_miri_wavelengthrange_0005.asdf', 'camera': None, 'collimator': None, 'disperser': None, 'fore': None, 'fpa': None, 'msa': None, 'ote': None, 'ifupost': None, 'ifufore': None, 'ifuslicer': None}\n",
      "2021-04-05 18:05:18,746 - stpipe.assign_wcs - WARNING - /Users/mengesser/miniconda3/envs/jwpipe75/lib/python3.7/site-packages/gwcs/wcs.py:131: VisibleDeprecationWarning: Creating an ndarray from ragged nested sequences (which is a list-or-tuple of lists-or-tuples-or ndarrays with different lengths or shapes) is deprecated. If you meant to do this, you must specify 'dtype=object' when creating the ndarray\n",
      "  transforms = np.array(self._pipeline[from_ind: to_ind])[:, 1].copy()\n",
      "\n",
      "2021-04-05 18:05:20,794 - stpipe.assign_wcs - INFO - Update S_REGION to POLYGON ICRS  44.999164360 -0.000924033 45.000355488 -0.000924033 45.000355488 0.000384691 44.999164360 0.000384691\n",
      "2021-04-05 18:05:20,795 - stpipe.assign_wcs - INFO - COMPLETED assign_wcs\n",
      "2021-04-05 18:05:21,861 - stpipe.assign_wcs - WARNING - /Users/mengesser/miniconda3/envs/jwpipe75/lib/python3.7/site-packages/gwcs/wcs.py:131: VisibleDeprecationWarning: Creating an ndarray from ragged nested sequences (which is a list-or-tuple of lists-or-tuples-or ndarrays with different lengths or shapes) is deprecated. If you meant to do this, you must specify 'dtype=object' when creating the ndarray\n",
      "  transforms = np.array(self._pipeline[from_ind: to_ind])[:, 1].copy()\n",
      "\n",
      "2021-04-05 18:05:23,361 - stpipe.assign_wcs - INFO - Saved model in mock12C-0_assign_wcs.fits\n",
      "2021-04-05 18:05:23,362 - stpipe.assign_wcs - INFO - Step assign_wcs done\n",
      "2021-04-05 18:05:26,385 - stpipe.assign_wcs - INFO - AssignWcsStep instance created.\n",
      "2021-04-05 18:05:26,723 - stpipe.assign_wcs - INFO - Step assign_wcs running with args ('/Users/mengesser/Documents/jwst_validation_notebooks/jwst_validation_notebooks/assign_wcs/mock34A-0.fits',).\n",
      "2021-04-05 18:05:26,725 - stpipe.assign_wcs - INFO - Step assign_wcs parameters are: {'pre_hooks': [], 'post_hooks': [], 'output_file': None, 'output_dir': None, 'output_ext': '.fits', 'output_use_model': False, 'output_use_index': True, 'save_results': True, 'skip': False, 'suffix': None, 'search_output_file': True, 'input_dir': '', 'slit_y_low': -0.55, 'slit_y_high': 0.55}\n",
      "2021-04-05 18:05:51,075 - stpipe.assign_wcs - WARNING - /Users/mengesser/miniconda3/envs/jwpipe75/lib/python3.7/site-packages/asdf/asdf.py:208: UserWarning: File 'file:///grp/crds/cache/references/jwst/jwst_miri_wavelengthrange_0005.asdf' was created with extension 'asdf.extension.BuiltinExtension' from package asdf-2.7.1, but older version asdf-2.6.0 is installed\n",
      "  warnings.warn(fmt_msg)\n",
      "\n",
      "2021-04-05 18:05:51,076 - stpipe.assign_wcs - WARNING - /Users/mengesser/miniconda3/envs/jwpipe75/lib/python3.7/site-packages/asdf/asdf.py:208: UserWarning: File 'file:///grp/crds/cache/references/jwst/jwst_miri_wavelengthrange_0005.asdf' was created with extension 'astropy.io.misc.asdf.extension.AstropyAsdfExtension' from package astropy-4.1, but older version astropy-4.0.1.post1 is installed\n",
      "  warnings.warn(fmt_msg)\n",
      "\n",
      "2021-04-05 18:05:58,187 - stpipe.assign_wcs - INFO - Created a MIRI mir_mrs pipeline with references {'distortion': '/grp/crds/cache/references/jwst/jwst_miri_distortion_0034.asdf', 'filteroffset': None, 'specwcs': '/grp/crds/cache/references/jwst/jwst_miri_specwcs_0020.asdf', 'regions': '/grp/crds/cache/references/jwst/jwst_miri_regions_0029.asdf', 'wavelengthrange': '/grp/crds/cache/references/jwst/jwst_miri_wavelengthrange_0005.asdf', 'camera': None, 'collimator': None, 'disperser': None, 'fore': None, 'fpa': None, 'msa': None, 'ote': None, 'ifupost': None, 'ifufore': None, 'ifuslicer': None}\n",
      "2021-04-05 18:05:59,259 - stpipe.assign_wcs - WARNING - /Users/mengesser/miniconda3/envs/jwpipe75/lib/python3.7/site-packages/gwcs/wcs.py:131: VisibleDeprecationWarning: Creating an ndarray from ragged nested sequences (which is a list-or-tuple of lists-or-tuples-or ndarrays with different lengths or shapes) is deprecated. If you meant to do this, you must specify 'dtype=object' when creating the ndarray\n",
      "  transforms = np.array(self._pipeline[from_ind: to_ind])[:, 1].copy()\n",
      "\n",
      "2021-04-05 18:06:00,336 - stpipe.assign_wcs - INFO - Update S_REGION to POLYGON ICRS  44.998662127 -0.001359338 45.000884626 -0.001359338 45.000884626 0.000685800 44.998662127 0.000685800\n",
      "2021-04-05 18:06:00,337 - stpipe.assign_wcs - INFO - COMPLETED assign_wcs\n",
      "2021-04-05 18:06:01,147 - stpipe.assign_wcs - WARNING - /Users/mengesser/miniconda3/envs/jwpipe75/lib/python3.7/site-packages/gwcs/wcs.py:131: VisibleDeprecationWarning: Creating an ndarray from ragged nested sequences (which is a list-or-tuple of lists-or-tuples-or ndarrays with different lengths or shapes) is deprecated. If you meant to do this, you must specify 'dtype=object' when creating the ndarray\n",
      "  transforms = np.array(self._pipeline[from_ind: to_ind])[:, 1].copy()\n",
      "\n",
      "2021-04-05 18:06:01,994 - stpipe.assign_wcs - INFO - Saved model in mock34A-0_assign_wcs.fits\n",
      "2021-04-05 18:06:01,995 - stpipe.assign_wcs - INFO - Step assign_wcs done\n",
      "2021-04-05 18:06:04,981 - stpipe.assign_wcs - INFO - AssignWcsStep instance created.\n",
      "2021-04-05 18:06:05,411 - stpipe.assign_wcs - INFO - Step assign_wcs running with args ('/Users/mengesser/Documents/jwst_validation_notebooks/jwst_validation_notebooks/assign_wcs/mock34B-0.fits',).\n",
      "2021-04-05 18:06:05,414 - stpipe.assign_wcs - INFO - Step assign_wcs parameters are: {'pre_hooks': [], 'post_hooks': [], 'output_file': None, 'output_dir': None, 'output_ext': '.fits', 'output_use_model': False, 'output_use_index': True, 'save_results': True, 'skip': False, 'suffix': None, 'search_output_file': True, 'input_dir': '', 'slit_y_low': -0.55, 'slit_y_high': 0.55}\n",
      "2021-04-05 18:06:29,811 - stpipe.assign_wcs - WARNING - /Users/mengesser/miniconda3/envs/jwpipe75/lib/python3.7/site-packages/asdf/asdf.py:208: UserWarning: File 'file:///grp/crds/cache/references/jwst/jwst_miri_wavelengthrange_0005.asdf' was created with extension 'asdf.extension.BuiltinExtension' from package asdf-2.7.1, but older version asdf-2.6.0 is installed\n",
      "  warnings.warn(fmt_msg)\n",
      "\n",
      "2021-04-05 18:06:29,811 - stpipe.assign_wcs - WARNING - /Users/mengesser/miniconda3/envs/jwpipe75/lib/python3.7/site-packages/asdf/asdf.py:208: UserWarning: File 'file:///grp/crds/cache/references/jwst/jwst_miri_wavelengthrange_0005.asdf' was created with extension 'astropy.io.misc.asdf.extension.AstropyAsdfExtension' from package astropy-4.1, but older version astropy-4.0.1.post1 is installed\n",
      "  warnings.warn(fmt_msg)\n",
      "\n",
      "2021-04-05 18:06:36,839 - stpipe.assign_wcs - INFO - Created a MIRI mir_mrs pipeline with references {'distortion': '/grp/crds/cache/references/jwst/jwst_miri_distortion_0033.asdf', 'filteroffset': None, 'specwcs': '/grp/crds/cache/references/jwst/jwst_miri_specwcs_0023.asdf', 'regions': '/grp/crds/cache/references/jwst/jwst_miri_regions_0030.asdf', 'wavelengthrange': '/grp/crds/cache/references/jwst/jwst_miri_wavelengthrange_0005.asdf', 'camera': None, 'collimator': None, 'disperser': None, 'fore': None, 'fpa': None, 'msa': None, 'ote': None, 'ifupost': None, 'ifufore': None, 'ifuslicer': None}\n",
      "2021-04-05 18:06:37,901 - stpipe.assign_wcs - WARNING - /Users/mengesser/miniconda3/envs/jwpipe75/lib/python3.7/site-packages/gwcs/wcs.py:131: VisibleDeprecationWarning: Creating an ndarray from ragged nested sequences (which is a list-or-tuple of lists-or-tuples-or ndarrays with different lengths or shapes) is deprecated. If you meant to do this, you must specify 'dtype=object' when creating the ndarray\n",
      "  transforms = np.array(self._pipeline[from_ind: to_ind])[:, 1].copy()\n",
      "\n",
      "2021-04-05 18:06:38,996 - stpipe.assign_wcs - INFO - Update S_REGION to POLYGON ICRS  44.998722179 -0.001346279 45.000872017 -0.001346279 45.000872017 0.000701693 44.998722179 0.000701693\n"
     ]
    },
    {
     "name": "stderr",
     "output_type": "stream",
     "text": [
      "2021-04-05 18:06:38,997 - stpipe.assign_wcs - INFO - COMPLETED assign_wcs\n",
      "2021-04-05 18:06:39,437 - stpipe.assign_wcs - WARNING - /Users/mengesser/miniconda3/envs/jwpipe75/lib/python3.7/site-packages/gwcs/wcs.py:131: VisibleDeprecationWarning: Creating an ndarray from ragged nested sequences (which is a list-or-tuple of lists-or-tuples-or ndarrays with different lengths or shapes) is deprecated. If you meant to do this, you must specify 'dtype=object' when creating the ndarray\n",
      "  transforms = np.array(self._pipeline[from_ind: to_ind])[:, 1].copy()\n",
      "\n",
      "2021-04-05 18:06:40,597 - stpipe.assign_wcs - INFO - Saved model in mock34B-0_assign_wcs.fits\n",
      "2021-04-05 18:06:40,598 - stpipe.assign_wcs - INFO - Step assign_wcs done\n",
      "2021-04-05 18:06:43,196 - stpipe.assign_wcs - INFO - AssignWcsStep instance created.\n",
      "2021-04-05 18:06:43,614 - stpipe.assign_wcs - INFO - Step assign_wcs running with args ('/Users/mengesser/Documents/jwst_validation_notebooks/jwst_validation_notebooks/assign_wcs/mock34C-0.fits',).\n",
      "2021-04-05 18:06:43,616 - stpipe.assign_wcs - INFO - Step assign_wcs parameters are: {'pre_hooks': [], 'post_hooks': [], 'output_file': None, 'output_dir': None, 'output_ext': '.fits', 'output_use_model': False, 'output_use_index': True, 'save_results': True, 'skip': False, 'suffix': None, 'search_output_file': True, 'input_dir': '', 'slit_y_low': -0.55, 'slit_y_high': 0.55}\n",
      "2021-04-05 18:07:09,331 - stpipe.assign_wcs - WARNING - /Users/mengesser/miniconda3/envs/jwpipe75/lib/python3.7/site-packages/asdf/asdf.py:208: UserWarning: File 'file:///grp/crds/cache/references/jwst/jwst_miri_wavelengthrange_0005.asdf' was created with extension 'asdf.extension.BuiltinExtension' from package asdf-2.7.1, but older version asdf-2.6.0 is installed\n",
      "  warnings.warn(fmt_msg)\n",
      "\n",
      "2021-04-05 18:07:09,332 - stpipe.assign_wcs - WARNING - /Users/mengesser/miniconda3/envs/jwpipe75/lib/python3.7/site-packages/asdf/asdf.py:208: UserWarning: File 'file:///grp/crds/cache/references/jwst/jwst_miri_wavelengthrange_0005.asdf' was created with extension 'astropy.io.misc.asdf.extension.AstropyAsdfExtension' from package astropy-4.1, but older version astropy-4.0.1.post1 is installed\n",
      "  warnings.warn(fmt_msg)\n",
      "\n",
      "2021-04-05 18:07:16,802 - stpipe.assign_wcs - INFO - Created a MIRI mir_mrs pipeline with references {'distortion': '/grp/crds/cache/references/jwst/jwst_miri_distortion_0032.asdf', 'filteroffset': None, 'specwcs': '/grp/crds/cache/references/jwst/jwst_miri_specwcs_0019.asdf', 'regions': '/grp/crds/cache/references/jwst/jwst_miri_regions_0025.asdf', 'wavelengthrange': '/grp/crds/cache/references/jwst/jwst_miri_wavelengthrange_0005.asdf', 'camera': None, 'collimator': None, 'disperser': None, 'fore': None, 'fpa': None, 'msa': None, 'ote': None, 'ifupost': None, 'ifufore': None, 'ifuslicer': None}\n",
      "2021-04-05 18:07:17,408 - stpipe.assign_wcs - WARNING - /Users/mengesser/miniconda3/envs/jwpipe75/lib/python3.7/site-packages/gwcs/wcs.py:131: VisibleDeprecationWarning: Creating an ndarray from ragged nested sequences (which is a list-or-tuple of lists-or-tuples-or ndarrays with different lengths or shapes) is deprecated. If you meant to do this, you must specify 'dtype=object' when creating the ndarray\n",
      "  transforms = np.array(self._pipeline[from_ind: to_ind])[:, 1].copy()\n",
      "\n",
      "2021-04-05 18:07:19,052 - stpipe.assign_wcs - INFO - Update S_REGION to POLYGON ICRS  44.998721627 -0.001305713 45.000866457 -0.001305713 45.000866457 0.000719789 44.998721627 0.000719789\n",
      "2021-04-05 18:07:19,053 - stpipe.assign_wcs - INFO - COMPLETED assign_wcs\n",
      "2021-04-05 18:07:19,532 - stpipe.assign_wcs - WARNING - /Users/mengesser/miniconda3/envs/jwpipe75/lib/python3.7/site-packages/gwcs/wcs.py:131: VisibleDeprecationWarning: Creating an ndarray from ragged nested sequences (which is a list-or-tuple of lists-or-tuples-or ndarrays with different lengths or shapes) is deprecated. If you meant to do this, you must specify 'dtype=object' when creating the ndarray\n",
      "  transforms = np.array(self._pipeline[from_ind: to_ind])[:, 1].copy()\n",
      "\n",
      "2021-04-05 18:07:20,307 - stpipe.assign_wcs - INFO - Saved model in mock34C-0_assign_wcs.fits\n",
      "2021-04-05 18:07:20,307 - stpipe.assign_wcs - INFO - Step assign_wcs done\n"
     ]
    }
   ],
   "source": [
    "awcs_out = []\n",
    "\n",
    "for dd in files: #det1_out:\n",
    "    awcs = AssignWcsStep.call(dd, config_file='../cfg_files/assign_wcs.cfg', save_results=True)\n",
    "    awcs_out.append(awcs)"
   ]
  },
  {
   "cell_type": "markdown",
   "metadata": {},
   "source": [
    "<a id=\"residual_ID\"></a>\n",
    "## Output checks and tests\n",
    "\n",
    "We can use the output model to run the following checks:\n",
    "\n",
    "* the SCI extension is unchanged from the step input (accept default tolerances for the np.allclose() function)\n",
    "* we use the wcs information assigned in the step to check the RA, dec, wavelength assignment at some reference locations. \n",
    "\n",
    "\n",
    "[Top of Page](#title_ID)"
   ]
  },
  {
   "cell_type": "code",
   "execution_count": 5,
   "metadata": {
    "ExecuteTime": {
     "end_time": "2021-04-05T22:07:21.151352Z",
     "start_time": "2021-04-05T22:07:20.767774Z"
    }
   },
   "outputs": [],
   "source": [
    "# Do a numeric check between input and output\n",
    "for (aa, dd) in zip(awcs_out, files):\n",
    "    data = fits.getdata(dd)\n",
    "    filename = os.path.split(dd)[-1]\n",
    "    assert np.allclose(aa.data, data, equal_nan=True), \"Step input and output don't match for {}\".format(filename)"
   ]
  },
  {
   "cell_type": "markdown",
   "metadata": {},
   "source": [
    "Load the set of test coordinates from ``miricoord``. Then calculate the wavelength of these coordinates from the assign_wcs output models, and verify that they are close. If all the ``assert`` tests pass, this test is successful and complete."
   ]
  },
  {
   "cell_type": "code",
   "execution_count": 6,
   "metadata": {
    "ExecuteTime": {
     "end_time": "2021-04-05T22:07:21.164825Z",
     "start_time": "2021-04-05T22:07:21.155037Z"
    },
    "code_folding": [
     0
    ]
   },
   "outputs": [],
   "source": [
    "def verify_coords(imgnum, ch, ref_data):\n",
    "    \"\"\"Uses predefined test cooridnates to check WCS output.\"\"\"\n",
    "    \n",
    "    xt = ref_data[ch]['x']\n",
    "    yt = ref_data[ch]['y']\n",
    "    v2t = ref_data[ch]['v2']\n",
    "    v3t = ref_data[ch]['v3']\n",
    "    lamt = ref_data[ch]['lam']\n",
    "    \n",
    "    lamtest1 = np.zeros(2)\n",
    "    lamtest2 = np.zeros(2)\n",
    "    atest1 = np.zeros(2)\n",
    "    btest1 = np.zeros(2)\n",
    "    v2test1 = np.zeros(2)\n",
    "    v3test1 = np.zeros(2)\n",
    "    lt1 = np.zeros(2)\n",
    "    \n",
    "    print('**** TEST SET {}****'.format(ch))\n",
    "    print(' x       y     lam_truth  lamtest1   v2truth   v3truth  v2test   v3test')\n",
    "    for i in range (2):\n",
    "        values = mrst.xytoabl(xt[i], yt[i], ch)\n",
    "        atest1[i], btest1[i], lt1[i] = values['alpha'], values['beta'], values['lam']\n",
    "        v2test1[i], v3test1[i] = mrst.abtov2v3(atest1[i], btest1[i], ch)\n",
    "        ra, dec, lamtest1[i] = awcs_out[imgnum].meta.wcs(xt[i], yt[i])\n",
    "        print('{0}  {1}   {2:.5f}    {3:.5f}    {4:.5f}   {5:.5f}   {6:.5f}   {7:.5f}'.format(\n",
    "            xt[i], yt[i], lamt[i], lamtest1[i], v2t[i], v3t[i], v2test1[i], v3test1[i]))\n",
    "\n",
    "        assert_allclose(lamt[i], lamtest1[i], atol=0.05)\n",
    "        assert_allclose(v2t[i], v2test1[i], atol=0.05)\n",
    "        assert_allclose(v3t[i], v3test1[i], atol=0.05)\n",
    "        \n",
    "    print('\\n')"
   ]
  },
  {
   "cell_type": "code",
   "execution_count": 7,
   "metadata": {
    "ExecuteTime": {
     "end_time": "2021-04-05T22:07:22.524617Z",
     "start_time": "2021-04-05T22:07:21.167188Z"
    }
   },
   "outputs": [
    {
     "name": "stdout",
     "output_type": "stream",
     "text": [
      "**** TEST SET 1A****\n",
      " x       y     lam_truth  lamtest1   v2truth   v3truth  v2test   v3test\n",
      "76.0  512.0   5.34855    5.34855    -503.57285   -318.57499   -503.57285   -318.57499\n",
      "354.0  700.0   5.51364    5.51364    -503.49798   -317.50901   -503.49798   -317.50901\n",
      "\n",
      "\n",
      "**** TEST SET 1B****\n",
      " x       y     lam_truth  lamtest1   v2truth   v3truth  v2test   v3test\n",
      "76.0  512.0   6.16831    6.16831    -503.64310   -318.72773   -503.64310   -318.72773\n",
      "355.0  700.0   6.35801    6.35801    -503.37070   -317.69382   -503.37070   -317.69382\n",
      "\n",
      "\n",
      "**** TEST SET 1C****\n",
      " x       y     lam_truth  lamtest1   v2truth   v3truth  v2test   v3test\n",
      "78.0  512.0   7.00661    7.00661    -503.55984   -318.43677   -503.55984   -318.43677\n",
      "356.0  700.0   7.21846    7.21846    -503.45976   -317.37795   -503.45976   -317.37795\n",
      "\n",
      "\n",
      "**** TEST SET 2A****\n",
      " x       y     lam_truth  lamtest1   v2truth   v3truth  v2test   v3test\n",
      "574.0  512.0   8.13946    8.13946    -503.65782   -319.37098   -503.65782   -319.37098\n",
      "719.0  700.0   8.42388    8.42388    -503.39070   -317.71319   -503.39070   -317.71319\n",
      "\n",
      "\n",
      "**** TEST SET 2B****\n",
      " x       y     lam_truth  lamtest1   v2truth   v3truth  v2test   v3test\n",
      "570.0  512.0   9.49092    9.49092    -503.87244   -319.60662   -503.87244   -319.60662\n",
      "715.0  700.0   9.82611    9.82611    -503.58468   -317.95262   -503.58468   -317.95262\n",
      "\n",
      "\n",
      "**** TEST SET 2C****\n",
      " x       y     lam_truth  lamtest1   v2truth   v3truth  v2test   v3test\n",
      "573.0  512.0   10.90956    10.90956    -503.70624   -319.54349   -503.70624   -319.54349\n",
      "718.0  700.0   11.29266    11.29266    -503.42920   -317.88865   -503.42920   -317.88865\n",
      "\n",
      "\n",
      "**** TEST SET 3A****\n",
      " x       y     lam_truth  lamtest1   v2truth   v3truth  v2test   v3test\n",
      "918.0  512.0   12.58609    12.58609    -504.57532   -319.35962   -504.57532   -319.35962\n",
      "827.0  700.0   12.17180    12.17180    -504.34284   -317.03633   -504.34284   -317.03633\n",
      "\n",
      "\n",
      "**** TEST SET 3B****\n",
      " x       y     lam_truth  lamtest1   v2truth   v3truth  v2test   v3test\n",
      "919.0  512.0   14.60074    14.60074    -504.29129   -319.59777   -504.29129   -319.59777\n",
      "827.0  700.0   14.12035    14.12035    -503.81514   -317.30170   -503.81514   -317.30170\n",
      "\n",
      "\n",
      "**** TEST SET 3C****\n",
      " x       y     lam_truth  lamtest1   v2truth   v3truth  v2test   v3test\n",
      "917.0  512.0   16.86062    16.86062    -504.29179   -319.58642   -504.29179   -319.58642\n",
      "826.0  700.0   16.30565    16.30565    -504.06099   -317.26146   -504.06099   -317.26146\n",
      "\n",
      "\n",
      "**** TEST SET 4A****\n",
      " x       y     lam_truth  lamtest1   v2truth   v3truth  v2test   v3test\n",
      "195.0  512.0   19.42967    19.42967    -503.73916   -321.71985   -503.73916   -321.71985\n",
      "232.0  700.0   18.73379    18.73379    -502.92871   -317.85961   -502.92871   -317.85961\n",
      "\n",
      "\n",
      "**** TEST SET 4B****\n",
      " x       y     lam_truth  lamtest1   v2truth   v3truth  v2test   v3test\n",
      "192.0  512.0   22.47574    22.47574    -503.70510   -321.66373   -503.70510   -321.66373\n",
      "229.0  700.0   21.67075    21.67075    -502.98915   -317.78403   -502.98915   -317.78403\n",
      "\n",
      "\n",
      "**** TEST SET 4C****\n",
      " x       y     lam_truth  lamtest1   v2truth   v3truth  v2test   v3test\n",
      "194.0  512.0   26.29238    26.29238    -503.71719   -321.57006   -503.71719   -321.57006\n",
      "231.0  700.0   25.35069    25.35069    -502.92825   -317.72523   -502.92825   -317.72523\n",
      "\n",
      "\n"
     ]
    }
   ],
   "source": [
    "mrd = tv.mrs_ref_data\n",
    "chan = {'0':'1A',\n",
    "        '1':'1B',\n",
    "        '2':'1C',\n",
    "        '3':'2A',\n",
    "        '4':'2B',\n",
    "        '5':'2C',\n",
    "        '6':'3A',\n",
    "        '7':'3B',\n",
    "        '8':'3C',\n",
    "        '9':'4A',\n",
    "        '10':'4B',\n",
    "        '11':'4C'}\n",
    "\n",
    "for i in range(12):\n",
    "    ch = chan[str(i)]\n",
    "    \n",
    "    if i < 6 and 'A' in ch:\n",
    "        imgnum = 0\n",
    "    elif i < 6 and 'B' in ch:\n",
    "        imgnum = 1\n",
    "    elif i < 6 and 'C' in ch:\n",
    "        imgnum = 2\n",
    "    elif i >= 6 and 'A' in ch:\n",
    "        imgnum = 3\n",
    "    elif i >= 6 and 'B' in ch:\n",
    "        imgnum = 4\n",
    "    elif i >= 6 and 'C' in ch:\n",
    "        imgnum = 5\n",
    "        \n",
    "    verify_coords(imgnum, ch, mrd)"
   ]
  },
  {
   "cell_type": "markdown",
   "metadata": {},
   "source": [
    "<a id=\"about_ID\"></a>\n",
    "## About this Notebook\n",
    "**Author:** Mike Engesser, Science Support Analyst, MIRI branch \n",
    "<br>(Adapted from Sarah Kendrew's AssignWcs LRS-SLIT notebook.)\n",
    "<br>**Updated On:** 4/01/2021"
   ]
  },
  {
   "cell_type": "markdown",
   "metadata": {},
   "source": [
    "[Top of Page](#title_ID)\n",
    "<img style=\"float: right;\" src=\"./stsci_pri_combo_mark_horizonal_white_bkgd.png\" alt=\"stsci_pri_combo_mark_horizonal_white_bkgd\" width=\"200px\"/> "
   ]
  },
  {
   "cell_type": "code",
   "execution_count": null,
   "metadata": {},
   "outputs": [],
   "source": []
  }
 ],
 "metadata": {
  "kernelspec": {
   "display_name": "Python 3",
   "language": "python",
   "name": "python3"
  },
  "language_info": {
   "codemirror_mode": {
    "name": "ipython",
    "version": 3
   },
   "file_extension": ".py",
   "mimetype": "text/x-python",
   "name": "python",
   "nbconvert_exporter": "python",
   "pygments_lexer": "ipython3",
   "version": "3.7.7"
  },
  "toc": {
   "base_numbering": 1,
   "nav_menu": {},
   "number_sections": true,
   "sideBar": true,
   "skip_h1_title": false,
   "title_cell": "Table of Contents",
   "title_sidebar": "Contents",
   "toc_cell": true,
   "toc_position": {},
   "toc_section_display": true,
   "toc_window_display": true
  },
  "varInspector": {
   "cols": {
    "lenName": 16,
    "lenType": 16,
    "lenVar": 40
   },
   "kernels_config": {
    "python": {
     "delete_cmd_postfix": "",
     "delete_cmd_prefix": "del ",
     "library": "var_list.py",
     "varRefreshCmd": "print(var_dic_list())"
    },
    "r": {
     "delete_cmd_postfix": ") ",
     "delete_cmd_prefix": "rm(",
     "library": "var_list.r",
     "varRefreshCmd": "cat(var_dic_list()) "
    }
   },
   "types_to_exclude": [
    "module",
    "function",
    "builtin_function_or_method",
    "instance",
    "_Feature"
   ],
   "window_display": false
  }
 },
 "nbformat": 4,
 "nbformat_minor": 1
}
