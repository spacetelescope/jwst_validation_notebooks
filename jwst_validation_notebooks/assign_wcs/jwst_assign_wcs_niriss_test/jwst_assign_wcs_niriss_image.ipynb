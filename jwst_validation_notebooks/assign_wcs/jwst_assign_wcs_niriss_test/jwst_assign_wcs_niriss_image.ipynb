{
 "cells": [
  {
   "cell_type": "markdown",
   "metadata": {},
   "source": [
    "<a id=\"title_ID\"></a>\n",
    "# JWST Pipeline Validation Notebook: NIRISS, image2, assign_wcs\n",
    "\n",
    "<span style=\"color:red\"> **Instruments Affected**</span>: NIRISS\n",
    "\n",
    "### Table of Contents\n",
    "<div style=\"text-align: left\"> \n",
    "    \n",
    "<br> [Introduction](#intro)\n",
    "<br> [JWST CalWG Algorithm](#algorithm)\n",
    "<br> [Defining Terms](#terms)\n",
    "<br> [Test Description](#description)\n",
    "<br> [Data Description](#data_descr)\n",
    "<br> [Imports](#imports)\n",
    "<br> [Loading the Data](#data_load)\n",
    "<br> [Run the Pipeline](#pipeline)\n",
    "<br> [Perform Tests](#testing) \n",
    "<br> [About This Notebook](#about)\n",
    "<br>    \n",
    "\n",
    "</div>"
   ]
  },
  {
   "cell_type": "markdown",
   "metadata": {},
   "source": [
    "<a id=\"intro\"></a>\n",
    "# Introduction\n",
    "\n",
    "This is the validation notebook for the assign_wcs step in the image2 stage of the pipeline. The validation step does two checks: \n",
    "1. Round trip conversion between coordinate systems to test whether the output matches the input; \n",
    "2. Conversion from sky coordinates to detector coordinates for a catalog of sources to assess whether the originally inputted detector coordinates are recovered.\n",
    "\n",
    "For more information on the pipeline step visit the links below. \n",
    "\n",
    "> Step description: https://jwst-pipeline.readthedocs.io/en/latest/jwst/assign_wcs/index.html \n",
    "\n",
    "> Pipeline code: https://github.com/spacetelescope/jwst/tree/master/jwst/assign_wcs\n",
    "\n",
    "[Top of Page](#title_ID)"
   ]
  },
  {
   "cell_type": "markdown",
   "metadata": {},
   "source": [
    "<a id=\"algorithm\"></a>\n",
    "# JWST CalWG Algorithm\n",
    "\n",
    "A description of the assign_wcs algorithm from the JWST CalWG: https://outerspace.stsci.edu/display/JWSTCC/Vanilla+Imaging+GWCS+Information\n",
    "\n",
    "[Top of Page](#title_ID)"
   ]
  },
  {
   "cell_type": "markdown",
   "metadata": {},
   "source": [
    "<a id=\"terms\"></a>\n",
    "# Defining Terms\n",
    "\n",
    "GWCS: Generalized World Coordinate System\n",
    "\n",
    "V1, V2, V3: Defines Observatory Coordinate System (see Figure 1 on [JWST Position Angles, Ranges, and Offsets JDox article](https://jwst-docs.stsci.edu/jwst-observatory-functionality/jwst-position-angles-ranges-and-offsets))\n",
    "\n",
    "[Top of Page](#title_ID)"
   ]
  },
  {
   "cell_type": "markdown",
   "metadata": {},
   "source": [
    "<a id=\"description\"></a>\n",
    "# Test Description\n",
    "- Calibrate data through Detector1 stage of the pipeline.\n",
    "- **Round trip conversion test** - check the level of agreement between the input and output values of the following coordinate systems:\n",
    "    - World --> Detector --> World\n",
    "    - Detector --> World --> Detector\n",
    "    - World --> V2 V3 --> World\n",
    "    - Detector --> V2 V3 --> Detector\n",
    "- **Round trip conversion test** is done for two sets of input coordinates:\n",
    "    - Reference pixels at which the transform is anchored:\n",
    "        - crpix1, crpix2 (detector units)\n",
    "        - crval1, crval2 (world coordinate system units)\n",
    "    - Coordinates at the edge of the input subarray:\n",
    "        - xpix=10, ypix=10\n",
    "    - The tolerance for pass/fail (fractional difference between input and output values) is stricter for transforms at the reference pixels compared with the edge of the subarray. For the reference pixel test, the tolerance is stricter for full frame readout compared with subarrays. The tolerances can be updated in the code. Currently, they are set to the following:\n",
    "        - tolerance reference pixel, full frame: 1e-4\n",
    "        - tolerance reference pixel, subarray: 1e-3\n",
    "        - tolerance edge of subarray: 1e-2\n",
    "- **Input source catalog test** - use an input list of sources arranged along a grid that have known input detector coordinates from a Mirage simulation. The simulation produces a catalog of sources with world coordinate system units (i.e., RA and Dec). The test converts these coordinates to detector units and produces the following:\n",
    "    - Calculations $\\Delta$x and $\\Delta$y (difference between input and output pixels) for each source and RMS$_{\\Delta x}$ and RMS $_{\\Delta y}$;\n",
    "    - Histograms of $\\Delta$x and $\\Delta$y for inspection;\n",
    "    - Plots of $\\Delta$x as function of x position and $\\Delta$y as function of y position for inspection;\n",
    "    - The pass/fail test: is RMS$_{\\Delta x}$ and RMS$_{\\Delta y}$ within the tolerance? The tolerance can be updated in the code. Currently, it is set to 1e-2 pixels.\n",
    "\n",
    "\n",
    "[Top of Page](#title_ID)"
   ]
  },
  {
   "cell_type": "markdown",
   "metadata": {},
   "source": [
    "<a id=\"data_descr\"></a>\n",
    "# Data Description\n",
    "All data were generated with [MIRaGe](https://github.com/spacetelescope/mirage) version 1.3.3 on date May 25, 2021\n",
    "\n",
    "**Round trip conversion test**: 10 blank field simulations (spanning a range of RAs and Decs) with all available subarray options:\n",
    "- CLEAR/F200W SUB128\n",
    "- CLEAR/F200W SUB256\n",
    "- CLEAR/F200W SUB64\n",
    "- CLEAR/F200W SUB80\n",
    "- CLEAR/F200W WFSS128C\n",
    "- CLEAR/F200W WFSS128R \n",
    "- CLEAR/F200W WFSS64C\n",
    "- CLEAR/F200W WFSS64R\n",
    "- F480M/NRM FULL\n",
    "- F480/NRM SUB80\n",
    "\n",
    "This test also includes the simulation in the below **Input source catalog test**.\n",
    "\n",
    "**Input source catalog test**: Simulation of a grid of 50 sources with Clear/F200W combination, full frame readout. MIRaGe catalog (`*_pointsources.list`) is also needed.\n",
    "\n",
    "Data are stored in temporary directory which is created below.    \n",
    "\n",
    "[Top of Page](#title_ID)"
   ]
  },
  {
   "cell_type": "code",
   "execution_count": null,
   "metadata": {},
   "outputs": [],
   "source": [
    "use_tempdir = True\n",
    "\n",
    "# Create a temporary directory to hold notebook output, and change the working directory to that directory.\n",
    "from tempfile import TemporaryDirectory\n",
    "import os\n",
    "import shutil\n",
    "\n",
    "if use_tempdir:\n",
    "    data_dir = TemporaryDirectory()\n",
    "\n",
    "    # Save original directory\n",
    "    orig_dir = os.getcwd()\n",
    "\n",
    "    # Move to new directory\n",
    "    outdir = data_dir.name\n",
    "    os.chdir(data_dir.name)\n",
    "\n",
    "# For info, print out where the script is running\n",
    "print(\"Running in {}\".format(os.getcwd()))"
   ]
  },
  {
   "cell_type": "code",
   "execution_count": null,
   "metadata": {},
   "outputs": [],
   "source": [
    "import os\n",
    "if 'CRDS_CACHE_TYPE' in os.environ:\n",
    "    if os.environ['CRDS_CACHE_TYPE'] == 'local':\n",
    "        os.environ['CRDS_PATH'] = os.path.join(os.environ['HOME'], 'crds', 'cache')\n",
    "    elif os.path.isdir(os.environ['CRDS_CACHE_TYPE']):\n",
    "        os.environ['CRDS_PATH'] = os.environ['CRDS_CACHE_TYPE']\n",
    "print('CRDS cache location: {}'.format(os.environ['CRDS_PATH']))"
   ]
  },
  {
   "cell_type": "markdown",
   "metadata": {},
   "source": [
    "<a id=\"imports\"></a>\n",
    "# Imports\n",
    "\n",
    "* astropy.io for opening fits and ascii files\n",
    "* glob for retrieving fits files\n",
    "* numpy for mathematical computation\n",
    "* ci_watson.artifactory_helpers to read in simulations from artifactory\n",
    "* jwst pipeline steps to process data through stage 1 of the pipeline, use image data model, and access convenience functions in from AssignWcsStep\n",
    "* matplotlib.pyplot.plt to generate plots\n",
    "\n",
    "[Top of Page](#title_ID)"
   ]
  },
  {
   "cell_type": "code",
   "execution_count": null,
   "metadata": {},
   "outputs": [],
   "source": [
    "from astropy.io import fits,ascii\n",
    "import glob\n",
    "import numpy as np\n",
    "from ci_watson.artifactory_helpers import get_bigdata\n",
    "from jwst.pipeline import calwebb_detector1\n",
    "from jwst.assign_wcs import AssignWcsStep\n",
    "from jwst.datamodels import image\n",
    "import matplotlib.pyplot as plt"
   ]
  },
  {
   "cell_type": "markdown",
   "metadata": {},
   "source": [
    "<a id=\"data_load\"></a>\n",
    "# Loading the Data\n",
    "\n",
    "Data are stored on Artifactory. The list of simulated datasets and the Mirage catalog list are provided below. The simulated datasets are ready in when running the pipeline to process the data.\n",
    "\n",
    "[Top of Page](#title_ID)"
   ]
  },
  {
   "cell_type": "code",
   "execution_count": null,
   "metadata": {},
   "outputs": [],
   "source": [
    "# Create list of simulated data files:\n",
    "sim_files = np.array(['jw00042001001_01101_00001_nis_uncal.fits',\n",
    "                      'jw00042002001_01101_00001_nis_uncal.fits',\n",
    "                      'jw00042003001_01101_00001_nis_uncal.fits',\n",
    "                      'jw00042004001_01101_00001_nis_uncal.fits',\n",
    "                      'jw00042005001_01101_00001_nis_uncal.fits',\n",
    "                      'jw00042006001_01101_00001_nis_uncal.fits',\n",
    "                      'jw00042007001_01101_00001_nis_uncal.fits',\n",
    "                      'jw00042008001_01101_00001_nis_uncal.fits',\n",
    "                      'jw00042009001_01101_00001_nis_uncal.fits',\n",
    "                      'jw00042010001_01101_00001_nis_uncal.fits',\n",
    "                      'jw00042011001_01101_00001_nis_uncal.fits'])\n",
    "\n",
    "# read MIRaGe's point source list from Artifactory\n",
    "ptsrc_list_f = get_bigdata('jwst_validation_notebooks',\n",
    "                           'validation_data',\n",
    "                           'assign_wcs',\n",
    "                           'assign_wcs_niriss_test',\n",
    "                           'jw00042001001_01101_00001_nis_uncal_pointsources.list')"
   ]
  },
  {
   "cell_type": "markdown",
   "metadata": {},
   "source": [
    "<a id=\"pipeline\"></a>\n",
    "# Run Detector 1 Stage of the Pipeline \n",
    "\n",
    "Run simulations through calwebb_detector1 to produce rate images to test assign_wcs step  \n",
    "\n",
    "[Top of Page](#title_ID)"
   ]
  },
  {
   "cell_type": "code",
   "execution_count": null,
   "metadata": {},
   "outputs": [],
   "source": [
    "# Initialize Detector 1 stage\n",
    "det1 = calwebb_detector1.Detector1Pipeline()\n",
    "det1.save_results = True\n",
    "det1.output_dir = outdir\n",
    "\n",
    "# Run pipeline on simulations to produce *_rate.fits files\n",
    "\n",
    "for sfile in sim_files:\n",
    "    \n",
    "    # strip out prefix of file name to use for output file\n",
    "    prefix = (sfile.split('uncal')[0])#.split('/')[-1]\n",
    "    det1.output_file = prefix+'rate.fits'\n",
    "\n",
    "    # Read in the data files from Artifactory\n",
    "    uncal_file = get_bigdata('jwst_validation_notebooks',\n",
    "                             'validation_data',\n",
    "                             'assign_wcs',\n",
    "                             'assign_wcs_niriss_test',\n",
    "                             sfile)\n",
    "\n",
    "    # Run pipeline\n",
    "\n",
    "    det1.run(uncal_file)"
   ]
  },
  {
   "cell_type": "markdown",
   "metadata": {},
   "source": [
    "<a id=\"testing\"></a>\n",
    "# Perform Tests\n",
    "[Top of Page](#title_ID)"
   ]
  },
  {
   "cell_type": "markdown",
   "metadata": {},
   "source": [
    "## Round Trip Conversion Test"
   ]
  },
  {
   "cell_type": "markdown",
   "metadata": {},
   "source": [
    "### Define routines to do the checking"
   ]
  },
  {
   "cell_type": "markdown",
   "metadata": {},
   "source": [
    "Routine to check whether test passed or failed (is fractional difference between output and input within pre-defined tolerance?)"
   ]
  },
  {
   "cell_type": "code",
   "execution_count": null,
   "metadata": {},
   "outputs": [],
   "source": [
    "def ck_pass_fail(in_frac_x,in_frac_y,tol):\n",
    "    \n",
    "    if (in_frac_x < tol) & (in_frac_y < tol):\n",
    "        pass_or_fail = 'PASS'\n",
    "    else:\n",
    "        pass_or_fail = 'FAIL'\n",
    "        \n",
    "    return(pass_or_fail)"
   ]
  },
  {
   "cell_type": "markdown",
   "metadata": {},
   "source": [
    "Routine to populate dictionary to store results"
   ]
  },
  {
   "cell_type": "code",
   "execution_count": null,
   "metadata": {},
   "outputs": [],
   "source": [
    "def populate_dict(input_dict,obs_info,targ_ra_dec,frac_ra_x,frac_dec_y,conv,pass_or_fail):\n",
    "    \n",
    "    input_dict['obs_info'].append(obs_info)\n",
    "    input_dict['RA_Dec'].append(targ_ra_dec)\n",
    "    input_dict['frac_ra_x'].append(frac_ra_x)\n",
    "    input_dict['frac_dec_y'].append(frac_dec_y)\n",
    "    input_dict['conversion'].append(conv)\n",
    "    input_dict['pass_fail'].append(pass_or_fail)\n",
    "    \n",
    "    return(input_dict)"
   ]
  },
  {
   "cell_type": "markdown",
   "metadata": {},
   "source": [
    "Routine to transform from World --> Detector --> World coordinates"
   ]
  },
  {
   "cell_type": "code",
   "execution_count": null,
   "metadata": {},
   "outputs": [],
   "source": [
    "def world_det_world(in_ra,in_dec,input_dict,obs_info,targ_ra_dec,conv,tol):\n",
    "    \n",
    "    # Convert from RA, Dec to detector coordinates\n",
    "    det = world_to_detector(in_ra,in_dec)\n",
    "\n",
    "    # Convert back to RA, Dec\n",
    "    world = detector_to_world(det[0], det[1])\n",
    "    \n",
    "    # Calculate fractional difference between input and output World coordinates\n",
    "    frac_ra = np.abs((RA-world[0])/RA)\n",
    "    frac_dec = np.abs((Dec-world[1])/Dec)\n",
    "    \n",
    "    # Check whether difference is within tolerance\n",
    "    pass_or_fail = ck_pass_fail(frac_ra,frac_dec,tol)\n",
    "    \n",
    "    # Store results in dictionary\n",
    "    out_dict = populate_dict(input_dict,obs_info,targ_ra_dec,frac_ra,frac_dec,conv,pass_or_fail)\n",
    "    \n",
    "    # Return dictionary\n",
    "    return(out_dict)"
   ]
  },
  {
   "cell_type": "markdown",
   "metadata": {},
   "source": [
    "Routine to transform from Detector --> World --> Detector coordinates"
   ]
  },
  {
   "cell_type": "code",
   "execution_count": null,
   "metadata": {},
   "outputs": [],
   "source": [
    "def det_world_det(in_xpix,in_ypix,input_dict,obs_info,targ_ra_dec,conv,tol):\n",
    "    \n",
    "    # Convert from detector coordinates to RA, Dec\n",
    "    world = detector_to_world(in_xpix, in_ypix)\n",
    "\n",
    "    # Convert from RA, Dec back to detector\n",
    "    det = world_to_detector(world[0], world[1])\n",
    "    \n",
    "    # Calculate fractional difference between input and output detector coordinates\n",
    "    frac_x = np.abs((in_xpix-det[0])/in_xpix)\n",
    "    frac_y = np.abs((in_ypix-det[1])/in_ypix)\n",
    "    \n",
    "    # Check whether difference is within tolerance\n",
    "    pass_or_fail = ck_pass_fail(frac_x,frac_y,tol)\n",
    "    \n",
    "    # Store results in dictionary\n",
    "    out_dict = populate_dict(input_dict,obs_info,targ_ra_dec,frac_x,frac_y,conv,pass_or_fail)\n",
    "    \n",
    "    return(out_dict)"
   ]
  },
  {
   "cell_type": "markdown",
   "metadata": {},
   "source": [
    "Routine to transform from World --> V2 V3 --> World coordinates"
   ]
  },
  {
   "cell_type": "code",
   "execution_count": null,
   "metadata": {},
   "outputs": [],
   "source": [
    "def world_v2v3_world(in_ra,in_dec,input_dict,obs_info,targ_ra_dec,conv,tol):\n",
    "    \n",
    "    # Convert from World coordinates to V2 V3\n",
    "    v2v3 = world_to_v2v3(RA, Dec)\n",
    "\n",
    "    # Convert from V2, V3 back to world\n",
    "    world = v2v3_to_world(v2v3[0], v2v3[1])\n",
    "    \n",
    "    # Calculate fractional difference between input and output World coordinates\n",
    "    frac_ra = np.abs((in_ra-world[0])/in_ra)\n",
    "    frac_dec = np.abs((in_dec-world[1])/in_dec)\n",
    "    \n",
    "    # Check whether difference is within tolerance\n",
    "    pass_or_fail = ck_pass_fail(frac_ra,frac_dec,tol)\n",
    "    \n",
    "    # Store results in dictionary\n",
    "    out_dict = populate_dict(input_dict,obs_info,targ_ra_dec,frac_ra,frac_dec,conv,pass_or_fail)\n",
    "    \n",
    "    return(out_dict)"
   ]
  },
  {
   "cell_type": "markdown",
   "metadata": {},
   "source": [
    "Routine to transform from Detector --> V2 V3 --> Detector"
   ]
  },
  {
   "cell_type": "code",
   "execution_count": null,
   "metadata": {},
   "outputs": [],
   "source": [
    "def det_v2v3_det(in_xpix,in_ypix,input_dict,obs_info,targ_ra_dec,conv,tol):\n",
    "    \n",
    "    # Convert from detector coordinates to V2 V3\n",
    "    v2v3 = detector_to_v2v3(in_xpix, in_ypix)\n",
    "\n",
    "    # Convert from V2, V3 to detector\n",
    "    det = v2v3_to_detector(v2v3[0], v2v3[1])\n",
    "    \n",
    "    # Calculate fractional difference between input and output detector coordinates\n",
    "    frac_x = np.abs((in_xpix-det[0])/in_xpix)\n",
    "    frac_y = np.abs((in_ypix-det[1])/in_ypix)\n",
    "    \n",
    "    # Check whether difference is within tolerance\n",
    "    pass_or_fail = ck_pass_fail(frac_x,frac_y,tol)\n",
    "    \n",
    "    # Store results in dictionary\n",
    "    out_dict = populate_dict(input_dict,obs_info,targ_ra_dec,frac_x,frac_y,conv,pass_or_fail)\n",
    "    \n",
    "    return(out_dict)"
   ]
  },
  {
   "cell_type": "markdown",
   "metadata": {},
   "source": [
    "Routine that checks following conversions for input world and detector coordinates:\n",
    "* World --> Detector --> World\n",
    "* Detector --> World --> Detector\n",
    "* World --> V2 V3 --> World\n",
    "* Detector --> V2 V3 --> Detector\n",
    "\n",
    "This routine calls the routines defined above and stores results in dictionary."
   ]
  },
  {
   "cell_type": "code",
   "execution_count": null,
   "metadata": {},
   "outputs": [],
   "source": [
    "def do_all_the_transforms(RA,Dec,xpix,ypix,info_dict,obs_info,targ_ra_dec,pos,tol):\n",
    "    \n",
    "    # Check World --> Detector --> World\n",
    "    info_dict = world_det_world(RA,Dec,info_dict,obs_info,targ_ra_dec,\n",
    "                                pos+': world --> detector --> world',tol)\n",
    "\n",
    "    # Check Detector --> World --> Detector\n",
    "    info_dict = det_world_det(xpix,ypix,info_dict,obs_info,targ_ra_dec,\n",
    "                             pos+': detector --> world --> detector',tol)\n",
    "\n",
    "    # Check World --> V2 V3 --> Detector\n",
    "    info_dict = world_v2v3_world(RA,Dec,info_dict,obs_info,targ_ra_dec,\n",
    "                                pos+': world --> V2 V3 --> world',tol)\n",
    "\n",
    "    # Check Detector --> V2 V3 --> Detector\n",
    "    info_dict = det_v2v3_det(xpix,ypix,info_dict,obs_info,targ_ra_dec,\n",
    "                             pos+': detector --> V2 V3 --> detector',tol)\n",
    "    \n",
    "    return(info_dict)"
   ]
  },
  {
   "cell_type": "markdown",
   "metadata": {},
   "source": [
    "### Check round trip conversions"
   ]
  },
  {
   "cell_type": "code",
   "execution_count": null,
   "metadata": {},
   "outputs": [],
   "source": [
    "# set tolerance for agreement\n",
    "# use different tolerance for edge of subarray (less accurate)\n",
    "# and reference pixels (more accurate)\n",
    "# For the reference pixels, have a stricter tolerance for full frame readout\n",
    "# which should be more accurate than subarrays\n",
    "tol_ref_full = 1e-4\n",
    "tol_ref_subarray = 1e-3\n",
    "tol_edge = 1e-2\n",
    "\n",
    "# Initiate AssignWcsStep instance\n",
    "awcs = AssignWcsStep()\n",
    "\n",
    "# Select _*rate.fits files\n",
    "rate_files = glob.glob(os.path.join(outdir,'*rate.fits'))"
   ]
  },
  {
   "cell_type": "markdown",
   "metadata": {},
   "source": [
    "Cycle through simulations to perform conversions and assess agreement between input and output coordinates"
   ]
  },
  {
   "cell_type": "code",
   "execution_count": null,
   "metadata": {},
   "outputs": [],
   "source": [
    "# Set up dictionary to store results\n",
    "info_dict = {'obs_info':[],\n",
    "             'RA_Dec':[],\n",
    "             'frac_ra_x':[],\n",
    "             'frac_dec_y':[],\n",
    "             'conversion':[],\n",
    "             'pass_fail':[]}\n",
    "\n",
    "# Cycle through observations\n",
    "for r_file in (rate_files):\n",
    "\n",
    "    # Open image as datamodel\n",
    "    im = image.ImageModel(r_file)\n",
    "\n",
    "    # Create observing info string\n",
    "    exp = im.meta.exposure.type\n",
    "    filter = im.meta.instrument.filter\n",
    "    pupil = im.meta.instrument.pupil\n",
    "    subarray = im.meta.subarray.name\n",
    "    targ_ra = im.meta.target.ra\n",
    "    targ_dec = im.meta.target.dec\n",
    "\n",
    "    obs_info = exp+' '+filter+' '+pupil+' subarray:'+subarray\n",
    "    targ_ra_dec = 'RA: {}, Dec: {}'.format(targ_ra,targ_dec)\n",
    "\n",
    "    # Call Assign WCS Step\n",
    "    gwcs = awcs(im)\n",
    "\n",
    "    # Set up transforms we'll use:\n",
    "    world_to_detector = gwcs.meta.wcs.get_transform('world', 'detector')\n",
    "    detector_to_world = gwcs.meta.wcs.get_transform('detector', 'world')\n",
    "\n",
    "    world_to_v2v3 = gwcs.meta.wcs.get_transform('world', 'v2v3')\n",
    "    v2v3_to_world = gwcs.meta.wcs.get_transform('v2v3', 'world')\n",
    "\n",
    "    detector_to_v2v3 = gwcs.meta.wcs.get_transform('detector','v2v3')\n",
    "    v2v3_to_detector = gwcs.meta.wcs.get_transform('v2v3','detector')\n",
    "\n",
    "    # Transform at pixel values close to the edge of the subarray\n",
    "    xpix = 9\n",
    "    ypix = 9\n",
    "\n",
    "    RA,Dec = gwcs.meta.wcs(xpix, ypix)\n",
    "\n",
    "    # Do the transforms at edge of defined subarray\n",
    "    info_dict = do_all_the_transforms(RA,Dec,xpix,ypix,info_dict,obs_info,targ_ra_dec,'subarray edge',tol_edge)\n",
    "\n",
    "    # Transform at reference pixels\n",
    "    xpix = gwcs.meta.wcsinfo.crpix1\n",
    "    ypix = gwcs.meta.wcsinfo.crpix2\n",
    "\n",
    "    RA = gwcs.meta.wcsinfo.crval1\n",
    "    Dec = gwcs.meta.wcsinfo.crval2\n",
    "\n",
    "    # Do the transforms at reference pixels\n",
    "    # Check whether full frame readout or subarray\n",
    "    if (subarray == 'FULL'):\n",
    "        tol_ref = tol_ref_full\n",
    "    else: \n",
    "        tol_ref = tol_ref_subarray\n",
    "    info_dict = do_all_the_transforms(RA,Dec,xpix,ypix,info_dict,obs_info,targ_ra_dec,'reference pixels',tol_ref)"
   ]
  },
  {
   "cell_type": "markdown",
   "metadata": {},
   "source": [
    "### Pass/Fail test report"
   ]
  },
  {
   "cell_type": "code",
   "execution_count": null,
   "metadata": {},
   "outputs": [],
   "source": [
    "# Check whether any observations failed\n",
    "fail_ind, = np.where(np.array(info_dict['pass_fail']) == 'FAIL')\n",
    "\n",
    "# if any of the tests failed, print out which observations failed, and by how much\n",
    "if len(fail_ind > 0):\n",
    "    print('TEST FAILED for following observations:')\n",
    "    for i in fail_ind:\n",
    "        print(info_dict['obs_info'][i])\n",
    "        print(info_dict['RA_Dec'][i])\n",
    "        print('Failed test at {}'.format(info_dict['conversion'][i]))\n",
    "        print('Fractional difference between input & output RA/xpix = {}'.format(info_dict['frac_ra_x'][i]))\n",
    "        print('Fractional difference between input & output Dec/ypix = {}'.format(info_dict['frac_dec_y'][i]))\n",
    "        print()\n",
    "else:\n",
    "    print('ALL TESTS PASSED - HUZZAH!')\n",
    "    print('\\nFractional differences between input & output coordinates were all '\\\n",
    "          'within pre-defined tolerances of:')\n",
    "    print('{} (reference pixels, full frame), {} (reference pixels, subarray) or {} (edge of subarray)'.\n",
    "          format(tol_ref_full, tol_ref_subarray, tol_edge))    "
   ]
  },
  {
   "cell_type": "markdown",
   "metadata": {},
   "source": [
    "#### Run cell below if interested in seeing the fractional differences between input and output coordinates for all observations"
   ]
  },
  {
   "cell_type": "code",
   "execution_count": null,
   "metadata": {},
   "outputs": [],
   "source": [
    "for i in range(len(info_dict['obs_info'])):\n",
    "    print(info_dict['obs_info'][i])\n",
    "    print(info_dict['RA_Dec'][i])\n",
    "    print('Test at {}: {}'.format(info_dict['conversion'][i],info_dict['pass_fail'][i]))\n",
    "    print('Fractional difference between input & output RA/xpix = {}'.format(info_dict['frac_ra_x'][i]))\n",
    "    print('Fractional difference between input & output Dec/ypix = {}'.format(info_dict['frac_dec_y'][i]))\n",
    "    print()"
   ]
  },
  {
   "cell_type": "markdown",
   "metadata": {},
   "source": [
    "## Input Source Catalog Test\n",
    "[Top of Page](#title_ID)"
   ]
  },
  {
   "cell_type": "markdown",
   "metadata": {},
   "source": [
    "### Routine for plotting image to visualize sources on detector"
   ]
  },
  {
   "cell_type": "code",
   "execution_count": null,
   "metadata": {},
   "outputs": [],
   "source": [
    "def show_image(image, min=0, max=1.5, plt_srcs=False, **kwargs):\n",
    "    \n",
    "    plt.figure(figsize=(12,12))\n",
    "    plt.imshow(image, clim=(min, max))\n",
    "    \n",
    "    if (plt_srcs):\n",
    "        \n",
    "        x_pix = kwargs['x_pix']\n",
    "        y_pix = kwargs['y_pix']\n",
    "\n",
    "        box_size = 20\n",
    "                    \n",
    "        # plot box around each source\n",
    "        for i in range(len(x_pix)):\n",
    "            plt.plot([x_pix[i] - box_size, x_pix[i] + box_size],\n",
    "                     [y_pix[i] + box_size, y_pix[i] + box_size], \n",
    "                     color='white', lw=3)   \n",
    "            plt.plot([x_pix[i] - box_size, x_pix[i] + box_size],\n",
    "                     [y_pix[i] - box_size, y_pix[i] - box_size], \n",
    "                     color='white', lw=3)\n",
    "            plt.plot([x_pix[i] - box_size, x_pix[i] - box_size],\n",
    "                     [y_pix[i] - box_size, y_pix[i] + box_size], \n",
    "                     color='white', lw=3)\n",
    "            plt.plot([x_pix[i] + box_size, x_pix[i] + box_size],\n",
    "                     [y_pix[i] - box_size, y_pix[i] + box_size], \n",
    "                     color='white', lw=3)\n",
    "            \n",
    "    plt.show()"
   ]
  },
  {
   "cell_type": "markdown",
   "metadata": {},
   "source": [
    "### Check difference between output and input pixel coordinates\n",
    "Read in simulated image and input source catalog from MIRaGe"
   ]
  },
  {
   "cell_type": "code",
   "execution_count": null,
   "metadata": {},
   "outputs": [],
   "source": [
    "# set up tolerance\n",
    "tol_pix_diff = 1e-2\n",
    "\n",
    "# Read in image with point sources that was processed through the DETECTOR1 stage of the pipeline\n",
    "rate_img = os.path.join(outdir,'jw00042001001_01101_00001_nis_rate.fits')\n",
    "\n",
    "# Save image as data model\n",
    "image_dm = image.ImageModel(rate_img)\n",
    "\n",
    "# Initialize AssignWcsStep\n",
    "awcs = AssignWcsStep()\n",
    "gwcs = awcs(image_dm)\n",
    "\n",
    "# Read in Mirage catalog of input source list\n",
    "ptsrc_list = ascii.read(ptsrc_list_f, header_start=2)\n",
    "\n",
    "# See column names of input source catalog\n",
    "print(ptsrc_list.colnames)"
   ]
  },
  {
   "cell_type": "markdown",
   "metadata": {},
   "source": [
    "Show calibrated image and where sources fell"
   ]
  },
  {
   "cell_type": "code",
   "execution_count": null,
   "metadata": {},
   "outputs": [],
   "source": [
    "# Display image\n",
    "\n",
    "show_image(image_dm.data,plt_srcs=True, x_pix=ptsrc_list['pixel_x'], y_pix=ptsrc_list['pixel_y'])"
   ]
  },
  {
   "cell_type": "markdown",
   "metadata": {},
   "source": [
    "Convert from World to detector coordinates and compare with input detector coordinates"
   ]
  },
  {
   "cell_type": "code",
   "execution_count": null,
   "metadata": {},
   "outputs": [],
   "source": [
    "world_to_detector = gwcs.meta.wcs.get_transform('world', 'detector')\n",
    "\n",
    "det = world_to_detector(ptsrc_list['RA_degrees'], ptsrc_list['DEC_degrees'])\n",
    "\n",
    "del_x = det[0] - ptsrc_list['pixel_x']\n",
    "del_y = det[1] - ptsrc_list['pixel_y']\n",
    "\n",
    "del_x_rms = np.sqrt(np.mean(del_x**2))\n",
    "del_y_rms = np.sqrt(np.mean(del_y**2))\n",
    "\n",
    "print('RMS of delta-x is {0:.4f} and RMS of delta-Dy is {1:.4f}'.format(\n",
    "del_x_rms, del_y_rms))"
   ]
  },
  {
   "cell_type": "markdown",
   "metadata": {},
   "source": [
    "Plot distribution of $\\Delta$x and $\\Delta$y"
   ]
  },
  {
   "cell_type": "code",
   "execution_count": null,
   "metadata": {},
   "outputs": [],
   "source": [
    "# Set up plot\n",
    "fig,(ax1, ax2) = plt.subplots(1,2)\n",
    "\n",
    "# Plot delta-x histogram\n",
    "x_hist = ax1.hist(del_x)\n",
    "# Label plot\n",
    "ax1.set_xlabel(r'$\\Delta$x',fontsize=12)\n",
    "ax1.set_ylabel('N',fontsize=12)\n",
    "# Set plot limits\n",
    "ax1_yup = np.max(x_hist[0]) + 1\n",
    "ax1.set_ylim(0, ax1_yup)\n",
    "# plot line at zero\n",
    "ax1.plot([0,0],[0,ax1_yup], '--', lw=2, c='black')\n",
    "ax1.tick_params(labelsize=12)\n",
    "\n",
    "# Plot delta-Dec histogram\n",
    "y_hist = ax2.hist(del_y)\n",
    "# Label plot\n",
    "ax2.set_xlabel(r'$\\Delta$y',fontsize=12)\n",
    "ax2.set_ylabel('N',fontsize=12)\n",
    "# Set plot limits\n",
    "ax2_yup = np.max(y_hist[0]) + 1\n",
    "ax2.set_ylim(0, ax2_yup)\n",
    "# plot line at zero\n",
    "ax2.plot([0,0],[0,ax2_yup], '--', lw=2, c='black')\n",
    "ax2.tick_params(labelsize=12)\n",
    "\n",
    "plt.tight_layout()\n",
    "plt.show()"
   ]
  },
  {
   "cell_type": "markdown",
   "metadata": {},
   "source": [
    "Plot $\\Delta$x and $\\Delta$y as function of inputted x and y. Symbol & color-code based on detector position."
   ]
  },
  {
   "cell_type": "code",
   "execution_count": null,
   "metadata": {},
   "outputs": [],
   "source": [
    "# Set up plot\n",
    "fig,(ax1, ax2) = plt.subplots(1,2)\n",
    "\n",
    "# Plot delta-x as function of input x\n",
    "ax1.scatter(ptsrc_list['pixel_x'], del_x, marker='o', color='darkorchid')\n",
    "\n",
    "# Label plot\n",
    "ax1.set_ylabel(r'$\\Delta$x',fontsize=12)\n",
    "ax1.set_xlabel('Input x',fontsize=12)\n",
    "# Set bounds on plot\n",
    "xlo = np.min(ptsrc_list['pixel_x']) - 100\n",
    "xhi = np.max(ptsrc_list['pixel_x']) + 100\n",
    "ax1.set_xlim(xlo, xhi)\n",
    "ax1.set_ylim(np.min(del_x) - 0.005,\n",
    "             np.max(del_x) + 0.005)\n",
    "\n",
    "# Plot horizontal line at 0\n",
    "ax1.plot([xlo, xhi],[0,0], '--', lw=2, color='black')\n",
    "ax1.tick_params(labelsize=12)\n",
    "\n",
    "\n",
    "# Plot delta-y as function of input y\n",
    "ax2.scatter(ptsrc_list['pixel_y'], del_y, marker='o', color='darkorchid')\n",
    "\n",
    "# Label plot\n",
    "ax2.set_ylabel(r'$\\Delta$y',fontsize=12)\n",
    "ax2.set_xlabel('Input y',fontsize=12)\n",
    "# Set bounds on plot\n",
    "xlo = np.min(ptsrc_list['pixel_y'])-100\n",
    "xhi = np.max(ptsrc_list['pixel_y'])+200\n",
    "ax2.set_xlim(xlo, xhi)\n",
    "ax2.set_ylim(np.min(del_y)-0.005,np.max(del_y)+0.005)\n",
    "# Plot horizontal line at 0\n",
    "ax2.plot([xlo, xhi],[0,0], '--', lw=2, color='black')\n",
    "ax2.tick_params(labelsize=12)\n",
    "\n",
    "plt.tight_layout()\n",
    "plt.show()"
   ]
  },
  {
   "cell_type": "markdown",
   "metadata": {},
   "source": [
    "### Pass/Fail test report"
   ]
  },
  {
   "cell_type": "code",
   "execution_count": null,
   "metadata": {},
   "outputs": [],
   "source": [
    "if ( ((del_x_rms) < tol_pix_diff) &\n",
    "     ((del_y_rms) < tol_pix_diff)):\n",
    "    print('Test passed! HUZZAH!')\n",
    "else:\n",
    "    print('TEST FAILED') \n",
    "\n",
    "print()\n",
    "print('Tolerance for RMS of delta-x and delta-y is {}\\n'.format(tol_pix_diff))\n",
    "print('RMS of Del-x is: {0:0.4f},\\nmaximum del-x: {1:0.4f}, \\nminimum del-x: {2:0.6f}'.format(\n",
    "    del_x_rms, np.max(abs(del_x)), np.min(abs(del_x))))\n",
    "print('\\nRMS of Del-y is: {0:0.4f}, \\nmaximum of del-y of {1:0.4f}, \\nminium del-y: {2:0.6f}'.format(\n",
    "    del_y_rms, np.max(abs(del_y)), np.min(abs(del_y))))"
   ]
  },
  {
   "cell_type": "markdown",
   "metadata": {},
   "source": [
    "<a id=\"about_ID\"></a>\n",
    "## About this Notebook\n",
    "**Author:** S. LaMassa, NIRISS\n",
    "<br>**Updated On:** 05/26/2021"
   ]
  },
  {
   "cell_type": "markdown",
   "metadata": {},
   "source": [
    "[Top of Page](#title_ID)\n",
    "<img style=\"float: right;\" src=\"./stsci_pri_combo_mark_horizonal_white_bkgd.png\" alt=\"stsci_pri_combo_mark_horizonal_white_bkgd\" width=\"200px\"/> "
   ]
  }
 ],
 "metadata": {
  "kernelspec": {
   "display_name": "Python 3",
   "language": "python",
   "name": "python3"
  },
  "language_info": {
   "codemirror_mode": {
    "name": "ipython",
    "version": 3
   },
   "file_extension": ".py",
   "mimetype": "text/x-python",
   "name": "python",
   "nbconvert_exporter": "python",
   "pygments_lexer": "ipython3",
   "version": "3.8.8"
  }
 },
 "nbformat": 4,
 "nbformat_minor": 1
}
