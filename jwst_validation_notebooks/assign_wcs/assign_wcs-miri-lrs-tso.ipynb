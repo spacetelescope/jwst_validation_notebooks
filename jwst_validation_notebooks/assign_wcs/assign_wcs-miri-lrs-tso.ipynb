{
 "cells": [
  {
   "cell_type": "markdown",
   "metadata": {},
   "source": [
    "<a id=\"title_ID\"></a>\n",
    "# JWST Pipeline Validation Testing Notebook: MIRI LRS Time Series Observation\n",
    "\n",
    "## Spec2: Assign_wcs()\n",
    "<span style=\"color:red\"> **Instruments Affected**</span>: FGS, MIRI, NIRCam, NIRISS, NIRSpec \n",
    "\n",
    "### Table of Contents\n",
    "<div style=\"text-align: left\"> \n",
    "\n",
    "<br> [Imports](#imports_ID) <br> [Introduction](#intro_ID) <br> [Get Documentaion String for Markdown Blocks](#markdown_from_docs) <br> [Loading Data](#data_ID) <br> [Run JWST Pipeline](#pipeline_ID) <br> [Create Figure or Print Output](#residual_ID) <br> [About This Notebook](#about_ID) <br>\n",
    "\n",
    "</div>"
   ]
  },
  {
   "cell_type": "markdown",
   "metadata": {},
   "source": [
    "<a id=\"imports_ID\"></a>\n",
    "# Imports\n",
    "List the library imports and why they are relevant to this notebook.\n",
    "\n",
    "* os, glob for general  OS operations\n",
    "* numpy\n",
    "* logging\n",
    "* astropy.io for opening fits files\n",
    "* astropy.utils for remote data retrieval\n",
    "* inspect to get the docstring of our objects.\n",
    "* IPython.display for printing markdown output\n",
    "* jwst.datamodels for building model for JWST Pipeline\n",
    "* jwst.module.PipelineStep is the pipeline step being tested\n",
    "* matplotlib.pyplot to generate plot\n",
    "* matplotlib.patches to plot a shape\n",
    "* pysiaf for SIAF access\n",
    "* miricoord for coordinate conversion tools\n",
    "* gwcs for wcs tools\n",
    "\n",
    "[Top of Page](#title_ID)"
   ]
  },
  {
   "cell_type": "code",
   "execution_count": 14,
   "metadata": {
    "nbpresent": {
     "id": "45177853-942e-4949-9e30-f544d70ef5f4"
    }
   },
   "outputs": [],
   "source": [
    "import inspect\n",
    "import numpy as np\n",
    "import glob\n",
    "import logging\n",
    "from IPython.display import Markdown\n",
    "from jwst.datamodels import RampModel, ImageModel, CubeModel\n",
    "from jwst.pipeline import Detector1Pipeline, Spec2Pipeline\n",
    "from jwst.assign_wcs import AssignWcsStep\n",
    "import matplotlib.pyplot as plt\n",
    "from matplotlib.patches import Rectangle\n",
    "\n",
    "import astropy.io.fits as fits\n",
    "from astropy.utils.data import download_file\n",
    "from gwcs.wcstools import grid_from_bounding_box\n",
    "\n",
    "from pysiaf import Siaf\n",
    "import miricoord.imager.mirim_tools as mt\n",
    "\n",
    "%matplotlib inline\n"
   ]
  },
  {
   "cell_type": "markdown",
   "metadata": {},
   "source": [
    "<a id=\"intro_ID\"></a>\n",
    "# Introduction\n",
    "\n",
    "\n",
    "In this notebook we will test the assign_wcs step of Spec2Pipeline() for LRS Time Series Observations (TSOs), i.e. LRS in slitless mode.\n",
    "\n",
    "Step description: https://jwst-pipeline.readthedocs.io/en/latest/jwst/assign_wcs/index.html#assign-wcs-step\n",
    "\n",
    "Pipeline code: https://github.com/spacetelescope/jwst/tree/master/jwst/source_catalog\n",
    "\n",
    "\n",
    "### Calibration WG Requested Algorithm: \n",
    "\n",
    "https://outerspace.stsci.edu/display/JWSTCC/Vanilla+Spectral+GWCS+Information\n",
    "\n",
    "\n",
    "\n",
    "[Top of Page](#title_ID)"
   ]
  },
  {
   "cell_type": "markdown",
   "metadata": {},
   "source": [
    "<a id=\"data_ID\"></a>\n",
    "# Loading Data\n",
    "\n",
    "We are using here a simulated TSO observation, generated with MIRISim. It is a single exposure of a star with 100 groups per integration and 10 integrations. LRS TSOs uses the SLITLESSPRISM subarray, so the data do not cover the full array. \n",
    "\n",
    "The data are stored on Box and we will retrieve from there.\n",
    "\n",
    "[Top of Page](#title_ID)"
   ]
  },
  {
   "cell_type": "code",
   "execution_count": 3,
   "metadata": {},
   "outputs": [
    {
     "name": "stdout",
     "output_type": "stream",
     "text": [
      "Filename: /var/folders/lf/br5qbz194xd6951d98qqk2ym0000gn/T/astropy-download-76955-n8sm8yhr\n",
      "No.    Name      Ver    Type      Cards   Dimensions   Format\n",
      "  0  PRIMARY       1 PrimaryHDU     116   ()      \n",
      "  1  SCI           1 ImageHDU        51   (72, 416, 100, 10)   float32   \n",
      "  2  PIXELDQ       1 ImageHDU        11   (72, 416)   int32 (rescales to uint32)   \n",
      "  3  REFOUT        1 ImageHDU        11   (18, 416, 100, 10)   float32   \n",
      "  4  ASDF          1 BinTableHDU     11   1R x 1C   [5990B]   \n"
     ]
    }
   ],
   "source": [
    "mainurl =\"https://data.science.stsci.edu/redirect/JWST/TSO/pipeline_testing_miri_LRS_tso/\"\n",
    "fname = 'pipetest_miri_lrs_tso_100G10I.fits'\n",
    "fdld = download_file(mainurl+fname)\n",
    "hdu = fits.open(fdld)\n",
    "hdu.info()\n",
    "sci_mod = RampModel(hdu)"
   ]
  },
  {
   "cell_type": "markdown",
   "metadata": {},
   "source": [
    "<a id=\"pipeline_ID\"></a>\n",
    "# Run JWST Pipeline\n",
    "\n",
    "First we run the data through the Detector1() pipeline to convert the raw counts into slopes. This should use the calwebb_tso1.cfg file. The output of this stage will then be run through the assign_wcs step, which is part of the Spec2Pipeline. \n",
    "\n",
    "[Top of Page](#title_ID)"
   ]
  },
  {
   "cell_type": "markdown",
   "metadata": {},
   "source": [
    "### CalDetector1\n",
    "\n",
    "We first run the data through the Detector1 pipeline, ensuring to pass the calwebb_tso1.cfg configuration file. "
   ]
  },
  {
   "cell_type": "code",
   "execution_count": 5,
   "metadata": {},
   "outputs": [
    {
     "name": "stderr",
     "output_type": "stream",
     "text": [
      "2020-07-24 14:51:04,668 - stpipe.Detector1Pipeline - INFO - Detector1Pipeline instance created.\n",
      "2020-07-24 14:51:04,670 - stpipe.Detector1Pipeline.group_scale - INFO - GroupScaleStep instance created.\n",
      "2020-07-24 14:51:04,672 - stpipe.Detector1Pipeline.dq_init - INFO - DQInitStep instance created.\n",
      "2020-07-24 14:51:04,673 - stpipe.Detector1Pipeline.saturation - INFO - SaturationStep instance created.\n",
      "2020-07-24 14:51:04,675 - stpipe.Detector1Pipeline.ipc - INFO - IPCStep instance created.\n",
      "2020-07-24 14:51:04,677 - stpipe.Detector1Pipeline.superbias - INFO - SuperBiasStep instance created.\n",
      "2020-07-24 14:51:04,679 - stpipe.Detector1Pipeline.refpix - INFO - RefPixStep instance created.\n",
      "2020-07-24 14:51:04,680 - stpipe.Detector1Pipeline.rscd - INFO - RSCD_Step instance created.\n",
      "2020-07-24 14:51:04,682 - stpipe.Detector1Pipeline.firstframe - INFO - FirstFrameStep instance created.\n",
      "2020-07-24 14:51:04,684 - stpipe.Detector1Pipeline.lastframe - INFO - LastFrameStep instance created.\n",
      "2020-07-24 14:51:04,686 - stpipe.Detector1Pipeline.linearity - INFO - LinearityStep instance created.\n",
      "2020-07-24 14:51:04,687 - stpipe.Detector1Pipeline.dark_current - INFO - DarkCurrentStep instance created.\n",
      "2020-07-24 14:51:04,689 - stpipe.Detector1Pipeline.persistence - INFO - PersistenceStep instance created.\n",
      "2020-07-24 14:51:04,691 - stpipe.Detector1Pipeline.jump - INFO - JumpStep instance created.\n",
      "2020-07-24 14:51:04,692 - stpipe.Detector1Pipeline.ramp_fit - INFO - RampFitStep instance created.\n",
      "2020-07-24 14:51:04,694 - stpipe.Detector1Pipeline.gain_scale - INFO - GainScaleStep instance created.\n",
      "2020-07-24 14:51:05,903 - CRDS - ERROR -  Error determining best reference for 'pars-groupscalestep'  =   Unknown reference type 'pars-groupscalestep'\n",
      "2020-07-24 14:51:05,909 - CRDS - ERROR -  Error determining best reference for 'pars-dqinitstep'  =   Unknown reference type 'pars-dqinitstep'\n",
      "2020-07-24 14:51:05,915 - CRDS - ERROR -  Error determining best reference for 'pars-saturationstep'  =   Unknown reference type 'pars-saturationstep'\n",
      "2020-07-24 14:51:05,922 - CRDS - ERROR -  Error determining best reference for 'pars-ipcstep'  =   Unknown reference type 'pars-ipcstep'\n",
      "2020-07-24 14:51:05,927 - CRDS - ERROR -  Error determining best reference for 'pars-superbiasstep'  =   Unknown reference type 'pars-superbiasstep'\n",
      "2020-07-24 14:51:05,934 - CRDS - ERROR -  Error determining best reference for 'pars-refpixstep'  =   Unknown reference type 'pars-refpixstep'\n",
      "2020-07-24 14:51:05,940 - CRDS - ERROR -  Error determining best reference for 'pars-rscd_step'  =   Unknown reference type 'pars-rscd_step'\n",
      "2020-07-24 14:51:05,945 - CRDS - ERROR -  Error determining best reference for 'pars-firstframestep'  =   Unknown reference type 'pars-firstframestep'\n",
      "2020-07-24 14:51:05,952 - CRDS - ERROR -  Error determining best reference for 'pars-lastframestep'  =   Unknown reference type 'pars-lastframestep'\n",
      "2020-07-24 14:51:05,957 - CRDS - ERROR -  Error determining best reference for 'pars-linearitystep'  =   Unknown reference type 'pars-linearitystep'\n",
      "2020-07-24 14:51:05,962 - CRDS - ERROR -  Error determining best reference for 'pars-darkcurrentstep'  =   Unknown reference type 'pars-darkcurrentstep'\n",
      "2020-07-24 14:51:05,969 - CRDS - ERROR -  Error determining best reference for 'pars-persistencestep'  =   Unknown reference type 'pars-persistencestep'\n",
      "2020-07-24 14:51:05,975 - CRDS - ERROR -  Error determining best reference for 'pars-jumpstep'  =   Unknown reference type 'pars-jumpstep'\n",
      "2020-07-24 14:51:05,984 - CRDS - ERROR -  Error determining best reference for 'pars-rampfitstep'  =   Unknown reference type 'pars-rampfitstep'\n",
      "2020-07-24 14:51:05,990 - CRDS - ERROR -  Error determining best reference for 'pars-gainscalestep'  =   Unknown reference type 'pars-gainscalestep'\n",
      "2020-07-24 14:51:05,992 - CRDS - ERROR -  Error determining best reference for 'pars-detector1pipeline'  =   Unknown reference type 'pars-detector1pipeline'\n",
      "2020-07-24 14:51:06,002 - stpipe.Detector1Pipeline - INFO - Detector1Pipeline instance created.\n",
      "2020-07-24 14:51:06,004 - stpipe.Detector1Pipeline.group_scale - INFO - GroupScaleStep instance created.\n",
      "2020-07-24 14:51:06,005 - stpipe.Detector1Pipeline.dq_init - INFO - DQInitStep instance created.\n",
      "2020-07-24 14:51:06,006 - stpipe.Detector1Pipeline.saturation - INFO - SaturationStep instance created.\n",
      "2020-07-24 14:51:06,007 - stpipe.Detector1Pipeline.ipc - INFO - IPCStep instance created.\n",
      "2020-07-24 14:51:06,009 - stpipe.Detector1Pipeline.superbias - INFO - SuperBiasStep instance created.\n",
      "2020-07-24 14:51:06,010 - stpipe.Detector1Pipeline.refpix - INFO - RefPixStep instance created.\n",
      "2020-07-24 14:51:06,012 - stpipe.Detector1Pipeline.rscd - INFO - RSCD_Step instance created.\n",
      "2020-07-24 14:51:06,013 - stpipe.Detector1Pipeline.firstframe - INFO - FirstFrameStep instance created.\n",
      "2020-07-24 14:51:06,014 - stpipe.Detector1Pipeline.lastframe - INFO - LastFrameStep instance created.\n",
      "2020-07-24 14:51:06,016 - stpipe.Detector1Pipeline.linearity - INFO - LinearityStep instance created.\n",
      "2020-07-24 14:51:06,017 - stpipe.Detector1Pipeline.dark_current - INFO - DarkCurrentStep instance created.\n",
      "2020-07-24 14:51:06,019 - stpipe.Detector1Pipeline.persistence - INFO - PersistenceStep instance created.\n",
      "2020-07-24 14:51:06,021 - stpipe.Detector1Pipeline.jump - INFO - JumpStep instance created.\n",
      "2020-07-24 14:51:06,022 - stpipe.Detector1Pipeline.ramp_fit - INFO - RampFitStep instance created.\n",
      "2020-07-24 14:51:06,024 - stpipe.Detector1Pipeline.gain_scale - INFO - GainScaleStep instance created.\n",
      "2020-07-24 14:51:06,081 - stpipe.Detector1Pipeline - INFO - Step Detector1Pipeline running with args (<RampModel(10, 100, 416, 72) from astropy-download-76955-n8sm8yhr>,).\n",
      "2020-07-24 14:51:06,094 - stpipe.Detector1Pipeline - INFO - Step Detector1Pipeline parameters are: {'pre_hooks': [], 'post_hooks': [], 'output_file': None, 'output_dir': None, 'output_ext': '.fits', 'output_use_model': False, 'output_use_index': True, 'save_results': True, 'skip': False, 'suffix': None, 'search_output_file': True, 'input_dir': '', 'save_calibrated_ramp': True, 'steps': {'group_scale': {'pre_hooks': [], 'post_hooks': [], 'output_file': None, 'output_dir': None, 'output_ext': '.fits', 'output_use_model': False, 'output_use_index': True, 'save_results': False, 'skip': False, 'suffix': None, 'search_output_file': True, 'input_dir': ''}, 'dq_init': {'pre_hooks': [], 'post_hooks': [], 'output_file': None, 'output_dir': None, 'output_ext': '.fits', 'output_use_model': False, 'output_use_index': True, 'save_results': False, 'skip': False, 'suffix': None, 'search_output_file': True, 'input_dir': ''}, 'saturation': {'pre_hooks': [], 'post_hooks': [], 'output_file': None, 'output_dir': None, 'output_ext': '.fits', 'output_use_model': False, 'output_use_index': True, 'save_results': False, 'skip': False, 'suffix': None, 'search_output_file': True, 'input_dir': ''}, 'ipc': {'pre_hooks': [], 'post_hooks': [], 'output_file': None, 'output_dir': None, 'output_ext': '.fits', 'output_use_model': False, 'output_use_index': True, 'save_results': False, 'skip': True, 'suffix': None, 'search_output_file': True, 'input_dir': ''}, 'superbias': {'pre_hooks': [], 'post_hooks': [], 'output_file': None, 'output_dir': None, 'output_ext': '.fits', 'output_use_model': False, 'output_use_index': True, 'save_results': False, 'skip': False, 'suffix': None, 'search_output_file': True, 'input_dir': ''}, 'refpix': {'pre_hooks': [], 'post_hooks': [], 'output_file': None, 'output_dir': None, 'output_ext': '.fits', 'output_use_model': False, 'output_use_index': True, 'save_results': False, 'skip': False, 'suffix': None, 'search_output_file': True, 'input_dir': '', 'odd_even_columns': True, 'use_side_ref_pixels': True, 'side_smoothing_length': 11, 'side_gain': 1.0, 'odd_even_rows': True}, 'rscd': {'pre_hooks': [], 'post_hooks': [], 'output_file': None, 'output_dir': None, 'output_ext': '.fits', 'output_use_model': False, 'output_use_index': True, 'save_results': False, 'skip': False, 'suffix': None, 'search_output_file': True, 'input_dir': '', 'type': 'baseline'}, 'firstframe': {'pre_hooks': [], 'post_hooks': [], 'output_file': None, 'output_dir': None, 'output_ext': '.fits', 'output_use_model': False, 'output_use_index': True, 'save_results': False, 'skip': True, 'suffix': None, 'search_output_file': True, 'input_dir': ''}, 'lastframe': {'pre_hooks': [], 'post_hooks': [], 'output_file': None, 'output_dir': None, 'output_ext': '.fits', 'output_use_model': False, 'output_use_index': True, 'save_results': False, 'skip': True, 'suffix': None, 'search_output_file': True, 'input_dir': ''}, 'linearity': {'pre_hooks': [], 'post_hooks': [], 'output_file': None, 'output_dir': None, 'output_ext': '.fits', 'output_use_model': False, 'output_use_index': True, 'save_results': False, 'skip': False, 'suffix': None, 'search_output_file': True, 'input_dir': ''}, 'dark_current': {'pre_hooks': [], 'post_hooks': [], 'output_file': None, 'output_dir': None, 'output_ext': '.fits', 'output_use_model': False, 'output_use_index': True, 'save_results': False, 'skip': False, 'suffix': None, 'search_output_file': True, 'input_dir': '', 'dark_output': None}, 'persistence': {'pre_hooks': [], 'post_hooks': [], 'output_file': None, 'output_dir': None, 'output_ext': '.fits', 'output_use_model': False, 'output_use_index': True, 'save_results': False, 'skip': True, 'suffix': None, 'search_output_file': True, 'input_dir': '', 'input_trapsfilled': '', 'flag_pers_cutoff': 40.0, 'save_persistence': False, 'save_trapsfilled': True}, 'jump': {'pre_hooks': [], 'post_hooks': [], 'output_file': None, 'output_dir': None, 'output_ext': '.fits', 'output_use_model': False, 'output_use_index': True, 'save_results': False, 'skip': False, 'suffix': None, 'search_output_file': True, 'input_dir': '', 'rejection_threshold': 4.0, 'maximum_cores': None, 'flag_4_neighbors': True, 'max_jump_to_flag_neighbors': 200.0, 'min_jump_to_flag_neighbors': 10.0}, 'ramp_fit': {'pre_hooks': [], 'post_hooks': [], 'output_file': None, 'output_dir': None, 'output_ext': '.fits', 'output_use_model': False, 'output_use_index': True, 'save_results': False, 'skip': False, 'suffix': None, 'search_output_file': True, 'input_dir': '', 'int_name': '', 'save_opt': False, 'opt_name': ''}, 'gain_scale': {'pre_hooks': [], 'post_hooks': [], 'output_file': None, 'output_dir': None, 'output_ext': '.fits', 'output_use_model': False, 'output_use_index': True, 'save_results': False, 'skip': False, 'suffix': None, 'search_output_file': True, 'input_dir': ''}}}\n"
     ]
    },
    {
     "name": "stderr",
     "output_type": "stream",
     "text": [
      "2020-07-24 14:51:06,108 - stpipe.Detector1Pipeline - INFO - Prefetching reference files for dataset: 'astropy-download-76955-n8sm8yhr' reftypes = ['dark', 'gain', 'linearity', 'mask', 'readnoise', 'refpix', 'rscd', 'saturation', 'superbias']\n",
      "2020-07-24 14:51:06,116 - stpipe.Detector1Pipeline - INFO - Prefetch for DARK reference file is '/Users/kendrew//crds_cache/references/jwst/miri/jwst_miri_dark_0048.fits'.\n",
      "2020-07-24 14:51:06,116 - stpipe.Detector1Pipeline - INFO - Prefetch for GAIN reference file is '/Users/kendrew//crds_cache/references/jwst/miri/jwst_miri_gain_0008.fits'.\n",
      "2020-07-24 14:51:06,117 - stpipe.Detector1Pipeline - INFO - Prefetch for LINEARITY reference file is '/Users/kendrew//crds_cache/references/jwst/miri/jwst_miri_linearity_0024.fits'.\n",
      "2020-07-24 14:51:06,118 - stpipe.Detector1Pipeline - INFO - Prefetch for MASK reference file is '/Users/kendrew//crds_cache/references/jwst/miri/jwst_miri_mask_0023.fits'.\n",
      "2020-07-24 14:51:06,118 - stpipe.Detector1Pipeline - INFO - Prefetch for READNOISE reference file is '/Users/kendrew//crds_cache/references/jwst/miri/jwst_miri_readnoise_0070.fits'.\n",
      "2020-07-24 14:51:06,119 - stpipe.Detector1Pipeline - INFO - Prefetch for REFPIX reference file is 'N/A'.\n",
      "2020-07-24 14:51:06,120 - stpipe.Detector1Pipeline - INFO - Prefetch for RSCD reference file is '/Users/kendrew//crds_cache/references/jwst/miri/jwst_miri_rscd_0010.fits'.\n",
      "2020-07-24 14:51:06,121 - stpipe.Detector1Pipeline - INFO - Prefetch for SATURATION reference file is '/Users/kendrew//crds_cache/references/jwst/miri/jwst_miri_saturation_0022.fits'.\n",
      "2020-07-24 14:51:06,122 - stpipe.Detector1Pipeline - INFO - Prefetch for SUPERBIAS reference file is 'N/A'.\n",
      "2020-07-24 14:51:06,122 - stpipe.Detector1Pipeline - INFO - Starting calwebb_detector1 ...\n",
      "2020-07-24 14:51:06,193 - stpipe.Detector1Pipeline.group_scale - INFO - Step group_scale running with args (<RampModel(10, 100, 416, 72) from astropy-download-76955-n8sm8yhr>,).\n",
      "2020-07-24 14:51:06,195 - stpipe.Detector1Pipeline.group_scale - INFO - Step group_scale parameters are: {'pre_hooks': [], 'post_hooks': [], 'output_file': None, 'output_dir': None, 'output_ext': '.fits', 'output_use_model': False, 'output_use_index': True, 'save_results': False, 'skip': False, 'suffix': None, 'search_output_file': True, 'input_dir': ''}\n",
      "2020-07-24 14:51:06,210 - stpipe.Detector1Pipeline.group_scale - INFO - NFRAMES=1 is a power of 2; correction not needed\n",
      "2020-07-24 14:51:06,210 - stpipe.Detector1Pipeline.group_scale - INFO - Step will be skipped\n",
      "2020-07-24 14:51:06,213 - stpipe.Detector1Pipeline.group_scale - INFO - Step group_scale done\n",
      "2020-07-24 14:51:06,326 - stpipe.Detector1Pipeline.dq_init - INFO - Step dq_init running with args (<RampModel(10, 100, 416, 72) from astropy-download-76955-n8sm8yhr>,).\n",
      "2020-07-24 14:51:06,327 - stpipe.Detector1Pipeline.dq_init - INFO - Step dq_init parameters are: {'pre_hooks': [], 'post_hooks': [], 'output_file': None, 'output_dir': None, 'output_ext': '.fits', 'output_use_model': False, 'output_use_index': True, 'save_results': False, 'skip': False, 'suffix': None, 'search_output_file': True, 'input_dir': ''}\n",
      "2020-07-24 14:51:06,345 - stpipe.Detector1Pipeline.dq_init - INFO - Using MASK reference file /Users/kendrew//crds_cache/references/jwst/miri/jwst_miri_mask_0023.fits\n",
      "2020-07-24 14:51:07,515 - stpipe.Detector1Pipeline.dq_init - INFO - Extracting mask subarray to match science data\n",
      "2020-07-24 14:51:07,525 - stpipe.Detector1Pipeline.dq_init - INFO - Step dq_init done\n",
      "2020-07-24 14:51:07,638 - stpipe.Detector1Pipeline.saturation - INFO - Step saturation running with args (<RampModel(10, 100, 416, 72) from astropy-download-76955-n8sm8yhr>,).\n",
      "2020-07-24 14:51:07,640 - stpipe.Detector1Pipeline.saturation - INFO - Step saturation parameters are: {'pre_hooks': [], 'post_hooks': [], 'output_file': None, 'output_dir': None, 'output_ext': '.fits', 'output_use_model': False, 'output_use_index': True, 'save_results': False, 'skip': False, 'suffix': None, 'search_output_file': True, 'input_dir': ''}\n",
      "2020-07-24 14:51:07,655 - stpipe.Detector1Pipeline.saturation - INFO - Using SATURATION reference file /Users/kendrew//crds_cache/references/jwst/miri/jwst_miri_saturation_0022.fits\n",
      "2020-07-24 14:51:07,920 - stpipe.Detector1Pipeline.saturation - INFO - Extracting reference file subarray to match science data\n",
      "2020-07-24 14:51:08,646 - stpipe.Detector1Pipeline.saturation - INFO - Step saturation done\n",
      "2020-07-24 14:51:08,789 - stpipe.Detector1Pipeline.ipc - INFO - Step ipc running with args (<RampModel(10, 100, 416, 72) from astropy-download-76955-n8sm8yhr>,).\n",
      "2020-07-24 14:51:08,790 - stpipe.Detector1Pipeline.ipc - INFO - Step ipc parameters are: {'pre_hooks': [], 'post_hooks': [], 'output_file': None, 'output_dir': None, 'output_ext': '.fits', 'output_use_model': False, 'output_use_index': True, 'save_results': False, 'skip': True, 'suffix': None, 'search_output_file': True, 'input_dir': ''}\n",
      "2020-07-24 14:51:08,791 - stpipe.Detector1Pipeline.ipc - INFO - Step skipped.\n",
      "2020-07-24 14:51:08,793 - stpipe.Detector1Pipeline.ipc - INFO - Step ipc done\n",
      "2020-07-24 14:51:08,911 - stpipe.Detector1Pipeline.firstframe - INFO - Step firstframe running with args (<RampModel(10, 100, 416, 72) from astropy-download-76955-n8sm8yhr>,).\n",
      "2020-07-24 14:51:08,912 - stpipe.Detector1Pipeline.firstframe - INFO - Step firstframe parameters are: {'pre_hooks': [], 'post_hooks': [], 'output_file': None, 'output_dir': None, 'output_ext': '.fits', 'output_use_model': False, 'output_use_index': True, 'save_results': False, 'skip': True, 'suffix': None, 'search_output_file': True, 'input_dir': ''}\n",
      "2020-07-24 14:51:08,913 - stpipe.Detector1Pipeline.firstframe - INFO - Step skipped.\n",
      "2020-07-24 14:51:08,916 - stpipe.Detector1Pipeline.firstframe - INFO - Step firstframe done\n",
      "2020-07-24 14:51:09,034 - stpipe.Detector1Pipeline.lastframe - INFO - Step lastframe running with args (<RampModel(10, 100, 416, 72) from astropy-download-76955-n8sm8yhr>,).\n",
      "2020-07-24 14:51:09,036 - stpipe.Detector1Pipeline.lastframe - INFO - Step lastframe parameters are: {'pre_hooks': [], 'post_hooks': [], 'output_file': None, 'output_dir': None, 'output_ext': '.fits', 'output_use_model': False, 'output_use_index': True, 'save_results': False, 'skip': True, 'suffix': None, 'search_output_file': True, 'input_dir': ''}\n",
      "2020-07-24 14:51:09,037 - stpipe.Detector1Pipeline.lastframe - INFO - Step skipped.\n",
      "2020-07-24 14:51:09,039 - stpipe.Detector1Pipeline.lastframe - INFO - Step lastframe done\n",
      "2020-07-24 14:51:09,157 - stpipe.Detector1Pipeline.linearity - INFO - Step linearity running with args (<RampModel(10, 100, 416, 72) from astropy-download-76955-n8sm8yhr>,).\n",
      "2020-07-24 14:51:09,159 - stpipe.Detector1Pipeline.linearity - INFO - Step linearity parameters are: {'pre_hooks': [], 'post_hooks': [], 'output_file': None, 'output_dir': None, 'output_ext': '.fits', 'output_use_model': False, 'output_use_index': True, 'save_results': False, 'skip': False, 'suffix': None, 'search_output_file': True, 'input_dir': ''}\n",
      "2020-07-24 14:51:09,176 - stpipe.Detector1Pipeline.linearity - INFO - Using Linearity reference file /Users/kendrew//crds_cache/references/jwst/miri/jwst_miri_linearity_0024.fits\n",
      "2020-07-24 14:51:09,355 - stpipe.Detector1Pipeline.linearity - INFO - Extracting linearity subarray to match science data\n",
      "2020-07-24 14:51:09,546 - stpipe.Detector1Pipeline.linearity - INFO - Step linearity done\n",
      "2020-07-24 14:51:09,701 - stpipe.Detector1Pipeline.rscd - INFO - Step rscd running with args (<RampModel(10, 100, 416, 72) from astropy-download-76955-n8sm8yhr>,).\n",
      "2020-07-24 14:51:09,702 - stpipe.Detector1Pipeline.rscd - INFO - Step rscd parameters are: {'pre_hooks': [], 'post_hooks': [], 'output_file': None, 'output_dir': None, 'output_ext': '.fits', 'output_use_model': False, 'output_use_index': True, 'save_results': False, 'skip': False, 'suffix': None, 'search_output_file': True, 'input_dir': '', 'type': 'baseline'}\n",
      "2020-07-24 14:51:09,718 - stpipe.Detector1Pipeline.rscd - INFO - Using RSCD reference file /Users/kendrew//crds_cache/references/jwst/miri/jwst_miri_rscd_0010.fits\n",
      "2020-07-24 14:51:09,857 - stpipe.Detector1Pipeline.rscd - INFO - Step rscd done\n"
     ]
    },
    {
     "name": "stderr",
     "output_type": "stream",
     "text": [
      "2020-07-24 14:51:10,005 - stpipe.Detector1Pipeline.dark_current - INFO - Step dark_current running with args (<RampModel(10, 100, 416, 72) from astropy-download-76955-n8sm8yhr>,).\n",
      "2020-07-24 14:51:10,007 - stpipe.Detector1Pipeline.dark_current - INFO - Step dark_current parameters are: {'pre_hooks': [], 'post_hooks': [], 'output_file': None, 'output_dir': None, 'output_ext': '.fits', 'output_use_model': False, 'output_use_index': True, 'save_results': False, 'skip': False, 'suffix': None, 'search_output_file': True, 'input_dir': '', 'dark_output': None}\n",
      "2020-07-24 14:51:10,023 - stpipe.Detector1Pipeline.dark_current - INFO - Using DARK reference file /Users/kendrew//crds_cache/references/jwst/miri/jwst_miri_dark_0048.fits\n",
      "2020-07-24 14:51:10,667 - stpipe.Detector1Pipeline.dark_current - INFO - Science data nints=10, ngroups=100, nframes=1, groupgap=0\n",
      "2020-07-24 14:51:10,668 - stpipe.Detector1Pipeline.dark_current - INFO - Dark data nints=2, ngroups=1000, nframes=1, groupgap=0\n",
      "2020-07-24 14:51:10,874 - stpipe.Detector1Pipeline.dark_current - INFO - Step dark_current done\n",
      "2020-07-24 14:51:11,076 - stpipe.Detector1Pipeline.refpix - INFO - Step refpix running with args (<RampModel(10, 100, 416, 72) from astropy-download-76955-n8sm8yhr>,).\n",
      "2020-07-24 14:51:11,078 - stpipe.Detector1Pipeline.refpix - INFO - Step refpix parameters are: {'pre_hooks': [], 'post_hooks': [], 'output_file': None, 'output_dir': None, 'output_ext': '.fits', 'output_use_model': False, 'output_use_index': True, 'save_results': False, 'skip': False, 'suffix': None, 'search_output_file': True, 'input_dir': '', 'odd_even_columns': True, 'use_side_ref_pixels': True, 'side_smoothing_length': 11, 'side_gain': 1.0, 'odd_even_rows': True}\n",
      "2020-07-24 14:51:11,092 - stpipe.Detector1Pipeline.refpix - INFO - use_side_ref_pixels = True\n",
      "2020-07-24 14:51:11,093 - stpipe.Detector1Pipeline.refpix - INFO - odd_even_columns = True\n",
      "2020-07-24 14:51:11,093 - stpipe.Detector1Pipeline.refpix - INFO - side_smoothing_length = 11\n",
      "2020-07-24 14:51:11,094 - stpipe.Detector1Pipeline.refpix - INFO - side_gain = 1.000000\n",
      "2020-07-24 14:51:11,095 - stpipe.Detector1Pipeline.refpix - INFO - odd_even_rows = True\n",
      "2020-07-24 14:51:11,174 - stpipe.Detector1Pipeline.refpix - WARNING - Refpix correction skipped for MIRI subarrays\n",
      "2020-07-24 14:51:11,176 - stpipe.Detector1Pipeline.refpix - INFO - Step refpix done\n",
      "2020-07-24 14:51:11,329 - stpipe.Detector1Pipeline.jump - INFO - Step jump running with args (<RampModel(10, 100, 416, 72) from astropy-download-76955-n8sm8yhr>,).\n",
      "2020-07-24 14:51:11,331 - stpipe.Detector1Pipeline.jump - INFO - Step jump parameters are: {'pre_hooks': [], 'post_hooks': [], 'output_file': None, 'output_dir': None, 'output_ext': '.fits', 'output_use_model': False, 'output_use_index': True, 'save_results': False, 'skip': False, 'suffix': None, 'search_output_file': True, 'input_dir': '', 'rejection_threshold': 4.0, 'maximum_cores': None, 'flag_4_neighbors': True, 'max_jump_to_flag_neighbors': 200.0, 'min_jump_to_flag_neighbors': 10.0}\n",
      "2020-07-24 14:51:11,345 - stpipe.Detector1Pipeline.jump - INFO - CR rejection threshold = 4 sigma\n",
      "2020-07-24 14:51:11,349 - stpipe.Detector1Pipeline.jump - INFO - Using GAIN reference file: /Users/kendrew//crds_cache/references/jwst/miri/jwst_miri_gain_0008.fits\n",
      "2020-07-24 14:51:11,381 - stpipe.Detector1Pipeline.jump - INFO - Using READNOISE reference file: /Users/kendrew//crds_cache/references/jwst/miri/jwst_miri_readnoise_0070.fits\n",
      "2020-07-24 14:51:11,477 - stpipe.Detector1Pipeline.jump - INFO - Extracting gain subarray to match science data\n",
      "2020-07-24 14:51:11,528 - stpipe.Detector1Pipeline.jump - INFO - Executing two-point difference method\n",
      "2020-07-24 14:51:11,855 - stpipe.Detector1Pipeline.jump - INFO -  working on integration 1\n",
      "2020-07-24 14:51:12,015 - stpipe.Detector1Pipeline.jump - INFO - From highest outlier Two point found 4320 pixels with at least one CR\n",
      "2020-07-24 14:51:12,239 - stpipe.Detector1Pipeline.jump - INFO -  working on integration 2\n",
      "2020-07-24 14:51:12,410 - stpipe.Detector1Pipeline.jump - INFO - From highest outlier Two point found 2568 pixels with at least one CR\n",
      "2020-07-24 14:51:12,604 - stpipe.Detector1Pipeline.jump - INFO -  working on integration 3\n",
      "2020-07-24 14:51:12,752 - stpipe.Detector1Pipeline.jump - INFO - From highest outlier Two point found 2507 pixels with at least one CR\n",
      "2020-07-24 14:51:12,921 - stpipe.Detector1Pipeline.jump - INFO -  working on integration 4\n",
      "2020-07-24 14:51:13,067 - stpipe.Detector1Pipeline.jump - INFO - From highest outlier Two point found 2652 pixels with at least one CR\n",
      "2020-07-24 14:51:13,233 - stpipe.Detector1Pipeline.jump - INFO -  working on integration 5\n",
      "2020-07-24 14:51:13,374 - stpipe.Detector1Pipeline.jump - INFO - From highest outlier Two point found 2562 pixels with at least one CR\n",
      "2020-07-24 14:51:13,519 - stpipe.Detector1Pipeline.jump - INFO -  working on integration 6\n",
      "2020-07-24 14:51:13,655 - stpipe.Detector1Pipeline.jump - INFO - From highest outlier Two point found 2492 pixels with at least one CR\n",
      "2020-07-24 14:51:13,809 - stpipe.Detector1Pipeline.jump - INFO -  working on integration 7\n",
      "2020-07-24 14:51:13,953 - stpipe.Detector1Pipeline.jump - INFO - From highest outlier Two point found 2572 pixels with at least one CR\n",
      "2020-07-24 14:51:14,114 - stpipe.Detector1Pipeline.jump - INFO -  working on integration 8\n",
      "2020-07-24 14:51:14,255 - stpipe.Detector1Pipeline.jump - INFO - From highest outlier Two point found 2654 pixels with at least one CR\n",
      "2020-07-24 14:51:14,414 - stpipe.Detector1Pipeline.jump - INFO -  working on integration 9\n",
      "2020-07-24 14:51:14,550 - stpipe.Detector1Pipeline.jump - INFO - From highest outlier Two point found 2554 pixels with at least one CR\n",
      "2020-07-24 14:51:14,703 - stpipe.Detector1Pipeline.jump - INFO -  working on integration 10\n",
      "2020-07-24 14:51:14,846 - stpipe.Detector1Pipeline.jump - INFO - From highest outlier Two point found 2581 pixels with at least one CR\n",
      "2020-07-24 14:51:15,746 - stpipe.Detector1Pipeline.jump - INFO - Total elapsed time = 4.2175 sec\n",
      "2020-07-24 14:51:15,752 - stpipe.Detector1Pipeline.jump - INFO - The execution time in seconds: 4.407180\n",
      "2020-07-24 14:51:15,757 - stpipe.Detector1Pipeline.jump - INFO - Step jump done\n",
      "2020-07-24 14:51:16,842 - stpipe.Detector1Pipeline - INFO - Saved model in astropy-download-76955-n8sm8yhr_ramp.fits\n",
      "2020-07-24 14:51:16,925 - stpipe.Detector1Pipeline.ramp_fit - INFO - Step ramp_fit running with args (<RampModel(10, 100, 416, 72) from astropy-download-76955-n8sm8yhr_ramp.fits>,).\n",
      "2020-07-24 14:51:16,927 - stpipe.Detector1Pipeline.ramp_fit - INFO - Step ramp_fit parameters are: {'pre_hooks': [], 'post_hooks': [], 'output_file': None, 'output_dir': None, 'output_ext': '.fits', 'output_use_model': False, 'output_use_index': True, 'save_results': False, 'skip': False, 'suffix': None, 'search_output_file': True, 'input_dir': '', 'int_name': '', 'save_opt': False, 'opt_name': ''}\n",
      "2020-07-24 14:51:16,945 - stpipe.Detector1Pipeline.ramp_fit - INFO - Using READNOISE reference file: /Users/kendrew//crds_cache/references/jwst/miri/jwst_miri_readnoise_0070.fits\n",
      "2020-07-24 14:51:16,964 - stpipe.Detector1Pipeline.ramp_fit - INFO - Using GAIN reference file: /Users/kendrew//crds_cache/references/jwst/miri/jwst_miri_gain_0008.fits\n",
      "2020-07-24 14:51:16,983 - stpipe.Detector1Pipeline.ramp_fit - INFO - Using algorithm = ols\n",
      "2020-07-24 14:51:16,983 - stpipe.Detector1Pipeline.ramp_fit - INFO - Using weighting = optimal\n",
      "2020-07-24 14:51:16,984 - stpipe.Detector1Pipeline.ramp_fit - INFO - Number of leading groups that are flagged as DO_NOT_USE: 0\n",
      "2020-07-24 14:51:16,985 - stpipe.Detector1Pipeline.ramp_fit - INFO - Effective integration time per group: 0.15904\n",
      "2020-07-24 14:51:17,024 - stpipe.Detector1Pipeline.ramp_fit - INFO - Extracting gain subarray to match science data\n",
      "2020-07-24 14:52:41,427 - stpipe.Detector1Pipeline.ramp_fit - INFO - Number of groups per integration: 100\n",
      "2020-07-24 14:52:41,428 - stpipe.Detector1Pipeline.ramp_fit - INFO - Number of integrations: 10\n",
      "2020-07-24 14:52:41,498 - stpipe.Detector1Pipeline.ramp_fit - INFO - Step ramp_fit done\n",
      "2020-07-24 14:52:41,679 - stpipe.Detector1Pipeline.gain_scale - INFO - Step gain_scale running with args (<ImageModel(416, 72) from astropy-download-76955-n8sm8yhr_ramp.fits>,).\n"
     ]
    },
    {
     "name": "stderr",
     "output_type": "stream",
     "text": [
      "2020-07-24 14:52:41,681 - stpipe.Detector1Pipeline.gain_scale - INFO - Step gain_scale parameters are: {'pre_hooks': [], 'post_hooks': [], 'output_file': None, 'output_dir': None, 'output_ext': '.fits', 'output_use_model': False, 'output_use_index': True, 'save_results': False, 'skip': False, 'suffix': 'gain_scale', 'search_output_file': True, 'input_dir': ''}\n",
      "2020-07-24 14:52:41,716 - stpipe.Detector1Pipeline.gain_scale - INFO - GAINFACT not found in gain reference file\n",
      "2020-07-24 14:52:41,717 - stpipe.Detector1Pipeline.gain_scale - INFO - Step will be skipped\n",
      "2020-07-24 14:52:41,720 - stpipe.Detector1Pipeline.gain_scale - INFO - Step gain_scale done\n",
      "2020-07-24 14:52:41,842 - stpipe.Detector1Pipeline.gain_scale - INFO - Step gain_scale running with args (<CubeModel(10, 416, 72) from astropy-download-76955-n8sm8yhr_ramp.fits>,).\n",
      "2020-07-24 14:52:41,844 - stpipe.Detector1Pipeline.gain_scale - INFO - Step gain_scale parameters are: {'pre_hooks': [], 'post_hooks': [], 'output_file': None, 'output_dir': None, 'output_ext': '.fits', 'output_use_model': False, 'output_use_index': True, 'save_results': False, 'skip': False, 'suffix': 'gain_scaleints', 'search_output_file': True, 'input_dir': ''}\n",
      "2020-07-24 14:52:41,879 - stpipe.Detector1Pipeline.gain_scale - INFO - GAINFACT not found in gain reference file\n",
      "2020-07-24 14:52:41,880 - stpipe.Detector1Pipeline.gain_scale - INFO - Step will be skipped\n",
      "2020-07-24 14:52:41,883 - stpipe.Detector1Pipeline.gain_scale - INFO - Step gain_scale done\n",
      "2020-07-24 14:52:42,064 - stpipe.Detector1Pipeline - INFO - Saved model in astropy-download-76955-n8sm8yhr_rateints.fits\n",
      "2020-07-24 14:52:42,065 - stpipe.Detector1Pipeline - INFO - ... ending calwebb_detector1\n",
      "2020-07-24 14:52:42,144 - stpipe.Detector1Pipeline - INFO - Saved model in astropy-download-76955-n8sm8yhr_rate.fits\n",
      "2020-07-24 14:52:42,144 - stpipe.Detector1Pipeline - INFO - Step Detector1Pipeline done\n"
     ]
    }
   ],
   "source": [
    "det1_step = Detector1Pipeline()\n",
    "det1 = det1_step.call(sci_mod, config_file='calwebb_tso1.cfg', save_results=True)\n"
   ]
  },
  {
   "cell_type": "markdown",
   "metadata": {},
   "source": [
    "### AssignWcs\n",
    "\n",
    "The AssignWcs step should not change anything in the science data or error extension. It attaches the WCS information to the data, so that a location in detector pixels can be reconstructed to an RA, dec, wavelength in spatial and spectral space. "
   ]
  },
  {
   "cell_type": "code",
   "execution_count": 15,
   "metadata": {},
   "outputs": [
    {
     "name": "stdout",
     "output_type": "stream",
     "text": [
      "['astropy-download-76955-n8sm8yhr_rate.fits']\n",
      "['astropy-download-76955-n8sm8yhr_rateints.fits']\n"
     ]
    },
    {
     "name": "stderr",
     "output_type": "stream",
     "text": [
      "2020-07-27 15:38:36,317 - stpipe.AssignWcsStep - INFO - AssignWcsStep instance created.\n",
      "2020-07-27 15:38:36,455 - CRDS - ERROR -  Error determining best reference for 'pars-assignwcsstep'  =   Unknown reference type 'pars-assignwcsstep'\n",
      "2020-07-27 15:38:36,460 - stpipe.AssignWcsStep - INFO - AssignWcsStep instance created.\n",
      "2020-07-27 15:38:36,859 - stpipe.AssignWcsStep - INFO - Step AssignWcsStep running with args ('astropy-download-76955-n8sm8yhr_rateints.fits',).\n",
      "2020-07-27 15:38:36,860 - stpipe.AssignWcsStep - INFO - Step AssignWcsStep parameters are: {'pre_hooks': [], 'post_hooks': [], 'output_file': None, 'output_dir': None, 'output_ext': '.fits', 'output_use_model': False, 'output_use_index': True, 'save_results': True, 'skip': False, 'suffix': None, 'search_output_file': True, 'input_dir': '', 'slit_y_low': -0.55, 'slit_y_high': 0.55}\n",
      "2020-07-27 15:38:37,470 - stpipe.AssignWcsStep - INFO - Created a MIRI mir_lrs-slitless pipeline with references {'distortion': '/Users/kendrew//crds_cache/references/jwst/miri/jwst_miri_distortion_0028.asdf', 'filteroffset': None, 'specwcs': '/Users/kendrew//crds_cache/references/jwst/miri/jwst_miri_specwcs_0003.fits', 'regions': None, 'wavelengthrange': None, 'camera': None, 'collimator': None, 'disperser': None, 'fore': None, 'fpa': None, 'msa': None, 'ote': None, 'ifupost': None, 'ifufore': None, 'ifuslicer': None}\n",
      "2020-07-27 15:38:37,514 - stpipe.AssignWcsStep - INFO - Update S_REGION to POLYGON ICRS  359.999035191 -0.000105404 359.999035191 0.000087759 0.001152874 0.000087759 0.001152874 -0.000105404\n",
      "2020-07-27 15:38:37,515 - stpipe.AssignWcsStep - INFO - assign_wcs updated S_REGION to POLYGON ICRS  359.999035191 -0.000105404 359.999035191 0.000087759 0.001152874 0.000087759 0.001152874 -0.000105404\n",
      "2020-07-27 15:38:37,515 - stpipe.AssignWcsStep - INFO - COMPLETED assign_wcs\n",
      "2020-07-27 15:38:37,781 - stpipe.AssignWcsStep - INFO - Saved model in astropy-download-76955-n8sm8yhr_assignwcsstep.fits\n",
      "2020-07-27 15:38:37,782 - stpipe.AssignWcsStep - INFO - Step AssignWcsStep done\n"
     ]
    }
   ],
   "source": [
    "rfile = glob.glob('*_rate.fits')\n",
    "rifile = glob.glob('*_rateints.fits')\n",
    "print(rfile)\n",
    "print(rifile)\n",
    "\n",
    "rmod = ImageModel(rfile[0])\n",
    "rimod = CubeModel(rifile[0])\n",
    "\n",
    "wcs_step = AssignWcsStep()\n",
    "wcsmod = wcs_step.call(rifile[0], save_results=True)"
   ]
  },
  {
   "cell_type": "markdown",
   "metadata": {},
   "source": [
    "<a id=\"residual_ID\"></a>\n",
    "## Output checks and tests\n",
    "\n",
    "We can use the output model to run teh following checks:\n",
    "\n",
    "* the SCI extension is unchanged from the step input (check with 1 integration)\n",
    "* we visualize the location of the bounding box.\n",
    "* we use the wcs information assigned in the step to check the RA, dec, wavelength assignment at some reference locations. \n",
    "\n",
    "[Top of Page](#title_ID)"
   ]
  },
  {
   "cell_type": "code",
   "execution_count": 16,
   "metadata": {},
   "outputs": [
    {
     "data": {
      "image/png": "[encoded data removed]",
      "text/plain": [
       "<Figure size 648x648 with 3 Axes>"
      ]
     },
     "metadata": {
      "needs_background": "light"
     },
     "output_type": "display_data"
    }
   ],
   "source": [
    "fig, ax = plt.subplots(nrows=1, ncols=3, figsize=[9,9])\n",
    "ax[0].imshow(rimod.data[9,:,:], origin='lower', interpolation='None', aspect='auto')\n",
    "ax[0].set_title('Assign_wcs input (int 9)')\n",
    "ax[0].set_xlabel('px')\n",
    "ax[0].set_xlabel('px')\n",
    "\n",
    "ax[1].imshow(wcs.data[9,:,:], origin='lower', interpolation='None', aspect='auto')\n",
    "ax[1].set_title('Assign_wcs output (int 9)')\n",
    "ax[1].set_xlabel('px')\n",
    "ax[1].set_xlabel('px')\n",
    "\n",
    "diff = rimod.data[9,:,:] - wcs.data[9,:,:]\n",
    "ax[2].imshow(diff, origin='lower', interpolation='None', aspect='auto')\n",
    "ax[2].set_title('Input - Output (int 9)')\n",
    "ax[2].set_xlabel('px')\n",
    "ax[2].set_xlabel('px')\n",
    "\n",
    "fig.tight_layout()\n",
    "\n",
    "# Do a numeric check between input and output\n",
    "assert np.mean(diff) <= 1e-6, \"Check differences between step input and output\"\n",
    "\n"
   ]
  },
  {
   "cell_type": "code",
   "execution_count": 21,
   "metadata": {
    "nbpresent": {
     "id": "fb9e82bd-ecca-4033-ad38-8772e288b145"
    }
   },
   "outputs": [
    {
     "name": "stdout",
     "output_type": "stream",
     "text": [
      "Model bbox = ((3.5, 71.5), (6.5, 397.5)) \n",
      "Model: Height x width of bounding box = 391.0 x 68.0 pixels\n"
     ]
    }
   ],
   "source": [
    "bbox_w = wcsmod.meta.wcs.bounding_box[0][1] - wcsmod.meta.wcs.bounding_box[0][0]\n",
    "bbox_ht = wcsmod.meta.wcs.bounding_box[1][1] - wcsmod.meta.wcs.bounding_box[1][0]\n",
    "print('Model bbox = {0} '.format(wcsmod.meta.wcs.bounding_box))\n",
    "print('Model: Height x width of bounding box = {0} x {1} pixels'.format(bbox_ht, bbox_w))\n",
    "\n",
    "# make sure that the size of the bounding box is smaller than the subarray\n",
    "assert bbox_ht <= np.shape(wcsmod.data)[1], \"Bounding box size incompatible with subarray\"\n",
    "assert bbox_w <= np.shape(wcsmod.data)[2], \"Bounding box size incompatible with subarray\""
   ]
  },
  {
   "cell_type": "code",
   "execution_count": 26,
   "metadata": {},
   "outputs": [
    {
     "data": {
      "text/plain": [
       "<matplotlib.patches.Rectangle at 0x142bfb2e0>"
      ]
     },
     "execution_count": 26,
     "metadata": {},
     "output_type": "execute_result"
    },
    {
     "data": {
      "image/png": "[encoded data removed]",
      "text/plain": [
       "<Figure size 288x648 with 1 Axes>"
      ]
     },
     "metadata": {
      "needs_background": "light"
     },
     "output_type": "display_data"
    }
   ],
   "source": [
    "fig, ax = plt.subplots(figsize=[4,9])\n",
    "bbox = Rectangle((wcsmod.meta.wcs.bounding_box[0][0],wcsmod.meta.wcs.bounding_box[1][0]), bbox_w, bbox_ht, angle=0.0, ec='r', lw=2, fc='None')\n",
    "\n",
    "ax.imshow(wcs.data[9,:,:], origin='lower', interpolation='None', aspect='auto')\n",
    "ax.add_patch(bbox)"
   ]
  },
  {
   "cell_type": "code",
   "execution_count": 33,
   "metadata": {},
   "outputs": [
    {
     "name": "stdout",
     "output_type": "stream",
     "text": [
      "(38.5, 829.0)\n",
      "[37.5, 828.0]\n"
     ]
    },
    {
     "data": {
      "text/plain": [
       "[nan, nan, nan]"
      ]
     },
     "execution_count": 33,
     "metadata": {},
     "output_type": "execute_result"
    }
   ],
   "source": [
    "# Check the positions and wavelengths of a few representative pixels\n",
    "siaf = Siaf('MIRI')\n",
    "ap = siaf['MIRIM_SLITLESSPRISM']\n",
    "refpx = ap.reference_point(to_frame='det')\n",
    "print(refpx)\n",
    "\n",
    "testpx = [r-1. for r in refpx]\n",
    "print(testpx)\n",
    "\n",
    "wcsmod.meta.wcs(37.5, 828.)\n",
    "#ra, dec, lam = wcsmod.meta.wcs(testpx[0], testpx[1])\n"
   ]
  },
  {
   "cell_type": "markdown",
   "metadata": {},
   "source": [
    "<a id=\"about_ID\"></a>\n",
    "## About this Notebook\n",
    "**Author:** Sarah Kendrew, ESA MIRI Instrument & Calibration Scientist, MIRI branch\n",
    "<br>**Updated On:** 07/27/2020"
   ]
  },
  {
   "cell_type": "markdown",
   "metadata": {},
   "source": [
    "[Top of Page](#title_ID)\n",
    "<img style=\"float: right;\" src=\"./stsci_pri_combo_mark_horizonal_white_bkgd.png\" alt=\"stsci_pri_combo_mark_horizonal_white_bkgd\" width=\"200px\"/> "
   ]
  }
 ],
 "metadata": {
  "kernelspec": {
   "display_name": "Python 3",
   "language": "python",
   "name": "python3"
  },
  "language_info": {
   "codemirror_mode": {
    "name": "ipython",
    "version": 3
   },
   "file_extension": ".py",
   "mimetype": "text/x-python",
   "name": "python",
   "nbconvert_exporter": "python",
   "pygments_lexer": "ipython3",
   "version": "3.8.3"
  }
 },
 "nbformat": 4,
 "nbformat_minor": 1
}
