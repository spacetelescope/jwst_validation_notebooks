{
 "cells": [
  {
   "cell_type": "markdown",
   "metadata": {},
   "source": [
    "<a id=\"title_ID\"></a>\n",
    "# JWST Pipeline Validation Testing Notebook: MIRI LRS Slit\n",
    "\n",
    "## Spec2: Assign_wcs()\n",
    "<span style=\"color:red\"> **Instruments Affected**</span>: FGS, MIRI, NIRCam, NIRISS, NIRSpec \n",
    "\n",
    "### Table of Contents\n",
    "<div style=\"text-align: left\"> \n",
    "\n",
    "<br> [Imports](#imports_ID) <br> [Introduction](#intro_ID) <br> [Get Documentaion String for Markdown Blocks](#markdown_from_docs) <br> [Loading Data](#data_ID) <br> [Run JWST Pipeline](#pipeline_ID) <br> [Create Figure or Print Output](#residual_ID) <br> [About This Notebook](#about_ID) <br>\n",
    "\n",
    "</div>"
   ]
  },
  {
   "cell_type": "markdown",
   "metadata": {},
   "source": [
    "<a id=\"imports_ID\"></a>\n",
    "# Imports\n",
    "List the library imports and why they are relevant to this notebook.\n",
    "\n",
    "* os, glob for general  OS operations\n",
    "* numpy\n",
    "* logging\n",
    "* astropy.io for opening fits files\n",
    "* astropy.utils for remote data retrieval\n",
    "* inspect to get the docstring of our objects.\n",
    "* IPython.display for printing markdown output\n",
    "* jwst.datamodels for building model for JWST Pipeline\n",
    "* jwst.module.PipelineStep is the pipeline step being tested\n",
    "* matplotlib.pyplot to generate plot\n",
    "* matplotlib.patches to plot a shape\n",
    "* pysiaf for SIAF access\n",
    "* miricoord for coordinate conversion tools\n",
    "* gwcs for wcs tools\n",
    "\n",
    "[Top of Page](#title_ID)"
   ]
  },
  {
   "cell_type": "code",
   "execution_count": 6,
   "metadata": {
    "nbpresent": {
     "id": "45177853-942e-4949-9e30-f544d70ef5f4"
    }
   },
   "outputs": [],
   "source": [
    "import inspect\n",
    "import numpy as np\n",
    "import glob\n",
    "import os\n",
    "import logging\n",
    "from IPython.display import Markdown\n",
    "from jwst.datamodels import RampModel, ImageModel, CubeModel\n",
    "from jwst.pipeline import Detector1Pipeline, Spec2Pipeline\n",
    "from jwst.assign_wcs import AssignWcsStep\n",
    "import matplotlib.pyplot as plt\n",
    "from matplotlib.patches import Rectangle\n",
    "\n",
    "import astropy.io.fits as fits\n",
    "import astropy.io.ascii as ascii\n",
    "from astropy.table import Table, Column\n",
    "from astropy.utils.data import download_file\n",
    "from gwcs.wcstools import grid_from_bounding_box\n",
    "\n",
    "from pysiaf import Siaf\n",
    "import miricoord.imager.mirim_tools as mt\n",
    "\n",
    "%matplotlib inline\n"
   ]
  },
  {
   "cell_type": "markdown",
   "metadata": {},
   "source": [
    "<a id=\"intro_ID\"></a>\n",
    "# Introduction\n",
    "\n",
    "\n",
    "In this notebook we will test the assign_wcs step of Spec2Pipeline() for **LRS slit** observations, i.e. LRS in slitless mode.\n",
    "\n",
    "Step description: https://jwst-pipeline.readthedocs.io/en/latest/jwst/assign_wcs/index.html#assign-wcs-step\n",
    "\n",
    "Pipeline code: https://github.com/spacetelescope/jwst/tree/master/jwst/assign_wcs\n",
    "\n",
    "\n",
    "### Calibration WG Requested Algorithm: \n",
    "\n",
    "https://outerspace.stsci.edu/display/JWSTCC/Vanilla+Spectral+GWCS+Information\n",
    "\n",
    "\n",
    "\n",
    "[Top of Page](#title_ID)"
   ]
  },
  {
   "cell_type": "markdown",
   "metadata": {},
   "source": [
    "<a id=\"data_ID\"></a>\n",
    "# Loading Data\n",
    "\n",
    "We are using here a simulated LRS slit observation, generated with MIRISim v2.3.0. It is a simple along-slit-nodded observation of a point source (the input was modelled on the flux calibrator BD+60). LRS slit observations cover the full array. \n",
    "\n",
    "The data are stored locally.\n",
    "\n",
    "**TO DO: place the data in Artifactory and ajust the code accordingly**\n",
    "\n",
    "[Top of Page](#title_ID)"
   ]
  },
  {
   "cell_type": "code",
   "execution_count": 7,
   "metadata": {},
   "outputs": [
    {
     "name": "stdout",
     "output_type": "stream",
     "text": [
      "['/Users/kendrew/miri/miri_datasims/LRS-slit-simulations/pipeline_testing/mirisimv2.3sim/det_images/det_image_seq2_MIRIMAGE_P750Lexp1.fits', '/Users/kendrew/miri/miri_datasims/LRS-slit-simulations/pipeline_testing/mirisimv2.3sim/det_images/det_image_seq1_MIRIMAGE_P750Lexp1.fits']\n"
     ]
    }
   ],
   "source": [
    "data_loc = '/Users/kendrew/miri/miri_datasims/LRS-slit-simulations/pipeline_testing/mirisimv2.3sim/det_images/'\n",
    "files = glob.glob(data_loc+'*.fits')\n",
    "print(files)"
   ]
  },
  {
   "cell_type": "markdown",
   "metadata": {},
   "source": [
    "Collect configuration files locally if they aren't yet there."
   ]
  },
  {
   "cell_type": "code",
   "execution_count": 8,
   "metadata": {},
   "outputs": [],
   "source": [
    "if not os.path.exists('../cfg_files/'):\n",
    "    os.mkdir('../cfg_files/')\n",
    "    cfgs = collect_pipeline_cfgs.collect_pipeline_cfgs(dst='../cfg_files/')"
   ]
  },
  {
   "cell_type": "markdown",
   "metadata": {},
   "source": [
    "<a id=\"pipeline_ID\"></a>\n",
    "# Run JWST Pipeline\n",
    "\n",
    "First we run the data through the Detector1() pipeline to convert the raw counts into slopes. This should use the calwebb_tso1.cfg file. The output of this stage will then be run through the assign_wcs step, which is part of the Spec2Pipeline. \n",
    "\n",
    "[Top of Page](#title_ID)"
   ]
  },
  {
   "cell_type": "markdown",
   "metadata": {},
   "source": [
    "### CalDetector1\n",
    "\n",
    "We first run the data through the Detector1 pipeline, ensuring to pass the calwebb_detector1.cfg configuration file. "
   ]
  },
  {
   "cell_type": "code",
   "execution_count": 9,
   "metadata": {},
   "outputs": [
    {
     "name": "stderr",
     "output_type": "stream",
     "text": [
      "2020-08-24 21:47:41,687 - CRDS - ERROR -  Error determining best reference for 'pars-groupscalestep'  =   Unknown reference type 'pars-groupscalestep'\n",
      "2020-08-24 21:47:41,695 - CRDS - ERROR -  Error determining best reference for 'pars-dqinitstep'  =   Unknown reference type 'pars-dqinitstep'\n",
      "2020-08-24 21:47:41,704 - CRDS - ERROR -  Error determining best reference for 'pars-saturationstep'  =   Unknown reference type 'pars-saturationstep'\n",
      "2020-08-24 21:47:41,712 - CRDS - ERROR -  Error determining best reference for 'pars-ipcstep'  =   Unknown reference type 'pars-ipcstep'\n",
      "2020-08-24 21:47:41,720 - CRDS - ERROR -  Error determining best reference for 'pars-superbiasstep'  =   Unknown reference type 'pars-superbiasstep'\n",
      "2020-08-24 21:47:41,729 - CRDS - ERROR -  Error determining best reference for 'pars-refpixstep'  =   Unknown reference type 'pars-refpixstep'\n",
      "2020-08-24 21:47:41,737 - CRDS - ERROR -  Error determining best reference for 'pars-rscd_step'  =   Unknown reference type 'pars-rscd_step'\n",
      "2020-08-24 21:47:41,745 - CRDS - ERROR -  Error determining best reference for 'pars-firstframestep'  =   Unknown reference type 'pars-firstframestep'\n",
      "2020-08-24 21:47:41,753 - CRDS - ERROR -  Error determining best reference for 'pars-lastframestep'  =   Unknown reference type 'pars-lastframestep'\n",
      "2020-08-24 21:47:41,760 - CRDS - ERROR -  Error determining best reference for 'pars-linearitystep'  =   Unknown reference type 'pars-linearitystep'\n",
      "2020-08-24 21:47:41,768 - CRDS - ERROR -  Error determining best reference for 'pars-darkcurrentstep'  =   Unknown reference type 'pars-darkcurrentstep'\n",
      "2020-08-24 21:47:41,776 - CRDS - ERROR -  Error determining best reference for 'pars-persistencestep'  =   Unknown reference type 'pars-persistencestep'\n",
      "2020-08-24 21:47:41,784 - CRDS - ERROR -  Error determining best reference for 'pars-jumpstep'  =   Unknown reference type 'pars-jumpstep'\n",
      "2020-08-24 21:47:41,791 - CRDS - ERROR -  Error determining best reference for 'pars-rampfitstep'  =   Unknown reference type 'pars-rampfitstep'\n",
      "2020-08-24 21:47:41,799 - CRDS - ERROR -  Error determining best reference for 'pars-gainscalestep'  =   Unknown reference type 'pars-gainscalestep'\n",
      "2020-08-24 21:47:41,803 - CRDS - ERROR -  Error determining best reference for 'pars-detector1pipeline'  =   Unknown reference type 'pars-detector1pipeline'\n",
      "2020-08-24 21:47:41,837 - stpipe.Detector1Pipeline - INFO - Detector1Pipeline instance created.\n",
      "2020-08-24 21:47:41,838 - stpipe.Detector1Pipeline.group_scale - INFO - GroupScaleStep instance created.\n",
      "2020-08-24 21:47:41,840 - stpipe.Detector1Pipeline.dq_init - INFO - DQInitStep instance created.\n",
      "2020-08-24 21:47:41,841 - stpipe.Detector1Pipeline.saturation - INFO - SaturationStep instance created.\n",
      "2020-08-24 21:47:41,842 - stpipe.Detector1Pipeline.ipc - INFO - IPCStep instance created.\n",
      "2020-08-24 21:47:41,843 - stpipe.Detector1Pipeline.superbias - INFO - SuperBiasStep instance created.\n",
      "2020-08-24 21:47:41,845 - stpipe.Detector1Pipeline.refpix - INFO - RefPixStep instance created.\n",
      "2020-08-24 21:47:41,846 - stpipe.Detector1Pipeline.rscd - INFO - RSCD_Step instance created.\n",
      "2020-08-24 21:47:41,847 - stpipe.Detector1Pipeline.firstframe - INFO - FirstFrameStep instance created.\n",
      "2020-08-24 21:47:41,850 - stpipe.Detector1Pipeline.lastframe - INFO - LastFrameStep instance created.\n",
      "2020-08-24 21:47:41,852 - stpipe.Detector1Pipeline.linearity - INFO - LinearityStep instance created.\n",
      "2020-08-24 21:47:41,854 - stpipe.Detector1Pipeline.dark_current - INFO - DarkCurrentStep instance created.\n",
      "2020-08-24 21:47:41,855 - stpipe.Detector1Pipeline.persistence - INFO - PersistenceStep instance created.\n",
      "2020-08-24 21:47:41,857 - stpipe.Detector1Pipeline.jump - INFO - JumpStep instance created.\n",
      "2020-08-24 21:47:41,858 - stpipe.Detector1Pipeline.ramp_fit - INFO - RampFitStep instance created.\n",
      "2020-08-24 21:47:41,860 - stpipe.Detector1Pipeline.gain_scale - INFO - GainScaleStep instance created.\n",
      "2020-08-24 21:47:41,947 - stpipe.Detector1Pipeline - INFO - Step Detector1Pipeline running with args ('/Users/kendrew/miri/miri_datasims/LRS-slit-simulations/pipeline_testing/mirisimv2.3sim/det_images/det_image_seq2_MIRIMAGE_P750Lexp1.fits',).\n",
      "2020-08-24 21:47:41,960 - stpipe.Detector1Pipeline - INFO - Step Detector1Pipeline parameters are: {'pre_hooks': [], 'post_hooks': [], 'output_file': None, 'output_dir': None, 'output_ext': '.fits', 'output_use_model': False, 'output_use_index': True, 'save_results': True, 'skip': False, 'suffix': None, 'search_output_file': True, 'input_dir': '', 'save_calibrated_ramp': False, 'steps': {'group_scale': {'pre_hooks': [], 'post_hooks': [], 'output_file': None, 'output_dir': None, 'output_ext': '.fits', 'output_use_model': False, 'output_use_index': True, 'save_results': False, 'skip': False, 'suffix': None, 'search_output_file': True, 'input_dir': ''}, 'dq_init': {'pre_hooks': [], 'post_hooks': [], 'output_file': None, 'output_dir': None, 'output_ext': '.fits', 'output_use_model': False, 'output_use_index': True, 'save_results': False, 'skip': False, 'suffix': None, 'search_output_file': True, 'input_dir': ''}, 'saturation': {'pre_hooks': [], 'post_hooks': [], 'output_file': None, 'output_dir': None, 'output_ext': '.fits', 'output_use_model': False, 'output_use_index': True, 'save_results': False, 'skip': False, 'suffix': None, 'search_output_file': True, 'input_dir': ''}, 'ipc': {'pre_hooks': [], 'post_hooks': [], 'output_file': None, 'output_dir': None, 'output_ext': '.fits', 'output_use_model': False, 'output_use_index': True, 'save_results': False, 'skip': True, 'suffix': None, 'search_output_file': True, 'input_dir': ''}, 'superbias': {'pre_hooks': [], 'post_hooks': [], 'output_file': None, 'output_dir': None, 'output_ext': '.fits', 'output_use_model': False, 'output_use_index': True, 'save_results': False, 'skip': False, 'suffix': None, 'search_output_file': True, 'input_dir': ''}, 'refpix': {'pre_hooks': [], 'post_hooks': [], 'output_file': None, 'output_dir': None, 'output_ext': '.fits', 'output_use_model': False, 'output_use_index': True, 'save_results': False, 'skip': False, 'suffix': None, 'search_output_file': True, 'input_dir': '', 'odd_even_columns': True, 'use_side_ref_pixels': True, 'side_smoothing_length': 11, 'side_gain': 1.0, 'odd_even_rows': True}, 'rscd': {'pre_hooks': [], 'post_hooks': [], 'output_file': None, 'output_dir': None, 'output_ext': '.fits', 'output_use_model': False, 'output_use_index': True, 'save_results': False, 'skip': False, 'suffix': None, 'search_output_file': True, 'input_dir': '', 'type': 'baseline'}, 'firstframe': {'pre_hooks': [], 'post_hooks': [], 'output_file': None, 'output_dir': None, 'output_ext': '.fits', 'output_use_model': False, 'output_use_index': True, 'save_results': False, 'skip': False, 'suffix': None, 'search_output_file': True, 'input_dir': ''}, 'lastframe': {'pre_hooks': [], 'post_hooks': [], 'output_file': None, 'output_dir': None, 'output_ext': '.fits', 'output_use_model': False, 'output_use_index': True, 'save_results': False, 'skip': False, 'suffix': None, 'search_output_file': True, 'input_dir': ''}, 'linearity': {'pre_hooks': [], 'post_hooks': [], 'output_file': None, 'output_dir': None, 'output_ext': '.fits', 'output_use_model': False, 'output_use_index': True, 'save_results': False, 'skip': False, 'suffix': None, 'search_output_file': True, 'input_dir': ''}, 'dark_current': {'pre_hooks': [], 'post_hooks': [], 'output_file': None, 'output_dir': None, 'output_ext': '.fits', 'output_use_model': False, 'output_use_index': True, 'save_results': False, 'skip': False, 'suffix': None, 'search_output_file': True, 'input_dir': '', 'dark_output': None}, 'persistence': {'pre_hooks': [], 'post_hooks': [], 'output_file': None, 'output_dir': None, 'output_ext': '.fits', 'output_use_model': False, 'output_use_index': True, 'save_results': False, 'skip': False, 'suffix': None, 'search_output_file': True, 'input_dir': '', 'input_trapsfilled': '', 'flag_pers_cutoff': 40.0, 'save_persistence': False, 'save_trapsfilled': True}, 'jump': {'pre_hooks': [], 'post_hooks': [], 'output_file': None, 'output_dir': None, 'output_ext': '.fits', 'output_use_model': False, 'output_use_index': True, 'save_results': False, 'skip': False, 'suffix': None, 'search_output_file': True, 'input_dir': '', 'rejection_threshold': 4.0, 'maximum_cores': None, 'flag_4_neighbors': True, 'max_jump_to_flag_neighbors': 200.0, 'min_jump_to_flag_neighbors': 10.0}, 'ramp_fit': {'pre_hooks': [], 'post_hooks': [], 'output_file': None, 'output_dir': None, 'output_ext': '.fits', 'output_use_model': False, 'output_use_index': True, 'save_results': False, 'skip': False, 'suffix': None, 'search_output_file': True, 'input_dir': '', 'int_name': '', 'save_opt': False, 'opt_name': ''}, 'gain_scale': {'pre_hooks': [], 'post_hooks': [], 'output_file': None, 'output_dir': None, 'output_ext': '.fits', 'output_use_model': False, 'output_use_index': True, 'save_results': False, 'skip': False, 'suffix': None, 'search_output_file': True, 'input_dir': ''}}}\n"
     ]
    },
    {
     "name": "stderr",
     "output_type": "stream",
     "text": [
      "2020-08-24 21:47:42,085 - stpipe.Detector1Pipeline - INFO - Prefetching reference files for dataset: 'det_image_seq2_MIRIMAGE_P750Lexp1.fits' reftypes = ['dark', 'gain', 'linearity', 'mask', 'persat', 'readnoise', 'refpix', 'rscd', 'saturation', 'superbias', 'trapdensity', 'trappars']\n",
      "2020-08-24 21:47:42,090 - stpipe.Detector1Pipeline - INFO - Prefetch for DARK reference file is '/Users/kendrew//crds_cache/references/jwst/miri/jwst_miri_dark_0058.fits'.\n",
      "2020-08-24 21:47:42,091 - stpipe.Detector1Pipeline - INFO - Prefetch for GAIN reference file is '/Users/kendrew//crds_cache/references/jwst/miri/jwst_miri_gain_0008.fits'.\n",
      "2020-08-24 21:47:42,092 - stpipe.Detector1Pipeline - INFO - Prefetch for LINEARITY reference file is '/Users/kendrew//crds_cache/references/jwst/miri/jwst_miri_linearity_0024.fits'.\n",
      "2020-08-24 21:47:42,092 - stpipe.Detector1Pipeline - INFO - Prefetch for MASK reference file is '/Users/kendrew//crds_cache/references/jwst/miri/jwst_miri_mask_0023.fits'.\n",
      "2020-08-24 21:47:42,093 - stpipe.Detector1Pipeline - INFO - Prefetch for PERSAT reference file is 'N/A'.\n",
      "2020-08-24 21:47:42,094 - stpipe.Detector1Pipeline - INFO - Prefetch for READNOISE reference file is '/Users/kendrew//crds_cache/references/jwst/miri/jwst_miri_readnoise_0057.fits'.\n",
      "2020-08-24 21:47:42,094 - stpipe.Detector1Pipeline - INFO - Prefetch for REFPIX reference file is 'N/A'.\n",
      "2020-08-24 21:47:42,095 - stpipe.Detector1Pipeline - INFO - Prefetch for RSCD reference file is '/Users/kendrew//crds_cache/references/jwst/miri/jwst_miri_rscd_0010.fits'.\n",
      "2020-08-24 21:47:42,096 - stpipe.Detector1Pipeline - INFO - Prefetch for SATURATION reference file is '/Users/kendrew//crds_cache/references/jwst/miri/jwst_miri_saturation_0022.fits'.\n",
      "2020-08-24 21:47:42,096 - stpipe.Detector1Pipeline - INFO - Prefetch for SUPERBIAS reference file is 'N/A'.\n",
      "2020-08-24 21:47:42,097 - stpipe.Detector1Pipeline - INFO - Prefetch for TRAPDENSITY reference file is 'N/A'.\n",
      "2020-08-24 21:47:42,097 - stpipe.Detector1Pipeline - INFO - Prefetch for TRAPPARS reference file is 'N/A'.\n",
      "2020-08-24 21:47:42,097 - stpipe.Detector1Pipeline - INFO - Starting calwebb_detector1 ...\n",
      "2020-08-24 21:47:42,365 - stpipe.Detector1Pipeline.group_scale - INFO - Step group_scale running with args (<RampModel(2, 10, 1024, 1032) from det_image_seq2_MIRIMAGE_P750Lexp1.fits>,).\n",
      "2020-08-24 21:47:42,366 - stpipe.Detector1Pipeline.group_scale - INFO - Step group_scale parameters are: {'pre_hooks': [], 'post_hooks': [], 'output_file': None, 'output_dir': None, 'output_ext': '.fits', 'output_use_model': False, 'output_use_index': True, 'save_results': False, 'skip': False, 'suffix': None, 'search_output_file': True, 'input_dir': '/Users/kendrew/miri/miri_datasims/LRS-slit-simulations/pipeline_testing/mirisimv2.3sim/det_images'}\n",
      "2020-08-24 21:47:42,379 - stpipe.Detector1Pipeline.group_scale - INFO - NFRAMES=1 is a power of 2; correction not needed\n",
      "2020-08-24 21:47:42,379 - stpipe.Detector1Pipeline.group_scale - INFO - Step will be skipped\n",
      "2020-08-24 21:47:42,383 - stpipe.Detector1Pipeline.group_scale - INFO - Step group_scale done\n",
      "2020-08-24 21:47:42,495 - stpipe.Detector1Pipeline.dq_init - INFO - Step dq_init running with args (<RampModel(2, 10, 1024, 1032) from det_image_seq2_MIRIMAGE_P750Lexp1.fits>,).\n",
      "2020-08-24 21:47:42,497 - stpipe.Detector1Pipeline.dq_init - INFO - Step dq_init parameters are: {'pre_hooks': [], 'post_hooks': [], 'output_file': None, 'output_dir': None, 'output_ext': '.fits', 'output_use_model': False, 'output_use_index': True, 'save_results': False, 'skip': False, 'suffix': None, 'search_output_file': True, 'input_dir': '/Users/kendrew/miri/miri_datasims/LRS-slit-simulations/pipeline_testing/mirisimv2.3sim/det_images'}\n",
      "2020-08-24 21:47:42,512 - stpipe.Detector1Pipeline.dq_init - INFO - Using MASK reference file /Users/kendrew//crds_cache/references/jwst/miri/jwst_miri_mask_0023.fits\n",
      "2020-08-24 21:47:42,652 - stpipe.Detector1Pipeline.dq_init - INFO - Step dq_init done\n",
      "2020-08-24 21:47:42,769 - stpipe.Detector1Pipeline.saturation - INFO - Step saturation running with args (<RampModel(2, 10, 1024, 1032) from det_image_seq2_MIRIMAGE_P750Lexp1.fits>,).\n",
      "2020-08-24 21:47:42,770 - stpipe.Detector1Pipeline.saturation - INFO - Step saturation parameters are: {'pre_hooks': [], 'post_hooks': [], 'output_file': None, 'output_dir': None, 'output_ext': '.fits', 'output_use_model': False, 'output_use_index': True, 'save_results': False, 'skip': False, 'suffix': None, 'search_output_file': True, 'input_dir': '/Users/kendrew/miri/miri_datasims/LRS-slit-simulations/pipeline_testing/mirisimv2.3sim/det_images'}\n",
      "2020-08-24 21:47:42,785 - stpipe.Detector1Pipeline.saturation - INFO - Using SATURATION reference file /Users/kendrew//crds_cache/references/jwst/miri/jwst_miri_saturation_0022.fits\n",
      "2020-08-24 21:47:43,084 - stpipe.Detector1Pipeline.saturation - INFO - Step saturation done\n",
      "2020-08-24 21:47:43,215 - stpipe.Detector1Pipeline.ipc - INFO - Step ipc running with args (<RampModel(2, 10, 1024, 1032) from det_image_seq2_MIRIMAGE_P750Lexp1.fits>,).\n",
      "2020-08-24 21:47:43,217 - stpipe.Detector1Pipeline.ipc - INFO - Step ipc parameters are: {'pre_hooks': [], 'post_hooks': [], 'output_file': None, 'output_dir': None, 'output_ext': '.fits', 'output_use_model': False, 'output_use_index': True, 'save_results': False, 'skip': True, 'suffix': None, 'search_output_file': True, 'input_dir': '/Users/kendrew/miri/miri_datasims/LRS-slit-simulations/pipeline_testing/mirisimv2.3sim/det_images'}\n",
      "2020-08-24 21:47:43,218 - stpipe.Detector1Pipeline.ipc - INFO - Step skipped.\n",
      "2020-08-24 21:47:43,220 - stpipe.Detector1Pipeline.ipc - INFO - Step ipc done\n",
      "2020-08-24 21:47:43,335 - stpipe.Detector1Pipeline.firstframe - INFO - Step firstframe running with args (<RampModel(2, 10, 1024, 1032) from det_image_seq2_MIRIMAGE_P750Lexp1.fits>,).\n",
      "2020-08-24 21:47:43,337 - stpipe.Detector1Pipeline.firstframe - INFO - Step firstframe parameters are: {'pre_hooks': [], 'post_hooks': [], 'output_file': None, 'output_dir': None, 'output_ext': '.fits', 'output_use_model': False, 'output_use_index': True, 'save_results': False, 'skip': False, 'suffix': None, 'search_output_file': True, 'input_dir': '/Users/kendrew/miri/miri_datasims/LRS-slit-simulations/pipeline_testing/mirisimv2.3sim/det_images'}\n",
      "2020-08-24 21:47:43,424 - stpipe.Detector1Pipeline.firstframe - INFO - Step firstframe done\n",
      "2020-08-24 21:47:43,567 - stpipe.Detector1Pipeline.lastframe - INFO - Step lastframe running with args (<RampModel(2, 10, 1024, 1032) from det_image_seq2_MIRIMAGE_P750Lexp1.fits>,).\n",
      "2020-08-24 21:47:43,569 - stpipe.Detector1Pipeline.lastframe - INFO - Step lastframe parameters are: {'pre_hooks': [], 'post_hooks': [], 'output_file': None, 'output_dir': None, 'output_ext': '.fits', 'output_use_model': False, 'output_use_index': True, 'save_results': False, 'skip': False, 'suffix': None, 'search_output_file': True, 'input_dir': '/Users/kendrew/miri/miri_datasims/LRS-slit-simulations/pipeline_testing/mirisimv2.3sim/det_images'}\n",
      "2020-08-24 21:47:43,657 - stpipe.Detector1Pipeline.lastframe - INFO - Step lastframe done\n",
      "2020-08-24 21:47:43,805 - stpipe.Detector1Pipeline.linearity - INFO - Step linearity running with args (<RampModel(2, 10, 1024, 1032) from det_image_seq2_MIRIMAGE_P750Lexp1.fits>,).\n",
      "2020-08-24 21:47:43,806 - stpipe.Detector1Pipeline.linearity - INFO - Step linearity parameters are: {'pre_hooks': [], 'post_hooks': [], 'output_file': None, 'output_dir': None, 'output_ext': '.fits', 'output_use_model': False, 'output_use_index': True, 'save_results': False, 'skip': False, 'suffix': None, 'search_output_file': True, 'input_dir': '/Users/kendrew/miri/miri_datasims/LRS-slit-simulations/pipeline_testing/mirisimv2.3sim/det_images'}\n",
      "2020-08-24 21:47:43,822 - stpipe.Detector1Pipeline.linearity - INFO - Using Linearity reference file /Users/kendrew//crds_cache/references/jwst/miri/jwst_miri_linearity_0024.fits\n",
      "2020-08-24 21:47:44,128 - stpipe.Detector1Pipeline.linearity - INFO - Step linearity done\n",
      "2020-08-24 21:47:44,270 - stpipe.Detector1Pipeline.rscd - INFO - Step rscd running with args (<RampModel(2, 10, 1024, 1032) from det_image_seq2_MIRIMAGE_P750Lexp1.fits>,).\n",
      "2020-08-24 21:47:44,271 - stpipe.Detector1Pipeline.rscd - INFO - Step rscd parameters are: {'pre_hooks': [], 'post_hooks': [], 'output_file': None, 'output_dir': None, 'output_ext': '.fits', 'output_use_model': False, 'output_use_index': True, 'save_results': False, 'skip': False, 'suffix': None, 'search_output_file': True, 'input_dir': '/Users/kendrew/miri/miri_datasims/LRS-slit-simulations/pipeline_testing/mirisimv2.3sim/det_images', 'type': 'baseline'}\n"
     ]
    },
    {
     "name": "stderr",
     "output_type": "stream",
     "text": [
      "2020-08-24 21:47:44,287 - stpipe.Detector1Pipeline.rscd - INFO - Using RSCD reference file /Users/kendrew//crds_cache/references/jwst/miri/jwst_miri_rscd_0010.fits\n",
      "2020-08-24 21:47:44,396 - stpipe.Detector1Pipeline.rscd - INFO - Step rscd done\n",
      "2020-08-24 21:47:44,534 - stpipe.Detector1Pipeline.dark_current - INFO - Step dark_current running with args (<RampModel(2, 10, 1024, 1032) from det_image_seq2_MIRIMAGE_P750Lexp1.fits>,).\n",
      "2020-08-24 21:47:44,535 - stpipe.Detector1Pipeline.dark_current - INFO - Step dark_current parameters are: {'pre_hooks': [], 'post_hooks': [], 'output_file': None, 'output_dir': None, 'output_ext': '.fits', 'output_use_model': False, 'output_use_index': True, 'save_results': False, 'skip': False, 'suffix': None, 'search_output_file': True, 'input_dir': '/Users/kendrew/miri/miri_datasims/LRS-slit-simulations/pipeline_testing/mirisimv2.3sim/det_images', 'dark_output': None}\n",
      "2020-08-24 21:47:44,551 - stpipe.Detector1Pipeline.dark_current - INFO - Using DARK reference file /Users/kendrew//crds_cache/references/jwst/miri/jwst_miri_dark_0058.fits\n",
      "2020-08-24 21:47:49,102 - stpipe.Detector1Pipeline.dark_current - INFO - Science data nints=2, ngroups=10, nframes=1, groupgap=0\n",
      "2020-08-24 21:47:49,102 - stpipe.Detector1Pipeline.dark_current - INFO - Dark data nints=2, ngroups=200, nframes=1, groupgap=0\n",
      "2020-08-24 21:47:50,957 - stpipe.Detector1Pipeline.dark_current - INFO - Step dark_current done\n",
      "2020-08-24 21:47:51,420 - stpipe.Detector1Pipeline.refpix - INFO - Step refpix running with args (<RampModel(2, 10, 1024, 1032) from det_image_seq2_MIRIMAGE_P750Lexp1.fits>,).\n",
      "2020-08-24 21:47:51,422 - stpipe.Detector1Pipeline.refpix - INFO - Step refpix parameters are: {'pre_hooks': [], 'post_hooks': [], 'output_file': None, 'output_dir': None, 'output_ext': '.fits', 'output_use_model': False, 'output_use_index': True, 'save_results': False, 'skip': False, 'suffix': None, 'search_output_file': True, 'input_dir': '/Users/kendrew/miri/miri_datasims/LRS-slit-simulations/pipeline_testing/mirisimv2.3sim/det_images', 'odd_even_columns': True, 'use_side_ref_pixels': True, 'side_smoothing_length': 11, 'side_gain': 1.0, 'odd_even_rows': True}\n",
      "2020-08-24 21:47:51,434 - stpipe.Detector1Pipeline.refpix - INFO - use_side_ref_pixels = True\n",
      "2020-08-24 21:47:51,435 - stpipe.Detector1Pipeline.refpix - INFO - odd_even_columns = True\n",
      "2020-08-24 21:47:51,435 - stpipe.Detector1Pipeline.refpix - INFO - side_smoothing_length = 11\n",
      "2020-08-24 21:47:51,436 - stpipe.Detector1Pipeline.refpix - INFO - side_gain = 1.000000\n",
      "2020-08-24 21:47:51,437 - stpipe.Detector1Pipeline.refpix - INFO - odd_even_rows = True\n",
      "2020-08-24 21:47:51,520 - stpipe.Detector1Pipeline.refpix - INFO - Subtracting initial read from each integration\n",
      "2020-08-24 21:47:51,741 - stpipe.Detector1Pipeline.refpix - INFO - Adding initial read back in\n",
      "2020-08-24 21:47:51,778 - stpipe.Detector1Pipeline.refpix - INFO - Step refpix done\n",
      "2020-08-24 21:47:51,916 - stpipe.Detector1Pipeline.jump - INFO - Step jump running with args (<RampModel(2, 10, 1024, 1032) from det_image_seq2_MIRIMAGE_P750Lexp1.fits>,).\n",
      "2020-08-24 21:47:51,917 - stpipe.Detector1Pipeline.jump - INFO - Step jump parameters are: {'pre_hooks': [], 'post_hooks': [], 'output_file': None, 'output_dir': None, 'output_ext': '.fits', 'output_use_model': False, 'output_use_index': True, 'save_results': False, 'skip': False, 'suffix': None, 'search_output_file': True, 'input_dir': '/Users/kendrew/miri/miri_datasims/LRS-slit-simulations/pipeline_testing/mirisimv2.3sim/det_images', 'rejection_threshold': 4.0, 'maximum_cores': None, 'flag_4_neighbors': True, 'max_jump_to_flag_neighbors': 200.0, 'min_jump_to_flag_neighbors': 10.0}\n",
      "2020-08-24 21:47:51,931 - stpipe.Detector1Pipeline.jump - INFO - CR rejection threshold = 4 sigma\n",
      "2020-08-24 21:47:51,935 - stpipe.Detector1Pipeline.jump - INFO - Using GAIN reference file: /Users/kendrew//crds_cache/references/jwst/miri/jwst_miri_gain_0008.fits\n",
      "2020-08-24 21:47:51,963 - stpipe.Detector1Pipeline.jump - INFO - Using READNOISE reference file: /Users/kendrew//crds_cache/references/jwst/miri/jwst_miri_readnoise_0057.fits\n",
      "2020-08-24 21:47:52,078 - stpipe.Detector1Pipeline.jump - INFO - Executing two-point difference method\n",
      "2020-08-24 21:47:52,537 - stpipe.Detector1Pipeline.jump - INFO -  working on integration 1\n",
      "2020-08-24 21:47:53,119 - stpipe.Detector1Pipeline.jump - INFO - From highest outlier Two point found 9813 pixels with at least one CR\n",
      "2020-08-24 21:47:53,400 - stpipe.Detector1Pipeline.jump - INFO -  working on integration 2\n",
      "2020-08-24 21:47:53,886 - stpipe.Detector1Pipeline.jump - INFO - From highest outlier Two point found 12297 pixels with at least one CR\n",
      "2020-08-24 21:47:54,506 - stpipe.Detector1Pipeline.jump - INFO - Total elapsed time = 2.42733 sec\n",
      "2020-08-24 21:47:54,509 - stpipe.Detector1Pipeline.jump - INFO - The execution time in seconds: 2.578006\n",
      "2020-08-24 21:47:54,512 - stpipe.Detector1Pipeline.jump - INFO - Step jump done\n",
      "2020-08-24 21:47:54,668 - stpipe.Detector1Pipeline.ramp_fit - INFO - Step ramp_fit running with args (<RampModel(2, 10, 1024, 1032) from det_image_seq2_MIRIMAGE_P750Lexp1.fits>,).\n",
      "2020-08-24 21:47:54,670 - stpipe.Detector1Pipeline.ramp_fit - INFO - Step ramp_fit parameters are: {'pre_hooks': [], 'post_hooks': [], 'output_file': None, 'output_dir': None, 'output_ext': '.fits', 'output_use_model': False, 'output_use_index': True, 'save_results': False, 'skip': False, 'suffix': None, 'search_output_file': True, 'input_dir': '/Users/kendrew/miri/miri_datasims/LRS-slit-simulations/pipeline_testing/mirisimv2.3sim/det_images', 'int_name': '', 'save_opt': False, 'opt_name': ''}\n",
      "2020-08-24 21:47:54,688 - stpipe.Detector1Pipeline.ramp_fit - INFO - Using READNOISE reference file: /Users/kendrew//crds_cache/references/jwst/miri/jwst_miri_readnoise_0057.fits\n",
      "2020-08-24 21:47:54,709 - stpipe.Detector1Pipeline.ramp_fit - INFO - Using GAIN reference file: /Users/kendrew//crds_cache/references/jwst/miri/jwst_miri_gain_0008.fits\n",
      "2020-08-24 21:47:54,726 - stpipe.Detector1Pipeline.ramp_fit - INFO - Using algorithm = ols\n",
      "2020-08-24 21:47:54,727 - stpipe.Detector1Pipeline.ramp_fit - INFO - Using weighting = optimal\n",
      "2020-08-24 21:47:54,740 - stpipe.Detector1Pipeline.ramp_fit - INFO - Number of leading groups that are flagged as DO_NOT_USE: 1\n",
      "2020-08-24 21:47:54,744 - stpipe.Detector1Pipeline.ramp_fit - INFO - MIRI dataset has all pixels in the final group flagged as DO_NOT_USE.\n",
      "2020-08-24 21:47:54,745 - stpipe.Detector1Pipeline.ramp_fit - INFO - Effective integration time per group: 2.77504\n",
      "2020-08-24 21:48:16,120 - stpipe.Detector1Pipeline.ramp_fit - INFO - Number of groups per integration: 10\n",
      "2020-08-24 21:48:16,120 - stpipe.Detector1Pipeline.ramp_fit - INFO - Number of integrations: 2\n",
      "2020-08-24 21:48:16,185 - stpipe.Detector1Pipeline.ramp_fit - INFO - Step ramp_fit done\n",
      "2020-08-24 21:48:16,327 - stpipe.Detector1Pipeline.gain_scale - INFO - Step gain_scale running with args (<ImageModel(1024, 1032) from det_image_seq2_MIRIMAGE_P750Lexp1.fits>,).\n",
      "2020-08-24 21:48:16,328 - stpipe.Detector1Pipeline.gain_scale - INFO - Step gain_scale parameters are: {'pre_hooks': [], 'post_hooks': [], 'output_file': None, 'output_dir': None, 'output_ext': '.fits', 'output_use_model': False, 'output_use_index': True, 'save_results': False, 'skip': False, 'suffix': 'gain_scale', 'search_output_file': True, 'input_dir': '/Users/kendrew/miri/miri_datasims/LRS-slit-simulations/pipeline_testing/mirisimv2.3sim/det_images'}\n",
      "2020-08-24 21:48:16,357 - stpipe.Detector1Pipeline.gain_scale - INFO - GAINFACT not found in gain reference file\n",
      "2020-08-24 21:48:16,358 - stpipe.Detector1Pipeline.gain_scale - INFO - Step will be skipped\n",
      "2020-08-24 21:48:16,361 - stpipe.Detector1Pipeline.gain_scale - INFO - Step gain_scale done\n",
      "2020-08-24 21:48:16,472 - stpipe.Detector1Pipeline.gain_scale - INFO - Step gain_scale running with args (<CubeModel(2, 1024, 1032) from det_image_seq2_MIRIMAGE_P750Lexp1.fits>,).\n",
      "2020-08-24 21:48:16,474 - stpipe.Detector1Pipeline.gain_scale - INFO - Step gain_scale parameters are: {'pre_hooks': [], 'post_hooks': [], 'output_file': None, 'output_dir': None, 'output_ext': '.fits', 'output_use_model': False, 'output_use_index': True, 'save_results': False, 'skip': False, 'suffix': 'gain_scaleints', 'search_output_file': True, 'input_dir': '/Users/kendrew/miri/miri_datasims/LRS-slit-simulations/pipeline_testing/mirisimv2.3sim/det_images'}\n"
     ]
    },
    {
     "name": "stderr",
     "output_type": "stream",
     "text": [
      "2020-08-24 21:48:16,504 - stpipe.Detector1Pipeline.gain_scale - INFO - GAINFACT not found in gain reference file\n",
      "2020-08-24 21:48:16,505 - stpipe.Detector1Pipeline.gain_scale - INFO - Step will be skipped\n",
      "2020-08-24 21:48:16,508 - stpipe.Detector1Pipeline.gain_scale - INFO - Step gain_scale done\n",
      "2020-08-24 21:48:16,796 - stpipe.Detector1Pipeline - INFO - Saved model in det_image_seq2_MIRIMAGE_P750Lexp1_rateints.fits\n",
      "2020-08-24 21:48:16,797 - stpipe.Detector1Pipeline - INFO - ... ending calwebb_detector1\n",
      "2020-08-24 21:48:16,912 - stpipe.Detector1Pipeline - INFO - Saved model in det_image_seq2_MIRIMAGE_P750Lexp1_rate.fits\n",
      "2020-08-24 21:48:16,912 - stpipe.Detector1Pipeline - INFO - Step Detector1Pipeline done\n",
      "2020-08-24 21:48:17,213 - CRDS - ERROR -  Error determining best reference for 'pars-groupscalestep'  =   Unknown reference type 'pars-groupscalestep'\n",
      "2020-08-24 21:48:17,219 - CRDS - ERROR -  Error determining best reference for 'pars-dqinitstep'  =   Unknown reference type 'pars-dqinitstep'\n",
      "2020-08-24 21:48:17,224 - CRDS - ERROR -  Error determining best reference for 'pars-saturationstep'  =   Unknown reference type 'pars-saturationstep'\n",
      "2020-08-24 21:48:17,229 - CRDS - ERROR -  Error determining best reference for 'pars-ipcstep'  =   Unknown reference type 'pars-ipcstep'\n",
      "2020-08-24 21:48:17,234 - CRDS - ERROR -  Error determining best reference for 'pars-superbiasstep'  =   Unknown reference type 'pars-superbiasstep'\n",
      "2020-08-24 21:48:17,240 - CRDS - ERROR -  Error determining best reference for 'pars-refpixstep'  =   Unknown reference type 'pars-refpixstep'\n",
      "2020-08-24 21:48:17,246 - CRDS - ERROR -  Error determining best reference for 'pars-rscd_step'  =   Unknown reference type 'pars-rscd_step'\n",
      "2020-08-24 21:48:17,252 - CRDS - ERROR -  Error determining best reference for 'pars-firstframestep'  =   Unknown reference type 'pars-firstframestep'\n",
      "2020-08-24 21:48:17,257 - CRDS - ERROR -  Error determining best reference for 'pars-lastframestep'  =   Unknown reference type 'pars-lastframestep'\n",
      "2020-08-24 21:48:17,263 - CRDS - ERROR -  Error determining best reference for 'pars-linearitystep'  =   Unknown reference type 'pars-linearitystep'\n",
      "2020-08-24 21:48:17,268 - CRDS - ERROR -  Error determining best reference for 'pars-darkcurrentstep'  =   Unknown reference type 'pars-darkcurrentstep'\n",
      "2020-08-24 21:48:17,273 - CRDS - ERROR -  Error determining best reference for 'pars-persistencestep'  =   Unknown reference type 'pars-persistencestep'\n",
      "2020-08-24 21:48:17,280 - CRDS - ERROR -  Error determining best reference for 'pars-jumpstep'  =   Unknown reference type 'pars-jumpstep'\n",
      "2020-08-24 21:48:17,285 - CRDS - ERROR -  Error determining best reference for 'pars-rampfitstep'  =   Unknown reference type 'pars-rampfitstep'\n",
      "2020-08-24 21:48:17,291 - CRDS - ERROR -  Error determining best reference for 'pars-gainscalestep'  =   Unknown reference type 'pars-gainscalestep'\n",
      "2020-08-24 21:48:17,294 - CRDS - ERROR -  Error determining best reference for 'pars-detector1pipeline'  =   Unknown reference type 'pars-detector1pipeline'\n",
      "2020-08-24 21:48:17,321 - stpipe.Detector1Pipeline - INFO - Detector1Pipeline instance created.\n",
      "2020-08-24 21:48:17,322 - stpipe.Detector1Pipeline.group_scale - INFO - GroupScaleStep instance created.\n",
      "2020-08-24 21:48:17,324 - stpipe.Detector1Pipeline.dq_init - INFO - DQInitStep instance created.\n",
      "2020-08-24 21:48:17,326 - stpipe.Detector1Pipeline.saturation - INFO - SaturationStep instance created.\n",
      "2020-08-24 21:48:17,328 - stpipe.Detector1Pipeline.ipc - INFO - IPCStep instance created.\n",
      "2020-08-24 21:48:17,329 - stpipe.Detector1Pipeline.superbias - INFO - SuperBiasStep instance created.\n",
      "2020-08-24 21:48:17,330 - stpipe.Detector1Pipeline.refpix - INFO - RefPixStep instance created.\n",
      "2020-08-24 21:48:17,331 - stpipe.Detector1Pipeline.rscd - INFO - RSCD_Step instance created.\n",
      "2020-08-24 21:48:17,333 - stpipe.Detector1Pipeline.firstframe - INFO - FirstFrameStep instance created.\n",
      "2020-08-24 21:48:17,335 - stpipe.Detector1Pipeline.lastframe - INFO - LastFrameStep instance created.\n",
      "2020-08-24 21:48:17,336 - stpipe.Detector1Pipeline.linearity - INFO - LinearityStep instance created.\n",
      "2020-08-24 21:48:17,337 - stpipe.Detector1Pipeline.dark_current - INFO - DarkCurrentStep instance created.\n",
      "2020-08-24 21:48:17,339 - stpipe.Detector1Pipeline.persistence - INFO - PersistenceStep instance created.\n",
      "2020-08-24 21:48:17,340 - stpipe.Detector1Pipeline.jump - INFO - JumpStep instance created.\n",
      "2020-08-24 21:48:17,342 - stpipe.Detector1Pipeline.ramp_fit - INFO - RampFitStep instance created.\n",
      "2020-08-24 21:48:17,343 - stpipe.Detector1Pipeline.gain_scale - INFO - GainScaleStep instance created.\n",
      "2020-08-24 21:48:17,427 - stpipe - WARNING - /Users/kendrew/anaconda3/envs/jwst0.16.2/lib/python3.8/site-packages/jwst/stpipe/step.py:344: ResourceWarning: unclosed file <_io.FileIO name='/Users/kendrew/miri/miri_datasims/LRS-slit-simulations/pipeline_testing/mirisimv2.3sim/det_images/det_image_seq1_MIRIMAGE_P750Lexp1.fits' mode='rb' closefd=True>\n",
      "  gc.collect()\n",
      "\n",
      "2020-08-24 21:48:17,450 - stpipe.Detector1Pipeline - INFO - Step Detector1Pipeline running with args ('/Users/kendrew/miri/miri_datasims/LRS-slit-simulations/pipeline_testing/mirisimv2.3sim/det_images/det_image_seq1_MIRIMAGE_P750Lexp1.fits',).\n",
      "2020-08-24 21:48:17,465 - stpipe.Detector1Pipeline - INFO - Step Detector1Pipeline parameters are: {'pre_hooks': [], 'post_hooks': [], 'output_file': None, 'output_dir': None, 'output_ext': '.fits', 'output_use_model': False, 'output_use_index': True, 'save_results': True, 'skip': False, 'suffix': None, 'search_output_file': True, 'input_dir': '', 'save_calibrated_ramp': False, 'steps': {'group_scale': {'pre_hooks': [], 'post_hooks': [], 'output_file': None, 'output_dir': None, 'output_ext': '.fits', 'output_use_model': False, 'output_use_index': True, 'save_results': False, 'skip': False, 'suffix': None, 'search_output_file': True, 'input_dir': ''}, 'dq_init': {'pre_hooks': [], 'post_hooks': [], 'output_file': None, 'output_dir': None, 'output_ext': '.fits', 'output_use_model': False, 'output_use_index': True, 'save_results': False, 'skip': False, 'suffix': None, 'search_output_file': True, 'input_dir': ''}, 'saturation': {'pre_hooks': [], 'post_hooks': [], 'output_file': None, 'output_dir': None, 'output_ext': '.fits', 'output_use_model': False, 'output_use_index': True, 'save_results': False, 'skip': False, 'suffix': None, 'search_output_file': True, 'input_dir': ''}, 'ipc': {'pre_hooks': [], 'post_hooks': [], 'output_file': None, 'output_dir': None, 'output_ext': '.fits', 'output_use_model': False, 'output_use_index': True, 'save_results': False, 'skip': True, 'suffix': None, 'search_output_file': True, 'input_dir': ''}, 'superbias': {'pre_hooks': [], 'post_hooks': [], 'output_file': None, 'output_dir': None, 'output_ext': '.fits', 'output_use_model': False, 'output_use_index': True, 'save_results': False, 'skip': False, 'suffix': None, 'search_output_file': True, 'input_dir': ''}, 'refpix': {'pre_hooks': [], 'post_hooks': [], 'output_file': None, 'output_dir': None, 'output_ext': '.fits', 'output_use_model': False, 'output_use_index': True, 'save_results': False, 'skip': False, 'suffix': None, 'search_output_file': True, 'input_dir': '', 'odd_even_columns': True, 'use_side_ref_pixels': True, 'side_smoothing_length': 11, 'side_gain': 1.0, 'odd_even_rows': True}, 'rscd': {'pre_hooks': [], 'post_hooks': [], 'output_file': None, 'output_dir': None, 'output_ext': '.fits', 'output_use_model': False, 'output_use_index': True, 'save_results': False, 'skip': False, 'suffix': None, 'search_output_file': True, 'input_dir': '', 'type': 'baseline'}, 'firstframe': {'pre_hooks': [], 'post_hooks': [], 'output_file': None, 'output_dir': None, 'output_ext': '.fits', 'output_use_model': False, 'output_use_index': True, 'save_results': False, 'skip': False, 'suffix': None, 'search_output_file': True, 'input_dir': ''}, 'lastframe': {'pre_hooks': [], 'post_hooks': [], 'output_file': None, 'output_dir': None, 'output_ext': '.fits', 'output_use_model': False, 'output_use_index': True, 'save_results': False, 'skip': False, 'suffix': None, 'search_output_file': True, 'input_dir': ''}, 'linearity': {'pre_hooks': [], 'post_hooks': [], 'output_file': None, 'output_dir': None, 'output_ext': '.fits', 'output_use_model': False, 'output_use_index': True, 'save_results': False, 'skip': False, 'suffix': None, 'search_output_file': True, 'input_dir': ''}, 'dark_current': {'pre_hooks': [], 'post_hooks': [], 'output_file': None, 'output_dir': None, 'output_ext': '.fits', 'output_use_model': False, 'output_use_index': True, 'save_results': False, 'skip': False, 'suffix': None, 'search_output_file': True, 'input_dir': '', 'dark_output': None}, 'persistence': {'pre_hooks': [], 'post_hooks': [], 'output_file': None, 'output_dir': None, 'output_ext': '.fits', 'output_use_model': False, 'output_use_index': True, 'save_results': False, 'skip': False, 'suffix': None, 'search_output_file': True, 'input_dir': '', 'input_trapsfilled': '', 'flag_pers_cutoff': 40.0, 'save_persistence': False, 'save_trapsfilled': True}, 'jump': {'pre_hooks': [], 'post_hooks': [], 'output_file': None, 'output_dir': None, 'output_ext': '.fits', 'output_use_model': False, 'output_use_index': True, 'save_results': False, 'skip': False, 'suffix': None, 'search_output_file': True, 'input_dir': '', 'rejection_threshold': 4.0, 'maximum_cores': None, 'flag_4_neighbors': True, 'max_jump_to_flag_neighbors': 200.0, 'min_jump_to_flag_neighbors': 10.0}, 'ramp_fit': {'pre_hooks': [], 'post_hooks': [], 'output_file': None, 'output_dir': None, 'output_ext': '.fits', 'output_use_model': False, 'output_use_index': True, 'save_results': False, 'skip': False, 'suffix': None, 'search_output_file': True, 'input_dir': '', 'int_name': '', 'save_opt': False, 'opt_name': ''}, 'gain_scale': {'pre_hooks': [], 'post_hooks': [], 'output_file': None, 'output_dir': None, 'output_ext': '.fits', 'output_use_model': False, 'output_use_index': True, 'save_results': False, 'skip': False, 'suffix': None, 'search_output_file': True, 'input_dir': ''}}}\n"
     ]
    },
    {
     "name": "stderr",
     "output_type": "stream",
     "text": [
      "2020-08-24 21:48:17,601 - stpipe.Detector1Pipeline - INFO - Prefetching reference files for dataset: 'det_image_seq1_MIRIMAGE_P750Lexp1.fits' reftypes = ['dark', 'gain', 'linearity', 'mask', 'persat', 'readnoise', 'refpix', 'rscd', 'saturation', 'superbias', 'trapdensity', 'trappars']\n",
      "2020-08-24 21:48:17,605 - stpipe.Detector1Pipeline - INFO - Prefetch for DARK reference file is '/Users/kendrew//crds_cache/references/jwst/miri/jwst_miri_dark_0058.fits'.\n",
      "2020-08-24 21:48:17,606 - stpipe.Detector1Pipeline - INFO - Prefetch for GAIN reference file is '/Users/kendrew//crds_cache/references/jwst/miri/jwst_miri_gain_0008.fits'.\n",
      "2020-08-24 21:48:17,607 - stpipe.Detector1Pipeline - INFO - Prefetch for LINEARITY reference file is '/Users/kendrew//crds_cache/references/jwst/miri/jwst_miri_linearity_0024.fits'.\n",
      "2020-08-24 21:48:17,608 - stpipe.Detector1Pipeline - INFO - Prefetch for MASK reference file is '/Users/kendrew//crds_cache/references/jwst/miri/jwst_miri_mask_0023.fits'.\n",
      "2020-08-24 21:48:17,609 - stpipe.Detector1Pipeline - INFO - Prefetch for PERSAT reference file is 'N/A'.\n",
      "2020-08-24 21:48:17,609 - stpipe.Detector1Pipeline - INFO - Prefetch for READNOISE reference file is '/Users/kendrew//crds_cache/references/jwst/miri/jwst_miri_readnoise_0057.fits'.\n",
      "2020-08-24 21:48:17,610 - stpipe.Detector1Pipeline - INFO - Prefetch for REFPIX reference file is 'N/A'.\n",
      "2020-08-24 21:48:17,611 - stpipe.Detector1Pipeline - INFO - Prefetch for RSCD reference file is '/Users/kendrew//crds_cache/references/jwst/miri/jwst_miri_rscd_0010.fits'.\n",
      "2020-08-24 21:48:17,612 - stpipe.Detector1Pipeline - INFO - Prefetch for SATURATION reference file is '/Users/kendrew//crds_cache/references/jwst/miri/jwst_miri_saturation_0022.fits'.\n",
      "2020-08-24 21:48:17,613 - stpipe.Detector1Pipeline - INFO - Prefetch for SUPERBIAS reference file is 'N/A'.\n",
      "2020-08-24 21:48:17,613 - stpipe.Detector1Pipeline - INFO - Prefetch for TRAPDENSITY reference file is 'N/A'.\n",
      "2020-08-24 21:48:17,613 - stpipe.Detector1Pipeline - INFO - Prefetch for TRAPPARS reference file is 'N/A'.\n",
      "2020-08-24 21:48:17,614 - stpipe.Detector1Pipeline - INFO - Starting calwebb_detector1 ...\n",
      "2020-08-24 21:48:17,868 - stpipe.Detector1Pipeline.group_scale - INFO - Step group_scale running with args (<RampModel(2, 10, 1024, 1032) from det_image_seq1_MIRIMAGE_P750Lexp1.fits>,).\n",
      "2020-08-24 21:48:17,870 - stpipe.Detector1Pipeline.group_scale - INFO - Step group_scale parameters are: {'pre_hooks': [], 'post_hooks': [], 'output_file': None, 'output_dir': None, 'output_ext': '.fits', 'output_use_model': False, 'output_use_index': True, 'save_results': False, 'skip': False, 'suffix': None, 'search_output_file': True, 'input_dir': '/Users/kendrew/miri/miri_datasims/LRS-slit-simulations/pipeline_testing/mirisimv2.3sim/det_images'}\n",
      "2020-08-24 21:48:17,883 - stpipe.Detector1Pipeline.group_scale - INFO - NFRAMES=1 is a power of 2; correction not needed\n",
      "2020-08-24 21:48:17,884 - stpipe.Detector1Pipeline.group_scale - INFO - Step will be skipped\n",
      "2020-08-24 21:48:17,886 - stpipe.Detector1Pipeline.group_scale - INFO - Step group_scale done\n",
      "2020-08-24 21:48:17,995 - stpipe.Detector1Pipeline.dq_init - INFO - Step dq_init running with args (<RampModel(2, 10, 1024, 1032) from det_image_seq1_MIRIMAGE_P750Lexp1.fits>,).\n",
      "2020-08-24 21:48:17,996 - stpipe.Detector1Pipeline.dq_init - INFO - Step dq_init parameters are: {'pre_hooks': [], 'post_hooks': [], 'output_file': None, 'output_dir': None, 'output_ext': '.fits', 'output_use_model': False, 'output_use_index': True, 'save_results': False, 'skip': False, 'suffix': None, 'search_output_file': True, 'input_dir': '/Users/kendrew/miri/miri_datasims/LRS-slit-simulations/pipeline_testing/mirisimv2.3sim/det_images'}\n",
      "2020-08-24 21:48:18,012 - stpipe.Detector1Pipeline.dq_init - INFO - Using MASK reference file /Users/kendrew//crds_cache/references/jwst/miri/jwst_miri_mask_0023.fits\n",
      "2020-08-24 21:48:18,124 - stpipe.Detector1Pipeline.dq_init - INFO - Step dq_init done\n",
      "2020-08-24 21:48:18,235 - stpipe.Detector1Pipeline.saturation - INFO - Step saturation running with args (<RampModel(2, 10, 1024, 1032) from det_image_seq1_MIRIMAGE_P750Lexp1.fits>,).\n",
      "2020-08-24 21:48:18,237 - stpipe.Detector1Pipeline.saturation - INFO - Step saturation parameters are: {'pre_hooks': [], 'post_hooks': [], 'output_file': None, 'output_dir': None, 'output_ext': '.fits', 'output_use_model': False, 'output_use_index': True, 'save_results': False, 'skip': False, 'suffix': None, 'search_output_file': True, 'input_dir': '/Users/kendrew/miri/miri_datasims/LRS-slit-simulations/pipeline_testing/mirisimv2.3sim/det_images'}\n",
      "2020-08-24 21:48:18,256 - stpipe.Detector1Pipeline.saturation - INFO - Using SATURATION reference file /Users/kendrew//crds_cache/references/jwst/miri/jwst_miri_saturation_0022.fits\n",
      "2020-08-24 21:48:18,528 - stpipe.Detector1Pipeline.saturation - INFO - Step saturation done\n",
      "2020-08-24 21:48:18,663 - stpipe.Detector1Pipeline.ipc - INFO - Step ipc running with args (<RampModel(2, 10, 1024, 1032) from det_image_seq1_MIRIMAGE_P750Lexp1.fits>,).\n",
      "2020-08-24 21:48:18,664 - stpipe.Detector1Pipeline.ipc - INFO - Step ipc parameters are: {'pre_hooks': [], 'post_hooks': [], 'output_file': None, 'output_dir': None, 'output_ext': '.fits', 'output_use_model': False, 'output_use_index': True, 'save_results': False, 'skip': True, 'suffix': None, 'search_output_file': True, 'input_dir': '/Users/kendrew/miri/miri_datasims/LRS-slit-simulations/pipeline_testing/mirisimv2.3sim/det_images'}\n",
      "2020-08-24 21:48:18,665 - stpipe.Detector1Pipeline.ipc - INFO - Step skipped.\n",
      "2020-08-24 21:48:18,667 - stpipe.Detector1Pipeline.ipc - INFO - Step ipc done\n",
      "2020-08-24 21:48:18,778 - stpipe.Detector1Pipeline.firstframe - INFO - Step firstframe running with args (<RampModel(2, 10, 1024, 1032) from det_image_seq1_MIRIMAGE_P750Lexp1.fits>,).\n",
      "2020-08-24 21:48:18,780 - stpipe.Detector1Pipeline.firstframe - INFO - Step firstframe parameters are: {'pre_hooks': [], 'post_hooks': [], 'output_file': None, 'output_dir': None, 'output_ext': '.fits', 'output_use_model': False, 'output_use_index': True, 'save_results': False, 'skip': False, 'suffix': None, 'search_output_file': True, 'input_dir': '/Users/kendrew/miri/miri_datasims/LRS-slit-simulations/pipeline_testing/mirisimv2.3sim/det_images'}\n",
      "2020-08-24 21:48:18,856 - stpipe.Detector1Pipeline.firstframe - INFO - Step firstframe done\n",
      "2020-08-24 21:48:18,990 - stpipe.Detector1Pipeline.lastframe - INFO - Step lastframe running with args (<RampModel(2, 10, 1024, 1032) from det_image_seq1_MIRIMAGE_P750Lexp1.fits>,).\n",
      "2020-08-24 21:48:18,992 - stpipe.Detector1Pipeline.lastframe - INFO - Step lastframe parameters are: {'pre_hooks': [], 'post_hooks': [], 'output_file': None, 'output_dir': None, 'output_ext': '.fits', 'output_use_model': False, 'output_use_index': True, 'save_results': False, 'skip': False, 'suffix': None, 'search_output_file': True, 'input_dir': '/Users/kendrew/miri/miri_datasims/LRS-slit-simulations/pipeline_testing/mirisimv2.3sim/det_images'}\n",
      "2020-08-24 21:48:19,088 - stpipe.Detector1Pipeline.lastframe - INFO - Step lastframe done\n",
      "2020-08-24 21:48:19,224 - stpipe.Detector1Pipeline.linearity - INFO - Step linearity running with args (<RampModel(2, 10, 1024, 1032) from det_image_seq1_MIRIMAGE_P750Lexp1.fits>,).\n",
      "2020-08-24 21:48:19,225 - stpipe.Detector1Pipeline.linearity - INFO - Step linearity parameters are: {'pre_hooks': [], 'post_hooks': [], 'output_file': None, 'output_dir': None, 'output_ext': '.fits', 'output_use_model': False, 'output_use_index': True, 'save_results': False, 'skip': False, 'suffix': None, 'search_output_file': True, 'input_dir': '/Users/kendrew/miri/miri_datasims/LRS-slit-simulations/pipeline_testing/mirisimv2.3sim/det_images'}\n",
      "2020-08-24 21:48:19,237 - stpipe.Detector1Pipeline.linearity - INFO - Using Linearity reference file /Users/kendrew//crds_cache/references/jwst/miri/jwst_miri_linearity_0024.fits\n",
      "2020-08-24 21:48:19,567 - stpipe.Detector1Pipeline.linearity - INFO - Step linearity done\n",
      "2020-08-24 21:48:19,721 - stpipe.Detector1Pipeline.rscd - INFO - Step rscd running with args (<RampModel(2, 10, 1024, 1032) from det_image_seq1_MIRIMAGE_P750Lexp1.fits>,).\n",
      "2020-08-24 21:48:19,723 - stpipe.Detector1Pipeline.rscd - INFO - Step rscd parameters are: {'pre_hooks': [], 'post_hooks': [], 'output_file': None, 'output_dir': None, 'output_ext': '.fits', 'output_use_model': False, 'output_use_index': True, 'save_results': False, 'skip': False, 'suffix': None, 'search_output_file': True, 'input_dir': '/Users/kendrew/miri/miri_datasims/LRS-slit-simulations/pipeline_testing/mirisimv2.3sim/det_images', 'type': 'baseline'}\n"
     ]
    },
    {
     "name": "stderr",
     "output_type": "stream",
     "text": [
      "2020-08-24 21:48:19,740 - stpipe.Detector1Pipeline.rscd - INFO - Using RSCD reference file /Users/kendrew//crds_cache/references/jwst/miri/jwst_miri_rscd_0010.fits\n",
      "2020-08-24 21:48:19,853 - stpipe.Detector1Pipeline.rscd - INFO - Step rscd done\n",
      "2020-08-24 21:48:19,997 - stpipe.Detector1Pipeline.dark_current - INFO - Step dark_current running with args (<RampModel(2, 10, 1024, 1032) from det_image_seq1_MIRIMAGE_P750Lexp1.fits>,).\n",
      "2020-08-24 21:48:19,999 - stpipe.Detector1Pipeline.dark_current - INFO - Step dark_current parameters are: {'pre_hooks': [], 'post_hooks': [], 'output_file': None, 'output_dir': None, 'output_ext': '.fits', 'output_use_model': False, 'output_use_index': True, 'save_results': False, 'skip': False, 'suffix': None, 'search_output_file': True, 'input_dir': '/Users/kendrew/miri/miri_datasims/LRS-slit-simulations/pipeline_testing/mirisimv2.3sim/det_images', 'dark_output': None}\n",
      "2020-08-24 21:48:20,015 - stpipe.Detector1Pipeline.dark_current - INFO - Using DARK reference file /Users/kendrew//crds_cache/references/jwst/miri/jwst_miri_dark_0058.fits\n",
      "2020-08-24 21:48:23,150 - stpipe.Detector1Pipeline.dark_current - INFO - Science data nints=2, ngroups=10, nframes=1, groupgap=0\n",
      "2020-08-24 21:48:23,150 - stpipe.Detector1Pipeline.dark_current - INFO - Dark data nints=2, ngroups=200, nframes=1, groupgap=0\n",
      "2020-08-24 21:48:25,042 - stpipe.Detector1Pipeline.dark_current - INFO - Step dark_current done\n",
      "2020-08-24 21:48:25,189 - stpipe.Detector1Pipeline.refpix - INFO - Step refpix running with args (<RampModel(2, 10, 1024, 1032) from det_image_seq1_MIRIMAGE_P750Lexp1.fits>,).\n",
      "2020-08-24 21:48:25,190 - stpipe.Detector1Pipeline.refpix - INFO - Step refpix parameters are: {'pre_hooks': [], 'post_hooks': [], 'output_file': None, 'output_dir': None, 'output_ext': '.fits', 'output_use_model': False, 'output_use_index': True, 'save_results': False, 'skip': False, 'suffix': None, 'search_output_file': True, 'input_dir': '/Users/kendrew/miri/miri_datasims/LRS-slit-simulations/pipeline_testing/mirisimv2.3sim/det_images', 'odd_even_columns': True, 'use_side_ref_pixels': True, 'side_smoothing_length': 11, 'side_gain': 1.0, 'odd_even_rows': True}\n",
      "2020-08-24 21:48:25,204 - stpipe.Detector1Pipeline.refpix - INFO - use_side_ref_pixels = True\n",
      "2020-08-24 21:48:25,205 - stpipe.Detector1Pipeline.refpix - INFO - odd_even_columns = True\n",
      "2020-08-24 21:48:25,206 - stpipe.Detector1Pipeline.refpix - INFO - side_smoothing_length = 11\n",
      "2020-08-24 21:48:25,206 - stpipe.Detector1Pipeline.refpix - INFO - side_gain = 1.000000\n",
      "2020-08-24 21:48:25,207 - stpipe.Detector1Pipeline.refpix - INFO - odd_even_rows = True\n",
      "2020-08-24 21:48:25,276 - stpipe.Detector1Pipeline.refpix - INFO - Subtracting initial read from each integration\n",
      "2020-08-24 21:48:25,508 - stpipe.Detector1Pipeline.refpix - INFO - Adding initial read back in\n",
      "2020-08-24 21:48:25,548 - stpipe.Detector1Pipeline.refpix - INFO - Step refpix done\n",
      "2020-08-24 21:48:25,698 - stpipe.Detector1Pipeline.jump - INFO - Step jump running with args (<RampModel(2, 10, 1024, 1032) from det_image_seq1_MIRIMAGE_P750Lexp1.fits>,).\n",
      "2020-08-24 21:48:25,700 - stpipe.Detector1Pipeline.jump - INFO - Step jump parameters are: {'pre_hooks': [], 'post_hooks': [], 'output_file': None, 'output_dir': None, 'output_ext': '.fits', 'output_use_model': False, 'output_use_index': True, 'save_results': False, 'skip': False, 'suffix': None, 'search_output_file': True, 'input_dir': '/Users/kendrew/miri/miri_datasims/LRS-slit-simulations/pipeline_testing/mirisimv2.3sim/det_images', 'rejection_threshold': 4.0, 'maximum_cores': None, 'flag_4_neighbors': True, 'max_jump_to_flag_neighbors': 200.0, 'min_jump_to_flag_neighbors': 10.0}\n",
      "2020-08-24 21:48:25,713 - stpipe.Detector1Pipeline.jump - INFO - CR rejection threshold = 4 sigma\n",
      "2020-08-24 21:48:25,717 - stpipe.Detector1Pipeline.jump - INFO - Using GAIN reference file: /Users/kendrew//crds_cache/references/jwst/miri/jwst_miri_gain_0008.fits\n",
      "2020-08-24 21:48:25,739 - stpipe.Detector1Pipeline.jump - INFO - Using READNOISE reference file: /Users/kendrew//crds_cache/references/jwst/miri/jwst_miri_readnoise_0057.fits\n",
      "2020-08-24 21:48:25,858 - stpipe.Detector1Pipeline.jump - INFO - Executing two-point difference method\n",
      "2020-08-24 21:48:26,314 - stpipe.Detector1Pipeline.jump - INFO -  working on integration 1\n",
      "2020-08-24 21:48:26,913 - stpipe.Detector1Pipeline.jump - INFO - From highest outlier Two point found 9638 pixels with at least one CR\n",
      "2020-08-24 21:48:27,230 - stpipe.Detector1Pipeline.jump - INFO -  working on integration 2\n",
      "2020-08-24 21:48:27,775 - stpipe.Detector1Pipeline.jump - INFO - From highest outlier Two point found 12046 pixels with at least one CR\n",
      "2020-08-24 21:48:28,527 - stpipe.Detector1Pipeline.jump - INFO - Total elapsed time = 2.66808 sec\n",
      "2020-08-24 21:48:28,529 - stpipe.Detector1Pipeline.jump - INFO - The execution time in seconds: 2.815633\n",
      "2020-08-24 21:48:28,532 - stpipe.Detector1Pipeline.jump - INFO - Step jump done\n",
      "2020-08-24 21:48:28,805 - stpipe.Detector1Pipeline.ramp_fit - INFO - Step ramp_fit running with args (<RampModel(2, 10, 1024, 1032) from det_image_seq1_MIRIMAGE_P750Lexp1.fits>,).\n",
      "2020-08-24 21:48:28,807 - stpipe.Detector1Pipeline.ramp_fit - INFO - Step ramp_fit parameters are: {'pre_hooks': [], 'post_hooks': [], 'output_file': None, 'output_dir': None, 'output_ext': '.fits', 'output_use_model': False, 'output_use_index': True, 'save_results': False, 'skip': False, 'suffix': None, 'search_output_file': True, 'input_dir': '/Users/kendrew/miri/miri_datasims/LRS-slit-simulations/pipeline_testing/mirisimv2.3sim/det_images', 'int_name': '', 'save_opt': False, 'opt_name': ''}\n",
      "2020-08-24 21:48:28,838 - stpipe.Detector1Pipeline.ramp_fit - INFO - Using READNOISE reference file: /Users/kendrew//crds_cache/references/jwst/miri/jwst_miri_readnoise_0057.fits\n",
      "2020-08-24 21:48:28,895 - stpipe.Detector1Pipeline.ramp_fit - INFO - Using GAIN reference file: /Users/kendrew//crds_cache/references/jwst/miri/jwst_miri_gain_0008.fits\n",
      "2020-08-24 21:48:28,926 - stpipe.Detector1Pipeline.ramp_fit - INFO - Using algorithm = ols\n",
      "2020-08-24 21:48:28,926 - stpipe.Detector1Pipeline.ramp_fit - INFO - Using weighting = optimal\n",
      "2020-08-24 21:48:28,948 - stpipe.Detector1Pipeline.ramp_fit - INFO - Number of leading groups that are flagged as DO_NOT_USE: 1\n",
      "2020-08-24 21:48:28,970 - stpipe.Detector1Pipeline.ramp_fit - INFO - MIRI dataset has all pixels in the final group flagged as DO_NOT_USE.\n",
      "2020-08-24 21:48:28,974 - stpipe.Detector1Pipeline.ramp_fit - INFO - Effective integration time per group: 2.77504\n",
      "2020-08-24 21:48:49,967 - stpipe.Detector1Pipeline.ramp_fit - INFO - Number of groups per integration: 10\n",
      "2020-08-24 21:48:49,968 - stpipe.Detector1Pipeline.ramp_fit - INFO - Number of integrations: 2\n",
      "2020-08-24 21:48:50,035 - stpipe.Detector1Pipeline.ramp_fit - INFO - Step ramp_fit done\n",
      "2020-08-24 21:48:50,196 - stpipe.Detector1Pipeline.gain_scale - INFO - Step gain_scale running with args (<ImageModel(1024, 1032) from det_image_seq1_MIRIMAGE_P750Lexp1.fits>,).\n",
      "2020-08-24 21:48:50,197 - stpipe.Detector1Pipeline.gain_scale - INFO - Step gain_scale parameters are: {'pre_hooks': [], 'post_hooks': [], 'output_file': None, 'output_dir': None, 'output_ext': '.fits', 'output_use_model': False, 'output_use_index': True, 'save_results': False, 'skip': False, 'suffix': 'gain_scale', 'search_output_file': True, 'input_dir': '/Users/kendrew/miri/miri_datasims/LRS-slit-simulations/pipeline_testing/mirisimv2.3sim/det_images'}\n",
      "2020-08-24 21:48:50,230 - stpipe.Detector1Pipeline.gain_scale - INFO - GAINFACT not found in gain reference file\n",
      "2020-08-24 21:48:50,232 - stpipe.Detector1Pipeline.gain_scale - INFO - Step will be skipped\n",
      "2020-08-24 21:48:50,237 - stpipe.Detector1Pipeline.gain_scale - INFO - Step gain_scale done\n",
      "2020-08-24 21:48:50,362 - stpipe.Detector1Pipeline.gain_scale - INFO - Step gain_scale running with args (<CubeModel(2, 1024, 1032) from det_image_seq1_MIRIMAGE_P750Lexp1.fits>,).\n",
      "2020-08-24 21:48:50,364 - stpipe.Detector1Pipeline.gain_scale - INFO - Step gain_scale parameters are: {'pre_hooks': [], 'post_hooks': [], 'output_file': None, 'output_dir': None, 'output_ext': '.fits', 'output_use_model': False, 'output_use_index': True, 'save_results': False, 'skip': False, 'suffix': 'gain_scaleints', 'search_output_file': True, 'input_dir': '/Users/kendrew/miri/miri_datasims/LRS-slit-simulations/pipeline_testing/mirisimv2.3sim/det_images'}\n"
     ]
    },
    {
     "name": "stderr",
     "output_type": "stream",
     "text": [
      "2020-08-24 21:48:50,407 - stpipe.Detector1Pipeline.gain_scale - INFO - GAINFACT not found in gain reference file\n",
      "2020-08-24 21:48:50,408 - stpipe.Detector1Pipeline.gain_scale - INFO - Step will be skipped\n",
      "2020-08-24 21:48:50,413 - stpipe.Detector1Pipeline.gain_scale - INFO - Step gain_scale done\n",
      "2020-08-24 21:48:50,725 - stpipe.Detector1Pipeline - INFO - Saved model in det_image_seq1_MIRIMAGE_P750Lexp1_rateints.fits\n",
      "2020-08-24 21:48:50,726 - stpipe.Detector1Pipeline - INFO - ... ending calwebb_detector1\n",
      "2020-08-24 21:48:50,893 - stpipe.Detector1Pipeline - INFO - Saved model in det_image_seq1_MIRIMAGE_P750Lexp1_rate.fits\n",
      "2020-08-24 21:48:50,894 - stpipe.Detector1Pipeline - INFO - Step Detector1Pipeline done\n"
     ]
    }
   ],
   "source": [
    "det1_out = []\n",
    "nods = []\n",
    "for ff in files:\n",
    "    det1 = Detector1Pipeline.call(ff, save_results=True, config_file='../cfg_files/calwebb_detector1.cfg')\n",
    "    if 'seq1' in ff:\n",
    "        nodno = 'nod1'\n",
    "    else:\n",
    "        nodno = 'nod2'\n",
    "    det1_out.append(det1)\n",
    "    nods.append(nodno)"
   ]
  },
  {
   "cell_type": "markdown",
   "metadata": {},
   "source": [
    "### AssignWcs\n",
    "\n",
    "The AssignWcs step should not change anything in the science data or error extension. It attaches the WCS information to the data, so that a location in detector pixels can be reconstructed to an RA, dec, wavelength in spatial and spectral space. "
   ]
  },
  {
   "cell_type": "code",
   "execution_count": 10,
   "metadata": {},
   "outputs": [
    {
     "name": "stderr",
     "output_type": "stream",
     "text": [
      "2020-08-24 21:50:56,526 - CRDS - ERROR -  Error determining best reference for 'pars-assignwcsstep'  =   Unknown reference type 'pars-assignwcsstep'\n",
      "2020-08-24 21:50:56,530 - stpipe.assign_wcs - INFO - AssignWcsStep instance created.\n",
      "2020-08-24 21:50:56,612 - stpipe.assign_wcs - INFO - Step assign_wcs running with args (<ImageModel(1024, 1032) from det_image_seq2_MIRIMAGE_P750Lexp1_rate.fits>,).\n",
      "2020-08-24 21:50:56,613 - stpipe.assign_wcs - INFO - Step assign_wcs parameters are: {'pre_hooks': [], 'post_hooks': [], 'output_file': None, 'output_dir': None, 'output_ext': '.fits', 'output_use_model': False, 'output_use_index': True, 'save_results': True, 'skip': False, 'suffix': None, 'search_output_file': True, 'input_dir': '', 'slit_y_low': -0.55, 'slit_y_high': 0.55}\n",
      "2020-08-24 21:50:57,194 - stpipe.assign_wcs - INFO - Created a MIRI mir_lrs-fixedslit pipeline with references {'distortion': '/Users/kendrew//crds_cache/references/jwst/miri/jwst_miri_distortion_0028.asdf', 'filteroffset': None, 'specwcs': '/Users/kendrew//crds_cache/references/jwst/miri/jwst_miri_specwcs_0003.fits', 'regions': None, 'wavelengthrange': None, 'camera': None, 'collimator': None, 'disperser': None, 'fore': None, 'fpa': None, 'msa': None, 'ote': None, 'ifupost': None, 'ifufore': None, 'ifuslicer': None}\n",
      "2020-08-24 21:50:57,224 - stpipe.assign_wcs - WARNING - /Users/kendrew/anaconda3/envs/jwst0.16.2/lib/python3.8/site-packages/gwcs/wcs.py:131: VisibleDeprecationWarning: Creating an ndarray from ragged nested sequences (which is a list-or-tuple of lists-or-tuples-or ndarrays with different lengths or shapes) is deprecated. If you meant to do this, you must specify 'dtype=object' when creating the ndarray\n",
      "  transforms = np.array(self._pipeline[from_ind: to_ind])[:, 1].copy()\n",
      "\n",
      "2020-08-24 21:50:57,255 - stpipe.assign_wcs - INFO - Update S_REGION to POLYGON ICRS  359.999555472 -0.000079284 359.999555472 0.000036907 0.000953364 0.000036907 0.000953364 -0.000079284\n",
      "2020-08-24 21:50:57,255 - stpipe.assign_wcs - INFO - assign_wcs updated S_REGION to POLYGON ICRS  359.999555472 -0.000079284 359.999555472 0.000036907 0.000953364 0.000036907 0.000953364 -0.000079284\n",
      "2020-08-24 21:50:57,256 - stpipe.assign_wcs - INFO - COMPLETED assign_wcs\n",
      "2020-08-24 21:50:57,363 - stpipe.assign_wcs - WARNING - /Users/kendrew/anaconda3/envs/jwst0.16.2/lib/python3.8/site-packages/gwcs/wcs.py:131: VisibleDeprecationWarning: Creating an ndarray from ragged nested sequences (which is a list-or-tuple of lists-or-tuples-or ndarrays with different lengths or shapes) is deprecated. If you meant to do this, you must specify 'dtype=object' when creating the ndarray\n",
      "  transforms = np.array(self._pipeline[from_ind: to_ind])[:, 1].copy()\n",
      "\n",
      "2020-08-24 21:50:57,528 - stpipe.assign_wcs - INFO - Saved model in det_image_seq2_MIRIMAGE_P750Lexp1_assign_wcs.fits\n",
      "2020-08-24 21:50:57,529 - stpipe.assign_wcs - INFO - Step assign_wcs done\n",
      "2020-08-24 21:50:57,629 - CRDS - ERROR -  Error determining best reference for 'pars-assignwcsstep'  =   Unknown reference type 'pars-assignwcsstep'\n",
      "2020-08-24 21:50:57,633 - stpipe.assign_wcs - INFO - AssignWcsStep instance created.\n",
      "2020-08-24 21:50:57,710 - stpipe.assign_wcs - INFO - Step assign_wcs running with args (<ImageModel(1024, 1032) from det_image_seq1_MIRIMAGE_P750Lexp1_rate.fits>,).\n",
      "2020-08-24 21:50:57,712 - stpipe.assign_wcs - INFO - Step assign_wcs parameters are: {'pre_hooks': [], 'post_hooks': [], 'output_file': None, 'output_dir': None, 'output_ext': '.fits', 'output_use_model': False, 'output_use_index': True, 'save_results': True, 'skip': False, 'suffix': None, 'search_output_file': True, 'input_dir': '', 'slit_y_low': -0.55, 'slit_y_high': 0.55}\n",
      "2020-08-24 21:50:58,275 - stpipe.assign_wcs - INFO - Created a MIRI mir_lrs-fixedslit pipeline with references {'distortion': '/Users/kendrew//crds_cache/references/jwst/miri/jwst_miri_distortion_0028.asdf', 'filteroffset': None, 'specwcs': '/Users/kendrew//crds_cache/references/jwst/miri/jwst_miri_specwcs_0003.fits', 'regions': None, 'wavelengthrange': None, 'camera': None, 'collimator': None, 'disperser': None, 'fore': None, 'fpa': None, 'msa': None, 'ote': None, 'ifupost': None, 'ifufore': None, 'ifuslicer': None}\n",
      "2020-08-24 21:50:58,302 - stpipe.assign_wcs - WARNING - /Users/kendrew/anaconda3/envs/jwst0.16.2/lib/python3.8/site-packages/gwcs/wcs.py:131: VisibleDeprecationWarning: Creating an ndarray from ragged nested sequences (which is a list-or-tuple of lists-or-tuples-or ndarrays with different lengths or shapes) is deprecated. If you meant to do this, you must specify 'dtype=object' when creating the ndarray\n",
      "  transforms = np.array(self._pipeline[from_ind: to_ind])[:, 1].copy()\n",
      "\n",
      "2020-08-24 21:50:58,329 - stpipe.assign_wcs - INFO - Update S_REGION to POLYGON ICRS  359.999032072 -0.000035778 359.999032072 0.000080412 0.000429964 0.000080412 0.000429964 -0.000035778\n",
      "2020-08-24 21:50:58,330 - stpipe.assign_wcs - INFO - assign_wcs updated S_REGION to POLYGON ICRS  359.999032072 -0.000035778 359.999032072 0.000080412 0.000429964 0.000080412 0.000429964 -0.000035778\n",
      "2020-08-24 21:50:58,331 - stpipe.assign_wcs - INFO - COMPLETED assign_wcs\n",
      "2020-08-24 21:50:58,409 - stpipe.assign_wcs - WARNING - /Users/kendrew/anaconda3/envs/jwst0.16.2/lib/python3.8/site-packages/gwcs/wcs.py:131: VisibleDeprecationWarning: Creating an ndarray from ragged nested sequences (which is a list-or-tuple of lists-or-tuples-or ndarrays with different lengths or shapes) is deprecated. If you meant to do this, you must specify 'dtype=object' when creating the ndarray\n",
      "  transforms = np.array(self._pipeline[from_ind: to_ind])[:, 1].copy()\n",
      "\n",
      "2020-08-24 21:50:58,571 - stpipe.assign_wcs - INFO - Saved model in det_image_seq1_MIRIMAGE_P750Lexp1_assign_wcs.fits\n",
      "2020-08-24 21:50:58,572 - stpipe.assign_wcs - INFO - Step assign_wcs done\n"
     ]
    }
   ],
   "source": [
    "awcs_out = []\n",
    "\n",
    "for dd in det1_out:\n",
    "    awcs = AssignWcsStep.call(dd, config_file='../cfg_files/assign_wcs.cfg', save_results=True)\n",
    "    awcs_out.append(awcs)"
   ]
  },
  {
   "cell_type": "markdown",
   "metadata": {},
   "source": [
    "<a id=\"residual_ID\"></a>\n",
    "## Output checks and tests\n",
    "\n",
    "We can use the output model to run teh following checks:\n",
    "\n",
    "* the SCI extension is unchanged from the step input (accept default tolerances for the np.allclose() function)\n",
    "* we visualize the location of the bounding box.\n",
    "* we use the wcs information assigned in the step to check the RA, dec, wavelength assignment at some reference locations. \n",
    "\n",
    "[Top of Page](#title_ID)"
   ]
  },
  {
   "cell_type": "code",
   "execution_count": 14,
   "metadata": {},
   "outputs": [],
   "source": [
    "# Do a numeric check between input and output\n",
    "for (aa, dd, nn) in zip(awcs_out, det1_out, nodno):\n",
    "    assert np.allclose(aa.data, dd.data, equal_nan=True), \"Step input and output don't match for {}\".format(nodno)\n",
    "    "
   ]
  },
  {
   "cell_type": "code",
   "execution_count": 28,
   "metadata": {
    "nbpresent": {
     "id": "fb9e82bd-ecca-4033-ad38-8772e288b145"
    }
   },
   "outputs": [
    {
     "name": "stdout",
     "output_type": "stream",
     "text": [
      "Model bbox (nod2)= ((302.5, 346.5), (6.5, 396.5)) \n",
      "Model: Height x width of bounding box (nod2)= 390.0 x 44.0 pixels\n",
      "Model bbox (nod1)= ((302.5, 346.5), (6.5, 396.5)) \n",
      "Model: Height x width of bounding box (nod1)= 390.0 x 44.0 pixels\n"
     ]
    }
   ],
   "source": [
    "for aa, nn in zip(awcs_out, nods):\n",
    "\n",
    "    bbox_w = aa.meta.wcs.bounding_box[0][1] - aa.meta.wcs.bounding_box[0][0]\n",
    "    bbox_ht = aa.meta.wcs.bounding_box[1][1] - aa.meta.wcs.bounding_box[1][0]\n",
    "    print('Model bbox ({1})= {0} '.format(aa.meta.wcs.bounding_box, nn))\n",
    "    print('Model: Height x width of bounding box ({2})= {0} x {1} pixels'.format(bbox_ht, bbox_w, nn))\n",
    "    \n",
    "# Check that the bounding boxes are the same for both nods:\n",
    "assert awcs_out[0].meta.wcs.bounding_box == awcs_out[1].meta.wcs.bounding_box, \"Bounding box for nod positions don't match\"\n",
    "    \n",
    "\n"
   ]
  },
  {
   "cell_type": "code",
   "execution_count": 29,
   "metadata": {},
   "outputs": [
    {
     "data": {
      "text/plain": [
       "Text(0.5, 1.0, 'nod1')"
      ]
     },
     "execution_count": 29,
     "metadata": {},
     "output_type": "execute_result"
    },
    {
     "data": {
      "image/png": "[encoded data removed]",
      "text/plain": [
       "<Figure size 720x360 with 2 Axes>"
      ]
     },
     "metadata": {
      "needs_background": "light"
     },
     "output_type": "display_data"
    }
   ],
   "source": [
    "fig, ax = plt.subplots(nrows=1, ncols=2, figsize=[10,5])\n",
    "\n",
    "bbox0 = Rectangle((awcs_out[0].meta.wcs.bounding_box[0][0],awcs_out[0].meta.wcs.bounding_box[1][0]), bbox_w, bbox_ht, angle=0.0, ec='r', lw=2, fc='None')\n",
    "bbox1 = Rectangle((awcs_out[1].meta.wcs.bounding_box[0][0],awcs_out[1].meta.wcs.bounding_box[1][0]), bbox_w, bbox_ht, angle=0.0, ec='r', lw=2, fc='None')\n",
    "\n",
    "ax[0].imshow(awcs_out[0].data, origin='lower', interpolation='None', aspect='auto')\n",
    "ax[0].add_patch(bbox0)\n",
    "ax[0].set_xlim([0,400])\n",
    "ax[0].set_ylim([0,400])\n",
    "ax[0].set_title(nods[0])\n",
    "\n",
    "ax[1].imshow(awcs_out[1].data, origin='lower', interpolation='None', aspect='auto')\n",
    "ax[1].add_patch(bbox1)\n",
    "ax[1].set_xlim([0,400])\n",
    "ax[1].set_ylim([0,400])\n",
    "ax[1].set_title(nods[1])\n",
    "\n"
   ]
  },
  {
   "cell_type": "code",
   "execution_count": 46,
   "metadata": {},
   "outputs": [
    {
     "name": "stdout",
     "output_type": "stream",
     "text": [
      "(array([22.63073778]), array([293.21950963]))\n"
     ]
    },
    {
     "data": {
      "text/plain": [
       "<matplotlib.colorbar.Colorbar at 0x162114970>"
      ]
     },
     "execution_count": 46,
     "metadata": {},
     "output_type": "execute_result"
    },
    {
     "data": {
      "image/png": "[encoded data removed]",
      "text/plain": [
       "<Figure size 432x720 with 2 Axes>"
      ]
     },
     "metadata": {
      "needs_background": "light"
     },
     "output_type": "display_data"
    }
   ],
   "source": [
    "# Plot the wavelength solution based on the wcs information in the model\n",
    "siaf = Siaf('MIRI')\n",
    "ap = siaf['MIRIM_SLIT']\n",
    "refpx_tel = ap.reference_point(to_frame='tel')\n",
    "refpx_abs = mt.v2v3toxy(refpx_tel[0], refpx_tel[1], filter='F770W')\n",
    "refpx = (refpx_abs[0] - awcs_out[0].meta.wcs.bounding_box[0][0], refpx_abs[1] - awcs_out[0].meta.wcs.bounding_box[1][0])\n",
    "print(refpx)\n",
    "\n",
    "x,y = grid_from_bounding_box(awcs_out[0].meta.wcs.bounding_box)\n",
    "ra, dec, lam = awcs_out[0].meta.wcs(x, y)\n",
    "\n",
    "fig = plt.figure(figsize=[6,10])\n",
    "plt.imshow(lam, origin='lower', interpolation='None')\n",
    "plt.scatter(refpx[0], refpx[1], marker='x', color='r')\n",
    "plt.colorbar()\n",
    "\n"
   ]
  },
  {
   "cell_type": "markdown",
   "metadata": {},
   "source": []
  },
  {
   "cell_type": "markdown",
   "metadata": {},
   "source": [
    "<a id=\"about_ID\"></a>\n",
    "## About this Notebook\n",
    "**Author:** Sarah Kendrew, ESA MIRI Instrument & Calibration Scientist, MIRI branch\n",
    "<br>**Updated On:** 07/27/2020"
   ]
  },
  {
   "cell_type": "markdown",
   "metadata": {},
   "source": [
    "[Top of Page](#title_ID)\n",
    "<img style=\"float: right;\" src=\"./stsci_pri_combo_mark_horizonal_white_bkgd.png\" alt=\"stsci_pri_combo_mark_horizonal_white_bkgd\" width=\"200px\"/> "
   ]
  }
 ],
 "metadata": {
  "kernelspec": {
   "display_name": "Python 3",
   "language": "python",
   "name": "python3"
  },
  "language_info": {
   "codemirror_mode": {
    "name": "ipython",
    "version": 3
   },
   "file_extension": ".py",
   "mimetype": "text/x-python",
   "name": "python",
   "nbconvert_exporter": "python",
   "pygments_lexer": "ipython3",
   "version": "3.8.3"
  }
 },
 "nbformat": 4,
 "nbformat_minor": 1
}
