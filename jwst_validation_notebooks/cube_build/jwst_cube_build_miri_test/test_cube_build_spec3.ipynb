{
 "cells": [
  {
   "cell_type": "markdown",
   "metadata": {},
   "source": [
    "<a id=\"title_ID\"></a>\n",
    "# JWST Pipeline Validation Testing Notebook: Cube Build with MIRISIM Data\n",
    "\n",
    "<span style=\"color:red\"> **Instruments Affected**</span>: MIRI\n",
    "\n",
    "Tested with simulated MIRI MRS data."
   ]
  },
  {
   "cell_type": "markdown",
   "metadata": {},
   "source": [
    "#### Author: Isha Nayak"
   ]
  },
  {
   "cell_type": "markdown",
   "metadata": {},
   "source": [
    "This notebook is the second one that tests the cube build step of Spec3 of the JWST pipeline. The first notebook (https://github.com/spacetelescope/jwst_validation_notebooks/blob/master/jwst_validation_notebooks/cube_build/jwst_cube_build_miri_test/testing_point_source_flux_conservation_modeshep_all.ipynb) looks at data that bypasses MIRISim."
   ]
  },
  {
   "cell_type": "markdown",
   "metadata": {},
   "source": [
    "In this notebook we use MIRISim data created with a 4 point dither and SLOW mode to see if a flat source with flux of 0.01 Jy is still flat after being processed by Detector 1, Spec 2, and Spec 3 steps of the pipeline. We skip outlier detection so there are outliers that do not get flagged, resulting in noise spikes in the spectrum. "
   ]
  },
  {
   "cell_type": "markdown",
   "metadata": {},
   "source": [
    "In the Detector 1 step we turn off reference pixels because reference pixels are not accounted for in a consistent manner. In the Spec 2 step we turn off straylight because it can sometimes cause problems, and we skip extract 1D and cube build and rely on Spec 3 for those steps instead. In Spec 3 we turn off master background because it does not work well for point sources and the extract 1D step does background subtraction, we turn off mrs imatch because it takes too much computational time, and we turn off outlier detection since that will be a separate notebook that tests the functionality of noise spikes and cosmic rays getting detected."
   ]
  },
  {
   "cell_type": "markdown",
   "metadata": {},
   "source": [
    "In the first cube build notebook we inject a point source onto the MRS detector. We find that if we input a flat point source of 0.01 Jy, the standalone cube build function in Spec 3 will output a flat point source of 0.01 Jy within 2%. In each channel the spectrum is flat, but there is a mismatch of up to 2% within bands: i.e. the spectra is flat in Channel 1A and is flat is Channel 1B, but there is a small offset between Channel 1A and 1B. "
   ]
  },
  {
   "cell_type": "markdown",
   "metadata": {},
   "source": [
    "In this notebook the critera for passing in Channel/Band 1A through 3C is the median value in those channels has to be within 20% of the input flux of 0.01 Jy. Flux conservations is not perfect with mirisim data and the pipeline adds factors/corrections that cannot actually be tested until we get real data. Therefore the passing criteria in Channel/Band 1A through 3C is that the flux has to be conserved within 20% when using mirisim data and processing it through the pipeline, which is different from the 2% flux conservation criteria when we can bypass mirisim and test cube build."
   ]
  },
  {
   "cell_type": "markdown",
   "metadata": {},
   "source": [
    "The critera for passing in 4A through 4C is the median value has to be within 160%. Channel 4 flux calibration is incorrect in mirisim and channel 4 data processes through the pipeline is also incorrect."
   ]
  },
  {
   "cell_type": "code",
   "execution_count": null,
   "metadata": {},
   "outputs": [],
   "source": [
    "import os\n",
    "if 'CRDS_CACHE_TYPE' in os.environ:\n",
    "    if os.environ['CRDS_CACHE_TYPE'] == 'local':\n",
    "        os.environ['CRDS_PATH'] = os.path.join(os.environ['HOME'], 'crds', 'cache')\n",
    "    elif os.path.isdir(os.environ['CRDS_CACHE_TYPE']):\n",
    "        os.environ['CRDS_PATH'] = os.environ['CRDS_CACHE_TYPE']\n",
    "print('CRDS cache location: {}'.format(os.environ['CRDS_PATH']))"
   ]
  },
  {
   "cell_type": "markdown",
   "metadata": {},
   "source": [
    "#### Update CRDS Context"
   ]
  },
  {
   "cell_type": "code",
   "execution_count": null,
   "metadata": {},
   "outputs": [],
   "source": [
    "#Update the context\n",
    "#%env CRDS_CONTEXT=jwst_0719.pmap"
   ]
  },
  {
   "cell_type": "markdown",
   "metadata": {},
   "source": [
    "#### Import necessary packages"
   ]
  },
  {
   "cell_type": "code",
   "execution_count": null,
   "metadata": {},
   "outputs": [],
   "source": [
    "# Box download imports\n",
    "from astropy.utils.data import download_file\n",
    "from pathlib import Path\n",
    "from shutil import move\n",
    "from os.path import splitext"
   ]
  },
  {
   "cell_type": "code",
   "execution_count": null,
   "metadata": {},
   "outputs": [],
   "source": [
    "#JWST functions\n",
    "import jwst\n",
    "from jwst.pipeline import Detector1Pipeline\n",
    "from jwst.pipeline import Spec2Pipeline\n",
    "from jwst.pipeline import Spec3Pipeline"
   ]
  },
  {
   "cell_type": "code",
   "execution_count": null,
   "metadata": {},
   "outputs": [],
   "source": [
    "#Mathematics and plotting functions\n",
    "from astropy.io import fits\n",
    "import matplotlib.pyplot as plt\n",
    "from astropy.utils.data import get_pkg_data_filename\n",
    "import numpy as np"
   ]
  },
  {
   "cell_type": "code",
   "execution_count": null,
   "metadata": {},
   "outputs": [],
   "source": [
    "#Check JWST version\n",
    "print(jwst.__version__ )"
   ]
  },
  {
   "cell_type": "markdown",
   "metadata": {},
   "source": [
    "#### Setup Box Files"
   ]
  },
  {
   "cell_type": "code",
   "execution_count": null,
   "metadata": {},
   "outputs": [],
   "source": [
    "def get_box_files(file_list):\n",
    "    for box_url,file_name in file_list:\n",
    "        if 'https' not in box_url:\n",
    "            box_url = 'https://stsci.box.com/shared/static/' + box_url\n",
    "        downloaded_file = download_file(box_url, timeout=600)\n",
    "        if Path(file_name).suffix == '':\n",
    "            ext = splitext(box_url)[1]\n",
    "            file_name += ext\n",
    "        move(downloaded_file, file_name)"
   ]
  },
  {
   "cell_type": "code",
   "execution_count": null,
   "metadata": {},
   "outputs": [],
   "source": [
    "#****\n",
    "#\n",
    "# Set this variable to False to not use the temporary directory\n",
    "#\n",
    "#****\n",
    "use_tempdir = True\n",
    "# Create a temporary directory to hold notebook output, and change the working directory to that directory.\n",
    "from tempfile import TemporaryDirectory\n",
    "import os\n",
    "import shutil\n",
    "if use_tempdir:\n",
    "    data_dir = TemporaryDirectory()\n",
    "    # If you have files that are in the notebook's directory, but that the notebook will need to use while\n",
    "    # running, copy them into the temporary directory here.\n",
    "    #\n",
    "    # files = ['name_of_file']\n",
    "    # for file_name in files:\n",
    "    #     shutil.copy(file_name, os.path.join(data_dir.name, file_name))\n",
    "    # Save original directory\n",
    "    orig_dir = os.getcwd()\n",
    "    # Move to new directory\n",
    "    os.chdir(data_dir.name)\n",
    "# For info, print out where the script is running\n",
    "print(\"Running in {}\".format(os.getcwd()))"
   ]
  },
  {
   "cell_type": "markdown",
   "metadata": {},
   "source": [
    "#### Setup Box Urls"
   ]
  },
  {
   "cell_type": "code",
   "execution_count": null,
   "metadata": {},
   "outputs": [],
   "source": [
    "seq1_file_urls = ['https://stsci.box.com/shared/static/bfdwxoi5d1bigpcrm8oax4gs7zvrx7jl.fits',\n",
    "                 'https://stsci.box.com/shared/static/prkl3tr4tvi19f069kc0mdzfyrq9zqq9.fits',\n",
    "                 'https://stsci.box.com/shared/static/tt81e5rp4325qn6qjndzr1tygwcd8mi3.fits',\n",
    "                 'https://stsci.box.com/shared/static/oji8v81g5fvqnz2mplz7vrrxzf09j17i.fits',\n",
    "                 'https://stsci.box.com/shared/static/qorfegleqsp47wk0c895xl0zzjlsc9za.fits',\n",
    "                 'https://stsci.box.com/shared/static/55pcsp5867p7a5dg5qx8yazqkuamjwdb.fits']\n",
    "\n",
    "seq1_file_names = ['det_image_seq1_MIRIFULONG_34LONGexp1.fits',\n",
    "                  'det_image_seq1_MIRIFULONG_34MEDIUMexp1.fits',\n",
    "                  'det_image_seq1_MIRIFULONG_34SHORTexp1.fits',\n",
    "                  'det_image_seq1_MIRIFUSHORT_12LONGexp1.fits',\n",
    "                  'det_image_seq1_MIRIFUSHORT_12MEDIUMexp1.fits',\n",
    "                  'det_image_seq1_MIRIFUSHORT_12SHORTexp1.fits']\n",
    "\n",
    "box_download_list_seq1 = [(url,name) for url,name in zip(seq1_file_urls,seq1_file_names)]\n",
    "\n",
    "get_box_files(box_download_list_seq1)"
   ]
  },
  {
   "cell_type": "code",
   "execution_count": null,
   "metadata": {},
   "outputs": [],
   "source": [
    "seq2_file_urls = ['https://stsci.box.com/shared/static/l0338f4vx7lbt6nacmu5e3qn0t63f0hg.fits',\n",
    "                 'https://stsci.box.com/shared/static/zbeijqyendw0q3du7ttks4s3a88wulng.fits',\n",
    "                 'https://stsci.box.com/shared/static/426lhx21n77hyaur9zzi8fclqj6brlnq.fits',\n",
    "                 'https://stsci.box.com/shared/static/3h2dbj7xrmz0sqtqurmxqzoys48ccguf.fits',\n",
    "                 'https://stsci.box.com/shared/static/954nenk3p81wes4uo0izvydmuq23pswi.fits',\n",
    "                 'https://stsci.box.com/shared/static/b20bea8ymgk6gp4bj7i307dgwgyp6bj8.fits']\n",
    "\n",
    "seq2_file_names = ['det_image_seq2_MIRIFULONG_34LONGexp1.fits',\n",
    "                  'det_image_seq2_MIRIFULONG_34MEDIUMexp1.fits',\n",
    "                  'det_image_seq2_MIRIFULONG_34SHORTexp1.fits',\n",
    "                  'det_image_seq2_MIRIFUSHORT_12LONGexp1.fits',\n",
    "                  'det_image_seq2_MIRIFUSHORT_12MEDIUMexp1.fits',\n",
    "                  'det_image_seq2_MIRIFUSHORT_12SHORTexp1.fits']\n",
    "\n",
    "box_download_list_seq2 = [(url,name) for url,name in zip(seq2_file_urls,seq2_file_names)]\n",
    "\n",
    "get_box_files(box_download_list_seq2)"
   ]
  },
  {
   "cell_type": "code",
   "execution_count": null,
   "metadata": {},
   "outputs": [],
   "source": [
    "seq3_file_urls = ['https://stsci.box.com/shared/static/jtaxk9nka3eiln5s583csvoujvkoim0h.fits',\n",
    "                 'https://stsci.box.com/shared/static/mqvcswxmdermtj2keu979p35u9f4yten.fits',\n",
    "                 'https://stsci.box.com/shared/static/nrxoryzu2vy264w5pr11ejeqktxicl7u.fits',\n",
    "                 'https://stsci.box.com/shared/static/0zdaj8qxj5a2vovtejj15ba12gq4coio.fits',\n",
    "                 'https://stsci.box.com/shared/static/x7rquwb5o9ncxsm550etnpig68bhqlxc.fits',\n",
    "                 'https://stsci.box.com/shared/static/1vr3h1rmy7n7e9jq5rum13g496anqn39.fits']\n",
    "\n",
    "seq3_file_names = ['det_image_seq3_MIRIFULONG_34LONGexp1.fits',\n",
    "                  'det_image_seq3_MIRIFULONG_34MEDIUMexp1.fits',\n",
    "                  'det_image_seq3_MIRIFULONG_34SHORTexp1.fits',\n",
    "                  'det_image_seq3_MIRIFUSHORT_12LONGexp1.fits',\n",
    "                  'det_image_seq3_MIRIFUSHORT_12MEDIUMexp1.fits',\n",
    "                  'det_image_seq3_MIRIFUSHORT_12SHORTexp1.fits']\n",
    "\n",
    "box_download_list_seq3 = [(url,name) for url,name in zip(seq3_file_urls,seq3_file_names)]\n",
    "\n",
    "get_box_files(box_download_list_seq3)"
   ]
  },
  {
   "cell_type": "code",
   "execution_count": null,
   "metadata": {},
   "outputs": [],
   "source": [
    "seq4_file_urls = ['https://stsci.box.com/shared/static/mj13u4iqlqp8altu47wief0pa4nie05z.fits',\n",
    "                 'https://stsci.box.com/shared/static/9gca440lueo3yl5qwi4h72w1z4imkw07.fits',\n",
    "                 'https://stsci.box.com/shared/static/4jp6trj5vcu957v7mgrk3x0xswspjsyp.fits',\n",
    "                 'https://stsci.box.com/shared/static/o0sxswa1fcykbll7ynqobc6xj7pinr72.fits',\n",
    "                 'https://stsci.box.com/shared/static/c8udg4depbxoha6m7vbntmq1j2vcqljj.fits',\n",
    "                 'https://stsci.box.com/shared/static/sgp67c1gotmp4kyc4okzjkxpdxcvv2g8.fits',\n",
    "                 'https://stsci.box.com/shared/static/csgnwqoos19wt9tkavpb0ml75p2j6m0q.json']\n",
    "\n",
    "seq4_file_names = ['det_image_seq4_MIRIFULONG_34LONGexp1.fits',\n",
    "                  'det_image_seq4_MIRIFULONG_34MEDIUMexp1.fits',\n",
    "                  'det_image_seq4_MIRIFULONG_34SHORTexp1.fits',\n",
    "                  'det_image_seq4_MIRIFUSHORT_12LONGexp1.fits',\n",
    "                  'det_image_seq4_MIRIFUSHORT_12MEDIUMexp1.fits',\n",
    "                  'det_image_seq4_MIRIFUSHORT_12SHORTexp1.fits',\n",
    "                  'spec3_updated.json']\n",
    "\n",
    "box_download_list_seq4 = [(url,name) for url,name in zip(seq4_file_urls,seq4_file_names)]\n",
    "\n",
    "get_box_files(box_download_list_seq4)"
   ]
  },
  {
   "cell_type": "markdown",
   "metadata": {},
   "source": [
    "#### Setup Loops"
   ]
  },
  {
   "cell_type": "code",
   "execution_count": null,
   "metadata": {},
   "outputs": [],
   "source": [
    "#Band Loop 1\n",
    "band_loop1 = ['12SHORT', '12MEDIUM', '12LONG']\n",
    "\n",
    "#Band Loop 1\n",
    "band_loop2 = ['34SHORT', '34MEDIUM', '34LONG']\n",
    "\n",
    "#Dither Loop\n",
    "dit_loop = ['seq1', 'seq2', 'seq3', 'seq4']\n",
    "\n",
    "#Channels\n",
    "chan_type1=['ch1-short', 'ch1-medium', 'ch1-long', 'ch2-short', 'ch2-medium', 'ch2-long', 'ch3-short', 'ch3-medium', 'ch3-long', 'ch4-short', 'ch4-medium', 'ch4-long']\n",
    "chan_type2=['1a', '1b', '1c', '2a', '2b', '2c', '3a', '3b', '3c', '4a', '4b', '4c']\n",
    "\n",
    "#Colors\n",
    "color_list=['black', 'red', 'blue', 'black', 'red', 'blue', 'black', 'red', 'blue', 'black', 'red', 'blue']"
   ]
  },
  {
   "cell_type": "markdown",
   "metadata": {},
   "source": [
    "#### Setup Detector 1 File Names"
   ]
  },
  {
   "cell_type": "code",
   "execution_count": null,
   "metadata": {},
   "outputs": [],
   "source": [
    "name1 = [' '] * 12\n",
    "count=0\n",
    "for j in range(0, 3):    \n",
    "    for i in range(0, 4):\n",
    "        name1[count] = 'det_image_' + dit_loop[i] + '_MIRIFUSHORT_' + band_loop1[j] + 'exp1.fits'\n",
    "        count=count+1\n",
    "\n",
    "name2 = [' '] * 12\n",
    "count=0\n",
    "for j in range(0, 3):    \n",
    "    for i in range(0, 4):\n",
    "        name2[count] = 'det_image_' + dit_loop[i] + '_MIRIFULONG_' + band_loop2[j] + 'exp1.fits'\n",
    "        count=count+1\n",
    "        \n",
    "name_det1=np.concatenate((name1,name2))"
   ]
  },
  {
   "cell_type": "markdown",
   "metadata": {},
   "source": [
    "#### Run Detector 1 and Skip Reference Pixel"
   ]
  },
  {
   "cell_type": "code",
   "execution_count": null,
   "metadata": {},
   "outputs": [],
   "source": [
    "for i in range(0,24):\n",
    "    result_det1 = Detector1Pipeline.call(name_det1[i], save_results = True, steps = {\"refpix\" : {\"skip\" : True}})"
   ]
  },
  {
   "cell_type": "markdown",
   "metadata": {},
   "source": [
    "#### Setup Spec 2 File Names"
   ]
  },
  {
   "cell_type": "code",
   "execution_count": null,
   "metadata": {},
   "outputs": [],
   "source": [
    "name3 = [' '] * 12\n",
    "count=0\n",
    "for j in range(0, 3):    \n",
    "    for i in range(0, 4):\n",
    "        name3[count] = 'det_image_' + dit_loop[i] + '_MIRIFUSHORT_' + band_loop1[j] + 'exp1_rate.fits'\n",
    "        count=count+1\n",
    "\n",
    "name4 = [' '] * 12\n",
    "count=0\n",
    "for j in range(0, 3):    \n",
    "    for i in range(0, 4):\n",
    "        name4[count] = 'det_image_' + dit_loop[i] + '_MIRIFULONG_' + band_loop2[j] + 'exp1_rate.fits'\n",
    "        count=count+1\n",
    "        \n",
    "name_spec2=np.concatenate((name3,name4))"
   ]
  },
  {
   "cell_type": "markdown",
   "metadata": {},
   "source": [
    "#### Run Spec 2 and Skip Straylight, Extract1D, and Cube build"
   ]
  },
  {
   "cell_type": "code",
   "execution_count": null,
   "metadata": {},
   "outputs": [],
   "source": [
    "for i in range(0,24):\n",
    "    result_spec2 = Spec2Pipeline.call(name_spec2[i], save_results = True,steps = {\"straylight\" : {\"skip\" : True}, \"extract_1d\" : {\"skip\" : True}, \"cube_build\" : {\"skip\" : True}})"
   ]
  },
  {
   "cell_type": "markdown",
   "metadata": {},
   "source": [
    "#### Setup Spec 3 File Names"
   ]
  },
  {
   "cell_type": "code",
   "execution_count": null,
   "metadata": {},
   "outputs": [],
   "source": [
    "name5 = [' '] * 12\n",
    "count=0\n",
    "for j in range(0, 3):    \n",
    "    for i in range(0, 4):\n",
    "        name5[count] = 'det_image_' + dit_loop[i] + '_MIRIFUSHORT_' + band_loop1[j] + 'exp1_cal.fits'\n",
    "        count=count+1\n",
    "\n",
    "name6 = [' '] * 12\n",
    "count=0\n",
    "for j in range(0, 3):    \n",
    "    for i in range(0, 4):\n",
    "        name6[count] = 'det_image_' + dit_loop[i] + '_MIRIFULONG_' + band_loop2[j] + 'exp1_cal.fits'\n",
    "        count=count+1\n",
    "        \n",
    "name_spec3=np.concatenate((name5,name6))"
   ]
  },
  {
   "cell_type": "markdown",
   "metadata": {},
   "source": [
    "#### Change SRCTYPE from EXTENDED to POINT"
   ]
  },
  {
   "cell_type": "code",
   "execution_count": null,
   "metadata": {},
   "outputs": [],
   "source": [
    "for i in range(0, 24):\n",
    "    hdu=fits.open(name_spec3[i])\n",
    "    hdu['SCI'].header['SRCTYPE']='POINT'\n",
    "    hdu.writeto(name_spec3[i],overwrite=True)\n",
    "    hdu.close()"
   ]
  },
  {
   "cell_type": "markdown",
   "metadata": {},
   "source": [
    "#### Run Spec 3 and Skip Master Background, MRS imatch, and Outlier Detection"
   ]
  },
  {
   "cell_type": "markdown",
   "metadata": {},
   "source": [
    "As an example, this step is called with an alternate method than Detector1 or Spec2. You use the 'run' option instead of the 'call' option to use Spec3."
   ]
  },
  {
   "cell_type": "code",
   "execution_count": null,
   "metadata": {},
   "outputs": [],
   "source": [
    "results_spec3 = Spec3Pipeline()\n",
    "results_spec3.master_background.skip=True\n",
    "results_spec3.mrs_imatch.skip=True\n",
    "results_spec3.outlier_detection.skip=True\n",
    "results_spec3.save_results=True\n",
    "results_spec3.run(\"spec3_updated.json\")"
   ]
  },
  {
   "cell_type": "markdown",
   "metadata": {},
   "source": [
    "#### Make figures from extract 1D output which uses EXTENDED as the default source type."
   ]
  },
  {
   "cell_type": "code",
   "execution_count": null,
   "metadata": {},
   "outputs": [],
   "source": [
    "# Open the FITS file\n",
    "for i in range(0, 12):\n",
    "    globals()['hdul_' + chan_type2[i]] = fits.open('spec3_results_' + chan_type1[i] + '_x1d.fits')"
   ]
  },
  {
   "cell_type": "code",
   "execution_count": null,
   "metadata": {},
   "outputs": [],
   "source": [
    "# Find length of each channel\n",
    "for i in range(0, 12):\n",
    "    test = globals()['hdul_' + chan_type2[i]]\n",
    "    globals()['length_' + chan_type2[i]] = len(test[1].data)"
   ]
  },
  {
   "cell_type": "code",
   "execution_count": null,
   "metadata": {},
   "outputs": [],
   "source": [
    "# Make empty array for wavelength and flux\n",
    "for i in range(0, 12):\n",
    "    globals()['wavelength_' + chan_type2[i]] = [0.0] * globals()['length_' + chan_type2[i]]\n",
    "    globals()['flux_' + chan_type2[i]] = [0.0] * globals()['length_' + chan_type2[i]]"
   ]
  },
  {
   "cell_type": "code",
   "execution_count": null,
   "metadata": {},
   "outputs": [],
   "source": [
    "# Read wavelength and flux\n",
    "for j in range(0, 12):\n",
    "    for i in range(0, globals()['length_' + chan_type2[j]]):\n",
    "        globals()['wavelength_' + chan_type2[j]][i] = globals()['hdul_' + chan_type2[j]][1].data[i][0]\n",
    "        globals()['flux_' + chan_type2[j]][i] = globals()['hdul_' + chan_type2[j]][1].data[i][1]"
   ]
  },
  {
   "cell_type": "code",
   "execution_count": null,
   "metadata": {},
   "outputs": [],
   "source": [
    "# Make plot\n",
    "for i in range(0, 12):\n",
    "    plt.plot(globals()['wavelength_' + chan_type2[i]], globals()['flux_' + chan_type2[i]], '-', color = color_list[i])\n",
    "\n",
    "plt.xlim(4,30)\n",
    "plt.ylim(0,0.15)"
   ]
  },
  {
   "cell_type": "markdown",
   "metadata": {},
   "source": [
    "#### Make figures from summing up the flux in each channel of the 3D cube."
   ]
  },
  {
   "cell_type": "code",
   "execution_count": null,
   "metadata": {},
   "outputs": [],
   "source": [
    "# Make figure and keep track of mediam value in each band\n",
    "median_s3d = [0.0] * 12\n",
    "\n",
    "for j in range(0, 12):\n",
    "    image3, header3 = fits.getdata('spec3_results_' + chan_type1[j] + '_s3d.fits', header = True)\n",
    "    \n",
    "    num_x3 = header3[\"NAXIS2\"]\n",
    "    num_y3 = header3[\"NAXIS1\"]\n",
    "    num_chan3 = header3[\"NAXIS3\"]\n",
    "    start_wavelength3 = header3[\"CRVAL3\"]\n",
    "    step_wavelength3 = header3[\"CDELT3\"]\n",
    "    pix_size3 = header3[\"CDELT1\"]\n",
    "    \n",
    "    a3 = [0.0] * num_chan3\n",
    "    for i in range(0, num_chan3):\n",
    "        for m in range(0, num_x3):\n",
    "            for n in range(0, num_y3):\n",
    "                a3[i] = image3[i, m, n] + a3[i]\n",
    "\n",
    "    d3 = [0.0] * num_chan3\n",
    "    d3[0] = start_wavelength3\n",
    "    for i in range(1, num_chan3):\n",
    "        d3[i] = d3[i-1] + step_wavelength3\n",
    "        \n",
    "    for i in range(0, num_chan3):\n",
    "        a3[i] = (a3[i] * (pix_size3 * 3600) * (pix_size3 * 3600) * (10**6)) / (4.25 * 10**10)\n",
    "    \n",
    "    median_s3d[j]=np.nanmedian(a3)\n",
    "    \n",
    "    plt.plot(d3, a3, '-', color = color_list[j], lw = 1) \n",
    "    plt.xlim(4, 30)\n",
    "    plt.ylim(0, 0.15)"
   ]
  },
  {
   "cell_type": "markdown",
   "metadata": {},
   "source": [
    "#### Define Pass/Fail Criteria For S3D"
   ]
  },
  {
   "cell_type": "code",
   "execution_count": null,
   "metadata": {},
   "outputs": [],
   "source": [
    "# Check median is off by less than 20% of expected flux in channel/band 1a though 3c\n",
    "for i in range(0, 8):\n",
    "    if (100 * ((median_s3d[i]) - (0.01)) / (0.01)) < 20:\n",
    "        a = (100 * ((median_s3d[i]) - (0.01)) / (0.01))\n",
    "        print(chan_type2[i] + ': pass' + ',' + str(np.round(a)) + '%')\n",
    "    else:\n",
    "        a = (100 * ((median_s3d[i]) - (0.01)) / (0.01))\n",
    "        print(chan_type2[i] + ': fail' + ',' + str(np.round(a)) + '%')"
   ]
  },
  {
   "cell_type": "code",
   "execution_count": null,
   "metadata": {},
   "outputs": [],
   "source": [
    "# Check median is off by less than 160% of expected flux in channel/band 4a though 4c\n",
    "for i in range(9, 12):\n",
    "    if (100 * ((median_s3d[i]) - (0.01)) / (0.01)) < 160:\n",
    "        a = (100 * ((median_s3d[i]) - (0.01)) / (0.01))\n",
    "        print(chan_type2[i] + ': pass' + ',' + str(np.round(a)) + '%')\n",
    "    else:\n",
    "        a = (100 * ((median_s3d[i]) - (0.01)) / (0.01))\n",
    "        print(chan_type2[i] + ': fail' + ',' + str(np.round(a)) + '%')"
   ]
  },
  {
   "cell_type": "markdown",
   "metadata": {},
   "source": [
    "#### Summary"
   ]
  },
  {
   "cell_type": "markdown",
   "metadata": {},
   "source": [
    "We plot below the pass/fail criteria. In Channel/Band 1a through 3c, the criteria is that the expected median output after Spec 3 step of the pipeline is within 20% of the 0.01 Jy flat flux that was input. The output from the pipeline ranges from 9%-16% from the expected flux."
   ]
  },
  {
   "cell_type": "markdown",
   "metadata": {},
   "source": [
    "The flux output from channel 4a through 4c is off by a factor ranging from 36% to 153% off from the input flux. Therefore the set the pass/fail criterial in channel 4 such that the output should be within 160% from the input. Both the data made by mirisim and then processed by the pipeline lead to such a high discrepancy in this particular channel. MIRISim simulations in Channel 4 do not represent the data we expect to get in flight."
   ]
  },
  {
   "cell_type": "code",
   "execution_count": null,
   "metadata": {},
   "outputs": [],
   "source": [
    "# Band 1A through 3C\n",
    "x_limit = [4.89, 18.04]\n",
    "y_limit = [0.01, 0.01]\n",
    "\n",
    "#Set 20% Pass/Fail Criteria\n",
    "y_20_upper = [0.01 + (0.01 * (0.2)), 0.01 + (0.01 * (0.2))]\n",
    "y_20_lower = [0.01 - (0.01 * (0.2)), 0.01 - (0.01 * (0.2))]\n",
    "\n",
    "plt.plot(x_limit, y_limit, '--', color='black', lw=1, label = 'expected')\n",
    "plt.plot(x_limit, y_20_upper, '--', color='cyan', lw=1, label = '20% limit')\n",
    "plt.plot(x_limit, y_20_lower, '--', color='cyan', lw=1,)\n",
    "plt.plot(globals()['wavelength_' + chan_type2[0]][0], (median_s3d[0]), 'o', color = color_list[0], label = '1A, 2A, 3A')\n",
    "plt.plot(globals()['wavelength_' + chan_type2[1]][0], (median_s3d[1]), 'o', color = color_list[1], label = '1B, 2B, 3B')\n",
    "plt.plot(globals()['wavelength_' + chan_type2[2]][0], (median_s3d[2]), 'o', color = color_list[2], label = '1C, 2C, 3C')\n",
    "\n",
    "for i in range(0, 9):\n",
    "    plt.plot(globals()['wavelength_' + chan_type2[i]][0], (median_s3d[i]), 'o', color = color_list[i])\n",
    "\n",
    "plt.xlim(4, 30)\n",
    "plt.legend()"
   ]
  },
  {
   "cell_type": "code",
   "execution_count": null,
   "metadata": {},
   "outputs": [],
   "source": [
    "# Band 4A through 4C\n",
    "x_limit = [17.66, 28.31]\n",
    "y_limit = [0.01, 0.01]\n",
    "\n",
    "#Set 160% Pass/Fail Criteria\n",
    "y_160_upper = [0.01 + (0.01 * (1.6)), 0.01 + (0.01 * (1.6))]\n",
    "y_160_lower = [0.01 - (0.01 * (1.6)), 0.01 - (0.01 * (1.6))]\n",
    "\n",
    "plt.plot(x_limit, y_limit, '--', color='black', lw=1, label = 'expected')\n",
    "plt.plot(x_limit, y_160_upper, '--', color='cyan', lw=1, label = '160% limit')\n",
    "plt.plot(x_limit, y_160_lower, '--', color='cyan', lw=1)\n",
    "plt.plot(globals()['wavelength_' + chan_type2[9]][0], (median_s3d[9]), 'o', color = color_list[9], label = '4A')\n",
    "plt.plot(globals()['wavelength_' + chan_type2[10]][0], (median_s3d[10]), 'o', color = color_list[10], label = '4B')\n",
    "plt.plot(globals()['wavelength_' + chan_type2[11]][0], (median_s3d[11]), 'o', color = color_list[11], label = '4C')\n",
    "\n",
    "for i in range(9, 12):\n",
    "    plt.plot(globals()['wavelength_' + chan_type2[i]][0], (median_s3d[i]), 'o', color = color_list[i])\n",
    "    \n",
    "plt.xlim(4, 30)\n",
    "plt.legend()"
   ]
  },
  {
   "cell_type": "code",
   "execution_count": null,
   "metadata": {},
   "outputs": [],
   "source": []
  }
 ],
 "metadata": {
  "language_info": {
   "name": "python"
  }
 },
 "nbformat": 4,
 "nbformat_minor": 4
}
