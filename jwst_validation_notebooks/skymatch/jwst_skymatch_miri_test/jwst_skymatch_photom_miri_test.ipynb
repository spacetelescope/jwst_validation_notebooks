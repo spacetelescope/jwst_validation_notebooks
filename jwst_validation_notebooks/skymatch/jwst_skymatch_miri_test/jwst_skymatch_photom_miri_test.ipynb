{
 "cells": [
  {
   "cell_type": "markdown",
   "metadata": {},
   "source": [
    "<a id=\"title_ID\"></a>\n",
    "# JWST Pipeline Validation Notebook: skymatch and photometry with MIRI \n",
    "\n",
    "<span style=\"color:red\"> **Instruments Affected**</span>: MIRI, NIRCam \n",
    "\n",
    "\n",
    "Tested on MIRI Simulated data\n",
    "\n",
    "### Table of Contents\n",
    "<div style=\"text-align: left\"> \n",
    "\n",
    "<br> [Introduction](#intro_ID) \n",
    "<br> [JWST CalWG Algorithm](#algorithm)\n",
    "<br> [Test Description](#description)\n",
    "<br> [Data Description](#data_descr)\n",
    "<br> [Imports](#imports_ID)\n",
    "<br> [Loading the Data](#data_load)\n",
    "<br> [Set up association files](#associations_ID)\n",
    "<br> [Insert outliers](#outliers_ID) \n",
    "<br> [Run Pipeline](#pipeline_ID) \n",
    "\n",
    "\n",
    "</div>"
   ]
  },
  {
   "cell_type": "markdown",
   "metadata": {},
   "source": [
    "<a id=\"intro_ID\"></a>\n",
    "## Introduction\n",
    "\n",
    "This notebook is meant to test how the differing methods in the skymatch step affect photometry output in a catalog at the end of the source_catalog step. This is set up to test each of the skymatch methods (local, global, match, and global+match) and see if there are differences in photometry between them. The plot at the end of the notebook compare the total AB mag calculated in the source_catalog step by x position. If there are no differences, the magnitudes for each method should line up. If there are differences between them, it will show in different symbols not lining up.\n",
    "\n",
    "This notebook runs the following steps only from calwebb_image3: skymatch, resample and source_catalog, checking outputs of each step along the way. The final result is the plot at the bottom of the notebook as described above.\n",
    "\n",
    "\n",
    "The pipeline documentation can be found here: https://jwst-pipeline.readthedocs.io/en/latest/jwst/skymatch/README.html\n",
    "\n",
    "The pipeline code is available on GitHub: https://github.com/spacetelescope/jwst/tree/master/jwst/skymatch\n"
   ]
  },
  {
   "cell_type": "markdown",
   "metadata": {},
   "source": [
    "<a id=\"algorithm\"></a>\n",
    "# JWST CalWG Algorithm\n",
    "\n",
    "The skymatch step can be used to compute sky values in a collection of input images that contain both sky and source signal. The sky values can be computed for each image separately or in a way that matches the sky levels amongst the collection of images so as to minimize their differences. This operation is typically applied before combining multiple images into a mosaic. \n",
    "\n",
    "Background Matching algorithm page on the CalWG confluence page\n",
    "> https://outerspace.stsci.edu/display/JWSTCC/Vanilla+Image+Background+Matching\n",
    "\n",
    "\n",
    "[Top of Page](#title_ID)"
   ]
  },
  {
   "cell_type": "markdown",
   "metadata": {},
   "source": [
    "<a id=\"description\"></a>\n",
    "# Test Description\n",
    "\n",
    "This notebook processes level 2 images through the calwebb_image3 skymatch and resample steps and examines outputs for different sky method parameters.\n",
    "\n",
    "1) Set up data path and image list file.\n",
    "\n",
    "2) Set up association files.\n",
    "\n",
    "3) Modify average backgrould level of input images.\n",
    "\n",
    "4) Run skymatch step on images.\n",
    "\n",
    "5) Run skymatch, resample and source_catalog for each skymethod parameter (local, global, match, global+match). \n",
    "\n",
    "6) See if the differing skymatch methods affect the source photometry.\n",
    "\n",
    "7) Testing other parameters (nclip, usigma, lsigma, lower, upper, skystat). (Still TBD.)\n",
    "\n",
    "This notebook has been created to test how skymatch, resample and source_catalog work together (with subtract=True indicating that the subtraction is done in the skymatch step and subtract=False indicating that the subtraction is done in the resample step). There are displays of the combined noise image to see how well the backgrounds were subtracted in the full combined image.\n",
    "\n",
    "[Top of Page](#title_ID)"
   ]
  },
  {
   "cell_type": "markdown",
   "metadata": {},
   "source": [
    "<a id=\"data_descr\"></a>\n",
    "# Data Description\n",
    "These steps are set up with simulated MIRI F560W data of a crowded field with a variety of point sources and extended sources. There are four dither positions of the same field that are combined in the resample step. The notebook adds noise backgrounds to the field to help the pipeline testers have a better visualization of what the pipeline is doing with each set of parameters. \n",
    "\n",
    "[Top of Page](#title_ID)"
   ]
  },
  {
   "cell_type": "markdown",
   "metadata": {},
   "source": [
    "### Set up temporary directory and CRDS options"
   ]
  },
  {
   "cell_type": "code",
   "execution_count": null,
   "metadata": {},
   "outputs": [],
   "source": [
    "# Create a temporary directory to hold notebook output, and change the working directory to that directory.\n",
    "from tempfile import TemporaryDirectory\n",
    "import os\n",
    "data_dir = TemporaryDirectory()\n",
    "os.chdir(data_dir.name)\n",
    "print(data_dir)"
   ]
  },
  {
   "cell_type": "code",
   "execution_count": null,
   "metadata": {},
   "outputs": [],
   "source": [
    "# Set up CRDS options\n",
    "\n",
    "import os\n",
    "if \"CRDS_CACHE_TYPE\" in os.environ:\n",
    "    if os.environ['CRDS_CACHE_TYPE'] == 'local':\n",
    "        os.environ['CRDS_PATH'] = os.path.join(os.environ['HOME'], 'crds', 'cache')\n",
    "    elif os.path.isdir(os.environ['CRDS_CACHE_TYPE']):\n",
    "        os.environ['CRDS_PATH'] = os.environ['CRDS_CACHE_TYPE']"
   ]
  },
  {
   "cell_type": "markdown",
   "metadata": {},
   "source": [
    "<a id=\"imports_ID\"></a>\n",
    "### Set up import statements\n",
    "\n",
    "The following packages are needed to run this notebook:\n",
    "* jwst to run the pipeline, access datamodels and create associations \n",
    "* matplotlib to plot\n",
    "* astropy for a variety of calculations\n",
    "* glob to find files of a certain type\n",
    "* imports to retrieve files from Box\n"
   ]
  },
  {
   "cell_type": "code",
   "execution_count": null,
   "metadata": {},
   "outputs": [],
   "source": [
    "import pytest\n",
    "from astropy.io import fits\n",
    "from astropy.table import Table, vstack, unique, join\n",
    "from astropy import table\n",
    "from glob import glob\n",
    "\n",
    "import numpy as np\n",
    "import matplotlib\n",
    "import matplotlib.pyplot as plt\n",
    "from matplotlib import rcParams\n",
    "%matplotlib inline\n",
    "\n",
    "import jwst\n",
    "import json\n",
    "from jwst.skymatch import skymatch\n",
    "from jwst.resample import ResampleStep\n",
    "from jwst.pipeline import Image2Pipeline, Image3Pipeline\n",
    "from jwst.skymatch.skyimage import SkyImage\n",
    "from jwst.associations.lib.rules_level3_base import DMS_Level3_Base\n",
    "from jwst.associations import asn_from_list\n",
    "from jwst import datamodels\n",
    "from jwst.datamodels import ImageModel\n",
    "\n",
    "# Box download imports \n",
    "from astropy.utils.data import download_file\n",
    "from pathlib import Path\n",
    "from shutil import move\n",
    "from os.path import splitext\n",
    "\n",
    "from ci_watson.artifactory_helpers import get_bigdata"
   ]
  },
  {
   "cell_type": "markdown",
   "metadata": {},
   "source": [
    "### Print pipeline version number"
   ]
  },
  {
   "cell_type": "code",
   "execution_count": null,
   "metadata": {},
   "outputs": [],
   "source": [
    "jwst.__version__ "
   ]
  },
  {
   "cell_type": "markdown",
   "metadata": {},
   "source": [
    "### Add helper script for plotting scatter plot of magnitudes"
   ]
  },
  {
   "cell_type": "code",
   "execution_count": null,
   "metadata": {},
   "outputs": [],
   "source": [
    "def create_scatterplot(catalog_colx, catalog_coly, title=None):\n",
    "    ''' Function to generate a generic scatterplot.\n",
    "    '''\n",
    "    \n",
    "    fig = plt.figure(figsize=(8, 8))\n",
    "    ax = plt.subplot()\n",
    "    ax.scatter(catalog_colx,catalog_coly) \n",
    "    plt.xlabel(catalog_colx.name)\n",
    "    plt.ylabel(catalog_coly.name)\n",
    "\n",
    "    \n",
    "    if title:\n",
    "        plt.title(title)"
   ]
  },
  {
   "cell_type": "markdown",
   "metadata": {},
   "source": [
    "<a id=\"data_load\"></a>\n",
    "# Loading the Data"
   ]
  },
  {
   "cell_type": "code",
   "execution_count": null,
   "metadata": {},
   "outputs": [],
   "source": [
    "# Read in new dataset from Box\n",
    "\n",
    "def get_box_files(file_list):\n",
    "    for box_url,file_name in file_list:\n",
    "        if 'https' not in box_url:\n",
    "            box_url = 'https://stsci.box.com/shared/static/' + box_url\n",
    "        downloaded_file = download_file(box_url, timeout=600)\n",
    "        if Path(file_name).suffix == '':\n",
    "            ext = splitext(box_url)[1]\n",
    "            file_name += ext\n",
    "        move(downloaded_file, file_name)\n",
    "\n",
    "# Use F560W data set\n",
    "        \n",
    "file_urls = ['https://stsci.box.com/shared/static/g8ozd2wkdo9klrtkafpe9qegpzhpd66a.fits', \n",
    "             'https://stsci.box.com/shared/static/ym75nbqdi32t9wnbanm6s57itqixniyc.fits', \n",
    "             'https://stsci.box.com/shared/static/0bqh6ijsc6kd7cyv6gtnj9kvly9t885f.fits',\n",
    "             'https://stsci.box.com/shared/static/tywadpqcjhp9yxyv0sy91hc79red92xm.fits']\n",
    "\n",
    "\n",
    "filenames = ['det_image_seq1_MIRIMAGE_F560Wexp1_rate.fits', \n",
    "             'det_image_seq2_MIRIMAGE_F560Wexp1_rate.fits', \n",
    "             'det_image_seq3_MIRIMAGE_F560Wexp1_rate.fits',\n",
    "             'det_image_seq4_MIRIMAGE_F560Wexp1_rate.fits']\n",
    "\n",
    "\n",
    "# Test with F770W data set\n",
    "\n",
    "#file_urls = ['https://stsci.box.com/shared/static/8573htf1p8mhk4e49z9b483dp975y3lz.fits',\n",
    "#             'https://stsci.box.com/shared/static/p69h7uzlmqwlzf6kqqbf4lu9ibz28tc6.fits',\n",
    "#             'https://stsci.box.com/shared/static/js8k6j20rek1oago057wxn08dhuticij.fits',\n",
    "#             'https://stsci.box.com/shared/static/es253mc3m1sptusj9c9ctl1blidr1qdl.fits',\n",
    "#             'https://stsci.box.com/shared/static/lpcgp7jkq6lmjj2lxpk63jz9u05qgk3a.cat',\n",
    "#             'https://stsci.box.com/shared/static/15j6hkjc28zow4rjepob2t75dl887zs3.cat']\n",
    "\n",
    "\n",
    "#file_names = ['det_image_seq1_MIRIMAGE_F770Wexp1_rate.fits', \n",
    "#             'det_image_seq2_MIRIMAGE_F770Wexp1_rate.fits', \n",
    "#             'det_image_seq3_MIRIMAGE_F770Wexp1_rate.fits',\n",
    "#             'det_image_seq4_MIRIMAGE_F770Wexp1_rate.fits',\n",
    "#             'input_sim_stars.cat',\n",
    "#             'input_sim_galaxies.cat']\n",
    "\n",
    "box_download_list = [(url,name) for url,name in zip(file_urls,filenames)]\n",
    "\n",
    "\n",
    "get_box_files(box_download_list)"
   ]
  },
  {
   "cell_type": "markdown",
   "metadata": {},
   "source": [
    "### Run rate files through calwebb_image2 to obtain calibrated images for further testing"
   ]
  },
  {
   "cell_type": "code",
   "execution_count": null,
   "metadata": {},
   "outputs": [],
   "source": [
    "# Run Calwebb_image2 on output files from detector1\n",
    "ratefiles = glob('*rate.fits')    \n",
    "    \n",
    "print('There are ', len(ratefiles), ' images.')\n",
    "    \n",
    "callist = []\n",
    "\n",
    "# cycle through files\n",
    "for im in ratefiles:\n",
    "    pipe2 = Image2Pipeline()\n",
    "    \n",
    "    rampfile = ImageModel(im)\n",
    "    filename = rampfile.meta.filename\n",
    "    # Set pipeline parameters\n",
    "\n",
    "    pipe2.save_results = True\n",
    "    pipe2.output_file = filename +'_cal.fits'\n",
    "    pipe2.resample.save_results = True\n",
    "    pipe2.suffix = None\n",
    "\n",
    "    calfile = pipe2.run(rampfile)\n",
    "\n",
    "    callist.append(calfile)\n",
    "\n",
    "print(callist)"
   ]
  },
  {
   "cell_type": "code",
   "execution_count": null,
   "metadata": {},
   "outputs": [],
   "source": [
    "#input_files=[]\n",
    "#input_files=[input_file1,input_file2,input_file3,input_file4]\n",
    "\n",
    "imlist1=['det_image_seq1_MIRIMAGE_F560Wexp1_cal.fits','det_image_seq2_MIRIMAGE_F560Wexp1_cal.fits','det_image_seq3_MIRIMAGE_F560Wexp1_cal.fits','det_image_seq4_MIRIMAGE_F560Wexp1_cal.fits']"
   ]
  },
  {
   "cell_type": "code",
   "execution_count": null,
   "metadata": {},
   "outputs": [],
   "source": [
    "# Look at one image\n",
    "im_file = ImageModel('det_image_seq1_MIRIMAGE_F560Wexp1_cal.fits')\n",
    "\n",
    "# read in ecsv photom file\n",
    "from astropy.visualization import LogStretch, PercentileInterval, ManualInterval\n",
    "\n",
    "#viz2 = LogStretch() + ManualInterval(0,10)\n",
    "\n",
    "plt.figure(figsize=(20,20))\n",
    "#plt.imshow(viz2(im_file.data), origin='lower')\n",
    "plt.imshow(im_file.data, origin='lower', cmap='rainbow', vmin=0, vmax=5)\n",
    "plt.colorbar()"
   ]
  },
  {
   "cell_type": "markdown",
   "metadata": {},
   "source": [
    "### Set parameters for tests\n",
    "Set parameters to use both in pipeline runs and for regions to examine for background area stats.\n",
    "\n",
    "For MIRI, the FWHM values are dependent on filter and should be set using the table below:\n",
    "\n",
    "|Filter | FWHM  |\n",
    "|-------| -------|\n",
    "|F560W      |     1.636\t\t|\t\n",
    "|F770W      |     2.187\t\t|\n",
    "|F1000W     |     2.888\t\t|\n",
    "|F1130W     |     3.318\t\t|\n",
    "|F1280W     |     3.713\t\t|\n",
    "|F1500W     |     4.354\t\t|\n",
    "|F1800W     |     5.224\t\t|\n",
    "|F2100W     |     5.989\t\t|\n",
    "|F2550W     |     7.312\t\t|\n",
    "|F2550WR    |     7.312\t    | \n"
   ]
  },
  {
   "cell_type": "code",
   "execution_count": null,
   "metadata": {},
   "outputs": [],
   "source": [
    "# Choose region of image to examine for stats (preferably no bright sources)\n",
    "xmin = 700\n",
    "xmax = 750\n",
    "ymin = 400\n",
    "ymax = 450\n",
    "\n",
    "# parameters for calwebb_image3 runs\n",
    "snr = 5\n",
    "fwhm = 1.7"
   ]
  },
  {
   "cell_type": "markdown",
   "metadata": {},
   "source": [
    "<a id=\"associations_ID\"></a>\n",
    "### Set up association files\n",
    "The level three pipeline relies on an association file to specify which files are to be combined and provide the output file name.\n",
    "\n",
    "[Top of Page](#title_ID)"
   ]
  },
  {
   "cell_type": "code",
   "execution_count": null,
   "metadata": {},
   "outputs": [],
   "source": [
    "# use asn_from_list to create association table\n",
    "cal_list=imlist1\n",
    "asn = asn_from_list.asn_from_list(cal_list, rule=DMS_Level3_Base, product_name='skymatch_combined.fits')\n",
    "\n",
    "# use this if you need to add non'science' exposure types\n",
    "#asn['products'][0]['members'][1]['exptype'] = 'background'\n",
    "#asn['products'][0]['members'][2]['exptype'] = 'sourcecat'\n",
    "\n",
    "# dump association table to a .json file for use in image3\n",
    "with open('skymatch_asnfile.json', 'w') as fp:\n",
    "    fp.write(asn.dump()[1])\n",
    "\n",
    "skymatch_json_file='skymatch_asnfile.json'\n",
    "    \n",
    "json_file = skymatch_json_file\n",
    "file_list = []\n",
    "file_list2 = []\n",
    "with open(json_file) as json_data:\n",
    "    d = json.load(json_data)\n",
    "    members = d['products'][0]['members']\n",
    "    for item in np.arange(0,len(members)):\n",
    "        file_list.append(members[item]['expname'])\n",
    "        file_list2.append(members[item]['expname'][:-5]+\"_skymatch.fits\")\n",
    "\n",
    "    \n",
    "asn2 = asn_from_list.asn_from_list(file_list2, rule=DMS_Level3_Base, product_name=d['products'][0]['name'])\n",
    "\n",
    "# use this if you need to add non'science' exposure types\n",
    "#asn['products'][0]['members'][1]['exptype'] = 'background'\n",
    "#asn['products'][0]['members'][2]['exptype'] = 'sourcecat'\n",
    "\n",
    "# dump association table to a .json file for use in image3\n",
    "with open('skymatch_asnfile2.json', 'w') as fp:\n",
    "    fp.write(asn2.dump()[1])\n",
    "    \n",
    "skymatch_json_file2='skymatch_asnfile2.json'"
   ]
  },
  {
   "cell_type": "markdown",
   "metadata": {},
   "source": [
    "### Modify average background level of input images"
   ]
  },
  {
   "cell_type": "code",
   "execution_count": null,
   "metadata": {},
   "outputs": [],
   "source": [
    "infile01_1 = imlist1[0]\n",
    "infile01_2 = imlist1[1]\n",
    "infile02_1 = imlist1[2]\n",
    "infile02_2 = imlist1[3]"
   ]
  },
  {
   "cell_type": "code",
   "execution_count": null,
   "metadata": {},
   "outputs": [],
   "source": [
    "img01_1 = datamodels.open(infile01_1)\n",
    "img01_2 = datamodels.open(infile01_2)\n",
    "img02_1 = datamodels.open(infile02_1)\n",
    "img02_2 = datamodels.open(infile02_2)"
   ]
  },
  {
   "cell_type": "code",
   "execution_count": null,
   "metadata": {},
   "outputs": [],
   "source": [
    "data01_1 = img01_1.data\n",
    "data01_2 = img01_2.data\n",
    "data02_1 = img02_1.data\n",
    "data02_2 = img02_2.data\n",
    "\n",
    "#data01_1[data01_1<=0.3]=np.nan\n",
    "#data01_2[data01_2<=0.3]=np.nan\n",
    "#data02_1[data02_1<=0.3]=np.nan\n",
    "#data02_2[data02_2<=0.3]=np.nan\n",
    "\n",
    "data01_1_orig = np.copy(img01_1.data)\n",
    "data01_2_orig = np.copy(img01_2.data)\n",
    "data02_1_orig = np.copy(img02_1.data)\n",
    "data02_2_orig = np.copy(img02_2.data)"
   ]
  },
  {
   "cell_type": "code",
   "execution_count": null,
   "metadata": {},
   "outputs": [],
   "source": [
    "# check mean values of background \n",
    "print('Mean:', np.nanmean(data01_1_orig[data01_1_orig<=4.0]),' Standard deviation: ',np.std(data01_1_orig[data01_1_orig<=4.0]))\n",
    "print('Mean:', np.nanmean(data01_2_orig[data01_2_orig<=4.0]),' Standard deviation: ',np.std(data01_2_orig[data01_2_orig<=4.0]))\n",
    "print('Mean:', np.nanmean(data02_1_orig[data02_1_orig<=4.0]),' Standard deviation: ',np.std(data02_1_orig[data02_1_orig<=4.0]))\n",
    "print('Mean:', np.nanmean(data02_2_orig[data02_2_orig<=4.0]),' Standard deviation: ',np.std(data02_2_orig[data02_2_orig<=4.0]))"
   ]
  },
  {
   "cell_type": "code",
   "execution_count": null,
   "metadata": {},
   "outputs": [],
   "source": [
    "# creating a background image with specified mean and gaussian noise with sigma = 1.0\n",
    "bkg_img_noise_neg2 = np.random.normal(-2,2*0.2,data01_1.shape)\n",
    "bkg_img_noise_2 = np.random.normal(2,2*0.2,data01_1.shape)\n",
    "bkg_img_noise_3 = np.random.normal(3,3*0.2,data01_1.shape)\n",
    "bkg_img_noise_4 = np.random.normal(4,4*0.2,data01_1.shape)\n",
    "bkg_img_noise_5 = np.random.normal(5,5*0.2,data01_1.shape)\n",
    "bkg_img_noise_7 = np.random.normal(7,7*0.2,data01_1.shape)"
   ]
  },
  {
   "cell_type": "markdown",
   "metadata": {},
   "source": [
    "Add offset noise to the background of the images for easier background visualization"
   ]
  },
  {
   "cell_type": "code",
   "execution_count": null,
   "metadata": {},
   "outputs": [],
   "source": [
    "# adding the new background with specified mean and gaussian noise (above) to image \n",
    "img01_1.data=bkg_img_noise_2 + img01_1.data\n",
    "img01_2.data=bkg_img_noise_3 + img01_2.data\n",
    "img02_1.data=bkg_img_noise_5 + img02_1.data\n",
    "img02_2.data=bkg_img_noise_2 + img02_2.data"
   ]
  },
  {
   "cell_type": "code",
   "execution_count": null,
   "metadata": {},
   "outputs": [],
   "source": [
    "# checking the mean and standard deviations of the new background values\n",
    "print('Mean:',np.nanmean(img01_1.data),' Standard deviation: ',np.nanstd(img01_1.data))\n",
    "print('Mean:',np.nanmean(img01_2.data),' Standard deviation: ',np.nanstd(img01_2.data))\n",
    "print('Mean:',np.nanmean(img02_1.data),' Standard deviation: ',np.nanstd(img02_1.data))\n",
    "print('Mean:',np.nanmean(img02_2.data),' Standard deviation: ',np.nanstd(img02_2.data))"
   ]
  },
  {
   "cell_type": "code",
   "execution_count": null,
   "metadata": {},
   "outputs": [],
   "source": [
    "img01_1.save(file_list2[0],overwrite=True)\n",
    "img01_2.save(file_list2[1],overwrite=True)\n",
    "img02_1.save(file_list2[2],overwrite=True)\n",
    "img02_2.save(file_list2[3],overwrite=True)"
   ]
  },
  {
   "cell_type": "code",
   "execution_count": null,
   "metadata": {},
   "outputs": [],
   "source": [
    "# Look at one image\n",
    "im_file = ImageModel(file_list2[0])\n",
    "\n",
    "# read in ecsv photom file\n",
    "from astropy.visualization import LogStretch, PercentileInterval, ManualInterval\n",
    "\n",
    "#viz2 = LogStretch() + ManualInterval(0,10)\n",
    "\n",
    "plt.figure(figsize=(20,20))\n",
    "#plt.imshow(viz2(im_file.data), origin='lower')\n",
    "plt.imshow(im_file.data, origin='lower', cmap='rainbow', vmin=0, vmax=4)\n",
    "plt.colorbar()"
   ]
  },
  {
   "cell_type": "markdown",
   "metadata": {},
   "source": [
    "<a id=\"pipeline_ID\"></a>\n",
    "## Run Pipeline steps in calwebb_image3\n",
    "\n",
    "Run the pipeline on the data for different sets of parameters\n",
    "\n",
    "## 1. Run skymatch step on images with skymatch method = 'local'\n",
    "\n",
    "Notes: ‘local’: compute sky background values of each input image or group of images (members of the same “exposure”). A single sky value is computed for each group of images. This method simply computes the mean/median/mode/etc. value of the “sky” separately in each input image. This will resulted in subtracted background being near zero in the combined image, as each image has it's individual background subtracted.\n",
    "\n",
    "match_down specifies whether the sky differences should be subtracted from images with higher sky values (match_down = True) in order to match the image with the lowest sky or sky differences should be added to the images with lower sky values to match the sky of the image with the highest sky value (match_down = False). (Default = True)\n",
    "\n",
    "'Subtract' specifies whether the computed sky background values are to be subtracted from the images in the skymatch step. (Default = False) Currently, if not done in skymatch, the subtraction is performed in resample. "
   ]
  },
  {
   "cell_type": "markdown",
   "metadata": {},
   "source": [
    "### 1.1 Run skymatch with sky match method = local. Subtract = False, match_down = True.\n"
   ]
  },
  {
   "cell_type": "code",
   "execution_count": null,
   "metadata": {},
   "outputs": [],
   "source": [
    "# skymatch, local, subtract= False, all 4 images used\n",
    "#jwst.skymatch.skymatch_step.SkyMatchStep.call(skymatch_json_file2, skymethod='local', subtract=False,output_file='MIRI',save_results=True)"
   ]
  },
  {
   "cell_type": "code",
   "execution_count": null,
   "metadata": {},
   "outputs": [],
   "source": [
    "# Test running just skymatch and resample and skipping other steps.\n",
    "\n",
    "# Run Calwebb_image3 on the association table\n",
    "    \n",
    "# set any specific parameters\n",
    "skymethod = 'local' # sky computation algorithm to be used. Allowed values: {local, global, match, global+match} (Default = global+match\n",
    "match_down = True # Specifies whether the sky differences should be subtracted from images with higher sky values (match_down = True) in order to match the image with the lowest sky or sky differences should be added to the images with lower sky values to match the sky of the image with the highest sky value (match_down = False). (Default = True\n",
    "subtract = False # Specifies whether the computed sky background values are to be subtracted from the images. (Default = False   \n",
    "    \n",
    "pipe3=Image3Pipeline()    \n",
    "pipe3.tweakreg.skip = True\n",
    "pipe3.outlier_detection.skip = True\n",
    "\n",
    "pipe3.skymatch.skymethod = skymethod\n",
    "pipe3.skymatch.match_down = match_down\n",
    "pipe3.skymatch.subtract = subtract\n",
    "pipe3.skymatch.output_file = 'MIRI'\n",
    "pipe3.skymatch.save_results = True\n",
    "\n",
    "pipe3.resample.save_results = True\n",
    "\n",
    "pipe3.source_catalog.save_results = True\n",
    "pipe3.source_catalog.snr_threshold = snr\n",
    "pipe3.source_catalog.kernel_fwhm = fwhm\n",
    "\n",
    "pipe3.save_results = True\n",
    "\n",
    "# run Image3\n",
    "\n",
    "image = pipe3.run(skymatch_json_file2)\n",
    "print('Image 3 pipeline finished.')"
   ]
  },
  {
   "cell_type": "code",
   "execution_count": null,
   "metadata": {},
   "outputs": [],
   "source": [
    "# Check values out of skymatch step. With subtract = False, values should be equal.\n",
    "\n",
    "img01_1_new = datamodels.open('MIRI_0_skymatch.fits')\n",
    "img01_2_new = datamodels.open('MIRI_1_skymatch.fits')\n",
    "img02_1_new = datamodels.open('MIRI_2_skymatch.fits')\n",
    "img02_2_new = datamodels.open('MIRI_3_skymatch.fits')\n",
    "\n",
    "print('Original and new levels should be equal. If subtract=False, skymatch should not subtract.')\n",
    "print('Mean: original, new (local)')\n",
    "print('Mean:',np.nanmean(img01_1.data[ymin:ymax,xmin:xmax]),',', np.nanmean(img01_1_new.data[ymin:ymax,xmin:xmax]))\n",
    "print('Mean:',np.nanmean(img01_2.data[ymin:ymax,xmin:xmax]),',', np.nanmean(img01_2_new.data[ymin:ymax,xmin:xmax]))\n",
    "print('Mean:',np.nanmean(img02_1.data[ymin:ymax,xmin:xmax]),',', np.nanmean(img02_1_new.data[ymin:ymax,xmin:xmax]))\n",
    "print('Mean:',np.nanmean(img02_2.data[ymin:ymax,xmin:xmax]),',', np.nanmean(img02_2_new.data[ymin:ymax,xmin:xmax]))"
   ]
  },
  {
   "cell_type": "code",
   "execution_count": null,
   "metadata": {},
   "outputs": [],
   "source": [
    "# Look at combined image\n",
    "im_file = ImageModel('skymatch_combined_i2d.fits')\n",
    "\n",
    "print('The resample step should subtract the individual backgrounds found in the skymatch step.')\n",
    "print('Since the local individual background level is subtracted from each image, final expected result is near zero.')\n",
    "print('Mean:',np.nanmean(im_file.data[ymin:ymax,xmin:xmax]))\n",
    "\n",
    "# read in ecsv photom file\n",
    "from astropy.visualization import LogStretch, PercentileInterval, ManualInterval\n",
    "\n",
    "#viz2 = LogStretch() + ManualInterval(0,10)\n",
    "\n",
    "plt.figure(figsize=(20,20))\n",
    "#plt.imshow(viz2(im_file.data), origin='lower')\n",
    "plt.imshow(im_file.data, origin='lower', cmap='rainbow', vmin=0, vmax=4)\n",
    "plt.colorbar()"
   ]
  },
  {
   "cell_type": "markdown",
   "metadata": {},
   "source": [
    "#### Look at photometry out of source catalog to compare across tests.\n"
   ]
  },
  {
   "cell_type": "code",
   "execution_count": null,
   "metadata": {},
   "outputs": [],
   "source": [
    "# Get name of output catalog\n",
    "catfile = 'skymatch_combined_cat.ecsv'\n",
    "print(catfile)\n",
    "\n",
    "# Read in catalog\n",
    "#catalog = Table.read(catfile)\n",
    "catalog = table.Table.read(catfile, format='ascii', comment='#')\n",
    "cat_local = catalog\n",
    "\n",
    "# Plot AB mag values\n",
    "create_scatterplot(catalog['label'], catalog['aper_total_abmag'],title='Total AB mag')\n"
   ]
  },
  {
   "cell_type": "markdown",
   "metadata": {},
   "source": [
    "### 1.2  Skymatch method = 'Local', subtract= True. \n",
    "\n",
    "Skymatch step should subtract the background. Resample background level should match the skymatch background level since subtraction has already been done"
   ]
  },
  {
   "cell_type": "code",
   "execution_count": null,
   "metadata": {},
   "outputs": [],
   "source": [
    "# skymatch, local, subtract = True, all 4 images used\n",
    "#jwst.skymatch.skymatch_step.SkyMatchStep.call(skymatch_json_file2, skymethod='local', subtract=True,output_file='MIRI',save_results=True)"
   ]
  },
  {
   "cell_type": "code",
   "execution_count": null,
   "metadata": {},
   "outputs": [],
   "source": [
    "# Test running just skymatch and resample and skiping other steps.\n",
    "\n",
    "# Run Calwebb_image3 on the association table\n",
    "    \n",
    "# set any specific parameters\n",
    "skymethod = 'local' # sky computation algorithm to be used. Allowed values: {local, global, match, global+match} (Default = global+match\n",
    "#match_down = True # Specifies whether the sky differences should be subtracted from images with higher sky values (match_down = True) in order to match the image with the lowest sky or sky differences should be added to the images with lower sky values to match the sky of the image with the highest sky value (match_down = False). (Default = True\n",
    "subtract = True # Specifies whether the computed sky background values are to be subtracted from the images. (Default = False   \n",
    "    \n",
    "pipe3=Image3Pipeline()    \n",
    "pipe3.tweakreg.skip = True\n",
    "pipe3.outlier_detection.skip = True\n",
    "\n",
    "pipe3.skymatch.skymethod = skymethod\n",
    "#pipe3.skymatch.match_down = match_down\n",
    "pipe3.skymatch.subtract = subtract\n",
    "pipe3.skymatch.output_file = 'MIRI'\n",
    "pipe3.skymatch.save_results = True\n",
    "\n",
    "pipe3.resample.save_results = True\n",
    "pipe3.source_catalog.save_results = True\n",
    "pipe3.source_catalog.snr_threshold = snr\n",
    "pipe3.source_catalog.kernel_fwhm = fwhm\n",
    "\n",
    "pipe3.save_results = True\n",
    "\n",
    "# run Image3\n",
    "\n",
    "image = pipe3.run(skymatch_json_file2)\n",
    "print('Image 3 pipeline finished.')"
   ]
  },
  {
   "cell_type": "code",
   "execution_count": null,
   "metadata": {},
   "outputs": [],
   "source": [
    "img01_1_new = datamodels.open('MIRI_0_skymatch.fits')\n",
    "img01_2_new = datamodels.open('MIRI_1_skymatch.fits')\n",
    "img02_1_new = datamodels.open('MIRI_2_skymatch.fits')\n",
    "img02_2_new = datamodels.open('MIRI_3_skymatch.fits')\n",
    "\n",
    "print('With subtract=True, the new value should show that the background value was subtracted.')\n",
    "print('Mean: original, new (local)')\n",
    "print('Mean:',np.nanmean(img01_1.data[ymin:ymax,xmin:xmax]),',', np.nanmean(img01_1_new.data[ymin:ymax,xmin:xmax]))\n",
    "print('Mean:',np.nanmean(img01_2.data[ymin:ymax,xmin:xmax]),',', np.nanmean(img01_2_new.data[ymin:ymax,xmin:xmax]))\n",
    "print('Mean:',np.nanmean(img02_1.data[ymin:ymax,xmin:xmax]),',', np.nanmean(img02_1_new.data[ymin:ymax,xmin:xmax]))\n",
    "print('Mean:',np.nanmean(img02_2.data[ymin:ymax,xmin:xmax]),',', np.nanmean(img02_2_new.data[ymin:ymax,xmin:xmax]))"
   ]
  },
  {
   "cell_type": "code",
   "execution_count": null,
   "metadata": {},
   "outputs": [],
   "source": [
    "# Look at combined image\n",
    "im_file = ImageModel('skymatch_combined_i2d.fits')\n",
    "\n",
    "print('The background value was subtracted in the skymatch step, no additional subtraction should be done here.')\n",
    "print('This value should match the values in the new column above.')\n",
    "print('Mean:',np.nanmean(im_file.data[ymin:ymax,xmin:xmax]))\n",
    "\n",
    "# read in ecsv photom file\n",
    "from astropy.visualization import LogStretch, PercentileInterval, ManualInterval\n",
    "\n",
    "#viz2 = LogStretch() + ManualInterval(0,10)\n",
    "\n",
    "plt.figure(figsize=(20,20))\n",
    "#plt.imshow(viz2(im_file.data), origin='lower')\n",
    "plt.imshow(im_file.data, origin='lower', cmap='rainbow', vmin=0, vmax=4)\n",
    "plt.colorbar()"
   ]
  },
  {
   "cell_type": "code",
   "execution_count": null,
   "metadata": {},
   "outputs": [],
   "source": [
    "# Get name of output catalog\n",
    "catfile = 'skymatch_combined_cat.ecsv'\n",
    "print(catfile)\n",
    "\n",
    "# Read in catalog\n",
    "#catalog = Table.read(catfile)\n",
    "catalog = table.Table.read(catfile, format='ascii', comment='#')\n",
    "catalog\n",
    "\n",
    "# Plot AB mag values\n",
    "create_scatterplot(catalog['label'], catalog['aper_total_abmag'],title='Total AB mag')\n"
   ]
  },
  {
   "cell_type": "code",
   "execution_count": null,
   "metadata": {},
   "outputs": [],
   "source": [
    "#Look at the sources found on the image\n",
    "viz2 = LogStretch() + ManualInterval(0,10)\n",
    "\n",
    "plt.figure(figsize=(20,20))\n",
    "plt.title('Sources found with Local method')\n",
    "plt.imshow(viz2(im_file.data), origin='lower')\n",
    "plt.colorbar()\n",
    "plt.scatter(catalog['xcentroid'], catalog['ycentroid'],lw=1, s=10,color='red')"
   ]
  },
  {
   "cell_type": "markdown",
   "metadata": {},
   "source": [
    "## 2. Run skymatch for skymethod = 'global'.\n",
    "\n",
    "\n",
    "##### Notes: ‘global’: compute a common sky value for all input image and groups of images. In this setting match will compute sky values for each input image/group, find the minimum sky value, and then it will set (and/or subtract) sky value of each input image to this minimum value. This method may be useful when input images have been already matched. The 'global' method computes the minimum sky value across all input images and/or groups. That sky value is then considered to be the background in all input images.\n",
    "\n",
    "This calculates an average sky across all images and subtracts that average from all images. There should be a warning for users for this step that makes it clear that this should not be used on images with differences in background levels."
   ]
  },
  {
   "cell_type": "markdown",
   "metadata": {},
   "source": [
    "### 2.1 skymethod = 'global' with subtraction = False"
   ]
  },
  {
   "cell_type": "code",
   "execution_count": null,
   "metadata": {},
   "outputs": [],
   "source": [
    "# skymatch, local\n",
    "#jwst.skymatch.skymatch_step.SkyMatchStep.call(skymatch_json_file2, skymethod='local', subtract=False,output_file='MIRI',save_results=True)"
   ]
  },
  {
   "cell_type": "code",
   "execution_count": null,
   "metadata": {},
   "outputs": [],
   "source": [
    "# Test running just skymatch and resample and skiping other steps.\n",
    "\n",
    "# Run Calwebb_image3 on the association table\n",
    "    \n",
    "# set any specific parameters\n",
    "skymethod = 'global' # sky computation algorithm to be used. Allowed values: {local, global, match, global+match} (Default = global+match\n",
    "#match_down = True # Specifies whether the sky differences should be subtracted from images with higher sky values (match_down = True) in order to match the image with the lowest sky or sky differences should be added to the images with lower sky values to match the sky of the image with the highest sky value (match_down = False). (Default = True\n",
    "subtract = False # Specifies whether the computed sky background values are to be subtracted from the images. (Default = False   \n",
    "    \n",
    "pipe3=Image3Pipeline()    \n",
    "pipe3.tweakreg.skip = True\n",
    "pipe3.outlier_detection.skip = True\n",
    "\n",
    "pipe3.skymatch.skymethod = skymethod\n",
    "#pipe3.skymatch.match_down = match_down\n",
    "pipe3.skymatch.subtract = subtract\n",
    "pipe3.skymatch.output_file = 'MIRI'\n",
    "pipe3.skymatch.save_results = True\n",
    "\n",
    "pipe3.resample.save_results = True\n",
    "pipe3.source_catalog.save_results = True\n",
    "pipe3.source_catalog.snr_threshold = snr\n",
    "pipe3.source_catalog.kernel_fwhm = fwhm\n",
    "\n",
    "pipe3.save_results = True\n",
    "\n",
    "# run Image3\n",
    "\n",
    "image = pipe3.run(skymatch_json_file2)\n",
    "print('Image 3 pipeline finished.')"
   ]
  },
  {
   "cell_type": "code",
   "execution_count": null,
   "metadata": {},
   "outputs": [],
   "source": [
    "img01_1_new = datamodels.open('MIRI_0_skymatch.fits')\n",
    "img01_2_new = datamodels.open('MIRI_1_skymatch.fits')\n",
    "img02_1_new = datamodels.open('MIRI_2_skymatch.fits')\n",
    "img02_2_new = datamodels.open('MIRI_3_skymatch.fits')\n",
    "\n",
    "print('There should be no subtraction at this step, with subtraction = False.')\n",
    "print('Mean: original, new (local)')\n",
    "print('Mean:',np.nanmean(img01_1.data[ymin:ymax,xmin:xmax]),',', np.nanmean(img01_1_new.data[ymin:ymax,xmin:xmax]))\n",
    "print('Mean:',np.nanmean(img01_2.data[ymin:ymax,xmin:xmax]),',', np.nanmean(img01_2_new.data[ymin:ymax,xmin:xmax]))\n",
    "print('Mean:',np.nanmean(img02_1.data[ymin:ymax,xmin:xmax]),',', np.nanmean(img02_1_new.data[ymin:ymax,xmin:xmax]))\n",
    "print('Mean:',np.nanmean(img02_2.data[ymin:ymax,xmin:xmax]),',', np.nanmean(img02_2_new.data[ymin:ymax,xmin:xmax]))"
   ]
  },
  {
   "cell_type": "code",
   "execution_count": null,
   "metadata": {},
   "outputs": [],
   "source": [
    "# Look at combined image\n",
    "im_file = ImageModel('skymatch_combined_i2d.fits')\n",
    "\n",
    "print('Global finds a single value for the background, and subtracts that value from all images.')\n",
    "print('The value listed here should be the average of the subtracted sky values across images.')\n",
    "print('The combined image will look messy as the same value was subtracted from the image with background = 5')\n",
    "print('and from the images with background = 2. This shows the differing backgrounds strongly.')\n",
    "print('Mean:',np.nanmean(im_file.data[ymin:ymax,xmin:xmax]))\n",
    "\n",
    "# read in ecsv photom file\n",
    "from astropy.visualization import LogStretch, PercentileInterval, ManualInterval\n",
    "\n",
    "#viz2 = LogStretch() + ManualInterval(0,10)\n",
    "\n",
    "plt.figure(figsize=(20,20))\n",
    "#plt.imshow(viz2(im_file.data), origin='lower')\n",
    "plt.imshow(im_file.data, origin='lower', cmap='rainbow', vmin=0, vmax=4)\n",
    "plt.colorbar()"
   ]
  },
  {
   "cell_type": "code",
   "execution_count": null,
   "metadata": {},
   "outputs": [],
   "source": [
    "# Get name of output catalog\n",
    "catfile = 'skymatch_combined_cat.ecsv'\n",
    "print(catfile)\n",
    "\n",
    "# Read in catalog\n",
    "#catalog = Table.read(catfile)\n",
    "catalog = table.Table.read(catfile, format='ascii', comment='#')\n",
    "cat_global = catalog\n",
    "\n",
    "# Plot AB mag values\n",
    "create_scatterplot(catalog['label'], catalog['aper_total_abmag'],title='Total AB mag')\n"
   ]
  },
  {
   "cell_type": "code",
   "execution_count": null,
   "metadata": {},
   "outputs": [],
   "source": [
    "#Look at the sources found on the image\n",
    "viz2 = LogStretch() + ManualInterval(0,10)\n",
    "\n",
    "plt.figure(figsize=(20,20))\n",
    "plt.title('Sources found with Global method')\n",
    "plt.imshow(viz2(im_file.data), origin='lower')\n",
    "plt.colorbar()\n",
    "plt.scatter(catalog['xcentroid'], catalog['ycentroid'],lw=1, s=10,color='red')"
   ]
  },
  {
   "cell_type": "markdown",
   "metadata": {},
   "source": [
    "### 2.2 skymethod = 'global' with subtraction = True"
   ]
  },
  {
   "cell_type": "code",
   "execution_count": null,
   "metadata": {},
   "outputs": [],
   "source": [
    "# skymatch, global, subtract = True\n",
    "#jwst.skymatch.skymatch_step.SkyMatchStep.call(skymatch_json_file2, skymethod='global', subtract=True,output_file='MIRI',save_results=True)"
   ]
  },
  {
   "cell_type": "code",
   "execution_count": null,
   "metadata": {},
   "outputs": [],
   "source": [
    "# Test running just skymatch and resample and skiping other steps.\n",
    "\n",
    "# Run Calwebb_image3 on the association table\n",
    "    \n",
    "# set any specific parameters\n",
    "skymethod = 'global' # sky computation algorithm to be used. Allowed values: {local, global, match, global+match} (Default = global+match\n",
    "#match_down = True # Specifies whether the sky differences should be subtracted from images with higher sky values (match_down = True) in order to match the image with the lowest sky or sky differences should be added to the images with lower sky values to match the sky of the image with the highest sky value (match_down = False). (Default = True\n",
    "subtract = True # Specifies whether the computed sky background values are to be subtracted from the images. (Default = False   \n",
    "    \n",
    "pipe3=Image3Pipeline()    \n",
    "pipe3.tweakreg.skip = True\n",
    "pipe3.outlier_detection.skip = True\n",
    "\n",
    "pipe3.skymatch.skymethod = skymethod\n",
    "#pipe3.skymatch.match_down = match_down\n",
    "pipe3.skymatch.subtract = subtract\n",
    "pipe3.skymatch.output_file = 'MIRI'\n",
    "pipe3.skymatch.save_results = True\n",
    "\n",
    "pipe3.resample.save_results = True\n",
    "pipe3.source_catalog.save_results = True\n",
    "pipe3.source_catalog.snr_threshold = snr\n",
    "pipe3.source_catalog.kernel_fwhm = fwhm\n",
    "\n",
    "pipe3.save_results = True\n",
    "\n",
    "# run Image3\n",
    "\n",
    "image = pipe3.run(skymatch_json_file2)\n",
    "print('Image 3 pipeline finished.')"
   ]
  },
  {
   "cell_type": "code",
   "execution_count": null,
   "metadata": {},
   "outputs": [],
   "source": [
    "img01_1_new = datamodels.open('MIRI_0_skymatch.fits')\n",
    "img01_2_new = datamodels.open('MIRI_1_skymatch.fits')\n",
    "img02_1_new = datamodels.open('MIRI_2_skymatch.fits')\n",
    "img02_2_new = datamodels.open('MIRI_3_skymatch.fits')\n",
    "\n",
    "print('Global finds a single value for the background, and subtracts that value from all images.')\n",
    "print('The values listed here should be the average of the subtracted sky values across images subtracted from each image.')\n",
    "print('Mean: original, new (global)')\n",
    "print('Mean:',np.nanmean(img01_1.data[ymin:ymax,xmin:xmax]),',', np.nanmean(img01_1_new.data[ymin:ymax,xmin:xmax]))\n",
    "print('Mean:',np.nanmean(img01_2.data[ymin:ymax,xmin:xmax]),',', np.nanmean(img01_2_new.data[ymin:ymax,xmin:xmax]))\n",
    "print('Mean:',np.nanmean(img02_1.data[ymin:ymax,xmin:xmax]),',', np.nanmean(img02_1_new.data[ymin:ymax,xmin:xmax]))\n",
    "print('Mean:',np.nanmean(img02_2.data[ymin:ymax,xmin:xmax]),',', np.nanmean(img02_2_new.data[ymin:ymax,xmin:xmax]))"
   ]
  },
  {
   "cell_type": "code",
   "execution_count": null,
   "metadata": {},
   "outputs": [],
   "source": [
    "# Look at combined image\n",
    "im_file = ImageModel('skymatch_combined_i2d.fits')\n",
    "\n",
    "print('Global finds a single value for the background, and subtracts that value from all images.')\n",
    "print('The value listed here should be the average of the subtracted sky values across images.')\n",
    "print('The combined image will look messy as the same value was subtracted from the image with background = 5')\n",
    "print('and from the images with background = 2. This shows the differing backgrounds strongly.')\n",
    "print('Mean:',np.nanmean(im_file.data[ymin:ymax,xmin:xmax]))\n",
    "\n",
    "# read in ecsv photom file\n",
    "from astropy.visualization import LogStretch, PercentileInterval, ManualInterval\n",
    "\n",
    "#viz2 = LogStretch() + ManualInterval(0,10)\n",
    "\n",
    "plt.figure(figsize=(20,20))\n",
    "#plt.imshow(viz2(im_file.data), origin='lower')\n",
    "plt.imshow(im_file.data, origin='lower', cmap='rainbow', vmin=0, vmax=4)\n",
    "plt.colorbar()"
   ]
  },
  {
   "cell_type": "code",
   "execution_count": null,
   "metadata": {},
   "outputs": [],
   "source": [
    "# Get name of output catalog\n",
    "catfile = 'skymatch_combined_cat.ecsv'\n",
    "print(catfile)\n",
    "\n",
    "# Read in catalog\n",
    "#catalog = Table.read(catfile)\n",
    "catalog = table.Table.read(catfile, format='ascii', comment='#')\n",
    "catalog\n",
    "\n",
    "# Plot AB mag values\n",
    "create_scatterplot(catalog['label'], catalog['aper_total_abmag'],title='Total AB mag')\n"
   ]
  },
  {
   "cell_type": "markdown",
   "metadata": {},
   "source": [
    "## 3. Run tests on Skymatch method 'Match'\n",
    "##### Notes: ‘match’: compute differences in sky values between images and/or groups in (pair-wise) common sky regions. In this case computed sky values will be relative (delta) to the sky computed in one of the input images whose sky value will be set to (reported to be) 0. This case matches to the lowest sky value.\n",
    "\n",
    "Based on whether match_down is set to True or False, Match will calculate the difference between the lowest background level or highest level (respectively), and subtract the difference between the calculated level and the 'matched' level.\n",
    "\n",
    "This is the preferred default option as it subtracts the differences between the background levels, normalizing all of the backgrounds to a common level (either lowest or highest background), rather than subtracting off all of the background."
   ]
  },
  {
   "cell_type": "markdown",
   "metadata": {},
   "source": [
    "### 3.1 skymethod = 'match', match_down=True, subtract=True"
   ]
  },
  {
   "cell_type": "code",
   "execution_count": null,
   "metadata": {},
   "outputs": [],
   "source": [
    "# skymatch, match down, subtract = True\n",
    "#jwst.skymatch.skymatch_step.SkyMatchStep.call(skymatch_json_file2, skymethod='match', match_down=True,subtract=True,output_file='MIRI',save_results=True)"
   ]
  },
  {
   "cell_type": "code",
   "execution_count": null,
   "metadata": {},
   "outputs": [],
   "source": [
    "# Test running just skymatch and resample and skiping other steps.\n",
    "\n",
    "# Run Calwebb_image3 on the association table\n",
    "    \n",
    "# set any specific parameters\n",
    "skymethod = 'match' # sky computation algorithm to be used. Allowed values: {local, global, match, global+match} (Default = global+match\n",
    "match_down = True # Specifies whether the sky differences should be subtracted from images with higher sky values (match_down = True) in order to match the image with the lowest sky or sky differences should be added to the images with lower sky values to match the sky of the image with the highest sky value (match_down = False). (Default = True\n",
    "subtract = True # Specifies whether the computed sky background values are to be subtracted from the images. (Default = False   \n",
    "    \n",
    "pipe3=Image3Pipeline()    \n",
    "pipe3.tweakreg.skip = True\n",
    "pipe3.outlier_detection.skip = True\n",
    "\n",
    "pipe3.skymatch.skymethod = skymethod\n",
    "pipe3.skymatch.match_down = match_down\n",
    "pipe3.skymatch.subtract = subtract\n",
    "pipe3.skymatch.output_file = 'MIRI'\n",
    "pipe3.skymatch.save_results = True\n",
    "\n",
    "pipe3.resample.save_results = True\n",
    "pipe3.source_catalog.save_results = True\n",
    "pipe3.source_catalog.snr_threshold = snr\n",
    "pipe3.source_catalog.kernel_fwhm = fwhm\n",
    "\n",
    "pipe3.save_results = True\n",
    "\n",
    "# run Image3\n",
    "\n",
    "image = pipe3.run(skymatch_json_file2)\n",
    "print('Image 3 pipeline finished.')"
   ]
  },
  {
   "cell_type": "code",
   "execution_count": null,
   "metadata": {},
   "outputs": [],
   "source": [
    "img01_1_new = datamodels.open('MIRI_0_skymatch.fits')\n",
    "img01_2_new = datamodels.open('MIRI_1_skymatch.fits')\n",
    "img02_1_new = datamodels.open('MIRI_2_skymatch.fits')\n",
    "img02_2_new = datamodels.open('MIRI_3_skymatch.fits')\n",
    "\n",
    "print('There should be no subtraction at this step, with subtraction = False.')\n",
    "print('Mean: original, new (match down)')\n",
    "print('Mean:',np.nanmean(img01_1.data[ymin:ymax,xmin:xmax]),',', np.nanmean(img01_1_new.data[ymin:ymax,xmin:xmax]))\n",
    "print('Mean:',np.nanmean(img01_2.data[ymin:ymax,xmin:xmax]),',', np.nanmean(img01_2_new.data[ymin:ymax,xmin:xmax]))\n",
    "print('Mean:',np.nanmean(img02_1.data[ymin:ymax,xmin:xmax]),',', np.nanmean(img02_1_new.data[ymin:ymax,xmin:xmax]))\n",
    "print('Mean:',np.nanmean(img02_2.data[ymin:ymax,xmin:xmax]),',', np.nanmean(img02_2_new.data[ymin:ymax,xmin:xmax]))"
   ]
  },
  {
   "cell_type": "code",
   "execution_count": null,
   "metadata": {},
   "outputs": [],
   "source": [
    "# Look at combined image\n",
    "im_file = ImageModel('skymatch_combined_i2d.fits')\n",
    "\n",
    "print('For the method match with match_down= True, the value of the background should match the minimum of the individual backgrounds.')\n",
    "print('This value should match the values in the new column above. Subtraction was done in skymatch step.')\n",
    "print('Mean:',np.nanmean(im_file.data[ymin:ymax,xmin:xmax]))\n",
    "\n",
    "# read in ecsv photom file\n",
    "from astropy.visualization import LogStretch, PercentileInterval, ManualInterval\n",
    "\n",
    "#viz2 = LogStretch() + ManualInterval(0,10)\n",
    "\n",
    "plt.figure(figsize=(20,20))\n",
    "#plt.imshow(viz2(im_file.data), origin='lower')\n",
    "plt.imshow(im_file.data, origin='lower', cmap='rainbow', vmin=0, vmax=4)\n",
    "plt.colorbar()"
   ]
  },
  {
   "cell_type": "code",
   "execution_count": null,
   "metadata": {},
   "outputs": [],
   "source": [
    "# Get name of output catalog\n",
    "catfile = 'skymatch_combined_cat.ecsv'\n",
    "print(catfile)\n",
    "\n",
    "# Read in catalog\n",
    "#catalog = Table.read(catfile)\n",
    "catalog = table.Table.read(catfile, format='ascii', comment='#')\n",
    "catalog\n",
    "\n",
    "# Plot AB mag values\n",
    "create_scatterplot(catalog['label'], catalog['aper_total_abmag'],title='Total AB mag')\n"
   ]
  },
  {
   "cell_type": "markdown",
   "metadata": {},
   "source": [
    "### ** Check that all output (new) sky values are equal to the lowest original sky value "
   ]
  },
  {
   "cell_type": "markdown",
   "metadata": {},
   "source": [
    "### 3.2 skymethod = 'match', match_down=False, subtract = True"
   ]
  },
  {
   "cell_type": "code",
   "execution_count": null,
   "metadata": {},
   "outputs": [],
   "source": [
    "# skymatch, match up, subtract = True\n",
    "#jwst.skymatch.skymatch_step.SkyMatchStep.call(skymatch_json_file2, skymethod='match', match_down=False,subtract=True,output_file='MIRI',save_results=True)"
   ]
  },
  {
   "cell_type": "code",
   "execution_count": null,
   "metadata": {},
   "outputs": [],
   "source": [
    "# Test running just skymatch and resample and skiping other steps.\n",
    "\n",
    "# Run Calwebb_image3 on the association table\n",
    "    \n",
    "# set any specific parameters\n",
    "skymethod = 'match' # sky computation algorithm to be used. Allowed values: {local, global, match, global+match} (Default = global+match\n",
    "match_down = False # Specifies whether the sky differences should be subtracted from images with higher sky values (match_down = True) in order to match the image with the lowest sky or sky differences should be added to the images with lower sky values to match the sky of the image with the highest sky value (match_down = False). (Default = True\n",
    "subtract = True # Specifies whether the computed sky background values are to be subtracted from the images. (Default = False   \n",
    "    \n",
    "pipe3=Image3Pipeline()    \n",
    "pipe3.tweakreg.skip = True\n",
    "pipe3.outlier_detection.skip = True\n",
    "\n",
    "pipe3.skymatch.skymethod = skymethod\n",
    "pipe3.skymatch.match_down = match_down\n",
    "pipe3.skymatch.subtract = subtract\n",
    "pipe3.skymatch.output_file = 'MIRI'\n",
    "pipe3.skymatch.save_results = True\n",
    "\n",
    "pipe3.resample.save_results = True\n",
    "pipe3.source_catalog.save_results = True\n",
    "pipe3.source_catalog.snr_threshold = snr\n",
    "pipe3.source_catalog.kernel_fwhm = fwhm\n",
    "\n",
    "pipe3.save_results = True\n",
    "\n",
    "# run Image3\n",
    "\n",
    "image = pipe3.run(skymatch_json_file2)\n",
    "print('Image 3 pipeline finished.')"
   ]
  },
  {
   "cell_type": "code",
   "execution_count": null,
   "metadata": {},
   "outputs": [],
   "source": [
    "img01_1_new = datamodels.open('MIRI_0_skymatch.fits')\n",
    "img01_2_new = datamodels.open('MIRI_1_skymatch.fits')\n",
    "img02_1_new = datamodels.open('MIRI_2_skymatch.fits')\n",
    "img02_2_new = datamodels.open('MIRI_3_skymatch.fits')\n",
    "\n",
    "print('With match_down = False, match will match the backgrounds of all to the highest background.')\n",
    "print('With subtract = True, the background matching is done at the skymatch step.')\n",
    "print('Mean: original, new (match up)')\n",
    "print('Mean:',np.nanmean(img01_1.data[ymin:ymax,xmin:xmax]),',', np.nanmean(img01_1_new.data[ymin:ymax,xmin:xmax]))\n",
    "print('Mean:',np.nanmean(img01_2.data[ymin:ymax,xmin:xmax]),',', np.nanmean(img01_2_new.data[ymin:ymax,xmin:xmax]))\n",
    "print('Mean:',np.nanmean(img02_1.data[ymin:ymax,xmin:xmax]),',', np.nanmean(img02_1_new.data[ymin:ymax,xmin:xmax]))\n",
    "print('Mean:',np.nanmean(img02_2.data[ymin:ymax,xmin:xmax]),',', np.nanmean(img02_2_new.data[ymin:ymax,xmin:xmax]))"
   ]
  },
  {
   "cell_type": "code",
   "execution_count": null,
   "metadata": {},
   "outputs": [],
   "source": [
    "# Look at combined image\n",
    "im_file = ImageModel('skymatch_combined_i2d.fits')\n",
    "\n",
    "print('For the method match with match_down=False, the value of the background should match the maximum of the individual backgrounds')\n",
    "print('This value should match the values in the new column above. Subtraction was done in skymatch step.')\n",
    "print('Mean:',np.nanmean(im_file.data[ymin:ymax,xmin:xmax]))\n",
    "\n",
    "# read in ecsv photom file\n",
    "from astropy.visualization import LogStretch, PercentileInterval, ManualInterval\n",
    "\n",
    "#viz2 = LogStretch() + ManualInterval(0,10)\n",
    "\n",
    "plt.figure(figsize=(20,20))\n",
    "#plt.imshow(viz2(im_file.data), origin='lower')\n",
    "plt.imshow(im_file.data, origin='lower', cmap='rainbow', vmin=0, vmax=7)\n",
    "plt.colorbar()"
   ]
  },
  {
   "cell_type": "code",
   "execution_count": null,
   "metadata": {},
   "outputs": [],
   "source": [
    "# Get name of output catalog\n",
    "catfile = 'skymatch_combined_cat.ecsv'\n",
    "print(catfile)\n",
    "\n",
    "# Read in catalog\n",
    "#catalog = Table.read(catfile)\n",
    "catalog = table.Table.read(catfile, format='ascii', comment='#')\n",
    "catalog\n",
    "\n",
    "# Plot AB mag values\n",
    "create_scatterplot(catalog['label'], catalog['aper_total_abmag'],title='Total AB mag')"
   ]
  },
  {
   "cell_type": "markdown",
   "metadata": {},
   "source": [
    "### ** Check that all output (new) sky values are equal to the highest original sky value "
   ]
  },
  {
   "cell_type": "markdown",
   "metadata": {},
   "source": [
    "### 3.3 skymethod = 'match', match_down = True, subtract = False"
   ]
  },
  {
   "cell_type": "code",
   "execution_count": null,
   "metadata": {},
   "outputs": [],
   "source": [
    "# Test running just skymatch and resample and skiping other steps.\n",
    "\n",
    "# Run Calwebb_image3 on the association table\n",
    "    \n",
    "# set any specific parameters\n",
    "skymethod = 'match' # sky computation algorithm to be used. Allowed values: {local, global, match, global+match} (Default = global+match\n",
    "match_down = True # Specifies whether the sky differences should be subtracted from images with higher sky values (match_down = True) in order to match the image with the lowest sky or sky differences should be added to the images with lower sky values to match the sky of the image with the highest sky value (match_down = False). (Default = True\n",
    "subtract = False # Specifies whether the computed sky background values are to be subtracted from the images. (Default = False   \n",
    "    \n",
    "pipe3=Image3Pipeline()    \n",
    "pipe3.tweakreg.skip = True\n",
    "pipe3.outlier_detection.skip = True\n",
    "\n",
    "pipe3.skymatch.skymethod = skymethod\n",
    "pipe3.skymatch.match_down = match_down\n",
    "pipe3.skymatch.subtract = subtract\n",
    "pipe3.skymatch.output_file = 'MIRI'\n",
    "pipe3.skymatch.save_results = True\n",
    "\n",
    "pipe3.resample.save_results = True\n",
    "pipe3.source_catalog.save_results = True\n",
    "pipe3.source_catalog.snr_threshold = snr\n",
    "pipe3.source_catalog.kernel_fwhm = fwhm\n",
    "\n",
    "pipe3.save_results = True\n",
    "\n",
    "# run Image3\n",
    "\n",
    "image = pipe3.run(skymatch_json_file2)\n",
    "print('Image 3 pipeline finished.')"
   ]
  },
  {
   "cell_type": "code",
   "execution_count": null,
   "metadata": {},
   "outputs": [],
   "source": [
    "img01_1_new = datamodels.open('MIRI_0_skymatch.fits')\n",
    "img01_2_new = datamodels.open('MIRI_1_skymatch.fits')\n",
    "img02_1_new = datamodels.open('MIRI_2_skymatch.fits')\n",
    "img02_2_new = datamodels.open('MIRI_3_skymatch.fits')\n",
    "\n",
    "print('With subtract=False, no subtraction should be done here.')\n",
    "print('Mean: original, new (match down)')\n",
    "print('Mean:',np.nanmean(img01_1.data[ymin:ymax,xmin:xmax]),',', np.nanmean(img01_1_new.data[ymin:ymax,xmin:xmax]))\n",
    "print('Mean:',np.nanmean(img01_2.data[ymin:ymax,xmin:xmax]),',', np.nanmean(img01_2_new.data[ymin:ymax,xmin:xmax]))\n",
    "print('Mean:',np.nanmean(img02_1.data[ymin:ymax,xmin:xmax]),',', np.nanmean(img02_1_new.data[ymin:ymax,xmin:xmax]))\n",
    "print('Mean:',np.nanmean(img02_2.data[ymin:ymax,xmin:xmax]),',', np.nanmean(img02_2_new.data[ymin:ymax,xmin:xmax]))"
   ]
  },
  {
   "cell_type": "code",
   "execution_count": null,
   "metadata": {},
   "outputs": [],
   "source": [
    "# Look at combined image\n",
    "im_file = ImageModel('skymatch_combined_i2d.fits')\n",
    "\n",
    "print('With the match method, subtract=False and match_down=True, the background value should match to the lowest individual background.')\n",
    "print('This value should match the minimum values in the new column above.')\n",
    "print('Mean:',np.nanmean(im_file.data[ymin:ymax,xmin:xmax]))\n",
    "\n",
    "# read in ecsv photom file\n",
    "from astropy.visualization import LogStretch, PercentileInterval, ManualInterval\n",
    "\n",
    "#viz2 = LogStretch() + ManualInterval(0,10)\n",
    "\n",
    "plt.figure(figsize=(20,20))\n",
    "#plt.imshow(viz2(im_file.data), origin='lower')\n",
    "plt.imshow(im_file.data, origin='lower', cmap='rainbow', vmin=0, vmax=4)\n",
    "plt.colorbar()"
   ]
  },
  {
   "cell_type": "code",
   "execution_count": null,
   "metadata": {},
   "outputs": [],
   "source": [
    "# Get name of output catalog\n",
    "catfile = 'skymatch_combined_cat.ecsv'\n",
    "print(catfile)\n",
    "\n",
    "# Read in catalog\n",
    "#catalog = Table.read(catfile)\n",
    "catalog = table.Table.read(catfile, format='ascii', comment='#')\n",
    "cat_match = catalog\n",
    "\n",
    "# Plot AB mag values\n",
    "create_scatterplot(catalog['label'], catalog['aper_total_abmag'],title='Total AB mag')"
   ]
  },
  {
   "cell_type": "code",
   "execution_count": null,
   "metadata": {},
   "outputs": [],
   "source": [
    "#Look at the sources found on the image\n",
    "#viz2 = LogStretch() + ManualInterval(0,10)\n",
    "\n",
    "plt.figure(figsize=(20,20))\n",
    "plt.title('Sources found with Match method')\n",
    "#plt.imshow(viz2(im_file.data), origin='lower')\n",
    "plt.imshow(im_file.data, origin='lower', cmap='gray', vmin=0, vmax=4)\n",
    "plt.colorbar()\n",
    "plt.scatter(catalog['xcentroid'], catalog['ycentroid'],lw=1, s=10,color='red')"
   ]
  },
  {
   "cell_type": "markdown",
   "metadata": {},
   "source": [
    "## 4. Test skymatch method 'global+match'\n",
    "##### Notes: ‘global+match’: first use ‘match’ method to equalize sky values between images and then find a minimum “global” sky value in all input images.\n",
    "\n",
    "The behavior of this step is that it subtracts all background. More documentation is needed on how exactly it gets to that point."
   ]
  },
  {
   "cell_type": "markdown",
   "metadata": {},
   "source": [
    "### 4.1 skymethod = 'global+match', subtract = True"
   ]
  },
  {
   "cell_type": "code",
   "execution_count": null,
   "metadata": {},
   "outputs": [],
   "source": [
    "# skymatch, global+match, subtract = True\n",
    "#jwst.skymatch.skymatch_step.SkyMatchStep.call(skymatch_json_file2, skymethod='global+match', match_down=True,subtract=True,output_file='MIRI',save_results=True)"
   ]
  },
  {
   "cell_type": "code",
   "execution_count": null,
   "metadata": {},
   "outputs": [],
   "source": [
    "# Test running just skymatch and resample and skiping other steps.\n",
    "\n",
    "# Run Calwebb_image3 on the association table\n",
    "    \n",
    "# set any specific parameters\n",
    "skymethod = 'global+match' # sky computation algorithm to be used. Allowed values: {local, global, match, global+match} (Default = global+match\n",
    "#match_down = True # Specifies whether the sky differences should be subtracted from images with higher sky values (match_down = True) in order to match the image with the lowest sky or sky differences should be added to the images with lower sky values to match the sky of the image with the highest sky value (match_down = False). (Default = True\n",
    "subtract = True # Specifies whether the computed sky background values are to be subtracted from the images. (Default = False   \n",
    "    \n",
    "pipe3=Image3Pipeline()    \n",
    "pipe3.tweakreg.skip = True\n",
    "pipe3.outlier_detection.skip = True\n",
    "\n",
    "pipe3.skymatch.skymethod = skymethod\n",
    "#pipe3.skymatch.match_down = match_down\n",
    "pipe3.skymatch.subtract = subtract\n",
    "pipe3.skymatch.output_file = 'MIRI'\n",
    "pipe3.skymatch.save_results = True\n",
    "\n",
    "pipe3.resample.save_results = True\n",
    "pipe3.source_catalog.save_results = True\n",
    "pipe3.source_catalog.snr_threshold = snr\n",
    "pipe3.source_catalog.kernel_fwhm = fwhm\n",
    "\n",
    "pipe3.save_results = True\n",
    "\n",
    "# run Image3\n",
    "\n",
    "image = pipe3.run(skymatch_json_file2)\n",
    "print('Image 3 pipeline finished.')"
   ]
  },
  {
   "cell_type": "code",
   "execution_count": null,
   "metadata": {},
   "outputs": [],
   "source": [
    "img01_1_new = datamodels.open('MIRI_0_skymatch.fits')\n",
    "img01_2_new = datamodels.open('MIRI_1_skymatch.fits')\n",
    "img02_1_new = datamodels.open('MIRI_2_skymatch.fits')\n",
    "img02_2_new = datamodels.open('MIRI_3_skymatch.fits')\n",
    "\n",
    "print('Mean: original, new (global+match)')\n",
    "print('Mean:',np.nanmean(img01_1.data[ymin:ymax,xmin:xmax]),',', np.nanmean(img01_1_new.data[ymin:ymax,xmin:xmax]))\n",
    "print('Mean:',np.nanmean(img01_2.data[ymin:ymax,xmin:xmax]),',', np.nanmean(img01_2_new.data[ymin:ymax,xmin:xmax]))\n",
    "print('Mean:',np.nanmean(img02_1.data[ymin:ymax,xmin:xmax]),',', np.nanmean(img02_1_new.data[ymin:ymax,xmin:xmax]))\n",
    "print('Mean:',np.nanmean(img02_2.data[ymin:ymax,xmin:xmax]),',', np.nanmean(img02_2_new.data[ymin:ymax,xmin:xmax]))"
   ]
  },
  {
   "cell_type": "code",
   "execution_count": null,
   "metadata": {},
   "outputs": [],
   "source": [
    "# Look at combined image\n",
    "im_file = ImageModel('skymatch_combined_i2d.fits')\n",
    "\n",
    "#print('Did resample subtract a background level, and what was it?')\n",
    "print('This value should match the values in the new column above. Subtraction was done in skymatch step.')\n",
    "print('Mean:',np.nanmean(im_file.data[ymin:ymax,xmin:xmax]))\n",
    "\n",
    "# read in ecsv photom file\n",
    "from astropy.visualization import LogStretch, PercentileInterval, ManualInterval\n",
    "\n",
    "#viz2 = LogStretch() + ManualInterval(0,10)\n",
    "\n",
    "plt.figure(figsize=(20,20))\n",
    "#plt.imshow(viz2(im_file.data), origin='lower')\n",
    "plt.imshow(im_file.data, origin='lower', cmap='rainbow', vmin=0, vmax=4)\n",
    "plt.colorbar()"
   ]
  },
  {
   "cell_type": "code",
   "execution_count": null,
   "metadata": {},
   "outputs": [],
   "source": [
    "# Get name of output catalog\n",
    "catfile = 'skymatch_combined_cat.ecsv'\n",
    "print(catfile)\n",
    "\n",
    "# Read in catalog\n",
    "#catalog = Table.read(catfile)\n",
    "catalog = table.Table.read(catfile, format='ascii', comment='#')\n",
    "catalog\n",
    "\n",
    "# Plot AB mag values\n",
    "create_scatterplot(catalog['label'], catalog['aper_total_abmag'],title='Total AB mag')"
   ]
  },
  {
   "cell_type": "markdown",
   "metadata": {},
   "source": [
    "### 4.2 skymatch = global+match, subtract = False"
   ]
  },
  {
   "cell_type": "code",
   "execution_count": null,
   "metadata": {},
   "outputs": [],
   "source": [
    "# Test running just skymatch and resample and skiping other steps.\n",
    "\n",
    "# Run Calwebb_image3 on the association table\n",
    "    \n",
    "# set any specific parameters\n",
    "skymethod = 'global+match' # sky computation algorithm to be used. Allowed values: {local, global, match, global+match} (Default = global+match\n",
    "#match_down = True # Specifies whether the sky differences should be subtracted from images with higher sky values (match_down = True) in order to match the image with the lowest sky or sky differences should be added to the images with lower sky values to match the sky of the image with the highest sky value (match_down = False). (Default = True\n",
    "subtract = False # Specifies whether the computed sky background values are to be subtracted from the images. (Default = False   \n",
    "    \n",
    "pipe3=Image3Pipeline()    \n",
    "pipe3.tweakreg.skip = True\n",
    "pipe3.outlier_detection.skip = True\n",
    "\n",
    "pipe3.skymatch.skymethod = skymethod\n",
    "#pipe3.skymatch.match_down = match_down\n",
    "pipe3.skymatch.subtract = subtract\n",
    "pipe3.skymatch.output_file = 'MIRI'\n",
    "pipe3.skymatch.save_results = True\n",
    "\n",
    "pipe3.resample.save_results = True\n",
    "pipe3.source_catalog.save_results = True\n",
    "pipe3.source_catalog.snr_threshold = snr\n",
    "pipe3.source_catalog.kernel_fwhm = fwhm\n",
    "\n",
    "pipe3.save_results = True\n",
    "\n",
    "# run Image3\n",
    "\n",
    "image = pipe3.run(skymatch_json_file2)\n",
    "print('Image 3 pipeline finished.')"
   ]
  },
  {
   "cell_type": "code",
   "execution_count": null,
   "metadata": {},
   "outputs": [],
   "source": [
    "img01_1_new = datamodels.open('MIRI_0_skymatch.fits')\n",
    "img01_2_new = datamodels.open('MIRI_1_skymatch.fits')\n",
    "img02_1_new = datamodels.open('MIRI_2_skymatch.fits')\n",
    "img02_2_new = datamodels.open('MIRI_3_skymatch.fits')\n",
    "\n",
    "print('Mean: original, new (global+match)')\n",
    "print('Mean:',np.nanmean(img01_1.data[ymin:ymax,xmin:xmax]),',', np.nanmean(img01_1_new.data[ymin:ymax,xmin:xmax]))\n",
    "print('Mean:',np.nanmean(img01_2.data[ymin:ymax,xmin:xmax]),',', np.nanmean(img01_2_new.data[ymin:ymax,xmin:xmax]))\n",
    "print('Mean:',np.nanmean(img02_1.data[ymin:ymax,xmin:xmax]),',', np.nanmean(img02_1_new.data[ymin:ymax,xmin:xmax]))\n",
    "print('Mean:',np.nanmean(img02_2.data[ymin:ymax,xmin:xmax]),',', np.nanmean(img02_2_new.data[ymin:ymax,xmin:xmax]))"
   ]
  },
  {
   "cell_type": "markdown",
   "metadata": {},
   "source": [
    "### ** Check that all output (new) sky values are around zero (within a standard deviation)"
   ]
  },
  {
   "cell_type": "code",
   "execution_count": null,
   "metadata": {},
   "outputs": [],
   "source": [
    "# Look at combined image\n",
    "im_file = ImageModel('skymatch_combined_i2d.fits')\n",
    "\n",
    "print('Did resample subtract a background level, and what was it?')\n",
    "#print('This value should match the values in the new column above. Subtraction was done in skymatch step.')\n",
    "print('Mean:',np.nanmean(im_file.data[ymin:ymax,xmin:xmax]))\n",
    "\n",
    "# read in ecsv photom file\n",
    "from astropy.visualization import LogStretch, PercentileInterval, ManualInterval\n",
    "\n",
    "#viz2 = LogStretch() + ManualInterval(0,10)\n",
    "\n",
    "plt.figure(figsize=(20,20))\n",
    "#plt.imshow(viz2(im_file.data), origin='lower')\n",
    "plt.imshow(im_file.data, origin='lower', cmap='rainbow', vmin=0, vmax=4)\n",
    "plt.colorbar()"
   ]
  },
  {
   "cell_type": "code",
   "execution_count": null,
   "metadata": {},
   "outputs": [],
   "source": [
    "# Get name of output catalog\n",
    "catfile = 'skymatch_combined_cat.ecsv'\n",
    "print(catfile)\n",
    "\n",
    "# Read in catalog\n",
    "#catalog = Table.read(catfile)\n",
    "catalog = table.Table.read(catfile, format='ascii', comment='#')\n",
    "cat_global_match = catalog\n",
    "\n",
    "# Plot AB mag values\n",
    "create_scatterplot(catalog['label'], catalog['aper_total_abmag'],title='Total AB mag')"
   ]
  },
  {
   "cell_type": "code",
   "execution_count": null,
   "metadata": {},
   "outputs": [],
   "source": [
    "#Look at the sources found on the image\n",
    "viz2 = LogStretch() + ManualInterval(0,10)\n",
    "\n",
    "plt.figure(figsize=(20,20))\n",
    "plt.title('Sources found with Global+Match method')\n",
    "plt.imshow(viz2(im_file.data), origin='lower')\n",
    "plt.colorbar()\n",
    "plt.scatter(catalog['xcentroid'], catalog['ycentroid'],lw=1, s=10,color='red')"
   ]
  },
  {
   "cell_type": "markdown",
   "metadata": {},
   "source": [
    "### Compare photometry across the different skymatch methods\n",
    "\n",
    "Determine whether the different methods give different photometric results. Ideally, the methods won't affect the output photometry, and the symbols should fall on top of each other for the sources plotted.\n"
   ]
  },
  {
   "cell_type": "code",
   "execution_count": null,
   "metadata": {},
   "outputs": [],
   "source": [
    "fig = plt.figure(figsize=(15, 15))\n",
    "ax = plt.subplot()\n",
    "\n",
    "plt.title('Photometry across methods')\n",
    "plt.xlabel('x position')\n",
    "plt.ylabel('aper_total_abmag')\n",
    "ax.scatter(cat_local['xcentroid'],cat_local['aper_total_abmag'], c='black', marker='o', label='Local')\n",
    "ax.scatter(cat_global['xcentroid'], cat_global['aper_total_abmag'], c='green', marker='v', label='Global')\n",
    "ax.scatter(cat_match['xcentroid'], cat_match['aper_total_abmag'], c='blue', marker='x', label='Match')\n",
    "ax.scatter(cat_global_match['xcentroid'], cat_global_match['aper_total_abmag'], c='magenta', marker='d', label='Global+Match')\n",
    "ax.legend()"
   ]
  },
  {
   "cell_type": "markdown",
   "metadata": {},
   "source": [
    "<a id=\"about_ID\"></a>\n",
    "## About this Notebook\n",
    "**Author:** T. Temim and M. Cracraft, MIRI team\n",
    "<br>**Updated On:** 01/21/2022"
   ]
  },
  {
   "cell_type": "code",
   "execution_count": null,
   "metadata": {},
   "outputs": [],
   "source": []
  }
 ],
 "metadata": {
  "language_info": {
   "name": "python"
  }
 },
 "nbformat": 4,
 "nbformat_minor": 2
}
