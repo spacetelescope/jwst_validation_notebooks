{
 "cells": [
  {
   "cell_type": "markdown",
   "metadata": {},
   "source": [
    "<a id=\"title_ID\"></a>\n",
    "# JWST Pipeline Validation Notebook: Calwebb_coron3 for MIRI coronagraphic imaging\n",
    "<span style=\"color:red\"> **Instruments Affected**</span>: MIRI, NIRCam \n",
    "\n",
    "### Table of Contents\n",
    "\n",
    "<div style=\"text-align: left\"> \n",
    "    \n",
    "<br> [Introduction](#intro)\n",
    "<br> [JWST CalWG Algorithm](#algorithm)\n",
    "<br> [Defining Terms](#terms)\n",
    "<br> [Test Description](#test_descr)\n",
    "<br> [Data Description](#data_descr)\n",
    "<br> [Imports](#imports)\n",
    "<br> [Load Input Data](#data_load)\n",
    "<br> [Run the Pipeline](#run_pipeline)\n",
    "<br> [Examine Outputs](#testing) \n",
    "<br> [About This Notebook](#about)\n",
    "<br>    \n",
    "\n",
    "</div>"
   ]
  },
  {
   "cell_type": "markdown",
   "metadata": {},
   "source": [
    "<a id=\"intro\"></a>\n",
    "# Introduction\n",
    "\n",
    "This is the validation notebook for stage 3 coronagraphic processing of MIRI 4QPM/ Lyot exposures. \n",
    "\n",
    "The calwebb_coron3 module is stage 3 of the JWST Science Calibration Pipeline for NIRCam and MIRI coronagraphic data.  The inputs to this stage are the calibrated slope images (calwebb_image2 output) and the output is a reference-PSF-subtracted image stack. The steps are listed in Figure 1 with the flow from the top to the bottom.\n",
    "\n",
    "The stage 3 coronagraphic pipeline ([`calwebb_coron3`](https://jwst-pipeline.readthedocs.io/en/latest/jwst/pipeline/calwebb_coron3.html#calwebb-coron3)) is to be applied to associations of calibrated NIRCam and MIRI coronagraphic exposures (output of [`calwebb_image2`](https://jwst-pipeline.readthedocs.io/en/stable/jwst/pipeline/calwebb_image2.html)), and is used to produce PSF-subtracted, resampled, combined images of the source object. For more information on `calwebb_coron3`, please visit the links below.\n",
    "\n",
    "> Module description: https://jwst-pipeline.readthedocs.io/en/latest/jwst/pipeline/calwebb_coron3.html#calwebb-coron3\n",
    "\n",
    "> Pipeline code: https://github.com/spacetelescope/jwst/blob/master/jwst/coron/\n",
    "\n",
    "\n",
    "[Top of Page](#title_ID)"
   ]
  },
  {
   "cell_type": "markdown",
   "metadata": {},
   "source": [
    "<a id=\"algorithm\"></a>\n",
    "# JWST CalWG Algorithm\n",
    "\n",
    "The `coron3` pipeline consists of the following steps:\n",
    "\n",
    "- **`outlier_detection`**:  Identifies and flags bad pixels/outliers in the input images\n",
    "\n",
    "- **`stack_refs`**: stacks the reference PSFs into a single 3D data cube\n",
    "\n",
    "- **`align_refs`**: aligns the stack of reference PSFs with the target PSFs.\n",
    "\n",
    "- **`klip`**: uses the Karhunen-Loeve Image Plane (KLIP) algorithm to fit and subtract an optimal PSF from the target PSFs.\n",
    "\n",
    "- **`resample`**: combines the PSF-subtracted target images into a single product.\n",
    "\n",
    "The current status of these algorithms is summarized in the link below:\n",
    "\n",
    "> https://jwst-pipeline.readthedocs.io/en/latest/jwst/pipeline/calwebb_coron3.html#calwebb-coron3\n",
    "\n",
    "\n",
    "[Top of Page](#title_ID)"
   ]
  },
  {
   "cell_type": "markdown",
   "metadata": {},
   "source": [
    "<a id=\"terms\"></a>\n",
    "# Defining Terms\n",
    "\n",
    "- **JWST**: James Webb Space Telescope ([see documentation](https://jwst-docs.stsci.edu/))\n",
    "- **MIRI**: Mid-Infrared Instrument ([see documentation](https://jwst-docs.stsci.edu/mid-infrared-instrument))\n",
    "- **NIRCam**: Near-Infrared Instrument ([see documentation](https://jwst-docs.stsci.edu/near-infrared-camera))\n",
    "- **4QPM**: 4 Quadrant Phase Mask ([see documentation](https://jwst-docs.stsci.edu/mid-infrared-instrument/miri-instrumentation/miri-coronagraphs#MIRICoronagraphs-4qpm))\n",
    "- **Lyot**: coronagraph design incorporating a classical Lyot spot ([see documentation](https://jwst-docs.stsci.edu/mid-infrared-instrument/miri-instrumentation/miri-coronagraphs#MIRICoronagraphs-lyotcoron))\n",
    "- **PanCAKE**: an in-house tool at STScI used to simulate coronagraphic PSFs \n",
    "([see documentation](https://github.com/spacetelescope/pandeia-coronagraphy))\n",
    "- **SGD**: Small Grid Dither \n",
    "([see documentation](https://jwst-docs.stsci.edu/methods-and-roadmaps/jwst-high-contrast-imaging/hci-proposal-planning/hci-small-grid-dithers))\n",
    "- **RSCD**: Reset-Switch Charge Decay ([see documentation](https://jwst-pipeline.readthedocs.io/en/stable/jwst/rscd/description.html))\n",
    "    \n",
    "    \n",
    "\n",
    "    \n",
    " [Top of Page](#title_ID)"
   ]
  },
  {
   "cell_type": "markdown",
   "metadata": {},
   "source": [
    "<a id=\"test_descr\"></a>\n",
    "# Test Description\n",
    "\n",
    "This notebook tests the following steps applied by `calwebb_coron3` for pipeline version == **'1.9.5'**.\n",
    " - [**outlier_detection**](#outlier_detection)\n",
    " - [**stack_refs**](#stack_refs)\n",
    " - [**align_refs**](#align-refs)\n",
    " - [**klip**](#klip)\n",
    " - [**resample**](#resample)\n",
    "\n",
    "These tests are performed using MIRI F1140C 4QPM coronagraphic data (see [Data Description](#data_descr)).\n",
    "\n",
    "\n",
    "[Top of Page](#title_ID)"
   ]
  },
  {
   "cell_type": "markdown",
   "metadata": {},
   "source": [
    "<a id=\"data_descr\"></a>\n",
    "# Data Description\n",
    "\n",
    "### Input Data:\n",
    "\n",
    "This notebook uses MIRI 1140C 4QPM coronagraphic observations of the young debris disk around HD 141569A obtained from JWST ERS program #[1386](https://www.stsci.edu/jwst/science-execution/approved-programs/dd-ers/program-1386): High Contrast Imaging of Exoplanets and Exoplanetary Systems with JWST. \n",
    "\n",
    "The data consists of two science exposures (6 ints, 940 groups) and five reference PSF exposures (4 ints, 400 groups) based on the following observation scenario (1) two science observations of the disk HD 141569A performed at separate roll angles in order to obtain 360 azimuthal coverage of the disk (2) the execution of a 5-point small grid dither (SGD) pattern on the PSF reference star HD 140986, to obtain a set of five slightly offset reference PSF observations.\n",
    "\n",
    "The data has the following naming format:\n",
    "\n",
    "* **Science exposures**: \n",
    "    - `jw01386022001_04101_00001_mirimage_calints.fits` (HD 141569 - *Roll 1*)\n",
    "    - `jw01386023001_04101_00001_mirimage_calints.fits` (HD 141569 - *Roll 2*)<br></br>\n",
    "    \n",
    "* **PSF Reference exposures**:\n",
    "    - `jw01386024001_04101_00001_mirimage_calints.fits` (HD 140986 - *position 1/5 in SGD pattern*)\n",
    "    - `jw01386024001_04101_00002_mirimage_calints.fits` (HD 140986 - *position 2/5 in SGD pattern*)\n",
    "    - `jw01386024001_04101_00003_mirimage_calints.fits` (HD 140986 - *position 3/5 in SGD pattern*)\n",
    "    - `jw01386024001_04101_00004_mirimage_calints.fits` (HD 140986 - *position 4/5 in SGD pattern*)\n",
    "    - `jw01386024001_04101_00005_mirimage_calints.fits` (HD 140986 - *position 5/5 in SGD pattern*)\n",
    "\n",
    "The ERS data used in this tutorial can be downloaded directly from MAST (mast.stsci.edu). The following link provides a shortcut: [1386 MAST data download](https://mast.stsci.edu/portal/Mashup/Clients/Mast/Portal.html?searchQuery=%7B%22service%22%3A%22CAOMBYPROPID%22%2C%22inputText%22%3A%5B%7B%22paramName%22%3A%22proposal_id%22%2C%22niceName%22%3A%22proposal_id%22%2C%22values%22%3A%5B%221386%22%5D%2C%22valString%22%3A%221386%22%2C%22displayString%22%3A%221386%22%2C%22isDate%22%3Afalse%2C%22facetType%22%3A%22discrete%22%7D%5D%2C%22paramsService%22%3A%22Mast.Caom.Filtered%22%2C%22title%22%3A%22Proposal%20ID%20Results%22%2C%22columns%22%3A%22*%22%2C%22caomVersion%22%3Anull%7D).\n",
    "\n",
    "\n",
    "### Reference Files:\n",
    "\n",
    "The `align_refs` step requires a PSFMASK reference file containing a 2D mask that is used as a weight function when computing shifts between images. \n",
    "\n",
    "> File description: https://jwst-pipeline.readthedocs.io/en/latest/jwst/align_refs/description.html#psfmask-reffile\n",
    " \n",
    "\n",
    "### Association File:\n",
    "\n",
    "The `calwebb_coron3` requires the input of an association file (ASN) that lists one or more exposures of a science target and one or more reference PSF targets. The individual target and reference PSF exposures should be in the form of 3D calibrated (“_calints”) products from calwebb_image2 processing. Each pipeline step will loop over the 3D stack of per-integration images contained in each exposure.\n",
    "\n",
    "\n",
    "> Level 3 Associations documentation: https://jwst-pipeline.readthedocs.io/en/latest/jwst/associations/level3_asn_rules.html\n",
    "\n",
    "In this notebook we will use a provided ASN file:\n",
    "\n",
    " - `jw01386-c1027_coron3_00001_asn.json`\n",
    "\n",
    "\n",
    "\n",
    "[Top of Page](#title_ID)"
   ]
  },
  {
   "cell_type": "markdown",
   "metadata": {},
   "source": [
    "<a id=\"imports_ID\"></a>\n",
    "# Imports\n",
    "* `jwst` is the main package for the James Webb Space Telescope (JWST) pipeline.\n",
    "* `jwst.Coron3Pipeline` is the specific pipeline within the `jwst.pipeline` package used to reduce JWST coronagraphic imaging data.\n",
    "\n",
    "* `os` to interact with the operating system.\n",
    "* `glob` to search for files.\n",
    "* `tempfile.TemporaryDirectory` to create a temporary directory for testing.\n",
    "* `numpy` for array calculations and manipulation.\n",
    "* `matplotlib.pyplot` for visualizing data.\n",
    "* `mpl_toolkits.axes_grid1` provides a way to create axes with adjustable size and position.\n",
    "* `astropy.io.fits` for working with FITS files.\n",
    "* `ci_watson.artifactory_helpers.get_bigdata` for downloading the data files from from the Artifactory server.\n",
    "* `pysiaf.Siaf` for accessing the JWST Science Instrument Aperture Files (SIAFs).\n",
    "* `jwst.pipeline.Coron3Pipeline` provides a way to run the JWST Coronagraphic Science pipeline.\n",
    "[Top of Page](#title_ID)"
   ]
  },
  {
   "cell_type": "code",
   "execution_count": null,
   "metadata": {
    "ExecuteTime": {
     "end_time": "2020-09-08T17:28:12.408482Z",
     "start_time": "2020-09-08T17:28:12.394611Z"
    }
   },
   "outputs": [],
   "source": [
    "# Import necessary modules\n",
    "import os\n",
    "import glob\n",
    "from tempfile import TemporaryDirectory\n",
    "\n",
    "import numpy as np\n",
    "import matplotlib as mpl\n",
    "import matplotlib.pyplot as plt\n",
    "from mpl_toolkits.axes_grid1 import make_axes_locatable\n",
    "\n",
    "from astropy.io import fits\n",
    "from astropy.utils.data import download_file\n",
    "\n",
    "from ci_watson.artifactory_helpers import get_bigdata\n",
    "\n",
    "from pysiaf import Siaf\n",
    "\n",
    "import jwst\n",
    "from jwst.pipeline import Coron3Pipeline\n",
    "\n",
    "# Set up notebook for inline plotting and configure inline figures to remain open\n",
    "%matplotlib inline\n",
    "%config InlineBackend.close_figures=False\n",
    "\n",
    "# Set up the CRDS_PATH environment accordingly\n",
    "if 'CRDS_CACHE_TYPE' in os.environ:\n",
    "    if os.environ['CRDS_CACHE_TYPE'] == 'local':\n",
    "        os.environ['CRDS_PATH'] = os.path.join(os.environ['HOME'], 'crds', 'cache')\n",
    "    elif os.path.isdir(os.environ['CRDS_CACHE_TYPE']):\n",
    "        os.environ['CRDS_PATH'] = os.environ['CRDS_CACHE_TYPE']\n",
    "print('CRDS (Calibration Reference Data System) cache location: {}'.format(os.environ['CRDS_PATH']))"
   ]
  },
  {
   "cell_type": "code",
   "execution_count": null,
   "metadata": {
    "ExecuteTime": {
     "end_time": "2020-09-08T17:28:13.123744Z",
     "start_time": "2020-09-08T17:28:13.119915Z"
    }
   },
   "outputs": [],
   "source": [
    "jwst.__version__\n",
    "# should out '1.9.5'"
   ]
  },
  {
   "cell_type": "markdown",
   "metadata": {},
   "source": [
    "<a id=\"data_load\"></a>\n",
    "# Load Input Data"
   ]
  },
  {
   "cell_type": "code",
   "execution_count": null,
   "metadata": {},
   "outputs": [],
   "source": [
    "# Create a temporary directory to hold notebook output, and change the working directory to that directory\n",
    "data_dir = TemporaryDirectory()\n",
    "print(f\"Created temporary directory: {data_dir}\")\n",
    "os.chdir(data_dir.name)\n",
    "print(f\"Changed to temporary directory: {os.getcwd()}\")"
   ]
  },
  {
   "cell_type": "code",
   "execution_count": null,
   "metadata": {},
   "outputs": [],
   "source": [
    "# Copy the test files from Artifactory into the temporary directory\n",
    "data_files = ['jw01386022001_04101_00001_mirimage_calints.fits',\n",
    "              'jw01386023001_04101_00001_mirimage_calints.fits',\n",
    "              'jw01386024001_04101_00001_mirimage_calints.fits',\n",
    "              'jw01386024001_04101_00002_mirimage_calints.fits',\n",
    "              'jw01386024001_04101_00003_mirimage_calints.fits',\n",
    "              'jw01386024001_04101_00004_mirimage_calints.fits',\n",
    "              'jw01386024001_04101_00005_mirimage_calints.fits',\n",
    "              'jw01386-c1027_coron3_00001_asn.json']\n",
    "\n",
    "for f in data_files:\n",
    "    file = get_bigdata('jwst_validation_notebooks',\n",
    "                       'validation_data',\n",
    "                       'calwebb_coron3',\n",
    "                       'coron3_miri_test', f)"
   ]
  },
  {
   "cell_type": "code",
   "execution_count": null,
   "metadata": {},
   "outputs": [],
   "source": [
    "ls"
   ]
  },
  {
   "cell_type": "markdown",
   "metadata": {},
   "source": [
    "[Top of Page](#title_ID)\n",
    "<a id=\"run_pipeline\"></a>\n",
    "\n",
    "\n",
    "------------\n",
    "\n",
    "# Run the Pipeline"
   ]
  },
  {
   "cell_type": "code",
   "execution_count": null,
   "metadata": {},
   "outputs": [],
   "source": [
    "asn_dir = 'jw01386-c1027_coron3_00001_asn.json' # Define ASN file\n",
    "myCoron3Pipeline = Coron3Pipeline()                              \n",
    "myCoron3Pipeline.save_results = True \n",
    "myCoron3Pipeline.klip.truncate = 5 # it's a disk target so we don't want to use many KLIP modes. Default is 50\n",
    "myCoron3Pipeline.output_dir = os.getcwd() \n",
    "myCoron3Pipeline.run(asn_dir) # run pipeline"
   ]
  },
  {
   "cell_type": "markdown",
   "metadata": {},
   "source": [
    "[Top of Page](#title_ID)\n",
    "<a id=\"testing\"></a>\n",
    "--------------\n",
    "# Examine Output Data "
   ]
  },
  {
   "cell_type": "markdown",
   "metadata": {},
   "source": [
    "First, we define some plotting helper functions that will overlay the SIAF aperture boundaries and reference point on the data"
   ]
  },
  {
   "cell_type": "code",
   "execution_count": null,
   "metadata": {},
   "outputs": [],
   "source": [
    "# First, here are some plotting utilities to overlay SIAF information about the subarray\n",
    "# over the images\n",
    "miri_siaf = Siaf(\"MIRI\")\n",
    "aper_name = f'MIRIM_{fits.getval(data_files[0], \"SUBARRAY\", 0)}'\n",
    "\n",
    "def plot_with_aper(img, aper_name=aper_name, ax=None, fig_kws={}, plot_kws={}, cbar_kws={}):\n",
    "    \"\"\"\n",
    "    Plots an image with a specified aperture and reference point overlaid on top.\n",
    "\n",
    "    Parameters\n",
    "    ----------\n",
    "    img : numpy.ndarray\n",
    "        The 2D image data to be plotted.\n",
    "    aper_name : str, optional\n",
    "        The SIAF-searchable name of the aperture to be overlaid.\n",
    "    ax : matplotlib.axes.Axes, optional\n",
    "        The matplotlib axis object to use for plotting. If not provided, a new axis is created.\n",
    "    fig_kws : dict, optional\n",
    "        Additional keyword arguments to pass to the `plt.subplots` function when creating a new axis.\n",
    "    plot_kws : dict, optional\n",
    "        Additional keyword arguments to pass to the `ax.pcolor` function when plotting the image \n",
    "        (e.g. ax.imshow(img, **plot_kws)).\n",
    "\n",
    "    Returns\n",
    "    -------\n",
    "    fig : matplotlib.figure.Figure\n",
    "        The matplotlib figure object.\n",
    "    ax : matplotlib.axes.Axes\n",
    "        The matplotlib axis object used for plotting.\n",
    "    \"\"\"\n",
    "    if ax == None:\n",
    "        fig, ax = plt.subplots(1, 1, **fig_kws)\n",
    "    else:\n",
    "        fig = ax.get_figure()\n",
    "    ax.set_xlabel(\"subarray pixel\")\n",
    "    ax.set_ylabel(\"subarray pixel\")\n",
    "\n",
    "    aper = Siaf(\"MIRI\")[aper_name]\n",
    "    aper.plot(frame='sci', ax=ax, fill=False, mark_ref=True, c='C1')\n",
    "\n",
    "    # using the aperture corner definitions to set the plot coordinates\n",
    "    # ensures that the plotted image will match up with the aperture's \n",
    "    # features, e.g. the reference point\n",
    "    corners = aper.corners('sci')\n",
    "    x, y = np.meshgrid(np.arange(corners[0].min(), corners[0].max()+1, 1),\n",
    "                       np.arange(corners[1].min(), corners[1].max()+1, 1))\n",
    "    \n",
    "    im = ax.pcolor(x, y, img, zorder=-1, **plot_kws)\n",
    "    \n",
    "    lolim, hilim = np.min(corners, axis=1), np.max(corners, axis=1)\n",
    "    ax.set_xlim(lolim[0]-5, hilim[0]+5)\n",
    "    ax.set_ylim(lolim[1]-5, hilim[1]+5)\n",
    "    \n",
    "    # Add colorbar\n",
    "    divider = make_axes_locatable(ax)\n",
    "    cax = divider.append_axes(\"right\", size=\"5%\", pad=0.05)\n",
    "    cbar = plt.colorbar(im, cax=cax, **cbar_kws)\n",
    "    cbar.ax.tick_params(labelsize=8)\n",
    "    return fig, ax\n",
    "\n",
    "def plot_stack_with_aper(images, aper_name=aper_name, fig_kws={}, plot_kws={}):\n",
    "    \"\"\"\n",
    "    Plots a stack of images with a specified aperture overlaid on top.\n",
    "\n",
    "    Parameters\n",
    "    ----------\n",
    "    images : numpy.ndarray\n",
    "        3D stack of image data to be plotted.\n",
    "    aper_name : str, optional\n",
    "        The SIAF-searchable name of the aperture to be overlaid. \n",
    "    fig_kws : dict, optional\n",
    "        Additional keyword arguments to pass to the `plt.subplots` function when creating the figure.\n",
    "    plot_kws : dict, optional\n",
    "        Additional keyword arguments to pass to the `plot_with_aper` function when plotting each image.\n",
    "\n",
    "    Returns\n",
    "    -------\n",
    "    fig : matplotlib.figure.Figure\n",
    "        The matplotlib figure object.\n",
    "    \"\"\"\n",
    "    # initialize the figure\n",
    "    ncols = 2\n",
    "    nrows = np.ceil(images.shape[0]/ncols).astype(int)\n",
    "    fig, axes = plt.subplots(nrows=nrows, ncols=ncols,\n",
    "                             figsize=(6*ncols, 6*nrows),\n",
    "                             squeeze=False)\n",
    "    for index, (ax, img) in enumerate(zip(axes.ravel(), images)):\n",
    "        plot_with_aper(img, aper_name=aper_name, ax=ax, \n",
    "                       fig_kws={}, plot_kws=plot_kws);\n",
    "        \n",
    "    plt.tight_layout()\n",
    "    return fig"
   ]
  },
  {
   "cell_type": "markdown",
   "metadata": {},
   "source": [
    "<a id=\"outlier_detection\"></a>\n",
    "###  `outlier_detection`: (*'_median.fits' and '_crfints.fits' product*)\n",
    "\n",
    "The role of the `outlier_detection` step is to identify and flag any remaining cosmic-rays or other artifacts within the calibrate images left over from previous calibrations. The results of this process have the identical format and content as the input `_calints` products. The only difference is that the DQ arrays have been updated to contain CR flags. \n",
    "\n",
    "*Output*: **CR-Flagged per integration product** <br>\n",
    "*File suffix*: **'_crfints'**\n",
    "\n",
    "> Step description: https://jwst-pipeline.readthedocs.io/en/stable/jwst/outlier_detection/index.html#outlier-detection-step\n",
    "\n",
    "Here let's open one of these CR-flagged products:"
   ]
  },
  {
   "cell_type": "code",
   "execution_count": null,
   "metadata": {},
   "outputs": [],
   "source": [
    "crflag_image_hdu = fits.open('jw01386022001_04101_00001_mirimage_c1027_crfints.fits') \n",
    "crflag_image = crflag_image_hdu[1].data\n",
    "print(crflag_image_hdu.info())"
   ]
  },
  {
   "cell_type": "code",
   "execution_count": null,
   "metadata": {},
   "outputs": [],
   "source": [
    "input_image_hdu = fits.open('jw01386022001_04101_00001_mirimage_calints.fits') # input calibrated per-int product\n",
    "print(\"'_calints' data product dimensions: \"+str(crflag_image_hdu[1].data.shape))\n",
    "print(\"'_crfints' data product dimensions: \"+str(crflag_image.shape))"
   ]
  },
  {
   "cell_type": "markdown",
   "metadata": {},
   "source": [
    "As expected, the `crfints` product has the same format as the `calints` product (*Number of INTS x NX x NY*).\n",
    "The only difference is that the DQ arrays have been updated to contain CR flags:"
   ]
  },
  {
   "cell_type": "code",
   "execution_count": null,
   "metadata": {
    "scrolled": true
   },
   "outputs": [],
   "source": [
    "# subtract the cr-flagged DQ arrays from the input DQ arrays to see the flagged pixels.\n",
    "fig = plot_stack_with_aper(input_image_hdu[3].data - crflag_image_hdu[3].data)"
   ]
  },
  {
   "cell_type": "markdown",
   "metadata": {},
   "source": [
    "----------\n",
    "\n",
    "\n",
    "<a id=\"stack_refs\"></a>\n",
    "###  `stack_refs`:  Stack PSF References (*'_psfstack' product*)\n",
    "\n",
    "The role of the `stack_refs` step is to stack all of the PSF reference exposures (specified in the input ASN file) into a single 3D data cube for use by subsequent coronagraphic steps. The size of the stack should be equal to the sum of the number of integrations in each input PSF exposure.  The image data are simply copied and reformatted and should not be modified in any way.\n",
    "\n",
    "*Output*: **3D PSF Image Stack** <br>\n",
    "*File suffix*: **'_psfstack'**\n",
    "\n",
    "> Step description: https://jwst-pipeline.readthedocs.io/en/latest/jwst/stack_refs/index.html#stack-refs-step"
   ]
  },
  {
   "cell_type": "code",
   "execution_count": null,
   "metadata": {},
   "outputs": [],
   "source": [
    "stacked_cube_hdu = fits.open('jw01386-c1027_t006_miri_f1140c-mask1140_psfstack.fits')\n",
    "stacked_ref_images = stacked_cube_hdu[1].data\n",
    "print(stacked_cube_hdu.info())"
   ]
  },
  {
   "cell_type": "code",
   "execution_count": null,
   "metadata": {},
   "outputs": [],
   "source": [
    "print(\"'_psfstack' data product dimensions: \"+str(stacked_ref_images.shape))"
   ]
  },
  {
   "cell_type": "markdown",
   "metadata": {},
   "source": [
    "Plot just the stacked reference images"
   ]
  },
  {
   "cell_type": "code",
   "execution_count": null,
   "metadata": {
    "scrolled": false
   },
   "outputs": [],
   "source": [
    "vmin, vmax = np.nanquantile(stacked_ref_images[0], [0.01, 0.99])\n",
    "plot_kws = {'vmin':vmin, 'vmax':vmax}\n",
    "fig = plot_stack_with_aper(stacked_ref_images, plot_kws=plot_kws)"
   ]
  },
  {
   "cell_type": "markdown",
   "metadata": {},
   "source": [
    "The `stack_psfs` step has successfully stacked the reference PSF exposures into a single 3D '*_psfstack*' product, with size equal to the sum of the number of integrations in each input PSF exposure. To confirm that the image data has not been modified, the input PSF images are subtracted from each image in the stack below:"
   ]
  },
  {
   "cell_type": "code",
   "execution_count": null,
   "metadata": {},
   "outputs": [],
   "source": [
    "# Gather the input reference images\n",
    "input_ref_data = np.array([fits.getdata(data_files[2]), fits.getdata(data_files[3]), fits.getdata(data_files[4]), \n",
    "                    fits.getdata(data_files[5]), fits.getdata(data_files[6])])\n",
    "\n",
    "input_ref_images = np.concatenate((input_ref_data[0], \n",
    "                         input_ref_data[1], \n",
    "                         input_ref_data[2],\n",
    "                         input_ref_data[3],\n",
    "                         input_ref_data[4],), axis=0)"
   ]
  },
  {
   "cell_type": "code",
   "execution_count": null,
   "metadata": {
    "scrolled": false
   },
   "outputs": [],
   "source": [
    "fig = plot_stack_with_aper(stacked_ref_images - input_ref_images)\n",
    "fig.suptitle(\"Stacked References, Differenced\");"
   ]
  },
  {
   "cell_type": "markdown",
   "metadata": {},
   "source": [
    "-----------\n",
    "\n",
    "<a id=\"align_refs\"></a>\n",
    "\n",
    "\n",
    "### `align_refs`:  Align PSF References (*'_psfalign' product*)\n",
    "\n",
    "The role of the `align_refs` step is to align the coronagraphic PSF images with science target images. It does so by computing the offsets between the science target and reference PSF images and shifts the PSF images into alignment. The output of the `align_refs` step is a 4D data product containing a stack of 2D PSF images aligned to each integration within a corresponding science target exposure.\n",
    "\n",
    "*Output*: **4D aligned PSF Images** <br>\n",
    "*File suffix*: **_psfalign**\n",
    "\n",
    "\n",
    "> Step description: https://jwst-pipeline.readthedocs.io/en/latest/jwst/align_refs/index.html#align-refs-step"
   ]
  },
  {
   "cell_type": "code",
   "execution_count": null,
   "metadata": {
    "ExecuteTime": {
     "end_time": "2020-08-31T18:35:48.328170Z",
     "start_time": "2020-08-31T18:35:48.316312Z"
    },
    "scrolled": true
   },
   "outputs": [],
   "source": [
    "aligned_cube_hdu = fits.open('jw01386023001_04101_00001_mirimage_c1027_psfalign.fits')\n",
    "aligned_cube_hdu.info()"
   ]
  },
  {
   "cell_type": "code",
   "execution_count": null,
   "metadata": {
    "ExecuteTime": {
     "end_time": "2020-08-31T18:35:48.597673Z",
     "start_time": "2020-08-31T18:35:48.586235Z"
    }
   },
   "outputs": [],
   "source": [
    "aligned_cube_data = (aligned_cube_hdu[1].data)\n",
    "print(\"'_psfalign' data product dimensions: \" + str(aligned_cube_data.shape))"
   ]
  },
  {
   "cell_type": "code",
   "execution_count": null,
   "metadata": {
    "ExecuteTime": {
     "end_time": "2020-08-31T18:35:53.119967Z",
     "start_time": "2020-08-31T18:35:52.053077Z"
    },
    "scrolled": true
   },
   "outputs": [],
   "source": [
    "# cubes after alignment\n",
    "aligned_images = aligned_cube_data[0]\n",
    "\n",
    "vmin, vmax = np.nanquantile(aligned_images[0], [0.01, 0.99])\n",
    "plot_kws = {'vmin':vmin, 'vmax':vmax}\n",
    "fig = plot_stack_with_aper(aligned_images, plot_kws=plot_kws)\n",
    "#fig.suptitle(\"Aligned References\");"
   ]
  },
  {
   "cell_type": "markdown",
   "metadata": {},
   "source": [
    "Show the aligned images, each differenced against the one before it (the first image is shown as normal)"
   ]
  },
  {
   "cell_type": "code",
   "execution_count": null,
   "metadata": {
    "ExecuteTime": {
     "end_time": "2020-08-31T18:35:18.791123Z",
     "start_time": "2020-08-31T18:35:18.210435Z"
    }
   },
   "outputs": [],
   "source": [
    "# subtract each aligned image from the one before it\n",
    "diff_images = np.diff(aligned_cube_data[0], axis=0, prepend=0)\n",
    "\n",
    "#vmin, vmax = np.nanquantile(diff_images[0], [0.01, 0.99])\n",
    "plot_kws = {}\n",
    "fig = plot_stack_with_aper(diff_images, plot_kws=plot_kws)\n",
    "#fig.suptitle(\"Aligned References, Differenced\");"
   ]
  },
  {
   "cell_type": "markdown",
   "metadata": {},
   "source": [
    "The `align_refs` step has successfully aligned the psf images - note the smaller residuals in the difference images. The first integration of each exposure is systematically different due to RSCD.\n",
    " \n",
    "The output is indeed a 4D '*_psfalign*' product, where the 3rd axis has length equal to the total number of per-integration reference images in the input PSF stack (20) and 4th axis equal to the number of integrations in the input science target image (6). "
   ]
  },
  {
   "cell_type": "markdown",
   "metadata": {},
   "source": [
    "------------\n",
    "<a id=\"klip\"></a>\n",
    "### `klip`:  Reference PSF Subtraction\n",
    "\n",
    "The role of the `klip` step is to apply the Karhunen-Loeve Image Plane (KLIP) algorithm on the science target images, using an accompanying set of aligned reference PSF images (result of the `align_refs` step) in order to fit and subtract an optimal PSF from the science target image. The PSF fitting and subtraction is applied to each integration image independently. The output is a 3D stack of PSF-subtracted images of the science target, having the same dimensions as the input science target product.\n",
    "\n",
    "*Output*: **3D PSF-subtracted image** <br>\n",
    "*File suffix*: **_psfsub**\n",
    "\n",
    "> Step description: https://jwst-pipeline.readthedocs.io/en/latest/jwst/klip/index.html#klip-step\n"
   ]
  },
  {
   "cell_type": "code",
   "execution_count": null,
   "metadata": {
    "ExecuteTime": {
     "end_time": "2020-08-31T18:36:06.307919Z",
     "start_time": "2020-08-31T18:36:06.293375Z"
    }
   },
   "outputs": [],
   "source": [
    "sub_hdu = fits.open('jw01386022001_04101_00001_mirimage_c1027_psfsub.fits')\n",
    "sub_hdu.info()"
   ]
  },
  {
   "cell_type": "code",
   "execution_count": null,
   "metadata": {
    "ExecuteTime": {
     "end_time": "2020-08-31T18:36:06.584047Z",
     "start_time": "2020-08-31T18:36:06.573619Z"
    },
    "tags": []
   },
   "outputs": [],
   "source": [
    "subtracted_image = sub_hdu[1].data\n",
    "print(\"Science target image dimensions: \" + str(fits.getdata('jw01386022001_04101_00001_mirimage_c1027_crfints.fits', 'SCI').shape))\n",
    "print(\"PSF subtracted image dimensions: \" + str(subtracted_image.shape))"
   ]
  },
  {
   "cell_type": "markdown",
   "metadata": {},
   "source": [
    "Note that the PSF subtracted image has the same dimensions as the input target image."
   ]
  },
  {
   "cell_type": "code",
   "execution_count": null,
   "metadata": {},
   "outputs": [],
   "source": [
    "vmin, vmax = np.nanquantile(subtracted_image[0], [0.01, 0.99])"
   ]
  },
  {
   "cell_type": "code",
   "execution_count": null,
   "metadata": {
    "scrolled": false
   },
   "outputs": [],
   "source": [
    "fig, ax = plt.subplots(1, 1, figsize=(8,8))\n",
    "fig, ax = plot_with_aper(subtracted_image[0], aper_name=aper_name, ax=ax, plot_kws={'vmin':vmin, 'vmax':vmax})\n",
    "ax.set_title(\"PSF subtracted image, Roll 1\")"
   ]
  },
  {
   "cell_type": "markdown",
   "metadata": {},
   "source": [
    "The `klip` step has successfully made a synthetic psf reference image and subtracted it from the target PSF. The output is a 3D data array containing a stack of 2D PSF-subtracted science target images, one per integration."
   ]
  },
  {
   "cell_type": "markdown",
   "metadata": {},
   "source": [
    "------------------------------------------------------\n",
    "<a id=\"resample\"></a>\n",
    "### `resample`: Image resampling\n",
    "\n",
    "The role of the `resample` step is to combine the PSF-subtracted and CR-flagged images into a single resampled image. The `resample` routine will resample each input 2D image based on the WCS and distortion information and will combine multiple resampled images into a single undistorted product for the science target.  \n",
    "\n",
    "*Output*: **2D resampled Images**</br>\n",
    "*File Suffix*: **_i2d**\n",
    "\n",
    "\n",
    "> Step description: https://jwst-pipeline.readthedocs.io/en/latest/jwst/resample/index.html#resample-step\n"
   ]
  },
  {
   "cell_type": "code",
   "execution_count": null,
   "metadata": {},
   "outputs": [],
   "source": [
    "res_hdu = fits.open('jw01386-c1027_t006_miri_f1140c-mask1140_i2d.fits')\n",
    "res_hdu.info()"
   ]
  },
  {
   "cell_type": "code",
   "execution_count": null,
   "metadata": {},
   "outputs": [],
   "source": [
    "resampled_image = res_hdu[1].data\n",
    "print(\"Resampled image dimensions: \" + str(resampled_image.shape))"
   ]
  },
  {
   "cell_type": "code",
   "execution_count": null,
   "metadata": {},
   "outputs": [],
   "source": [
    "vmin, vmax = np.nanquantile(resampled_image, [0.01, 0.99])\n",
    "fig, ax = plt.subplots(1, 1, figsize=(8,8))\n",
    "im = plt.imshow(resampled_image, vmin=vmin, vmax=vmax, origin='lower')\n",
    "# Add colorbar\n",
    "divider = make_axes_locatable(ax)\n",
    "cax = divider.append_axes(\"right\", size=\"5%\", pad=0.05)\n",
    "cbar = plt.colorbar(im, cax=cax)\n",
    "cbar.ax.tick_params(labelsize=8)"
   ]
  },
  {
   "cell_type": "markdown",
   "metadata": {},
   "source": [
    "[Top of Page](#title_ID)\n",
    "<br>\n",
    "<a id=\"future_tests\"></a>\n",
    "--------------------"
   ]
  },
  {
   "cell_type": "markdown",
   "metadata": {},
   "source": [
    "<a id=\"about\"></a>\n",
    "## About this Notebook\n",
    "**Authors:** \n",
    "- Bryony F. Nickson (Staff Scientist, *MIRI Branch*) \n",
    "- J. Brendan Hagan\n",
    "- Jonathan Aguilar (Staff Scientist, *MIRI Branch*)\n",
    "\n",
    "<br> **Updated On:** 21/12/2022\n",
    "\n",
    "[Top of Page](#title_ID)"
   ]
  }
 ],
 "metadata": {
  "kernelspec": {
   "display_name": "Python [conda env:jwst_validation_notebooks] *",
   "language": "python",
   "name": "conda-env-jwst_validation_notebooks-py"
  },
  "language_info": {
   "codemirror_mode": {
    "name": "ipython",
    "version": 3
   },
   "file_extension": ".py",
   "mimetype": "text/x-python",
   "name": "python",
   "nbconvert_exporter": "python",
   "pygments_lexer": "ipython3",
   "version": "3.9.13"
  },
  "toc": {
   "base_numbering": 1,
   "nav_menu": {},
   "number_sections": true,
   "sideBar": true,
   "skip_h1_title": false,
   "title_cell": "Table of Contents",
   "title_sidebar": "Contents",
   "toc_cell": false,
   "toc_position": {},
   "toc_section_display": true,
   "toc_window_display": false
  },
  "varInspector": {
   "cols": {
    "lenName": 16,
    "lenType": 16,
    "lenVar": 40
   },
   "kernels_config": {
    "python": {
     "delete_cmd_postfix": "",
     "delete_cmd_prefix": "del ",
     "library": "var_list.py",
     "varRefreshCmd": "print(var_dic_list())"
    },
    "r": {
     "delete_cmd_postfix": ") ",
     "delete_cmd_prefix": "rm(",
     "library": "var_list.r",
     "varRefreshCmd": "cat(var_dic_list()) "
    }
   },
   "types_to_exclude": [
    "module",
    "function",
    "builtin_function_or_method",
    "instance",
    "_Feature"
   ],
   "window_display": false
  },
  "widgets": {
   "application/vnd.jupyter.widget-state+json": {
    "state": {
     "1d8f3b251d334880a67ff65b66497f95": {
      "model_module": "@jupyter-widgets/base",
      "model_module_version": "1.2.0",
      "model_name": "LayoutModel",
      "state": {}
     },
     "3b68a2df6fb441bd96b821c008a1466b": {
      "model_module": "@jupyter-widgets/controls",
      "model_module_version": "1.5.0",
      "model_name": "VBoxModel",
      "state": {
       "children": [
        "IPY_MODEL_d7390a4e1c7c44edb4404b96ba8d9f07",
        "IPY_MODEL_e4653f73e0b843cebd2a2eca7dbece73"
       ],
       "layout": "IPY_MODEL_b1941a1f7fbc4b959fa8c6f637121058"
      }
     },
     "430261ff8cd2400582e5570e6a6873cc": {
      "model_module": "@jupyter-widgets/controls",
      "model_module_version": "1.5.0",
      "model_name": "ButtonModel",
      "state": {
       "description": "Next",
       "layout": "IPY_MODEL_a0ad8c629a3b4330b4465c842d0e3162",
       "style": "IPY_MODEL_449ed466880e445ebea85bfb397c1db4"
      }
     },
     "449ed466880e445ebea85bfb397c1db4": {
      "model_module": "@jupyter-widgets/controls",
      "model_module_version": "1.5.0",
      "model_name": "ButtonStyleModel",
      "state": {}
     },
     "76b4e2cc5d074bf1ab6d7242b8ff09ba": {
      "model_module": "@jupyter-widgets/base",
      "model_module_version": "1.2.0",
      "model_name": "LayoutModel",
      "state": {}
     },
     "8644da66fef74a7db8632207f1ec182c": {
      "model_module": "@jupyter-widgets/controls",
      "model_module_version": "1.5.0",
      "model_name": "ButtonStyleModel",
      "state": {}
     },
     "a0ad8c629a3b4330b4465c842d0e3162": {
      "model_module": "@jupyter-widgets/base",
      "model_module_version": "1.2.0",
      "model_name": "LayoutModel",
      "state": {}
     },
     "aecd520a57024a6a8840a8118fb6546a": {
      "model_module": "@jupyter-widgets/base",
      "model_module_version": "1.2.0",
      "model_name": "LayoutModel",
      "state": {}
     },
     "aeeeae3cef1b4cbb8b1c35baa020b44c": {
      "model_module": "@jupyter-widgets/base",
      "model_module_version": "1.2.0",
      "model_name": "LayoutModel",
      "state": {}
     },
     "b1941a1f7fbc4b959fa8c6f637121058": {
      "model_module": "@jupyter-widgets/base",
      "model_module_version": "1.2.0",
      "model_name": "LayoutModel",
      "state": {}
     },
     "d7390a4e1c7c44edb4404b96ba8d9f07": {
      "model_module": "@jupyter-widgets/output",
      "model_module_version": "1.0.0",
      "model_name": "OutputModel",
      "state": {
       "layout": "IPY_MODEL_1d8f3b251d334880a67ff65b66497f95",
       "outputs": [
        {
         "data": {
          "image/png": "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\n",
          "text/plain": "<Figure size 432x288 with 1 Axes>"
         },
         "metadata": {
          "needs_background": "light"
         },
         "output_type": "display_data"
        }
       ]
      }
     },
     "e45906767a6543e4b8a4af0d61c7a5c0": {
      "model_module": "@jupyter-widgets/controls",
      "model_module_version": "1.5.0",
      "model_name": "VBoxModel",
      "state": {
       "children": [
        "IPY_MODEL_f0812526ae1f4246882f947d294b0b47",
        "IPY_MODEL_430261ff8cd2400582e5570e6a6873cc"
       ],
       "layout": "IPY_MODEL_aecd520a57024a6a8840a8118fb6546a"
      }
     },
     "e4653f73e0b843cebd2a2eca7dbece73": {
      "model_module": "@jupyter-widgets/controls",
      "model_module_version": "1.5.0",
      "model_name": "ButtonModel",
      "state": {
       "description": "Next",
       "layout": "IPY_MODEL_76b4e2cc5d074bf1ab6d7242b8ff09ba",
       "style": "IPY_MODEL_8644da66fef74a7db8632207f1ec182c"
      }
     },
     "f0812526ae1f4246882f947d294b0b47": {
      "model_module": "@jupyter-widgets/output",
      "model_module_version": "1.0.0",
      "model_name": "OutputModel",
      "state": {
       "layout": "IPY_MODEL_aeeeae3cef1b4cbb8b1c35baa020b44c",
       "outputs": [
        {
         "data": {
          "image/png": "iVBORw0KGgoAAAANSUhEUgAAAUAAAAD8CAYAAAAG730QAAAABHNCSVQICAgIfAhkiAAAAAlwSFlzAAALEgAACxIB0t1+/AAAADh0RVh0U29mdHdhcmUAbWF0cGxvdGxpYiB2ZXJzaW9uMy4xLjMsIGh0dHA6Ly9tYXRwbG90bGliLm9yZy+AADFEAAAgAElEQVR4nOzdd5xddZ34/9fnlNvrzJ3eZzKT3kMKTSEQUEQEwY6uIiis+7N93dXVddXV3fWHK7oWBL4oqKig4AqKCEYQCC2kkDbJJJlJMr3P3F7OOZ/vH3cIiQllUyiZz/PxyOPOPfVz75m853zOp7yFlBJFUZTpSHutC6AoivJaUQFQUZRpSwVARVGmLRUAFUWZtlQAVBRl2lIBUFGUaeukBUAhxIVCiF1CiD1CiM+frPMoiqIcK3Ey+gEKIXSgAzgf6AHWA++VUu444SdTFEU5RifrDnA5sEdK2SmlzAO/Ai45SedSFEU5JsZJOm4N0H3I+x5gxYtt7BJu6cF/koqiKMp0lmB8REpZdrR1JysAiqMsO6yuLYS4BrgGwIOPFWL1SSqKoijT2Z/lb/a/2LqTVQXuAeoOeV8L9B26gZTyZinlMinlMhP3SSqGoijKiztZAXA90CqEaBJCuID3APeepHMpiqIck5NSBZZSWkKITwB/AnTgx1LK7SfjXIqiKMfqZD0DREp5P3D/yTq+oijK8VIjQRRFmbZUAFQUZdpSAVBRlGlLBUBFUaYtFQAVRZm2VABUFGXaUgFQUZRpSwVARVGmLRUAFUWZtlQAVBRl2lIBUFGUaUsFQEVRpi0VABVFmbZUAFQUZdpSAVBRlGnrmAOgEKJOCPGwEKJdCLFdCPHJqeVfEUL0CiE2T/1764krrqIoyolzPBOiWsBnpZQbhRBBYIMQ4qGpdTdIKb91/MVTFEU5eY45AEop+4H+qZ8TQoh2iukwFUVR3hBOyDNAIUQjsBh4emrRJ4QQW4QQPxZCRE/EORRFUU604w6AQogAcDfwKSllHLgRaAEWUbxD/K8X2e8aIcSzQohnC+SOtxiKoij/a8cVAIUQJsXgd4eU8h4AKeWglNKWUjrALcDyo+2r8gIrivJaO55WYAHcCrRLKb99yPKqQza7FNh27MVTFEU5eY6nFfgM4EpgqxBi89SyfwbeK4RYBEhgH/Cx4yqhoijKSXI8rcCPA+Ioq1QuYEVR3hDUSBBFUaYtFQAVRZm2VABUFGXaUgFQUZRpSwVARVGmLRUAFUWZtlQAVBRl2lIBUFGUaUsFQEVRpi0VABVFmbZUAFQUZdpSAVBRlGlLBUBFUaYtFQAVRZm2VABUFGXaUgFQUZRp63hmhEYIsQ9IADZgSSmXCSFKgDuBRoozQr9LSjl+fMVUFEU58U7EHeA5UspFUsplU+8/D6yVUrYCa6feK4qivO6cjCrwJcDtUz/fDrzjJJxDURTluB1vAJTAg0KIDUKIa6aWVUgp+wGmXsuPtqPKC6woymvtuJ4BAmdIKfuEEOXAQ0KIna90RynlzcDNACFRIo+zHIqiKP9rx3UHKKXsm3odAn5LMQn64PO5gadeh463kIqiKCfD8SRG9wshgs//DKyhmAT9XuBDU5t9CPjd8RZSURTlZDieKnAF8FshxPPH+YWU8gEhxHrgLiHEVcAB4IrjL6aiKMqJdzyJ0TuBhUdZPgqsPp5CKYqivBrUSBBFUaYtFQAVRZm2VABUFGXaUgFQUZRpSwVARVGmLRUAFUWZtlQAVBRl2lIBUFGUaUsFQEVRpi0VABVFmbZUAFQUZdpSAVBRlGlLBUBFUaYtFQAVRZm2VABUFGXaOub5AIUQMynm/31eM/BlIAJcDQxPLf9nKeX9x1xC5RXTy8qQFaVok0mc0TGcdBq9ohx7cAijqhJnMo6TTgOg+XxI20YYBlokDG4XzmDxkmnRCFZPL3pFObm5dWi2gzmcwt7RgXPWYnKlJsIC/6M7wetBeNw4w6PkV85GSMlko5uyJ4bBcbBLA1h+E2PthhcKKgT6rBnY7bsRy+Yhn92G3tqMvbsTls9HyxZwtuzEaG7E8XkQvYPImgrY34sWCiL93uJh4knwuJGTCUTAT76xDFfvOIkF5UghCHQlAJCGRqrOT2hjH2ga2aYY7i37SK9oxrdnHHvXnlf3QimvG8d8Byil3DWVD3gRsBRIU8wLAnDD8+tU8HsVlYRhzz5kIoFWUVZcZlkItxuZyaCFggBowWAxOJaXYS1pw+rtwy4NYi1uhRn1OJNxjJpqhMuFlreJN3jI1oYwGutx9Yzh++NzBLYNIEqjkC8gU2nQdaQG5niW6K40zr5uZHcflt8ECdbqpQCIZfNASuz23eilJWgdB9AWzMLe04Xm86Hv7UXqOvrsVqShI906uSXNaKMTCCFwSkM4nfsR+QJOIgmWjcznkR4XZv8E1r5ufPtTaJZkcmYIbXAMubGd4M4xnEgA6XGh52yE34e3J4njc79WV0t5HThRVeDVwF4p5f4TdDzlGMiefkRtFfbEJHYsVLyrGhsH2wbAGhhEmC60cAixeC4ArgMjxTstl47ZfgBhOch8HlwmTmmIeJOXQG+eQkAnOa+yeJc4Zwbk8pDJkl/UBNEw2DbupzvQBscwBybJnrsAEQxSCOhMNrlwb9hTDHjdQ+izWzEqK7DHJxF+H2JfH0ZDXfHuLl9AOA4TC0oZOb0cfSwJQL6tqhhkd3WhV1YgM1m0YACEQLhcSLcLRieK5zjQj799mPB9W7D6B9DmtCLiKcT+PuydezD39mPt70YcGIBtu1+z66W89o43Lebz3gP88pD3nxBCfBB4FvislHL8BJ1HeQlOKoWRLFZx5YYdyPltsGI+WjyLGI+jGwYyl8fq6YWeXixNx3rzIlwjKbRn25GGgbN9F3okDFIiugco6diHnNmElndhbtsHLhMJxaqnrpEtNdHyIbSIv3jOTAZpWXiHR8FlouUlegHSq9rwHYgTnxUh9FA7VjyO3taCdBxkWQR7y06M2hq0gB97+27Cog2RK+AEvbiebEfObSl+rnweWShgDw4hVy0kXePB15vFHJzEGh9Hb2tB5AsUykOY2TxOOo2zbSdy6VykGUPqGvRPYDTUYR3oAakysk5nx30HKIRwAW8Hfj216EagBVgE9AP/9SL7qcToJ5IQaPNmFX80XRjVlVghD/pkBiwbu7KUwqw6tEgYo6qyuI9j497UibOlmM65cNrMYtU3GsEZHQfDAMdBbtqOuWN/8c5QaOjjCbLNMcZWVuDvyZCudKNNpHDOWkD2gsVoC2cjDAMRCuLbM4p70iZZY9B9USnBvQms+c3oFeVInxs0jVy5v/gsMOjDGZ9AKy1BFGxy1SHSDSEKK2Yh8hbJN7Wiud0QCcHKBRRCJvEGnclWH+nWGEZVJXbHXmQyhZ7MIcMB9Fgp+QtPQ0tkEbZErNuMMzAEmoY8/YiUNso0cyKqwG8BNkopBwGklINSSltK6QC3UMwVfAQp5c1SymVSymUm6jnMiZCtDYJhIGY2gxAYm/cgTR10DX0sjqtrCOk2sQYGATAa6uD5hpCWBtx7Bhm4qIFMaxk01EC+gBYrRVs0B5lKIxprQdeQmSzu/WNoFqSrvQT2p2BsAhywvBo9a6LEV7dBJou9uxOpCcyUxPJB/1kRpCaQyRQilSXdUkL3GheF/4zT8dFSnAWtyHQGcnnMiSz+XaPkoiaZ2gBm3EbaDiKXR0vnGZ3rIjEnT6JBoOcdZCiA0VhPYVZdMdjFUzh1lfh2DeGEfaRrphpPmuqwSwIYI0nEafOLX14xu6EyzZyIAPheDqn+Pp8UfcqlFHMFK68Cy6cx+JZ68uV+KBQQlWUUSnyIeAqZTFFoLAfTQC8vNpAUakuhrgppWTh794NlEe7M4xgCx2eSX9SE9Lhg9/7is7rJJE5dJXIyjihYRDYM4b9vEwiBPT5JNuZiaJlGsskiG9Wwq2IABDsmSNZpZGsKWD6YaPWgxUoQyTRDS0zWvfdbrJ1zL3ve+yN2X+nDXtCCvacLfXACeaAXz1AOX9ck7sFkscU57Edk8phJiavfxPZIxma6kW4DaehYfgMr5EFmc2h5C6lr6KMJ/J1x9NmtOLv2omUKSLeB1tlb/PJUVXhaOq5ngEIIH3A+8LFDFv//QohFgAT2/c065WSRkkBnAmQQ99YDWMPDaAk/7mQaq38AvawMs3MAq3+A8Q+tItpegbG1E2lZxd1zOayBQTzhINLrQqRzFCJRRDaPnUphVJThBDzYARdmUx2O20SaOrKQR9vRiV5XjeUVFMoKlFVOkuwrw4q4cc2diTQ0Kp/O0LciT64khG8Q0rMqcI9ksIKSct1/8GNUtQ4Tbywn/KSOLBSQloWwJfnyAOZTO3CyWYzRODLoQ+oQ6YBQZwYjnkXu2INWV4N3QxeUl2IPD2P4vYycVYNnwsY9ksMcmECvqyFf6mdihoeynAWjY6/VVVNeY8cVAKWUaaD0b5ZdeVwlUo6ZNjiGO+IB6VBYswzPhk6cZAq9rQV0DedAHyMfW4WWh/gMP6J5DkgQEsyUTS6sE/rl0xjVVVg1pXh3DxcDzaqF5F0aYzM9xJvB1+8ltjUHAtyzW2FgBGdkDGHXECpNUR8aZ3O0FEcX2Nt3FVucHbAsHas8TzLpxpXU8W0ZpepxP3dfFuKdgTgAZd4U8WELozyGzOURXi/a+u0YLY3kV85Bf2QjMpeHoI/y9Ynis8egD200jg1g2Qi3G2dfD2g6cmwC71gFRspGK9hIl4njc2OOpQl2a+rOb5pTI0FOIfmWSvSsRWF2Pd6OIezRMXIr2sg0RZEH+hBV5ehZyJYJhk6DfFCgFyTJao14vYF70i720asqQTzXgR0JkG6OoBVsxls9ZNYkqFo8QLLRYaLVhWswhUikscfH0WIlGDmH6C0Bdo2UE+zUSNa6MBrqEB37cHWPEvuNF7I6tksyOkdHBnz4uyb5ys0fOPgZdvRXkC4zkIUCVJWBbaM1NyA9Jub6XcWO3cPDiFwBrXsIp7sPLVdsFdbrapCJBFZvH1pZKTg2uExc43kyZSbS0BD5AlrfMLnKAO6hFAwMv8Q3qpzqTlQ3GOW1JgTm7j7swSHyFy8nXVmFtymGd/cQ8SXV2AtnYHT04BuOob17nOyWMsbnSlITOp4hmJwpkZqJ64OriPz0yWJL7oF+PFoVmSo/iSa4YsZzOFLwx6ybyO/9yJ17sBfPRg8H6HtTKVW/3g2aQM/UEW+QhPdmkeOTaCVREAJ/b5b6+92kKkHPSezSAPmwi8r1GeZ+7zoASg44BA/ksGbVY3T0Yi2dSSFg4HloE9KR6C7X1J3dOPbEJPrMGTA6gfB6sbr2Y9RUw8QkAPrMGcj9PRjbuggPlcLoBNnFzeRKDPSsxAUUFjSjPb75NbxwymtJ3QGeKqTEHhwCIB/QSFfoADjRIEbGQctYyNoKfF0TJB4rxzMiiG4VRHc6FEKAhHwYStePoEejaIkM2aXNZKr9GBkbPSN4dHAGi/z7mRgOkK4w0dqayZZ72HldBDSQ1cVGD/dAgmhHBnMsjZ1IID0urIowZucARtqmZHsaywtjs/2YiQLGxj3U/scTNNw7Snh3CnMkSarGw8S5LQys8OLbP4kW8KP5fVBWglEeQ0TCaH4/9q49yMk4TmJq2Fui2HHa2t9dHC2SzYKuQyKFrK/ENZIi/FQP/qe7oGMfRkJ1wZrOVAA8hRiVFdjnLKHgE6QrJSPzPTguHdstGF0UIhfz4vhcxLZZaBaUPzFCeNsEoS6HwH6NyqdziEQaXCbjyyuZaDExkxbugSQV6/OMPF7Fl3/1PoQhCe9KYO/oYGCFgaciRbpCUoh6iwGoZwCARFsEVswHKTGG4tij45iPbgUJ5U9N4I47SFMjv7yt+AEsG71rgFRLlMkmjWy02DXFCnuR+UJxRMt4HGlZ2L0DaNEIQDHIUez/6OSKAc2oqQbHQVswCxENI6tiSKP4656bUVGsRjfXY/tcr+YlUl5nVAA8VWg6I2ua0XI27rhD/UNZInsKWEEX7tE8kT1ZNEtie028Axkqnknh+Fxo43GiT/VS9dgkWt7BrojgjI4RfbwbPQeDp3lItoZxTeYRFpx1wRbEhIk+UBzcU/twjlzWxApI+ld5KCwvdsbW8jYFn8D2GPS+rQorFkRrqkPoGuLJ59DGEoS2jmBM5tCzNkZDHdJtMHrhDAD8fZJgj01sWwHx5HOIumqcdBoR9JNd0oTWWIvV23fw4wvDKLZIN9djNNYXA7HtICyHkTOrsL0mWmcfomDj2lic/ECkMmiW8ypfKOX1RD0DPFVIB/9AAQD3pI2wiq2b7m3dEA4Wx8zm8sVtNQ3CfrRsHkwDa98B2A+ctRgtU8C2LFILqvGO2SB1MlGdXMhP8Kwhrip7lMxyk/a3zab855PIvEPkUS9mWpIPSIYXegjGZpMq13ElJIWAQaLJIdHkp/pRH0ZrCXrGQd+4Bzk2jszl0GfNINtSjuXXMTMOrkQBf9ckDI4gayuwz1iEBWi+ueQibjwbuxCBqa4zQmBUlGOPTg2DS2aQIT+MTTD4lnp8QzbuSRuzawBrMo5eVYYoiWBMTeSAowLgdKbuAE8VQmO8zUW82Yu3YwgtZ+EZyiAn49i7O7FK/DghH3JsAqtzH/pYHJHN40QCABi1NRiJHImZUfIXnobv6b0Edo2TrhTkSgQTF6V4e+1WVnp0/rP290gBor4asW4zlX/up+ATFEKCxNIs7/3a/Vx0zWMMnW7jmsjjHtPQYjnG23TidQb9q9xQXYGTSiHmtTG+MELfmW7G2wyGF2kcON9DvswPtgN7u8mVuBhv85Iv9eDqmcAeGQUpi917pATTBE0gChZWdw/29l0MvH8uviEb261hpOzi6BfHxnGboGmMnFWNVRdD2z/wGl845bWk7gBPIXpGEtyfKwYOwHHpaHNbyMe8xb5+3SNYsxow+seLo0AAYTuIZfOwN+9EC/oIbR5AJpLIbI5McwQjDbFtObrmm/xzbBcAH93z7uJwtp4BjNoa7O4+fMMVxN+c45YVP2O11wa6qTg7zk/XvxV/nySzIM/St+9l/Z/mYcZBZHLoFeVQsMmUaTA/QWP5MNv2VRN61kOm3IWrMoaWzDAyzyC2zcJIW4hsHn12K1b77kPGNDs4S2eRrPbgbo7h6Rql8tExClEv+YgLc+1GxGnz0fb0kK72MXl6mMrHx8lWBfBksq/FpVJeJ1QAPFU4NmXrx0k3hDAzGbS4G01KknNjJGoMXAnJZGM9pdvS2BURpIBC2KT/dINgJ5Q+a4EjyTbHkHpxqFw+qFP91wmyFT7cXS80FuwbKSE2aBdbXptr0XUNI21jJc2p4Ff0D9H93LDEoe32NB1nurmgZDvrInNo/O0kZLIITWNoRQnaOWNU+9Ns29JAtHGcUIdGotZEpLPYsTDuCUk6puM7kCc9pxIjayMiC3G27EGevpD293lAghHL4l/nJ+wpI1ltUP7bDrSRUfRolILPIL+0GSkEkb0FHK+Jt2scGmth+65X/XIprw8qAJ5CRP8o/n192PE4uu3gJBIEpARZRqLGIFMB2VI/9fePo23Yjn7uEnx9xc7QYx9eRWzTJBMtLiZmSWrmDjKwqxzvkJdCQMfySb452so8bzeh+wO4EgUGPnU6oQM2gT0SM1Fg1g8LtHg/zN7VP3mhTJE8cv1Wan+7nH+R76D6MYk4MFCcUquqDCSEvVlsR8PXo5PridFzjiS6E+T4JLoQmMkQ7nixk/bwIheZSodIu6BipAKpCYzSLB1vup0NuTz/Vn0xu//UQuPPDmCNjAIUO2r/dRwN8IRCiGAADB1rfzd6aclrcq2U1wf1DPAUIlwm1BarhcLnLXYXiQVxDEH1A33U/TlDtMMmW+lHmzuTTMwEAUhI1Qh6zo8w2Sa5+9Lv8uj83/L58+9DKzi4EjZWxOJdoU3cObyc4IE8I9eleOiz11P46CjxmWG0jIWzeQcNP9Npe/SDB8tkmDasXIB7JE/ZWhehv3Qg/D7QNdJNYd72qb/y01k/J+DKUbUuTbjTRjjFUSrUVoJl407YWF6NoZVRUi0FZi46gGMKkJJcqYszmjoBWOp2MZHzEt7rkGspBzgY4MTSuegV5cXgJwTWgZ5iFVrTX92LpLyuqDvAU0hiWS2ZUp1I2WLk9gMAGL1jeLzlOAEPejqPnjfpP90FIoqwBWYShlc6NP+6gNQEIwvcPJSawyL3XvxajtF5HqK78sRq4nx41wc40F9CeJabLctvBfwM9kZpmrQZnxdi9P0rKdsAtT+GpsxVbD7/+yyt7WZyKMz48kpCXRmsWfUkmryYaYfhBQYXBLdSbwSYGRxke6YE77BG3VpRnAChIoAW8ZKs0inbkMRp9aMndNr3VhMygYk4wQ15xnM+AO5IlJLKu8hXa0S2JLDOWITYP5XnJJnDaq4i3uLFPeHgD/lJ14dxPbjxNbpayuuBkK+DweAhUSJXiNWvdTHe2ITAfvNiBlZ4kAIab+vEri5FWA6234WxrThDSnJeGd0XwLdW/4q+QpTfD8yno7MKM5ijLJIk+UAlrrgk0FtgZL6Lkp0W/vX7SC9rwPJohB7vYt/VM/jFVTfw3cHz2PPNOZR9upN7Zjx0sCiL/uM6PGMOrg8O4vlaGMel8ec7fkzrz6+l+Z4UC364lesrNwHQ9tcPITp9VC/vY39fKS23OBjxLNp4Ehn00XV5DCsgCewXRPbk8XbH6T8nRun2LHq6gL63F2tWPdozO9AiYWQ2S+KCOQyepiEklD/rYHkEJRvHsEMexmf6GT0vS+QxD75hB1fcKiZsEkJNjHCK+rP8zQYp5bKjrVN3gKcQy6cT6nJwJW2k46D3jSILBcTIKI7bjZZIYSRL0DImN3efza2tv+LbT51PYJfJ1s/cUjzIAji//WKyP6im+vEkUgiIRfE/14dMpUmvnIE1N8U+q5QnHppHqUseFvwAvKMOp31mA/9e+Rhr6j5Furz4pGX3B27k3AevOhj8ADredDsr//BxCpsqCTTodL7TIXDAh5mMkosKFl/QzmAmyNi+WmyvRvvngkRKxshcnEfeVk70gInZN461dBYynSc+M4z+0SFKbZ35pf2srZ6Ja58b90QEb28KxwW+rV78QxZaTpKocxEFFfymKRUATxVS4v7DerzBIKKyOIuKk84gfMVZkFnQBp29uEazlM6M86fZv6c9r+GLZAh2G7Tn08x2FauSd7Xdybv7r0UfS7H7o+X4+vxEd4WQumB4kYE1pvHFn3yQhodTNH2347BizH/6fWz91o+m3nm445vf4mv9bzm4vu/sI4ee/fk/v8OFn/wk7nFJosVBy2voWXAMeOapmfh7NGoe7Kf70irWzN3KTbVPAnDHV0v58h+vwD2qkWvLsKJ5kN5hQSEeIOjL8kRPI03VIwwGgnRHAoQ7wpgJSXSXhdQE6XKd2JPD2EeUSJkuXrYRRAjxYyHEkBBi2yHLSoQQDwkhdk+9Rg9Z9wUhxB4hxC4hxAUnq+DKkbR5s7DnNyN9bpymamRbfXGaqJkzyJZ7yC9oRMtbjG8vTlow2+XjJ0tuo+AXfG/43IPHieo+suXFNAXuUUHgwgF6Vuv0nKex6C3taNEc9b8fI1PpORiMnmdtjhz2vskM8LHyRw6+3/nRG48od0Dz8Pj3biLeDJFtBqkayfgcKGm3af3JBJU3PAGJFAgOO9/7g6P84G0/4c1v38jZrXto9o9gWTr6s0HM20txtoSp8CbIZU2WLN6LdsEI43Ng8DSdkYU6gf4Co8un0oeqKfGnpVfSCnwbcOHfLPs8sFZK2QqsnXqPEGIOxQxxc6f2+aEQQjWzvUq0ySSFoMno4gj9pwcZXFFMgJRuidJzjs6Ba2ykoTHj5+PcOllsLV7uNpmcAX/aOfuwY6UqdUS+QLjLYXAsRHjmGL6GOA4CARRKfYzNOvLSuo+S/2+l5/DtHkybRy2/kRaU7MoR2yKpftQi0JUgX+Fn93+vYP9VM7BOS/BI5vBf2aw06UlH6ElF+MVzpyG3haj9zgbMlE1sq82GR2ahdXp5rruW82o7aFzWgzknjmcEhha7EM5U1VdVgaell60CSykfFUI0/s3iS4A3T/18O/AI8E9Ty38lpcwBXUKIPRSTIj2JcnI8//BeCKTXzWSzSXZ1ArEhRK5EUmiqIFlt8M2338E7A3Hmut5P3b/D9XddxjdnJrl85mb8vYKJqEm/laTKCHDhzotwJSTWvgP4q6O0/Vua4ZUx7IsS+PU8dl6n4NfJzcscUZzJhfmXLfIaX+Goyy+54nGeu6MBT6dGtinGxJwQ8QaNNy3fStjMcO+6pfzb1R/m059Mcf/i/8sZf/kkkadc6HlwTzqUewUFvyR77gL6VxnYTVlKIkms38fIzS5w19PL0TIarkkNe6r7n2Yd17evvMEdaz/ACillP8DUa/nU8hqg+5DteqaWKSeLfOEORqQyVDwxgfsvIXKlDv4eAUKQKRNsSDVydzLEm+r34rgNYlttPOsDrL3hDMyUxEjoVBnFccG79lZjphzSl63AGE1ht+8mtnGC7ICfgtQgaeDvGMUwj4welyw6cnLR5oc+csSyo90F3ts1HycSQLpMMmUmel6SqXT4Sf1jfKfqWTovv4n+VW5yz5Rw/g/+kegTLmJbM5Tf34mQkKzVcE9IhpaZ5Etsvrz0PhJpD0YaQncHMSd0nIBN84/24huUlG2x8A29fMBWTl0nuiP00R6kHLVuofICn3jO+ARIiWZJojsEVevi6Kk8VU9m+cPtZ3JD53k88NRCutf4yUY0Ar0O+ZAg3iRYfHoHv0pEWb7pCqIbDAo+jdD6XpKzS8i8YzkdHw5z+pJdLAr2IMJ57IgPfVPwiDJ8p+rZI5aZB45Me/qZW65m8fr3HHz/g4k65lX0M3h6BDSBkXVIVutIz+FNFDv+/od84N1rSTVZmGmJvmUv0rIYm6mTLXNIVWs0/ayHysc1/vWxS8kN+RifA55Ri6p1NhWP6Ni1ZZQ9E0dYEG+YKpt6BjgtHWsr8KAQokpK2T+VBnNoankPUHfIdrVA3xF7U8wLDNwMxX6Ax1gO5RBOOo3QdWK3PIU+o4nUzBjuscnavgMAACAASURBVByuoSTRXTq+20YJtPrBcshV+BhZYJIrkcxYsZ/RrJ8vrL2CugchuKEbq6aExJJqPEM59r3NR8cVP0AXxb+XG1vqWf/Zegojr6z91EgfGVxu//h3+Me9lzPzJ9diJAU3Xv1DPtSwm5WhWcU8I64SCn740tn3HbHvu8MbuPfxc/D3F3ASCfTKZmwPXL1mLVsTNayb00rZOkF0o4FjCiofmyTd4CewbRhtRoxCyI1rKFWc7HV06o+vegY4LR1rALwX+BDwn1Ovvztk+S+EEN8GqoFW4JnjLaTyyhjNjcieIWhrwQm4CWzuZfi8ekaWetDyAveiuUQ7bMLP9OIbTxD2V9FfJdi1qZ7oDkEpENg2wJ6P13Hm6q38ZfssGu5xEW3nYPAD+ETlWlY2vnjbVsvaD3Pjqp+zxlfgf1IBGm7eCf9w+Pq9q3/C2jn3wpxD9/Sw7ZM/ZMu1We6aOI0KM06pkTzs2N8cbeXOH5xHaXcWYyKLVlMNBQupFQPY9+ruJ9ro45nzCuzI1fDVx9+OKx4i2J0n11BCotbAMSHk0TAyNtrGnUevoijTwssGQCHELyk2eMSEED3Av1IMfHcJIa4CDgBXAEgptwsh7gJ2ABbw91JK1c3q1ZLOIHweHK8LLVMg31ROvEnwo7f8+GDDwwf2vZlN980hstchsr6fdFk1vhGH8ONdFJoq6Xp/FV+9/Je8JzgO9Y+zcNt1eIccPtG7gu/XPA3AFzsvLQavo7h+rIWSv3j4atnFrFlwD38YW8j4BW3AXw5uc+hkCc/75mgr/1S6G4AFLg8LyrcC0FFI8Z3xuXx33flENptYAfBePMxDX/41Z265DO83KtCf3ErL97Pc2XseP1p4Dr+84EZWeky+3TcPX6cLPecwMcNFtkSQmZlDG3ZR+ddJ7B0dKvhNc6+kFfi9L7LqqGPXpJTfAL5xPIVSjo0sjZAv92PEc2iJNJT6ETbUGHGg2CF6U38Npe0WtksjNbscV1IibJDZLMZEmvAeL9XmC31Z1lz5JE99fTl/eHYha/e1Ye8OEHtOwg2Hn/utu97Kzu5Kqn9nkrtygvUL7gHglrp18K11PJLReLP3xWdffj74/a02048vuI3vmquZnGvTeelNB9c9vuAe5q+8jvqeGnZ8roLG1j7kb2v42revYHJxOXrOIex1yAcF8TdlOLt5D1tHq0i3lx2cM1GZ3tRIkFOFppNqDuMazyM3bMfx+XBZFg2ZGJeZn0HPCSyfJNIBiWqBcCTpMpNUrSS0R+CsmY1ntECmTOOaZ69k55k/Y0s+S84xSFbq1D5k4x3U0fJJLr79kcNO/cH9Z7Ozu5JFjd10zGjlu/PvOqJ4LxX8XsqcG68j05xDMx0i9Yd3Mmz+7ceg0eYP6373wsK5wJfgs/1LuO9PKyjELGa39mLHQ/SkIgz3Rmh5Oou9aw9GTTWFhjLEE88dU9mUNz41GcKpQtOJv/s0fIMF3Fv2FaeNh2JWtJxFclYJfWfq3HTZzSxxJXjb9g/Qty9GZIuBd8xhfKZGZOUgTy68++Ahm/5wNb5Ok9z8ND5fDvFwFM4Z57nlvzzs1DdPVnNN+KhtXcfttC9dy+SaFJFghrGdpbgbE2xceRuzH/o4Nb8zeOwHN73sMe5IlPIvD11OeIdOYMAGCZmYRqpaEOqSRH76pJoM4RSmJkOYDhyb6HNjxSThoSBadRmOx0RubGfkytNY/41Dh6D5WLfgHpq6riHUbWGkbIRtcN5lOw87ZKQ8gf5UlO1vvq24YPnRT32ygh/A+q+/UO6W8Q8T/G2QS7/wHmb6Mhz4l1fWdaXGGKfyMUHgQIo9HzM4f84OVkd20J6p4a5fvZkIqOA3TakJUU8hIp6CWJRsYynCluhjSVg8G945etTtXSM6VZ/fw9qf34rzkRH+57Y3HbY+nvCy/OObjrrva2HvucXGE2d/D4Woh6XV3S+zB5y99VK++IVrSNRpJL6cpHPNrdxU+yTvCkzyP/sWYKiUINOaugM8VQhBzxUNxGcXwBFEtpYS7iqg5R3G9vhhyeGbf6p/GbuueuHu6smFd8NCaLrvarouLk6NddmczYdNXfV68Kl/uZP/iL2XqsfjjLzN4OyzriFdppMpE2RqbMqeLv5N9w0WMFIWyflevEhu/fvvstx9+OiTTM4kEFd3ftOZegb4RnPI2N9DX4XbjevBKPe2PsDeQpLzHvw0TXc6uJ/cycQl80lWa8y/tB2vXuDh9XPpfOfLPzt7JR5Iu7nQd2JH8sz88bU0/2qcnreUkC2T7P7A4TPIDNkp3vG5z1LwCWZfvZ2fNjx61ONcdeBMEpab2cEBvlq2/bB1bbdfCwLmrOok86bBYmJ1y3rR71d541LPAE8l8sVnL3lfZbGfXosZQLhshCOwlrURuWcz/pVzmLw7xHjYz5k3th9XEb4+Motbnzib5hkD7N9Uw7fe8TPe4U++/I4vounea+h6+80H3+/6yI0sHriOknaLWVdsPWL7ct3PV75+64tOqvC8W+sfP+z99WMtPBevY9ctszGqBVe8668s8HZzM83Iv50V5iW+Z+XUoQLgG93Uf1BZsPjiM+/gLef8kP/Tex6yoJEr0YnX68gVS7A8YPmqaVl+gO/WPgD4XvbQzfd8jKpHBSMLBe65E3ys7XHe6m/nS7GdfOntO3kwbfIPo+/l//zPlfzbbtjwlSPn+nslut5+M4u/cR13/uP1tJl+ACK78wyscnGpv/+o+8x3jQOBlz32B/efzeO7Wqn+vYGjFzPgOTHwrhxhsW8/a7xj3EwzQhNIB3XHN82oKvCpQghyFy4jVWVguyH5phS6LrlxyR1U6Elmu3zclQwT0rLMc43ymQOXEDRyPNnTSLbPT0XrCGW+FPe2PsDmXI7L/vD/4e3T2f6JH77sqWevu5L2M352XMWfdDIsvfPTfPeS2/jO/vPZ/3Qt4d1gvGvosK4596Z8fPq+D1K1TjI2S2fH3x+9fG2PfpCye3x4RgpotoNr7xCYBiNnVvO9r/03CcfDr0ZWsnbnTFo/tFFVeU9hL1UFVgHwVKHpTHxgOSOLJVetfph/jr2Q7Htd1mF3vpIHRudhORpb/9qKkRZ4Vo2wYemRnZah2EhytJldXgtnbLmMyYcrabizh4nl1QD4+rKYw0lGl5cxtMrm3CU72BuPMfKXavQs5CNQcXofYw9UU/vHYVIzovj3TtD1VTdBX5aYL0Xv/zRS+XQSntryGn9C5WRSAfBU8GIP5zUdHBvN7+ePu9cdddcztlyGx7AYmAySHvHhGjK48pKH+VJs51G3fz16W8dbGP9BPZZHI10hSNU5mHGBb1BgJiRGTqLnJXd/99uU6/6D+32idwX3P7OIhnttzKTF6FwvoQMW6XIDe6pRuPRW1RH6VPZSAVD1A3yjeJn/nMI8+uPcpvs/Cj8uJ3NLNdbOEBiSfIVF1EidjFKeNO+teobxNh29ILECEG0ew3FDNga5iCBRr3HBV/56WPADuKH6CaThkKo0kZqg4p4OPI/tQM9JRk8v8KXPF6vuQp+a3eb5ROnPzw+o5gk8pakA+EZzRCtlcYytPMrg/g/uP5s5Xx3APVYgtDdJbOkgWy/4PsLl8O2N573kaZruu5qm+64+oUV/pS7bcz6X7z2P7403sC7rMP/p9/Ff33kXTb/oxUw6lOxwGOuN8NG3/JnSlQM4bqi7pZ1fdBz5R/6XiQpEVifSkUZP5rFn1JC8YB6ZUo3frf7+ka3XU9+nagWeHlQr8BvNEVVhDaQNhSO7hAymQwxcXk98psXVp6+fei7ooXPNrQAs33QFzyz+9RH7tT7yd8yd2cNo5ugtxSs3X85Ti35zQj/W8876+48xsELDPSHYNLcOJ2XiHjSovvEJLCHwlgQYWRTCX57i0tBmzgns4N39Hyd+bhuNV3fQfMNVfOeMX/KLoZUsDnVzx23nU9NlY4wmyTRFGVriohCSBA5Irnj6GvJpkzY2vNAN5nmqSjwtqAD4RvMSd4BN915DXdMwreFhHu2cQW3ZOA3v6GQ47WeJb98Rh3pm8a/ZnMtx18RptHiG+Ppf386cr/dSvchF/8eC/GDuL4EjJz49WcGvo5DivK88xr+W7QBgbUbnvw5cgPN/S5CAdc4SbLeGZkO6O8htTav4zc7F+He60fMW2aXNaKMmX7z576h5JMH9FTOIGBZmwoaxCfILY+SjEtvvULo1R2ifm1xEP+x7VHd+04uqAp9C9JTGcDxAynbhchcYmAgRMrNYts5XOi5mbebIYLbI7ebfK7ZwVXiAm877CQMX1RPYNkD+0Rgf3vB3J6xsH9x/9stuc9fk0oPBD2B3rpL9DzYishZ6Wwuu9R244gWiP32G2dd388dbz8T/mJ/6u/vx3PcMqSoXvj6N4AEHvXsI70Aaz3Aed/cEuYWNZKMaUpO4h3SELXH/cT3h3VNVYBXwpqVXMiP0j4G3AUNSynlTy64HLgbywF7gw1LKian0me3A830wnpJSfvwklFt53iF3gnUL+nl4bnFuvH/yLeKujcvYsH0ORgqSbQU+8fTH0LPgPvPo3V/W+AokPnsHX15zMSV32IR+Pkzrp689YijasfDqLz1qAzisVbrtp9dS8bRD9XCa+OwwwXs3I3M5zP4JLMfGiYWJPZdBK9hkm0txB7wE+vIIaaIXJFJKRHsXRkMN6RklGOkXJibPNWcZWuanemcU0T+GBarKO00da2L0h4B5UsoFQAfwhUPW7ZVSLpr6p4Lfq+ijhwz9+mbFZmY29aPlgNMn+Lvl68g1Z8lUOeQej3HOR66mZe2H+VUiyh2JUnKywPVjLbSYw5xeu49klY5TGqH5H5+k6d5rAMjJApfvPY+zt176vy7bTbX/u9TQsc3F7HZ7r/AwcIZg9P1L0Dwe7KgfNB1n8w4KIYPJGT4ypQaFqId8uDjaQ9gSbBstEiZfHsB7IIHt0Sl/ZpJgp0bzT8BIS3JLmrFqSosnVMFvWjqmxOhSygcPefsUcPmJLZbyih3SGPLTnlW8f/bvAXhf1znMCg8y3lvP0LiPJ0eb+NEZP2N3vpIbNp2H8RSU/9HNF6zLEEmDbwzqZCtsNi2p54s19/PV93oY29FA4W3L8XcVf03cwuQ3LX+m6XfXYM9zDkuUdKKl3jNJcl8YGbQgpSM1gVZdyWRjgMlzV1D5TAb/5l6M1koKAQNzNI05DO6YD8uvQ3kpcmgU/a+bEKUleAdHSZzVTPU9e8m3VhPbHMcKutFyFs6h36MyrZyIRpCPAHce8r5JCLEJiANfklI+drSdhBDXANcAeF7BuFTlRTw/Fti26Xq6jvd5zsGSGpaj8ccHTqMibmMOmHRkatlRUUNvLoq5y8tEi2RsvuTc2bsYzAbZEaym5DEXG8dmc3FJG9LtUBcS+B/ahp6dfdgpuy65mfPbL+Gh2UemrDxRbln4U9635x9ovBNG5uvYbth9dRXh+aMsLBniibktRJ9ooHR7BiNtIzJ5rLIg5kgaYXkolPrRQh60ZAqZy+MkEoSe1MEwMLftw26tRX9kIyyc/fKFUU5Zx/UnXAjxRYrZ3+6YWtQP1EspFwOfoZgiM3S0faWUN0spl0kpl5kcmThb+V9ybFpv6qHvGzOY+Mdaxv6jkZqH83j7MjT8Mcus747wu8+cx463V1P/YBJ/v4Xjs3l2oI7rG+/G8BRINEP9g2mqHwFfl0nBryHnNOMaz7Li89fyh7Tn4OkuqtzK2Vsv5bZ4+RFFWf6Fa19Rkd/TdS4XtL/tqOsmbB8lWwXe7jiV6zPkSuA/3nkH65fcxc8bH+EjS9YRnwFmzyiusQzOgV6Mjh5ylX60vI0xnkHbuhfh9+EkEhgNdTjjE8VMeavbsH0mqXeuYHxeuHhCdfc3LR3zHaAQ4kMUG0dWy6nxdFLKHJCb+nmDEGIv0Aa8PgaVnuKcsQl867PIdBp3qjjSw6ipxurtg1gpro690FCH7TGQuqB0vU6yPsIl2Y9TmPBQvdnB8hv4u9NIzYdvII8+EseqjFCyZZJ//8KHuD7lIDWB4xI4huBXu8/nv1eG+OHnvs9Kj87eQhIz7bAu63CG56X/vnbdNJNrvvBbAEbsFOd873P87NobWOR2s8ZX4EsCkBJX9ziVT+t8Sf8A91+4hf5MiApvAq0A6VkVaAWJvXoBvr3jeLf3Ii0bHBs7lULTimWw9hdnj86HTVwTFsZkDn+6gD6ZQeVtnb6OKQAKIS4E/gl4k5QyfcjyMmBMSmkLIZopJkbvPCElVY7ukDHBiTVzcCVspCZwPbAeAGd8Ar2iHFkVI7uyhf4zdGyvRM8KKp5xiG1KkmwMkC7XiDcKyp6z0bbtxeeeiTmUYOjcGlJVgvCZgwx2Bok+Z1D+0004C1oxekfBttFzIa67/hPMubKdT1c9SP9ZcM0tn2D7P7z0TDKh/VmuCg8A8JWBc4ltKfDvvW/lrua1AGjvGiYzEMX1wHq8QP1D+9k0sJLY1gw9RgXVngL5kE74oZ0IjwdpWUjLQni9WAMjCNOFNnUHKEwXspDH9/B2nFQKuXIB+t5+hMt8iRIqp7qXrQJPJUZ/EpgphOiZSob+fSAIPCSE2CyE+NHU5mcDW4QQzwG/AT4upRw7SWVX4LCq22SLztASF77t/ehlZWgLZqFVloMjcZ5rZ2S+gVWV54wVOyiUFRCORB9PEX66h3xIoOdgdK4LZtRjjqWxd+2hdGuSbKXNDTPv4g8X3cDYMov4xQvpOztI59WNdL+/hXBXjvJn4jy1r5Glbhedl99EPiyZf8N1hxX1tI3vOvjz3O9dh+V5oV/i9olKvF3jtA9XHFw2MhFg3zsE+76+is4rq9HntFHxxDhm/wQAvl1DhDcNIaIRpJRQEkE21mDXlqG3NCILeayBQQCEPvWrrmkItxtj/xD28DAy/PJzCiqnLjUbzKlCCMSSOchNOzEaasnXlpCodyN1gW/IwvPodkRDDbmqEMOL3PgGHcJ3PAWazuhVyxldVcATzGE+FcTyQel2G9eEhe3VmGwycXRAQMX6NP2n+0jOzvP9s3/ORb5iVqHreley/WsL6H9/lo6zfwoUg1y6LUfXBcWhd289710kbyhwUfU2NkzWs+vumZS0F8hGdcJ7UugjcTItMUYWuEktyRxMgvS8GY/8HTW/cKFZklxYZ7JFwzss0XNQ8twEoquX3LJW8mGDoSUa3mGBY0C0w8L2CMJP9yIDXuywl2zMg5my0B/e+KpeJuXVp6bEnyaE5RQf+g+NYHrdRONZcmU+zD9vwAF0TcNI5ql6PA/PbEWfOQO7Yy+xTQkiu13EGwNMzpCUb3QI3P8chVVzmGw0SazKoGkO9qCX7CqHXWcdWbVdHd7BhshiWv7TYpZ2JW0Vw1Su7mHtnHsPbtO3OkZ8MMs/zd8Npbu59Zrt/NfPL0OzQC/4yM0PEHt2nOqHs+xq8x9xjuATPvw7+xEFi5Er6nBNQsEvcCUcHLeBrgnMR5/D3dbMyIIYuSgwL0F3g5+aR4p/6EUijT48Rra1Dd9f2xGlJdijqpIyXakAeKqQEm00jpVMokci2Ds60Ge3FjOjvWsl4QfbEaMT6IUA6ZYSzDMXoSVyCMNE5C3cXZNEs1Fiz2SRmoaTzeLqmSBxUTluT57PzX2Iv4zPOmoCovd1nUO84GHsLRn0Qghjo8b+bJAn/893ANfB7RwTZPqFX7mrwgN8vSWPb48LI+MgHMhWB7E9AlE4fBqqeU+9n+pNaZiIk1reTLDHQStI/L0ZHLeOsB3siUnEsnnI9i6ab8+SnF+Jvs5FNgb5gIZdGUWu34rR1EDpfTugqhxGx0/aJVFe/1QAPIU4Y+PowSAiHETXNegdZPjcefgHbCbPn4WZctBzDt6+JInW/9fevcbGdd53Hv/+zzlz5ww5vIlXSRRFyZZkS7Zsy64Tx22cm9PASYEmTheLLBAkKeBi28UuFsm2wOZFCmx3keyLdtNig2Q3KdKkQZLG2TbbxPU6zsWOI8nW1bqQIiXeSZHDy9xnzjnPvjgjhY4lWbEkD6n5fwBizjwzQ/+feeQfz5k553lSxIBQSzPMLEIygZQ9qm0J7GIV/x33sLAzitVbwPMsvjd3DycODvDjzp/xaOxXU2+dq+Y487U7CGcNWz8+ReZfxTjQMc0nOp8nboVfU1/nKyWcYoSF9+dpr83bF4pXSJ+1WdkaIrbgk3j2KBif6O4H+PJKFx9vnuXeQx8h/EyK0PgExvMJZV3i51eQQgnj2FjxCNmhZpoX+imlIkTCYUrbOohN5pGqR3Tax1gWUirjiVAcbCc2ElwuZ0o3d0U7tbFoAN5GZGsfxrGg6kEuT+YDu1i+p0L34DTT391K26su4RdP4d6/k0jGDV7UksRra8I6fg6/q5nQQo7cjjQX9zqUN3lsasnx9J6v8YP8AKeK23jqy3/4mnVCBkNNVBNC6oJLphBbc43x6ydeiFzIUHykh6+t3MVIsZMfPb+P5HmLaswQW/ARA3ZnO/g+XQcr/MVd7+ZzxRDJdIG+Z2YxyThmeQW7UKHaGsd69SwQnOqTmphj4QN34JQM3LuNbF+YdKFKpS1KdHwZM3YeaWnGTiaxx5cxK1mwLSQagfzGmhxW3Tw6G8xtxJyfxD92mmpnE4UD28jsFnr6MmxtymCXDZHpVaS3i9DJcSITS4SWaicQn5/Dz+exKh75wTTVuEWpv0qsK8fcXAsTbojpSppqq0/6rMf+wx9+zX933++foNhuU3m+ncfPPM6M+/olMue9PBMf7AGBkWIn//fg3XQegq6fLZPvEYodFgt3C9n7+zCpJiLzBdq/Fyc8Fab9iwm8kTH84fMw0IuVKxM+N3v5d5d3dFE8sJ3EdAXxDOUWh6apCks7E2Q3h5FKFbtnE7Q2462uYqZm8Yb6kGQTEovd6mFR65juAd5G/FIZK5HAOTeP9LcTXQwxu9BM5oUuNh/LwcUM3sIiVjIZnP82exG7PZgMwOnuwi+5LNzt4MYNzcdCGKcZZ5PhIy98CoB4d45yMoX97TY+0fkwX+oP1iD52pafMPC2O+j7oWH1f/Tz2NB/ZPC9ozzceo6TuW6O/d0eoks+5Q/k+OcHv8jL5R6OPreX1D8do/xbd7LpXZMs5BL4Z1uILFXxzowA0BTfi/gxQstlJBLBlMuYY8GMMU5fb1B7uhlrscDyA2nCuWBdkMSFHF5TmPi8i5uwWNnfTer0MrKSw3/7PfDTV3AWsvipOHJhug4jpdYLDcDbie/h5/NINIIzOkNfJoX7YgJjFYKVz4a2wcIiplLBP3kGK5nEW8xg79yOn4ox9dtJSp0+vT/2iU8WMC+fwntkL/meCMs7LPJ9NqZbaBn2OP6XdzH43h2c+53/RdlUwfFpOpcjN9hM1y/LHB/sY3hyG/EZQ+8/nodImL3/do4XSlt4ObeFaMbFLxTI9YbJHOnhycd+zsHkFnIHe4k9ei/2j1+m1BGhnBRi8RChnQOXww/AnZzCuvsOSj1Jsv0OXkgotgmhnCE1vYhsaiU8nqHakyZzR4zyA634oVaaZjz8Dx0g/vQhxBLYtR2WV+o3ZqquNABvI/amTiQeg6qLv7SMeB6hShV/IYPV14s3PoW9qRNvbj54wUAvHDuNNzxG6f37qaQMfsKrfWHg4h/YgxuzaZoqg4lQngtRfmyF6lSK9kMZyi1tDBQ/wfv3HSN5KszivWnafz6HFEr0/LCf1Jng9BJ/eQU/n+dHJ+7jo+94ic9PPUbhHWHaWw7Q8ZNpKs29fOO5hwkvWcTaDM1HlvEdh3KzTefzs3gjY8jO7ThbN+NNzWK3t+KvZvFPDBOfb6eUHqAwKDhFSMz5uFs6scdmyd2/lcRwho7DFYq9CZyChxu1qbTYJJsSSCqJd2asjiOm6k0D8Dbizc1jt7Xi7ugnFHIwhSLVrhaccAi3dlgp8Rg8eDfO5CJki1j9fZhIiEKHTXhZiE+HsEtVpFzB8TxWhuLEvn2Spv07sathqr9optwKC/e1Ep/z4JUQ/+TtpW3FEFn1KW9OEx1dIDmWx22OMftQDC/SSvq0R/qgxUv3D/Lfdn+bz8V+l2npwXI30fODGabf141xwCmCNzyKdfcdGIFKXxpnIjhMdS9MwIG7YCqD1ZrGqlbxV7M0D+dwygmcgo9d8shtjhNJbabp0AWwbfymCLHnTmKlWwilU+S70khbGvfCJHZrC15ZvwluVBqAtxvPwzk9Tv6h7axudmia8Yi9eBTZvxuperjHTmPNxTH9PZc/awPosG1G/6CT/J4ykZUQccCEbJqmKlQeupPo2Tkw7ZRTMUqtAgLiQzhraDtkY1UhdXgaky9AU4L5+5JYLhTuLtKWzrGwJ0bnN2P872+/i+yHfspzu5/mzzru4uudD9LS103zeZdqwiIxVcZ9534W7opQ7DTke6O0J/eSeP50cK7jkbO4peDqE3tTJ36pjIiQ/JdT+Ds2Y12Yw9ibWd4exsl344xMI1UPv1DALxSQ+QVaWnaB7+P0dOFOz17ljVSNQL8Fvo3Yu3ZAbxd4HtUmm3JaaPpZEHLm8EnKnQnsnduxOtqCoNy29fJrveEx4jMGU7LJbrHIHOik2JskcnCY6EhwyFxNhrDLhuSET7lFSJ1eptoEXlRYvMeQvacbxMLki3S8nCM56bKte4FPbfspzzz0RZLH52k95fOD8V0AfK7zOC1dWVZ2+MSm8ySmypQ6wmTuiPDUp77HA4+eYvA9oyzscfB3bgHAr4UfIkg4jBWLwpEzSLoZKbnQ3oIRKLYLUvUw2RzGtnG6uwBwH95DeGQGvzmBv7KKtWvoLRodtR5pAN5GvFfPIrkCix/cjRsVNh2uIE3BCce5Dz/IxXsj+OfO416YCE4riUcpfeABnC39WIk4zWNVYhMO4WUodliEVyp4u7biXpjAnZwiOlug2iS4MaH3KyegXKHUKpTTYFWEUovN0rsGoSONtKgo+AAAEHpJREFUM50hslBk/Bd9JO0if7nwdmYf66L56ALW0638wdhv8zfLvWTzUWJzFvnNTYSOniN5KkO+1/BXZ96BJT4WhlAe3KZg1hanrxc7lcJua8UUCsHpO1v7MOEQWJDfnmZ1a5jkhKGaCsPQFuyFFdyZWexUivDFPO7mTmT6YjBLzOzFeg6ZqjMNwNuFCPb2AbyOYILPi/sN4+92MCurWPt2Ecp5tJ2sUnl07+XnLzyQxthg8gW8PduoJm2MA8t3u+T2FxHXx17IAuD0dJMdSuJFhOaxEtLagrgesQVDeUcRuyhk9hi8kFDuSmKam7AXs3S/4PLpHz7Jj6eH6Dycwzt7jvTZEr98cSd/eepRzGyU5LhP8rnTGNel3JMiPiuYn6f56fGdnJjswSkYjAj2jkFMtQohB9PVgZ8LTmCWUgVveBTxDE2HxollfMQzOAUXqbi4E5PBZ6O7B/DjYayyi7ewCHD5VjUm/QzwdlCbE9AbGaPynvtoPlek2B4nvGIwnk+xN0E5ZdN8Oos5GpxKUn7ffTRNVbGqhsKBbeDDxXss+g5Mkq+EmV9IMfp7TQz+2SnMQ3sxmTzlZqHrhVXsTA4TCVPtSpKccMmPxkheMJTTFnbVx03YhB2LytY2otMFhr5uk+9NYw6+hJVM4kxm2PYPaULjK/itPjI+i7e8Qul3H8CLCj1/ewpJNWGa4hT7U5RaDZGXR4LL1kIhxHGwsnm8Xduxx2dwJyaR+/bA2XFMJELy52PkHtyKVXaD6a9CYbzFDG5yG5G5PNZqAXP/XZiDx7Gi0V8dVquGo3uAt4PalGZWIkHs8BiljjC5AY/Ft1Ww2tJEFss4JYO9nAPfw/zWXpyCR6nNIbRaJnYhS67XodLpMjbZwdxkGpN3COUFa2gAefEoJuKw6dkZrJVC8EWHJYTPzmC5hv7/VySUN0QXDW5USIwG59WFp1fxmsKIZ0j+8wkkEkGiUfxEDPn5EfzWJIyM462sIpEIiZ+cJpTzce/cTGVrO1SqxH5xlqaJMmZzN1ZPF6ZSQVpSLDzSx+qOJLS3Xn4PzNYeKnv68ebmafrFefyIg3fyDBJysNNpwktlZGoePxnDGp3CTqWQhK5H08iuZ0LUr4jIvIicWNP2WRGZqk2GekREHl/z2GdEZEREzojIe25V4er1rPZWSvu2Esp6JC7YDHxDqGxpwx6eJPXLieC0j+0DOCfG8MMWrS/OYM8Fk4tGl3ykbGEMhJIVYlMO4ZXgm2B7aBsylyG3qxOTiCKhEGZ8GuN6hC8WqSYcQgWf6JJHbNED10NmF8nubiO0kENOnkPiQdB4CwswNoHd1grDF/ALhWD6+vvvxAz04uRdMODbFoWhNvJv24mzUsQ/MYx/cRFTLlPtSbOyPbh8rjCYDiZ+vTCLlQv25Jz+Pry5eeSFozi9PWDbwWzRB49jejqQsou3mEHaW1l+bEfdxkvV35tdFxjgv69Z//cHACKyC3gS2F17zRdF5PVXxatbo1Il9C+HcZ49zKbDJcrNNtbzryCxWDA1/tBA8LxN7UQnV3HHLuDNX8SPh2g6n+POL8wx+FVD9FAC8aHn2UX8Y6fh4iKrbxuglLaptMUwsQh+Pg/lMvb8EqGsS3SuSH6TjbEFllfx5uYJrbpQdTFVF0kmENsGY5DuTkx/F9TuA4Tms/jHThOezGCVXNyEjVXxSQxnkPEZZO8d+NksVjJ5+TXZAZ9S2sZEQngLi5hYBPu5l3EnJnEGtoBl480vYLW34mezwRUvx07jxyNYySTGEuLzleA9EbnSO6puc29qXeBreAL4Zm1xpDERGQEeIJhSX91iJl/ASiQoP3QHxc4QzcN5rFQKd3IK9537iRwcxltdBYLDZau2V2Zlcki5itudxk3Y9Dy/SrktCvMZrEQCf3s/sw9axOaF1JgHIQd7xyBkljHlMs5qCZldpM2xcJaLSCxYPS7ywikk3YKVasIdPY/TtSm4/G13B4VOm86qh12uwPIqhJzgMDbk4MdDRC+WcOZXMbaFxGJYk/OYZBKrOQXHRxm8kGTuvVtY3gmR1RhNA1twT565/F64YxfAspFwCHfsAk5fL6Y2Lb59cRmvUsEfGcMeqV0Jsg5mRldvvRv5DPCPRORY7RA5XWvrBSbWPGey1vY6IvJJETkkIoeq6Jn4N4O0tmClW4hOrZJ+ZRF7MYu3uors342xBWMMdlsrdjodnD7S1gpDW2Alh39xAQ69Smwyx9KdScQz+EtL+Pk8xa44ThGMDcWuCGZiBu/sOcRxoFLFi4chmcBeLeO9ehZTLGHv3I6EQ5hE7PKMy342hzOwBd8RWk8UkNU83shYEHwi2C3NeGfP4bx6AatQwaxmkUoVohEqu/vx7tqGOzkFvo/J5qg0C1t+kEc8A66H098HEOwlWvbla6MBvI6WX62hnIhhbb7iP0vVYN5sAP41MAjsI1gL+PO19isdR1zxT6uuC3zzGcemtLMLPxHBa47hjp7H2reLakuU6OQqEg4hzSlK9w8ijoO/mMGcHEaSCfxSCf/hu/GaIrQdWiC8VMK4Lv477qHaZFHu9HAKYJcMZsdmZP9ucJwgYF88GhxCjo5jD23DZHPg+0hzCikGf9xk/26q9+/E5Ao0/2KCaioU7PUBpliiuDmJP7QZuf8uvKUlrNUC3sIifjqJn4oTOngGE7Kw9u3CSiXxVldpe7WKuD5exMLEIrgTkwD42Sz4Hk53F3YqhbNtK+L7+KPjiONgJmfAsoKFo/btqtt4qfp7UwFojJkzxnjGGB/4EsFhLgR7fP1rntoH6HxDbxFvZAwnX8XO5OCl49jpNNZKnkJnCMmsgAh+Ko5V9TH37QrCwHXxLwbnwoXmVrEKVaptCfBBQmHCZ6axqobQkk0oZ4gsVYLff/QM3sUF7JbgvENveDQIpuFRGNqCuB7VnlZMsYhEgj9wkXPzkE5hUgnEM5jMEtaeO7A62og+cxR7MYs5eBwI9tIA/COvwpmxYI/1+VeCvb9SGae3h9hLI1hj0yT+z2HEDVb3tVuacbq7sOJx3JlZ2NSOO3oeACsWRcJhJBbFPz+Bu70HKVffyiFS68x1rQpX+wzwH40xe2r3u40xM7XtfwccMMY8KSK7gb8jCMQe4FlgyBhzzbWndVU4pdStckOrwtXWBX4UaBeRSeA/A4+KyD6Cw9vzwKcAjDEnReRbwKuACzz1RuGnlFL1ousCK6Vua9faA9QrQZRSDUsDUCnVsDQAlVINSwNQKdWwNACVUg1LA1Ap1bA0AJVSDUsDUCnVsDQAlVINSwNQKdWwNACVUg1LA1Ap1bA0AJVSDUsDUCnVsDQAlVIN682uC/z3a9YEPi8iR2rtW0WkuOaxv7mVxSul1I14wxmhCdYF/ivga5cajDEfubQtIp8HVtY8/5wxZt/NKlAppW6VG1oXWEQE+DDwOze3LKWUuvVu9DPAtwNzxpjhNW0DIvKKiDwvIm+/wd+vlFK3zPUcAl/LR4FvrLk/A2w2xiyKyH7geyKy2xiz+usvFJFPAp8EiBK/wTKUUuo396b3AEXEAX4P+PtLbcaYsjFmsbZ9GDgH7LjS63VhdKVUvd3IIfBjwGljzOSlBhHpEBG7tr0NGAJGb6xEpZS6Na7nNJhvAC8CO0VkUkQ+XnvoSV57+AvwCHBMRI4C3wb+0BiTuZkFK6XUzXI93wJ/9Crt/+YKbd8BvnPjZSml1K2nV4IopRqWBqBSqmFpACqlGpYGoFKqYWkAKqUalgagUqphaQAqpRqWBqBSqmFpACqlGpYGoFKqYWkAKqUalgagUqphaQAqpRqWBqBSqmFpACqlGtb1TIjaLyLPicgpETkpIn9ca28VkWdEZLh2m17zms+IyIiInBGR99zKDiil1Jt1PXuALvDvjTF3Ag8CT4nILuDTwLPGmCHg2dp9ao89CewG3gt88dI0+UoptZ68YQAaY2aMMS/XtrPAKaAXeAL4au1pXwU+WNt+AvhmbYGkMWAEeOBmF66UUjfqN/oMsLZA+j3AS8AmY8wMBCEJdNae1gtMrHnZZK1NKaXWlesOQBFpIljv40+utM7v2qdeoc1c4fd9UkQOicihKuXrLUMppW6a6wpAEQkRhN/XjTHfrTXPiUh37fFuYL7WPgn0r3l5HzD9679T1wVWStXb9XwLLMCXgVPGmC+seej7wMdq2x8Dnl7T/qSIRERkgGBt4F/evJKVUurmeMNlMYGHgX8NHBeRI7W2/wT8F+BbtXWCx4HfBzDGnBSRbwGvEnyD/JQxxrvplSul1A26nnWBf8aVP9cDeOdVXvPnwJ/fQF1KKXXL6ZUgSqmGpQGolGpYGoBKqYalAaiUalgagEqphqUBqJRqWBqASqmGpQGolGpYGoBKqYalAaiUalgagEqphqUBqJRqWBqASqmGpQGolGpYGoBKqYalAaiUalgagEqphqUBqJRqWGLM61asfOuLELkI5IGFetdyA9rZ2PXDxu/DRq8fNn4f1mP9W4wxHVd6YF0EIICIHDLG3FfvOt6sjV4/bPw+bPT6YeP3YaPVr4fASqmGpQGolGpY6ykA/2e9C7hBG71+2Ph92Oj1w8bvw4aqf918BqiUUm+19bQHqJRSb6m6B6CIvFdEzojIiIh8ut71XC8ROS8ix0XkiIgcqrW1isgzIjJcu03Xu85LROQrIjIvIifWtF21XhH5TG1MzojIe+pT9WtdpQ+fFZGp2jgcEZHH1zy2rvogIv0i8pyInBKRkyLyx7X2DTMO1+jDhhmH1zDG1O0HsIFzwDYgDBwFdtWzpt+g9vNA+6+1/Vfg07XtTwN/Ue8619T2CHAvcOKN6gV21cYiAgzUxshep334LPAfrvDcddcHoBu4t7adBM7W6tww43CNPmyYcVj7U+89wAeAEWPMqDGmAnwTeKLONd2IJ4Cv1ra/CnywjrW8hjHmJ0Dm15qvVu8TwDeNMWVjzBgwQjBWdXWVPlzNuuuDMWbGGPNybTsLnAJ62UDjcI0+XM2668Na9Q7AXmBizf1Jrv1mricG+JGIHBaRT9baNhljZiD4hwJ01q2663O1ejfauPyRiByrHSJfOnxc130Qka3APcBLbNBx+LU+wAYch3oHoFyhbaN8Lf2wMeZe4H3AUyLySL0Luok20rj8NTAI7ANmgM/X2tdtH0SkCfgO8CfGmNVrPfUKbeu1DxtuHKD+ATgJ9K+53wdM16mW34gxZrp2Ow/8A8Fu/ZyIdAPUbufrV+F1uVq9G2ZcjDFzxhjPGOMDX+JXh1frsg8iEiIIjq8bY75ba95Q43ClPmy0cbik3gF4EBgSkQERCQNPAt+vc01vSEQSIpK8tA28GzhBUPvHak/7GPB0fSq8bler9/vAkyISEZEBYAj4ZR3qe0OXgqPmQwTjAOuwDyIiwJeBU8aYL6x5aMOMw9X6sJHG4TXq/S0M8DjBN0nngD+tdz3XWfM2gm+2jgInL9UNtAHPAsO129Z617qm5m8QHJpUCf4qf/xa9QJ/WhuTM8D76l3/Nfrwt8Bx4BjB/2zd67UPwNsIDv+OAUdqP49vpHG4Rh82zDis/dErQZRSDaveh8BKKVU3GoBKqYalAaiUalgagEqphqUBqJRqWBqASqmGpQGolGpYGoBKqYb1/wF5HL1R8CecMAAAAABJRU5ErkJggg==\n",
          "text/plain": "<Figure size 432x288 with 1 Axes>"
         },
         "metadata": {
          "needs_background": "light"
         },
         "output_type": "display_data"
        }
       ]
      }
     }
    },
    "version_major": 2,
    "version_minor": 0
   }
  }
 },
 "nbformat": 4,
 "nbformat_minor": 4
}
