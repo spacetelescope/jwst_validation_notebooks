{
 "cells": [
  {
   "cell_type": "markdown",
   "metadata": {},
   "source": [
    "<a id=\"title_ID\"></a>\n",
    "# JWST Pipeline Validation Testing Notebook: MIRI Time Series Imaging\n",
    "\n",
    "## Detector1Pipeline() step\n",
    "\n",
    "<span style=\"color:red\"> **Instruments Affected**</span>: MIRI\n",
    "\n",
    "### Table of Contents\n",
    "<div style=\"text-align: left\"> \n",
    "\n",
    "<br> [Imports](#imports_ID) <br> [Introduction](#intro_ID) <br> [Get Documentaion String for Markdown Blocks](#markdown_from_docs) <br> [Loading Data](#data_ID) <br> [Run JWST Pipeline](#pipeline_ID) <br> [Create Figure or Print Output](#residual_ID) <br> [About This Notebook](#about_ID) <br>\n",
    "\n",
    "</div>"
   ]
  },
  {
   "cell_type": "markdown",
   "metadata": {},
   "source": [
    "<a id=\"imports_ID\"></a>\n",
    "# Imports\n",
    "List the library imports and why they are relevant to this notebook.\n",
    "\n",
    "\n",
    "* astropy.io for opening fits files, ascii files\n",
    "* inspect to get the docstring of our objects.\n",
    "* IPython.display for printing markdown output\n",
    "* jwst.datamodels for building model for JWST Pipeline\n",
    "* jwst.module.PipelineStep is the pipeline step being tested\n",
    "* matplotlib.pyplot to generate plot\n",
    "* os for general file and OS housekeeping\n",
    "* pysiaf\n",
    "\n",
    "\n",
    "[Top of Page](#title_ID)"
   ]
  },
  {
   "cell_type": "code",
   "execution_count": 1,
   "metadata": {
    "nbpresent": {
     "id": "45177853-942e-4949-9e30-f544d70ef5f4"
    }
   },
   "outputs": [],
   "source": [
    "# from astropy.io import fits\n",
    "import inspect\n",
    "from IPython.display import Markdown\n",
    "from jwst.datamodels import RampModel\n",
    "\n",
    "import astropy.io.fits as fits\n",
    "import astropy.io.ascii as ascii\n",
    "from jwst.datamodels import RampModel\n",
    "from jwst.pipeline import Detector1Pipeline\n",
    "\n",
    "import matplotlib.pyplot as plt\n",
    "import numpy as np\n",
    "import os\n",
    "import pysiaf\n",
    "\n",
    "%matplotlib inline"
   ]
  },
  {
   "cell_type": "markdown",
   "metadata": {},
   "source": [
    "<a id=\"intro_ID\"></a>\n",
    "# Introduction\n",
    "\n",
    "In his notebook we are testing the Detector1Pipeline() stage for MIRI Time Series Imaging exposures. Imaging TSOs do not have any unique processing steps at this stage of the pipeline, so this notebook serves as a check that the pipeline is able to run without errors, and returns a sensible output. We will do this test with FULL array and SUB64 subarray data. (all array configurations are supported for TSO imaging)\n",
    "\n",
    "Step description: https://jwst-pipeline.readthedocs.io/en/latest/jwst/pipeline/calwebb_detector1.html#calwebb-detector1\n",
    "\n",
    "Pipeline code: https://github.com/spacetelescope/jwst/blob/master/jwst/pipeline/calwebb_detector1.py\n",
    "\n",
    "\n",
    "### Calibration WG Requested Algorithm: \n",
    "\n",
    "A short description and link to the page: \n",
    "\n",
    "\n",
    "### Defining Term\n",
    "Here is where you will define terms or acronymns that may not be known a general audience (ie a new employee to the institute or an external user). For example\n",
    "\n",
    "* JWST: James Webb Space Telescope\n",
    "* MIRI: Mid-Infrared Instrument\n",
    "* MIRIM: MIRI Imager\n",
    "* TSO: Time Series Observation\n",
    "\n",
    "\n",
    "\n",
    "[Top of Page](#title_ID)"
   ]
  },
  {
   "cell_type": "markdown",
   "metadata": {},
   "source": [
    "<a id=\"markdown_from_docs\"></a>\n",
    "# Get Documentaion String for Markdown Blocks"
   ]
  },
  {
   "cell_type": "code",
   "execution_count": 2,
   "metadata": {},
   "outputs": [
    {
     "data": {
      "text/markdown": [
       "\n",
       "# RampModel\n",
       "---\n",
       "A data model for 4D ramps.<br /><br />Parameters<br />__________<br />data : numpy float32 array<br />     The science data<br /><br />pixeldq : numpy uint32 array<br />     2-D data quality array for all planes<br /><br />groupdq : numpy uint8 array<br />     4-D data quality array for each plane<br /><br />err : numpy float32 array<br />     Error array<br /><br />zeroframe : numpy float32 array<br />     Zeroframe array<br /><br />group : numpy table<br />     group parameters table<br /><br />int_times : numpy table<br />     table of times for each integration\n"
      ],
      "text/plain": [
       "<IPython.core.display.Markdown object>"
      ]
     },
     "execution_count": 2,
     "metadata": {},
     "output_type": "execute_result"
    }
   ],
   "source": [
    "# Get raw python docstring\n",
    "raw = inspect.getdoc(RampModel)\n",
    "\n",
    "# To convert to markdown, you need convert line breaks from \\n to <br />\n",
    "markdown_text = \"<br />\".join(raw.split(\"\\n\"))\n",
    "\n",
    "# Here you can format markdown as an output using the Markdown method.\n",
    "Markdown(\"\"\"\n",
    "# RampModel\n",
    "---\n",
    "{}\n",
    "\"\"\".format(markdown_text))"
   ]
  },
  {
   "cell_type": "markdown",
   "metadata": {},
   "source": [
    "<a id=\"data_ID\"></a>\n",
    "## Initial helper functions\n"
   ]
  },
  {
   "cell_type": "code",
   "execution_count": 3,
   "metadata": {},
   "outputs": [],
   "source": [
    "def checkheaders(model):\n",
    "    \n",
    "    # check that header has keyword TSOVISIT set to true (all TSO data should have this set)\n",
    "    \n",
    "    if model.meta.visit.tsovisit != True:\n",
    "        model.meta.visit.tsovisit = True\n",
    "        print('Setting TSOVISIT keyword')\n",
    "        \n",
    "    # check that CRPIX1 and CRPIX2 are set to the center of the siaf aperture for the array being used.\n",
    "    # Read in array being used\n",
    "    array = model.meta.subarray.name\n",
    "    print(array)\n",
    "    if array == 'FULL':\n",
    "        siaf = pysiaf.Siaf('MIRI') \n",
    "        full = siaf['MIRIM_FULL']\n",
    "        model.meta.wcsinfo.crpix1 = full.XSciRef\n",
    "        model.meta.wcsinfo.crpix2 = full.YSciRef\n",
    "    if array == 'SUB64':\n",
    "        # subarray siaf values are not quite right in MIRISim. Need to centroid to find x and y\n",
    "        # start with siaf values\n",
    "        siaf = pysiaf.Siaf('MIRI')\n",
    "        sub = siaf['MIRIM_SUB64']\n",
    "        x_initial = sub.XSciRef - 8 # known 8 pixel shift in subarray source position\n",
    "        y_initial = sub.YSciRef\n",
    "        \n",
    "        print(x_initial, y_initial)\n",
    "        \n",
    "        # Take initial estimate and centroid to find source\n",
    "        center = centroids.centroid_sources(model.data[0,0,:,:], x_initial, y_initial, box_size=11)\n",
    "        xcentroid = center[0][0]\n",
    "        ycentroid = center[1][0]\n",
    "        \n",
    "        print(center[0][0], center[1][0])   \n",
    "        model.meta.wcsinfo.crpix1 = xcentroid\n",
    "        model.meta.wcsinfo.crpix2 = ycentroid\n"
   ]
  },
  {
   "cell_type": "markdown",
   "metadata": {},
   "source": [
    "<a id=\"data_ID\"></a>\n",
    "# Loading Data\n",
    "\n",
    "Describe the data that is required for testing and why you chose it. Also mention whether it is Fake, Ground Test, Simulated Data, or on orbit data (when launched)\n",
    "\n",
    "[Top of Page](#title_ID)"
   ]
  },
  {
   "cell_type": "code",
   "execution_count": null,
   "metadata": {},
   "outputs": [],
   "source": [
    "# Some code to get data\n",
    "# hdu = fits.open(data_file)\n",
    "# dm = some code to create datamodel"
   ]
  },
  {
   "cell_type": "markdown",
   "metadata": {},
   "source": [
    "<a id=\"pipeline_ID\"></a>\n",
    "# Run JWST Pipeline\n",
    "\n",
    "Run the JWST pipeline step you are interested in testing\n",
    "\n",
    "[Top of Page](#title_ID)"
   ]
  },
  {
   "cell_type": "code",
   "execution_count": null,
   "metadata": {},
   "outputs": [],
   "source": [
    "#output = PipelineStep.call(dm)"
   ]
  },
  {
   "cell_type": "markdown",
   "metadata": {},
   "source": [
    "<a id=\"residual_ID\"></a>\n",
    "# Create Figure or Print Output\n",
    "\n",
    "Explain what type of data analysis you will do.\n",
    "\n",
    "1. Reshaping arrays\n",
    "2. Scale counts relative to highest pixel value\n",
    "3. plot data\n",
    "\n",
    "Also mention the tests Pass/Fail Criteria and what you should expect.\n",
    "\n",
    "[Top of Page](#title_ID)"
   ]
  },
  {
   "cell_type": "code",
   "execution_count": null,
   "metadata": {
    "nbpresent": {
     "id": "fb9e82bd-ecca-4033-ad38-8772e288b145"
    }
   },
   "outputs": [],
   "source": [
    "# data = output.reshape(x,y,z)\n",
    "# data = data.counts/np.max(data.counts)\n",
    "# plt.plot(data.counts['x'], data.counts[y])\n",
    "# plt.show()"
   ]
  },
  {
   "cell_type": "markdown",
   "metadata": {},
   "source": [
    "<a id=\"about_ID\"></a>\n",
    "## About this Notebook\n",
    "**Author:** Author Name, Job Title, Branch Name\n",
    "<br>**Updated On:** MM/DD/YYYY"
   ]
  },
  {
   "cell_type": "markdown",
   "metadata": {},
   "source": [
    "[Top of Page](#title_ID)\n",
    "<img style=\"float: right;\" src=\"./stsci_pri_combo_mark_horizonal_white_bkgd.png\" alt=\"stsci_pri_combo_mark_horizonal_white_bkgd\" width=\"200px\"/> "
   ]
  }
 ],
 "metadata": {
  "kernelspec": {
   "display_name": "Python 3",
   "language": "python",
   "name": "python3"
  },
  "language_info": {
   "codemirror_mode": {
    "name": "ipython",
    "version": 3
   },
   "file_extension": ".py",
   "mimetype": "text/x-python",
   "name": "python",
   "nbconvert_exporter": "python",
   "pygments_lexer": "ipython3",
   "version": "3.8.3"
  }
 },
 "nbformat": 4,
 "nbformat_minor": 1
}
