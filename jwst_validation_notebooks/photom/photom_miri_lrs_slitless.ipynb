{
 "cells": [
  {
   "cell_type": "markdown",
   "metadata": {},
   "source": [
    "<a id=\"title_ID\"></a>\n",
    "# JWST Pipeline Validation Testing Notebook: MIRI LRS Slitless spectroscopy\n",
    "# Step: photom() in Spec2Pipeline\n",
    "\n",
    "<span style=\"color:red\"> **Instruments Affected**</span>: MIRI \n",
    "\n",
    "### Table of Contents\n",
    "<div style=\"text-align: left\"> \n",
    "\n",
    "<br> [Imports](#imports_ID) <br> [Introduction](#intro_ID) <br> [Get Documentaion String for Markdown Blocks](#markdown_from_docs) <br> [Loading Data](#data_ID) <br> [Run JWST Pipeline](#pipeline_ID) <br> [Create Figure or Print Output](#residual_ID) <br> [About This Notebook](#about_ID) <br>\n",
    "\n",
    "</div>"
   ]
  },
  {
   "cell_type": "markdown",
   "metadata": {},
   "source": [
    "<a id=\"imports_ID\"></a>\n",
    "# Imports\n",
    "List the library imports and why they are relevant to this notebook.\n",
    "\n",
    "\n",
    "* os for simple operating system functions\n",
    "* glob for file finding\n",
    "* gwcs.wcstools for bounding box operations\n",
    "* astropy.io for opening fits files\n",
    "* inspect to get the docstring of our objects.\n",
    "* IPython.display for printing markdown output\n",
    "* jwst.datamodels for building model for JWST Pipeline\n",
    "* jwst.module.PipelineStep is the pipeline step being tested\n",
    "* Various pipeline steps\n",
    "* Various datamodels\n",
    "* matplotlib.pyplot to generate plot\n",
    "* matplotlib.patches to plot shapes\n",
    "* crds for retrieving a reference file\n",
    "* scipy interpolate\n",
    "* ci_watson for data retrieval from artifactory\n",
    "\n",
    "\n",
    "[Top of Page](#title_ID)"
   ]
  },
  {
   "cell_type": "code",
   "execution_count": null,
   "metadata": {},
   "outputs": [],
   "source": [
    "from ci_watson.artifactory_helpers import get_bigdata\n",
    "from astropy.io import fits\n",
    "import matplotlib.pyplot as plt\n",
    "import statistics as stat\n",
    "import numpy as np\n",
    "from jwst.pipeline import Detector1Pipeline, Spec2Pipeline, collect_pipeline_cfgs\n",
    "from jwst.pipeline import Spec2Pipeline\n",
    "from jwst.background import BackgroundStep\n",
    "from jwst.assign_wcs import AssignWcsStep\n",
    "from jwst.extract_2d import Extract2dStep\n",
    "from jwst.flatfield import FlatFieldStep\n",
    "from jwst.photom import PhotomStep\n",
    "from scipy import interpolate\n",
    "from jwst.datamodels import ImageModel, CubeModel, RampModel\n",
    "import crds\n",
    "import os\n",
    "import glob\n",
    "from jwst import datamodels\n",
    "from gwcs.wcstools import grid_from_bounding_box"
   ]
  },
  {
   "cell_type": "code",
   "execution_count": null,
   "metadata": {},
   "outputs": [],
   "source": [
    "Slitlessfile = get_bigdata('jwst_validation_notebooks',\n",
    "                                     'validation_data',\n",
    "                                     'calwebb_tso3',\n",
    "                                    'tso3_miri_test',\n",
    "                                    'pipetest_miri_lrs_tso_100G10I.fits')"
   ]
  },
  {
   "cell_type": "code",
   "execution_count": null,
   "metadata": {},
   "outputs": [],
   "source": [
    "if not os.path.exists('../cfg_files/'):\n",
    "    os.mkdir('../cfg_files/')\n",
    "    cfgs = collect_pipeline_cfgs.collect_pipeline_cfgs(dst='../cfg_files/')"
   ]
  },
  {
   "cell_type": "code",
   "execution_count": null,
   "metadata": {},
   "outputs": [],
   "source": [
    "# Box file location:\n",
    "det1 = Detector1Pipeline.call(Slitlessfile, config_file='../cfg_files/calwebb_tso1.cfg', save_results=True)"
   ]
  },
  {
   "cell_type": "code",
   "execution_count": null,
   "metadata": {},
   "outputs": [],
   "source": [
    "rifile = glob.glob('*_rateints.fits')\n",
    "print(rifile)\n",
    "\n",
    "det1_ints = datamodels.open(rifile[0])"
   ]
  },
  {
   "cell_type": "code",
   "execution_count": null,
   "metadata": {},
   "outputs": [],
   "source": [
    "awcs = AssignWcsStep.call(det1_ints, config_file='../cfg_files/assign_wcs.cfg', save_results=True)"
   ]
  },
  {
   "cell_type": "code",
   "execution_count": null,
   "metadata": {},
   "outputs": [],
   "source": [
    "ff = FlatFieldStep.call(awcs, config_file='../cfg_files/flat_field.cfg', save_results='True')"
   ]
  },
  {
   "cell_type": "code",
   "execution_count": null,
   "metadata": {},
   "outputs": [],
   "source": [
    "pho = PhotomStep.call(ff, config_file='../cfg_files/photom.cfg', save_results='True')"
   ]
  },
  {
   "cell_type": "code",
   "execution_count": null,
   "metadata": {},
   "outputs": [],
   "source": [
    "fig = plt.figure(figsize=[12,10])\n",
    "plt.imshow(pho.data[0,:,:], origin='lower')\n",
    "plt.title('Data - photom')\n",
    "plt.colorbar()"
   ]
  },
  {
   "cell_type": "code",
   "execution_count": null,
   "metadata": {},
   "outputs": [],
   "source": [
    "phoreffile = pho.meta.ref_file.photom.name\n",
    "file = phoreffile.split(\"/\")[2]\n",
    "basename = crds.core.config.pop_crds_uri(phoreffile)\n",
    "path = crds.locate_file(basename, \"jwst\")\n",
    "reffile = datamodels.open(path)"
   ]
  },
  {
   "cell_type": "code",
   "execution_count": null,
   "metadata": {},
   "outputs": [],
   "source": [
    "point1 = (36,290)\n",
    "ra1, dec1, wave1 = pho.meta.wcs(point1[0],point1[1])\n",
    "point2 = (36,200)\n",
    "ra2, dec2, wave2 = pho.meta.wcs(point2[0],point2[1])\n",
    "point3 = (37,225)\n",
    "ra3, dec3, wave3 = pho.meta.wcs(point3[0],point3[1])\n",
    "point4 = (42,310)\n",
    "ra4, dec4, wave4 = pho.meta.wcs(point4[0],point4[1])\n",
    "point5 = (30,250)\n",
    "ra5, dec5, wave5 = pho.meta.wcs(point5[0],point5[1])\n",
    "plt.imshow(pho.data[0], origin='lower')\n",
    "plt.plot([point1[0],point2[0],point3[0],point4[0],point5[0]],[point1[1],point2[1],point3[1],point4[1],point5[1]],'.')\n",
    "plt.show()\n",
    "xpts = [point1[0], point2[0], point3[0], point4[0], point5[0]]\n",
    "ypts = [point1[1], point2[1], point3[1], point4[1], point5[1]]"
   ]
  },
  {
   "cell_type": "code",
   "execution_count": null,
   "metadata": {},
   "outputs": [],
   "source": [
    "ra1, dec1, wave_1 = pho.meta.wcs(point1[0],point1[1])\n",
    "ra2, dec2, wave_2 = pho.meta.wcs(point2[0],point2[1])\n",
    "ra3, dec3, wave_3 = pho.meta.wcs(point3[0],point3[1])\n",
    "ra4, dec4, wave_4 = pho.meta.wcs(point4[0],point4[1])\n",
    "ra5, dec5, wave_5 = pho.meta.wcs(point5[0],point5[1])\n",
    "\n",
    "waves = [wave_1, wave_2, wave_3, wave_4, wave_5]"
   ]
  },
  {
   "cell_type": "code",
   "execution_count": null,
   "metadata": {},
   "outputs": [],
   "source": [
    "wavelocs = []\n",
    "relresp = []\n",
    "\n",
    "\n",
    "wloc = [np.argmin(np.abs(reffile.phot_table['wavelength'] - ww)) for ww in waves]\n",
    "wmatch = [reffile.phot_table['wavelength'][0,ll] for ll in wloc]\n",
    "wmatch_plus = [reffile.phot_table['wavelength'][0,ll+1] for ll in wloc]\n",
    "wmatch_minus = [reffile.phot_table['wavelength'][0,ll-1] for ll in wloc]\n",
    "relresp = [reffile.phot_table['relresponse'][0,ll] for ll in wloc]"
   ]
  },
  {
   "cell_type": "code",
   "execution_count": null,
   "metadata": {},
   "outputs": [],
   "source": [
    "f = interpolate.interp1d(reffile.phot_table['wavelength'][0,:], reffile.phot_table['relresponse'][0,:])\n",
    "iresp = [f(ww) for ww in waves]\n",
    "\n",
    "# plot for sanity check!\n",
    "plt.figure(figsize=[8,8])\n",
    "plt.plot(reffile.phot_table['wavelength'][0,:], reffile.phot_table['relresponse'][0,:])\n",
    "plt.plot(waves, iresp, 'rx', label='interpolated points')\n",
    "plt.show()"
   ]
  },
  {
   "cell_type": "code",
   "execution_count": null,
   "metadata": {},
   "outputs": [],
   "source": [
    "fconv = [reffile.phot_table['photmjsr'][0] * ir for ir in iresp]\n",
    "print(fconv)"
   ]
  },
  {
   "cell_type": "code",
   "execution_count": null,
   "metadata": {},
   "outputs": [],
   "source": [
    "dratio = [pho.data[0,yy,xx]/ff.data[0,yy,xx] for xx,yy in zip(xpts, ypts)]\n",
    "\n",
    "# print these numbers next to each other to see if they match\n",
    "print('Ratio of data points     Calculated conversion factor')\n",
    "for rr, fc in zip(dratio, fconv):\n",
    "    print('{0:.5f}                {1:.5f}'.format(rr,fc))\n",
    "    assert np.isclose(rr,fc, rtol=1e-6), \"Numbers don't match to within 1e-6\""
   ]
  },
  {
   "cell_type": "code",
   "execution_count": null,
   "metadata": {},
   "outputs": [],
   "source": [
    "x,y = grid_from_bounding_box(ff.meta.wcs.bounding_box)\n",
    "ra, dec, lam = ff.meta.wcs(x, y)\n",
    "\n",
    "lam_vec = np.mean(lam, axis=1)\n",
    "\n",
    "print(ff.meta.wcs.bounding_box)\n",
    "\n",
    "flat_test = ff.data[:,6:397, :]\n",
    "pho_test = pho.data[:,6:397, :]\n",
    "\n",
    "\n",
    "print(np.shape(flat_test))\n",
    "print(len(lam_vec))\n",
    "fig = plt.figure()\n",
    "for i in range(10):\n",
    "    plt.plot(lam_vec, pho_test[i,:,40])\n",
    "    #plt.plot(lam_vec, flat_test[i,:,40])\n",
    "    \n",
    "plt.title('LRS slitless test, calibrated')\n",
    "plt.ylabel('MJy/sr')\n",
    "plt.savefig('photom_slitless_test_cal.png')\n",
    "fig.show()"
   ]
  },
  {
   "cell_type": "markdown",
   "metadata": {},
   "source": [
    "**Authors**\n",
    "* K. Murray, kmurray@stsci.edu, MIRI Branch\n",
    "* S. Kendrew, sarah.kendrew@esa.int, ESA/MIRI Branch\n",
    "\n",
    "Last updated\n",
    "Jan 14th 2021"
   ]
  },
  {
   "cell_type": "code",
   "execution_count": null,
   "metadata": {},
   "outputs": [],
   "source": []
  }
 ],
 "metadata": {
  "kernelspec": {
   "display_name": "Python 3",
   "language": "python",
   "name": "python3"
  },
  "language_info": {
   "codemirror_mode": {
    "name": "ipython",
    "version": 3
   },
   "file_extension": ".py",
   "mimetype": "text/x-python",
   "name": "python",
   "nbconvert_exporter": "python",
   "pygments_lexer": "ipython3",
   "version": "3.8.5"
  }
 },
 "nbformat": 4,
 "nbformat_minor": 4
}
