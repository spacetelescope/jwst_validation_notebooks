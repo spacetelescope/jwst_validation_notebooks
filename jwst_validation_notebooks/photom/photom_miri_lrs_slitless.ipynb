{
 "cells": [
  {
   "cell_type": "markdown",
   "metadata": {},
   "source": [
    "<a id=\"title_ID\"></a>\n",
    "# JWST Pipeline Validation Testing Notebook: MIRI LRS Slitless spectroscopy\n",
    "# Step: photom() in Spec2Pipeline\n",
    "\n",
    "<span style=\"color:red\"> **Instruments Affected**</span>: MIRI \n",
    "\n",
    "### Table of Contents\n",
    "<div style=\"text-align: left\"> \n",
    "\n",
    "<br> [Imports](#imports_ID) <br> [Introduction](#intro_ID) <br> [Get Documentaion String for Markdown Blocks](#markdown_from_docs) <br> [Loading Data](#data_ID) <br> [Run JWST Pipeline](#pipeline_ID) <br> [Create Figure or Print Output](#residual_ID) <br> [About This Notebook](#about_ID) <br>\n",
    "\n",
    "</div>"
   ]
  },
  {
   "cell_type": "markdown",
   "metadata": {},
   "source": [
    "<a id=\"imports_ID\"></a>\n",
    "# Imports\n",
    "List the library imports and why they are relevant to this notebook.\n",
    "\n",
    "\n",
    "* os for simple operating system functions\n",
    "* glob for file finding\n",
    "* gwcs.wcstools for bounding box operations\n",
    "* astropy.io for opening fits files\n",
    "* inspect to get the docstring of our objects.\n",
    "* IPython.display for printing markdown output\n",
    "* jwst.datamodels for building model for JWST Pipeline\n",
    "* jwst.module.PipelineStep is the pipeline step being tested\n",
    "* Various pipeline steps\n",
    "* Various datamodels\n",
    "* matplotlib.pyplot to generate plot\n",
    "* matplotlib.patches to plot shapes\n",
    "* crds for retrieving a reference file\n",
    "* scipy interpolate\n",
    "* ci_watson for data retrieval from artifactory\n",
    "\n",
    "\n",
    "[Top of Page](#title_ID)"
   ]
  },
  {
   "cell_type": "code",
   "execution_count": null,
   "metadata": {},
   "outputs": [],
   "source": [
    "from ci_watson.artifactory_helpers import get_bigdata\n",
    "from astropy.io import fits\n",
    "import matplotlib.pyplot as plt\n",
    "import statistics as stat\n",
    "import numpy as np\n",
    "from jwst.pipeline import Detector1Pipeline, Spec2Pipeline, collect_pipeline_cfgs\n",
    "from jwst.pipeline import Spec2Pipeline\n",
    "from jwst.background import BackgroundStep\n",
    "from jwst.assign_wcs import AssignWcsStep\n",
    "from jwst.extract_2d import Extract2dStep\n",
    "from jwst.flatfield import FlatFieldStep\n",
    "from jwst.photom import PhotomStep\n",
    "from scipy import interpolate\n",
    "from jwst.datamodels import ImageModel, CubeModel, RampModel\n",
    "import crds\n",
    "import os\n",
    "import glob\n",
    "from jwst import datamodels\n",
    "from gwcs.wcstools import grid_from_bounding_box"
   ]
  },
  {
   "cell_type": "code",
   "execution_count": null,
   "metadata": {},
   "outputs": [],
   "source": [
    "Slitlessfile = get_bigdata('jwst_validation_notebooks',\n",
    "                                     'validation_data',\n",
    "                                     'calwebb_tso3',\n",
    "                                    'tso3_miri_test',\n",
    "                                    'pipetest_miri_lrs_tso_100G10I.fits')"
   ]
  },
  {
   "cell_type": "code",
   "execution_count": null,
   "metadata": {},
   "outputs": [],
   "source": [
    "if not os.path.exists('../cfg_files/'):\n",
    "    os.mkdir('../cfg_files/')\n",
    "    cfgs = collect_pipeline_cfgs.collect_pipeline_cfgs(dst='../cfg_files/')"
   ]
  },
  {
   "cell_type": "code",
   "execution_count": null,
   "metadata": {},
   "outputs": [],
   "source": [
    "# Box file location:\n",
    "det1 = Detector1Pipeline.call(Slitlessfile, config_file='../cfg_files/calwebb_tso1.cfg', save_results=True)"
   ]
  },
  {
   "cell_type": "code",
   "execution_count": null,
   "metadata": {},
   "outputs": [],
   "source": [
    "rifile = glob.glob('*_rateints.fits')\n",
    "print(rifile)\n",
    "\n",
    "det1_ints = datamodels.open(rifile[0])"
   ]
  },
  {
   "cell_type": "code",
   "execution_count": null,
   "metadata": {},
   "outputs": [],
   "source": [
    "sp2 = Spec2Pipeline.call(det1_ints, config_file='../cfg_files/calwebb_tso-spec2.cfg', steps={'flat_field': {'save_results': True}, 'extract_1d': {'skip': True}})\n",
    "print(sp2)"
   ]
  },
  {
   "cell_type": "code",
   "execution_count": null,
   "metadata": {},
   "outputs": [],
   "source": [
    "print(len(sp2))\n",
    "ffile = glob.glob('pipetest*_flat_field.fits')\n",
    "print(ffile)\n",
    "\n",
    "ff = datamodels.open(ffile[0])\n",
    "fig, ax = plt.subplots(nrows=1, ncols=3, figsize=[16,10])\n",
    "ax[0].imshow(sp2[0].data[0,:,:], origin='lower', interpolation='None')\n",
    "ax[0].set_title('Calints file, Int 1')\n",
    "\n",
    "ax[1].imshow(ff.data[0,:,:], origin='lower', interpolation='None')\n",
    "ax[1].set_title('Flat_field file, Int 1')\n",
    "\n",
    "ax[2].imshow(sp2[0].data[0,:,:]/ff.data[0,:,:], origin='lower', interpolation='None')\n",
    "ax[2].set_title('calints/ff, Int 1')\n",
    "\n"
   ]
  },
  {
   "cell_type": "code",
   "execution_count": null,
   "metadata": {},
   "outputs": [],
   "source": [
    "pho = sp2[0]\n",
    "point1 = (36,380)\n",
    "ra1, dec1, wave1 = pho.meta.wcs(point1[0],point1[1])\n",
    "point2 = (36,200)\n",
    "ra2, dec2, wave2 = pho.meta.wcs(point2[0],point2[1])\n",
    "point3 = (37,225)\n",
    "ra3, dec3, wave3 = pho.meta.wcs(point3[0],point3[1])\n",
    "point4 = (42,310)\n",
    "ra4, dec4, wave4 = pho.meta.wcs(point4[0],point4[1])\n",
    "point5 = (30,250)\n",
    "ra5, dec5, wave5 = pho.meta.wcs(point5[0],point5[1])\n",
    "fig = plt.figure(figsize=[4,10])\n",
    "plt.imshow(pho.data[0], origin='lower', interpolation='None')\n",
    "plt.plot([point1[0],point2[0],point3[0],point4[0],point5[0]],[point1[1],point2[1],point3[1],point4[1],point5[1]],'.', color='r')\n",
    "plt.show()\n",
    "xpts = [point1[0], point2[0], point3[0], point4[0], point5[0]]\n",
    "ypts = [point1[1], point2[1], point3[1], point4[1], point5[1]]\n",
    "\n",
    "waves = [wave1, wave2, wave3, wave4, wave5]\n",
    "print(waves)"
   ]
  },
  {
   "cell_type": "code",
   "execution_count": null,
   "metadata": {},
   "outputs": [],
   "source": [
    "phoreffile = pho.meta.ref_file.photom.name\n",
    "file = phoreffile.split(\"/\")[2]\n",
    "basename = crds.core.config.pop_crds_uri(phoreffile)\n",
    "path = crds.locate_file(basename, \"jwst\")\n",
    "reffile = datamodels.open(path)\n",
    "print(phoreffile)"
   ]
  },
  {
   "cell_type": "code",
   "execution_count": null,
   "metadata": {},
   "outputs": [],
   "source": [
    "wavelocs = []\n",
    "relresp = []\n",
    "\n",
    "\n",
    "wloc = [np.argmin(np.abs(reffile.phot_table['wavelength'] - ww)) for ww in waves]\n",
    "wmatch = [reffile.phot_table['wavelength'][0,ll] for ll in wloc]\n",
    "wmatch_plus = [reffile.phot_table['wavelength'][0,ll+1] for ll in wloc]\n",
    "wmatch_minus = [reffile.phot_table['wavelength'][0,ll-1] for ll in wloc]\n",
    "relresp = [reffile.phot_table['relresponse'][0,ll] for ll in wloc]\n",
    "print(relresp)"
   ]
  },
  {
   "cell_type": "code",
   "execution_count": null,
   "metadata": {},
   "outputs": [],
   "source": [
    "f = interpolate.interp1d(reffile.phot_table['wavelength'][0,:], reffile.phot_table['relresponse'][0,:], assume_sorted=False)\n",
    "iresp = [f(ww) for ww in waves]\n",
    "\n",
    "print(pho.meta.wcs.bounding_box)\n",
    "\n",
    "# plot for sanity check!\n",
    "plt.figure(figsize=[8,8])\n",
    "plt.plot(reffile.phot_table['wavelength'][0,:], reffile.phot_table['relresponse'][0,:])\n",
    "plt.plot(waves, iresp, 'rx', label='interpolated points')\n",
    "\n",
    "\n",
    "x,y = grid_from_bounding_box(pho.meta.wcs.bounding_box)\n",
    "ra, dec, lam = pho.meta.wcs(x, y)\n",
    "\n",
    "ref_ratio = sp2[0].data[0,6:397,:]/ff.data[0,6:397,:]\n",
    "ref_ratio_av = np.mean(ref_ratio[:,25:45], axis=1)\n",
    "\n",
    "lam_vec = np.mean(lam, axis=1)\n",
    "plt.plot(lam_vec, ref_ratio_av/reffile.phot_table['photmjsr'][0], 'r--')\n",
    "plt.show()"
   ]
  },
  {
   "cell_type": "code",
   "execution_count": null,
   "metadata": {},
   "outputs": [],
   "source": [
    "fconv = [reffile.phot_table['photmjsr'][0] * ir for ir in iresp]\n",
    "print(fconv)"
   ]
  },
  {
   "cell_type": "code",
   "execution_count": null,
   "metadata": {},
   "outputs": [],
   "source": [
    "dratio = [pho.data[0,yy,xx]/ff.data[0,yy,xx] for xx,yy in zip(xpts, ypts)]\n",
    "\n",
    "# print these numbers next to each other to see if they match\n",
    "print('Ratio of data points     Calculated conversion factor')\n",
    "for rr, fc in zip(dratio, fconv):\n",
    "    print('{0:.5f}                {1:.5f}'.format(rr,fc))\n",
    "    assert np.isclose(rr,fc, rtol=1e-6), \"Numbers don't match to within 1e-6\""
   ]
  },
  {
   "cell_type": "markdown",
   "metadata": {},
   "source": [
    "**If the assert test passes, the step is correctly implemented**\n",
    "\n",
    "**Authors**\n",
    "* K. Murray, kmurray@stsci.edu, MIRI Branch\n",
    "* S. Kendrew, sarah.kendrew@esa.int, ESA/MIRI Branch\n",
    "\n",
    "Last updated\n",
    "Feb 1st 2021"
   ]
  },
  {
   "cell_type": "code",
   "execution_count": null,
   "metadata": {},
   "outputs": [],
   "source": []
  }
 ],
 "metadata": {
  "kernelspec": {
   "display_name": "Python 3",
   "language": "python",
   "name": "python3"
  },
  "language_info": {
   "codemirror_mode": {
    "name": "ipython",
    "version": 3
   },
   "file_extension": ".py",
   "mimetype": "text/x-python",
   "name": "python",
   "nbconvert_exporter": "python",
   "pygments_lexer": "ipython3",
   "version": "3.8.5"
  }
 },
 "nbformat": 4,
 "nbformat_minor": 4
}
