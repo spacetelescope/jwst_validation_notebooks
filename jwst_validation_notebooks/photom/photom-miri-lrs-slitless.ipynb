{
 "cells": [
  {
   "cell_type": "code",
   "execution_count": 24,
   "metadata": {},
   "outputs": [],
   "source": [
    "from ci_watson.artifactory_helpers import get_bigdata\n",
    "from astropy.io import fits\n",
    "import matplotlib.pyplot as plt\n",
    "import statistics as stat\n",
    "import numpy as np\n",
    "from jwst.pipeline import Detector1Pipeline, Spec2Pipeline, collect_pipeline_cfgs\n",
    "from jwst.pipeline import Spec2Pipeline\n",
    "from jwst.background import BackgroundStep\n",
    "from jwst.assign_wcs import AssignWcsStep\n",
    "from jwst.extract_2d import Extract2dStep\n",
    "from jwst.flatfield import FlatFieldStep\n",
    "from jwst.photom import PhotomStep\n",
    "from astropy.utils.data import download_file\n",
    "from scipy import interpolate\n",
    "from jwst.datamodels import ImageModel, CubeModel, RampModel\n",
    "import crds\n",
    "import os\n",
    "import glob\n",
    "from jwst import datamodels"
   ]
  },
  {
   "cell_type": "code",
   "execution_count": 8,
   "metadata": {},
   "outputs": [],
   "source": [
    "Slitlessfile = get_bigdata('jwst_validation_notebooks',\n",
    "                                     'validation_data',\n",
    "                                     'calwebb_tso3',\n",
    "                                    'tso3_miri_test',\n",
    "                                    'pipetest_miri_lrs_tso_100G10I.fits')"
   ]
  },
  {
   "cell_type": "code",
   "execution_count": 7,
   "metadata": {},
   "outputs": [],
   "source": [
    "if not os.path.exists('../cfg_files/'):\n",
    "    os.mkdir('../cfg_files/')\n",
    "    cfgs = collect_pipeline_cfgs.collect_pipeline_cfgs(dst='../cfg_files/')"
   ]
  },
  {
   "cell_type": "code",
   "execution_count": 10,
   "metadata": {},
   "outputs": [
    {
     "name": "stderr",
     "output_type": "stream",
     "text": [
      "2020-12-14 12:55:35,544 - CRDS - ERROR -  Error determining best reference for 'pars-rscd_step'  =   Unknown reference type 'pars-rscd_step'\n",
      "2020-12-14 12:55:35,617 - stpipe.Detector1Pipeline - INFO - Detector1Pipeline instance created.\n",
      "2020-12-14 12:55:35,618 - stpipe.Detector1Pipeline.group_scale - INFO - GroupScaleStep instance created.\n",
      "2020-12-14 12:55:35,619 - stpipe.Detector1Pipeline.dq_init - INFO - DQInitStep instance created.\n",
      "2020-12-14 12:55:35,621 - stpipe.Detector1Pipeline.saturation - INFO - SaturationStep instance created.\n",
      "2020-12-14 12:55:35,623 - stpipe.Detector1Pipeline.ipc - INFO - IPCStep instance created.\n",
      "2020-12-14 12:55:35,624 - stpipe.Detector1Pipeline.superbias - INFO - SuperBiasStep instance created.\n",
      "2020-12-14 12:55:35,626 - stpipe.Detector1Pipeline.refpix - INFO - RefPixStep instance created.\n",
      "2020-12-14 12:55:35,627 - stpipe.Detector1Pipeline.rscd - INFO - RSCD_Step instance created.\n",
      "2020-12-14 12:55:35,629 - stpipe.Detector1Pipeline.firstframe - INFO - FirstFrameStep instance created.\n",
      "2020-12-14 12:55:35,630 - stpipe.Detector1Pipeline.lastframe - INFO - LastFrameStep instance created.\n",
      "2020-12-14 12:55:35,632 - stpipe.Detector1Pipeline.linearity - INFO - LinearityStep instance created.\n",
      "2020-12-14 12:55:35,633 - stpipe.Detector1Pipeline.dark_current - INFO - DarkCurrentStep instance created.\n",
      "2020-12-14 12:55:35,634 - stpipe.Detector1Pipeline.persistence - INFO - PersistenceStep instance created.\n",
      "2020-12-14 12:55:35,636 - stpipe.Detector1Pipeline.jump - INFO - JumpStep instance created.\n",
      "2020-12-14 12:55:35,637 - stpipe.Detector1Pipeline.ramp_fit - INFO - RampFitStep instance created.\n",
      "2020-12-14 12:55:35,639 - stpipe.Detector1Pipeline.gain_scale - INFO - GainScaleStep instance created.\n",
      "2020-12-14 12:55:35,729 - stpipe.Detector1Pipeline - INFO - Step Detector1Pipeline running with args ('/Users/kmurray/lrs_nOPS7-OTB-20191216_simulation/pipetest_miri_lrs_tso_100G10I.fits',).\n",
      "2020-12-14 12:55:35,738 - stpipe.Detector1Pipeline - INFO - Step Detector1Pipeline parameters are: {'pre_hooks': [], 'post_hooks': [], 'output_file': None, 'output_dir': None, 'output_ext': '.fits', 'output_use_model': False, 'output_use_index': True, 'save_results': True, 'skip': False, 'suffix': None, 'search_output_file': True, 'input_dir': '', 'save_calibrated_ramp': False, 'steps': {'group_scale': {'pre_hooks': [], 'post_hooks': [], 'output_file': None, 'output_dir': None, 'output_ext': '.fits', 'output_use_model': False, 'output_use_index': True, 'save_results': False, 'skip': False, 'suffix': None, 'search_output_file': True, 'input_dir': ''}, 'dq_init': {'pre_hooks': [], 'post_hooks': [], 'output_file': None, 'output_dir': None, 'output_ext': '.fits', 'output_use_model': False, 'output_use_index': True, 'save_results': False, 'skip': False, 'suffix': None, 'search_output_file': True, 'input_dir': ''}, 'saturation': {'pre_hooks': [], 'post_hooks': [], 'output_file': None, 'output_dir': None, 'output_ext': '.fits', 'output_use_model': False, 'output_use_index': True, 'save_results': False, 'skip': False, 'suffix': None, 'search_output_file': True, 'input_dir': ''}, 'ipc': {'pre_hooks': [], 'post_hooks': [], 'output_file': None, 'output_dir': None, 'output_ext': '.fits', 'output_use_model': False, 'output_use_index': True, 'save_results': False, 'skip': True, 'suffix': None, 'search_output_file': True, 'input_dir': ''}, 'superbias': {'pre_hooks': [], 'post_hooks': [], 'output_file': None, 'output_dir': None, 'output_ext': '.fits', 'output_use_model': False, 'output_use_index': True, 'save_results': False, 'skip': False, 'suffix': None, 'search_output_file': True, 'input_dir': ''}, 'refpix': {'pre_hooks': [], 'post_hooks': [], 'output_file': None, 'output_dir': None, 'output_ext': '.fits', 'output_use_model': False, 'output_use_index': True, 'save_results': False, 'skip': False, 'suffix': None, 'search_output_file': True, 'input_dir': '', 'odd_even_columns': True, 'use_side_ref_pixels': True, 'side_smoothing_length': 11, 'side_gain': 1.0, 'odd_even_rows': True}, 'rscd': {'pre_hooks': [], 'post_hooks': [], 'output_file': None, 'output_dir': None, 'output_ext': '.fits', 'output_use_model': False, 'output_use_index': True, 'save_results': False, 'skip': False, 'suffix': None, 'search_output_file': True, 'input_dir': '', 'type': 'baseline'}, 'firstframe': {'pre_hooks': [], 'post_hooks': [], 'output_file': None, 'output_dir': None, 'output_ext': '.fits', 'output_use_model': False, 'output_use_index': True, 'save_results': False, 'skip': False, 'suffix': None, 'search_output_file': True, 'input_dir': ''}, 'lastframe': {'pre_hooks': [], 'post_hooks': [], 'output_file': None, 'output_dir': None, 'output_ext': '.fits', 'output_use_model': False, 'output_use_index': True, 'save_results': False, 'skip': False, 'suffix': None, 'search_output_file': True, 'input_dir': ''}, 'linearity': {'pre_hooks': [], 'post_hooks': [], 'output_file': None, 'output_dir': None, 'output_ext': '.fits', 'output_use_model': False, 'output_use_index': True, 'save_results': False, 'skip': False, 'suffix': None, 'search_output_file': True, 'input_dir': ''}, 'dark_current': {'pre_hooks': [], 'post_hooks': [], 'output_file': None, 'output_dir': None, 'output_ext': '.fits', 'output_use_model': False, 'output_use_index': True, 'save_results': False, 'skip': False, 'suffix': None, 'search_output_file': True, 'input_dir': '', 'dark_output': None}, 'persistence': {'pre_hooks': [], 'post_hooks': [], 'output_file': None, 'output_dir': None, 'output_ext': '.fits', 'output_use_model': False, 'output_use_index': True, 'save_results': False, 'skip': False, 'suffix': None, 'search_output_file': True, 'input_dir': '', 'input_trapsfilled': '', 'flag_pers_cutoff': 40.0, 'save_persistence': False, 'save_trapsfilled': True}, 'jump': {'pre_hooks': [], 'post_hooks': [], 'output_file': None, 'output_dir': None, 'output_ext': '.fits', 'output_use_model': False, 'output_use_index': True, 'save_results': False, 'skip': False, 'suffix': None, 'search_output_file': True, 'input_dir': '', 'rejection_threshold': 4.0, 'maximum_cores': 'none', 'flag_4_neighbors': True, 'max_jump_to_flag_neighbors': 200.0, 'min_jump_to_flag_neighbors': 10.0}, 'ramp_fit': {'pre_hooks': [], 'post_hooks': [], 'output_file': None, 'output_dir': None, 'output_ext': '.fits', 'output_use_model': False, 'output_use_index': True, 'save_results': False, 'skip': False, 'suffix': None, 'search_output_file': True, 'input_dir': '', 'int_name': '', 'save_opt': False, 'opt_name': '', 'maximum_cores': 'none'}, 'gain_scale': {'pre_hooks': [], 'post_hooks': [], 'output_file': None, 'output_dir': None, 'output_ext': '.fits', 'output_use_model': False, 'output_use_index': True, 'save_results': False, 'skip': False, 'suffix': None, 'search_output_file': True, 'input_dir': ''}}}\n",
      "2020-12-14 12:55:35,916 - stpipe.Detector1Pipeline - INFO - Prefetching reference files for dataset: 'pipetest_miri_lrs_tso_100G10I.fits' reftypes = ['dark', 'gain', 'linearity', 'mask', 'persat', 'readnoise', 'refpix', 'rscd', 'saturation', 'superbias', 'trapdensity', 'trappars']\n",
      "2020-12-14 12:55:36,457 - stpipe.Detector1Pipeline - INFO - Prefetch for DARK reference file is '/grp/crds/cache/references/jwst/jwst_miri_dark_0048.fits'.\n",
      "2020-12-14 12:55:36,507 - stpipe.Detector1Pipeline - INFO - Prefetch for GAIN reference file is '/grp/crds/cache/references/jwst/jwst_miri_gain_0008.fits'.\n",
      "2020-12-14 12:55:36,560 - stpipe.Detector1Pipeline - INFO - Prefetch for LINEARITY reference file is '/grp/crds/cache/references/jwst/jwst_miri_linearity_0024.fits'.\n",
      "2020-12-14 12:55:36,611 - stpipe.Detector1Pipeline - INFO - Prefetch for MASK reference file is '/grp/crds/cache/references/jwst/jwst_miri_mask_0023.fits'.\n",
      "2020-12-14 12:55:36,666 - stpipe.Detector1Pipeline - INFO - Prefetch for PERSAT reference file is 'N/A'.\n",
      "2020-12-14 12:55:36,667 - stpipe.Detector1Pipeline - INFO - Prefetch for READNOISE reference file is '/grp/crds/cache/references/jwst/jwst_miri_readnoise_0070.fits'.\n",
      "2020-12-14 12:55:36,720 - stpipe.Detector1Pipeline - INFO - Prefetch for REFPIX reference file is 'N/A'.\n",
      "2020-12-14 12:55:36,721 - stpipe.Detector1Pipeline - INFO - Prefetch for RSCD reference file is '/grp/crds/cache/references/jwst/jwst_miri_rscd_0010.fits'.\n"
     ]
    },
    {
     "name": "stderr",
     "output_type": "stream",
     "text": [
      "2020-12-14 12:55:36,772 - stpipe.Detector1Pipeline - INFO - Prefetch for SATURATION reference file is '/grp/crds/cache/references/jwst/jwst_miri_saturation_0022.fits'.\n",
      "2020-12-14 12:55:36,826 - stpipe.Detector1Pipeline - INFO - Prefetch for SUPERBIAS reference file is 'N/A'.\n",
      "2020-12-14 12:55:36,827 - stpipe.Detector1Pipeline - INFO - Prefetch for TRAPDENSITY reference file is 'N/A'.\n",
      "2020-12-14 12:55:36,828 - stpipe.Detector1Pipeline - INFO - Prefetch for TRAPPARS reference file is 'N/A'.\n",
      "2020-12-14 12:55:36,830 - stpipe.Detector1Pipeline - INFO - Starting calwebb_detector1 ...\n",
      "2020-12-14 12:55:37,213 - stpipe.Detector1Pipeline.group_scale - INFO - Step group_scale running with args (<RampModel(10, 100, 416, 72) from pipetest_miri_lrs_tso_100G10I.fits>,).\n",
      "2020-12-14 12:55:37,215 - stpipe.Detector1Pipeline.group_scale - INFO - Step group_scale parameters are: {'pre_hooks': [], 'post_hooks': [], 'output_file': None, 'output_dir': None, 'output_ext': '.fits', 'output_use_model': False, 'output_use_index': True, 'save_results': False, 'skip': False, 'suffix': None, 'search_output_file': True, 'input_dir': '/Users/kmurray/lrs_nOPS7-OTB-20191216_simulation'}\n",
      "2020-12-14 12:55:37,227 - stpipe.Detector1Pipeline.group_scale - INFO - NFRAMES=1 is a power of 2; correction not needed\n",
      "2020-12-14 12:55:37,228 - stpipe.Detector1Pipeline.group_scale - INFO - Step will be skipped\n",
      "2020-12-14 12:55:37,230 - stpipe.Detector1Pipeline.group_scale - INFO - Step group_scale done\n",
      "2020-12-14 12:55:37,331 - stpipe.Detector1Pipeline.dq_init - INFO - Step dq_init running with args (<RampModel(10, 100, 416, 72) from pipetest_miri_lrs_tso_100G10I.fits>,).\n",
      "2020-12-14 12:55:37,333 - stpipe.Detector1Pipeline.dq_init - INFO - Step dq_init parameters are: {'pre_hooks': [], 'post_hooks': [], 'output_file': None, 'output_dir': None, 'output_ext': '.fits', 'output_use_model': False, 'output_use_index': True, 'save_results': False, 'skip': False, 'suffix': None, 'search_output_file': True, 'input_dir': '/Users/kmurray/lrs_nOPS7-OTB-20191216_simulation'}\n",
      "2020-12-14 12:55:37,369 - stpipe.Detector1Pipeline.dq_init - INFO - Using MASK reference file /grp/crds/cache/references/jwst/jwst_miri_mask_0023.fits\n",
      "2020-12-14 12:55:39,115 - stpipe.Detector1Pipeline.dq_init - INFO - Extracting mask subarray to match science data\n",
      "2020-12-14 12:55:39,125 - stpipe.Detector1Pipeline.dq_init - INFO - Step dq_init done\n",
      "2020-12-14 12:55:39,230 - stpipe.Detector1Pipeline.saturation - INFO - Step saturation running with args (<RampModel(10, 100, 416, 72) from pipetest_miri_lrs_tso_100G10I.fits>,).\n",
      "2020-12-14 12:55:39,232 - stpipe.Detector1Pipeline.saturation - INFO - Step saturation parameters are: {'pre_hooks': [], 'post_hooks': [], 'output_file': None, 'output_dir': None, 'output_ext': '.fits', 'output_use_model': False, 'output_use_index': True, 'save_results': False, 'skip': False, 'suffix': None, 'search_output_file': True, 'input_dir': '/Users/kmurray/lrs_nOPS7-OTB-20191216_simulation'}\n",
      "2020-12-14 12:55:39,267 - stpipe.Detector1Pipeline.saturation - INFO - Using SATURATION reference file /grp/crds/cache/references/jwst/jwst_miri_saturation_0022.fits\n",
      "2020-12-14 12:55:42,706 - stpipe.Detector1Pipeline.saturation - INFO - Extracting reference file subarray to match science data\n",
      "2020-12-14 12:55:43,377 - stpipe.Detector1Pipeline.saturation - INFO - Step saturation done\n",
      "2020-12-14 12:55:43,538 - stpipe.Detector1Pipeline.ipc - INFO - Step ipc running with args (<RampModel(10, 100, 416, 72) from pipetest_miri_lrs_tso_100G10I.fits>,).\n",
      "2020-12-14 12:55:43,541 - stpipe.Detector1Pipeline.ipc - INFO - Step ipc parameters are: {'pre_hooks': [], 'post_hooks': [], 'output_file': None, 'output_dir': None, 'output_ext': '.fits', 'output_use_model': False, 'output_use_index': True, 'save_results': False, 'skip': True, 'suffix': None, 'search_output_file': True, 'input_dir': '/Users/kmurray/lrs_nOPS7-OTB-20191216_simulation'}\n",
      "2020-12-14 12:55:43,542 - stpipe.Detector1Pipeline.ipc - INFO - Step skipped.\n",
      "2020-12-14 12:55:43,543 - stpipe.Detector1Pipeline.ipc - INFO - Step ipc done\n",
      "2020-12-14 12:55:43,634 - stpipe.Detector1Pipeline.firstframe - INFO - Step firstframe running with args (<RampModel(10, 100, 416, 72) from pipetest_miri_lrs_tso_100G10I.fits>,).\n",
      "2020-12-14 12:55:43,635 - stpipe.Detector1Pipeline.firstframe - INFO - Step firstframe parameters are: {'pre_hooks': [], 'post_hooks': [], 'output_file': None, 'output_dir': None, 'output_ext': '.fits', 'output_use_model': False, 'output_use_index': True, 'save_results': False, 'skip': False, 'suffix': None, 'search_output_file': True, 'input_dir': '/Users/kmurray/lrs_nOPS7-OTB-20191216_simulation'}\n",
      "2020-12-14 12:55:43,752 - stpipe.Detector1Pipeline.firstframe - INFO - Step firstframe done\n",
      "2020-12-14 12:55:43,880 - stpipe.Detector1Pipeline.lastframe - INFO - Step lastframe running with args (<RampModel(10, 100, 416, 72) from pipetest_miri_lrs_tso_100G10I.fits>,).\n",
      "2020-12-14 12:55:43,882 - stpipe.Detector1Pipeline.lastframe - INFO - Step lastframe parameters are: {'pre_hooks': [], 'post_hooks': [], 'output_file': None, 'output_dir': None, 'output_ext': '.fits', 'output_use_model': False, 'output_use_index': True, 'save_results': False, 'skip': False, 'suffix': None, 'search_output_file': True, 'input_dir': '/Users/kmurray/lrs_nOPS7-OTB-20191216_simulation'}\n",
      "2020-12-14 12:55:44,003 - stpipe.Detector1Pipeline.lastframe - INFO - Step lastframe done\n",
      "2020-12-14 12:55:44,129 - stpipe.Detector1Pipeline.linearity - INFO - Step linearity running with args (<RampModel(10, 100, 416, 72) from pipetest_miri_lrs_tso_100G10I.fits>,).\n",
      "2020-12-14 12:55:44,130 - stpipe.Detector1Pipeline.linearity - INFO - Step linearity parameters are: {'pre_hooks': [], 'post_hooks': [], 'output_file': None, 'output_dir': None, 'output_ext': '.fits', 'output_use_model': False, 'output_use_index': True, 'save_results': False, 'skip': False, 'suffix': None, 'search_output_file': True, 'input_dir': '/Users/kmurray/lrs_nOPS7-OTB-20191216_simulation'}\n",
      "2020-12-14 12:55:44,169 - stpipe.Detector1Pipeline.linearity - INFO - Using Linearity reference file /grp/crds/cache/references/jwst/jwst_miri_linearity_0024.fits\n",
      "2020-12-14 12:55:59,677 - stpipe.Detector1Pipeline.linearity - INFO - Extracting linearity subarray to match science data\n",
      "2020-12-14 12:55:59,889 - stpipe.Detector1Pipeline.linearity - INFO - Step linearity done\n",
      "2020-12-14 12:56:00,035 - stpipe.Detector1Pipeline.rscd - INFO - Step rscd running with args (<RampModel(10, 100, 416, 72) from pipetest_miri_lrs_tso_100G10I.fits>,).\n",
      "2020-12-14 12:56:00,036 - stpipe.Detector1Pipeline.rscd - INFO - Step rscd parameters are: {'pre_hooks': [], 'post_hooks': [], 'output_file': None, 'output_dir': None, 'output_ext': '.fits', 'output_use_model': False, 'output_use_index': True, 'save_results': False, 'skip': False, 'suffix': None, 'search_output_file': True, 'input_dir': '/Users/kmurray/lrs_nOPS7-OTB-20191216_simulation', 'type': 'baseline'}\n",
      "2020-12-14 12:56:00,074 - stpipe.Detector1Pipeline.rscd - INFO - Using RSCD reference file /grp/crds/cache/references/jwst/jwst_miri_rscd_0010.fits\n",
      "2020-12-14 12:56:00,333 - stpipe.Detector1Pipeline.rscd - INFO - Step rscd done\n",
      "2020-12-14 12:56:00,466 - stpipe.Detector1Pipeline.dark_current - INFO - Step dark_current running with args (<RampModel(10, 100, 416, 72) from pipetest_miri_lrs_tso_100G10I.fits>,).\n",
      "2020-12-14 12:56:00,467 - stpipe.Detector1Pipeline.dark_current - INFO - Step dark_current parameters are: {'pre_hooks': [], 'post_hooks': [], 'output_file': None, 'output_dir': None, 'output_ext': '.fits', 'output_use_model': False, 'output_use_index': True, 'save_results': False, 'skip': False, 'suffix': None, 'search_output_file': True, 'input_dir': '/Users/kmurray/lrs_nOPS7-OTB-20191216_simulation', 'dark_output': None}\n",
      "2020-12-14 12:56:00,506 - stpipe.Detector1Pipeline.dark_current - INFO - Using DARK reference file /grp/crds/cache/references/jwst/jwst_miri_dark_0048.fits\n",
      "2020-12-14 12:58:41,205 - stpipe.Detector1Pipeline.dark_current - INFO - Science data nints=10, ngroups=100, nframes=1, groupgap=0\n",
      "2020-12-14 12:58:41,206 - stpipe.Detector1Pipeline.dark_current - INFO - Dark data nints=2, ngroups=1000, nframes=1, groupgap=0\n"
     ]
    },
    {
     "name": "stderr",
     "output_type": "stream",
     "text": [
      "2020-12-14 12:58:41,444 - stpipe.Detector1Pipeline.dark_current - INFO - Step dark_current done\n",
      "2020-12-14 12:58:41,620 - stpipe.Detector1Pipeline.refpix - INFO - Step refpix running with args (<RampModel(10, 100, 416, 72) from pipetest_miri_lrs_tso_100G10I.fits>,).\n",
      "2020-12-14 12:58:41,622 - stpipe.Detector1Pipeline.refpix - INFO - Step refpix parameters are: {'pre_hooks': [], 'post_hooks': [], 'output_file': None, 'output_dir': None, 'output_ext': '.fits', 'output_use_model': False, 'output_use_index': True, 'save_results': False, 'skip': False, 'suffix': None, 'search_output_file': True, 'input_dir': '/Users/kmurray/lrs_nOPS7-OTB-20191216_simulation', 'odd_even_columns': True, 'use_side_ref_pixels': True, 'side_smoothing_length': 11, 'side_gain': 1.0, 'odd_even_rows': True}\n",
      "2020-12-14 12:58:41,633 - stpipe.Detector1Pipeline.refpix - INFO - use_side_ref_pixels = True\n",
      "2020-12-14 12:58:41,634 - stpipe.Detector1Pipeline.refpix - INFO - odd_even_columns = True\n",
      "2020-12-14 12:58:41,635 - stpipe.Detector1Pipeline.refpix - INFO - side_smoothing_length = 11\n",
      "2020-12-14 12:58:41,636 - stpipe.Detector1Pipeline.refpix - INFO - side_gain = 1.000000\n",
      "2020-12-14 12:58:41,637 - stpipe.Detector1Pipeline.refpix - INFO - odd_even_rows = True\n",
      "2020-12-14 12:58:41,739 - stpipe.Detector1Pipeline.refpix - WARNING - Refpix correction skipped for MIRI subarrays\n",
      "2020-12-14 12:58:41,741 - stpipe.Detector1Pipeline.refpix - INFO - Step refpix done\n",
      "2020-12-14 12:58:41,874 - stpipe.Detector1Pipeline.jump - INFO - Step jump running with args (<RampModel(10, 100, 416, 72) from pipetest_miri_lrs_tso_100G10I.fits>,).\n",
      "2020-12-14 12:58:41,876 - stpipe.Detector1Pipeline.jump - INFO - Step jump parameters are: {'pre_hooks': [], 'post_hooks': [], 'output_file': None, 'output_dir': None, 'output_ext': '.fits', 'output_use_model': False, 'output_use_index': True, 'save_results': False, 'skip': False, 'suffix': None, 'search_output_file': True, 'input_dir': '/Users/kmurray/lrs_nOPS7-OTB-20191216_simulation', 'rejection_threshold': 4.0, 'maximum_cores': 'none', 'flag_4_neighbors': True, 'max_jump_to_flag_neighbors': 200.0, 'min_jump_to_flag_neighbors': 10.0}\n",
      "2020-12-14 12:58:41,888 - stpipe.Detector1Pipeline.jump - INFO - CR rejection threshold = 4 sigma\n",
      "2020-12-14 12:58:42,145 - stpipe.Detector1Pipeline.jump - INFO - Using GAIN reference file: /grp/crds/cache/references/jwst/jwst_miri_gain_0008.fits\n",
      "2020-12-14 12:58:43,692 - stpipe.Detector1Pipeline.jump - INFO - Using READNOISE reference file: /grp/crds/cache/references/jwst/jwst_miri_readnoise_0070.fits\n",
      "2020-12-14 12:58:43,809 - stpipe.Detector1Pipeline.jump - INFO - Found 8 possible cores to use for jump detection \n",
      "2020-12-14 12:58:43,938 - stpipe.Detector1Pipeline.jump - INFO - Extracting gain subarray to match science data\n",
      "2020-12-14 12:58:44,019 - stpipe.Detector1Pipeline.jump - INFO - Executing two-point difference method\n",
      "2020-12-14 12:58:44,357 - stpipe.Detector1Pipeline.jump - INFO -  working on integration 1\n",
      "2020-12-14 12:58:44,552 - stpipe.Detector1Pipeline.jump - INFO - From highest outlier Two point found 2458 pixels with at least one CR\n",
      "2020-12-14 12:58:44,714 - stpipe.Detector1Pipeline.jump - INFO -  working on integration 2\n",
      "2020-12-14 12:58:44,878 - stpipe.Detector1Pipeline.jump - INFO - From highest outlier Two point found 2588 pixels with at least one CR\n",
      "2020-12-14 12:58:45,048 - stpipe.Detector1Pipeline.jump - INFO -  working on integration 3\n",
      "2020-12-14 12:58:45,204 - stpipe.Detector1Pipeline.jump - INFO - From highest outlier Two point found 2596 pixels with at least one CR\n",
      "2020-12-14 12:58:45,367 - stpipe.Detector1Pipeline.jump - INFO -  working on integration 4\n",
      "2020-12-14 12:58:45,516 - stpipe.Detector1Pipeline.jump - INFO - From highest outlier Two point found 2612 pixels with at least one CR\n",
      "2020-12-14 12:58:45,710 - stpipe.Detector1Pipeline.jump - INFO -  working on integration 5\n",
      "2020-12-14 12:58:45,872 - stpipe.Detector1Pipeline.jump - INFO - From highest outlier Two point found 2570 pixels with at least one CR\n",
      "2020-12-14 12:58:46,077 - stpipe.Detector1Pipeline.jump - INFO -  working on integration 6\n",
      "2020-12-14 12:58:46,244 - stpipe.Detector1Pipeline.jump - INFO - From highest outlier Two point found 2610 pixels with at least one CR\n",
      "2020-12-14 12:58:46,407 - stpipe.Detector1Pipeline.jump - INFO -  working on integration 7\n",
      "2020-12-14 12:58:46,562 - stpipe.Detector1Pipeline.jump - INFO - From highest outlier Two point found 2557 pixels with at least one CR\n",
      "2020-12-14 12:58:46,742 - stpipe.Detector1Pipeline.jump - INFO -  working on integration 8\n",
      "2020-12-14 12:58:46,893 - stpipe.Detector1Pipeline.jump - INFO - From highest outlier Two point found 2579 pixels with at least one CR\n",
      "2020-12-14 12:58:47,048 - stpipe.Detector1Pipeline.jump - INFO -  working on integration 9\n",
      "2020-12-14 12:58:47,192 - stpipe.Detector1Pipeline.jump - INFO - From highest outlier Two point found 2584 pixels with at least one CR\n",
      "2020-12-14 12:58:47,350 - stpipe.Detector1Pipeline.jump - INFO -  working on integration 10\n",
      "2020-12-14 12:58:47,498 - stpipe.Detector1Pipeline.jump - INFO - From highest outlier Two point found 2610 pixels with at least one CR\n",
      "2020-12-14 12:58:48,394 - stpipe.Detector1Pipeline.jump - INFO - Total elapsed time = 4.37501 sec\n",
      "2020-12-14 12:58:48,397 - stpipe.Detector1Pipeline.jump - INFO - The execution time in seconds: 6.508898\n",
      "2020-12-14 12:58:48,401 - stpipe.Detector1Pipeline.jump - INFO - Step jump done\n",
      "2020-12-14 12:58:48,553 - stpipe.Detector1Pipeline.ramp_fit - INFO - Step ramp_fit running with args (<RampModel(10, 100, 416, 72) from pipetest_miri_lrs_tso_100G10I.fits>,).\n",
      "2020-12-14 12:58:48,555 - stpipe.Detector1Pipeline.ramp_fit - INFO - Step ramp_fit parameters are: {'pre_hooks': [], 'post_hooks': [], 'output_file': None, 'output_dir': None, 'output_ext': '.fits', 'output_use_model': False, 'output_use_index': True, 'save_results': False, 'skip': False, 'suffix': None, 'search_output_file': True, 'input_dir': '/Users/kmurray/lrs_nOPS7-OTB-20191216_simulation', 'int_name': '', 'save_opt': False, 'opt_name': '', 'maximum_cores': 'none'}\n",
      "2020-12-14 12:58:48,757 - stpipe.Detector1Pipeline.ramp_fit - INFO - Using READNOISE reference file: /grp/crds/cache/references/jwst/jwst_miri_readnoise_0070.fits\n",
      "2020-12-14 12:58:48,953 - stpipe.Detector1Pipeline.ramp_fit - INFO - Using GAIN reference file: /grp/crds/cache/references/jwst/jwst_miri_gain_0008.fits\n",
      "2020-12-14 12:58:49,134 - stpipe.Detector1Pipeline.ramp_fit - INFO - Using algorithm = ols\n",
      "2020-12-14 12:58:49,134 - stpipe.Detector1Pipeline.ramp_fit - INFO - Using weighting = optimal\n",
      "2020-12-14 12:58:49,135 - stpipe.Detector1Pipeline.ramp_fit - INFO - Extracting gain subarray to match science data\n",
      "2020-12-14 12:58:49,235 - stpipe.Detector1Pipeline.ramp_fit - INFO - Number of leading groups that are flagged as DO_NOT_USE: 1\n",
      "2020-12-14 12:58:49,236 - stpipe.Detector1Pipeline.ramp_fit - INFO - MIRI dataset has all pixels in the final group flagged as DO_NOT_USE.\n",
      "2020-12-14 13:00:02,079 - stpipe.Detector1Pipeline.ramp_fit - INFO - Number of groups per integration: 100\n",
      "2020-12-14 13:00:02,080 - stpipe.Detector1Pipeline.ramp_fit - INFO - Number of integrations: 10\n",
      "2020-12-14 13:00:02,110 - stpipe.Detector1Pipeline.ramp_fit - INFO - Step ramp_fit done\n",
      "2020-12-14 13:00:02,251 - stpipe.Detector1Pipeline.gain_scale - INFO - Step gain_scale running with args (<ImageModel(416, 72) from pipetest_miri_lrs_tso_100G10I.fits>,).\n",
      "2020-12-14 13:00:02,253 - stpipe.Detector1Pipeline.gain_scale - INFO - Step gain_scale parameters are: {'pre_hooks': [], 'post_hooks': [], 'output_file': None, 'output_dir': None, 'output_ext': '.fits', 'output_use_model': False, 'output_use_index': True, 'save_results': False, 'skip': False, 'suffix': 'gain_scale', 'search_output_file': True, 'input_dir': '/Users/kmurray/lrs_nOPS7-OTB-20191216_simulation'}\n",
      "2020-12-14 13:00:02,586 - stpipe.Detector1Pipeline.gain_scale - INFO - GAINFACT not found in gain reference file\n",
      "2020-12-14 13:00:02,587 - stpipe.Detector1Pipeline.gain_scale - INFO - Step will be skipped\n",
      "2020-12-14 13:00:02,590 - stpipe.Detector1Pipeline.gain_scale - INFO - Step gain_scale done\n",
      "2020-12-14 13:00:02,688 - stpipe.Detector1Pipeline.gain_scale - INFO - Step gain_scale running with args (<CubeModel(10, 416, 72) from pipetest_miri_lrs_tso_100G10I.fits>,).\n"
     ]
    },
    {
     "name": "stderr",
     "output_type": "stream",
     "text": [
      "2020-12-14 13:00:02,689 - stpipe.Detector1Pipeline.gain_scale - INFO - Step gain_scale parameters are: {'pre_hooks': [], 'post_hooks': [], 'output_file': None, 'output_dir': None, 'output_ext': '.fits', 'output_use_model': False, 'output_use_index': True, 'save_results': False, 'skip': False, 'suffix': 'gain_scaleints', 'search_output_file': True, 'input_dir': '/Users/kmurray/lrs_nOPS7-OTB-20191216_simulation'}\n",
      "2020-12-14 13:00:02,796 - stpipe.Detector1Pipeline.gain_scale - INFO - GAINFACT not found in gain reference file\n",
      "2020-12-14 13:00:02,797 - stpipe.Detector1Pipeline.gain_scale - INFO - Step will be skipped\n",
      "2020-12-14 13:00:02,800 - stpipe.Detector1Pipeline.gain_scale - INFO - Step gain_scale done\n",
      "2020-12-14 13:00:03,023 - stpipe.Detector1Pipeline - INFO - Saved model in pipetest_miri_lrs_tso_100G10I_rateints.fits\n",
      "2020-12-14 13:00:03,025 - stpipe.Detector1Pipeline - INFO - ... ending calwebb_detector1\n",
      "2020-12-14 13:00:03,108 - stpipe.Detector1Pipeline - INFO - Saved model in pipetest_miri_lrs_tso_100G10I_rate.fits\n",
      "2020-12-14 13:00:03,109 - stpipe.Detector1Pipeline - INFO - Step Detector1Pipeline done\n"
     ]
    }
   ],
   "source": [
    "# Box file location:\n",
    "det1 = Detector1Pipeline.call(Slitlessfile, config_file='../cfg_files/calwebb_detector1.cfg', save_results=True)"
   ]
  },
  {
   "cell_type": "code",
   "execution_count": 11,
   "metadata": {},
   "outputs": [
    {
     "name": "stdout",
     "output_type": "stream",
     "text": [
      "['astropy-download-42532-ivkm6fmx_rateints.fits', 'astropy-download-99284-qwh5myk9_rateints.fits', 'astropy-download-53841-asuajcx6_rateints.fits', 'det_image_seq1_MIRIMAGE_P750Lexp1_rateints.fits', 'astropy-download-39212-txjqvc_9_rateints.fits', 'astropy-download-66702-0k0akgrg_rateints.fits', 'pipetest_miri_lrs_tso_100G10I_rateints.fits']\n"
     ]
    }
   ],
   "source": [
    "rifile = glob.glob('*_rateints.fits')\n",
    "print(rifile)\n",
    "\n",
    "det1_ints = datamodels.open(rifile[0])"
   ]
  },
  {
   "cell_type": "code",
   "execution_count": 12,
   "metadata": {},
   "outputs": [
    {
     "name": "stderr",
     "output_type": "stream",
     "text": [
      "2020-12-14 13:00:35,942 - stpipe.assign_wcs - INFO - AssignWcsStep instance created.\n",
      "2020-12-14 13:00:35,996 - stpipe.assign_wcs - INFO - Step assign_wcs running with args (<CubeModel(10, 416, 72) from astropy-download-42532-ivkm6fmx_rateints.fits>,).\n",
      "2020-12-14 13:00:35,997 - stpipe.assign_wcs - INFO - Step assign_wcs parameters are: {'pre_hooks': [], 'post_hooks': [], 'output_file': None, 'output_dir': None, 'output_ext': '.fits', 'output_use_model': False, 'output_use_index': True, 'save_results': True, 'skip': False, 'suffix': None, 'search_output_file': True, 'input_dir': '', 'slit_y_low': -0.55, 'slit_y_high': 0.55}\n",
      "2020-12-14 13:00:38,461 - stpipe.assign_wcs - INFO - Created a MIRI mir_lrs-slitless pipeline with references {'distortion': '/grp/crds/cache/references/jwst/jwst_miri_distortion_0028.asdf', 'filteroffset': None, 'specwcs': '/grp/crds/cache/references/jwst/jwst_miri_specwcs_0003.fits', 'regions': None, 'wavelengthrange': None, 'camera': None, 'collimator': None, 'disperser': None, 'fore': None, 'fpa': None, 'msa': None, 'ote': None, 'ifupost': None, 'ifufore': None, 'ifuslicer': None}\n",
      "2020-12-14 13:00:38,489 - stpipe.assign_wcs - WARNING - /Users/kmurray/anaconda3/envs/pipeline7.5/lib/python3.8/site-packages/gwcs/wcs.py:131: VisibleDeprecationWarning: Creating an ndarray from ragged nested sequences (which is a list-or-tuple of lists-or-tuples-or ndarrays with different lengths or shapes) is deprecated. If you meant to do this, you must specify 'dtype=object' when creating the ndarray\n",
      "  transforms = np.array(self._pipeline[from_ind: to_ind])[:, 1].copy()\n",
      "\n",
      "2020-12-14 13:00:38,517 - stpipe.assign_wcs - INFO - Update S_REGION to POLYGON ICRS  359.998913570 -0.000094311 359.998913570 0.000098852 0.001031253 0.000098852 0.001031253 -0.000094311\n",
      "2020-12-14 13:00:38,518 - stpipe.assign_wcs - INFO - assign_wcs updated S_REGION to POLYGON ICRS  359.998913570 -0.000094311 359.998913570 0.000098852 0.001031253 0.000098852 0.001031253 -0.000094311\n",
      "2020-12-14 13:00:38,518 - stpipe.assign_wcs - INFO - COMPLETED assign_wcs\n",
      "2020-12-14 13:00:38,674 - stpipe.assign_wcs - WARNING - /Users/kmurray/anaconda3/envs/pipeline7.5/lib/python3.8/site-packages/gwcs/wcs.py:131: VisibleDeprecationWarning: Creating an ndarray from ragged nested sequences (which is a list-or-tuple of lists-or-tuples-or ndarrays with different lengths or shapes) is deprecated. If you meant to do this, you must specify 'dtype=object' when creating the ndarray\n",
      "  transforms = np.array(self._pipeline[from_ind: to_ind])[:, 1].copy()\n",
      "\n",
      "2020-12-14 13:00:38,864 - stpipe.assign_wcs - INFO - Saved model in astropy-download-42532-ivkm6fmx_assign_wcs.fits\n",
      "2020-12-14 13:00:38,865 - stpipe.assign_wcs - INFO - Step assign_wcs done\n"
     ]
    }
   ],
   "source": [
    "awcs = AssignWcsStep.call(det1_ints, config_file='../cfg_files/assign_wcs.cfg', save_results=True)"
   ]
  },
  {
   "cell_type": "code",
   "execution_count": 13,
   "metadata": {},
   "outputs": [
    {
     "name": "stderr",
     "output_type": "stream",
     "text": [
      "2020-12-14 13:00:38,947 - stpipe.flat_field - INFO - FlatFieldStep instance created.\n",
      "2020-12-14 13:00:39,011 - stpipe.flat_field - INFO - Step flat_field running with args (<CubeModel(10, 416, 72) from astropy-download-42532-ivkm6fmx_assign_wcs.fits>,).\n",
      "2020-12-14 13:00:39,012 - stpipe.flat_field - INFO - Step flat_field parameters are: {'pre_hooks': [], 'post_hooks': [], 'output_file': None, 'output_dir': None, 'output_ext': '.fits', 'output_use_model': False, 'output_use_index': True, 'save_results': True, 'skip': False, 'suffix': None, 'search_output_file': True, 'input_dir': '', 'save_interpolated_flat': False}\n",
      "2020-12-14 13:00:39,317 - stpipe.flat_field - WARNING - Keyword CDP_PARTIAL_DATA does not correspond to an existing DQ mnemonic, so will be ignored\n",
      "2020-12-14 13:00:39,318 - stpipe.flat_field - WARNING - Keyword CDP_LOW_QUAL does not correspond to an existing DQ mnemonic, so will be ignored\n",
      "2020-12-14 13:00:39,319 - stpipe.flat_field - WARNING - Keyword CDP_UNRELIABLE_ERROR does not correspond to an existing DQ mnemonic, so will be ignored\n",
      "2020-12-14 13:00:39,320 - stpipe.flat_field - WARNING - Keyword DIFF_PATTERN does not correspond to an existing DQ mnemonic, so will be ignored\n",
      "2020-12-14 13:00:39,381 - stpipe.flat_field - WARNING - /Users/kmurray/anaconda3/envs/pipeline7.5/lib/python3.8/site-packages/gwcs/wcs.py:131: VisibleDeprecationWarning: Creating an ndarray from ragged nested sequences (which is a list-or-tuple of lists-or-tuples-or ndarrays with different lengths or shapes) is deprecated. If you meant to do this, you must specify 'dtype=object' when creating the ndarray\n",
      "  transforms = np.array(self._pipeline[from_ind: to_ind])[:, 1].copy()\n",
      "\n",
      "2020-12-14 13:00:39,535 - stpipe.flat_field - WARNING - /Users/kmurray/anaconda3/envs/pipeline7.5/lib/python3.8/site-packages/gwcs/wcs.py:131: VisibleDeprecationWarning: Creating an ndarray from ragged nested sequences (which is a list-or-tuple of lists-or-tuples-or ndarrays with different lengths or shapes) is deprecated. If you meant to do this, you must specify 'dtype=object' when creating the ndarray\n",
      "  transforms = np.array(self._pipeline[from_ind: to_ind])[:, 1].copy()\n",
      "\n",
      "2020-12-14 13:00:39,706 - stpipe.flat_field - INFO - Saved model in astropy-download-42532-ivkm6fmx_flat_field.fits\n",
      "2020-12-14 13:00:39,707 - stpipe.flat_field - INFO - Step flat_field done\n"
     ]
    }
   ],
   "source": [
    "ff = FlatFieldStep.call(awcs, config_file='../cfg_files/flat_field.cfg', save_results='True')"
   ]
  },
  {
   "cell_type": "code",
   "execution_count": 14,
   "metadata": {},
   "outputs": [
    {
     "name": "stderr",
     "output_type": "stream",
     "text": [
      "2020-12-14 13:00:39,785 - stpipe.photom - INFO - PhotomStep instance created.\n",
      "2020-12-14 13:00:39,850 - stpipe.photom - INFO - Step photom running with args (<CubeModel(10, 416, 72) from astropy-download-42532-ivkm6fmx_flat_field.fits>,).\n",
      "2020-12-14 13:00:39,852 - stpipe.photom - INFO - Step photom parameters are: {'pre_hooks': [], 'post_hooks': [], 'output_file': None, 'output_dir': None, 'output_ext': '.fits', 'output_use_model': False, 'output_use_index': True, 'save_results': True, 'skip': False, 'suffix': None, 'search_output_file': True, 'input_dir': ''}\n",
      "2020-12-14 13:00:39,942 - stpipe.photom - INFO - Using photom reference file: /grp/crds/cache/references/jwst/jwst_miri_photom_0071.fits\n",
      "2020-12-14 13:00:39,945 - stpipe.photom - INFO - Using area reference file: N/A\n",
      "2020-12-14 13:00:40,008 - stpipe.photom - WARNING - /Users/kmurray/anaconda3/envs/pipeline7.5/lib/python3.8/site-packages/gwcs/wcs.py:131: VisibleDeprecationWarning: Creating an ndarray from ragged nested sequences (which is a list-or-tuple of lists-or-tuples-or ndarrays with different lengths or shapes) is deprecated. If you meant to do this, you must specify 'dtype=object' when creating the ndarray\n",
      "  transforms = np.array(self._pipeline[from_ind: to_ind])[:, 1].copy()\n",
      "\n",
      "2020-12-14 13:00:40,064 - stpipe.photom - INFO - Using instrument: MIRI\n",
      "2020-12-14 13:00:40,065 - stpipe.photom - INFO -  detector: MIRIMAGE\n",
      "2020-12-14 13:00:40,065 - stpipe.photom - INFO -  exp_type: MIR_LRS-SLITLESS\n",
      "2020-12-14 13:00:40,066 - stpipe.photom - INFO -  filter: P750L\n",
      "2020-12-14 13:00:40,190 - stpipe.photom - INFO -  subarray: SLITLESSPRISM\n",
      "2020-12-14 13:00:40,192 - stpipe.photom - INFO - PHOTMJSR value: 35.2495\n",
      "2020-12-14 13:00:40,196 - stpipe.photom - WARNING - /Users/kmurray/anaconda3/envs/pipeline7.5/lib/python3.8/site-packages/gwcs/wcs.py:131: VisibleDeprecationWarning: Creating an ndarray from ragged nested sequences (which is a list-or-tuple of lists-or-tuples-or ndarrays with different lengths or shapes) is deprecated. If you meant to do this, you must specify 'dtype=object' when creating the ndarray\n",
      "  transforms = np.array(self._pipeline[from_ind: to_ind])[:, 1].copy()\n",
      "\n",
      "2020-12-14 13:00:40,341 - stpipe.photom - WARNING - /Users/kmurray/anaconda3/envs/pipeline7.5/lib/python3.8/site-packages/gwcs/wcs.py:131: VisibleDeprecationWarning: Creating an ndarray from ragged nested sequences (which is a list-or-tuple of lists-or-tuples-or ndarrays with different lengths or shapes) is deprecated. If you meant to do this, you must specify 'dtype=object' when creating the ndarray\n",
      "  transforms = np.array(self._pipeline[from_ind: to_ind])[:, 1].copy()\n",
      "\n",
      "2020-12-14 13:00:40,517 - stpipe.photom - INFO - Saved model in astropy-download-42532-ivkm6fmx_photom.fits\n",
      "2020-12-14 13:00:40,518 - stpipe.photom - INFO - Step photom done\n"
     ]
    }
   ],
   "source": [
    "pho = PhotomStep.call(ff, config_file='../cfg_files/photom.cfg', save_results='True')"
   ]
  },
  {
   "cell_type": "code",
   "execution_count": 15,
   "metadata": {},
   "outputs": [
    {
     "data": {
      "text/plain": [
       "<matplotlib.colorbar.Colorbar at 0x12fe82fd0>"
      ]
     },
     "execution_count": 15,
     "metadata": {},
     "output_type": "execute_result"
    },
    {
     "data": {
      "image/png": "[encoded data removed]",
      "text/plain": [
       "<Figure size 864x720 with 2 Axes>"
      ]
     },
     "metadata": {
      "needs_background": "light"
     },
     "output_type": "display_data"
    }
   ],
   "source": [
    "fig = plt.figure(figsize=[12,10])\n",
    "plt.imshow(pho.data[0,:,:], origin='lower')\n",
    "plt.title('Data - photom')\n",
    "plt.colorbar()"
   ]
  },
  {
   "cell_type": "code",
   "execution_count": 16,
   "metadata": {},
   "outputs": [],
   "source": [
    "phoreffile = pho.meta.ref_file.photom.name\n",
    "file = phoreffile.split(\"/\")[2]\n",
    "basename = crds.core.config.pop_crds_uri(phoreffile)\n",
    "path = crds.locate_file(basename, \"jwst\")\n",
    "reffile = datamodels.open(path)"
   ]
  },
  {
   "cell_type": "code",
   "execution_count": 29,
   "metadata": {},
   "outputs": [
    {
     "name": "stderr",
     "output_type": "stream",
     "text": [
      "2020-12-14 13:05:21,645 - stpipe - WARNING - /Users/kmurray/anaconda3/envs/pipeline7.5/lib/python3.8/site-packages/gwcs/wcs.py:131: VisibleDeprecationWarning: Creating an ndarray from ragged nested sequences (which is a list-or-tuple of lists-or-tuples-or ndarrays with different lengths or shapes) is deprecated. If you meant to do this, you must specify 'dtype=object' when creating the ndarray\n",
      "  transforms = np.array(self._pipeline[from_ind: to_ind])[:, 1].copy()\n",
      "\n"
     ]
    },
    {
     "data": {
      "image/png": "[encoded data removed]",
      "text/plain": [
       "<Figure size 432x288 with 1 Axes>"
      ]
     },
     "metadata": {
      "needs_background": "light"
     },
     "output_type": "display_data"
    }
   ],
   "source": [
    "point1 = (36,290)\n",
    "ra1, dec1, wave1 = pho.meta.wcs(point1[0],point1[1])\n",
    "point2 = (36,200)\n",
    "ra2, dec2, wave2 = pho.meta.wcs(point2[0],point2[1])\n",
    "point3 = (37,225)\n",
    "ra3, dec3, wave3 = pho.meta.wcs(point3[0],point3[1])\n",
    "point4 = (42,310)\n",
    "ra4, dec4, wave4 = pho.meta.wcs(point4[0],point4[1])\n",
    "point5 = (30,250)\n",
    "ra5, dec5, wave5 = pho.meta.wcs(point5[0],point5[1])\n",
    "plt.imshow(pho.data[0], origin='lower')\n",
    "plt.plot([point1[0],point2[0],point3[0],point4[0],point5[0]],[point1[1],point2[1],point3[1],point4[1],point5[1]],'.')\n",
    "plt.show()\n",
    "xpts = [point1[0], point2[0], point3[0], point4[0], point5[0]]\n",
    "ypts = [point1[1], point2[1], point3[1], point4[1], point5[1]]"
   ]
  },
  {
   "cell_type": "code",
   "execution_count": 20,
   "metadata": {},
   "outputs": [],
   "source": [
    "ra1, dec1, wave_1 = pho.meta.wcs(point1[0],point1[1])\n",
    "ra2, dec2, wave_2 = pho.meta.wcs(point2[0],point2[1])\n",
    "ra3, dec3, wave_3 = pho.meta.wcs(point3[0],point3[1])\n",
    "ra4, dec4, wave_4 = pho.meta.wcs(point4[0],point4[1])\n",
    "ra5, dec5, wave_5 = pho.meta.wcs(point5[0],point5[1])\n",
    "\n",
    "waves = [wave_1, wave_2, wave_3, wave_4, wave_5]"
   ]
  },
  {
   "cell_type": "code",
   "execution_count": 22,
   "metadata": {},
   "outputs": [],
   "source": [
    "wavelocs = []\n",
    "relresp = []\n",
    "\n",
    "\n",
    "wloc = [np.argmin(np.abs(reffile.phot_table['wavelength'] - ww)) for ww in waves]\n",
    "wmatch = [reffile.phot_table['wavelength'][0,ll] for ll in wloc]\n",
    "wmatch_plus = [reffile.phot_table['wavelength'][0,ll+1] for ll in wloc]\n",
    "wmatch_minus = [reffile.phot_table['wavelength'][0,ll-1] for ll in wloc]\n",
    "relresp = [reffile.phot_table['relresponse'][0,ll] for ll in wloc]"
   ]
  },
  {
   "cell_type": "code",
   "execution_count": 25,
   "metadata": {},
   "outputs": [
    {
     "data": {
      "image/png": "[encoded data removed]",
      "text/plain": [
       "<Figure size 576x576 with 1 Axes>"
      ]
     },
     "metadata": {
      "needs_background": "light"
     },
     "output_type": "display_data"
    }
   ],
   "source": [
    "f = interpolate.interp1d(reffile.phot_table['wavelength'][0,:], reffile.phot_table['relresponse'][0,:])\n",
    "iresp = [f(ww) for ww in waves]\n",
    "\n",
    "# plot for sanity check!\n",
    "plt.figure(figsize=[8,8])\n",
    "plt.plot(reffile.phot_table['wavelength'][0,:], reffile.phot_table['relresponse'][0,:])\n",
    "plt.plot(waves, iresp, 'rx', label='interpolated points')\n",
    "plt.show()"
   ]
  },
  {
   "cell_type": "code",
   "execution_count": 27,
   "metadata": {},
   "outputs": [
    {
     "name": "stdout",
     "output_type": "stream",
     "text": [
      "[55.38045129741542, 130.3850202516898, 91.40632416687826, 55.55319233912916, 71.49935991826705]\n"
     ]
    }
   ],
   "source": [
    "fconv = [reffile.phot_table['photmjsr'][0] * ir for ir in iresp]\n",
    "print(fconv)"
   ]
  },
  {
   "cell_type": "code",
   "execution_count": 32,
   "metadata": {},
   "outputs": [
    {
     "name": "stdout",
     "output_type": "stream",
     "text": [
      "Ratio of data points     Calculated conversion factor\n",
      "55.38045                55.38045\n",
      "130.38503                130.38502\n",
      "91.40633                91.40632\n",
      "55.55319                55.55319\n",
      "71.49936                71.49936\n"
     ]
    }
   ],
   "source": [
    "dratio = [pho.data[0,yy,xx]/ff.data[0,yy,xx] for xx,yy in zip(xpts, ypts)]\n",
    "\n",
    "# print these numbers next to each other to see if they match\n",
    "print('Ratio of data points     Calculated conversion factor')\n",
    "for rr, ff in zip(dratio, fconv):\n",
    "    print('{0:.5f}                {1:.5f}'.format(rr,ff))\n",
    "    assert np.isclose(rr,ff, rtol=1e-6), \"Numbers don't match to within 1e-6\""
   ]
  },
  {
   "cell_type": "markdown",
   "metadata": {},
   "source": [
    "# Leftover code below"
   ]
  },
  {
   "cell_type": "code",
   "execution_count": null,
   "metadata": {},
   "outputs": [],
   "source": [
    "flatfile = datamodels.open(ff)\n",
    "print(np.shape(flatfile))\n",
    "print(np.shape(pho))\n",
    "print(flatfile.data[0,point1[1],point1[0]])\n",
    "print(pho.data[0,point1[1],point1[0]])"
   ]
  },
  {
   "cell_type": "code",
   "execution_count": null,
   "metadata": {},
   "outputs": [],
   "source": [
    "flat1_math = flatfile.data[0,point1[1],point1[0]] * conv_fact1\n",
    "print(flat1_math)\n",
    "print(pho.data[0,point1[1],point1[0]])"
   ]
  },
  {
   "cell_type": "code",
   "execution_count": null,
   "metadata": {},
   "outputs": [],
   "source": [
    "flat2_math = flatfile.data[0,point2[1],point2[0]] * conv_fact2\n",
    "print(flat2_math)\n",
    "print(pho.data[0,point2[1],point2[0]])"
   ]
  },
  {
   "cell_type": "code",
   "execution_count": null,
   "metadata": {},
   "outputs": [],
   "source": [
    "flat3_math = flatfile.data[0,point3[1],point3[0]] * conv_fact3\n",
    "print(flat3_math)\n",
    "print(pho.data[0,point3[1],point3[0]])"
   ]
  },
  {
   "cell_type": "code",
   "execution_count": null,
   "metadata": {},
   "outputs": [],
   "source": [
    "flat4_math = flatfile.data[0,point4[1],point4[0]] * conv_fact4\n",
    "print(flat4_math)\n",
    "print(pho.data[0,point4[1],point4[0]])"
   ]
  },
  {
   "cell_type": "code",
   "execution_count": null,
   "metadata": {},
   "outputs": [],
   "source": [
    "flat5_math = flatfile.data[0,point5[1],point5[0]] * conv_fact5\n",
    "print(flat5_math)\n",
    "print(pho.data[0,point5[1],point5[0]])"
   ]
  },
  {
   "cell_type": "code",
   "execution_count": null,
   "metadata": {},
   "outputs": [],
   "source": []
  }
 ],
 "metadata": {
  "kernelspec": {
   "display_name": "pipeline7.5",
   "language": "python",
   "name": "pipeline7.5"
  },
  "language_info": {
   "codemirror_mode": {
    "name": "ipython",
    "version": 3
   },
   "file_extension": ".py",
   "mimetype": "text/x-python",
   "name": "python",
   "nbconvert_exporter": "python",
   "pygments_lexer": "ipython3",
   "version": "3.8.3"
  }
 },
 "nbformat": 4,
 "nbformat_minor": 4
}
