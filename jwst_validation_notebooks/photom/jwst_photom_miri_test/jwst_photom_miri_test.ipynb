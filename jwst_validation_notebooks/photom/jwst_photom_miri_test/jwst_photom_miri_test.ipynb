{
 "cells": [
  {
   "cell_type": "markdown",
   "metadata": {},
   "source": [
    "<a id=\"title_ID\"></a>\n",
    "# JWST Pipeline Validation Notebook: photom with MIRI Imager\n",
    "\n",
    "<span style=\"color:red\"> **Instruments Affected**</span>: MIRI, NIRCam, NIRISS, NIRSpec "
   ]
  },
  {
   "cell_type": "markdown",
   "metadata": {},
   "source": [
    "## Introduction\n",
    "\n",
    "This test is designed to test the photom step in the calwebb_image2 pipeline. This notebook processes an image through the photom step of calwebb_image2 (calwebb_detector1 is optional) and examines the output image of the photom step. \n",
    "\n",
    "The documentation of the step describes it as follows:\n",
    "\n",
    "The photom step applies flux (photometric) calibrations to a data product to convert the data from units of countrate to surface brightness. The calibration information is read from a photometric reference file. For imaging modes the PHOTOM reference file contains a table of exposure parameters that define various instrument configurations and the flux conversion data for each of those configurations. The table contains one row for each allowed combination of exposure parameters, such as detector and filter. The photom step searches the table for the row that matches the parameters of the science exposure and then loads the calibration information from that row of the table. The correction values are multiplied into the SCI and ERR arrays, and the square of the correction values are multiplied into the variance arrays.\n",
    "\n",
    "The scalar conversion constant is copied to the header keyword PHOTMJSR, which gives the conversion from DN/s to megaJy/steradian that was applied to the data. The step also computes the equivalent conversion factor to units of microJy/square-arcsecond (or microjanskys) and stores it in the header keyword PHOTUJA2.\n",
    "\n",
    "### Documentation\n",
    "\n",
    "The pipeline documentation can be found here: https://jwst-pipeline.readthedocs.io/en/latest/\n",
    "\n",
    "The pipeline code is available on GitHub: https://github.com/spacetelescope/jwst\n",
    "\n",
    "\n",
    "## Test description\n",
    "\n",
    "\n",
    "The steps of the test in this notebook are as follow:\n",
    "\n",
    "1) Read in data.\n",
    "\n",
    "2) Run input data through calwebb_detector1. (if not reading in a rate or rateints file)\n",
    "\n",
    "3) Run output of calwebb_detector1 through the photom step in calwebb_image2.\n",
    "\n",
    "4) Get photom reference file. \n",
    "\n",
    "5) Compare the flat field reference file with the rate/cal image ratio and check that the correct conversion factor was applied.\n",
    "\n",
    "6) Check that the pixel area information has been attached and that PIXAR_SR, PIXAR_A2, and BUNIT keywords have been populated in the cal image.\n",
    "\n",
    "\n",
    "\n",
    "Author: T. Temim"
   ]
  },
  {
   "cell_type": "code",
   "execution_count": null,
   "metadata": {},
   "outputs": [],
   "source": [
    "# Create a temporary directory to hold notebook output, and change the working directory to that directory.\n",
    "from tempfile import TemporaryDirectory\n",
    "import os\n",
    "data_dir = TemporaryDirectory()\n",
    "os.chdir(data_dir.name)"
   ]
  },
  {
   "cell_type": "code",
   "execution_count": null,
   "metadata": {},
   "outputs": [],
   "source": [
    "import os\n",
    "if 'CRDS_CACHE_TYPE' in os.environ:\n",
    "    if os.environ['CRDS_CACHE_TYPE'] == 'local':\n",
    "        os.environ['CRDS_PATH'] = os.path.join(os.environ['HOME'], 'crds', 'cache')\n",
    "    elif os.path.isdir(os.environ['CRDS_CACHE_TYPE']):\n",
    "        os.environ['CRDS_PATH'] = os.environ['CRDS_CACHE_TYPE']\n",
    "print('CRDS cache location: {}'.format(os.environ['CRDS_PATH']))"
   ]
  },
  {
   "cell_type": "markdown",
   "metadata": {},
   "source": [
    "### Set up import statements"
   ]
  },
  {
   "cell_type": "code",
   "execution_count": null,
   "metadata": {},
   "outputs": [],
   "source": [
    "import jwst\n",
    "from jwst.pipeline import Detector1Pipeline, Image2Pipeline\n",
    "from jwst.photom import PhotomStep\n",
    "from jwst.datamodels import RampModel, ImageModel, MirImgPhotomModel, dqflags\n",
    "\n",
    "from astropy.io import fits\n",
    "from astropy.utils.data import get_pkg_data_filename\n",
    "from astropy import table\n",
    "\n",
    "import matplotlib\n",
    "import matplotlib.pyplot as plt\n",
    "import numpy as np\n",
    "\n",
    "from ci_watson.artifactory_helpers import get_bigdata\n",
    "import crds\n"
   ]
  },
  {
   "cell_type": "markdown",
   "metadata": {},
   "source": [
    "### Print pipeline version number"
   ]
  },
  {
   "cell_type": "code",
   "execution_count": null,
   "metadata": {},
   "outputs": [],
   "source": [
    "jwst.__version__ "
   ]
  },
  {
   "cell_type": "markdown",
   "metadata": {},
   "source": [
    "### Read in data from artifactory"
   ]
  },
  {
   "cell_type": "code",
   "execution_count": null,
   "metadata": {},
   "outputs": [],
   "source": [
    "input_file = get_bigdata('jwst_validation_notebooks',\n",
    "                     'validation_data',\n",
    "                     'flat_field',\n",
    "                     'flat_field_miri_test', \n",
    "                     'car007_seq1_MIRIMAGE_F770Wexp1_b771_rate.fits')"
   ]
  },
  {
   "cell_type": "markdown",
   "metadata": {},
   "source": [
    "### Read in input image as JWST data model"
   ]
  },
  {
   "cell_type": "code",
   "execution_count": null,
   "metadata": {},
   "outputs": [],
   "source": [
    "from jwst import datamodels\n",
    "\n",
    "im = ImageModel(input_file)"
   ]
  },
  {
   "cell_type": "markdown",
   "metadata": {},
   "source": [
    "### Run input data through calwebb_detector1"
   ]
  },
  {
   "cell_type": "code",
   "execution_count": null,
   "metadata": {},
   "outputs": [],
   "source": [
    "# The data read in is an image file already processed through Detector1. This step should only be run \n",
    "#if we're starting with a ramp file.\n",
    "\n",
    "#det1 = Detector1Pipeline()\n",
    "#det1.save_results = True\n",
    "#det1.run(im)"
   ]
  },
  {
   "cell_type": "markdown",
   "metadata": {},
   "source": [
    "### Run output of calwebb_detector1 through calwebb_image2 (or just the Photom step)"
   ]
  },
  {
   "cell_type": "code",
   "execution_count": null,
   "metadata": {},
   "outputs": [],
   "source": [
    "#input_file = input_file.replace('rateint.fits', 'rate.fits)"
   ]
  },
  {
   "cell_type": "code",
   "execution_count": null,
   "metadata": {},
   "outputs": [],
   "source": [
    "im2 = PhotomStep()\n",
    "im2.save_results = True\n",
    "im2.run(im)"
   ]
  },
  {
   "cell_type": "code",
   "execution_count": null,
   "metadata": {},
   "outputs": [],
   "source": [
    "#im2 = Image2Pipeline()\n",
    "#im2.background.skip = True\n",
    "#im2.assign_wcs.skip = True\n",
    "#im2.flat_field.skip = True\n",
    "#im2.photom.skip=False\n",
    "#im2.resample.skip = True\n",
    "#im2.save_results = True\n",
    "#im2.run(im)"
   ]
  },
  {
   "cell_type": "code",
   "execution_count": null,
   "metadata": {},
   "outputs": [],
   "source": [
    "#input_file = input_file.replace('rate.fits', 'cal.fits')\n",
    "input_file = input_file.replace('rate.fits', 'photomstep.fits')"
   ]
  },
  {
   "cell_type": "code",
   "execution_count": null,
   "metadata": {},
   "outputs": [],
   "source": [
    "# read in the calibrated file\n",
    "im_cal = ImageModel(input_file)"
   ]
  },
  {
   "cell_type": "markdown",
   "metadata": {},
   "source": [
    "### Calculate the cal/rate image ratio\n",
    "\n",
    "The ratio of the photom processed file divided by the rate file should equal the conversion factor read from the reference file (comparison below). Look at the ratio file."
   ]
  },
  {
   "cell_type": "code",
   "execution_count": null,
   "metadata": {},
   "outputs": [],
   "source": [
    "ratio_im = im_cal.data/im.data\n",
    "\n",
    "print('min value of ratio image: ', np.nanmin(ratio_im))\n",
    "print('max value of ratio image: ', np.nanmax(ratio_im))"
   ]
  },
  {
   "cell_type": "code",
   "execution_count": null,
   "metadata": {},
   "outputs": [],
   "source": [
    "print(ratio_im)"
   ]
  },
  {
   "cell_type": "code",
   "execution_count": null,
   "metadata": {},
   "outputs": [],
   "source": [
    "# Look at the ratio image\n",
    "plt.figure(figsize=(20,20))\n",
    "\n",
    "# mask out DO_NOT_USE values of 1\n",
    "masked_ratio = np.ma.masked_where((im_cal.dq & dqflags.pixel['DO_NOT_USE'] > 0), ratio_im)\n",
    "\n",
    "cmap = matplotlib.cm.get_cmap(\"Greys\").copy()  # Can be any colormap that you want after the cm\n",
    "cmap.set_bad(color='white') # color to mark all DO_NOT_USE pixels\n",
    "\n",
    "plt.imshow(masked_ratio, cmap=cmap, origin='lower', vmin=0.55,vmax=0.65)\n",
    "plt.colorbar()\n",
    "plt.show()"
   ]
  },
  {
   "cell_type": "markdown",
   "metadata": {},
   "source": [
    "### Get photom reference file\n",
    "\n",
    "Look at the photom reference file being used and some parameters from the header."
   ]
  },
  {
   "cell_type": "code",
   "execution_count": null,
   "metadata": {},
   "outputs": [],
   "source": [
    "photomreffile = im_cal.meta.ref_file.photom.name\n",
    "print('Photom reference file', photomreffile)\n",
    "# find location of file\n",
    "basename = crds.core.config.pop_crds_uri(photomreffile)\n",
    "path = crds.locate_file(basename, \"jwst\")\n",
    "# open reference file\n",
    "\n",
    "photom_file = MirImgPhotomModel(path)"
   ]
  },
  {
   "cell_type": "code",
   "execution_count": null,
   "metadata": {},
   "outputs": [],
   "source": [
    "# Print the contents of the phot table\n",
    "\n",
    "photom_file.phot_table\n"
   ]
  },
  {
   "cell_type": "markdown",
   "metadata": {},
   "source": [
    "Look at the value of the pixel area in steradians from the reference file"
   ]
  },
  {
   "cell_type": "code",
   "execution_count": null,
   "metadata": {},
   "outputs": [],
   "source": [
    "photom_file.meta.photometry.pixelarea_steradians"
   ]
  },
  {
   "cell_type": "markdown",
   "metadata": {},
   "source": [
    "Look at the value of the pixel area in arcseconds squared from the reference file"
   ]
  },
  {
   "cell_type": "code",
   "execution_count": null,
   "metadata": {},
   "outputs": [],
   "source": [
    "photom_file.meta.photometry.pixelarea_arcsecsq"
   ]
  },
  {
   "cell_type": "markdown",
   "metadata": {},
   "source": [
    "### Print photom calibration conversion factor for image\n",
    "\n",
    "Look up the filter from the file header and the conversion factor from the table for that filter. Compare the value to that in the table printed above to be sure they match."
   ]
  },
  {
   "cell_type": "code",
   "execution_count": null,
   "metadata": {},
   "outputs": [],
   "source": [
    "print('The filter for this data is:', im_cal.meta.instrument.filter)\n",
    "\n",
    "conv_factor = photom_file.phot_table['photmjsr'][np.where(photom_file.phot_table['filter'] == im_cal.meta.instrument.filter)][0]\n",
    "print(conv_factor)\n",
    "\n",
    "#print(photom_file.phot_table['photmjsr'][np.where(photom_file.phot_table['filter'] == im_cal.meta.instrument.filter)][0])"
   ]
  },
  {
   "cell_type": "markdown",
   "metadata": {},
   "source": [
    "### Check that same value has been applied to cal image (three values should be the same)\n",
    "\n",
    "The ratio image calculated previously should equal the value of the conversion factor from the table."
   ]
  },
  {
   "cell_type": "code",
   "execution_count": null,
   "metadata": {},
   "outputs": [],
   "source": [
    "print('image min','image max','ref file')\n",
    "print(np.nanmin(ratio_im),np.nanmax(ratio_im),conv_factor)\n",
    "\n",
    "try: \n",
    "    np.testing.assert_allclose(np.nanmin(ratio_im), conv_factor, rtol = 0.01)\n",
    "except AssertionError: \n",
    "    print(\"AssertionError: The minimum value is not within 1% of the conversion factor\")\n",
    "\n",
    "try: \n",
    "    np.testing.assert_allclose(np.nanmax(ratio_im), conv_factor, rtol = 0.01)\n",
    "except AssertionError: \n",
    "    print(\"AssertionError: The maximum value is not within 1% of the conversion factor\")    "
   ]
  },
  {
   "cell_type": "markdown",
   "metadata": {},
   "source": [
    "### Check that pixel area information has been attached\n",
    "\n",
    "Check the extensions of the rate (input) and photom processed file to see if an AREA extension has been added."
   ]
  },
  {
   "cell_type": "code",
   "execution_count": null,
   "metadata": {},
   "outputs": [],
   "source": [
    "# Look at extensions of the rate file \n",
    "uncal_filename = str(im.meta.filename)\n",
    "hdu = fits.open(uncal_filename)\n",
    "hdu.info()\n",
    "hdu.close()"
   ]
  },
  {
   "cell_type": "code",
   "execution_count": null,
   "metadata": {},
   "outputs": [],
   "source": [
    "# Look at extensions of the rate file \n",
    "cal_filename = str(im_cal.meta.filename)\n",
    "hdu = fits.open(cal_filename)\n",
    "hdu.info()\n",
    "hdu.close()\n",
    "\n",
    "try:\n",
    "    assert(im_cal.area.shape == im_cal.data.shape)\n",
    "except AssertionError:\n",
    "    print('AssertionError: AREA array is not the same shape as the data array')"
   ]
  },
  {
   "cell_type": "markdown",
   "metadata": {},
   "source": [
    "#### Look at the pixel area extension that was attached"
   ]
  },
  {
   "cell_type": "code",
   "execution_count": null,
   "metadata": {},
   "outputs": [],
   "source": [
    "# Look at stats of pixel area image \n",
    "\n",
    "print('pix_area_min', 'pix_area_max','pix_area_mean')\n",
    "print(np.nanmin(im_cal.area),np.nanmax(im_cal.area),np.nanmean(im_cal.area))"
   ]
  },
  {
   "cell_type": "code",
   "execution_count": null,
   "metadata": {},
   "outputs": [],
   "source": [
    "# Look at the area map image\n",
    "plt.figure(figsize=(20,20))\n",
    "\n",
    "# mask out DO_NOT_USE values of 1\n",
    "masked_area = np.ma.masked_where((im_cal.dq & dqflags.pixel['DO_NOT_USE'] > 0), im_cal.area)\n",
    "\n",
    "cmap = matplotlib.cm.get_cmap('rainbow').copy()  # Can be any colormap that you want after the cm\n",
    "cmap.set_bad(color='white') # color to mark all DO_NOT_USE pixels\n",
    "\n",
    "plt.imshow(masked_area, cmap=cmap, origin='lower', vmin=0.9,vmax=1.2)\n",
    "plt.colorbar()\n",
    "plt.show()"
   ]
  },
  {
   "cell_type": "markdown",
   "metadata": {},
   "source": [
    "### Check that PIXAR_SR and PIXAR_A2 keywords have been populated\n",
    "\n",
    "The header values PIXAR_SR and PIXAR_A2 values in the header of your output file should be populated and match the values from the photom reference file header.\n"
   ]
  },
  {
   "cell_type": "code",
   "execution_count": null,
   "metadata": {},
   "outputs": [],
   "source": [
    "im_cal.find_fits_keyword('PIXAR_SR')"
   ]
  },
  {
   "cell_type": "code",
   "execution_count": null,
   "metadata": {},
   "outputs": [],
   "source": [
    "im_cal.find_fits_keyword('PIXAR_A2')"
   ]
  },
  {
   "cell_type": "markdown",
   "metadata": {},
   "source": [
    "#### Check that the header value from the output file matches the one from the reference file (PIXAR_SR)"
   ]
  },
  {
   "cell_type": "code",
   "execution_count": null,
   "metadata": {},
   "outputs": [],
   "source": [
    "print(photom_file.meta.photometry.pixelarea_steradians,im_cal.meta.photometry.pixelarea_steradians)\n",
    "\n",
    "try:\n",
    "    assert photom_file.meta.photometry.pixelarea_steradians == im_cal.meta.photometry.pixelarea_steradians\n",
    "except AssertionError:\n",
    "    print('AssertionError: the header value PIXAR_SR in the output file header does not match the reference file.')"
   ]
  },
  {
   "cell_type": "markdown",
   "metadata": {},
   "source": [
    "#### Check that the header value from the output file matches the one from the reference file (PIXAR_A2)"
   ]
  },
  {
   "cell_type": "code",
   "execution_count": null,
   "metadata": {},
   "outputs": [],
   "source": [
    "print(photom_file.meta.photometry.pixelarea_arcsecsq, im_cal.meta.photometry.pixelarea_arcsecsq)\n",
    "\n",
    "try:\n",
    "    assert photom_file.meta.photometry.pixelarea_arcsecsq == im_cal.meta.photometry.pixelarea_arcsecsq\n",
    "except AssertionError:\n",
    "    print('AssertionError: the header value PIXAR_A2 in the output file header does not match the reference file.')"
   ]
  },
  {
   "cell_type": "markdown",
   "metadata": {},
   "source": [
    "### Verify that pixel area in steradians is consistent with the pixel area in arcseconds squared\n",
    "\n",
    "1 steradian = 206265^2 arcsec^2, so the area in arcseconds squared * the unit conversion should equal the area in steradians."
   ]
  },
  {
   "cell_type": "code",
   "execution_count": null,
   "metadata": {},
   "outputs": [],
   "source": [
    "print(im_cal.meta.photometry.pixelarea_arcsecsq/(206265.0**2),im_cal.meta.photometry.pixelarea_steradians)\n",
    "\n",
    "converted_steradians = im_cal.meta.photometry.pixelarea_arcsecsq/(206265.0**2)\n",
    "\n",
    "\n",
    "try:\n",
    "     np.testing.assert_allclose(im_cal.meta.photometry.pixelarea_steradians, converted_steradians, rtol = 0.01)\n",
    "except AssertionError:\n",
    "    print('AssertionError: the two area units do not match.')"
   ]
  },
  {
   "cell_type": "markdown",
   "metadata": {},
   "source": [
    "### Check that bunit information has been added to image ('MJy/sr')\n",
    "\n",
    "Check that the units of the file have been updated to the correct ones, and that the numbers in the output file have changed to reflect the new units"
   ]
  },
  {
   "cell_type": "code",
   "execution_count": null,
   "metadata": {},
   "outputs": [],
   "source": [
    "print('The units of the rate file are: ', im.meta.bunit_data)\n",
    "print('The units of the photom processed file are: ', im_cal.meta.bunit_data)"
   ]
  },
  {
   "cell_type": "code",
   "execution_count": null,
   "metadata": {},
   "outputs": [],
   "source": [
    "xval = 600\n",
    "yval = 600\n",
    "\n",
    "print('The value of the specified pixel in the rate file is: ', im.data[yval, xval])\n",
    "print('The value of the specified pixel in the photom processed file is: ', im_cal.data[yval, xval])\n",
    "\n",
    "print('The ratio between these values is: ', im_cal.data[yval, xval] / im.data[yval, xval])\n",
    "print('The conversion factor from the table is: ', conv_factor)\n",
    "\n",
    "try:\n",
    "     np.testing.assert_allclose(im_cal.data[yval, xval] / im.data[yval, xval], conv_factor, rtol = 0.01)\n",
    "except AssertionError:\n",
    "    print('AssertionError: the science ratio does not match the conversion factor.')"
   ]
  },
  {
   "cell_type": "markdown",
   "metadata": {},
   "source": [
    "### Check that the values of the ERR arrays also changed by the expected conversion factor"
   ]
  },
  {
   "cell_type": "code",
   "execution_count": null,
   "metadata": {},
   "outputs": [],
   "source": [
    "xval = 600\n",
    "yval = 600\n",
    "\n",
    "print('The value of the specified pixel in the rate file is: ', im.err[yval, xval])\n",
    "print('The value of the specified pixel in the photom processed file is: ', im_cal.err[yval, xval])\n",
    "\n",
    "print('The ratio between these values is: ', im_cal.err[yval, xval] / im.err[yval, xval])\n",
    "print('The conversion factor from the table is: ', conv_factor)\n",
    "\n",
    "try:\n",
    "     np.testing.assert_allclose(im_cal.err[yval, xval] / im.err[yval, xval], conv_factor, rtol = 0.01)\n",
    "except AssertionError:\n",
    "    print('AssertionError: the error ratio does not match the conversion factor.')"
   ]
  },
  {
   "cell_type": "markdown",
   "metadata": {},
   "source": [
    "## Success criteria\n",
    "\n",
    "If there are no reported AssertionError messages and the images displayed look reasonable, this test passes."
   ]
  },
  {
   "cell_type": "markdown",
   "metadata": {},
   "source": [
    "\n",
    "## About this Notebook\n",
    "**Author:** T. Temim and M. Cracraft, INS/MIRI\n",
    "<br>**Updated On:** 05/13/2021 "
   ]
  },
  {
   "cell_type": "markdown",
   "metadata": {},
   "source": []
  }
 ],
 "metadata": {
  "kernelspec": {
   "display_name": "Python 3",
   "language": "python",
   "name": "python3"
  },
  "language_info": {
   "codemirror_mode": {
    "name": "ipython",
    "version": 3
   },
   "file_extension": ".py",
   "mimetype": "text/x-python",
   "name": "python",
   "nbconvert_exporter": "python",
   "pygments_lexer": "ipython3",
   "version": "3.8.8"
  }
 },
 "nbformat": 4,
 "nbformat_minor": 4
}
