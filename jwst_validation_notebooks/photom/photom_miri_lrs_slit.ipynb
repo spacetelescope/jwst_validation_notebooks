{
 "cells": [
  {
   "cell_type": "markdown",
   "metadata": {},
   "source": [
    "<a id=\"title_ID\"></a>\n",
    "# JWST Pipeline Validation Testing Notebook: MIRI LRS Slit spectroscopy\n",
    "# Step: photom() in Spec2Pipeline\n",
    "\n",
    "<span style=\"color:red\"> **Instruments Affected**</span>: MIRI \n",
    "\n",
    "### Table of Contents\n",
    "<div style=\"text-align: left\"> \n",
    "\n",
    "<br> [Imports](#imports_ID) <br> [Introduction](#intro_ID) <br> [Get Documentaion String for Markdown Blocks](#markdown_from_docs) <br> [Loading Data](#data_ID) <br> [Run JWST Pipeline](#pipeline_ID) <br> [Create Figure or Print Output](#residual_ID) <br> [About This Notebook](#about_ID) <br>\n",
    "\n",
    "</div>"
   ]
  },
  {
   "cell_type": "markdown",
   "metadata": {},
   "source": [
    "<a id=\"imports_ID\"></a>\n",
    "# Imports\n",
    "List the library imports and why they are relevant to this notebook.\n",
    "\n",
    "\n",
    "* os for simple operating system functions\n",
    "* gwcs.wcstools for bounding box operations\n",
    "* astropy.io for opening fits files\n",
    "* inspect to get the docstring of our objects.\n",
    "* IPython.display for printing markdown output\n",
    "* jwst.datamodels for building model for JWST Pipeline\n",
    "* jwst.module.PipelineStep is the pipeline step being tested\n",
    "* matplotlib.pyplot to generate plot\n",
    "* matplotlib.patches to plot shapes\n",
    "* crds for retrieving a reference file\n",
    "\n",
    "\n",
    "[Top of Page](#title_ID)"
   ]
  },
  {
   "cell_type": "code",
   "execution_count": 7,
   "metadata": {},
   "outputs": [
    {
     "name": "stderr",
     "output_type": "stream",
     "text": [
      "2021-01-25 10:48:59,485 - stpipe - WARNING - /Users/skendrew/anaconda3/envs/jwst0.17.1/lib/python3.8/site-packages/ipykernel/ipkernel.py:283: DeprecationWarning: `should_run_async` will not call `transform_cell` automatically in the future. Please pass the result to `transformed_cell` argument and any exception that happen during thetransform in `preprocessing_exc_tuple` in IPython 7.17 and above.\n",
      "  and should_run_async(code)\n",
      "\n"
     ]
    }
   ],
   "source": [
    "from astropy.io import fits\n",
    "import matplotlib.pyplot as plt\n",
    "from matplotlib.patches import Rectangle\n",
    "import numpy as np\n",
    "import os\n",
    "import glob\n",
    "from scipy import interpolate\n",
    "from IPython.display import Markdown\n",
    "from jwst.pipeline import Detector1Pipeline, Spec2Pipeline, collect_pipeline_cfgs\n",
    "from jwst.associations.asn_from_list import asn_from_list\n",
    "from jwst.associations.lib.rules_level2_base import DMSLevel2bBase\n",
    "from jwst.background import BackgroundStep\n",
    "from jwst.assign_wcs import AssignWcsStep\n",
    "from jwst.extract_2d import Extract2dStep\n",
    "from jwst.flatfield import FlatFieldStep\n",
    "from jwst.photom import PhotomStep\n",
    "from gwcs.wcstools import grid_from_bounding_box\n",
    "import crds\n",
    "from jwst import datamodels\n",
    "from jwst.datamodels import ImageModel\n",
    "\n",
    "from ci_watson.artifactory_helpers import get_bigdata"
   ]
  },
  {
   "cell_type": "markdown",
   "metadata": {},
   "source": [
    "<a id=\"intro_ID\"></a>\n",
    "# Introduction\n",
    "\n",
    "\n",
    "For this test we are using the **photom** step for MIRI LRS slit data. For more information on the pipeline step visit the links below. \n",
    "\n",
    "Step description: https://jwst-pipeline.readthedocs.io/en/latest/jwst/photom/main.html#imaging-and-non-ifu-spectroscopy\n",
    "\n",
    "Pipeline code: https://github.com/spacetelescope/jwst/tree/master/jwst/photom\n",
    "\n",
    "\n",
    "\n",
    "### Defining Term\n",
    "Here is where you will define terms or acronymns that may not be known a general audience (ie a new employee to the institute or an external user). For example\n",
    "\n",
    "- JWST: James Webb Space Telescope\n",
    "- MIRI: Mid-Infrared Instrument\n",
    "- LRS: Low Resolution Spectrometer\n",
    "\n",
    "\n",
    "[Top of Page](#title_ID)"
   ]
  },
  {
   "cell_type": "markdown",
   "metadata": {},
   "source": [
    "# Run Pipeline steps up to Photom\n",
    "\n",
    "The simulated data were generated with MIRISim v2.3.0. The observation consists of an observation of a stellar source in the slit, using the ALONG-SLIT-NOD dither pattern. In this scenario, two exposures are executed with the target at 30 and 70% along the length of the slit. These two observations are subtracted from each other for background subtraction, then co-added in the 3rd stage of the pipeline.\n",
    "\n",
    "In the first steps we run the Detector1 pipeline, and the Spec2 pipeline steps before **photom**."
   ]
  },
  {
   "cell_type": "code",
   "execution_count": 8,
   "metadata": {},
   "outputs": [],
   "source": [
    "if not os.path.exists('../cfg_files/'):\n",
    "    os.mkdir('../cfg_files/')\n",
    "    cfgs = collect_pipeline_cfgs.collect_pipeline_cfgs(dst='../cfg_files/')"
   ]
  },
  {
   "cell_type": "code",
   "execution_count": 9,
   "metadata": {},
   "outputs": [],
   "source": [
    "Slitfile1 = get_bigdata('jwst_validation_notebooks',\n",
    "                                     'validation_data',\n",
    "                                     'calwebb_spec2',\n",
    "                                    'spec2_miri_test',\n",
    "                                    'miri_lrs_slit_pt_nod1_v2.3.fits')\n",
    " \n",
    "Slitfile2 = get_bigdata('jwst_validation_notebooks',\n",
    "                                     'validation_data',\n",
    "                                     'calwebb_spec2',\n",
    "                                    'spec2_miri_test',\n",
    "                                    'miri_lrs_slit_pt_nod2_v2.3.fits')\n",
    "\n",
    "files = [Slitfile1, Slitfile2]\n",
    "\n"
   ]
  },
  {
   "cell_type": "markdown",
   "metadata": {},
   "source": [
    "## Detector1 Pipeline"
   ]
  },
  {
   "cell_type": "code",
   "execution_count": 10,
   "metadata": {},
   "outputs": [
    {
     "name": "stderr",
     "output_type": "stream",
     "text": [
      "2021-01-25 10:50:51,139 - CRDS - ERROR -  Error determining best reference for 'pars-rscd_step'  =   Unknown reference type 'pars-rscd_step'\n",
      "2021-01-25 10:50:51,182 - stpipe.Detector1Pipeline - INFO - Detector1Pipeline instance created.\n",
      "2021-01-25 10:50:51,184 - stpipe.Detector1Pipeline.group_scale - INFO - GroupScaleStep instance created.\n",
      "2021-01-25 10:50:51,186 - stpipe.Detector1Pipeline.dq_init - INFO - DQInitStep instance created.\n",
      "2021-01-25 10:50:51,189 - stpipe.Detector1Pipeline.saturation - INFO - SaturationStep instance created.\n",
      "2021-01-25 10:50:51,191 - stpipe.Detector1Pipeline.ipc - INFO - IPCStep instance created.\n",
      "2021-01-25 10:50:51,193 - stpipe.Detector1Pipeline.superbias - INFO - SuperBiasStep instance created.\n",
      "2021-01-25 10:50:51,195 - stpipe.Detector1Pipeline.refpix - INFO - RefPixStep instance created.\n",
      "2021-01-25 10:50:51,196 - stpipe.Detector1Pipeline.rscd - INFO - RSCD_Step instance created.\n",
      "2021-01-25 10:50:51,198 - stpipe.Detector1Pipeline.firstframe - INFO - FirstFrameStep instance created.\n",
      "2021-01-25 10:50:51,199 - stpipe.Detector1Pipeline.lastframe - INFO - LastFrameStep instance created.\n",
      "2021-01-25 10:50:51,201 - stpipe.Detector1Pipeline.linearity - INFO - LinearityStep instance created.\n",
      "2021-01-25 10:50:51,202 - stpipe.Detector1Pipeline.dark_current - INFO - DarkCurrentStep instance created.\n",
      "2021-01-25 10:50:51,203 - stpipe.Detector1Pipeline.persistence - INFO - PersistenceStep instance created.\n",
      "2021-01-25 10:50:51,205 - stpipe.Detector1Pipeline.jump - INFO - JumpStep instance created.\n",
      "2021-01-25 10:50:51,206 - stpipe.Detector1Pipeline.ramp_fit - INFO - RampFitStep instance created.\n",
      "2021-01-25 10:50:51,208 - stpipe.Detector1Pipeline.gain_scale - INFO - GainScaleStep instance created.\n",
      "2021-01-25 10:50:51,303 - stpipe.Detector1Pipeline - INFO - Step Detector1Pipeline running with args ('/Users/skendrew/jwst_pipeline/jwst_validation_notebooks/jwst_validation_notebooks/photom/miri_lrs_slit_pt_nod1_v2.3.fits',).\n",
      "2021-01-25 10:50:51,314 - stpipe.Detector1Pipeline - INFO - Step Detector1Pipeline parameters are: {'pre_hooks': [], 'post_hooks': [], 'output_file': None, 'output_dir': None, 'output_ext': '.fits', 'output_use_model': False, 'output_use_index': True, 'save_results': True, 'skip': False, 'suffix': None, 'search_output_file': True, 'input_dir': '', 'save_calibrated_ramp': False, 'steps': {'group_scale': {'pre_hooks': [], 'post_hooks': [], 'output_file': None, 'output_dir': None, 'output_ext': '.fits', 'output_use_model': False, 'output_use_index': True, 'save_results': False, 'skip': False, 'suffix': None, 'search_output_file': True, 'input_dir': ''}, 'dq_init': {'pre_hooks': [], 'post_hooks': [], 'output_file': None, 'output_dir': None, 'output_ext': '.fits', 'output_use_model': False, 'output_use_index': True, 'save_results': False, 'skip': False, 'suffix': None, 'search_output_file': True, 'input_dir': ''}, 'saturation': {'pre_hooks': [], 'post_hooks': [], 'output_file': None, 'output_dir': None, 'output_ext': '.fits', 'output_use_model': False, 'output_use_index': True, 'save_results': False, 'skip': False, 'suffix': None, 'search_output_file': True, 'input_dir': ''}, 'ipc': {'pre_hooks': [], 'post_hooks': [], 'output_file': None, 'output_dir': None, 'output_ext': '.fits', 'output_use_model': False, 'output_use_index': True, 'save_results': False, 'skip': True, 'suffix': None, 'search_output_file': True, 'input_dir': ''}, 'superbias': {'pre_hooks': [], 'post_hooks': [], 'output_file': None, 'output_dir': None, 'output_ext': '.fits', 'output_use_model': False, 'output_use_index': True, 'save_results': False, 'skip': False, 'suffix': None, 'search_output_file': True, 'input_dir': ''}, 'refpix': {'pre_hooks': [], 'post_hooks': [], 'output_file': None, 'output_dir': None, 'output_ext': '.fits', 'output_use_model': False, 'output_use_index': True, 'save_results': False, 'skip': False, 'suffix': None, 'search_output_file': True, 'input_dir': '', 'odd_even_columns': True, 'use_side_ref_pixels': True, 'side_smoothing_length': 11, 'side_gain': 1.0, 'odd_even_rows': True}, 'rscd': {'pre_hooks': [], 'post_hooks': [], 'output_file': None, 'output_dir': None, 'output_ext': '.fits', 'output_use_model': False, 'output_use_index': True, 'save_results': False, 'skip': False, 'suffix': None, 'search_output_file': True, 'input_dir': '', 'type': 'baseline'}, 'firstframe': {'pre_hooks': [], 'post_hooks': [], 'output_file': None, 'output_dir': None, 'output_ext': '.fits', 'output_use_model': False, 'output_use_index': True, 'save_results': False, 'skip': False, 'suffix': None, 'search_output_file': True, 'input_dir': ''}, 'lastframe': {'pre_hooks': [], 'post_hooks': [], 'output_file': None, 'output_dir': None, 'output_ext': '.fits', 'output_use_model': False, 'output_use_index': True, 'save_results': False, 'skip': False, 'suffix': None, 'search_output_file': True, 'input_dir': ''}, 'linearity': {'pre_hooks': [], 'post_hooks': [], 'output_file': None, 'output_dir': None, 'output_ext': '.fits', 'output_use_model': False, 'output_use_index': True, 'save_results': False, 'skip': False, 'suffix': None, 'search_output_file': True, 'input_dir': ''}, 'dark_current': {'pre_hooks': [], 'post_hooks': [], 'output_file': None, 'output_dir': None, 'output_ext': '.fits', 'output_use_model': False, 'output_use_index': True, 'save_results': False, 'skip': False, 'suffix': None, 'search_output_file': True, 'input_dir': '', 'dark_output': None}, 'persistence': {'pre_hooks': [], 'post_hooks': [], 'output_file': None, 'output_dir': None, 'output_ext': '.fits', 'output_use_model': False, 'output_use_index': True, 'save_results': False, 'skip': False, 'suffix': None, 'search_output_file': True, 'input_dir': '', 'input_trapsfilled': '', 'flag_pers_cutoff': 40.0, 'save_persistence': False, 'save_trapsfilled': True}, 'jump': {'pre_hooks': [], 'post_hooks': [], 'output_file': None, 'output_dir': None, 'output_ext': '.fits', 'output_use_model': False, 'output_use_index': True, 'save_results': False, 'skip': False, 'suffix': None, 'search_output_file': True, 'input_dir': '', 'rejection_threshold': 4.0, 'maximum_cores': 'none', 'flag_4_neighbors': True, 'max_jump_to_flag_neighbors': 200.0, 'min_jump_to_flag_neighbors': 10.0}, 'ramp_fit': {'pre_hooks': [], 'post_hooks': [], 'output_file': None, 'output_dir': None, 'output_ext': '.fits', 'output_use_model': False, 'output_use_index': True, 'save_results': False, 'skip': False, 'suffix': None, 'search_output_file': True, 'input_dir': '', 'int_name': '', 'save_opt': False, 'opt_name': '', 'maximum_cores': 'none'}, 'gain_scale': {'pre_hooks': [], 'post_hooks': [], 'output_file': None, 'output_dir': None, 'output_ext': '.fits', 'output_use_model': False, 'output_use_index': True, 'save_results': False, 'skip': False, 'suffix': None, 'search_output_file': True, 'input_dir': ''}}}\n",
      "2021-01-25 10:50:51,441 - stpipe.Detector1Pipeline - INFO - Prefetching reference files for dataset: 'miri_lrs_slit_pt_nod1_v2.3.fits' reftypes = ['dark', 'gain', 'linearity', 'mask', 'persat', 'readnoise', 'refpix', 'rscd', 'saturation', 'superbias', 'trapdensity', 'trappars']\n",
      "2021-01-25 10:50:51,446 - stpipe.Detector1Pipeline - INFO - Prefetch for DARK reference file is '/Users/skendrew//crds_cache/references/jwst/miri/jwst_miri_dark_0058.fits'.\n",
      "2021-01-25 10:50:51,446 - stpipe.Detector1Pipeline - INFO - Prefetch for GAIN reference file is '/Users/skendrew//crds_cache/references/jwst/miri/jwst_miri_gain_0008.fits'.\n",
      "2021-01-25 10:50:51,447 - stpipe.Detector1Pipeline - INFO - Prefetch for LINEARITY reference file is '/Users/skendrew//crds_cache/references/jwst/miri/jwst_miri_linearity_0024.fits'.\n",
      "2021-01-25 10:50:51,447 - stpipe.Detector1Pipeline - INFO - Prefetch for MASK reference file is '/Users/skendrew//crds_cache/references/jwst/miri/jwst_miri_mask_0023.fits'.\n",
      "2021-01-25 10:50:51,448 - stpipe.Detector1Pipeline - INFO - Prefetch for PERSAT reference file is 'N/A'.\n",
      "2021-01-25 10:50:51,448 - stpipe.Detector1Pipeline - INFO - Prefetch for READNOISE reference file is '/Users/skendrew//crds_cache/references/jwst/miri/jwst_miri_readnoise_0057.fits'.\n",
      "2021-01-25 10:50:51,449 - stpipe.Detector1Pipeline - INFO - Prefetch for REFPIX reference file is 'N/A'.\n"
     ]
    },
    {
     "name": "stderr",
     "output_type": "stream",
     "text": [
      "2021-01-25 10:50:51,449 - stpipe.Detector1Pipeline - INFO - Prefetch for RSCD reference file is '/Users/skendrew//crds_cache/references/jwst/miri/jwst_miri_rscd_0010.fits'.\n",
      "2021-01-25 10:50:51,450 - stpipe.Detector1Pipeline - INFO - Prefetch for SATURATION reference file is '/Users/skendrew//crds_cache/references/jwst/miri/jwst_miri_saturation_0026.fits'.\n",
      "2021-01-25 10:50:51,451 - stpipe.Detector1Pipeline - INFO - Prefetch for SUPERBIAS reference file is 'N/A'.\n",
      "2021-01-25 10:50:51,451 - stpipe.Detector1Pipeline - INFO - Prefetch for TRAPDENSITY reference file is 'N/A'.\n",
      "2021-01-25 10:50:51,451 - stpipe.Detector1Pipeline - INFO - Prefetch for TRAPPARS reference file is 'N/A'.\n",
      "2021-01-25 10:50:51,452 - stpipe.Detector1Pipeline - INFO - Starting calwebb_detector1 ...\n",
      "2021-01-25 10:50:51,677 - stpipe.Detector1Pipeline.group_scale - INFO - Step group_scale running with args (<RampModel(2, 10, 1024, 1032) from miri_lrs_slit_pt_nod1_v2.3.fits>,).\n",
      "2021-01-25 10:50:51,678 - stpipe.Detector1Pipeline.group_scale - INFO - Step group_scale parameters are: {'pre_hooks': [], 'post_hooks': [], 'output_file': None, 'output_dir': None, 'output_ext': '.fits', 'output_use_model': False, 'output_use_index': True, 'save_results': False, 'skip': False, 'suffix': None, 'search_output_file': True, 'input_dir': '/Users/skendrew/jwst_pipeline/jwst_validation_notebooks/jwst_validation_notebooks/photom'}\n",
      "2021-01-25 10:50:51,687 - stpipe.Detector1Pipeline.group_scale - INFO - NFRAMES=1 is a power of 2; correction not needed\n",
      "2021-01-25 10:50:51,688 - stpipe.Detector1Pipeline.group_scale - INFO - Step will be skipped\n",
      "2021-01-25 10:50:51,689 - stpipe.Detector1Pipeline.group_scale - INFO - Step group_scale done\n",
      "2021-01-25 10:50:51,758 - stpipe.Detector1Pipeline.dq_init - INFO - Step dq_init running with args (<RampModel(2, 10, 1024, 1032) from miri_lrs_slit_pt_nod1_v2.3.fits>,).\n",
      "2021-01-25 10:50:51,759 - stpipe.Detector1Pipeline.dq_init - INFO - Step dq_init parameters are: {'pre_hooks': [], 'post_hooks': [], 'output_file': None, 'output_dir': None, 'output_ext': '.fits', 'output_use_model': False, 'output_use_index': True, 'save_results': False, 'skip': False, 'suffix': None, 'search_output_file': True, 'input_dir': '/Users/skendrew/jwst_pipeline/jwst_validation_notebooks/jwst_validation_notebooks/photom'}\n",
      "2021-01-25 10:50:51,771 - stpipe.Detector1Pipeline.dq_init - INFO - Using MASK reference file /Users/skendrew//crds_cache/references/jwst/miri/jwst_miri_mask_0023.fits\n",
      "2021-01-25 10:50:51,896 - stpipe.Detector1Pipeline.dq_init - INFO - Step dq_init done\n",
      "2021-01-25 10:50:51,950 - stpipe.Detector1Pipeline.saturation - INFO - Step saturation running with args (<RampModel(2, 10, 1024, 1032) from miri_lrs_slit_pt_nod1_v2.3.fits>,).\n",
      "2021-01-25 10:50:51,951 - stpipe.Detector1Pipeline.saturation - INFO - Step saturation parameters are: {'pre_hooks': [], 'post_hooks': [], 'output_file': None, 'output_dir': None, 'output_ext': '.fits', 'output_use_model': False, 'output_use_index': True, 'save_results': False, 'skip': False, 'suffix': None, 'search_output_file': True, 'input_dir': '/Users/skendrew/jwst_pipeline/jwst_validation_notebooks/jwst_validation_notebooks/photom'}\n",
      "2021-01-25 10:50:51,963 - stpipe.Detector1Pipeline.saturation - INFO - Using SATURATION reference file /Users/skendrew//crds_cache/references/jwst/miri/jwst_miri_saturation_0026.fits\n",
      "2021-01-25 10:50:52,228 - stpipe.Detector1Pipeline.saturation - INFO - Step saturation done\n",
      "2021-01-25 10:50:52,322 - stpipe.Detector1Pipeline.ipc - INFO - Step ipc running with args (<RampModel(2, 10, 1024, 1032) from miri_lrs_slit_pt_nod1_v2.3.fits>,).\n",
      "2021-01-25 10:50:52,324 - stpipe.Detector1Pipeline.ipc - INFO - Step ipc parameters are: {'pre_hooks': [], 'post_hooks': [], 'output_file': None, 'output_dir': None, 'output_ext': '.fits', 'output_use_model': False, 'output_use_index': True, 'save_results': False, 'skip': True, 'suffix': None, 'search_output_file': True, 'input_dir': '/Users/skendrew/jwst_pipeline/jwst_validation_notebooks/jwst_validation_notebooks/photom'}\n",
      "2021-01-25 10:50:52,325 - stpipe.Detector1Pipeline.ipc - INFO - Step skipped.\n",
      "2021-01-25 10:50:52,326 - stpipe.Detector1Pipeline.ipc - INFO - Step ipc done\n",
      "2021-01-25 10:50:52,404 - stpipe.Detector1Pipeline.firstframe - INFO - Step firstframe running with args (<RampModel(2, 10, 1024, 1032) from miri_lrs_slit_pt_nod1_v2.3.fits>,).\n",
      "2021-01-25 10:50:52,406 - stpipe.Detector1Pipeline.firstframe - INFO - Step firstframe parameters are: {'pre_hooks': [], 'post_hooks': [], 'output_file': None, 'output_dir': None, 'output_ext': '.fits', 'output_use_model': False, 'output_use_index': True, 'save_results': False, 'skip': False, 'suffix': None, 'search_output_file': True, 'input_dir': '/Users/skendrew/jwst_pipeline/jwst_validation_notebooks/jwst_validation_notebooks/photom'}\n",
      "2021-01-25 10:50:52,491 - stpipe.Detector1Pipeline.firstframe - INFO - Step firstframe done\n",
      "2021-01-25 10:50:52,564 - stpipe.Detector1Pipeline.lastframe - INFO - Step lastframe running with args (<RampModel(2, 10, 1024, 1032) from miri_lrs_slit_pt_nod1_v2.3.fits>,).\n",
      "2021-01-25 10:50:52,566 - stpipe.Detector1Pipeline.lastframe - INFO - Step lastframe parameters are: {'pre_hooks': [], 'post_hooks': [], 'output_file': None, 'output_dir': None, 'output_ext': '.fits', 'output_use_model': False, 'output_use_index': True, 'save_results': False, 'skip': False, 'suffix': None, 'search_output_file': True, 'input_dir': '/Users/skendrew/jwst_pipeline/jwst_validation_notebooks/jwst_validation_notebooks/photom'}\n",
      "2021-01-25 10:50:52,634 - stpipe.Detector1Pipeline.lastframe - INFO - Step lastframe done\n",
      "2021-01-25 10:50:52,703 - stpipe.Detector1Pipeline.linearity - INFO - Step linearity running with args (<RampModel(2, 10, 1024, 1032) from miri_lrs_slit_pt_nod1_v2.3.fits>,).\n",
      "2021-01-25 10:50:52,705 - stpipe.Detector1Pipeline.linearity - INFO - Step linearity parameters are: {'pre_hooks': [], 'post_hooks': [], 'output_file': None, 'output_dir': None, 'output_ext': '.fits', 'output_use_model': False, 'output_use_index': True, 'save_results': False, 'skip': False, 'suffix': None, 'search_output_file': True, 'input_dir': '/Users/skendrew/jwst_pipeline/jwst_validation_notebooks/jwst_validation_notebooks/photom'}\n",
      "2021-01-25 10:50:52,716 - stpipe.Detector1Pipeline.linearity - INFO - Using Linearity reference file /Users/skendrew//crds_cache/references/jwst/miri/jwst_miri_linearity_0024.fits\n",
      "2021-01-25 10:50:53,013 - stpipe.Detector1Pipeline.linearity - INFO - Step linearity done\n",
      "2021-01-25 10:50:53,080 - stpipe.Detector1Pipeline.rscd - INFO - Step rscd running with args (<RampModel(2, 10, 1024, 1032) from miri_lrs_slit_pt_nod1_v2.3.fits>,).\n",
      "2021-01-25 10:50:53,081 - stpipe.Detector1Pipeline.rscd - INFO - Step rscd parameters are: {'pre_hooks': [], 'post_hooks': [], 'output_file': None, 'output_dir': None, 'output_ext': '.fits', 'output_use_model': False, 'output_use_index': True, 'save_results': False, 'skip': False, 'suffix': None, 'search_output_file': True, 'input_dir': '/Users/skendrew/jwst_pipeline/jwst_validation_notebooks/jwst_validation_notebooks/photom', 'type': 'baseline'}\n",
      "2021-01-25 10:50:53,093 - stpipe.Detector1Pipeline.rscd - INFO - Using RSCD reference file /Users/skendrew//crds_cache/references/jwst/miri/jwst_miri_rscd_0010.fits\n",
      "2021-01-25 10:50:53,180 - stpipe.Detector1Pipeline.rscd - INFO - Step rscd done\n",
      "2021-01-25 10:50:53,252 - stpipe.Detector1Pipeline.dark_current - INFO - Step dark_current running with args (<RampModel(2, 10, 1024, 1032) from miri_lrs_slit_pt_nod1_v2.3.fits>,).\n",
      "2021-01-25 10:50:53,253 - stpipe.Detector1Pipeline.dark_current - INFO - Step dark_current parameters are: {'pre_hooks': [], 'post_hooks': [], 'output_file': None, 'output_dir': None, 'output_ext': '.fits', 'output_use_model': False, 'output_use_index': True, 'save_results': False, 'skip': False, 'suffix': None, 'search_output_file': True, 'input_dir': '/Users/skendrew/jwst_pipeline/jwst_validation_notebooks/jwst_validation_notebooks/photom', 'dark_output': None}\n",
      "2021-01-25 10:50:53,265 - stpipe.Detector1Pipeline.dark_current - INFO - Using DARK reference file /Users/skendrew//crds_cache/references/jwst/miri/jwst_miri_dark_0058.fits\n"
     ]
    },
    {
     "name": "stderr",
     "output_type": "stream",
     "text": [
      "2021-01-25 10:50:56,670 - stpipe.Detector1Pipeline.dark_current - INFO - Science data nints=2, ngroups=10, nframes=1, groupgap=0\n",
      "2021-01-25 10:50:56,670 - stpipe.Detector1Pipeline.dark_current - INFO - Dark data nints=2, ngroups=200, nframes=1, groupgap=0\n",
      "2021-01-25 10:50:58,250 - stpipe.Detector1Pipeline.dark_current - INFO - Step dark_current done\n",
      "2021-01-25 10:50:58,535 - stpipe.Detector1Pipeline.refpix - INFO - Step refpix running with args (<RampModel(2, 10, 1024, 1032) from miri_lrs_slit_pt_nod1_v2.3.fits>,).\n",
      "2021-01-25 10:50:58,536 - stpipe.Detector1Pipeline.refpix - INFO - Step refpix parameters are: {'pre_hooks': [], 'post_hooks': [], 'output_file': None, 'output_dir': None, 'output_ext': '.fits', 'output_use_model': False, 'output_use_index': True, 'save_results': False, 'skip': False, 'suffix': None, 'search_output_file': True, 'input_dir': '/Users/skendrew/jwst_pipeline/jwst_validation_notebooks/jwst_validation_notebooks/photom', 'odd_even_columns': True, 'use_side_ref_pixels': True, 'side_smoothing_length': 11, 'side_gain': 1.0, 'odd_even_rows': True}\n",
      "2021-01-25 10:50:58,544 - stpipe.Detector1Pipeline.refpix - INFO - use_side_ref_pixels = True\n",
      "2021-01-25 10:50:58,545 - stpipe.Detector1Pipeline.refpix - INFO - odd_even_columns = True\n",
      "2021-01-25 10:50:58,545 - stpipe.Detector1Pipeline.refpix - INFO - side_smoothing_length = 11\n",
      "2021-01-25 10:50:58,546 - stpipe.Detector1Pipeline.refpix - INFO - side_gain = 1.000000\n",
      "2021-01-25 10:50:58,546 - stpipe.Detector1Pipeline.refpix - INFO - odd_even_rows = True\n",
      "2021-01-25 10:50:58,622 - stpipe.Detector1Pipeline.refpix - INFO - Subtracting initial read from each integration\n",
      "2021-01-25 10:50:58,817 - stpipe.Detector1Pipeline.refpix - INFO - Adding initial read back in\n",
      "2021-01-25 10:50:58,853 - stpipe.Detector1Pipeline.refpix - INFO - Step refpix done\n",
      "2021-01-25 10:50:58,923 - stpipe.Detector1Pipeline.jump - INFO - Step jump running with args (<RampModel(2, 10, 1024, 1032) from miri_lrs_slit_pt_nod1_v2.3.fits>,).\n",
      "2021-01-25 10:50:58,925 - stpipe.Detector1Pipeline.jump - INFO - Step jump parameters are: {'pre_hooks': [], 'post_hooks': [], 'output_file': None, 'output_dir': None, 'output_ext': '.fits', 'output_use_model': False, 'output_use_index': True, 'save_results': False, 'skip': False, 'suffix': None, 'search_output_file': True, 'input_dir': '/Users/skendrew/jwst_pipeline/jwst_validation_notebooks/jwst_validation_notebooks/photom', 'rejection_threshold': 4.0, 'maximum_cores': 'none', 'flag_4_neighbors': True, 'max_jump_to_flag_neighbors': 200.0, 'min_jump_to_flag_neighbors': 10.0}\n",
      "2021-01-25 10:50:58,934 - stpipe.Detector1Pipeline.jump - INFO - CR rejection threshold = 4 sigma\n",
      "2021-01-25 10:50:58,938 - stpipe.Detector1Pipeline.jump - INFO - Using GAIN reference file: /Users/skendrew//crds_cache/references/jwst/miri/jwst_miri_gain_0008.fits\n",
      "2021-01-25 10:50:58,955 - stpipe.Detector1Pipeline.jump - INFO - Using READNOISE reference file: /Users/skendrew//crds_cache/references/jwst/miri/jwst_miri_readnoise_0057.fits\n",
      "2021-01-25 10:50:58,969 - stpipe.Detector1Pipeline.jump - INFO - Found 12 possible cores to use for jump detection \n",
      "2021-01-25 10:50:59,061 - stpipe.Detector1Pipeline.jump - INFO - Executing two-point difference method\n",
      "2021-01-25 10:50:59,564 - stpipe.Detector1Pipeline.jump - INFO -  working on integration 1\n",
      "2021-01-25 10:51:00,068 - stpipe.Detector1Pipeline.jump - INFO - From highest outlier Two point found 9638 pixels with at least one CR\n",
      "2021-01-25 10:51:00,316 - stpipe.Detector1Pipeline.jump - INFO -  working on integration 2\n",
      "2021-01-25 10:51:00,737 - stpipe.Detector1Pipeline.jump - INFO - From highest outlier Two point found 12046 pixels with at least one CR\n",
      "2021-01-25 10:51:01,325 - stpipe.Detector1Pipeline.jump - INFO - Total elapsed time = 2.26363 sec\n",
      "2021-01-25 10:51:01,327 - stpipe.Detector1Pipeline.jump - INFO - The execution time in seconds: 2.392755\n",
      "2021-01-25 10:51:01,328 - stpipe.Detector1Pipeline.jump - INFO - Step jump done\n",
      "2021-01-25 10:51:01,406 - stpipe.Detector1Pipeline.ramp_fit - INFO - Step ramp_fit running with args (<RampModel(2, 10, 1024, 1032) from miri_lrs_slit_pt_nod1_v2.3.fits>,).\n",
      "2021-01-25 10:51:01,407 - stpipe.Detector1Pipeline.ramp_fit - INFO - Step ramp_fit parameters are: {'pre_hooks': [], 'post_hooks': [], 'output_file': None, 'output_dir': None, 'output_ext': '.fits', 'output_use_model': False, 'output_use_index': True, 'save_results': False, 'skip': False, 'suffix': None, 'search_output_file': True, 'input_dir': '/Users/skendrew/jwst_pipeline/jwst_validation_notebooks/jwst_validation_notebooks/photom', 'int_name': '', 'save_opt': False, 'opt_name': '', 'maximum_cores': 'none'}\n",
      "2021-01-25 10:51:01,423 - stpipe.Detector1Pipeline.ramp_fit - INFO - Using READNOISE reference file: /Users/skendrew//crds_cache/references/jwst/miri/jwst_miri_readnoise_0057.fits\n",
      "2021-01-25 10:51:01,435 - stpipe.Detector1Pipeline.ramp_fit - INFO - Using GAIN reference file: /Users/skendrew//crds_cache/references/jwst/miri/jwst_miri_gain_0008.fits\n",
      "2021-01-25 10:51:01,447 - stpipe.Detector1Pipeline.ramp_fit - INFO - Using algorithm = ols\n",
      "2021-01-25 10:51:01,447 - stpipe.Detector1Pipeline.ramp_fit - INFO - Using weighting = optimal\n",
      "2021-01-25 10:51:01,526 - stpipe.Detector1Pipeline.ramp_fit - INFO - Number of leading groups that are flagged as DO_NOT_USE: 1\n",
      "2021-01-25 10:51:01,527 - stpipe.Detector1Pipeline.ramp_fit - INFO - MIRI dataset has all pixels in the final group flagged as DO_NOT_USE.\n",
      "2021-01-25 10:51:19,975 - stpipe.Detector1Pipeline.ramp_fit - INFO - Number of groups per integration: 10\n",
      "2021-01-25 10:51:19,975 - stpipe.Detector1Pipeline.ramp_fit - INFO - Number of integrations: 2\n",
      "2021-01-25 10:51:20,035 - stpipe.Detector1Pipeline.ramp_fit - INFO - Step ramp_fit done\n",
      "2021-01-25 10:51:20,116 - stpipe.Detector1Pipeline.gain_scale - INFO - Step gain_scale running with args (<ImageModel(1024, 1032) from miri_lrs_slit_pt_nod1_v2.3.fits>,).\n",
      "2021-01-25 10:51:20,117 - stpipe.Detector1Pipeline.gain_scale - INFO - Step gain_scale parameters are: {'pre_hooks': [], 'post_hooks': [], 'output_file': None, 'output_dir': None, 'output_ext': '.fits', 'output_use_model': False, 'output_use_index': True, 'save_results': False, 'skip': False, 'suffix': 'gain_scale', 'search_output_file': True, 'input_dir': '/Users/skendrew/jwst_pipeline/jwst_validation_notebooks/jwst_validation_notebooks/photom'}\n",
      "2021-01-25 10:51:20,138 - stpipe.Detector1Pipeline.gain_scale - INFO - GAINFACT not found in gain reference file\n",
      "2021-01-25 10:51:20,139 - stpipe.Detector1Pipeline.gain_scale - INFO - Step will be skipped\n",
      "2021-01-25 10:51:20,141 - stpipe.Detector1Pipeline.gain_scale - INFO - Step gain_scale done\n",
      "2021-01-25 10:51:20,212 - stpipe.Detector1Pipeline.gain_scale - INFO - Step gain_scale running with args (<CubeModel(2, 1024, 1032) from miri_lrs_slit_pt_nod1_v2.3.fits>,).\n",
      "2021-01-25 10:51:20,214 - stpipe.Detector1Pipeline.gain_scale - INFO - Step gain_scale parameters are: {'pre_hooks': [], 'post_hooks': [], 'output_file': None, 'output_dir': None, 'output_ext': '.fits', 'output_use_model': False, 'output_use_index': True, 'save_results': False, 'skip': False, 'suffix': 'gain_scaleints', 'search_output_file': True, 'input_dir': '/Users/skendrew/jwst_pipeline/jwst_validation_notebooks/jwst_validation_notebooks/photom'}\n",
      "2021-01-25 10:51:20,236 - stpipe.Detector1Pipeline.gain_scale - INFO - GAINFACT not found in gain reference file\n",
      "2021-01-25 10:51:20,236 - stpipe.Detector1Pipeline.gain_scale - INFO - Step will be skipped\n",
      "2021-01-25 10:51:20,238 - stpipe.Detector1Pipeline.gain_scale - INFO - Step gain_scale done\n",
      "2021-01-25 10:51:20,437 - stpipe.Detector1Pipeline - INFO - Saved model in miri_lrs_slit_pt_nod1_v2.3_rateints.fits\n",
      "2021-01-25 10:51:20,437 - stpipe.Detector1Pipeline - INFO - ... ending calwebb_detector1\n",
      "2021-01-25 10:51:20,554 - stpipe.Detector1Pipeline - INFO - Saved model in miri_lrs_slit_pt_nod1_v2.3_rate.fits\n",
      "2021-01-25 10:51:20,555 - stpipe.Detector1Pipeline - INFO - Step Detector1Pipeline done\n",
      "2021-01-25 10:51:20,728 - CRDS - ERROR -  Error determining best reference for 'pars-rscd_step'  =   Unknown reference type 'pars-rscd_step'\n",
      "2021-01-25 10:51:20,772 - stpipe.Detector1Pipeline - INFO - Detector1Pipeline instance created.\n"
     ]
    },
    {
     "name": "stderr",
     "output_type": "stream",
     "text": [
      "2021-01-25 10:51:20,774 - stpipe.Detector1Pipeline.group_scale - INFO - GroupScaleStep instance created.\n",
      "2021-01-25 10:51:20,775 - stpipe.Detector1Pipeline.dq_init - INFO - DQInitStep instance created.\n",
      "2021-01-25 10:51:20,777 - stpipe.Detector1Pipeline.saturation - INFO - SaturationStep instance created.\n",
      "2021-01-25 10:51:20,779 - stpipe.Detector1Pipeline.ipc - INFO - IPCStep instance created.\n",
      "2021-01-25 10:51:20,781 - stpipe.Detector1Pipeline.superbias - INFO - SuperBiasStep instance created.\n",
      "2021-01-25 10:51:20,783 - stpipe.Detector1Pipeline.refpix - INFO - RefPixStep instance created.\n",
      "2021-01-25 10:51:20,784 - stpipe.Detector1Pipeline.rscd - INFO - RSCD_Step instance created.\n",
      "2021-01-25 10:51:20,785 - stpipe.Detector1Pipeline.firstframe - INFO - FirstFrameStep instance created.\n",
      "2021-01-25 10:51:20,786 - stpipe.Detector1Pipeline.lastframe - INFO - LastFrameStep instance created.\n",
      "2021-01-25 10:51:20,787 - stpipe.Detector1Pipeline.linearity - INFO - LinearityStep instance created.\n",
      "2021-01-25 10:51:20,789 - stpipe.Detector1Pipeline.dark_current - INFO - DarkCurrentStep instance created.\n",
      "2021-01-25 10:51:20,790 - stpipe.Detector1Pipeline.persistence - INFO - PersistenceStep instance created.\n",
      "2021-01-25 10:51:20,792 - stpipe.Detector1Pipeline.jump - INFO - JumpStep instance created.\n",
      "2021-01-25 10:51:20,793 - stpipe.Detector1Pipeline.ramp_fit - INFO - RampFitStep instance created.\n",
      "2021-01-25 10:51:20,795 - stpipe.Detector1Pipeline.gain_scale - INFO - GainScaleStep instance created.\n",
      "2021-01-25 10:51:20,896 - stpipe.Detector1Pipeline - INFO - Step Detector1Pipeline running with args ('/Users/skendrew/jwst_pipeline/jwst_validation_notebooks/jwst_validation_notebooks/photom/miri_lrs_slit_pt_nod2_v2.3.fits',).\n",
      "2021-01-25 10:51:20,907 - stpipe.Detector1Pipeline - INFO - Step Detector1Pipeline parameters are: {'pre_hooks': [], 'post_hooks': [], 'output_file': None, 'output_dir': None, 'output_ext': '.fits', 'output_use_model': False, 'output_use_index': True, 'save_results': True, 'skip': False, 'suffix': None, 'search_output_file': True, 'input_dir': '', 'save_calibrated_ramp': False, 'steps': {'group_scale': {'pre_hooks': [], 'post_hooks': [], 'output_file': None, 'output_dir': None, 'output_ext': '.fits', 'output_use_model': False, 'output_use_index': True, 'save_results': False, 'skip': False, 'suffix': None, 'search_output_file': True, 'input_dir': ''}, 'dq_init': {'pre_hooks': [], 'post_hooks': [], 'output_file': None, 'output_dir': None, 'output_ext': '.fits', 'output_use_model': False, 'output_use_index': True, 'save_results': False, 'skip': False, 'suffix': None, 'search_output_file': True, 'input_dir': ''}, 'saturation': {'pre_hooks': [], 'post_hooks': [], 'output_file': None, 'output_dir': None, 'output_ext': '.fits', 'output_use_model': False, 'output_use_index': True, 'save_results': False, 'skip': False, 'suffix': None, 'search_output_file': True, 'input_dir': ''}, 'ipc': {'pre_hooks': [], 'post_hooks': [], 'output_file': None, 'output_dir': None, 'output_ext': '.fits', 'output_use_model': False, 'output_use_index': True, 'save_results': False, 'skip': True, 'suffix': None, 'search_output_file': True, 'input_dir': ''}, 'superbias': {'pre_hooks': [], 'post_hooks': [], 'output_file': None, 'output_dir': None, 'output_ext': '.fits', 'output_use_model': False, 'output_use_index': True, 'save_results': False, 'skip': False, 'suffix': None, 'search_output_file': True, 'input_dir': ''}, 'refpix': {'pre_hooks': [], 'post_hooks': [], 'output_file': None, 'output_dir': None, 'output_ext': '.fits', 'output_use_model': False, 'output_use_index': True, 'save_results': False, 'skip': False, 'suffix': None, 'search_output_file': True, 'input_dir': '', 'odd_even_columns': True, 'use_side_ref_pixels': True, 'side_smoothing_length': 11, 'side_gain': 1.0, 'odd_even_rows': True}, 'rscd': {'pre_hooks': [], 'post_hooks': [], 'output_file': None, 'output_dir': None, 'output_ext': '.fits', 'output_use_model': False, 'output_use_index': True, 'save_results': False, 'skip': False, 'suffix': None, 'search_output_file': True, 'input_dir': '', 'type': 'baseline'}, 'firstframe': {'pre_hooks': [], 'post_hooks': [], 'output_file': None, 'output_dir': None, 'output_ext': '.fits', 'output_use_model': False, 'output_use_index': True, 'save_results': False, 'skip': False, 'suffix': None, 'search_output_file': True, 'input_dir': ''}, 'lastframe': {'pre_hooks': [], 'post_hooks': [], 'output_file': None, 'output_dir': None, 'output_ext': '.fits', 'output_use_model': False, 'output_use_index': True, 'save_results': False, 'skip': False, 'suffix': None, 'search_output_file': True, 'input_dir': ''}, 'linearity': {'pre_hooks': [], 'post_hooks': [], 'output_file': None, 'output_dir': None, 'output_ext': '.fits', 'output_use_model': False, 'output_use_index': True, 'save_results': False, 'skip': False, 'suffix': None, 'search_output_file': True, 'input_dir': ''}, 'dark_current': {'pre_hooks': [], 'post_hooks': [], 'output_file': None, 'output_dir': None, 'output_ext': '.fits', 'output_use_model': False, 'output_use_index': True, 'save_results': False, 'skip': False, 'suffix': None, 'search_output_file': True, 'input_dir': '', 'dark_output': None}, 'persistence': {'pre_hooks': [], 'post_hooks': [], 'output_file': None, 'output_dir': None, 'output_ext': '.fits', 'output_use_model': False, 'output_use_index': True, 'save_results': False, 'skip': False, 'suffix': None, 'search_output_file': True, 'input_dir': '', 'input_trapsfilled': '', 'flag_pers_cutoff': 40.0, 'save_persistence': False, 'save_trapsfilled': True}, 'jump': {'pre_hooks': [], 'post_hooks': [], 'output_file': None, 'output_dir': None, 'output_ext': '.fits', 'output_use_model': False, 'output_use_index': True, 'save_results': False, 'skip': False, 'suffix': None, 'search_output_file': True, 'input_dir': '', 'rejection_threshold': 4.0, 'maximum_cores': 'none', 'flag_4_neighbors': True, 'max_jump_to_flag_neighbors': 200.0, 'min_jump_to_flag_neighbors': 10.0}, 'ramp_fit': {'pre_hooks': [], 'post_hooks': [], 'output_file': None, 'output_dir': None, 'output_ext': '.fits', 'output_use_model': False, 'output_use_index': True, 'save_results': False, 'skip': False, 'suffix': None, 'search_output_file': True, 'input_dir': '', 'int_name': '', 'save_opt': False, 'opt_name': '', 'maximum_cores': 'none'}, 'gain_scale': {'pre_hooks': [], 'post_hooks': [], 'output_file': None, 'output_dir': None, 'output_ext': '.fits', 'output_use_model': False, 'output_use_index': True, 'save_results': False, 'skip': False, 'suffix': None, 'search_output_file': True, 'input_dir': ''}}}\n",
      "2021-01-25 10:51:21,017 - stpipe.Detector1Pipeline - INFO - Prefetching reference files for dataset: 'miri_lrs_slit_pt_nod2_v2.3.fits' reftypes = ['dark', 'gain', 'linearity', 'mask', 'persat', 'readnoise', 'refpix', 'rscd', 'saturation', 'superbias', 'trapdensity', 'trappars']\n",
      "2021-01-25 10:51:21,020 - stpipe.Detector1Pipeline - INFO - Prefetch for DARK reference file is '/Users/skendrew//crds_cache/references/jwst/miri/jwst_miri_dark_0058.fits'.\n",
      "2021-01-25 10:51:21,021 - stpipe.Detector1Pipeline - INFO - Prefetch for GAIN reference file is '/Users/skendrew//crds_cache/references/jwst/miri/jwst_miri_gain_0008.fits'.\n",
      "2021-01-25 10:51:21,022 - stpipe.Detector1Pipeline - INFO - Prefetch for LINEARITY reference file is '/Users/skendrew//crds_cache/references/jwst/miri/jwst_miri_linearity_0024.fits'.\n",
      "2021-01-25 10:51:21,023 - stpipe.Detector1Pipeline - INFO - Prefetch for MASK reference file is '/Users/skendrew//crds_cache/references/jwst/miri/jwst_miri_mask_0023.fits'.\n",
      "2021-01-25 10:51:21,024 - stpipe.Detector1Pipeline - INFO - Prefetch for PERSAT reference file is 'N/A'.\n",
      "2021-01-25 10:51:21,025 - stpipe.Detector1Pipeline - INFO - Prefetch for READNOISE reference file is '/Users/skendrew//crds_cache/references/jwst/miri/jwst_miri_readnoise_0057.fits'.\n",
      "2021-01-25 10:51:21,025 - stpipe.Detector1Pipeline - INFO - Prefetch for REFPIX reference file is 'N/A'.\n",
      "2021-01-25 10:51:21,026 - stpipe.Detector1Pipeline - INFO - Prefetch for RSCD reference file is '/Users/skendrew//crds_cache/references/jwst/miri/jwst_miri_rscd_0010.fits'.\n",
      "2021-01-25 10:51:21,027 - stpipe.Detector1Pipeline - INFO - Prefetch for SATURATION reference file is '/Users/skendrew//crds_cache/references/jwst/miri/jwst_miri_saturation_0026.fits'.\n"
     ]
    },
    {
     "name": "stderr",
     "output_type": "stream",
     "text": [
      "2021-01-25 10:51:21,028 - stpipe.Detector1Pipeline - INFO - Prefetch for SUPERBIAS reference file is 'N/A'.\n",
      "2021-01-25 10:51:21,028 - stpipe.Detector1Pipeline - INFO - Prefetch for TRAPDENSITY reference file is 'N/A'.\n",
      "2021-01-25 10:51:21,029 - stpipe.Detector1Pipeline - INFO - Prefetch for TRAPPARS reference file is 'N/A'.\n",
      "2021-01-25 10:51:21,029 - stpipe.Detector1Pipeline - INFO - Starting calwebb_detector1 ...\n",
      "2021-01-25 10:51:21,194 - stpipe.Detector1Pipeline.group_scale - INFO - Step group_scale running with args (<RampModel(2, 10, 1024, 1032) from miri_lrs_slit_pt_nod2_v2.3.fits>,).\n",
      "2021-01-25 10:51:21,196 - stpipe.Detector1Pipeline.group_scale - INFO - Step group_scale parameters are: {'pre_hooks': [], 'post_hooks': [], 'output_file': None, 'output_dir': None, 'output_ext': '.fits', 'output_use_model': False, 'output_use_index': True, 'save_results': False, 'skip': False, 'suffix': None, 'search_output_file': True, 'input_dir': '/Users/skendrew/jwst_pipeline/jwst_validation_notebooks/jwst_validation_notebooks/photom'}\n",
      "2021-01-25 10:51:21,205 - stpipe.Detector1Pipeline.group_scale - INFO - NFRAMES=1 is a power of 2; correction not needed\n",
      "2021-01-25 10:51:21,206 - stpipe.Detector1Pipeline.group_scale - INFO - Step will be skipped\n",
      "2021-01-25 10:51:21,207 - stpipe.Detector1Pipeline.group_scale - INFO - Step group_scale done\n",
      "2021-01-25 10:51:21,265 - stpipe.Detector1Pipeline.dq_init - INFO - Step dq_init running with args (<RampModel(2, 10, 1024, 1032) from miri_lrs_slit_pt_nod2_v2.3.fits>,).\n",
      "2021-01-25 10:51:21,267 - stpipe.Detector1Pipeline.dq_init - INFO - Step dq_init parameters are: {'pre_hooks': [], 'post_hooks': [], 'output_file': None, 'output_dir': None, 'output_ext': '.fits', 'output_use_model': False, 'output_use_index': True, 'save_results': False, 'skip': False, 'suffix': None, 'search_output_file': True, 'input_dir': '/Users/skendrew/jwst_pipeline/jwst_validation_notebooks/jwst_validation_notebooks/photom'}\n",
      "2021-01-25 10:51:21,279 - stpipe.Detector1Pipeline.dq_init - INFO - Using MASK reference file /Users/skendrew//crds_cache/references/jwst/miri/jwst_miri_mask_0023.fits\n",
      "2021-01-25 10:51:21,386 - stpipe.Detector1Pipeline.dq_init - INFO - Step dq_init done\n",
      "2021-01-25 10:51:21,440 - stpipe.Detector1Pipeline.saturation - INFO - Step saturation running with args (<RampModel(2, 10, 1024, 1032) from miri_lrs_slit_pt_nod2_v2.3.fits>,).\n",
      "2021-01-25 10:51:21,442 - stpipe.Detector1Pipeline.saturation - INFO - Step saturation parameters are: {'pre_hooks': [], 'post_hooks': [], 'output_file': None, 'output_dir': None, 'output_ext': '.fits', 'output_use_model': False, 'output_use_index': True, 'save_results': False, 'skip': False, 'suffix': None, 'search_output_file': True, 'input_dir': '/Users/skendrew/jwst_pipeline/jwst_validation_notebooks/jwst_validation_notebooks/photom'}\n",
      "2021-01-25 10:51:21,454 - stpipe.Detector1Pipeline.saturation - INFO - Using SATURATION reference file /Users/skendrew//crds_cache/references/jwst/miri/jwst_miri_saturation_0026.fits\n",
      "2021-01-25 10:51:21,696 - stpipe.Detector1Pipeline.saturation - INFO - Step saturation done\n",
      "2021-01-25 10:51:21,767 - stpipe.Detector1Pipeline.ipc - INFO - Step ipc running with args (<RampModel(2, 10, 1024, 1032) from miri_lrs_slit_pt_nod2_v2.3.fits>,).\n",
      "2021-01-25 10:51:21,768 - stpipe.Detector1Pipeline.ipc - INFO - Step ipc parameters are: {'pre_hooks': [], 'post_hooks': [], 'output_file': None, 'output_dir': None, 'output_ext': '.fits', 'output_use_model': False, 'output_use_index': True, 'save_results': False, 'skip': True, 'suffix': None, 'search_output_file': True, 'input_dir': '/Users/skendrew/jwst_pipeline/jwst_validation_notebooks/jwst_validation_notebooks/photom'}\n",
      "2021-01-25 10:51:21,769 - stpipe.Detector1Pipeline.ipc - INFO - Step skipped.\n",
      "2021-01-25 10:51:21,770 - stpipe.Detector1Pipeline.ipc - INFO - Step ipc done\n",
      "2021-01-25 10:51:21,828 - stpipe.Detector1Pipeline.firstframe - INFO - Step firstframe running with args (<RampModel(2, 10, 1024, 1032) from miri_lrs_slit_pt_nod2_v2.3.fits>,).\n",
      "2021-01-25 10:51:21,830 - stpipe.Detector1Pipeline.firstframe - INFO - Step firstframe parameters are: {'pre_hooks': [], 'post_hooks': [], 'output_file': None, 'output_dir': None, 'output_ext': '.fits', 'output_use_model': False, 'output_use_index': True, 'save_results': False, 'skip': False, 'suffix': None, 'search_output_file': True, 'input_dir': '/Users/skendrew/jwst_pipeline/jwst_validation_notebooks/jwst_validation_notebooks/photom'}\n",
      "2021-01-25 10:51:21,903 - stpipe.Detector1Pipeline.firstframe - INFO - Step firstframe done\n",
      "2021-01-25 10:51:21,970 - stpipe.Detector1Pipeline.lastframe - INFO - Step lastframe running with args (<RampModel(2, 10, 1024, 1032) from miri_lrs_slit_pt_nod2_v2.3.fits>,).\n",
      "2021-01-25 10:51:21,971 - stpipe.Detector1Pipeline.lastframe - INFO - Step lastframe parameters are: {'pre_hooks': [], 'post_hooks': [], 'output_file': None, 'output_dir': None, 'output_ext': '.fits', 'output_use_model': False, 'output_use_index': True, 'save_results': False, 'skip': False, 'suffix': None, 'search_output_file': True, 'input_dir': '/Users/skendrew/jwst_pipeline/jwst_validation_notebooks/jwst_validation_notebooks/photom'}\n",
      "2021-01-25 10:51:22,040 - stpipe.Detector1Pipeline.lastframe - INFO - Step lastframe done\n",
      "2021-01-25 10:51:22,107 - stpipe.Detector1Pipeline.linearity - INFO - Step linearity running with args (<RampModel(2, 10, 1024, 1032) from miri_lrs_slit_pt_nod2_v2.3.fits>,).\n",
      "2021-01-25 10:51:22,109 - stpipe.Detector1Pipeline.linearity - INFO - Step linearity parameters are: {'pre_hooks': [], 'post_hooks': [], 'output_file': None, 'output_dir': None, 'output_ext': '.fits', 'output_use_model': False, 'output_use_index': True, 'save_results': False, 'skip': False, 'suffix': None, 'search_output_file': True, 'input_dir': '/Users/skendrew/jwst_pipeline/jwst_validation_notebooks/jwst_validation_notebooks/photom'}\n",
      "2021-01-25 10:51:22,121 - stpipe.Detector1Pipeline.linearity - INFO - Using Linearity reference file /Users/skendrew//crds_cache/references/jwst/miri/jwst_miri_linearity_0024.fits\n",
      "2021-01-25 10:51:22,433 - stpipe.Detector1Pipeline.linearity - INFO - Step linearity done\n",
      "2021-01-25 10:51:22,502 - stpipe.Detector1Pipeline.rscd - INFO - Step rscd running with args (<RampModel(2, 10, 1024, 1032) from miri_lrs_slit_pt_nod2_v2.3.fits>,).\n",
      "2021-01-25 10:51:22,504 - stpipe.Detector1Pipeline.rscd - INFO - Step rscd parameters are: {'pre_hooks': [], 'post_hooks': [], 'output_file': None, 'output_dir': None, 'output_ext': '.fits', 'output_use_model': False, 'output_use_index': True, 'save_results': False, 'skip': False, 'suffix': None, 'search_output_file': True, 'input_dir': '/Users/skendrew/jwst_pipeline/jwst_validation_notebooks/jwst_validation_notebooks/photom', 'type': 'baseline'}\n",
      "2021-01-25 10:51:22,515 - stpipe.Detector1Pipeline.rscd - INFO - Using RSCD reference file /Users/skendrew//crds_cache/references/jwst/miri/jwst_miri_rscd_0010.fits\n",
      "2021-01-25 10:51:22,610 - stpipe.Detector1Pipeline.rscd - INFO - Step rscd done\n",
      "2021-01-25 10:51:22,683 - stpipe.Detector1Pipeline.dark_current - INFO - Step dark_current running with args (<RampModel(2, 10, 1024, 1032) from miri_lrs_slit_pt_nod2_v2.3.fits>,).\n",
      "2021-01-25 10:51:22,685 - stpipe.Detector1Pipeline.dark_current - INFO - Step dark_current parameters are: {'pre_hooks': [], 'post_hooks': [], 'output_file': None, 'output_dir': None, 'output_ext': '.fits', 'output_use_model': False, 'output_use_index': True, 'save_results': False, 'skip': False, 'suffix': None, 'search_output_file': True, 'input_dir': '/Users/skendrew/jwst_pipeline/jwst_validation_notebooks/jwst_validation_notebooks/photom', 'dark_output': None}\n",
      "2021-01-25 10:51:22,697 - stpipe.Detector1Pipeline.dark_current - INFO - Using DARK reference file /Users/skendrew//crds_cache/references/jwst/miri/jwst_miri_dark_0058.fits\n",
      "2021-01-25 10:51:24,931 - stpipe.Detector1Pipeline.dark_current - INFO - Science data nints=2, ngroups=10, nframes=1, groupgap=0\n",
      "2021-01-25 10:51:24,932 - stpipe.Detector1Pipeline.dark_current - INFO - Dark data nints=2, ngroups=200, nframes=1, groupgap=0\n",
      "2021-01-25 10:51:25,645 - stpipe.Detector1Pipeline.dark_current - INFO - Step dark_current done\n",
      "2021-01-25 10:51:25,931 - stpipe.Detector1Pipeline.refpix - INFO - Step refpix running with args (<RampModel(2, 10, 1024, 1032) from miri_lrs_slit_pt_nod2_v2.3.fits>,).\n"
     ]
    },
    {
     "name": "stderr",
     "output_type": "stream",
     "text": [
      "2021-01-25 10:51:25,933 - stpipe.Detector1Pipeline.refpix - INFO - Step refpix parameters are: {'pre_hooks': [], 'post_hooks': [], 'output_file': None, 'output_dir': None, 'output_ext': '.fits', 'output_use_model': False, 'output_use_index': True, 'save_results': False, 'skip': False, 'suffix': None, 'search_output_file': True, 'input_dir': '/Users/skendrew/jwst_pipeline/jwst_validation_notebooks/jwst_validation_notebooks/photom', 'odd_even_columns': True, 'use_side_ref_pixels': True, 'side_smoothing_length': 11, 'side_gain': 1.0, 'odd_even_rows': True}\n",
      "2021-01-25 10:51:25,942 - stpipe.Detector1Pipeline.refpix - INFO - use_side_ref_pixels = True\n",
      "2021-01-25 10:51:25,943 - stpipe.Detector1Pipeline.refpix - INFO - odd_even_columns = True\n",
      "2021-01-25 10:51:25,943 - stpipe.Detector1Pipeline.refpix - INFO - side_smoothing_length = 11\n",
      "2021-01-25 10:51:25,944 - stpipe.Detector1Pipeline.refpix - INFO - side_gain = 1.000000\n",
      "2021-01-25 10:51:25,944 - stpipe.Detector1Pipeline.refpix - INFO - odd_even_rows = True\n",
      "2021-01-25 10:51:26,014 - stpipe.Detector1Pipeline.refpix - INFO - Subtracting initial read from each integration\n",
      "2021-01-25 10:51:26,239 - stpipe.Detector1Pipeline.refpix - INFO - Adding initial read back in\n",
      "2021-01-25 10:51:26,279 - stpipe.Detector1Pipeline.refpix - INFO - Step refpix done\n",
      "2021-01-25 10:51:26,349 - stpipe.Detector1Pipeline.jump - INFO - Step jump running with args (<RampModel(2, 10, 1024, 1032) from miri_lrs_slit_pt_nod2_v2.3.fits>,).\n",
      "2021-01-25 10:51:26,351 - stpipe.Detector1Pipeline.jump - INFO - Step jump parameters are: {'pre_hooks': [], 'post_hooks': [], 'output_file': None, 'output_dir': None, 'output_ext': '.fits', 'output_use_model': False, 'output_use_index': True, 'save_results': False, 'skip': False, 'suffix': None, 'search_output_file': True, 'input_dir': '/Users/skendrew/jwst_pipeline/jwst_validation_notebooks/jwst_validation_notebooks/photom', 'rejection_threshold': 4.0, 'maximum_cores': 'none', 'flag_4_neighbors': True, 'max_jump_to_flag_neighbors': 200.0, 'min_jump_to_flag_neighbors': 10.0}\n",
      "2021-01-25 10:51:26,360 - stpipe.Detector1Pipeline.jump - INFO - CR rejection threshold = 4 sigma\n",
      "2021-01-25 10:51:26,364 - stpipe.Detector1Pipeline.jump - INFO - Using GAIN reference file: /Users/skendrew//crds_cache/references/jwst/miri/jwst_miri_gain_0008.fits\n",
      "2021-01-25 10:51:26,384 - stpipe.Detector1Pipeline.jump - INFO - Using READNOISE reference file: /Users/skendrew//crds_cache/references/jwst/miri/jwst_miri_readnoise_0057.fits\n",
      "2021-01-25 10:51:26,403 - stpipe.Detector1Pipeline.jump - INFO - Found 12 possible cores to use for jump detection \n",
      "2021-01-25 10:51:26,504 - stpipe.Detector1Pipeline.jump - INFO - Executing two-point difference method\n",
      "2021-01-25 10:51:26,938 - stpipe.Detector1Pipeline.jump - INFO -  working on integration 1\n",
      "2021-01-25 10:51:27,473 - stpipe.Detector1Pipeline.jump - INFO - From highest outlier Two point found 9813 pixels with at least one CR\n",
      "2021-01-25 10:51:27,722 - stpipe.Detector1Pipeline.jump - INFO -  working on integration 2\n",
      "2021-01-25 10:51:28,185 - stpipe.Detector1Pipeline.jump - INFO - From highest outlier Two point found 12297 pixels with at least one CR\n",
      "2021-01-25 10:51:28,796 - stpipe.Detector1Pipeline.jump - INFO - Total elapsed time = 2.29123 sec\n",
      "2021-01-25 10:51:28,798 - stpipe.Detector1Pipeline.jump - INFO - The execution time in seconds: 2.437520\n",
      "2021-01-25 10:51:28,800 - stpipe.Detector1Pipeline.jump - INFO - Step jump done\n",
      "2021-01-25 10:51:28,881 - stpipe.Detector1Pipeline.ramp_fit - INFO - Step ramp_fit running with args (<RampModel(2, 10, 1024, 1032) from miri_lrs_slit_pt_nod2_v2.3.fits>,).\n",
      "2021-01-25 10:51:28,882 - stpipe.Detector1Pipeline.ramp_fit - INFO - Step ramp_fit parameters are: {'pre_hooks': [], 'post_hooks': [], 'output_file': None, 'output_dir': None, 'output_ext': '.fits', 'output_use_model': False, 'output_use_index': True, 'save_results': False, 'skip': False, 'suffix': None, 'search_output_file': True, 'input_dir': '/Users/skendrew/jwst_pipeline/jwst_validation_notebooks/jwst_validation_notebooks/photom', 'int_name': '', 'save_opt': False, 'opt_name': '', 'maximum_cores': 'none'}\n",
      "2021-01-25 10:51:28,898 - stpipe.Detector1Pipeline.ramp_fit - INFO - Using READNOISE reference file: /Users/skendrew//crds_cache/references/jwst/miri/jwst_miri_readnoise_0057.fits\n",
      "2021-01-25 10:51:28,911 - stpipe.Detector1Pipeline.ramp_fit - INFO - Using GAIN reference file: /Users/skendrew//crds_cache/references/jwst/miri/jwst_miri_gain_0008.fits\n",
      "2021-01-25 10:51:28,925 - stpipe.Detector1Pipeline.ramp_fit - INFO - Using algorithm = ols\n",
      "2021-01-25 10:51:28,926 - stpipe.Detector1Pipeline.ramp_fit - INFO - Using weighting = optimal\n",
      "2021-01-25 10:51:29,008 - stpipe.Detector1Pipeline.ramp_fit - INFO - Number of leading groups that are flagged as DO_NOT_USE: 1\n",
      "2021-01-25 10:51:29,009 - stpipe.Detector1Pipeline.ramp_fit - INFO - MIRI dataset has all pixels in the final group flagged as DO_NOT_USE.\n",
      "2021-01-25 10:51:47,588 - stpipe.Detector1Pipeline.ramp_fit - INFO - Number of groups per integration: 10\n",
      "2021-01-25 10:51:47,588 - stpipe.Detector1Pipeline.ramp_fit - INFO - Number of integrations: 2\n",
      "2021-01-25 10:51:47,648 - stpipe.Detector1Pipeline.ramp_fit - INFO - Step ramp_fit done\n",
      "2021-01-25 10:51:47,728 - stpipe.Detector1Pipeline.gain_scale - INFO - Step gain_scale running with args (<ImageModel(1024, 1032) from miri_lrs_slit_pt_nod2_v2.3.fits>,).\n",
      "2021-01-25 10:51:47,730 - stpipe.Detector1Pipeline.gain_scale - INFO - Step gain_scale parameters are: {'pre_hooks': [], 'post_hooks': [], 'output_file': None, 'output_dir': None, 'output_ext': '.fits', 'output_use_model': False, 'output_use_index': True, 'save_results': False, 'skip': False, 'suffix': 'gain_scale', 'search_output_file': True, 'input_dir': '/Users/skendrew/jwst_pipeline/jwst_validation_notebooks/jwst_validation_notebooks/photom'}\n",
      "2021-01-25 10:51:47,751 - stpipe.Detector1Pipeline.gain_scale - INFO - GAINFACT not found in gain reference file\n",
      "2021-01-25 10:51:47,752 - stpipe.Detector1Pipeline.gain_scale - INFO - Step will be skipped\n",
      "2021-01-25 10:51:47,754 - stpipe.Detector1Pipeline.gain_scale - INFO - Step gain_scale done\n",
      "2021-01-25 10:51:47,825 - stpipe.Detector1Pipeline.gain_scale - INFO - Step gain_scale running with args (<CubeModel(2, 1024, 1032) from miri_lrs_slit_pt_nod2_v2.3.fits>,).\n",
      "2021-01-25 10:51:47,827 - stpipe.Detector1Pipeline.gain_scale - INFO - Step gain_scale parameters are: {'pre_hooks': [], 'post_hooks': [], 'output_file': None, 'output_dir': None, 'output_ext': '.fits', 'output_use_model': False, 'output_use_index': True, 'save_results': False, 'skip': False, 'suffix': 'gain_scaleints', 'search_output_file': True, 'input_dir': '/Users/skendrew/jwst_pipeline/jwst_validation_notebooks/jwst_validation_notebooks/photom'}\n",
      "2021-01-25 10:51:47,849 - stpipe.Detector1Pipeline.gain_scale - INFO - GAINFACT not found in gain reference file\n",
      "2021-01-25 10:51:47,850 - stpipe.Detector1Pipeline.gain_scale - INFO - Step will be skipped\n",
      "2021-01-25 10:51:47,852 - stpipe.Detector1Pipeline.gain_scale - INFO - Step gain_scale done\n",
      "2021-01-25 10:51:48,078 - stpipe.Detector1Pipeline - INFO - Saved model in miri_lrs_slit_pt_nod2_v2.3_rateints.fits\n",
      "2021-01-25 10:51:48,079 - stpipe.Detector1Pipeline - INFO - ... ending calwebb_detector1\n",
      "2021-01-25 10:51:48,195 - stpipe.Detector1Pipeline - INFO - Saved model in miri_lrs_slit_pt_nod2_v2.3_rate.fits\n",
      "2021-01-25 10:51:48,195 - stpipe.Detector1Pipeline - INFO - Step Detector1Pipeline done\n"
     ]
    },
    {
     "name": "stdout",
     "output_type": "stream",
     "text": [
      "[<ImageModel(1024, 1032) from miri_lrs_slit_pt_nod1_v2.3_rate.fits>, <ImageModel(1024, 1032) from miri_lrs_slit_pt_nod2_v2.3_rate.fits>]\n"
     ]
    }
   ],
   "source": [
    "det1 = []\n",
    "\n",
    "# Run pipeline on both files\n",
    "for ff in files:\n",
    "    d1 = Detector1Pipeline.call(ff, save_results=True, config_file='../cfg_files/calwebb_detector1.cfg')\n",
    "    det1.append(d1)\n",
    "\n",
    "print(det1)"
   ]
  },
  {
   "cell_type": "markdown",
   "metadata": {},
   "source": [
    "## Spec2Pipeline\n",
    "\n",
    "To run the Spec2Pipeline we first create an association file for the 2 exposures, assigning the nods as each others' backgrounds for background subtraction. We then run the Spec2Pipeline, skipping the final extract1d step."
   ]
  },
  {
   "cell_type": "code",
   "execution_count": 11,
   "metadata": {},
   "outputs": [
    {
     "name": "stderr",
     "output_type": "stream",
     "text": [
      "2021-01-25 10:52:10,188 - stpipe - WARNING - /Users/skendrew/anaconda3/envs/jwst0.17.1/lib/python3.8/site-packages/ipykernel/ipkernel.py:283: DeprecationWarning: `should_run_async` will not call `transform_cell` automatically in the future. Please pass the result to `transformed_cell` argument and any exception that happen during thetransform in `preprocessing_exc_tuple` in IPython 7.17 and above.\n",
      "  and should_run_async(code)\n",
      "\n"
     ]
    }
   ],
   "source": [
    "asn_files = [det1[0].meta.filename, det1[1].meta.filename]\n",
    "bgr_files = [det1[1].meta.filename, det1[0].meta.filename]\n",
    "\n",
    "asn = asn_from_list(asn_files, rule=DMSLevel2bBase, meta={'program':'test', 'target':'bd60', 'asn_pool':'test'})\n",
    "\n",
    "# now add the opposite nod as background exposure:\n",
    "asn['products'][0]['members'].append({'expname':bgr_files[0], 'exptype':'background'})\n",
    "asn['products'][1]['members'].append({'expname':bgr_files[1], 'exptype':'background'})\n",
    "\n",
    "# write this out to a json file\n",
    "with open('sp2-lrs-slit-test_asn.json', 'w') as fp:\n",
    "    fp.write(asn.dump()[1])\n"
   ]
  },
  {
   "cell_type": "code",
   "execution_count": 12,
   "metadata": {},
   "outputs": [
    {
     "name": "stderr",
     "output_type": "stream",
     "text": [
      "2021-01-25 10:52:20,735 - stpipe.Spec2Pipeline - INFO - Spec2Pipeline instance created.\n",
      "2021-01-25 10:52:20,736 - stpipe.Spec2Pipeline.bkg_subtract - INFO - BackgroundStep instance created.\n",
      "2021-01-25 10:52:20,738 - stpipe.Spec2Pipeline.assign_wcs - INFO - AssignWcsStep instance created.\n",
      "2021-01-25 10:52:20,739 - stpipe.Spec2Pipeline.imprint_subtract - INFO - ImprintStep instance created.\n",
      "2021-01-25 10:52:20,741 - stpipe.Spec2Pipeline.msa_flagging - INFO - MSAFlagOpenStep instance created.\n",
      "2021-01-25 10:52:20,742 - stpipe.Spec2Pipeline.extract_2d - INFO - Extract2dStep instance created.\n",
      "2021-01-25 10:52:20,746 - stpipe.Spec2Pipeline.master_background - INFO - MasterBackgroundNrsSlitsStep instance created.\n",
      "2021-01-25 10:52:20,748 - stpipe.Spec2Pipeline.master_background.flat_field - INFO - FlatFieldStep instance created.\n",
      "2021-01-25 10:52:20,749 - stpipe.Spec2Pipeline.master_background.pathloss - INFO - PathLossStep instance created.\n",
      "2021-01-25 10:52:20,751 - stpipe.Spec2Pipeline.master_background.barshadow - INFO - BarShadowStep instance created.\n",
      "2021-01-25 10:52:20,752 - stpipe.Spec2Pipeline.master_background.photom - INFO - PhotomStep instance created.\n",
      "2021-01-25 10:52:20,754 - stpipe.Spec2Pipeline.wavecorr - INFO - WavecorrStep instance created.\n",
      "2021-01-25 10:52:20,756 - stpipe.Spec2Pipeline.flat_field - INFO - FlatFieldStep instance created.\n",
      "2021-01-25 10:52:20,757 - stpipe.Spec2Pipeline.srctype - INFO - SourceTypeStep instance created.\n",
      "2021-01-25 10:52:20,758 - stpipe.Spec2Pipeline.straylight - INFO - StraylightStep instance created.\n",
      "2021-01-25 10:52:20,760 - stpipe.Spec2Pipeline.fringe - INFO - FringeStep instance created.\n",
      "2021-01-25 10:52:20,762 - stpipe.Spec2Pipeline.pathloss - INFO - PathLossStep instance created.\n",
      "2021-01-25 10:52:20,765 - stpipe.Spec2Pipeline.barshadow - INFO - BarShadowStep instance created.\n",
      "2021-01-25 10:52:20,767 - stpipe.Spec2Pipeline.photom - INFO - PhotomStep instance created.\n",
      "2021-01-25 10:52:20,769 - stpipe.Spec2Pipeline.resample_spec - INFO - ResampleSpecStep instance created.\n",
      "2021-01-25 10:52:20,771 - stpipe.Spec2Pipeline.cube_build - INFO - CubeBuildStep instance created.\n",
      "2021-01-25 10:52:20,773 - stpipe.Spec2Pipeline.extract_1d - INFO - Extract1dStep instance created.\n",
      "2021-01-25 10:52:20,878 - stpipe.Spec2Pipeline - INFO - Step Spec2Pipeline running with args ('sp2-lrs-slit-test_asn.json',).\n",
      "2021-01-25 10:52:20,894 - stpipe.Spec2Pipeline - INFO - Step Spec2Pipeline parameters are: {'pre_hooks': [], 'post_hooks': [], 'output_file': None, 'output_dir': None, 'output_ext': '.fits', 'output_use_model': False, 'output_use_index': True, 'save_results': False, 'skip': False, 'suffix': None, 'search_output_file': True, 'input_dir': '', 'save_bsub': False, 'fail_on_exception': True, 'steps': {'bkg_subtract': {'pre_hooks': [], 'post_hooks': [], 'output_file': None, 'output_dir': None, 'output_ext': '.fits', 'output_use_model': False, 'output_use_index': True, 'save_results': False, 'skip': False, 'suffix': None, 'search_output_file': True, 'input_dir': '', 'sigma': 3.0, 'maxiters': None}, 'assign_wcs': {'pre_hooks': [], 'post_hooks': [], 'output_file': None, 'output_dir': None, 'output_ext': '.fits', 'output_use_model': False, 'output_use_index': True, 'save_results': False, 'skip': False, 'suffix': None, 'search_output_file': True, 'input_dir': '', 'slit_y_low': -0.55, 'slit_y_high': 0.55}, 'imprint_subtract': {'pre_hooks': [], 'post_hooks': [], 'output_file': None, 'output_dir': None, 'output_ext': '.fits', 'output_use_model': False, 'output_use_index': True, 'save_results': False, 'skip': False, 'suffix': None, 'search_output_file': True, 'input_dir': ''}, 'msa_flagging': {'pre_hooks': [], 'post_hooks': [], 'output_file': None, 'output_dir': None, 'output_ext': '.fits', 'output_use_model': False, 'output_use_index': True, 'save_results': False, 'skip': False, 'suffix': None, 'search_output_file': True, 'input_dir': ''}, 'extract_2d': {'pre_hooks': [], 'post_hooks': [], 'output_file': None, 'output_dir': None, 'output_ext': '.fits', 'output_use_model': False, 'output_use_index': True, 'save_results': False, 'skip': False, 'suffix': None, 'search_output_file': True, 'input_dir': '', 'slit_name': None, 'extract_orders': None, 'tsgrism_extract_height': None, 'wfss_extract_half_height': 5, 'grism_objects': None, 'mmag_extract': 99.0}, 'master_background': {'pre_hooks': [], 'post_hooks': [], 'output_file': None, 'output_dir': None, 'output_ext': '.fits', 'output_use_model': True, 'output_use_index': True, 'save_results': False, 'skip': False, 'suffix': None, 'search_output_file': True, 'input_dir': '', 'force_subtract': False, 'save_background': False, 'user_background': None, 'inverse': False, 'steps': {'flat_field': {'pre_hooks': [], 'post_hooks': [], 'output_file': None, 'output_dir': None, 'output_ext': '.fits', 'output_use_model': False, 'output_use_index': True, 'save_results': False, 'skip': False, 'suffix': None, 'search_output_file': True, 'input_dir': '', 'save_interpolated_flat': False, 'user_supplied_flat': None, 'inverse': False}, 'pathloss': {'pre_hooks': [], 'post_hooks': [], 'output_file': None, 'output_dir': None, 'output_ext': '.fits', 'output_use_model': False, 'output_use_index': True, 'save_results': False, 'skip': False, 'suffix': None, 'search_output_file': True, 'input_dir': '', 'inverse': False, 'source_type': None}, 'barshadow': {'pre_hooks': [], 'post_hooks': [], 'output_file': None, 'output_dir': None, 'output_ext': '.fits', 'output_use_model': False, 'output_use_index': True, 'save_results': False, 'skip': False, 'suffix': None, 'search_output_file': True, 'input_dir': '', 'inverse': False, 'source_type': None}, 'photom': {'pre_hooks': [], 'post_hooks': [], 'output_file': None, 'output_dir': None, 'output_ext': '.fits', 'output_use_model': False, 'output_use_index': True, 'save_results': False, 'skip': False, 'suffix': None, 'search_output_file': True, 'input_dir': '', 'inverse': False, 'source_type': None}}}, 'wavecorr': {'pre_hooks': [], 'post_hooks': [], 'output_file': None, 'output_dir': None, 'output_ext': '.fits', 'output_use_model': False, 'output_use_index': True, 'save_results': False, 'skip': False, 'suffix': None, 'search_output_file': True, 'input_dir': ''}, 'flat_field': {'pre_hooks': [], 'post_hooks': [], 'output_file': None, 'output_dir': None, 'output_ext': '.fits', 'output_use_model': False, 'output_use_index': True, 'save_results': True, 'skip': False, 'suffix': None, 'search_output_file': True, 'input_dir': '', 'save_interpolated_flat': False, 'user_supplied_flat': None, 'inverse': False}, 'srctype': {'pre_hooks': [], 'post_hooks': [], 'output_file': None, 'output_dir': None, 'output_ext': '.fits', 'output_use_model': False, 'output_use_index': True, 'save_results': False, 'skip': False, 'suffix': None, 'search_output_file': True, 'input_dir': ''}, 'straylight': {'pre_hooks': [], 'post_hooks': [], 'output_file': None, 'output_dir': None, 'output_ext': '.fits', 'output_use_model': False, 'output_use_index': True, 'save_results': False, 'skip': False, 'suffix': None, 'search_output_file': True, 'input_dir': '', 'method': 'ModShepard', 'roi': 50, 'power': 1.0}, 'fringe': {'pre_hooks': [], 'post_hooks': [], 'output_file': None, 'output_dir': None, 'output_ext': '.fits', 'output_use_model': False, 'output_use_index': True, 'save_results': False, 'skip': False, 'suffix': None, 'search_output_file': True, 'input_dir': ''}, 'pathloss': {'pre_hooks': [], 'post_hooks': [], 'output_file': None, 'output_dir': None, 'output_ext': '.fits', 'output_use_model': False, 'output_use_index': True, 'save_results': False, 'skip': False, 'suffix': None, 'search_output_file': True, 'input_dir': '', 'inverse': False, 'source_type': None}, 'barshadow': {'pre_hooks': [], 'post_hooks': [], 'output_file': None, 'output_dir': None, 'output_ext': '.fits', 'output_use_model': False, 'output_use_index': True, 'save_results': False, 'skip': False, 'suffix': None, 'search_output_file': True, 'input_dir': '', 'inverse': False, 'source_type': None}, 'photom': {'pre_hooks': [], 'post_hooks': [], 'output_file': None, 'output_dir': None, 'output_ext': '.fits', 'output_use_model': False, 'output_use_index': True, 'save_results': False, 'skip': False, 'suffix': None, 'search_output_file': True, 'input_dir': '', 'inverse': False, 'source_type': None}, 'resample_spec': {'pre_hooks': [], 'post_hooks': [], 'output_file': None, 'output_dir': None, 'output_ext': '.fits', 'output_use_model': False, 'output_use_index': True, 'save_results': False, 'skip': False, 'suffix': None, 'search_output_file': True, 'input_dir': '', 'pixfrac': 1.0, 'kernel': 'square', 'fillval': 'INDEF', 'weight_type': 'exptime', 'single': False, 'blendheaders': True}, 'cube_build': {'pre_hooks': [], 'post_hooks': [], 'output_file': None, 'output_dir': None, 'output_ext': '.fits', 'output_use_model': True, 'output_use_index': True, 'save_results': False, 'skip': False, 'suffix': None, 'search_output_file': False, 'input_dir': '', 'channel': 'all', 'band': 'all', 'grating': 'all', 'filter': 'all', 'output_type': 'band', 'scale1': 0.0, 'scale2': 0.0, 'scalew': 0.0, 'weighting': 'emsm', 'coord_system': 'skyalign', 'rois': 0.0, 'roiw': 0.0, 'weight_power': 0.0, 'wavemin': None, 'wavemax': None, 'single': False, 'xdebug': None, 'ydebug': None, 'zdebug': None, 'skip_dqflagging': False}, 'extract_1d': {'pre_hooks': [], 'post_hooks': [], 'output_file': None, 'output_dir': None, 'output_ext': '.fits', 'output_use_model': False, 'output_use_index': True, 'save_results': False, 'skip': True, 'suffix': None, 'search_output_file': True, 'input_dir': '', 'smoothing_length': None, 'bkg_order': None, 'log_increment': 50, 'subtract_background': None, 'use_source_posn': None, 'apply_apcorr': True}}}\n"
     ]
    },
    {
     "name": "stderr",
     "output_type": "stream",
     "text": [
      "2021-01-25 10:52:20,960 - stpipe.Spec2Pipeline - INFO - Prefetching reference files for dataset: 'miri_lrs_slit_pt_nod1_v2.3_rate.fits' reftypes = ['area', 'barshadow', 'camera', 'collimator', 'cubepar', 'dflat', 'disperser', 'distortion', 'drizpars', 'fflat', 'filteroffset', 'flat', 'fore', 'fpa', 'fringe', 'ifufore', 'ifupost', 'ifuslicer', 'msa', 'msaoper', 'ote', 'pathloss', 'photom', 'regions', 'resol', 'sflat', 'specwcs', 'wavecorr', 'wavelengthrange', 'wfssbkg']\n",
      "2021-01-25 10:52:20,974 - stpipe.Spec2Pipeline - INFO - Prefetch for AREA reference file is 'N/A'.\n",
      "2021-01-25 10:52:20,975 - stpipe.Spec2Pipeline - INFO - Prefetch for BARSHADOW reference file is 'N/A'.\n",
      "2021-01-25 10:52:20,976 - stpipe.Spec2Pipeline - INFO - Prefetch for CAMERA reference file is 'N/A'.\n",
      "2021-01-25 10:52:20,976 - stpipe.Spec2Pipeline - INFO - Prefetch for COLLIMATOR reference file is 'N/A'.\n",
      "2021-01-25 10:52:20,977 - stpipe.Spec2Pipeline - INFO - Prefetch for CUBEPAR reference file is 'N/A'.\n",
      "2021-01-25 10:52:20,978 - stpipe.Spec2Pipeline - INFO - Prefetch for DFLAT reference file is 'N/A'.\n",
      "2021-01-25 10:52:20,978 - stpipe.Spec2Pipeline - INFO - Prefetch for DISPERSER reference file is 'N/A'.\n",
      "2021-01-25 10:52:20,979 - stpipe.Spec2Pipeline - INFO - Prefetch for DISTORTION reference file is '/Users/skendrew//crds_cache/references/jwst/miri/jwst_miri_distortion_0028.asdf'.\n",
      "2021-01-25 10:52:20,979 - stpipe.Spec2Pipeline - INFO - Prefetch for DRIZPARS reference file is '/Users/skendrew//crds_cache/references/jwst/miri/jwst_miri_drizpars_0001.fits'.\n",
      "2021-01-25 10:52:20,980 - stpipe.Spec2Pipeline - INFO - Prefetch for FFLAT reference file is 'N/A'.\n",
      "2021-01-25 10:52:20,981 - stpipe.Spec2Pipeline - INFO - Prefetch for FILTEROFFSET reference file is 'N/A'.\n",
      "2021-01-25 10:52:20,981 - stpipe.Spec2Pipeline - INFO - Prefetch for FLAT reference file is '/Users/skendrew//crds_cache/references/jwst/miri/jwst_miri_flat_0472.fits'.\n",
      "2021-01-25 10:52:20,982 - stpipe.Spec2Pipeline - INFO - Prefetch for FORE reference file is 'N/A'.\n",
      "2021-01-25 10:52:20,983 - stpipe.Spec2Pipeline - INFO - Prefetch for FPA reference file is 'N/A'.\n",
      "2021-01-25 10:52:20,984 - stpipe.Spec2Pipeline - INFO - Prefetch for FRINGE reference file is 'N/A'.\n",
      "2021-01-25 10:52:20,984 - stpipe.Spec2Pipeline - INFO - Prefetch for IFUFORE reference file is 'N/A'.\n",
      "2021-01-25 10:52:20,985 - stpipe.Spec2Pipeline - INFO - Prefetch for IFUPOST reference file is 'N/A'.\n",
      "2021-01-25 10:52:20,985 - stpipe.Spec2Pipeline - INFO - Prefetch for IFUSLICER reference file is 'N/A'.\n",
      "2021-01-25 10:52:20,986 - stpipe.Spec2Pipeline - INFO - Prefetch for MSA reference file is 'N/A'.\n",
      "2021-01-25 10:52:20,986 - stpipe.Spec2Pipeline - INFO - Prefetch for MSAOPER reference file is 'N/A'.\n",
      "2021-01-25 10:52:20,987 - stpipe.Spec2Pipeline - INFO - Prefetch for OTE reference file is 'N/A'.\n",
      "2021-01-25 10:52:20,987 - stpipe.Spec2Pipeline - INFO - Prefetch for PATHLOSS reference file is 'N/A'.\n",
      "2021-01-25 10:52:20,988 - stpipe.Spec2Pipeline - INFO - Prefetch for PHOTOM reference file is '/Users/skendrew//crds_cache/references/jwst/miri/jwst_miri_photom_0072.fits'.\n",
      "2021-01-25 10:52:20,988 - stpipe.Spec2Pipeline - INFO - Prefetch for REGIONS reference file is 'N/A'.\n",
      "2021-01-25 10:52:20,989 - stpipe.Spec2Pipeline - INFO - Prefetch for RESOL reference file is 'N/A'.\n",
      "2021-01-25 10:52:20,989 - stpipe.Spec2Pipeline - INFO - Prefetch for SFLAT reference file is 'N/A'.\n",
      "2021-01-25 10:52:20,990 - stpipe.Spec2Pipeline - INFO - Prefetch for SPECWCS reference file is '/Users/skendrew//crds_cache/references/jwst/miri/jwst_miri_specwcs_0003.fits'.\n",
      "2021-01-25 10:52:20,991 - stpipe.Spec2Pipeline - INFO - Prefetch for WAVECORR reference file is 'N/A'.\n",
      "2021-01-25 10:52:20,991 - stpipe.Spec2Pipeline - INFO - Prefetch for WAVELENGTHRANGE reference file is 'N/A'.\n",
      "2021-01-25 10:52:20,991 - stpipe.Spec2Pipeline - INFO - Prefetch for WFSSBKG reference file is 'N/A'.\n",
      "2021-01-25 10:52:20,992 - stpipe.Spec2Pipeline - INFO - Starting calwebb_spec2 ...\n",
      "2021-01-25 10:52:21,001 - stpipe.Spec2Pipeline - INFO - Processing product miri_lrs_slit_pt_nod1_v2.3\n",
      "2021-01-25 10:52:21,002 - stpipe.Spec2Pipeline - INFO - Working on input miri_lrs_slit_pt_nod1_v2.3_rate.fits ...\n",
      "2021-01-25 10:52:21,118 - stpipe.Spec2Pipeline.assign_wcs - INFO - Step assign_wcs running with args (<ImageModel(1024, 1032) from miri_lrs_slit_pt_nod1_v2.3_rate.fits>,).\n",
      "2021-01-25 10:52:21,120 - stpipe.Spec2Pipeline.assign_wcs - INFO - Step assign_wcs parameters are: {'pre_hooks': [], 'post_hooks': [], 'output_file': None, 'output_dir': None, 'output_ext': '.fits', 'output_use_model': False, 'output_use_index': True, 'save_results': False, 'skip': False, 'suffix': None, 'search_output_file': True, 'input_dir': '', 'slit_y_low': -0.55, 'slit_y_high': 0.55}\n",
      "2021-01-25 10:52:21,542 - stpipe.Spec2Pipeline.assign_wcs - INFO - Created a MIRI mir_lrs-fixedslit pipeline with references {'distortion': '/Users/skendrew//crds_cache/references/jwst/miri/jwst_miri_distortion_0028.asdf', 'filteroffset': None, 'specwcs': '/Users/skendrew//crds_cache/references/jwst/miri/jwst_miri_specwcs_0003.fits', 'regions': None, 'wavelengthrange': None, 'camera': None, 'collimator': None, 'disperser': None, 'fore': None, 'fpa': None, 'msa': None, 'ote': None, 'ifupost': None, 'ifufore': None, 'ifuslicer': None}\n",
      "2021-01-25 10:52:21,585 - stpipe.Spec2Pipeline.assign_wcs - INFO - Update S_REGION to POLYGON ICRS  0.000379612 -0.000035778 0.000379612 0.000080412 359.999082432 0.000080412 359.999082432 -0.000035778\n",
      "2021-01-25 10:52:21,585 - stpipe.Spec2Pipeline.assign_wcs - INFO - assign_wcs updated S_REGION to POLYGON ICRS  0.000379612 -0.000035778 0.000379612 0.000080412 359.999082432 0.000080412 359.999082432 -0.000035778\n",
      "2021-01-25 10:52:21,586 - stpipe.Spec2Pipeline.assign_wcs - INFO - COMPLETED assign_wcs\n",
      "2021-01-25 10:52:21,589 - stpipe.Spec2Pipeline.assign_wcs - INFO - Step assign_wcs done\n",
      "2021-01-25 10:52:21,647 - stpipe.Spec2Pipeline.bkg_subtract - INFO - Step bkg_subtract running with args (<ImageModel(1024, 1032) from miri_lrs_slit_pt_nod1_v2.3_rate.fits>, ['miri_lrs_slit_pt_nod2_v2.3_rate.fits']).\n",
      "2021-01-25 10:52:21,648 - stpipe.Spec2Pipeline.bkg_subtract - INFO - Step bkg_subtract parameters are: {'pre_hooks': [], 'post_hooks': [], 'output_file': None, 'output_dir': None, 'output_ext': '.fits', 'output_use_model': False, 'output_use_index': True, 'save_results': False, 'skip': False, 'suffix': 'bsub', 'search_output_file': True, 'input_dir': '', 'sigma': 3.0, 'maxiters': None}\n",
      "2021-01-25 10:52:22,008 - stpipe.Spec2Pipeline.bkg_subtract - INFO - Step bkg_subtract done\n",
      "2021-01-25 10:52:22,070 - stpipe.Spec2Pipeline.imprint_subtract - INFO - Step imprint_subtract running with args (<ImageModel(1024, 1032) from miri_lrs_slit_pt_nod1_v2.3_rate.fits>, []).\n",
      "2021-01-25 10:52:22,072 - stpipe.Spec2Pipeline.imprint_subtract - INFO - Step imprint_subtract parameters are: {'pre_hooks': [], 'post_hooks': [], 'output_file': None, 'output_dir': None, 'output_ext': '.fits', 'output_use_model': False, 'output_use_index': True, 'save_results': False, 'skip': True, 'suffix': None, 'search_output_file': True, 'input_dir': ''}\n",
      "2021-01-25 10:52:22,073 - stpipe.Spec2Pipeline.imprint_subtract - INFO - Step skipped.\n",
      "2021-01-25 10:52:22,073 - stpipe.Spec2Pipeline.imprint_subtract - INFO - Step imprint_subtract done\n",
      "2021-01-25 10:52:22,133 - stpipe.Spec2Pipeline.msa_flagging - INFO - Step msa_flagging running with args (<ImageModel(1024, 1032) from miri_lrs_slit_pt_nod1_v2.3_rate.fits>,).\n",
      "2021-01-25 10:52:22,134 - stpipe.Spec2Pipeline.msa_flagging - INFO - Step msa_flagging parameters are: {'pre_hooks': [], 'post_hooks': [], 'output_file': None, 'output_dir': None, 'output_ext': '.fits', 'output_use_model': False, 'output_use_index': True, 'save_results': False, 'skip': True, 'suffix': None, 'search_output_file': True, 'input_dir': ''}\n",
      "2021-01-25 10:52:22,135 - stpipe.Spec2Pipeline.msa_flagging - INFO - Step skipped.\n",
      "2021-01-25 10:52:22,136 - stpipe.Spec2Pipeline.msa_flagging - INFO - Step msa_flagging done\n",
      "2021-01-25 10:52:22,197 - stpipe.Spec2Pipeline.srctype - INFO - Step srctype running with args (<ImageModel(1024, 1032) from miri_lrs_slit_pt_nod1_v2.3_rate.fits>,).\n"
     ]
    },
    {
     "name": "stderr",
     "output_type": "stream",
     "text": [
      "2021-01-25 10:52:22,199 - stpipe.Spec2Pipeline.srctype - INFO - Step srctype parameters are: {'pre_hooks': [], 'post_hooks': [], 'output_file': None, 'output_dir': None, 'output_ext': '.fits', 'output_use_model': False, 'output_use_index': True, 'save_results': False, 'skip': False, 'suffix': None, 'search_output_file': True, 'input_dir': ''}\n",
      "2021-01-25 10:52:22,207 - stpipe.Spec2Pipeline.srctype - INFO - Input EXP_TYPE is MIR_LRS-FIXEDSLIT\n",
      "2021-01-25 10:52:22,208 - stpipe.Spec2Pipeline.srctype - INFO - Input SRCTYAPT = None\n",
      "2021-01-25 10:52:22,208 - stpipe.Spec2Pipeline.srctype - WARNING - SRCTYAPT keyword not found in input; using SRCTYPE instead\n",
      "2021-01-25 10:52:22,209 - stpipe.Spec2Pipeline.srctype - INFO - Input source type is unknown; setting default SRCTYPE = POINT\n",
      "2021-01-25 10:52:22,210 - stpipe.Spec2Pipeline.srctype - INFO - Step srctype done\n",
      "2021-01-25 10:52:22,270 - stpipe.Spec2Pipeline.flat_field - INFO - Step flat_field running with args (<ImageModel(1024, 1032) from miri_lrs_slit_pt_nod1_v2.3_rate.fits>,).\n",
      "2021-01-25 10:52:22,272 - stpipe.Spec2Pipeline.flat_field - INFO - Step flat_field parameters are: {'pre_hooks': [], 'post_hooks': [], 'output_file': None, 'output_dir': None, 'output_ext': '.fits', 'output_use_model': False, 'output_use_index': True, 'save_results': True, 'skip': False, 'suffix': None, 'search_output_file': True, 'input_dir': '', 'save_interpolated_flat': False, 'user_supplied_flat': None, 'inverse': False}\n",
      "2021-01-25 10:52:22,346 - stpipe.Spec2Pipeline.flat_field - WARNING - Keyword CDP_PARTIAL_DATA does not correspond to an existing DQ mnemonic, so will be ignored\n",
      "2021-01-25 10:52:22,346 - stpipe.Spec2Pipeline.flat_field - WARNING - Keyword CDP_LOW_QUAL does not correspond to an existing DQ mnemonic, so will be ignored\n",
      "2021-01-25 10:52:22,347 - stpipe.Spec2Pipeline.flat_field - WARNING - Keyword CDP_UNRELIABLE_ERROR does not correspond to an existing DQ mnemonic, so will be ignored\n",
      "2021-01-25 10:52:22,366 - stpipe.Spec2Pipeline.flat_field - WARNING - Keyword DIFF_PATTERN does not correspond to an existing DQ mnemonic, so will be ignored\n",
      "2021-01-25 10:52:22,680 - stpipe.Spec2Pipeline.flat_field - INFO - Saved model in miri_lrs_slit_pt_nod1_v2_flat_field.fits\n",
      "2021-01-25 10:52:22,680 - stpipe.Spec2Pipeline.flat_field - INFO - Step flat_field done\n",
      "2021-01-25 10:52:22,738 - stpipe.Spec2Pipeline.straylight - INFO - Step straylight running with args (<ImageModel(1024, 1032) from miri_lrs_slit_pt_nod1_v2_flat_field.fits>,).\n",
      "2021-01-25 10:52:22,739 - stpipe.Spec2Pipeline.straylight - INFO - Step straylight parameters are: {'pre_hooks': [], 'post_hooks': [], 'output_file': None, 'output_dir': None, 'output_ext': '.fits', 'output_use_model': False, 'output_use_index': True, 'save_results': False, 'skip': True, 'suffix': None, 'search_output_file': True, 'input_dir': '', 'method': 'ModShepard', 'roi': 50, 'power': 1.0}\n",
      "2021-01-25 10:52:22,740 - stpipe.Spec2Pipeline.straylight - INFO - Step skipped.\n",
      "2021-01-25 10:52:22,741 - stpipe.Spec2Pipeline.straylight - INFO - Step straylight done\n",
      "2021-01-25 10:52:22,800 - stpipe.Spec2Pipeline.fringe - INFO - Step fringe running with args (<ImageModel(1024, 1032) from miri_lrs_slit_pt_nod1_v2_flat_field.fits>,).\n",
      "2021-01-25 10:52:22,802 - stpipe.Spec2Pipeline.fringe - INFO - Step fringe parameters are: {'pre_hooks': [], 'post_hooks': [], 'output_file': None, 'output_dir': None, 'output_ext': '.fits', 'output_use_model': False, 'output_use_index': True, 'save_results': False, 'skip': True, 'suffix': None, 'search_output_file': True, 'input_dir': ''}\n",
      "2021-01-25 10:52:22,802 - stpipe.Spec2Pipeline.fringe - INFO - Step skipped.\n",
      "2021-01-25 10:52:22,803 - stpipe.Spec2Pipeline.fringe - INFO - Step fringe done\n",
      "2021-01-25 10:52:22,862 - stpipe.Spec2Pipeline.pathloss - INFO - Step pathloss running with args (<ImageModel(1024, 1032) from miri_lrs_slit_pt_nod1_v2_flat_field.fits>,).\n",
      "2021-01-25 10:52:22,864 - stpipe.Spec2Pipeline.pathloss - INFO - Step pathloss parameters are: {'pre_hooks': [], 'post_hooks': [], 'output_file': None, 'output_dir': None, 'output_ext': '.fits', 'output_use_model': False, 'output_use_index': True, 'save_results': False, 'skip': True, 'suffix': None, 'search_output_file': True, 'input_dir': '', 'inverse': False, 'source_type': None}\n",
      "2021-01-25 10:52:22,865 - stpipe.Spec2Pipeline.pathloss - INFO - Step skipped.\n",
      "2021-01-25 10:52:22,865 - stpipe.Spec2Pipeline.pathloss - INFO - Step pathloss done\n",
      "2021-01-25 10:52:22,924 - stpipe.Spec2Pipeline.barshadow - INFO - Step barshadow running with args (<ImageModel(1024, 1032) from miri_lrs_slit_pt_nod1_v2_flat_field.fits>,).\n",
      "2021-01-25 10:52:22,926 - stpipe.Spec2Pipeline.barshadow - INFO - Step barshadow parameters are: {'pre_hooks': [], 'post_hooks': [], 'output_file': None, 'output_dir': None, 'output_ext': '.fits', 'output_use_model': False, 'output_use_index': True, 'save_results': False, 'skip': True, 'suffix': None, 'search_output_file': True, 'input_dir': '', 'inverse': False, 'source_type': None}\n",
      "2021-01-25 10:52:22,927 - stpipe.Spec2Pipeline.barshadow - INFO - Step skipped.\n",
      "2021-01-25 10:52:22,927 - stpipe.Spec2Pipeline.barshadow - INFO - Step barshadow done\n",
      "2021-01-25 10:52:22,992 - stpipe.Spec2Pipeline.photom - INFO - Step photom running with args (<ImageModel(1024, 1032) from miri_lrs_slit_pt_nod1_v2_flat_field.fits>,).\n",
      "2021-01-25 10:52:22,993 - stpipe.Spec2Pipeline.photom - INFO - Step photom parameters are: {'pre_hooks': [], 'post_hooks': [], 'output_file': None, 'output_dir': None, 'output_ext': '.fits', 'output_use_model': False, 'output_use_index': True, 'save_results': False, 'skip': False, 'suffix': None, 'search_output_file': True, 'input_dir': '', 'inverse': False, 'source_type': None}\n",
      "2021-01-25 10:52:23,005 - stpipe.Spec2Pipeline.photom - INFO - Using photom reference file: /Users/skendrew//crds_cache/references/jwst/miri/jwst_miri_photom_0072.fits\n",
      "2021-01-25 10:52:23,006 - stpipe.Spec2Pipeline.photom - INFO - Using area reference file: N/A\n",
      "2021-01-25 10:52:23,094 - stpipe.Spec2Pipeline.photom - INFO - Using instrument: MIRI\n",
      "2021-01-25 10:52:23,094 - stpipe.Spec2Pipeline.photom - INFO -  detector: MIRIMAGE\n",
      "2021-01-25 10:52:23,094 - stpipe.Spec2Pipeline.photom - INFO -  exp_type: MIR_LRS-FIXEDSLIT\n",
      "2021-01-25 10:52:23,095 - stpipe.Spec2Pipeline.photom - INFO -  filter: P750L\n",
      "2021-01-25 10:52:23,110 - stpipe.Spec2Pipeline.photom - INFO -  subarray: FULL\n",
      "2021-01-25 10:52:23,111 - stpipe.Spec2Pipeline.photom - INFO - PHOTMJSR value: 60.567\n",
      "2021-01-25 10:52:23,199 - stpipe.Spec2Pipeline.photom - INFO - Step photom done\n",
      "2021-01-25 10:52:23,266 - stpipe.Spec2Pipeline.resample_spec - INFO - Step resample_spec running with args (<ImageModel(1024, 1032) from miri_lrs_slit_pt_nod1_v2_cal.fits>,).\n",
      "2021-01-25 10:52:23,268 - stpipe.Spec2Pipeline.resample_spec - INFO - Step resample_spec parameters are: {'pre_hooks': [], 'post_hooks': [], 'output_file': None, 'output_dir': None, 'output_ext': '.fits', 'output_use_model': False, 'output_use_index': True, 'save_results': False, 'skip': False, 'suffix': 's2d', 'search_output_file': True, 'input_dir': '', 'pixfrac': 1.0, 'kernel': 'square', 'fillval': 'INDEF', 'weight_type': 'exptime', 'single': False, 'blendheaders': True}\n",
      "2021-01-25 10:52:23,336 - stpipe.Spec2Pipeline.resample_spec - INFO - Drizpars reference file: /Users/skendrew//crds_cache/references/jwst/miri/jwst_miri_drizpars_0001.fits\n",
      "2021-01-25 10:52:23,360 - stpipe.Spec2Pipeline.resample_spec - WARNING - /Users/skendrew/anaconda3/envs/jwst0.17.1/lib/python3.8/site-packages/numpy/lib/nanfunctions.py:1113: RuntimeWarning: All-NaN slice encountered\n",
      "  r, k = function_base._ureduce(a, func=_nanmedian, axis=axis, out=out,\n",
      "\n",
      "2021-01-25 10:52:23,419 - stpipe.Spec2Pipeline.resample_spec - INFO - Resampling slit None (387, 44)\n",
      "2021-01-25 10:52:23,971 - stpipe.Spec2Pipeline.resample_spec - INFO - Drizzling (1024, 1032) --> (387, 44)\n",
      "2021-01-25 10:52:23,995 - stpipe.Spec2Pipeline.resample_spec - INFO - Update S_REGION to POLYGON ICRS  179.999087909 -0.000075806 180.000404817 -0.000075806 180.000404817 0.000033658 179.999087909 0.000033658\n",
      "2021-01-25 10:52:23,997 - stpipe.Spec2Pipeline.resample_spec - INFO - Step resample_spec done\n"
     ]
    },
    {
     "name": "stderr",
     "output_type": "stream",
     "text": [
      "2021-01-25 10:52:24,056 - stpipe.Spec2Pipeline.extract_1d - INFO - Step extract_1d running with args (<SlitModel(387, 44) from miri_lrs_slit_pt_nod1_v2_cal.fits>,).\n",
      "2021-01-25 10:52:24,057 - stpipe.Spec2Pipeline.extract_1d - INFO - Step extract_1d parameters are: {'pre_hooks': [], 'post_hooks': [], 'output_file': None, 'output_dir': None, 'output_ext': '.fits', 'output_use_model': False, 'output_use_index': True, 'save_results': False, 'skip': True, 'suffix': 'x1d', 'search_output_file': True, 'input_dir': '', 'smoothing_length': None, 'bkg_order': None, 'log_increment': 50, 'subtract_background': None, 'use_source_posn': None, 'apply_apcorr': True}\n",
      "2021-01-25 10:52:24,058 - stpipe.Spec2Pipeline.extract_1d - INFO - Step skipped.\n",
      "2021-01-25 10:52:24,059 - stpipe.Spec2Pipeline.extract_1d - INFO - Step extract_1d done\n",
      "2021-01-25 10:52:24,059 - stpipe.Spec2Pipeline - INFO - Finished processing product miri_lrs_slit_pt_nod1_v2.3\n",
      "2021-01-25 10:52:24,060 - stpipe.Spec2Pipeline - INFO - Processing product miri_lrs_slit_pt_nod2_v2.3\n",
      "2021-01-25 10:52:24,061 - stpipe.Spec2Pipeline - INFO - Working on input miri_lrs_slit_pt_nod2_v2.3_rate.fits ...\n",
      "2021-01-25 10:52:24,165 - stpipe.Spec2Pipeline.assign_wcs - INFO - Step assign_wcs running with args (<ImageModel(1024, 1032) from miri_lrs_slit_pt_nod2_v2.3_rate.fits>,).\n",
      "2021-01-25 10:52:24,166 - stpipe.Spec2Pipeline.assign_wcs - INFO - Step assign_wcs parameters are: {'pre_hooks': [], 'post_hooks': [], 'output_file': None, 'output_dir': None, 'output_ext': '.fits', 'output_use_model': False, 'output_use_index': True, 'save_results': False, 'skip': False, 'suffix': 'assign_wcs', 'search_output_file': True, 'input_dir': '', 'slit_y_low': -0.55, 'slit_y_high': 0.55}\n",
      "2021-01-25 10:52:24,545 - stpipe.Spec2Pipeline.assign_wcs - INFO - Created a MIRI mir_lrs-fixedslit pipeline with references {'distortion': '/Users/skendrew//crds_cache/references/jwst/miri/jwst_miri_distortion_0028.asdf', 'filteroffset': None, 'specwcs': '/Users/skendrew//crds_cache/references/jwst/miri/jwst_miri_specwcs_0003.fits', 'regions': None, 'wavelengthrange': None, 'camera': None, 'collimator': None, 'disperser': None, 'fore': None, 'fpa': None, 'msa': None, 'ote': None, 'ifupost': None, 'ifufore': None, 'ifuslicer': None}\n",
      "2021-01-25 10:52:24,583 - stpipe.Spec2Pipeline.assign_wcs - INFO - Update S_REGION to POLYGON ICRS  0.000903013 -0.000079284 0.000903013 0.000036907 359.999605833 0.000036907 359.999605833 -0.000079284\n",
      "2021-01-25 10:52:24,584 - stpipe.Spec2Pipeline.assign_wcs - INFO - assign_wcs updated S_REGION to POLYGON ICRS  0.000903013 -0.000079284 0.000903013 0.000036907 359.999605833 0.000036907 359.999605833 -0.000079284\n",
      "2021-01-25 10:52:24,585 - stpipe.Spec2Pipeline.assign_wcs - INFO - COMPLETED assign_wcs\n",
      "2021-01-25 10:52:24,589 - stpipe.Spec2Pipeline.assign_wcs - INFO - Step assign_wcs done\n",
      "2021-01-25 10:52:24,660 - stpipe.Spec2Pipeline.bkg_subtract - INFO - Step bkg_subtract running with args (<ImageModel(1024, 1032) from miri_lrs_slit_pt_nod2_v2.3_rate.fits>, ['miri_lrs_slit_pt_nod1_v2.3_rate.fits']).\n",
      "2021-01-25 10:52:24,662 - stpipe.Spec2Pipeline.bkg_subtract - INFO - Step bkg_subtract parameters are: {'pre_hooks': [], 'post_hooks': [], 'output_file': None, 'output_dir': None, 'output_ext': '.fits', 'output_use_model': False, 'output_use_index': True, 'save_results': False, 'skip': False, 'suffix': 'bsub', 'search_output_file': True, 'input_dir': '', 'sigma': 3.0, 'maxiters': None}\n",
      "2021-01-25 10:52:25,018 - stpipe.Spec2Pipeline.bkg_subtract - INFO - Step bkg_subtract done\n",
      "2021-01-25 10:52:25,078 - stpipe.Spec2Pipeline.imprint_subtract - INFO - Step imprint_subtract running with args (<ImageModel(1024, 1032) from miri_lrs_slit_pt_nod2_v2.3_rate.fits>, []).\n",
      "2021-01-25 10:52:25,079 - stpipe.Spec2Pipeline.imprint_subtract - INFO - Step imprint_subtract parameters are: {'pre_hooks': [], 'post_hooks': [], 'output_file': None, 'output_dir': None, 'output_ext': '.fits', 'output_use_model': False, 'output_use_index': True, 'save_results': False, 'skip': True, 'suffix': 'imprint_subtract', 'search_output_file': True, 'input_dir': ''}\n",
      "2021-01-25 10:52:25,080 - stpipe.Spec2Pipeline.imprint_subtract - INFO - Step skipped.\n",
      "2021-01-25 10:52:25,081 - stpipe.Spec2Pipeline.imprint_subtract - INFO - Step imprint_subtract done\n",
      "2021-01-25 10:52:25,141 - stpipe.Spec2Pipeline.msa_flagging - INFO - Step msa_flagging running with args (<ImageModel(1024, 1032) from miri_lrs_slit_pt_nod2_v2.3_rate.fits>,).\n",
      "2021-01-25 10:52:25,142 - stpipe.Spec2Pipeline.msa_flagging - INFO - Step msa_flagging parameters are: {'pre_hooks': [], 'post_hooks': [], 'output_file': None, 'output_dir': None, 'output_ext': '.fits', 'output_use_model': False, 'output_use_index': True, 'save_results': False, 'skip': True, 'suffix': 'msa_flagging', 'search_output_file': True, 'input_dir': ''}\n",
      "2021-01-25 10:52:25,143 - stpipe.Spec2Pipeline.msa_flagging - INFO - Step skipped.\n",
      "2021-01-25 10:52:25,144 - stpipe.Spec2Pipeline.msa_flagging - INFO - Step msa_flagging done\n",
      "2021-01-25 10:52:25,203 - stpipe.Spec2Pipeline.srctype - INFO - Step srctype running with args (<ImageModel(1024, 1032) from miri_lrs_slit_pt_nod2_v2.3_rate.fits>,).\n",
      "2021-01-25 10:52:25,204 - stpipe.Spec2Pipeline.srctype - INFO - Step srctype parameters are: {'pre_hooks': [], 'post_hooks': [], 'output_file': None, 'output_dir': None, 'output_ext': '.fits', 'output_use_model': False, 'output_use_index': True, 'save_results': False, 'skip': False, 'suffix': 'srctype', 'search_output_file': True, 'input_dir': ''}\n",
      "2021-01-25 10:52:25,212 - stpipe.Spec2Pipeline.srctype - INFO - Input EXP_TYPE is MIR_LRS-FIXEDSLIT\n",
      "2021-01-25 10:52:25,213 - stpipe.Spec2Pipeline.srctype - INFO - Input SRCTYAPT = None\n",
      "2021-01-25 10:52:25,214 - stpipe.Spec2Pipeline.srctype - WARNING - SRCTYAPT keyword not found in input; using SRCTYPE instead\n",
      "2021-01-25 10:52:25,214 - stpipe.Spec2Pipeline.srctype - INFO - Input source type is unknown; setting default SRCTYPE = POINT\n",
      "2021-01-25 10:52:25,216 - stpipe.Spec2Pipeline.srctype - INFO - Step srctype done\n",
      "2021-01-25 10:52:25,279 - stpipe.Spec2Pipeline.flat_field - INFO - Step flat_field running with args (<ImageModel(1024, 1032) from miri_lrs_slit_pt_nod2_v2.3_rate.fits>,).\n",
      "2021-01-25 10:52:25,280 - stpipe.Spec2Pipeline.flat_field - INFO - Step flat_field parameters are: {'pre_hooks': [], 'post_hooks': [], 'output_file': None, 'output_dir': None, 'output_ext': '.fits', 'output_use_model': False, 'output_use_index': True, 'save_results': True, 'skip': False, 'suffix': 'flat_field', 'search_output_file': True, 'input_dir': '', 'save_interpolated_flat': False, 'user_supplied_flat': None, 'inverse': False}\n",
      "2021-01-25 10:52:25,352 - stpipe.Spec2Pipeline.flat_field - WARNING - Keyword CDP_PARTIAL_DATA does not correspond to an existing DQ mnemonic, so will be ignored\n",
      "2021-01-25 10:52:25,353 - stpipe.Spec2Pipeline.flat_field - WARNING - Keyword CDP_LOW_QUAL does not correspond to an existing DQ mnemonic, so will be ignored\n",
      "2021-01-25 10:52:25,353 - stpipe.Spec2Pipeline.flat_field - WARNING - Keyword CDP_UNRELIABLE_ERROR does not correspond to an existing DQ mnemonic, so will be ignored\n",
      "2021-01-25 10:52:25,373 - stpipe.Spec2Pipeline.flat_field - WARNING - Keyword DIFF_PATTERN does not correspond to an existing DQ mnemonic, so will be ignored\n",
      "2021-01-25 10:52:25,738 - stpipe.Spec2Pipeline.flat_field - INFO - Saved model in miri_lrs_slit_pt_nod2_v2_flat_field.fits\n",
      "2021-01-25 10:52:25,739 - stpipe.Spec2Pipeline.flat_field - INFO - Step flat_field done\n",
      "2021-01-25 10:52:25,825 - stpipe.Spec2Pipeline.straylight - INFO - Step straylight running with args (<ImageModel(1024, 1032) from miri_lrs_slit_pt_nod2_v2_flat_field.fits>,).\n",
      "2021-01-25 10:52:25,827 - stpipe.Spec2Pipeline.straylight - INFO - Step straylight parameters are: {'pre_hooks': [], 'post_hooks': [], 'output_file': None, 'output_dir': None, 'output_ext': '.fits', 'output_use_model': False, 'output_use_index': True, 'save_results': False, 'skip': True, 'suffix': 'straylight', 'search_output_file': True, 'input_dir': '', 'method': 'ModShepard', 'roi': 50, 'power': 1.0}\n",
      "2021-01-25 10:52:25,827 - stpipe.Spec2Pipeline.straylight - INFO - Step skipped.\n",
      "2021-01-25 10:52:25,828 - stpipe.Spec2Pipeline.straylight - INFO - Step straylight done\n"
     ]
    },
    {
     "name": "stderr",
     "output_type": "stream",
     "text": [
      "2021-01-25 10:52:25,897 - stpipe.Spec2Pipeline.fringe - INFO - Step fringe running with args (<ImageModel(1024, 1032) from miri_lrs_slit_pt_nod2_v2_flat_field.fits>,).\n",
      "2021-01-25 10:52:25,898 - stpipe.Spec2Pipeline.fringe - INFO - Step fringe parameters are: {'pre_hooks': [], 'post_hooks': [], 'output_file': None, 'output_dir': None, 'output_ext': '.fits', 'output_use_model': False, 'output_use_index': True, 'save_results': False, 'skip': True, 'suffix': 'fringe', 'search_output_file': True, 'input_dir': ''}\n",
      "2021-01-25 10:52:25,899 - stpipe.Spec2Pipeline.fringe - INFO - Step skipped.\n",
      "2021-01-25 10:52:25,900 - stpipe.Spec2Pipeline.fringe - INFO - Step fringe done\n",
      "2021-01-25 10:52:25,973 - stpipe.Spec2Pipeline.pathloss - INFO - Step pathloss running with args (<ImageModel(1024, 1032) from miri_lrs_slit_pt_nod2_v2_flat_field.fits>,).\n",
      "2021-01-25 10:52:25,974 - stpipe.Spec2Pipeline.pathloss - INFO - Step pathloss parameters are: {'pre_hooks': [], 'post_hooks': [], 'output_file': None, 'output_dir': None, 'output_ext': '.fits', 'output_use_model': False, 'output_use_index': True, 'save_results': False, 'skip': True, 'suffix': 'pathloss', 'search_output_file': True, 'input_dir': '', 'inverse': False, 'source_type': None}\n",
      "2021-01-25 10:52:25,975 - stpipe.Spec2Pipeline.pathloss - INFO - Step skipped.\n",
      "2021-01-25 10:52:25,976 - stpipe.Spec2Pipeline.pathloss - INFO - Step pathloss done\n",
      "2021-01-25 10:52:26,042 - stpipe.Spec2Pipeline.barshadow - INFO - Step barshadow running with args (<ImageModel(1024, 1032) from miri_lrs_slit_pt_nod2_v2_flat_field.fits>,).\n",
      "2021-01-25 10:52:26,044 - stpipe.Spec2Pipeline.barshadow - INFO - Step barshadow parameters are: {'pre_hooks': [], 'post_hooks': [], 'output_file': None, 'output_dir': None, 'output_ext': '.fits', 'output_use_model': False, 'output_use_index': True, 'save_results': False, 'skip': True, 'suffix': 'barshadow', 'search_output_file': True, 'input_dir': '', 'inverse': False, 'source_type': None}\n",
      "2021-01-25 10:52:26,045 - stpipe.Spec2Pipeline.barshadow - INFO - Step skipped.\n",
      "2021-01-25 10:52:26,046 - stpipe.Spec2Pipeline.barshadow - INFO - Step barshadow done\n",
      "2021-01-25 10:52:26,109 - stpipe.Spec2Pipeline.photom - INFO - Step photom running with args (<ImageModel(1024, 1032) from miri_lrs_slit_pt_nod2_v2_flat_field.fits>,).\n",
      "2021-01-25 10:52:26,110 - stpipe.Spec2Pipeline.photom - INFO - Step photom parameters are: {'pre_hooks': [], 'post_hooks': [], 'output_file': None, 'output_dir': None, 'output_ext': '.fits', 'output_use_model': False, 'output_use_index': True, 'save_results': False, 'skip': False, 'suffix': 'photom', 'search_output_file': True, 'input_dir': '', 'inverse': False, 'source_type': None}\n",
      "2021-01-25 10:52:26,124 - stpipe.Spec2Pipeline.photom - INFO - Using photom reference file: /Users/skendrew//crds_cache/references/jwst/miri/jwst_miri_photom_0072.fits\n",
      "2021-01-25 10:52:26,125 - stpipe.Spec2Pipeline.photom - INFO - Using area reference file: N/A\n",
      "2021-01-25 10:52:26,209 - stpipe.Spec2Pipeline.photom - INFO - Using instrument: MIRI\n",
      "2021-01-25 10:52:26,210 - stpipe.Spec2Pipeline.photom - INFO -  detector: MIRIMAGE\n",
      "2021-01-25 10:52:26,210 - stpipe.Spec2Pipeline.photom - INFO -  exp_type: MIR_LRS-FIXEDSLIT\n",
      "2021-01-25 10:52:26,211 - stpipe.Spec2Pipeline.photom - INFO -  filter: P750L\n",
      "2021-01-25 10:52:26,227 - stpipe.Spec2Pipeline.photom - INFO -  subarray: FULL\n",
      "2021-01-25 10:52:26,228 - stpipe.Spec2Pipeline.photom - INFO - PHOTMJSR value: 60.567\n",
      "2021-01-25 10:52:26,315 - stpipe.Spec2Pipeline.photom - INFO - Step photom done\n",
      "2021-01-25 10:52:26,382 - stpipe.Spec2Pipeline.resample_spec - INFO - Step resample_spec running with args (<ImageModel(1024, 1032) from miri_lrs_slit_pt_nod2_v2_cal.fits>,).\n",
      "2021-01-25 10:52:26,384 - stpipe.Spec2Pipeline.resample_spec - INFO - Step resample_spec parameters are: {'pre_hooks': [], 'post_hooks': [], 'output_file': None, 'output_dir': None, 'output_ext': '.fits', 'output_use_model': False, 'output_use_index': True, 'save_results': False, 'skip': False, 'suffix': 's2d', 'search_output_file': True, 'input_dir': '', 'pixfrac': 1.0, 'kernel': 'square', 'fillval': 'INDEF', 'weight_type': 'exptime', 'single': False, 'blendheaders': False}\n",
      "2021-01-25 10:52:26,453 - stpipe.Spec2Pipeline.resample_spec - INFO - Drizpars reference file: /Users/skendrew//crds_cache/references/jwst/miri/jwst_miri_drizpars_0001.fits\n",
      "2021-01-25 10:52:26,478 - stpipe.Spec2Pipeline.resample_spec - WARNING - /Users/skendrew/anaconda3/envs/jwst0.17.1/lib/python3.8/site-packages/numpy/lib/nanfunctions.py:1113: RuntimeWarning: All-NaN slice encountered\n",
      "  r, k = function_base._ureduce(a, func=_nanmedian, axis=axis, out=out,\n",
      "\n",
      "2021-01-25 10:52:26,538 - stpipe.Spec2Pipeline.resample_spec - INFO - Resampling slit None (387, 44)\n",
      "2021-01-25 10:52:27,083 - stpipe.Spec2Pipeline.resample_spec - INFO - Drizzling (1024, 1032) --> (387, 44)\n",
      "2021-01-25 10:52:27,108 - stpipe.Spec2Pipeline.resample_spec - INFO - Update S_REGION to POLYGON ICRS  179.999611282 -0.000032303 180.000928190 -0.000032303 180.000928190 0.000077161 179.999611282 0.000077161\n",
      "2021-01-25 10:52:27,110 - stpipe.Spec2Pipeline.resample_spec - INFO - Step resample_spec done\n",
      "2021-01-25 10:52:27,174 - stpipe.Spec2Pipeline.extract_1d - INFO - Step extract_1d running with args (<SlitModel(387, 44) from miri_lrs_slit_pt_nod2_v2_cal.fits>,).\n",
      "2021-01-25 10:52:27,176 - stpipe.Spec2Pipeline.extract_1d - INFO - Step extract_1d parameters are: {'pre_hooks': [], 'post_hooks': [], 'output_file': None, 'output_dir': None, 'output_ext': '.fits', 'output_use_model': False, 'output_use_index': True, 'save_results': False, 'skip': True, 'suffix': 'x1d', 'search_output_file': True, 'input_dir': '', 'smoothing_length': None, 'bkg_order': None, 'log_increment': 50, 'subtract_background': None, 'use_source_posn': None, 'apply_apcorr': True}\n",
      "2021-01-25 10:52:27,176 - stpipe.Spec2Pipeline.extract_1d - INFO - Step skipped.\n",
      "2021-01-25 10:52:27,177 - stpipe.Spec2Pipeline.extract_1d - INFO - Step extract_1d done\n",
      "2021-01-25 10:52:27,178 - stpipe.Spec2Pipeline - INFO - Finished processing product miri_lrs_slit_pt_nod2_v2.3\n",
      "2021-01-25 10:52:27,179 - stpipe.Spec2Pipeline - INFO - Ending calwebb_spec2\n",
      "2021-01-25 10:52:27,180 - stpipe.Spec2Pipeline - INFO - Step Spec2Pipeline done\n"
     ]
    },
    {
     "name": "stdout",
     "output_type": "stream",
     "text": [
      "[<ImageModel(1024, 1032) from miri_lrs_slit_pt_nod1_v2_cal.fits>, <ImageModel(1024, 1032) from miri_lrs_slit_pt_nod2_v2_cal.fits>]\n"
     ]
    }
   ],
   "source": [
    "pipe2 = Spec2Pipeline()\n",
    "pipe2.flat_field.save_results = True\n",
    "pipe2.extract_1d.skip= True\n",
    "\n",
    "sp2 = pipe2('sp2-lrs-slit-test_asn.json')\n",
    "print(sp2)\n"
   ]
  },
  {
   "cell_type": "code",
   "execution_count": 13,
   "metadata": {},
   "outputs": [
    {
     "name": "stderr",
     "output_type": "stream",
     "text": [
      "2021-01-25 10:53:27,155 - stpipe - WARNING - /Users/skendrew/anaconda3/envs/jwst0.17.1/lib/python3.8/site-packages/ipykernel/ipkernel.py:283: DeprecationWarning: `should_run_async` will not call `transform_cell` automatically in the future. Please pass the result to `transformed_cell` argument and any exception that happen during thetransform in `preprocessing_exc_tuple` in IPython 7.17 and above.\n",
      "  and should_run_async(code)\n",
      "\n"
     ]
    },
    {
     "name": "stdout",
     "output_type": "stream",
     "text": [
      "Bounding box for miri_lrs_slit_pt_nod1_v2_cal.fits: ((302.5, 346.5), (6.5, 396.5))\n",
      "Bounding box for miri_lrs_slit_pt_nod2_v2_cal.fits: ((302.5, 346.5), (6.5, 396.5))\n"
     ]
    }
   ],
   "source": [
    "for ss in sp2:\n",
    "    print('Bounding box for {0}: {1}'.format(ss.meta.filename, ss.meta.wcs.bounding_box))\n",
    "    #bbox_w = photom_nod1.meta.wcs.bounding_box[0][1] - photom_nod1.meta.wcs.bounding_box[0][0]\n",
    "    #bbox_ht = photom_nod1.meta.wcs.bounding_box[1][1] - photom_nod1.meta.wcs.bounding_box[1][0]\n"
   ]
  },
  {
   "cell_type": "code",
   "execution_count": 14,
   "metadata": {},
   "outputs": [
    {
     "data": {
      "text/plain": [
       "(6.5, 396.5)"
      ]
     },
     "execution_count": 14,
     "metadata": {},
     "output_type": "execute_result"
    },
    {
     "data": {
      "image/png": "[encoded data removed]",
      "text/plain": [
       "<Figure size 864x720 with 2 Axes>"
      ]
     },
     "metadata": {
      "needs_background": "light"
     },
     "output_type": "display_data"
    }
   ],
   "source": [
    "fig, ax = plt.subplots(nrows=1, ncols=2, figsize=[12,10])\n",
    "ax[0].imshow(sp2[0].data, origin='lower', aspect='equal', interpolation='None')\n",
    "ax[0].set_title('Nod 1')\n",
    "ax[0].set_xlim([sp2[0].meta.wcs.bounding_box[0][0], sp2[0].meta.wcs.bounding_box[0][1]])\n",
    "ax[0].set_ylim([sp2[0].meta.wcs.bounding_box[1][0], sp2[0].meta.wcs.bounding_box[1][1]])\n",
    "\n",
    "ax[1].imshow(sp2[1].data, origin='lower', aspect='equal', interpolation='None')\n",
    "ax[1].set_title('Nod 2')\n",
    "ax[1].set_xlim([sp2[1].meta.wcs.bounding_box[0][0], sp2[1].meta.wcs.bounding_box[0][1]])\n",
    "ax[1].set_ylim([sp2[1].meta.wcs.bounding_box[1][0], sp2[1].meta.wcs.bounding_box[1][1]])\n",
    "\n"
   ]
  },
  {
   "cell_type": "markdown",
   "metadata": {},
   "source": [
    "## Checking the Photom() output\n",
    "\n",
    "We retrieve the reference file from crds and use that to perform an arithmetic check that the calibration step is correctly implemented at 5 randomly chosen test locations in the bounding box. We also perform a check that the WCS information is consistent between the nods."
   ]
  },
  {
   "cell_type": "code",
   "execution_count": 15,
   "metadata": {},
   "outputs": [
    {
     "name": "stderr",
     "output_type": "stream",
     "text": [
      "2021-01-25 10:54:00,538 - stpipe - WARNING - <ipython-input-15-cb6a1a66f00a>:34: UserWarning: Matplotlib is currently using module://ipykernel.pylab.backend_inline, which is a non-GUI backend, so cannot show the figure.\n",
      "  ffig.show()\n",
      "\n"
     ]
    },
    {
     "name": "stdout",
     "output_type": "stream",
     "text": [
      "Point x    Point y   Wavelength\n",
      "********************************\n",
      "  317       290   8.700\n",
      "  317       250   9.780\n",
      "  310       225   10.383\n",
      "  334       310    8.089\n",
      "  340       200   10.939\n"
     ]
    },
    {
     "data": {
      "image/png": "[encoded data removed]",
      "text/plain": [
       "<Figure size 432x720 with 2 Axes>"
      ]
     },
     "metadata": {
      "needs_background": "light"
     },
     "output_type": "display_data"
    }
   ],
   "source": [
    "ffig = plt.figure(figsize=[6,10])\n",
    "print('Point x    Point y   Wavelength')\n",
    "print('********************************')\n",
    "\n",
    "point1 = (317,290)\n",
    "ra1, dec1, wave1 = sp2[0].meta.wcs(point1[0],point1[1])\n",
    "print('  {0}       {1}   {2:.3f}'.format(point1[0], point1[1], wave1))\n",
    "\n",
    "\n",
    "point2 = (317,250)\n",
    "ra2, dec2, wave2 = sp2[0].meta.wcs(point2[0],point2[1])\n",
    "print('  {0}       {1}   {2:.3f}'.format(point2[0], point2[1], wave2))\n",
    "point3 = (310,225)\n",
    "ra3, dec3, wave3 = sp2[0].meta.wcs(point3[0],point3[1])\n",
    "print('  {0}       {1}   {2:.3f}'.format(point3[0], point3[1], wave3))\n",
    "point4 = (334,310)\n",
    "ra4, dec4, wave4 = sp2[0].meta.wcs(point4[0],point4[1])\n",
    "print('  {0}       {1}    {2:.3f}'.format(point4[0], point4[1], wave4))\n",
    "point5 = (340,200)\n",
    "ra5, dec5, wave5 = sp2[0].meta.wcs(point5[0],point5[1])\n",
    "print('  {0}       {1}   {2:.3f}'.format(point5[0], point5[1], wave5))\n",
    "plt.imshow(sp2[0].data, origin='lower', aspect='equal')\n",
    "\n",
    "xpts = [point1[0], point2[0], point3[0], point4[0], point5[0]]\n",
    "ypts = [point1[1], point2[1], point3[1], point4[1], point5[1]]\n",
    "\n",
    "\n",
    "plt.xlim([sp2[0].meta.wcs.bounding_box[0][0], sp2[0].meta.wcs.bounding_box[0][1]])\n",
    "plt.ylim([sp2[0].meta.wcs.bounding_box[1][0], sp2[0].meta.wcs.bounding_box[1][1]])\n",
    "\n",
    "\n",
    "plt.scatter([point1[0],point2[0],point3[0],point4[0],point5[0]],[point1[1],point2[1],point3[1],point4[1],point5[1]], color='yellow', marker='.')\n",
    "plt.colorbar()\n",
    "ffig.show()\n",
    "\n",
    "waves = [wave1, wave2, wave3, wave4, wave5]"
   ]
  },
  {
   "cell_type": "code",
   "execution_count": 16,
   "metadata": {},
   "outputs": [
    {
     "name": "stderr",
     "output_type": "stream",
     "text": [
      "2021-01-25 11:00:21,831 - stpipe - WARNING - <ipython-input-16-22a15362a6a6>:17: UserWarning: Matplotlib is currently using module://ipykernel.pylab.backend_inline, which is a non-GUI backend, so cannot show the figure.\n",
      "  ffig.show()\n",
      "\n"
     ]
    },
    {
     "data": {
      "image/png": "[encoded data removed]",
      "text/plain": [
       "<Figure size 432x720 with 2 Axes>"
      ]
     },
     "metadata": {
      "needs_background": "light"
     },
     "output_type": "display_data"
    }
   ],
   "source": [
    "ffig = plt.figure(figsize=[6,10])\n",
    "plt.imshow(sp2[1].data, origin='lower', aspect='equal')\n",
    "plt.scatter([point1[0],point2[0],point3[0],point4[0],point5[0]],[point1[1],point2[1],point3[1],point4[1],point5[1]], color='yellow', marker='.')\n",
    "#[317,317,310,334,340],[290,250,225,310,200]\n",
    "plt.xlim([sp2[1].meta.wcs.bounding_box[0][0], sp2[1].meta.wcs.bounding_box[0][1]])\n",
    "plt.ylim([sp2[1].meta.wcs.bounding_box[1][0], sp2[1].meta.wcs.bounding_box[1][1]])\n",
    "plt.colorbar()\n",
    "\n",
    "ra21, dec21, wave2_1 = sp2[1].meta.wcs(point1[0],point1[1])\n",
    "ra22, dec22, wave2_2 = sp2[1].meta.wcs(point2[0],point2[1])\n",
    "ra23, dec23, wave2_3 = sp2[1].meta.wcs(point3[0],point3[1])\n",
    "ra24, dec24, wave2_4 = sp2[1].meta.wcs(point4[0],point4[1])\n",
    "ra25, dec25, wave2_5 = sp2[1].meta.wcs(point5[0],point5[1])\n",
    "\n",
    "waves2 = [wave2_1, wave2_2, wave2_3, wave2_4, wave2_5]\n",
    "\n",
    "ffig.show()\n",
    "\n"
   ]
  },
  {
   "cell_type": "markdown",
   "metadata": {},
   "source": [
    "Check that the WCS information matches for both nods."
   ]
  },
  {
   "cell_type": "code",
   "execution_count": 17,
   "metadata": {},
   "outputs": [],
   "source": [
    "assert(ww1 == ww2 for ww1, ww2 in zip(waves, waves2)), \"wavelengths for points points don't match between nods\""
   ]
  },
  {
   "cell_type": "markdown",
   "metadata": {},
   "source": [
    "Now we will check the photometric calibration arithmetic.\n",
    "\n",
    "**Reminder** : The photom reference file contains a few single values, and then some columns. Amongst the initial single values is 'photmjsr', which is a conversion factor from DN/s to MJy/sr (reffile.phot_table['photmjsr']. Then there are wavelength and relresponse columns, which determine the wavelength-dependent part of the spectral response. At each given pixel, the DN/s slope value in the flat file output file is multiplied by a conversion factor conv_factor, where conv_factor = reffile.phot_table['photmjsr'] * reffile.phot_table['relresponse'] (wave)"
   ]
  },
  {
   "cell_type": "code",
   "execution_count": 18,
   "metadata": {},
   "outputs": [
    {
     "name": "stdout",
     "output_type": "stream",
     "text": [
      "['crds://jwst_miri_photom_0072.fits', 'crds://jwst_miri_photom_0072.fits']\n"
     ]
    }
   ],
   "source": [
    "reffile = [ss.meta.ref_file.photom.name for ss in sp2]\n",
    "print(reffile)\n",
    "assert reffile[0]==reffile[1], \"Nods do not use the same Photom reference file\"\n",
    "\n",
    "# if this test passes and both nods use the same ref file, then just load in once and use for both.\n",
    "basename = crds.core.config.pop_crds_uri(reffile[0])\n",
    "filepath = crds.locate_file(basename, \"jwst\")\n",
    "ref =  datamodels.open(filepath)"
   ]
  },
  {
   "cell_type": "code",
   "execution_count": 19,
   "metadata": {},
   "outputs": [
    {
     "data": {
      "image/png": "[encoded data removed]",
      "text/plain": [
       "<Figure size 576x576 with 1 Axes>"
      ]
     },
     "metadata": {
      "needs_background": "light"
     },
     "output_type": "display_data"
    }
   ],
   "source": [
    "f = interpolate.interp1d(ref.phot_table['wavelength'][0,:], ref.phot_table['relresponse'][0,:])\n",
    "iresp = [f(ww) for ww in waves]\n",
    "\n",
    "# plot for sanity check!\n",
    "plt.figure(figsize=[8,8])\n",
    "plt.plot(ref.phot_table['wavelength'][0,:], ref.phot_table['relresponse'][0,:])\n",
    "plt.plot(waves, iresp, 'rx', label='interpolated points')\n",
    "plt.show()"
   ]
  },
  {
   "cell_type": "markdown",
   "metadata": {},
   "source": [
    "Now create the list of conversion factors for each of these points."
   ]
  },
  {
   "cell_type": "code",
   "execution_count": 20,
   "metadata": {},
   "outputs": [
    {
     "name": "stderr",
     "output_type": "stream",
     "text": [
      "2021-01-25 11:01:14,629 - stpipe - WARNING - /Users/skendrew/anaconda3/envs/jwst0.17.1/lib/python3.8/site-packages/ipykernel/ipkernel.py:283: DeprecationWarning: `should_run_async` will not call `transform_cell` automatically in the future. Please pass the result to `transformed_cell` argument and any exception that happen during thetransform in `preprocessing_exc_tuple` in IPython 7.17 and above.\n",
      "  and should_run_async(code)\n",
      "\n"
     ]
    },
    {
     "name": "stdout",
     "output_type": "stream",
     "text": [
      "[99.16736187311675, 149.3253436135427, 200.79434236498608, 90.11472248476873, 297.6782481253979]\n"
     ]
    }
   ],
   "source": [
    "fconv = [ref.phot_table['photmjsr'][0] * ir for ir in iresp]\n",
    "print(fconv)\n",
    "\n"
   ]
  },
  {
   "cell_type": "markdown",
   "metadata": {},
   "source": [
    "In the next cell we check that these conversion factors match the ratio of the flat fielded data and the photom-calibrated data at the location of our chosen points."
   ]
  },
  {
   "cell_type": "code",
   "execution_count": 21,
   "metadata": {},
   "outputs": [
    {
     "name": "stdout",
     "output_type": "stream",
     "text": [
      "['miri_lrs_slit_pt_nod2_v2_flat_field.fits', 'miri_lrs_slit_pt_nod1_v2_flat_field.fits']\n",
      "/Users/skendrew/jwst_pipeline/jwst_validation_notebooks/jwst_validation_notebooks/photom/miri_lrs_slit_pt_nod2_v2.3.fits\n",
      "['miri_lrs_slit_pt_nod1_v2_cal.fits', 'miri_lrs_slit_pt_nod2_v2_cal.fits']\n",
      "['miri_lrs_slit_pt_nod1_v2_flat_field.fits', 'miri_lrs_slit_pt_nod2_v2_flat_field.fits']\n"
     ]
    }
   ],
   "source": [
    "ff_files = glob.glob('*flat_field.fits')\n",
    "print(ff_files)\n",
    "flat = []\n",
    "\n",
    "for f in ff_files:\n",
    "    ffs = datamodels.open(f)\n",
    "    flat.append(ffs)\n",
    "\n",
    "print(ff)\n",
    "    \n",
    "# make sure we are combining the right nods for both files\n",
    "if 'nod1' in sp2[0].meta.filename:\n",
    "    if 'nod2' in ff_files[0]:\n",
    "        flat.reverse()\n",
    "\n",
    "if 'nod2' in sp2[0].meta.filename:\n",
    "    if 'nod1' in ff_files[0]:\n",
    "        flat.reverse()\n",
    "\n",
    "print([ss.meta.filename for ss in sp2])\n",
    "print([fff.meta.filename for fff in flat])\n",
    "\n",
    "\n",
    "\n"
   ]
  },
  {
   "cell_type": "code",
   "execution_count": 22,
   "metadata": {},
   "outputs": [
    {
     "name": "stderr",
     "output_type": "stream",
     "text": [
      "2021-01-25 11:02:14,454 - stpipe - WARNING - /Users/skendrew/anaconda3/envs/jwst0.17.1/lib/python3.8/site-packages/ipykernel/ipkernel.py:283: DeprecationWarning: `should_run_async` will not call `transform_cell` automatically in the future. Please pass the result to `transformed_cell` argument and any exception that happen during thetransform in `preprocessing_exc_tuple` in IPython 7.17 and above.\n",
      "  and should_run_async(code)\n",
      "\n",
      "2021-01-25 11:02:14,571 - stpipe - WARNING - <ipython-input-22-d239f47e81f0>:17: UserWarning: Matplotlib is currently using module://ipykernel.pylab.backend_inline, which is a non-GUI backend, so cannot show the figure.\n",
      "  fig.show()\n",
      "\n"
     ]
    },
    {
     "name": "stdout",
     "output_type": "stream",
     "text": [
      "((302.5, 346.5), (6.5, 396.5))\n"
     ]
    },
    {
     "data": {
      "image/png": "[encoded data removed]",
      "text/plain": [
       "<Figure size 432x288 with 1 Axes>"
      ]
     },
     "metadata": {
      "needs_background": "light"
     },
     "output_type": "display_data"
    }
   ],
   "source": [
    "x,y = grid_from_bounding_box(flat[0].meta.wcs.bounding_box)\n",
    "ra, dec, lam = flat[0].meta.wcs(x, y)\n",
    "\n",
    "lam_vec = np.mean(lam, axis=1)\n",
    "\n",
    "print(flat[0].meta.wcs.bounding_box)\n",
    "\n",
    "flat_test = flat[0].data[6:396, :]\n",
    "pho_test = sp2[0].data[6:396, :]\n",
    "\n",
    "fig = plt.figure()\n",
    "plt.plot(lam_vec, pho_test[:,318])\n",
    "#plt.plot(lam_vec, flat_test[:,318])\n",
    "plt.title('LRS slit test, calibrated')\n",
    "plt.ylabel('MJy/sr')\n",
    "plt.savefig('photom_slit_test_cal.png')\n",
    "fig.show()\n"
   ]
  },
  {
   "cell_type": "code",
   "execution_count": 23,
   "metadata": {},
   "outputs": [
    {
     "name": "stderr",
     "output_type": "stream",
     "text": [
      "2021-01-25 11:02:35,306 - stpipe - WARNING - /Users/skendrew/anaconda3/envs/jwst0.17.1/lib/python3.8/site-packages/ipykernel/ipkernel.py:283: DeprecationWarning: `should_run_async` will not call `transform_cell` automatically in the future. Please pass the result to `transformed_cell` argument and any exception that happen during thetransform in `preprocessing_exc_tuple` in IPython 7.17 and above.\n",
      "  and should_run_async(code)\n",
      "\n"
     ]
    },
    {
     "name": "stdout",
     "output_type": "stream",
     "text": [
      "Ratio of data points     Calculated conversion factor\n",
      "99.16736                99.16736\n",
      "149.32535                149.32534\n",
      "200.79434                200.79434\n",
      "90.11472                90.11472\n",
      "297.67825                297.67825\n"
     ]
    }
   ],
   "source": [
    "dratio = [sp2[0].data[yy,xx]/flat[0].data[yy,xx] for xx,yy in zip(xpts, ypts)]\n",
    "\n",
    "# print these numbers next to each other to see if they match\n",
    "print('Ratio of data points     Calculated conversion factor')\n",
    "for rr, ff in zip(dratio, fconv):\n",
    "    print('{0:.5f}                {1:.5f}'.format(rr,ff))\n",
    "    assert np.isclose(rr,ff, rtol=1e-6), \"Numbers don't match to within 1e-6\"\n",
    "\n",
    "\n"
   ]
  },
  {
   "cell_type": "markdown",
   "metadata": {},
   "source": [
    "Now check the same for Nod 2"
   ]
  },
  {
   "cell_type": "code",
   "execution_count": 24,
   "metadata": {},
   "outputs": [
    {
     "name": "stdout",
     "output_type": "stream",
     "text": [
      "Ratio of data points     Calculated conversion factor\n",
      "99.16736                99.16736\n",
      "149.32535                149.32534\n",
      "200.79434                200.79434\n",
      "90.11472                90.11472\n",
      "297.67825                297.67825\n"
     ]
    }
   ],
   "source": [
    "dratio2 = [sp2[1].data[yy,xx]/flat[1].data[yy,xx] for xx,yy in zip(xpts, ypts)]\n",
    "\n",
    "# print these numbers next to each other to see if they match\n",
    "print('Ratio of data points     Calculated conversion factor')\n",
    "for rr, ff in zip(dratio, fconv):\n",
    "    print('{0:.5f}                {1:.5f}'.format(rr,ff))\n",
    "    assert np.isclose(rr,ff, rtol=1e-6), \"Numbers don't match to within 1e-6\"\n",
    "\n"
   ]
  },
  {
   "cell_type": "markdown",
   "metadata": {},
   "source": [
    "If these tests return no AssertionErrors, the test has passed."
   ]
  },
  {
   "cell_type": "markdown",
   "metadata": {},
   "source": [
    "Authors:\n",
    "* K. Murray, kmurray@stsci.edu, MIRI Branch\n",
    "* S. Kendrew, ssarah.kendrew@esa.int, ESA/MIRI Branch\n",
    "\n",
    "Last updated:\n",
    "Jan 14th 2021"
   ]
  },
  {
   "cell_type": "code",
   "execution_count": null,
   "metadata": {},
   "outputs": [],
   "source": []
  }
 ],
 "metadata": {
  "kernelspec": {
   "display_name": "Python 3",
   "language": "python",
   "name": "python3"
  },
  "language_info": {
   "codemirror_mode": {
    "name": "ipython",
    "version": 3
   },
   "file_extension": ".py",
   "mimetype": "text/x-python",
   "name": "python",
   "nbconvert_exporter": "python",
   "pygments_lexer": "ipython3",
   "version": "3.8.5"
  }
 },
 "nbformat": 4,
 "nbformat_minor": 4
}
